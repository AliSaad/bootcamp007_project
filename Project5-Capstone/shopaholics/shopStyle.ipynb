{
 "cells": [
  {
   "cell_type": "code",
   "execution_count": 1,
   "metadata": {
    "collapsed": true
   },
   "outputs": [],
   "source": [
    "import shopstyle"
   ]
  },
  {
   "cell_type": "code",
   "execution_count": 4,
   "metadata": {
    "collapsed": false
   },
   "outputs": [],
   "source": [
    "api = 'uid4289-37328983-38'\n",
    "shopStyle = shopstyle.ShopStyle(api)"
   ]
  },
  {
   "cell_type": "code",
   "execution_count": 8,
   "metadata": {
    "collapsed": false
   },
   "outputs": [],
   "source": [
    "b = shopStyle.search(\"REFORMATION - GEORGETTE WRAP MAXI DRESS - DARK GRAY\")\n"
   ]
  },
  {
   "cell_type": "code",
   "execution_count": 9,
   "metadata": {
    "collapsed": false
   },
   "outputs": [
    {
     "data": {
      "text/plain": [
       "{u'metadata': {u'category': {u'fullName': u'Evening Dresses',\n",
       "   u'id': u'evening-dresses',\n",
       "   u'localizedId': u'evening-dresses',\n",
       "   u'localizedIds': {u'de-DE': u'abendkleider',\n",
       "    u'en-AU': u'evening-dresses',\n",
       "    u'en-CA': u'evening-dresses',\n",
       "    u'en-GB': u'evening-dresses',\n",
       "    u'en-ME': u'evening-dresses',\n",
       "    u'en-US': u'evening-dresses',\n",
       "    u'fr-FR': u'robes-soiree',\n",
       "    u'ja-JP': u'\\u30d5\\u30a9\\u30fc\\u30de\\u30eb\\u30c9\\u30ec\\u30b9',\n",
       "    u'zh-CN': u'evening-dresses'},\n",
       "   u'name': u'Evening Dresses',\n",
       "   u'shortName': u'Evening'},\n",
       "  u'engine': u'LUCENE',\n",
       "  u'freeTextSearches': [u'REFORMATION - GEORGETTE WRAP MAXI DRESS - DARK GRAY'],\n",
       "  u'limit': 10,\n",
       "  u'offset': 0,\n",
       "  u'showColorFilter': True,\n",
       "  u'showConditionFilter': True,\n",
       "  u'showHeelHeightFilter': False,\n",
       "  u'showSizeFilter': True,\n",
       "  u'total': 1},\n",
       " u'products': [{u'alternateImages': [],\n",
       "   u'badges': [],\n",
       "   u'brand': {u'id': u'22931', u'name': u'Reformation'},\n",
       "   u'brandedName': u'Reformation Georgette Wrap Maxi Dress - Dark gray',\n",
       "   u'categories': [{u'fullName': u'Evening Dresses',\n",
       "     u'id': u'evening-dresses',\n",
       "     u'localizedId': u'evening-dresses',\n",
       "     u'name': u'Evening Dresses',\n",
       "     u'shortName': u'Evening'}],\n",
       "   u'clickUrl': u'https://api.shopstyle.com/action/apiVisitRetailer?id=608114946&pid=uid4289-37328983-38',\n",
       "   u'colors': [{u'canonicalColors': [{u'id': u'14', u'name': u'Gray'}],\n",
       "     u'name': u'dark gray'}],\n",
       "   u'currency': u'USD',\n",
       "   u'description': u'EXCLUSIVE AT NET-A-PORTER.COM. Cult LA-based brand Reformation is committed to creating clothes that have a fraction of the environmental impact compared to conventional fashion. Made from georgette, this maxi dress has a wrap silhouette with fluttering ruffled sleeves and a plunge neckline. This floor-sweeping style is partially lined through the skirt for an opaque finish.',\n",
       "   u'extractDate': u'2016-01-26',\n",
       "   u'id': 608114946,\n",
       "   u'image': {u'id': u'cd6e52c5b3c6cbb0a3d2f495a99bc41d',\n",
       "    u'sizes': {u'Best': {u'actualHeight': 585,\n",
       "      u'actualWidth': 200,\n",
       "      u'height': 900,\n",
       "      u'sizeName': u'Best',\n",
       "      u'url': u'https://img.shopstyle-cdn.com/pim/cd/6e/cd6e52c5b3c6cbb0a3d2f495a99bc41d_best.jpg',\n",
       "      u'width': 720},\n",
       "     u'IPhone': {u'actualHeight': 360,\n",
       "      u'actualWidth': 123,\n",
       "      u'height': 360,\n",
       "      u'sizeName': u'IPhone',\n",
       "      u'url': u'https://img.shopstyle-cdn.com/mim/cd/6e/cd6e52c5b3c6cbb0a3d2f495a99bc41d.jpg',\n",
       "      u'width': 288},\n",
       "     u'IPhoneSmall': {u'actualHeight': 125,\n",
       "      u'actualWidth': 43,\n",
       "      u'height': 125,\n",
       "      u'sizeName': u'IPhoneSmall',\n",
       "      u'url': u'https://img.shopstyle-cdn.com/mim/cd/6e/cd6e52c5b3c6cbb0a3d2f495a99bc41d_small.jpg',\n",
       "      u'width': 100},\n",
       "     u'Large': {u'actualHeight': 205,\n",
       "      u'actualWidth': 70,\n",
       "      u'height': 205,\n",
       "      u'sizeName': u'Large',\n",
       "      u'url': u'https://img.shopstyle-cdn.com/sim/cd/6e/cd6e52c5b3c6cbb0a3d2f495a99bc41d/reformation-georgette-wrap-maxi-dress-dark-gray.jpg',\n",
       "      u'width': 164},\n",
       "     u'Medium': {u'actualHeight': 140,\n",
       "      u'actualWidth': 48,\n",
       "      u'height': 140,\n",
       "      u'sizeName': u'Medium',\n",
       "      u'url': u'https://img.shopstyle-cdn.com/sim/cd/6e/cd6e52c5b3c6cbb0a3d2f495a99bc41d_medium/reformation-georgette-wrap-maxi-dress-dark-gray.jpg',\n",
       "      u'width': 112},\n",
       "     u'Original': {u'actualHeight': 585,\n",
       "      u'actualWidth': 200,\n",
       "      u'sizeName': u'Original',\n",
       "      u'url': u'https://img.shopstyle-cdn.com/pim/cd/6e/cd6e52c5b3c6cbb0a3d2f495a99bc41d_best.jpg'},\n",
       "     u'Small': {u'actualHeight': 40,\n",
       "      u'actualWidth': 14,\n",
       "      u'height': 40,\n",
       "      u'sizeName': u'Small',\n",
       "      u'url': u'https://img.shopstyle-cdn.com/pim/cd/6e/cd6e52c5b3c6cbb0a3d2f495a99bc41d_small.jpg',\n",
       "      u'width': 32},\n",
       "     u'XLarge': {u'actualHeight': 410,\n",
       "      u'actualWidth': 140,\n",
       "      u'height': 410,\n",
       "      u'sizeName': u'XLarge',\n",
       "      u'url': u'https://img.shopstyle-cdn.com/pim/cd/6e/cd6e52c5b3c6cbb0a3d2f495a99bc41d_xlarge.jpg',\n",
       "      u'width': 328}}},\n",
       "   u'inStock': True,\n",
       "   u'locale': u'en_US',\n",
       "   u'name': u'Reformation - Georgette Wrap Maxi Dress - Dark gray',\n",
       "   u'preOwned': False,\n",
       "   u'price': 330.0,\n",
       "   u'priceLabel': u'$330',\n",
       "   u'promotionalDeal': {u'endDate': {u'date': u'2016-12-14',\n",
       "     u'friendly': u'Tue, Dec 13',\n",
       "     u'timestamp': 1481698740},\n",
       "    u'id': 289953,\n",
       "    u'retailer': {u'deeplinkSupport': True,\n",
       "     u'hostDomain': u'net-a-porter.com',\n",
       "     u'id': u'27',\n",
       "     u'name': u'NET-A-PORTER.COM'},\n",
       "    u'shortTitle': u'Free 3-day Shipping',\n",
       "    u'startDate': {u'date': u'2015-12-14',\n",
       "     u'friendly': u'Dec 14, 2015',\n",
       "     u'timestamp': 1450076400},\n",
       "    u'title': u'Free 3-day Shipping',\n",
       "    u'type': u'FreeShipping',\n",
       "    u'typeLabel': u'FREE SHIPPING'},\n",
       "   u'rental': False,\n",
       "   u'retailer': {u'id': u'27', u'name': u'NET-A-PORTER.COM'},\n",
       "   u'seeMoreLabel': u'Reformation Evening Dresses',\n",
       "   u'sizes': [{u'canonicalSize': {u'id': u'81', u'name': u'XS (2)'},\n",
       "     u'name': u'x small'},\n",
       "    {u'canonicalSize': {u'id': u'83', u'name': u'S (4-6)'}, u'name': u'small'},\n",
       "    {u'canonicalSize': {u'id': u'85', u'name': u'M (8-10)'},\n",
       "     u'name': u'medium'},\n",
       "    {u'canonicalSize': {u'id': u'87', u'name': u'L (12-14)'},\n",
       "     u'name': u'large'},\n",
       "    {u'canonicalSize': {u'id': u'89', u'name': u'XL (16-18)'},\n",
       "     u'name': u'x large'}],\n",
       "   u'stock': [{u'color': {u'name': u'dark gray'},\n",
       "     u'size': {u'name': u'small'}},\n",
       "    {u'color': {u'name': u'dark gray'}, u'size': {u'name': u'x small'}},\n",
       "    {u'color': {u'name': u'dark gray'}, u'size': {u'name': u'x large'}},\n",
       "    {u'color': {u'name': u'dark gray'}, u'size': {u'name': u'medium'}},\n",
       "    {u'color': {u'name': u'dark gray'}, u'size': {u'name': u'large'}}],\n",
       "   u'unbrandedName': u'Georgette Wrap Maxi Dress - Dark gray'}]}"
      ]
     },
     "execution_count": 9,
     "metadata": {},
     "output_type": "execute_result"
    }
   ],
   "source": [
    "b"
   ]
  },
  {
   "cell_type": "code",
   "execution_count": null,
   "metadata": {
    "collapsed": true
   },
   "outputs": [],
   "source": []
  }
 ],
 "metadata": {
  "anaconda-cloud": {},
  "kernelspec": {
   "display_name": "Python [Root]",
   "language": "python",
   "name": "Python [Root]"
  },
  "language_info": {
   "codemirror_mode": {
    "name": "ipython",
    "version": 2
   },
   "file_extension": ".py",
   "mimetype": "text/x-python",
   "name": "python",
   "nbconvert_exporter": "python",
   "pygments_lexer": "ipython2",
   "version": "2.7.12"
  }
 },
 "nbformat": 4,
 "nbformat_minor": 0
}
