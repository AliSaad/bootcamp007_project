{
 "cells": [
  {
   "cell_type": "code",
   "execution_count": 6,
   "metadata": {
    "collapsed": false
   },
   "outputs": [],
   "source": [
    "# p5.t1.ipynb"
   ]
  },
  {
   "cell_type": "code",
   "execution_count": 1,
   "metadata": {
    "collapsed": true
   },
   "outputs": [],
   "source": [
    "import numpy as np\n",
    "import pandas as pd"
   ]
  },
  {
   "cell_type": "code",
   "execution_count": 1,
   "metadata": {
    "collapsed": false
   },
   "outputs": [],
   "source": [
    "def loadDataset(path=\"\"):\n",
    "\t\"\"\" To load the dataSet\"\n",
    "\t\tParameter: The folder where the data files are stored\n",
    "\t\tReturn: the dictionary with the data\n",
    "\t\"\"\"\n",
    "\t\n",
    "\t#Recover the titles of the books\n",
    "\tfbooks = open(path+\"books.1.csv\", 'w')\n",
    "\tbooks = {}\n",
    "\tfor line in open(path+\"BX-Books.csv\"):\n",
    "\t\tline = line.replace('\"', \"\")\n",
    "\t\tline = line.replace(\"\\\\\",\"\")\n",
    "\t\tline = line.replace(\"\\n\",\"\")        \n",
    "\t\t(id,title) = line.split(\";\") [0:2]\n",
    "\t\tbooks[id] = title\n",
    "\t\tfbooks.write(id + ',' + title + '\\n')       \n",
    "\tfbooks.close()    \n",
    "\t\n",
    "\t#Load the data\n",
    "\tprefs = {}\n",
    "\tcountVal = 0\n",
    "\tcountKey = 0\n",
    "\tfratings = open(path+\"ratings.1.csv\", 'w')\n",
    "\tfor line in open(path+\"BX-Book-Ratings.csv\"):\n",
    "\t\tline = line.replace('\"', \"\")\n",
    "\t\tline = line.replace(\"\\\\\",\"\")\n",
    "\t\tline = line.replace(\"\\n\",\"\")        \n",
    "\t\t(user,bookid,rating) = line.split(\";\")\n",
    "\t\ttry:\n",
    "\t\t\tif float(rating) > 0.0:\n",
    "\t\t\t\tfratings.write(user + ',' + bookid + ',' + rating + '\\n')                                \n",
    "\t\t\t\tprefs.setdefault(user,{})\n",
    "\t\t\t\tprefs[user][books[bookid]] = float(rating)\n",
    "\t\texcept ValueError:\n",
    "\t\t\tcountVal+=1\n",
    "#\t\t\tprint \"value error found! \" + user + bookid + rating\n",
    "\t\texcept KeyError:\n",
    "\t\t\tcountKey +=1\n",
    "#\t\t\tprint \"key error found! \" + user + \" \" + bookid\n",
    "\tprint countVal\n",
    "\tprint countKey\n",
    "\tfratings.close()    \n",
    "\t\n",
    "\treturn prefs\n",
    "\n",
    "\n",
    "from math import sqrt\n",
    "\n",
    "#Returns a distance-base similarity score for person1 and person2\n",
    "\n",
    "def sim_distance(prefs, person1, person2):\n",
    "\t#Get the list of shared_items\n",
    "\tsi = {}\n",
    "\tfor item in prefs[person1]:\n",
    "\t\tif item in prefs[person2]:\n",
    "\t\t\tsi[item] = 1\n",
    "\n",
    "\t#if they have no rating in common, return 0\n",
    "\tif len(si) == 0: \n",
    "\t\treturn 0\n",
    "\n",
    "\t#Add up the squares of all differences\n",
    "\tsum_of_squares = sum([pow(prefs[person1][item]-prefs[person2][item],2) for item in prefs[person1] if item in prefs[person2]])\n",
    "\n",
    "\treturn 1 / (1 + sum_of_squares)\n",
    "\n",
    "\n",
    "#Returns the Pearson correlation coefficient for p1 and p2 \n",
    "def sim_pearson(prefs,p1,p2):\n",
    "\t#Get the list of mutually rated items\n",
    "\tsi = {}\n",
    "\tfor item in prefs[p1]:\n",
    "\t\tif item in prefs[p2]: \n",
    "\t\t\tsi[item] = 1\n",
    "\n",
    "\t#if they are no rating in common, return 0\n",
    "\tif len(si) == 0:\n",
    "\t\treturn 0\n",
    "\n",
    "\t#sum calculations\n",
    "\tn = len(si)\n",
    "\n",
    "\t#sum of all preferences\n",
    "\tsum1 = sum([prefs[p1][it] for it in si])\n",
    "\tsum2 = sum([prefs[p2][it] for it in si])\n",
    "\n",
    "\t#Sum of the squares\n",
    "\tsum1Sq = sum([pow(prefs[p1][it],2) for it in si])\n",
    "\tsum2Sq = sum([pow(prefs[p2][it],2) for it in si])\n",
    "\n",
    "\t#Sum of the products\n",
    "\tpSum = sum([prefs[p1][it] * prefs[p2][it] for it in si])\n",
    "\n",
    "\t#Calculate r (Pearson score)\n",
    "\tnum = pSum - (sum1 * sum2/n)\n",
    "\tden = sqrt((sum1Sq - pow(sum1,2)/n) * (sum2Sq - pow(sum2,2)/n))\n",
    "\tif den == 0:\n",
    "\t\treturn 0\n",
    "\n",
    "\tr = num/den\n",
    "\n",
    "\treturn r\n",
    "\n",
    "#Returns the best matches for person from the prefs dictionary\n",
    "#Number of the results and similiraty function are optional params.\n",
    "def topMatches(prefs,person,n=5,similarity=sim_pearson):\n",
    "\tscores = [(similarity(prefs,person,other),other)\n",
    "\t\t\t\tfor other in prefs if other != person]\n",
    "\tscores.sort()\n",
    "\tscores.reverse()\n",
    "\treturn scores[0:n]\n",
    "\n",
    "\n",
    "#Gets recommendations for a person by using a weighted average\n",
    "#of every other user's rankings\n",
    "\n",
    "def getRecommendations(prefs,person,similarity=sim_pearson):\n",
    "\ttotals = {}\n",
    "\tsimSums = {}\n",
    "\n",
    "\tfor other in prefs:\n",
    "\t\t#don't compare me to myself\n",
    "\t\tif other == person:\n",
    "\t\t\tcontinue\n",
    "\t\tsim = similarity(prefs,person,other)\n",
    "\n",
    "\t\t#ignore scores of zero or lower\n",
    "\t\tif sim <= 0: \n",
    "\t\t\tcontinue\n",
    "\t\tfor item in prefs[other]:\n",
    "\t\t\t#only score books i haven't seen yet\n",
    "\t\t\tif item not in prefs[person] or prefs[person][item] == 0:\n",
    "\t\t\t\t#Similarity * score\n",
    "\t\t\t\ttotals.setdefault(item,0)\n",
    "\t\t\t\ttotals[item] += prefs[other][item] * sim\n",
    "\t\t\t\t#Sum of similarities\n",
    "\t\t\t\tsimSums.setdefault(item,0)\n",
    "\t\t\t\tsimSums[item] += sim\n",
    "\n",
    "\t#Create the normalized list\n",
    "\trankings = [(total/simSums[item],item) for item,total in totals.items()]\n",
    "\n",
    "\t#Return the sorted list\n",
    "\trankings.sort()\n",
    "\trankings.reverse()\n",
    "\treturn rankings\n",
    "\n",
    "\n",
    "#Function to transform Person, item - > Item, person\n",
    "def transformPrefs(prefs):\n",
    "\tresults = {}\n",
    "\tfor person in prefs:\n",
    "\t\tfor item in prefs[person]:\n",
    "\t\t\tresults.setdefault(item,{})\n",
    "\n",
    "\t\t\t#Flip item and person\n",
    "\t\t\tresults[item][person] = prefs[person][item]\n",
    "\treturn results\n"
   ]
  },
  {
   "cell_type": "code",
   "execution_count": 3,
   "metadata": {
    "collapsed": true
   },
   "outputs": [],
   "source": [
    "# line count\n",
    "# BX-Books.csv = 271,380\n",
    "#  books.1.csv = 271,380\n",
    "# BX-Book-Ratings.csv = 1,149,781\n",
    "#       ratings.1.csv =   433,671"
   ]
  },
  {
   "cell_type": "code",
   "execution_count": 2,
   "metadata": {
    "collapsed": false
   },
   "outputs": [
    {
     "name": "stdout",
     "output_type": "stream",
     "text": [
      "1\n",
      "49818\n"
     ]
    }
   ],
   "source": [
    "# Create a user preferences dictionary \n",
    "#\n",
    "# Only use BX-Books.csv and BX-Book-Ratings.csv\n",
    "# Only use \"ISBN\" and \"Book-Title\" from BX-Books.csv\n",
    "# Not use rating 0.\n",
    "# Users who bought book but did not provide rating (i.e. 0) do not appear in the dictionary. \n",
    "#\n",
    "prefs = loadDataset()"
   ]
  },
  {
   "cell_type": "code",
   "execution_count": 3,
   "metadata": {
    "collapsed": false
   },
   "outputs": [
    {
     "name": "stdout",
     "output_type": "stream",
     "text": [
      "prefs['98556'] :  {'Foundation (Foundation Novels (Paperback))': 7.0}\n",
      "prefs['180727'] :  {'Foundation (Foundation Novels (Paperback))': 3.0, 'Brave New World': 6.0, 'Jeeves in the morning (Perennial library)': 7.0, 'Foundation and Empire (Foundation Novels (Paperback))': 4.0, \"Foundation's Edge : The Foundation Novels (Foundation Novels (Paperback))\": 3.0, 'Second Foundation (Foundation Novels (Paperback))': 4.0}\n"
     ]
    },
    {
     "data": {
      "text/plain": [
       "False"
      ]
     },
     "execution_count": 3,
     "metadata": {},
     "output_type": "execute_result"
    }
   ],
   "source": [
    "len(prefs)\n",
    "print \"prefs['98556'] : \", prefs['98556']\n",
    "print \"prefs['180727'] : \", prefs['180727']\n",
    "prefs.has_key('276725') # first User_ID in BX-Book-Ratings.csv"
   ]
  },
  {
   "cell_type": "code",
   "execution_count": null,
   "metadata": {
    "collapsed": true
   },
   "outputs": [],
   "source": [
    "# sim_pearson and sim_pearson can be used to determine how similar the preferences of two users."
   ]
  },
  {
   "cell_type": "code",
   "execution_count": 4,
   "metadata": {
    "collapsed": false
   },
   "outputs": [
    {
     "data": {
      "text/plain": [
       "0.008"
      ]
     },
     "execution_count": 4,
     "metadata": {},
     "output_type": "execute_result"
    }
   ],
   "source": [
    "#recommendations.sim_distance(critics.critics,'180727', '177432')\n",
    "sim_distance(prefs,'180727', '177432')"
   ]
  },
  {
   "cell_type": "code",
   "execution_count": 5,
   "metadata": {
    "collapsed": false
   },
   "outputs": [
    {
     "data": {
      "text/plain": [
       "0.6622661785325219"
      ]
     },
     "execution_count": 5,
     "metadata": {},
     "output_type": "execute_result"
    }
   ],
   "source": [
    "#recommendations.sim_pearson(critics.critics,'180727', '177432')\n",
    "sim_pearson(prefs,'180727', '177432')"
   ]
  },
  {
   "cell_type": "code",
   "execution_count": null,
   "metadata": {
    "collapsed": true
   },
   "outputs": [],
   "source": [
    "# topMatches returns a sorted list of n users with similar preferences to a specified user.\n",
    "# We can choose the n and which distance function to use.\n",
    "#\n",
    "# may be we can use this to impute missing age!\n",
    "#"
   ]
  },
  {
   "cell_type": "code",
   "execution_count": 6,
   "metadata": {
    "collapsed": false
   },
   "outputs": [
    {
     "data": {
      "text/plain": [
       "[(1.0, '69721'),\n",
       " (1.0, '28667'),\n",
       " (1.0, '224646'),\n",
       " (1.0, '182212'),\n",
       " (1.0, '11676'),\n",
       " (0.5, '4157'),\n",
       " (0.5, '28729'),\n",
       " (0.5, '224650'),\n",
       " (0.5, '199616'),\n",
       " (0.5, '189139')]"
      ]
     },
     "execution_count": 6,
     "metadata": {},
     "output_type": "execute_result"
    }
   ],
   "source": [
    "#recommendations.topMatches(critics.critics,'98556',10,recommendations.sim_distance)\n",
    "topMatches(prefs,'98556',10,sim_distance)"
   ]
  },
  {
   "cell_type": "code",
   "execution_count": 7,
   "metadata": {
    "collapsed": false
   },
   "outputs": [
    {
     "data": {
      "text/plain": [
       "[(1.0, '189139'), (1.0, '11676'), (0.6622661785325219, '177432')]"
      ]
     },
     "execution_count": 7,
     "metadata": {},
     "output_type": "execute_result"
    }
   ],
   "source": [
    "#recommendations.topMatches(critics.critics,'180727', 3)\n",
    "topMatches(prefs,'180727', 3)"
   ]
  },
  {
   "cell_type": "code",
   "execution_count": null,
   "metadata": {
    "collapsed": true
   },
   "outputs": [],
   "source": [
    "# Next getRecommendations.  The article :\n",
    "# \n",
    "# Find someone similar to read recommendations is great, but generally what we really want is to make recommendation \n",
    "# of books not users. I could simply look to the user profile and seek for books the user likes and i haven't read \n",
    "# yet, but this it's not so clever. This approach could eventually result in a user that haven't done an evaluation \n",
    "# on books that i could like. It could also return a user that liked a movie that was badly evaluated (low rates) by \n",
    "# all other users returned by the topMatches. To solve those problems, you have to give rates to items using a \n",
    "# weighted average that can properly classify the evaluations. The implementation code for this items recommendation \n",
    "# is simple and work with both measure distances.\n",
    "# \n",
    "# The code of the function getRecommendations looks at each user except the one passed as parameter. It calculates \n",
    "# how similar the users are to the specified user and after looks at each item rated by those users. As result you \n",
    "# now have a classified books list and also a estimated rate that i would give for each book in it. This report \n",
    "# allows me to choose which book i want to read or not, or if i prefer to do other thing than read it. It's important\n",
    "# to notice that you can decide not to make recommendations if any result achieves a specified threshold by the user.\n",
    "#"
   ]
  },
  {
   "cell_type": "code",
   "execution_count": 9,
   "metadata": {
    "collapsed": false
   },
   "outputs": [
    {
     "data": {
      "text/plain": [
       "[(10.000000000000002, 'The Two Towers (The Lord of the Rings, Part 2)'),\n",
       " (10.000000000000002,\n",
       "  'The Return of the King (The Lord of the Rings, Part 3)'),\n",
       " (10.000000000000002, 'Hawaii')]"
      ]
     },
     "execution_count": 9,
     "metadata": {},
     "output_type": "execute_result"
    }
   ],
   "source": [
    "# recommendations.getRecommendations(critics.critics,'180727')[0:3]\n",
    "getRecommendations(prefs,'180727')[0:3]"
   ]
  },
  {
   "cell_type": "code",
   "execution_count": 10,
   "metadata": {
    "collapsed": false
   },
   "outputs": [
    {
     "data": {
      "text/plain": [
       "[(10.000000000000002, 'Dune'),\n",
       " (10.000000000000002, 'Best Friends'),\n",
       " (10.000000000000002, 'All Creatures Great and Small'),\n",
       " (10.000000000000002, 'A Christmas Carol (Dover Thrift Editions)')]"
      ]
     },
     "execution_count": 10,
     "metadata": {},
     "output_type": "execute_result"
    }
   ],
   "source": [
    "# recommendations.getRecommendations(critics.critics,'180727', \n",
    "#     similarity=recommendations.sim_distance)[0:4] \n",
    "getRecommendations(prefs,'180727', similarity=sim_distance)[0:4] "
   ]
  },
  {
   "cell_type": "code",
   "execution_count": null,
   "metadata": {
    "collapsed": true
   },
   "outputs": [],
   "source": [
    "# Not only we learn how to do recommendations for usres, given a book, we can also find similar books!  \n",
    "#\n",
    "# The article :\n",
    "# \n",
    "# Now we know how to find similar users and recommend items to a user, but how about finding similar items ?! \n",
    "# You see those recommendations at web stores in the internet, specially when the store hasn't collected many \n",
    "# information about your preferences. One of web stores that uses this type of recommendations is the Amazon \n",
    "# web store, as you can see it here.\n",
    "#\n",
    "# In this case, you can evaluate the similarity, searching for users that liked a particular item and seeing \n",
    "# others that appreciated in the same way. To do this, you can use the same functions defined earlier in this \n",
    "# article, the only change is to replace the users by items now. So you can find similar items to the specified \n",
    "# item.\n",
    "#\n",
    "# I provided a function transformPrefs to do that. It rebuilds the new dictionary now with the key value with \n",
    "# the book name and as values the pairs (user,rate).\n",
    "#"
   ]
  },
  {
   "cell_type": "code",
   "execution_count": 11,
   "metadata": {
    "collapsed": false
   },
   "outputs": [],
   "source": [
    "# Build a critics dictionary based on prefs dictionary\n",
    "#\n",
    "# critics = recommendations.transformPrefs(critics)\n",
    "critics = transformPrefs(prefs)"
   ]
  },
  {
   "cell_type": "code",
   "execution_count": 12,
   "metadata": {
    "collapsed": false
   },
   "outputs": [
    {
     "name": "stdout",
     "output_type": "stream",
     "text": [
      "77805\n",
      "135386\n"
     ]
    }
   ],
   "source": [
    "print len(prefs)\n",
    "print len(critics)"
   ]
  },
  {
   "cell_type": "code",
   "execution_count": 13,
   "metadata": {
    "collapsed": false
   },
   "outputs": [
    {
     "name": "stdout",
     "output_type": "stream",
     "text": [
      "True\n",
      "{'135458': 10.0, '127171': 10.0, '123430': 10.0, '220635': 8.0, '55492': 9.0, '144707': 10.0, '154658': 7.0, '251844': 8.0, '86552': 8.0, '37712': 10.0, '44852': 6.0, '39616': 8.0, '205843': 7.0, '26598': 10.0, '142256': 10.0, '171055': 10.0, '278160': 8.0, '242106': 10.0, '53174': 9.0, '229768': 10.0, '125701': 9.0, '68555': 10.0, '255655': 9.0, '142062': 9.0, '168245': 10.0, '136010': 7.0, '38590': 10.0, '32773': 9.0, '271558': 5.0, '43481': 9.0, '107951': 9.0, '240225': 10.0, '77749': 10.0, '23902': 7.0, '7082': 5.0, '94843': 9.0, '175636': 8.0, '259035': 10.0, '52853': 9.0, '156150': 8.0, '236757': 8.0, '12702': 10.0, '190448': 8.0, '105058': 9.0, '38081': 8.0, '59812': 7.0, '202738': 8.0, '78783': 10.0}\n",
      "[(1.0, 'Year of Wonders'), (1.0, 'Velvet Angel'), (1.0, 'Twice Loved'), (1.0, 'Trying to Save Piggy Sneed'), (1.0, 'The Zebra Wall')]\n"
     ]
    }
   ],
   "source": [
    "# The article:\n",
    "#\n",
    "# It's not so obvious that changing users to items it will lead to useful results, but in many cases it will make \n",
    "# possible to do interesting comparisons. Imagine a web store that collect buying historic profiles with the purpose \n",
    "# of recommend products to people in particular. Revert people to products, you can allow the system now recommend \n",
    "# users that could buy specific products. It's very useful when the marketing department of your company want to do \n",
    "# a great marketing effort to a big cut-off prices sales. Or it could be also be used to check if links recommended \n",
    "# show in a web page are really seen by users that have a great probability of liking them.\n",
    "#\n",
    "# recommendations.topMatches(critics,'Drums of Autumn')\n",
    "print critics.has_key('Drums of Autumn')\n",
    "if critics.has_key('Drums of Autumn') :\n",
    "   print critics['Drums of Autumn']\n",
    "   print topMatches(critics,'Drums of Autumn')"
   ]
  },
  {
   "cell_type": "code",
   "execution_count": 14,
   "metadata": {
    "collapsed": false
   },
   "outputs": [
    {
     "name": "stdout",
     "output_type": "stream",
     "text": [
      "False\n"
     ]
    }
   ],
   "source": [
    "print critics.has_key('Gone with the wind')\n",
    "if critics.has_key('Gone with the wind') :\n",
    "   print critics['Gone with the wind']\n",
    "   print topMatches(critics,'Gone with the wind')"
   ]
  },
  {
   "cell_type": "code",
   "execution_count": 15,
   "metadata": {
    "collapsed": false
   },
   "outputs": [
    {
     "data": {
      "text/plain": [
       "[(10.000000000000002, '92048'),\n",
       " (10.000000000000002, '211152'),\n",
       " (10.000000000000002, '198996'),\n",
       " (10.000000000000002, '156467'),\n",
       " (10.0, '99298')]"
      ]
     },
     "execution_count": 15,
     "metadata": {},
     "output_type": "execute_result"
    }
   ],
   "source": [
    "# Now given a book, we can advertise it to users who may want it :) sweet! \n",
    "#\n",
    "# The article:\n",
    "#\n",
    "# If you want to recommend specific people that have done the evaluation about a book. If you want to send \n",
    "# invitations to a book launch event ?!\n",
    "#\n",
    "# recommendations.getRecommendations(critics,'The Weight of Water')[0:5]\n",
    "getRecommendations(critics,'The Weight of Water')[0:5]"
   ]
  },
  {
   "cell_type": "code",
   "execution_count": null,
   "metadata": {
    "collapsed": true
   },
   "outputs": [],
   "source": []
  },
  {
   "cell_type": "code",
   "execution_count": null,
   "metadata": {
    "collapsed": true
   },
   "outputs": [],
   "source": []
  },
  {
   "cell_type": "code",
   "execution_count": null,
   "metadata": {
    "collapsed": true
   },
   "outputs": [],
   "source": [
    "#\n",
    "# I really like what the article show!\n",
    "#\n",
    "# However, it is not a PACKAGE, but just yet another distance calcaluator.  Is this what we want?  Let's talk.\n",
    "#"
   ]
  },
  {
   "cell_type": "code",
   "execution_count": null,
   "metadata": {
    "collapsed": true
   },
   "outputs": [],
   "source": []
  }
 ],
 "metadata": {
  "kernelspec": {
   "display_name": "Python 2",
   "language": "python",
   "name": "python2"
  },
  "language_info": {
   "codemirror_mode": {
    "name": "ipython",
    "version": 2
   },
   "file_extension": ".py",
   "mimetype": "text/x-python",
   "name": "python",
   "nbconvert_exporter": "python",
   "pygments_lexer": "ipython2",
   "version": "2.7.6"
  }
 },
 "nbformat": 4,
 "nbformat_minor": 0
}
