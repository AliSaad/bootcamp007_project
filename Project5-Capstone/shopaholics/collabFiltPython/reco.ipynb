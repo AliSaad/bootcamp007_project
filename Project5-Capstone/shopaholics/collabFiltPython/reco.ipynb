{
 "cells": [
  {
   "cell_type": "code",
   "execution_count": 2,
   "metadata": {
    "collapsed": false
   },
   "outputs": [],
   "source": [
    "import graphlab as gl\n",
    "import pandas as pd\n",
    "import numpy as np"
   ]
  },
  {
   "cell_type": "code",
   "execution_count": 3,
   "metadata": {
    "collapsed": true
   },
   "outputs": [],
   "source": [
    "bookRatingsFile = \"../BX-CSV-Dump/ratingsCleanedWithoutZeroes.csv\""
   ]
  },
  {
   "cell_type": "code",
   "execution_count": 4,
   "metadata": {
    "collapsed": false,
    "scrolled": true
   },
   "outputs": [
    {
     "name": "stdout",
     "output_type": "stream",
     "text": [
      "This non-commercial license of GraphLab Create for academic use is assigned to valle.chris@gmail.com and will expire on December 15, 2017.\n"
     ]
    },
    {
     "name": "stderr",
     "output_type": "stream",
     "text": [
      "[INFO] graphlab.cython.cy_server: GraphLab Create v2.1 started. Logging: /tmp/graphlab_server_1481920914.log\n"
     ]
    },
    {
     "data": {
      "text/html": [
       "<pre>Unable to parse line \"31315;0679751602;0\"</pre>"
      ],
      "text/plain": [
       "Unable to parse line \"31315;0679751602;0\""
      ]
     },
     "metadata": {},
     "output_type": "display_data"
    },
    {
     "data": {
      "text/html": [
       "<pre>Unable to parse line \"60397;0743437640;8\"</pre>"
      ],
      "text/plain": [
       "Unable to parse line \"60397;0743437640;8\""
      ]
     },
     "metadata": {},
     "output_type": "display_data"
    },
    {
     "data": {
      "text/html": [
       "<pre>Unable to parse line \"123597;0446381934;8\"</pre>"
      ],
      "text/plain": [
       "Unable to parse line \"123597;0446381934;8\""
      ]
     },
     "metadata": {},
     "output_type": "display_data"
    },
    {
     "data": {
      "text/html": [
       "<pre>Unable to parse line \"93426;0345351452;0\"</pre>"
      ],
      "text/plain": [
       "Unable to parse line \"93426;0345351452;0\""
      ]
     },
     "metadata": {},
     "output_type": "display_data"
    },
    {
     "data": {
      "text/html": [
       "<pre>Unable to parse line \"151806;0552991260;9\"</pre>"
      ],
      "text/plain": [
       "Unable to parse line \"151806;0552991260;9\""
      ]
     },
     "metadata": {},
     "output_type": "display_data"
    },
    {
     "data": {
      "text/html": [
       "<pre>Unable to parse line \"31315;067976402X;0\"</pre>"
      ],
      "text/plain": [
       "Unable to parse line \"31315;067976402X;0\""
      ]
     },
     "metadata": {},
     "output_type": "display_data"
    },
    {
     "data": {
      "text/html": [
       "<pre>Unable to parse line \"60400;006440174X;6\"</pre>"
      ],
      "text/plain": [
       "Unable to parse line \"60400;006440174X;6\""
      ]
     },
     "metadata": {},
     "output_type": "display_data"
    },
    {
     "data": {
      "text/html": [
       "<pre>Unable to parse line \"123597;0446519138;7\"</pre>"
      ],
      "text/plain": [
       "Unable to parse line \"123597;0446519138;7\""
      ]
     },
     "metadata": {},
     "output_type": "display_data"
    },
    {
     "data": {
      "text/html": [
       "<pre>Unable to parse line \"151806;0552994391;0\"</pre>"
      ],
      "text/plain": [
       "Unable to parse line \"151806;0552994391;0\""
      ]
     },
     "metadata": {},
     "output_type": "display_data"
    },
    {
     "data": {
      "text/html": [
       "<pre>Unable to parse line \"93426;0345362322;0\"</pre>"
      ],
      "text/plain": [
       "Unable to parse line \"93426;0345362322;0\""
      ]
     },
     "metadata": {},
     "output_type": "display_data"
    },
    {
     "data": {
      "text/html": [
       "<pre>Unable to parse line \"31315;0679781587;0\"</pre>"
      ],
      "text/plain": [
       "Unable to parse line \"31315;0679781587;0\""
      ]
     },
     "metadata": {},
     "output_type": "display_data"
    },
    {
     "data": {
      "text/html": [
       "<pre>Unable to parse line \"60400;0156628708;4\"</pre>"
      ],
      "text/plain": [
       "Unable to parse line \"60400;0156628708;4\""
      ]
     },
     "metadata": {},
     "output_type": "display_data"
    },
    {
     "data": {
      "text/html": [
       "<pre>Unable to parse line \"123597;0452011191;7\"</pre>"
      ],
      "text/plain": [
       "Unable to parse line \"123597;0452011191;7\""
      ]
     },
     "metadata": {},
     "output_type": "display_data"
    },
    {
     "data": {
      "text/html": [
       "<pre>655971 lines failed to parse correctly</pre>"
      ],
      "text/plain": [
       "655971 lines failed to parse correctly"
      ]
     },
     "metadata": {},
     "output_type": "display_data"
    },
    {
     "data": {
      "text/html": [
       "<pre>Finished parsing file /Users/chrisanalytics/iCloud Drive (Archive)/Desktop/bootcamp007_project/Project5-Capstone/shopaholics/BX-CSV-Dump/ratingsCleanedWithoutZeroes.csv</pre>"
      ],
      "text/plain": [
       "Finished parsing file /Users/chrisanalytics/iCloud Drive (Archive)/Desktop/bootcamp007_project/Project5-Capstone/shopaholics/BX-CSV-Dump/ratingsCleanedWithoutZeroes.csv"
      ]
     },
     "metadata": {},
     "output_type": "display_data"
    },
    {
     "data": {
      "text/html": [
       "<pre>Parsing completed. Parsed 100 lines in 0.723564 secs.</pre>"
      ],
      "text/plain": [
       "Parsing completed. Parsed 100 lines in 0.723564 secs."
      ]
     },
     "metadata": {},
     "output_type": "display_data"
    },
    {
     "name": "stdout",
     "output_type": "stream",
     "text": [
      "------------------------------------------------------\n",
      "Inferred types from first 100 line(s) of file as \n",
      "column_type_hints=[int,str,int]\n",
      "If parsing fails due to incorrect types, you can correct\n",
      "the inferred type list above and pass it to read_csv in\n",
      "the column_type_hints argument\n",
      "------------------------------------------------------\n"
     ]
    },
    {
     "data": {
      "text/html": [
       "<pre>Unable to parse line \"31315;0679751602;0\"</pre>"
      ],
      "text/plain": [
       "Unable to parse line \"31315;0679751602;0\""
      ]
     },
     "metadata": {},
     "output_type": "display_data"
    },
    {
     "data": {
      "text/html": [
       "<pre>Unable to parse line \"60397;0743437640;8\"</pre>"
      ],
      "text/plain": [
       "Unable to parse line \"60397;0743437640;8\""
      ]
     },
     "metadata": {},
     "output_type": "display_data"
    },
    {
     "data": {
      "text/html": [
       "<pre>Unable to parse line \"123597;0446381934;8\"</pre>"
      ],
      "text/plain": [
       "Unable to parse line \"123597;0446381934;8\""
      ]
     },
     "metadata": {},
     "output_type": "display_data"
    },
    {
     "data": {
      "text/html": [
       "<pre>Unable to parse line \"93426;0345351452;0\"</pre>"
      ],
      "text/plain": [
       "Unable to parse line \"93426;0345351452;0\""
      ]
     },
     "metadata": {},
     "output_type": "display_data"
    },
    {
     "data": {
      "text/html": [
       "<pre>Unable to parse line \"151806;0552991260;9\"</pre>"
      ],
      "text/plain": [
       "Unable to parse line \"151806;0552991260;9\""
      ]
     },
     "metadata": {},
     "output_type": "display_data"
    },
    {
     "data": {
      "text/html": [
       "<pre>Unable to parse line \"31315;067976402X;0\"</pre>"
      ],
      "text/plain": [
       "Unable to parse line \"31315;067976402X;0\""
      ]
     },
     "metadata": {},
     "output_type": "display_data"
    },
    {
     "data": {
      "text/html": [
       "<pre>Unable to parse line \"60400;006440174X;6\"</pre>"
      ],
      "text/plain": [
       "Unable to parse line \"60400;006440174X;6\""
      ]
     },
     "metadata": {},
     "output_type": "display_data"
    },
    {
     "data": {
      "text/html": [
       "<pre>Unable to parse line \"123597;0446519138;7\"</pre>"
      ],
      "text/plain": [
       "Unable to parse line \"123597;0446519138;7\""
      ]
     },
     "metadata": {},
     "output_type": "display_data"
    },
    {
     "data": {
      "text/html": [
       "<pre>Unable to parse line \"93426;0345362322;0\"</pre>"
      ],
      "text/plain": [
       "Unable to parse line \"93426;0345362322;0\""
      ]
     },
     "metadata": {},
     "output_type": "display_data"
    },
    {
     "data": {
      "text/html": [
       "<pre>Unable to parse line \"151806;0552994391;0\"</pre>"
      ],
      "text/plain": [
       "Unable to parse line \"151806;0552994391;0\""
      ]
     },
     "metadata": {},
     "output_type": "display_data"
    },
    {
     "data": {
      "text/html": [
       "<pre>Unable to parse line \"31315;0679781587;0\"</pre>"
      ],
      "text/plain": [
       "Unable to parse line \"31315;0679781587;0\""
      ]
     },
     "metadata": {},
     "output_type": "display_data"
    },
    {
     "data": {
      "text/html": [
       "<pre>Unable to parse line \"60400;0156628708;4\"</pre>"
      ],
      "text/plain": [
       "Unable to parse line \"60400;0156628708;4\""
      ]
     },
     "metadata": {},
     "output_type": "display_data"
    },
    {
     "data": {
      "text/html": [
       "<pre>Unable to parse line \"123597;0452011191;7\"</pre>"
      ],
      "text/plain": [
       "Unable to parse line \"123597;0452011191;7\""
      ]
     },
     "metadata": {},
     "output_type": "display_data"
    },
    {
     "data": {
      "text/html": [
       "<pre>Unable to parse line \"93426;0345381114;0\"</pre>"
      ],
      "text/plain": [
       "Unable to parse line \"93426;0345381114;0\""
      ]
     },
     "metadata": {},
     "output_type": "display_data"
    },
    {
     "data": {
      "text/html": [
       "<pre>655971 lines failed to parse correctly</pre>"
      ],
      "text/plain": [
       "655971 lines failed to parse correctly"
      ]
     },
     "metadata": {},
     "output_type": "display_data"
    },
    {
     "data": {
      "text/html": [
       "<pre>Finished parsing file /Users/chrisanalytics/iCloud Drive (Archive)/Desktop/bootcamp007_project/Project5-Capstone/shopaholics/BX-CSV-Dump/ratingsCleanedWithoutZeroes.csv</pre>"
      ],
      "text/plain": [
       "Finished parsing file /Users/chrisanalytics/iCloud Drive (Archive)/Desktop/bootcamp007_project/Project5-Capstone/shopaholics/BX-CSV-Dump/ratingsCleanedWithoutZeroes.csv"
      ]
     },
     "metadata": {},
     "output_type": "display_data"
    },
    {
     "data": {
      "text/html": [
       "<pre>Parsing completed. Parsed 176015 lines in 0.337502 secs.</pre>"
      ],
      "text/plain": [
       "Parsing completed. Parsed 176015 lines in 0.337502 secs."
      ]
     },
     "metadata": {},
     "output_type": "display_data"
    }
   ],
   "source": [
    "dfRating = gl.SFrame.read_csv(bookRatingsFile)"
   ]
  },
  {
   "cell_type": "code",
   "execution_count": 5,
   "metadata": {
    "collapsed": false
   },
   "outputs": [
    {
     "data": {
      "text/html": [
       "<div style=\"max-height:1000px;max-width:1500px;overflow:auto;\"><table frame=\"box\" rules=\"cols\">\n",
       "    <tr>\n",
       "        <th style=\"padding-left: 1em; padding-right: 1em; text-align: center\">UserID</th>\n",
       "        <th style=\"padding-left: 1em; padding-right: 1em; text-align: center\">ISBN</th>\n",
       "        <th style=\"padding-left: 1em; padding-right: 1em; text-align: center\">BookRating</th>\n",
       "    </tr>\n",
       "    <tr>\n",
       "        <td style=\"padding-left: 1em; padding-right: 1em; text-align: center; vertical-align: top\">276726</td>\n",
       "        <td style=\"padding-left: 1em; padding-right: 1em; text-align: center; vertical-align: top\">0155061224</td>\n",
       "        <td style=\"padding-left: 1em; padding-right: 1em; text-align: center; vertical-align: top\">5</td>\n",
       "    </tr>\n",
       "    <tr>\n",
       "        <td style=\"padding-left: 1em; padding-right: 1em; text-align: center; vertical-align: top\">276729</td>\n",
       "        <td style=\"padding-left: 1em; padding-right: 1em; text-align: center; vertical-align: top\">052165615X</td>\n",
       "        <td style=\"padding-left: 1em; padding-right: 1em; text-align: center; vertical-align: top\">3</td>\n",
       "    </tr>\n",
       "    <tr>\n",
       "        <td style=\"padding-left: 1em; padding-right: 1em; text-align: center; vertical-align: top\">276729</td>\n",
       "        <td style=\"padding-left: 1em; padding-right: 1em; text-align: center; vertical-align: top\">0521795028</td>\n",
       "        <td style=\"padding-left: 1em; padding-right: 1em; text-align: center; vertical-align: top\">6</td>\n",
       "    </tr>\n",
       "    <tr>\n",
       "        <td style=\"padding-left: 1em; padding-right: 1em; text-align: center; vertical-align: top\">276736</td>\n",
       "        <td style=\"padding-left: 1em; padding-right: 1em; text-align: center; vertical-align: top\">3257224281</td>\n",
       "        <td style=\"padding-left: 1em; padding-right: 1em; text-align: center; vertical-align: top\">8</td>\n",
       "    </tr>\n",
       "    <tr>\n",
       "        <td style=\"padding-left: 1em; padding-right: 1em; text-align: center; vertical-align: top\">276737</td>\n",
       "        <td style=\"padding-left: 1em; padding-right: 1em; text-align: center; vertical-align: top\">0600570967</td>\n",
       "        <td style=\"padding-left: 1em; padding-right: 1em; text-align: center; vertical-align: top\">6</td>\n",
       "    </tr>\n",
       "    <tr>\n",
       "        <td style=\"padding-left: 1em; padding-right: 1em; text-align: center; vertical-align: top\">276744</td>\n",
       "        <td style=\"padding-left: 1em; padding-right: 1em; text-align: center; vertical-align: top\">038550120X</td>\n",
       "        <td style=\"padding-left: 1em; padding-right: 1em; text-align: center; vertical-align: top\">7</td>\n",
       "    </tr>\n",
       "    <tr>\n",
       "        <td style=\"padding-left: 1em; padding-right: 1em; text-align: center; vertical-align: top\">276745</td>\n",
       "        <td style=\"padding-left: 1em; padding-right: 1em; text-align: center; vertical-align: top\">342310538</td>\n",
       "        <td style=\"padding-left: 1em; padding-right: 1em; text-align: center; vertical-align: top\">10</td>\n",
       "    </tr>\n",
       "    <tr>\n",
       "        <td style=\"padding-left: 1em; padding-right: 1em; text-align: center; vertical-align: top\">276747</td>\n",
       "        <td style=\"padding-left: 1em; padding-right: 1em; text-align: center; vertical-align: top\">0060517794</td>\n",
       "        <td style=\"padding-left: 1em; padding-right: 1em; text-align: center; vertical-align: top\">9</td>\n",
       "    </tr>\n",
       "    <tr>\n",
       "        <td style=\"padding-left: 1em; padding-right: 1em; text-align: center; vertical-align: top\">276747</td>\n",
       "        <td style=\"padding-left: 1em; padding-right: 1em; text-align: center; vertical-align: top\">0671537458</td>\n",
       "        <td style=\"padding-left: 1em; padding-right: 1em; text-align: center; vertical-align: top\">9</td>\n",
       "    </tr>\n",
       "    <tr>\n",
       "        <td style=\"padding-left: 1em; padding-right: 1em; text-align: center; vertical-align: top\">276747</td>\n",
       "        <td style=\"padding-left: 1em; padding-right: 1em; text-align: center; vertical-align: top\">0679776818</td>\n",
       "        <td style=\"padding-left: 1em; padding-right: 1em; text-align: center; vertical-align: top\">8</td>\n",
       "    </tr>\n",
       "</table>\n",
       "[10 rows x 3 columns]<br/>\n",
       "</div>"
      ],
      "text/plain": [
       "Columns:\n",
       "\tUserID\tint\n",
       "\tISBN\tstr\n",
       "\tBookRating\tint\n",
       "\n",
       "Rows: 10\n",
       "\n",
       "Data:\n",
       "+--------+------------+------------+\n",
       "| UserID |    ISBN    | BookRating |\n",
       "+--------+------------+------------+\n",
       "| 276726 | 0155061224 |     5      |\n",
       "| 276729 | 052165615X |     3      |\n",
       "| 276729 | 0521795028 |     6      |\n",
       "| 276736 | 3257224281 |     8      |\n",
       "| 276737 | 0600570967 |     6      |\n",
       "| 276744 | 038550120X |     7      |\n",
       "| 276745 | 342310538  |     10     |\n",
       "| 276747 | 0060517794 |     9      |\n",
       "| 276747 | 0671537458 |     9      |\n",
       "| 276747 | 0679776818 |     8      |\n",
       "+--------+------------+------------+\n",
       "[10 rows x 3 columns]"
      ]
     },
     "execution_count": 5,
     "metadata": {},
     "output_type": "execute_result"
    }
   ],
   "source": [
    "dfRating.head()"
   ]
  },
  {
   "cell_type": "code",
   "execution_count": 6,
   "metadata": {
    "collapsed": true
   },
   "outputs": [],
   "source": [
    "items = \"../BX-CSV-Dump/booksCleanedWithNAs.csv\""
   ]
  },
  {
   "cell_type": "code",
   "execution_count": 7,
   "metadata": {
    "collapsed": false
   },
   "outputs": [
    {
     "data": {
      "text/html": [
       "<pre>Unable to parse line \"0312862342;Irish Lace (Nuala Anne McGrail Novels (Hardcover));Andrew M. Greeley;1996;St Martins Pr;http://images.amazon.com/images/P/0312862342.01.THUMBZZZ.jpg;http://images.amazon.com/images/P/0312862342.01.MZZZZZZZ.jpg;http://images.amazon.com/images/P/0...\"</pre>"
      ],
      "text/plain": [
       "Unable to parse line \"0312862342;Irish Lace (Nuala Anne McGrail Novels (Hardcover));Andrew M. Greeley;1996;St Martins Pr;http://images.amazon.com/images/P/0312862342.01.THUMBZZZ.jpg;http://images.amazon.com/images/P/0312862342.01.MZZZZZZZ.jpg;http://images.amazon.com/images/P/0...\""
      ]
     },
     "metadata": {},
     "output_type": "display_data"
    },
    {
     "data": {
      "text/html": [
       "<pre>Unable to parse line \"0884193853;Fifty-six Days Ablaze: An 8-week Teen Devotional;Ron Luce;1995;Word Publishing;http://images.amazon.com/images/P/0884193853.01.THUMBZZZ.jpg;http://images.amazon.com/images/P/0884193853.01.MZZZZZZZ.jpg;http://images.amazon.com/images/P/0884193853...\"</pre>"
      ],
      "text/plain": [
       "Unable to parse line \"0884193853;Fifty-six Days Ablaze: An 8-week Teen Devotional;Ron Luce;1995;Word Publishing;http://images.amazon.com/images/P/0884193853.01.THUMBZZZ.jpg;http://images.amazon.com/images/P/0884193853.01.MZZZZZZZ.jpg;http://images.amazon.com/images/P/0884193853...\""
      ]
     },
     "metadata": {},
     "output_type": "display_data"
    },
    {
     "data": {
      "text/html": [
       "<pre>Unable to parse line \"0821740652;Santa Fe Showdown (Zebra books);Frederick Bean;1993;Kensington Pub Corp (Mm);http://images.amazon.com/images/P/0821740652.01.THUMBZZZ.jpg;http://images.amazon.com/images/P/0821740652.01.MZZZZZZZ.jpg;http://images.amazon.com/images/P/0821740652.0...\"</pre>"
      ],
      "text/plain": [
       "Unable to parse line \"0821740652;Santa Fe Showdown (Zebra books);Frederick Bean;1993;Kensington Pub Corp (Mm);http://images.amazon.com/images/P/0821740652.01.THUMBZZZ.jpg;http://images.amazon.com/images/P/0821740652.01.MZZZZZZZ.jpg;http://images.amazon.com/images/P/0821740652.0...\""
      ]
     },
     "metadata": {},
     "output_type": "display_data"
    },
    {
     "data": {
      "text/html": [
       "<pre>Unable to parse line \"0312858132;Irish Gold (Nuala Anne McGrail Novels (Hardcover));Andrew M. Greeley;1994;St Martins Pr;http://images.amazon.com/images/P/0312858132.01.THUMBZZZ.jpg;http://images.amazon.com/images/P/0312858132.01.MZZZZZZZ.jpg;http://images.amazon.com/images/P/0...\"</pre>"
      ],
      "text/plain": [
       "Unable to parse line \"0312858132;Irish Gold (Nuala Anne McGrail Novels (Hardcover));Andrew M. Greeley;1994;St Martins Pr;http://images.amazon.com/images/P/0312858132.01.THUMBZZZ.jpg;http://images.amazon.com/images/P/0312858132.01.MZZZZZZZ.jpg;http://images.amazon.com/images/P/0...\""
      ]
     },
     "metadata": {},
     "output_type": "display_data"
    },
    {
     "data": {
      "text/html": [
       "<pre>Unable to parse line \"037312127X;Don Joaquin'S Pride (Presents, 2127);Lynne Graham;2000;Harlequin;http://images.amazon.com/images/P/037312127X.01.THUMBZZZ.jpg;http://images.amazon.com/images/P/037312127X.01.MZZZZZZZ.jpg;http://images.amazon.com/images/P/037312127X.01.LZZZZZZZ.j...\"</pre>"
      ],
      "text/plain": [
       "Unable to parse line \"037312127X;Don Joaquin'S Pride (Presents, 2127);Lynne Graham;2000;Harlequin;http://images.amazon.com/images/P/037312127X.01.THUMBZZZ.jpg;http://images.amazon.com/images/P/037312127X.01.MZZZZZZZ.jpg;http://images.amazon.com/images/P/037312127X.01.LZZZZZZZ.j...\""
      ]
     },
     "metadata": {},
     "output_type": "display_data"
    },
    {
     "data": {
      "text/html": [
       "<pre>Unable to parse line \"0312961618;Rio Hondo;Matthew Braun;1997;St. Martin's Press;http://images.amazon.com/images/P/0312961618.01.THUMBZZZ.jpg;http://images.amazon.com/images/P/0312961618.01.MZZZZZZZ.jpg;http://images.amazon.com/images/P/0312961618.01.LZZZZZZZ.jpg\"</pre>"
      ],
      "text/plain": [
       "Unable to parse line \"0312961618;Rio Hondo;Matthew Braun;1997;St. Martin's Press;http://images.amazon.com/images/P/0312961618.01.THUMBZZZ.jpg;http://images.amazon.com/images/P/0312961618.01.MZZZZZZZ.jpg;http://images.amazon.com/images/P/0312961618.01.LZZZZZZZ.jpg\""
      ]
     },
     "metadata": {},
     "output_type": "display_data"
    },
    {
     "data": {
      "text/html": [
       "<pre>Unable to parse line \"0061094110;Running from the Law;Lisa Scottoline;1996;HarperTorch;http://images.amazon.com/images/P/0061094110.01.THUMBZZZ.jpg;http://images.amazon.com/images/P/0061094110.01.MZZZZZZZ.jpg;http://images.amazon.com/images/P/0061094110.01.LZZZZZZZ.jpg\"</pre>"
      ],
      "text/plain": [
       "Unable to parse line \"0061094110;Running from the Law;Lisa Scottoline;1996;HarperTorch;http://images.amazon.com/images/P/0061094110.01.THUMBZZZ.jpg;http://images.amazon.com/images/P/0061094110.01.MZZZZZZZ.jpg;http://images.amazon.com/images/P/0061094110.01.LZZZZZZZ.jpg\""
      ]
     },
     "metadata": {},
     "output_type": "display_data"
    },
    {
     "data": {
      "text/html": [
       "<pre>Unable to parse line \"0152273220;Black Horses for the King;Anne McCaffrey;1996;Harcourt Children's Books;http://images.amazon.com/images/P/0152273220.01.THUMBZZZ.jpg;http://images.amazon.com/images/P/0152273220.01.MZZZZZZZ.jpg;http://images.amazon.com/images/P/0152273220.01.LZZ...\"</pre>"
      ],
      "text/plain": [
       "Unable to parse line \"0152273220;Black Horses for the King;Anne McCaffrey;1996;Harcourt Children's Books;http://images.amazon.com/images/P/0152273220.01.THUMBZZZ.jpg;http://images.amazon.com/images/P/0152273220.01.MZZZZZZZ.jpg;http://images.amazon.com/images/P/0152273220.01.LZZ...\""
      ]
     },
     "metadata": {},
     "output_type": "display_data"
    },
    {
     "data": {
      "text/html": [
       "<pre>Unable to parse line \"0843939478;Dan'L Boone: A River Run Red (The Lost Wilderness Tales, No 1);Dodge Tyler;1996;Leisure Books;http://images.amazon.com/images/P/0843939478.01.THUMBZZZ.jpg;http://images.amazon.com/images/P/0843939478.01.MZZZZZZZ.jpg;http://images.amazon.com/imag...\"</pre>"
      ],
      "text/plain": [
       "Unable to parse line \"0843939478;Dan'L Boone: A River Run Red (The Lost Wilderness Tales, No 1);Dodge Tyler;1996;Leisure Books;http://images.amazon.com/images/P/0843939478.01.THUMBZZZ.jpg;http://images.amazon.com/images/P/0843939478.01.MZZZZZZZ.jpg;http://images.amazon.com/imag...\""
      ]
     },
     "metadata": {},
     "output_type": "display_data"
    },
    {
     "data": {
      "text/html": [
       "<pre>Unable to parse line \"0966357906;Winning;John Carver;1998;Hard Times Cattle Company Publishing;http://images.amazon.com/images/P/0966357906.01.THUMBZZZ.jpg;http://images.amazon.com/images/P/0966357906.01.MZZZZZZZ.jpg;http://images.amazon.com/images/P/0966357906.01.LZZZZZZZ.jpg\"</pre>"
      ],
      "text/plain": [
       "Unable to parse line \"0966357906;Winning;John Carver;1998;Hard Times Cattle Company Publishing;http://images.amazon.com/images/P/0966357906.01.THUMBZZZ.jpg;http://images.amazon.com/images/P/0966357906.01.MZZZZZZZ.jpg;http://images.amazon.com/images/P/0966357906.01.LZZZZZZZ.jpg\""
      ]
     },
     "metadata": {},
     "output_type": "display_data"
    },
    {
     "data": {
      "text/html": [
       "<pre>Unable to parse line \"0345369335;The Renegades of Pern (Dragonriders of Pern (Paperback));Anne McCaffrey;1990;Del Rey Books;http://images.amazon.com/images/P/0345369335.01.THUMBZZZ.jpg;http://images.amazon.com/images/P/0345369335.01.MZZZZZZZ.jpg;http://images.amazon.com/images/...\"</pre>"
      ],
      "text/plain": [
       "Unable to parse line \"0345369335;The Renegades of Pern (Dragonriders of Pern (Paperback));Anne McCaffrey;1990;Del Rey Books;http://images.amazon.com/images/P/0345369335.01.THUMBZZZ.jpg;http://images.amazon.com/images/P/0345369335.01.MZZZZZZZ.jpg;http://images.amazon.com/images/...\""
      ]
     },
     "metadata": {},
     "output_type": "display_data"
    },
    {
     "data": {
      "text/html": [
       "<pre>Unable to parse line \"0553292188;Hawk's Journey (White Indian Special Edition, Book 23);Donald Clayton Porter;1992;Bantam Books;http://images.amazon.com/images/P/0553292188.01.THUMBZZZ.jpg;http://images.amazon.com/images/P/0553292188.01.MZZZZZZZ.jpg;http://images.amazon.com/ima...\"</pre>"
      ],
      "text/plain": [
       "Unable to parse line \"0553292188;Hawk's Journey (White Indian Special Edition, Book 23);Donald Clayton Porter;1992;Bantam Books;http://images.amazon.com/images/P/0553292188.01.THUMBZZZ.jpg;http://images.amazon.com/images/P/0553292188.01.MZZZZZZZ.jpg;http://images.amazon.com/ima...\""
      ]
     },
     "metadata": {},
     "output_type": "display_data"
    },
    {
     "data": {
      "text/html": [
       "<pre>91335 lines failed to parse correctly</pre>"
      ],
      "text/plain": [
       "91335 lines failed to parse correctly"
      ]
     },
     "metadata": {},
     "output_type": "display_data"
    },
    {
     "data": {
      "text/html": [
       "<pre>Finished parsing file /Users/chrisanalytics/iCloud Drive (Archive)/Desktop/bootcamp007_project/Project5-Capstone/shopaholics/BX-CSV-Dump/booksCleanedWithNAs.csv</pre>"
      ],
      "text/plain": [
       "Finished parsing file /Users/chrisanalytics/iCloud Drive (Archive)/Desktop/bootcamp007_project/Project5-Capstone/shopaholics/BX-CSV-Dump/booksCleanedWithNAs.csv"
      ]
     },
     "metadata": {},
     "output_type": "display_data"
    },
    {
     "data": {
      "text/html": [
       "<pre>Parsing completed. Parsed 100 lines in 1.55697 secs.</pre>"
      ],
      "text/plain": [
       "Parsing completed. Parsed 100 lines in 1.55697 secs."
      ]
     },
     "metadata": {},
     "output_type": "display_data"
    },
    {
     "name": "stdout",
     "output_type": "stream",
     "text": [
      "------------------------------------------------------\n",
      "Inferred types from first 100 line(s) of file as \n",
      "column_type_hints=[int,str,str,int,str,str,str,str]\n",
      "If parsing fails due to incorrect types, you can correct\n",
      "the inferred type list above and pass it to read_csv in\n",
      "the column_type_hints argument\n",
      "------------------------------------------------------\n"
     ]
    },
    {
     "data": {
      "text/html": [
       "<pre>Unable to parse line \"0312862342;Irish Lace (Nuala Anne McGrail Novels (Hardcover));Andrew M. Greeley;1996;St Martins Pr;http://images.amazon.com/images/P/0312862342.01.THUMBZZZ.jpg;http://images.amazon.com/images/P/0312862342.01.MZZZZZZZ.jpg;http://images.amazon.com/images/P/0...\"</pre>"
      ],
      "text/plain": [
       "Unable to parse line \"0312862342;Irish Lace (Nuala Anne McGrail Novels (Hardcover));Andrew M. Greeley;1996;St Martins Pr;http://images.amazon.com/images/P/0312862342.01.THUMBZZZ.jpg;http://images.amazon.com/images/P/0312862342.01.MZZZZZZZ.jpg;http://images.amazon.com/images/P/0...\""
      ]
     },
     "metadata": {},
     "output_type": "display_data"
    },
    {
     "data": {
      "text/html": [
       "<pre>Unable to parse line \"0884193853;Fifty-six Days Ablaze: An 8-week Teen Devotional;Ron Luce;1995;Word Publishing;http://images.amazon.com/images/P/0884193853.01.THUMBZZZ.jpg;http://images.amazon.com/images/P/0884193853.01.MZZZZZZZ.jpg;http://images.amazon.com/images/P/0884193853...\"</pre>"
      ],
      "text/plain": [
       "Unable to parse line \"0884193853;Fifty-six Days Ablaze: An 8-week Teen Devotional;Ron Luce;1995;Word Publishing;http://images.amazon.com/images/P/0884193853.01.THUMBZZZ.jpg;http://images.amazon.com/images/P/0884193853.01.MZZZZZZZ.jpg;http://images.amazon.com/images/P/0884193853...\""
      ]
     },
     "metadata": {},
     "output_type": "display_data"
    },
    {
     "data": {
      "text/html": [
       "<pre>Unable to parse line \"0821740652;Santa Fe Showdown (Zebra books);Frederick Bean;1993;Kensington Pub Corp (Mm);http://images.amazon.com/images/P/0821740652.01.THUMBZZZ.jpg;http://images.amazon.com/images/P/0821740652.01.MZZZZZZZ.jpg;http://images.amazon.com/images/P/0821740652.0...\"</pre>"
      ],
      "text/plain": [
       "Unable to parse line \"0821740652;Santa Fe Showdown (Zebra books);Frederick Bean;1993;Kensington Pub Corp (Mm);http://images.amazon.com/images/P/0821740652.01.THUMBZZZ.jpg;http://images.amazon.com/images/P/0821740652.01.MZZZZZZZ.jpg;http://images.amazon.com/images/P/0821740652.0...\""
      ]
     },
     "metadata": {},
     "output_type": "display_data"
    },
    {
     "data": {
      "text/html": [
       "<pre>Unable to parse line \"0312858132;Irish Gold (Nuala Anne McGrail Novels (Hardcover));Andrew M. Greeley;1994;St Martins Pr;http://images.amazon.com/images/P/0312858132.01.THUMBZZZ.jpg;http://images.amazon.com/images/P/0312858132.01.MZZZZZZZ.jpg;http://images.amazon.com/images/P/0...\"</pre>"
      ],
      "text/plain": [
       "Unable to parse line \"0312858132;Irish Gold (Nuala Anne McGrail Novels (Hardcover));Andrew M. Greeley;1994;St Martins Pr;http://images.amazon.com/images/P/0312858132.01.THUMBZZZ.jpg;http://images.amazon.com/images/P/0312858132.01.MZZZZZZZ.jpg;http://images.amazon.com/images/P/0...\""
      ]
     },
     "metadata": {},
     "output_type": "display_data"
    },
    {
     "data": {
      "text/html": [
       "<pre>Unable to parse line \"037312127X;Don Joaquin'S Pride (Presents, 2127);Lynne Graham;2000;Harlequin;http://images.amazon.com/images/P/037312127X.01.THUMBZZZ.jpg;http://images.amazon.com/images/P/037312127X.01.MZZZZZZZ.jpg;http://images.amazon.com/images/P/037312127X.01.LZZZZZZZ.j...\"</pre>"
      ],
      "text/plain": [
       "Unable to parse line \"037312127X;Don Joaquin'S Pride (Presents, 2127);Lynne Graham;2000;Harlequin;http://images.amazon.com/images/P/037312127X.01.THUMBZZZ.jpg;http://images.amazon.com/images/P/037312127X.01.MZZZZZZZ.jpg;http://images.amazon.com/images/P/037312127X.01.LZZZZZZZ.j...\""
      ]
     },
     "metadata": {},
     "output_type": "display_data"
    },
    {
     "data": {
      "text/html": [
       "<pre>Unable to parse line \"0312961618;Rio Hondo;Matthew Braun;1997;St. Martin's Press;http://images.amazon.com/images/P/0312961618.01.THUMBZZZ.jpg;http://images.amazon.com/images/P/0312961618.01.MZZZZZZZ.jpg;http://images.amazon.com/images/P/0312961618.01.LZZZZZZZ.jpg\"</pre>"
      ],
      "text/plain": [
       "Unable to parse line \"0312961618;Rio Hondo;Matthew Braun;1997;St. Martin's Press;http://images.amazon.com/images/P/0312961618.01.THUMBZZZ.jpg;http://images.amazon.com/images/P/0312961618.01.MZZZZZZZ.jpg;http://images.amazon.com/images/P/0312961618.01.LZZZZZZZ.jpg\""
      ]
     },
     "metadata": {},
     "output_type": "display_data"
    },
    {
     "data": {
      "text/html": [
       "<pre>Unable to parse line \"0061094110;Running from the Law;Lisa Scottoline;1996;HarperTorch;http://images.amazon.com/images/P/0061094110.01.THUMBZZZ.jpg;http://images.amazon.com/images/P/0061094110.01.MZZZZZZZ.jpg;http://images.amazon.com/images/P/0061094110.01.LZZZZZZZ.jpg\"</pre>"
      ],
      "text/plain": [
       "Unable to parse line \"0061094110;Running from the Law;Lisa Scottoline;1996;HarperTorch;http://images.amazon.com/images/P/0061094110.01.THUMBZZZ.jpg;http://images.amazon.com/images/P/0061094110.01.MZZZZZZZ.jpg;http://images.amazon.com/images/P/0061094110.01.LZZZZZZZ.jpg\""
      ]
     },
     "metadata": {},
     "output_type": "display_data"
    },
    {
     "data": {
      "text/html": [
       "<pre>Unable to parse line \"0152273220;Black Horses for the King;Anne McCaffrey;1996;Harcourt Children's Books;http://images.amazon.com/images/P/0152273220.01.THUMBZZZ.jpg;http://images.amazon.com/images/P/0152273220.01.MZZZZZZZ.jpg;http://images.amazon.com/images/P/0152273220.01.LZZ...\"</pre>"
      ],
      "text/plain": [
       "Unable to parse line \"0152273220;Black Horses for the King;Anne McCaffrey;1996;Harcourt Children's Books;http://images.amazon.com/images/P/0152273220.01.THUMBZZZ.jpg;http://images.amazon.com/images/P/0152273220.01.MZZZZZZZ.jpg;http://images.amazon.com/images/P/0152273220.01.LZZ...\""
      ]
     },
     "metadata": {},
     "output_type": "display_data"
    },
    {
     "data": {
      "text/html": [
       "<pre>Unable to parse line \"0843939478;Dan'L Boone: A River Run Red (The Lost Wilderness Tales, No 1);Dodge Tyler;1996;Leisure Books;http://images.amazon.com/images/P/0843939478.01.THUMBZZZ.jpg;http://images.amazon.com/images/P/0843939478.01.MZZZZZZZ.jpg;http://images.amazon.com/imag...\"</pre>"
      ],
      "text/plain": [
       "Unable to parse line \"0843939478;Dan'L Boone: A River Run Red (The Lost Wilderness Tales, No 1);Dodge Tyler;1996;Leisure Books;http://images.amazon.com/images/P/0843939478.01.THUMBZZZ.jpg;http://images.amazon.com/images/P/0843939478.01.MZZZZZZZ.jpg;http://images.amazon.com/imag...\""
      ]
     },
     "metadata": {},
     "output_type": "display_data"
    },
    {
     "data": {
      "text/html": [
       "<pre>Unable to parse line \"0966357906;Winning;John Carver;1998;Hard Times Cattle Company Publishing;http://images.amazon.com/images/P/0966357906.01.THUMBZZZ.jpg;http://images.amazon.com/images/P/0966357906.01.MZZZZZZZ.jpg;http://images.amazon.com/images/P/0966357906.01.LZZZZZZZ.jpg\"</pre>"
      ],
      "text/plain": [
       "Unable to parse line \"0966357906;Winning;John Carver;1998;Hard Times Cattle Company Publishing;http://images.amazon.com/images/P/0966357906.01.THUMBZZZ.jpg;http://images.amazon.com/images/P/0966357906.01.MZZZZZZZ.jpg;http://images.amazon.com/images/P/0966357906.01.LZZZZZZZ.jpg\""
      ]
     },
     "metadata": {},
     "output_type": "display_data"
    },
    {
     "data": {
      "text/html": [
       "<pre>Unable to parse line \"0345369335;The Renegades of Pern (Dragonriders of Pern (Paperback));Anne McCaffrey;1990;Del Rey Books;http://images.amazon.com/images/P/0345369335.01.THUMBZZZ.jpg;http://images.amazon.com/images/P/0345369335.01.MZZZZZZZ.jpg;http://images.amazon.com/images/...\"</pre>"
      ],
      "text/plain": [
       "Unable to parse line \"0345369335;The Renegades of Pern (Dragonriders of Pern (Paperback));Anne McCaffrey;1990;Del Rey Books;http://images.amazon.com/images/P/0345369335.01.THUMBZZZ.jpg;http://images.amazon.com/images/P/0345369335.01.MZZZZZZZ.jpg;http://images.amazon.com/images/...\""
      ]
     },
     "metadata": {},
     "output_type": "display_data"
    },
    {
     "data": {
      "text/html": [
       "<pre>Read 100278 lines. Lines per second: 121434</pre>"
      ],
      "text/plain": [
       "Read 100278 lines. Lines per second: 121434"
      ]
     },
     "metadata": {},
     "output_type": "display_data"
    },
    {
     "data": {
      "text/html": [
       "<pre>120820 lines failed to parse correctly</pre>"
      ],
      "text/plain": [
       "120820 lines failed to parse correctly"
      ]
     },
     "metadata": {},
     "output_type": "display_data"
    },
    {
     "data": {
      "text/html": [
       "<pre>Finished parsing file /Users/chrisanalytics/iCloud Drive (Archive)/Desktop/bootcamp007_project/Project5-Capstone/shopaholics/BX-CSV-Dump/booksCleanedWithNAs.csv</pre>"
      ],
      "text/plain": [
       "Finished parsing file /Users/chrisanalytics/iCloud Drive (Archive)/Desktop/bootcamp007_project/Project5-Capstone/shopaholics/BX-CSV-Dump/booksCleanedWithNAs.csv"
      ]
     },
     "metadata": {},
     "output_type": "display_data"
    },
    {
     "data": {
      "text/html": [
       "<pre>Parsing completed. Parsed 113487 lines in 0.863728 secs.</pre>"
      ],
      "text/plain": [
       "Parsing completed. Parsed 113487 lines in 0.863728 secs."
      ]
     },
     "metadata": {},
     "output_type": "display_data"
    }
   ],
   "source": [
    "items = gl.SFrame.read_csv(items)"
   ]
  },
  {
   "cell_type": "code",
   "execution_count": 8,
   "metadata": {
    "collapsed": false
   },
   "outputs": [
    {
     "data": {
      "text/plain": [
       "graphlab.data_structures.sframe.SFrame"
      ]
     },
     "execution_count": 8,
     "metadata": {},
     "output_type": "execute_result"
    }
   ],
   "source": [
    "type(items)"
   ]
  },
  {
   "cell_type": "code",
   "execution_count": 9,
   "metadata": {
    "collapsed": false,
    "scrolled": true
   },
   "outputs": [
    {
     "data": {
      "text/html": [
       "<div style=\"max-height:1000px;max-width:1500px;overflow:auto;\"><table frame=\"box\" rules=\"cols\">\n",
       "    <tr>\n",
       "        <th style=\"padding-left: 1em; padding-right: 1em; text-align: center\">ISBN</th>\n",
       "        <th style=\"padding-left: 1em; padding-right: 1em; text-align: center\">BookTitle</th>\n",
       "        <th style=\"padding-left: 1em; padding-right: 1em; text-align: center\">BookAuthor</th>\n",
       "        <th style=\"padding-left: 1em; padding-right: 1em; text-align: center\">YearOfPublication</th>\n",
       "        <th style=\"padding-left: 1em; padding-right: 1em; text-align: center\">Publisher</th>\n",
       "    </tr>\n",
       "    <tr>\n",
       "        <td style=\"padding-left: 1em; padding-right: 1em; text-align: center; vertical-align: top\">195153448</td>\n",
       "        <td style=\"padding-left: 1em; padding-right: 1em; text-align: center; vertical-align: top\">Classical Mythology</td>\n",
       "        <td style=\"padding-left: 1em; padding-right: 1em; text-align: center; vertical-align: top\">Mark P. O. Morford</td>\n",
       "        <td style=\"padding-left: 1em; padding-right: 1em; text-align: center; vertical-align: top\">2002</td>\n",
       "        <td style=\"padding-left: 1em; padding-right: 1em; text-align: center; vertical-align: top\">Oxford University Press</td>\n",
       "    </tr>\n",
       "    <tr>\n",
       "        <td style=\"padding-left: 1em; padding-right: 1em; text-align: center; vertical-align: top\">2005018</td>\n",
       "        <td style=\"padding-left: 1em; padding-right: 1em; text-align: center; vertical-align: top\">Clara Callan</td>\n",
       "        <td style=\"padding-left: 1em; padding-right: 1em; text-align: center; vertical-align: top\">Richard Bruce Wright</td>\n",
       "        <td style=\"padding-left: 1em; padding-right: 1em; text-align: center; vertical-align: top\">2001</td>\n",
       "        <td style=\"padding-left: 1em; padding-right: 1em; text-align: center; vertical-align: top\">HarperFlamingo Canada</td>\n",
       "    </tr>\n",
       "    <tr>\n",
       "        <td style=\"padding-left: 1em; padding-right: 1em; text-align: center; vertical-align: top\">60973129</td>\n",
       "        <td style=\"padding-left: 1em; padding-right: 1em; text-align: center; vertical-align: top\">Decision in Normandy</td>\n",
       "        <td style=\"padding-left: 1em; padding-right: 1em; text-align: center; vertical-align: top\">Carlo D'Este</td>\n",
       "        <td style=\"padding-left: 1em; padding-right: 1em; text-align: center; vertical-align: top\">1991</td>\n",
       "        <td style=\"padding-left: 1em; padding-right: 1em; text-align: center; vertical-align: top\">HarperPerennial</td>\n",
       "    </tr>\n",
       "    <tr>\n",
       "        <td style=\"padding-left: 1em; padding-right: 1em; text-align: center; vertical-align: top\">374157065</td>\n",
       "        <td style=\"padding-left: 1em; padding-right: 1em; text-align: center; vertical-align: top\">Flu: The Story of the<br>Great Influenza Pandemic ...</td>\n",
       "        <td style=\"padding-left: 1em; padding-right: 1em; text-align: center; vertical-align: top\">Gina Bari Kolata</td>\n",
       "        <td style=\"padding-left: 1em; padding-right: 1em; text-align: center; vertical-align: top\">1999</td>\n",
       "        <td style=\"padding-left: 1em; padding-right: 1em; text-align: center; vertical-align: top\">Farrar Straus Giroux</td>\n",
       "    </tr>\n",
       "    <tr>\n",
       "        <td style=\"padding-left: 1em; padding-right: 1em; text-align: center; vertical-align: top\">393045218</td>\n",
       "        <td style=\"padding-left: 1em; padding-right: 1em; text-align: center; vertical-align: top\">The Mummies of Urumchi</td>\n",
       "        <td style=\"padding-left: 1em; padding-right: 1em; text-align: center; vertical-align: top\">E. J. W. Barber</td>\n",
       "        <td style=\"padding-left: 1em; padding-right: 1em; text-align: center; vertical-align: top\">1999</td>\n",
       "        <td style=\"padding-left: 1em; padding-right: 1em; text-align: center; vertical-align: top\">W. W. Norton &amp;amp;<br>Company ...</td>\n",
       "    </tr>\n",
       "    <tr>\n",
       "        <td style=\"padding-left: 1em; padding-right: 1em; text-align: center; vertical-align: top\">399135782</td>\n",
       "        <td style=\"padding-left: 1em; padding-right: 1em; text-align: center; vertical-align: top\">The Kitchen God's Wife</td>\n",
       "        <td style=\"padding-left: 1em; padding-right: 1em; text-align: center; vertical-align: top\">Amy Tan</td>\n",
       "        <td style=\"padding-left: 1em; padding-right: 1em; text-align: center; vertical-align: top\">1991</td>\n",
       "        <td style=\"padding-left: 1em; padding-right: 1em; text-align: center; vertical-align: top\">Putnam Pub Group</td>\n",
       "    </tr>\n",
       "    <tr>\n",
       "        <td style=\"padding-left: 1em; padding-right: 1em; text-align: center; vertical-align: top\">425176428</td>\n",
       "        <td style=\"padding-left: 1em; padding-right: 1em; text-align: center; vertical-align: top\">What If?: The World's<br>Foremost Military ...</td>\n",
       "        <td style=\"padding-left: 1em; padding-right: 1em; text-align: center; vertical-align: top\">Robert Cowley</td>\n",
       "        <td style=\"padding-left: 1em; padding-right: 1em; text-align: center; vertical-align: top\">2000</td>\n",
       "        <td style=\"padding-left: 1em; padding-right: 1em; text-align: center; vertical-align: top\">Berkley Publishing Group</td>\n",
       "    </tr>\n",
       "    <tr>\n",
       "        <td style=\"padding-left: 1em; padding-right: 1em; text-align: center; vertical-align: top\">671870432</td>\n",
       "        <td style=\"padding-left: 1em; padding-right: 1em; text-align: center; vertical-align: top\">PLEADING GUILTY</td>\n",
       "        <td style=\"padding-left: 1em; padding-right: 1em; text-align: center; vertical-align: top\">Scott Turow</td>\n",
       "        <td style=\"padding-left: 1em; padding-right: 1em; text-align: center; vertical-align: top\">1993</td>\n",
       "        <td style=\"padding-left: 1em; padding-right: 1em; text-align: center; vertical-align: top\">Audioworks</td>\n",
       "    </tr>\n",
       "    <tr>\n",
       "        <td style=\"padding-left: 1em; padding-right: 1em; text-align: center; vertical-align: top\">679425608</td>\n",
       "        <td style=\"padding-left: 1em; padding-right: 1em; text-align: center; vertical-align: top\">Under the Black Flag: The<br>Romance and the Reality ...</td>\n",
       "        <td style=\"padding-left: 1em; padding-right: 1em; text-align: center; vertical-align: top\">David Cordingly</td>\n",
       "        <td style=\"padding-left: 1em; padding-right: 1em; text-align: center; vertical-align: top\">1996</td>\n",
       "        <td style=\"padding-left: 1em; padding-right: 1em; text-align: center; vertical-align: top\">Random House</td>\n",
       "    </tr>\n",
       "    <tr>\n",
       "        <td style=\"padding-left: 1em; padding-right: 1em; text-align: center; vertical-align: top\">None</td>\n",
       "        <td style=\"padding-left: 1em; padding-right: 1em; text-align: center; vertical-align: top\">Where You'll Find Me: And<br>Other Stories ...</td>\n",
       "        <td style=\"padding-left: 1em; padding-right: 1em; text-align: center; vertical-align: top\">Ann Beattie</td>\n",
       "        <td style=\"padding-left: 1em; padding-right: 1em; text-align: center; vertical-align: top\">2002</td>\n",
       "        <td style=\"padding-left: 1em; padding-right: 1em; text-align: center; vertical-align: top\">Scribner</td>\n",
       "    </tr>\n",
       "</table>\n",
       "<table frame=\"box\" rules=\"cols\">\n",
       "    <tr>\n",
       "        <th style=\"padding-left: 1em; padding-right: 1em; text-align: center\">ImageUrlSmall</th>\n",
       "        <th style=\"padding-left: 1em; padding-right: 1em; text-align: center\">ImageUrlMedium</th>\n",
       "        <th style=\"padding-left: 1em; padding-right: 1em; text-align: center\">ImageUrlLarge</th>\n",
       "    </tr>\n",
       "    <tr>\n",
       "        <td style=\"padding-left: 1em; padding-right: 1em; text-align: center; vertical-align: top\">http://images.amazon.com/<br>images/P/0195153448.0 ...</td>\n",
       "        <td style=\"padding-left: 1em; padding-right: 1em; text-align: center; vertical-align: top\">http://images.amazon.com/<br>images/P/0195153448.0 ...</td>\n",
       "        <td style=\"padding-left: 1em; padding-right: 1em; text-align: center; vertical-align: top\">http://images.amazon.com/<br>images/P/0195153448.0 ...</td>\n",
       "    </tr>\n",
       "    <tr>\n",
       "        <td style=\"padding-left: 1em; padding-right: 1em; text-align: center; vertical-align: top\">http://images.amazon.com/<br>images/P/0002005018.0 ...</td>\n",
       "        <td style=\"padding-left: 1em; padding-right: 1em; text-align: center; vertical-align: top\">http://images.amazon.com/<br>images/P/0002005018.0 ...</td>\n",
       "        <td style=\"padding-left: 1em; padding-right: 1em; text-align: center; vertical-align: top\">http://images.amazon.com/<br>images/P/0002005018.0 ...</td>\n",
       "    </tr>\n",
       "    <tr>\n",
       "        <td style=\"padding-left: 1em; padding-right: 1em; text-align: center; vertical-align: top\">http://images.amazon.com/<br>images/P/0060973129.0 ...</td>\n",
       "        <td style=\"padding-left: 1em; padding-right: 1em; text-align: center; vertical-align: top\">http://images.amazon.com/<br>images/P/0060973129.0 ...</td>\n",
       "        <td style=\"padding-left: 1em; padding-right: 1em; text-align: center; vertical-align: top\">http://images.amazon.com/<br>images/P/0060973129.0 ...</td>\n",
       "    </tr>\n",
       "    <tr>\n",
       "        <td style=\"padding-left: 1em; padding-right: 1em; text-align: center; vertical-align: top\">http://images.amazon.com/<br>images/P/0374157065.0 ...</td>\n",
       "        <td style=\"padding-left: 1em; padding-right: 1em; text-align: center; vertical-align: top\">http://images.amazon.com/<br>images/P/0374157065.0 ...</td>\n",
       "        <td style=\"padding-left: 1em; padding-right: 1em; text-align: center; vertical-align: top\">http://images.amazon.com/<br>images/P/0374157065.0 ...</td>\n",
       "    </tr>\n",
       "    <tr>\n",
       "        <td style=\"padding-left: 1em; padding-right: 1em; text-align: center; vertical-align: top\">http://images.amazon.com/<br>images/P/0393045218.0 ...</td>\n",
       "        <td style=\"padding-left: 1em; padding-right: 1em; text-align: center; vertical-align: top\">http://images.amazon.com/<br>images/P/0393045218.0 ...</td>\n",
       "        <td style=\"padding-left: 1em; padding-right: 1em; text-align: center; vertical-align: top\">http://images.amazon.com/<br>images/P/0393045218.0 ...</td>\n",
       "    </tr>\n",
       "    <tr>\n",
       "        <td style=\"padding-left: 1em; padding-right: 1em; text-align: center; vertical-align: top\">http://images.amazon.com/<br>images/P/0399135782.0 ...</td>\n",
       "        <td style=\"padding-left: 1em; padding-right: 1em; text-align: center; vertical-align: top\">http://images.amazon.com/<br>images/P/0399135782.0 ...</td>\n",
       "        <td style=\"padding-left: 1em; padding-right: 1em; text-align: center; vertical-align: top\">http://images.amazon.com/<br>images/P/0399135782.0 ...</td>\n",
       "    </tr>\n",
       "    <tr>\n",
       "        <td style=\"padding-left: 1em; padding-right: 1em; text-align: center; vertical-align: top\">http://images.amazon.com/<br>images/P/0425176428.0 ...</td>\n",
       "        <td style=\"padding-left: 1em; padding-right: 1em; text-align: center; vertical-align: top\">http://images.amazon.com/<br>images/P/0425176428.0 ...</td>\n",
       "        <td style=\"padding-left: 1em; padding-right: 1em; text-align: center; vertical-align: top\">http://images.amazon.com/<br>images/P/0425176428.0 ...</td>\n",
       "    </tr>\n",
       "    <tr>\n",
       "        <td style=\"padding-left: 1em; padding-right: 1em; text-align: center; vertical-align: top\">http://images.amazon.com/<br>images/P/0671870432.0 ...</td>\n",
       "        <td style=\"padding-left: 1em; padding-right: 1em; text-align: center; vertical-align: top\">http://images.amazon.com/<br>images/P/0671870432.0 ...</td>\n",
       "        <td style=\"padding-left: 1em; padding-right: 1em; text-align: center; vertical-align: top\">http://images.amazon.com/<br>images/P/0671870432.0 ...</td>\n",
       "    </tr>\n",
       "    <tr>\n",
       "        <td style=\"padding-left: 1em; padding-right: 1em; text-align: center; vertical-align: top\">http://images.amazon.com/<br>images/P/0679425608.0 ...</td>\n",
       "        <td style=\"padding-left: 1em; padding-right: 1em; text-align: center; vertical-align: top\">http://images.amazon.com/<br>images/P/0679425608.0 ...</td>\n",
       "        <td style=\"padding-left: 1em; padding-right: 1em; text-align: center; vertical-align: top\">http://images.amazon.com/<br>images/P/0679425608.0 ...</td>\n",
       "    </tr>\n",
       "    <tr>\n",
       "        <td style=\"padding-left: 1em; padding-right: 1em; text-align: center; vertical-align: top\">http://images.amazon.com/<br>images/P/074322678X.0 ...</td>\n",
       "        <td style=\"padding-left: 1em; padding-right: 1em; text-align: center; vertical-align: top\">http://images.amazon.com/<br>images/P/074322678X.0 ...</td>\n",
       "        <td style=\"padding-left: 1em; padding-right: 1em; text-align: center; vertical-align: top\">http://images.amazon.com/<br>images/P/074322678X.0 ...</td>\n",
       "    </tr>\n",
       "</table>\n",
       "[10 rows x 8 columns]<br/>\n",
       "</div>"
      ],
      "text/plain": [
       "Columns:\n",
       "\tISBN\tint\n",
       "\tBookTitle\tstr\n",
       "\tBookAuthor\tstr\n",
       "\tYearOfPublication\tint\n",
       "\tPublisher\tstr\n",
       "\tImageUrlSmall\tstr\n",
       "\tImageUrlMedium\tstr\n",
       "\tImageUrlLarge\tstr\n",
       "\n",
       "Rows: 10\n",
       "\n",
       "Data:\n",
       "+-----------+-------------------------------+----------------------+-------------------+\n",
       "|    ISBN   |           BookTitle           |      BookAuthor      | YearOfPublication |\n",
       "+-----------+-------------------------------+----------------------+-------------------+\n",
       "| 195153448 |      Classical Mythology      |  Mark P. O. Morford  |        2002       |\n",
       "|  2005018  |          Clara Callan         | Richard Bruce Wright |        2001       |\n",
       "|  60973129 |      Decision in Normandy     |     Carlo D'Este     |        1991       |\n",
       "| 374157065 | Flu: The Story of the Grea... |   Gina Bari Kolata   |        1999       |\n",
       "| 393045218 |     The Mummies of Urumchi    |   E. J. W. Barber    |        1999       |\n",
       "| 399135782 |     The Kitchen God's Wife    |       Amy Tan        |        1991       |\n",
       "| 425176428 | What If?: The World's Fore... |    Robert Cowley     |        2000       |\n",
       "| 671870432 |        PLEADING GUILTY        |     Scott Turow      |        1993       |\n",
       "| 679425608 | Under the Black Flag: The ... |   David Cordingly    |        1996       |\n",
       "|    None   | Where You'll Find Me: And ... |     Ann Beattie      |        2002       |\n",
       "+-----------+-------------------------------+----------------------+-------------------+\n",
       "+----------------------------+-------------------------------+\n",
       "|         Publisher          |         ImageUrlSmall         |\n",
       "+----------------------------+-------------------------------+\n",
       "|  Oxford University Press   | http://images.amazon.com/i... |\n",
       "|   HarperFlamingo Canada    | http://images.amazon.com/i... |\n",
       "|      HarperPerennial       | http://images.amazon.com/i... |\n",
       "|    Farrar Straus Giroux    | http://images.amazon.com/i... |\n",
       "| W. W. Norton &amp; Company | http://images.amazon.com/i... |\n",
       "|      Putnam Pub Group      | http://images.amazon.com/i... |\n",
       "|  Berkley Publishing Group  | http://images.amazon.com/i... |\n",
       "|         Audioworks         | http://images.amazon.com/i... |\n",
       "|        Random House        | http://images.amazon.com/i... |\n",
       "|          Scribner          | http://images.amazon.com/i... |\n",
       "+----------------------------+-------------------------------+\n",
       "+-------------------------------+-------------------------------+\n",
       "|         ImageUrlMedium        |         ImageUrlLarge         |\n",
       "+-------------------------------+-------------------------------+\n",
       "| http://images.amazon.com/i... | http://images.amazon.com/i... |\n",
       "| http://images.amazon.com/i... | http://images.amazon.com/i... |\n",
       "| http://images.amazon.com/i... | http://images.amazon.com/i... |\n",
       "| http://images.amazon.com/i... | http://images.amazon.com/i... |\n",
       "| http://images.amazon.com/i... | http://images.amazon.com/i... |\n",
       "| http://images.amazon.com/i... | http://images.amazon.com/i... |\n",
       "| http://images.amazon.com/i... | http://images.amazon.com/i... |\n",
       "| http://images.amazon.com/i... | http://images.amazon.com/i... |\n",
       "| http://images.amazon.com/i... | http://images.amazon.com/i... |\n",
       "| http://images.amazon.com/i... | http://images.amazon.com/i... |\n",
       "+-------------------------------+-------------------------------+\n",
       "[10 rows x 8 columns]"
      ]
     },
     "execution_count": 9,
     "metadata": {},
     "output_type": "execute_result"
    }
   ],
   "source": [
    "items.head()"
   ]
  },
  {
   "cell_type": "code",
   "execution_count": 10,
   "metadata": {
    "collapsed": true
   },
   "outputs": [],
   "source": [
    "actions = dfRating"
   ]
  },
  {
   "cell_type": "code",
   "execution_count": 11,
   "metadata": {
    "collapsed": false
   },
   "outputs": [
    {
     "data": {
      "text/plain": [
       "<bound method SFrame.column_names of Columns:\n",
       "\tUserID\tint\n",
       "\tISBN\tstr\n",
       "\tBookRating\tint\n",
       "\n",
       "Rows: 176015\n",
       "\n",
       "Data:\n",
       "+--------+------------+------------+\n",
       "| UserID |    ISBN    | BookRating |\n",
       "+--------+------------+------------+\n",
       "| 276726 | 0155061224 |     5      |\n",
       "| 276729 | 052165615X |     3      |\n",
       "| 276729 | 0521795028 |     6      |\n",
       "| 276736 | 3257224281 |     8      |\n",
       "| 276737 | 0600570967 |     6      |\n",
       "| 276744 | 038550120X |     7      |\n",
       "| 276745 | 342310538  |     10     |\n",
       "| 276747 | 0060517794 |     9      |\n",
       "| 276747 | 0671537458 |     9      |\n",
       "| 276747 | 0679776818 |     8      |\n",
       "+--------+------------+------------+\n",
       "[176015 rows x 3 columns]\n",
       "Note: Only the head of the SFrame is printed.\n",
       "You can use print_rows(num_rows=m, num_columns=n) to print more rows and columns.>"
      ]
     },
     "execution_count": 11,
     "metadata": {},
     "output_type": "execute_result"
    }
   ],
   "source": [
    "actions.column_names"
   ]
  },
  {
   "cell_type": "code",
   "execution_count": 12,
   "metadata": {
    "collapsed": false,
    "scrolled": true
   },
   "outputs": [
    {
     "data": {
      "text/html": [
       "<pre>Recsys training: model = item_similarity</pre>"
      ],
      "text/plain": [
       "Recsys training: model = item_similarity"
      ]
     },
     "metadata": {},
     "output_type": "display_data"
    },
    {
     "data": {
      "text/html": [
       "<pre>Warning: Column 'BookRating' ignored.</pre>"
      ],
      "text/plain": [
       "Warning: Column 'BookRating' ignored."
      ]
     },
     "metadata": {},
     "output_type": "display_data"
    },
    {
     "data": {
      "text/html": [
       "<pre>    To use this column as the target, set target = \"BookRating\" and use a method that allows the use of a target.</pre>"
      ],
      "text/plain": [
       "    To use this column as the target, set target = \"BookRating\" and use a method that allows the use of a target."
      ]
     },
     "metadata": {},
     "output_type": "display_data"
    },
    {
     "data": {
      "text/html": [
       "<pre>Preparing data set.</pre>"
      ],
      "text/plain": [
       "Preparing data set."
      ]
     },
     "metadata": {},
     "output_type": "display_data"
    },
    {
     "data": {
      "text/html": [
       "<pre>    Data has 175064 observations with 32965 users and 95438 items.</pre>"
      ],
      "text/plain": [
       "    Data has 175064 observations with 32965 users and 95438 items."
      ]
     },
     "metadata": {},
     "output_type": "display_data"
    },
    {
     "data": {
      "text/html": [
       "<pre>    Data prepared in: 0.279657s</pre>"
      ],
      "text/plain": [
       "    Data prepared in: 0.279657s"
      ]
     },
     "metadata": {},
     "output_type": "display_data"
    },
    {
     "data": {
      "text/html": [
       "<pre>Training model from provided data.</pre>"
      ],
      "text/plain": [
       "Training model from provided data."
      ]
     },
     "metadata": {},
     "output_type": "display_data"
    },
    {
     "data": {
      "text/html": [
       "<pre>Gathering per-item and per-user statistics.</pre>"
      ],
      "text/plain": [
       "Gathering per-item and per-user statistics."
      ]
     },
     "metadata": {},
     "output_type": "display_data"
    },
    {
     "data": {
      "text/html": [
       "<pre>+--------------------------------+------------+</pre>"
      ],
      "text/plain": [
       "+--------------------------------+------------+"
      ]
     },
     "metadata": {},
     "output_type": "display_data"
    },
    {
     "data": {
      "text/html": [
       "<pre>| Elapsed Time (Item Statistics) | % Complete |</pre>"
      ],
      "text/plain": [
       "| Elapsed Time (Item Statistics) | % Complete |"
      ]
     },
     "metadata": {},
     "output_type": "display_data"
    },
    {
     "data": {
      "text/html": [
       "<pre>+--------------------------------+------------+</pre>"
      ],
      "text/plain": [
       "+--------------------------------+------------+"
      ]
     },
     "metadata": {},
     "output_type": "display_data"
    },
    {
     "data": {
      "text/html": [
       "<pre>| 89.177ms                       | 24.25      |</pre>"
      ],
      "text/plain": [
       "| 89.177ms                       | 24.25      |"
      ]
     },
     "metadata": {},
     "output_type": "display_data"
    },
    {
     "data": {
      "text/html": [
       "<pre>| 93.368ms                       | 100        |</pre>"
      ],
      "text/plain": [
       "| 93.368ms                       | 100        |"
      ]
     },
     "metadata": {},
     "output_type": "display_data"
    },
    {
     "data": {
      "text/html": [
       "<pre>+--------------------------------+------------+</pre>"
      ],
      "text/plain": [
       "+--------------------------------+------------+"
      ]
     },
     "metadata": {},
     "output_type": "display_data"
    },
    {
     "data": {
      "text/html": [
       "<pre>Setting up lookup tables.</pre>"
      ],
      "text/plain": [
       "Setting up lookup tables."
      ]
     },
     "metadata": {},
     "output_type": "display_data"
    },
    {
     "data": {
      "text/html": [
       "<pre>Processing data in 5 passes using dense lookup tables.</pre>"
      ],
      "text/plain": [
       "Processing data in 5 passes using dense lookup tables."
      ]
     },
     "metadata": {},
     "output_type": "display_data"
    },
    {
     "data": {
      "text/html": [
       "<pre>+-------------------------------------+------------------+-----------------+</pre>"
      ],
      "text/plain": [
       "+-------------------------------------+------------------+-----------------+"
      ]
     },
     "metadata": {},
     "output_type": "display_data"
    },
    {
     "data": {
      "text/html": [
       "<pre>| Elapsed Time (Constructing Lookups) | Total % Complete | Items Processed |</pre>"
      ],
      "text/plain": [
       "| Elapsed Time (Constructing Lookups) | Total % Complete | Items Processed |"
      ]
     },
     "metadata": {},
     "output_type": "display_data"
    },
    {
     "data": {
      "text/html": [
       "<pre>+-------------------------------------+------------------+-----------------+</pre>"
      ],
      "text/plain": [
       "+-------------------------------------+------------------+-----------------+"
      ]
     },
     "metadata": {},
     "output_type": "display_data"
    },
    {
     "data": {
      "text/html": [
       "<pre>| 7.08s                               | 0                | 0               |</pre>"
      ],
      "text/plain": [
       "| 7.08s                               | 0                | 0               |"
      ]
     },
     "metadata": {},
     "output_type": "display_data"
    },
    {
     "data": {
      "text/html": [
       "<pre>| 8.08s                               | 19.5             | 18750           |</pre>"
      ],
      "text/plain": [
       "| 8.08s                               | 19.5             | 18750           |"
      ]
     },
     "metadata": {},
     "output_type": "display_data"
    },
    {
     "data": {
      "text/html": [
       "<pre>| 35.20s                              | 19.75            | 19087           |</pre>"
      ],
      "text/plain": [
       "| 35.20s                              | 19.75            | 19087           |"
      ]
     },
     "metadata": {},
     "output_type": "display_data"
    },
    {
     "data": {
      "text/html": [
       "<pre>| 1m 3s                               | 39.75            | 38174           |</pre>"
      ],
      "text/plain": [
       "| 1m 3s                               | 39.75            | 38174           |"
      ]
     },
     "metadata": {},
     "output_type": "display_data"
    },
    {
     "data": {
      "text/html": [
       "<pre>| 1m 31s                              | 59.75            | 57262           |</pre>"
      ],
      "text/plain": [
       "| 1m 31s                              | 59.75            | 57262           |"
      ]
     },
     "metadata": {},
     "output_type": "display_data"
    },
    {
     "data": {
      "text/html": [
       "<pre>| 1m 52s                              | 79.75            | 76349           |</pre>"
      ],
      "text/plain": [
       "| 1m 52s                              | 79.75            | 76349           |"
      ]
     },
     "metadata": {},
     "output_type": "display_data"
    },
    {
     "data": {
      "text/html": [
       "<pre>| 1m 56s                              | 100              | 95438           |</pre>"
      ],
      "text/plain": [
       "| 1m 56s                              | 100              | 95438           |"
      ]
     },
     "metadata": {},
     "output_type": "display_data"
    },
    {
     "data": {
      "text/html": [
       "<pre>+-------------------------------------+------------------+-----------------+</pre>"
      ],
      "text/plain": [
       "+-------------------------------------+------------------+-----------------+"
      ]
     },
     "metadata": {},
     "output_type": "display_data"
    },
    {
     "data": {
      "text/html": [
       "<pre>Finalizing lookup tables.</pre>"
      ],
      "text/plain": [
       "Finalizing lookup tables."
      ]
     },
     "metadata": {},
     "output_type": "display_data"
    },
    {
     "data": {
      "text/html": [
       "<pre>Generating candidate set for working with new users.</pre>"
      ],
      "text/plain": [
       "Generating candidate set for working with new users."
      ]
     },
     "metadata": {},
     "output_type": "display_data"
    },
    {
     "data": {
      "text/html": [
       "<pre>Finished training in 117.383s</pre>"
      ],
      "text/plain": [
       "Finished training in 117.383s"
      ]
     },
     "metadata": {},
     "output_type": "display_data"
    }
   ],
   "source": [
    "training_data, validation_data = gl.recommender.util.random_split_by_user(actions, 'UserID', 'ISBN')\n",
    "model = gl.recommender.create(training_data, 'UserID', 'ISBN')"
   ]
  },
  {
   "cell_type": "code",
   "execution_count": 13,
   "metadata": {
    "collapsed": false
   },
   "outputs": [
    {
     "data": {
      "text/html": [
       "<pre>recommendations finished on 1000/32965 queries. users per second: 1357.35</pre>"
      ],
      "text/plain": [
       "recommendations finished on 1000/32965 queries. users per second: 1357.35"
      ]
     },
     "metadata": {},
     "output_type": "display_data"
    },
    {
     "data": {
      "text/html": [
       "<pre>recommendations finished on 2000/32965 queries. users per second: 1379.89</pre>"
      ],
      "text/plain": [
       "recommendations finished on 2000/32965 queries. users per second: 1379.89"
      ]
     },
     "metadata": {},
     "output_type": "display_data"
    },
    {
     "data": {
      "text/html": [
       "<pre>recommendations finished on 3000/32965 queries. users per second: 1390.4</pre>"
      ],
      "text/plain": [
       "recommendations finished on 3000/32965 queries. users per second: 1390.4"
      ]
     },
     "metadata": {},
     "output_type": "display_data"
    },
    {
     "data": {
      "text/html": [
       "<pre>recommendations finished on 4000/32965 queries. users per second: 1394.17</pre>"
      ],
      "text/plain": [
       "recommendations finished on 4000/32965 queries. users per second: 1394.17"
      ]
     },
     "metadata": {},
     "output_type": "display_data"
    },
    {
     "data": {
      "text/html": [
       "<pre>recommendations finished on 5000/32965 queries. users per second: 1400.95</pre>"
      ],
      "text/plain": [
       "recommendations finished on 5000/32965 queries. users per second: 1400.95"
      ]
     },
     "metadata": {},
     "output_type": "display_data"
    },
    {
     "data": {
      "text/html": [
       "<pre>recommendations finished on 6000/32965 queries. users per second: 1393.7</pre>"
      ],
      "text/plain": [
       "recommendations finished on 6000/32965 queries. users per second: 1393.7"
      ]
     },
     "metadata": {},
     "output_type": "display_data"
    },
    {
     "data": {
      "text/html": [
       "<pre>recommendations finished on 7000/32965 queries. users per second: 1396.66</pre>"
      ],
      "text/plain": [
       "recommendations finished on 7000/32965 queries. users per second: 1396.66"
      ]
     },
     "metadata": {},
     "output_type": "display_data"
    },
    {
     "data": {
      "text/html": [
       "<pre>recommendations finished on 8000/32965 queries. users per second: 1398.64</pre>"
      ],
      "text/plain": [
       "recommendations finished on 8000/32965 queries. users per second: 1398.64"
      ]
     },
     "metadata": {},
     "output_type": "display_data"
    },
    {
     "data": {
      "text/html": [
       "<pre>recommendations finished on 9000/32965 queries. users per second: 1395.52</pre>"
      ],
      "text/plain": [
       "recommendations finished on 9000/32965 queries. users per second: 1395.52"
      ]
     },
     "metadata": {},
     "output_type": "display_data"
    },
    {
     "data": {
      "text/html": [
       "<pre>recommendations finished on 10000/32965 queries. users per second: 1396.71</pre>"
      ],
      "text/plain": [
       "recommendations finished on 10000/32965 queries. users per second: 1396.71"
      ]
     },
     "metadata": {},
     "output_type": "display_data"
    },
    {
     "data": {
      "text/html": [
       "<pre>recommendations finished on 11000/32965 queries. users per second: 1400.18</pre>"
      ],
      "text/plain": [
       "recommendations finished on 11000/32965 queries. users per second: 1400.18"
      ]
     },
     "metadata": {},
     "output_type": "display_data"
    },
    {
     "data": {
      "text/html": [
       "<pre>recommendations finished on 12000/32965 queries. users per second: 1397.43</pre>"
      ],
      "text/plain": [
       "recommendations finished on 12000/32965 queries. users per second: 1397.43"
      ]
     },
     "metadata": {},
     "output_type": "display_data"
    },
    {
     "data": {
      "text/html": [
       "<pre>recommendations finished on 13000/32965 queries. users per second: 1398.82</pre>"
      ],
      "text/plain": [
       "recommendations finished on 13000/32965 queries. users per second: 1398.82"
      ]
     },
     "metadata": {},
     "output_type": "display_data"
    },
    {
     "data": {
      "text/html": [
       "<pre>recommendations finished on 14000/32965 queries. users per second: 1398.58</pre>"
      ],
      "text/plain": [
       "recommendations finished on 14000/32965 queries. users per second: 1398.58"
      ]
     },
     "metadata": {},
     "output_type": "display_data"
    },
    {
     "data": {
      "text/html": [
       "<pre>recommendations finished on 15000/32965 queries. users per second: 1397.65</pre>"
      ],
      "text/plain": [
       "recommendations finished on 15000/32965 queries. users per second: 1397.65"
      ]
     },
     "metadata": {},
     "output_type": "display_data"
    },
    {
     "data": {
      "text/html": [
       "<pre>recommendations finished on 16000/32965 queries. users per second: 1398.49</pre>"
      ],
      "text/plain": [
       "recommendations finished on 16000/32965 queries. users per second: 1398.49"
      ]
     },
     "metadata": {},
     "output_type": "display_data"
    },
    {
     "data": {
      "text/html": [
       "<pre>recommendations finished on 17000/32965 queries. users per second: 1400.62</pre>"
      ],
      "text/plain": [
       "recommendations finished on 17000/32965 queries. users per second: 1400.62"
      ]
     },
     "metadata": {},
     "output_type": "display_data"
    },
    {
     "data": {
      "text/html": [
       "<pre>recommendations finished on 18000/32965 queries. users per second: 1401.45</pre>"
      ],
      "text/plain": [
       "recommendations finished on 18000/32965 queries. users per second: 1401.45"
      ]
     },
     "metadata": {},
     "output_type": "display_data"
    },
    {
     "data": {
      "text/html": [
       "<pre>recommendations finished on 19000/32965 queries. users per second: 1402.1</pre>"
      ],
      "text/plain": [
       "recommendations finished on 19000/32965 queries. users per second: 1402.1"
      ]
     },
     "metadata": {},
     "output_type": "display_data"
    },
    {
     "data": {
      "text/html": [
       "<pre>recommendations finished on 20000/32965 queries. users per second: 1404.28</pre>"
      ],
      "text/plain": [
       "recommendations finished on 20000/32965 queries. users per second: 1404.28"
      ]
     },
     "metadata": {},
     "output_type": "display_data"
    },
    {
     "data": {
      "text/html": [
       "<pre>recommendations finished on 21000/32965 queries. users per second: 1404.88</pre>"
      ],
      "text/plain": [
       "recommendations finished on 21000/32965 queries. users per second: 1404.88"
      ]
     },
     "metadata": {},
     "output_type": "display_data"
    },
    {
     "data": {
      "text/html": [
       "<pre>recommendations finished on 22000/32965 queries. users per second: 1404.13</pre>"
      ],
      "text/plain": [
       "recommendations finished on 22000/32965 queries. users per second: 1404.13"
      ]
     },
     "metadata": {},
     "output_type": "display_data"
    },
    {
     "data": {
      "text/html": [
       "<pre>recommendations finished on 23000/32965 queries. users per second: 1402.85</pre>"
      ],
      "text/plain": [
       "recommendations finished on 23000/32965 queries. users per second: 1402.85"
      ]
     },
     "metadata": {},
     "output_type": "display_data"
    },
    {
     "data": {
      "text/html": [
       "<pre>recommendations finished on 24000/32965 queries. users per second: 1401.3</pre>"
      ],
      "text/plain": [
       "recommendations finished on 24000/32965 queries. users per second: 1401.3"
      ]
     },
     "metadata": {},
     "output_type": "display_data"
    },
    {
     "data": {
      "text/html": [
       "<pre>recommendations finished on 25000/32965 queries. users per second: 1401.18</pre>"
      ],
      "text/plain": [
       "recommendations finished on 25000/32965 queries. users per second: 1401.18"
      ]
     },
     "metadata": {},
     "output_type": "display_data"
    },
    {
     "data": {
      "text/html": [
       "<pre>recommendations finished on 26000/32965 queries. users per second: 1400.82</pre>"
      ],
      "text/plain": [
       "recommendations finished on 26000/32965 queries. users per second: 1400.82"
      ]
     },
     "metadata": {},
     "output_type": "display_data"
    },
    {
     "data": {
      "text/html": [
       "<pre>recommendations finished on 27000/32965 queries. users per second: 1401.3</pre>"
      ],
      "text/plain": [
       "recommendations finished on 27000/32965 queries. users per second: 1401.3"
      ]
     },
     "metadata": {},
     "output_type": "display_data"
    },
    {
     "data": {
      "text/html": [
       "<pre>recommendations finished on 28000/32965 queries. users per second: 1401.95</pre>"
      ],
      "text/plain": [
       "recommendations finished on 28000/32965 queries. users per second: 1401.95"
      ]
     },
     "metadata": {},
     "output_type": "display_data"
    },
    {
     "data": {
      "text/html": [
       "<pre>recommendations finished on 29000/32965 queries. users per second: 1402</pre>"
      ],
      "text/plain": [
       "recommendations finished on 29000/32965 queries. users per second: 1402"
      ]
     },
     "metadata": {},
     "output_type": "display_data"
    },
    {
     "data": {
      "text/html": [
       "<pre>recommendations finished on 30000/32965 queries. users per second: 1402.95</pre>"
      ],
      "text/plain": [
       "recommendations finished on 30000/32965 queries. users per second: 1402.95"
      ]
     },
     "metadata": {},
     "output_type": "display_data"
    },
    {
     "data": {
      "text/html": [
       "<pre>recommendations finished on 31000/32965 queries. users per second: 1403.62</pre>"
      ],
      "text/plain": [
       "recommendations finished on 31000/32965 queries. users per second: 1403.62"
      ]
     },
     "metadata": {},
     "output_type": "display_data"
    },
    {
     "data": {
      "text/html": [
       "<pre>recommendations finished on 32000/32965 queries. users per second: 1403.76</pre>"
      ],
      "text/plain": [
       "recommendations finished on 32000/32965 queries. users per second: 1403.76"
      ]
     },
     "metadata": {},
     "output_type": "display_data"
    }
   ],
   "source": [
    "results = model.recommend()"
   ]
  },
  {
   "cell_type": "code",
   "execution_count": 14,
   "metadata": {
    "collapsed": false
   },
   "outputs": [
    {
     "data": {
      "text/plain": [
       "u'/Users/chrisanalytics/iCloud Drive (Archive)/Desktop/bootcamp007_project/Project5-Capstone/shopaholics/collabFiltPython'"
      ]
     },
     "execution_count": 14,
     "metadata": {},
     "output_type": "execute_result"
    }
   ],
   "source": [
    "pwd"
   ]
  },
  {
   "cell_type": "code",
   "execution_count": 15,
   "metadata": {
    "collapsed": false
   },
   "outputs": [],
   "source": [
    "my_list_of_items = pd.read_csv('../BX-CSV-Dump/books1000.csv')"
   ]
  },
  {
   "cell_type": "code",
   "execution_count": 16,
   "metadata": {
    "collapsed": false
   },
   "outputs": [],
   "source": [
    "my_list_of_items = gl.SArray(my_list_of_items['ISBN'])"
   ]
  },
  {
   "cell_type": "code",
   "execution_count": 17,
   "metadata": {
    "collapsed": false
   },
   "outputs": [],
   "source": [
    "similar_items = model.get_similar_items(my_list_of_items[:10], k=20)\n"
   ]
  },
  {
   "cell_type": "code",
   "execution_count": 18,
   "metadata": {
    "collapsed": false
   },
   "outputs": [
    {
     "data": {
      "text/html": [
       "<div style=\"max-height:1000px;max-width:1500px;overflow:auto;\"><table frame=\"box\" rules=\"cols\">\n",
       "    <tr>\n",
       "        <th style=\"padding-left: 1em; padding-right: 1em; text-align: center\">ISBN</th>\n",
       "        <th style=\"padding-left: 1em; padding-right: 1em; text-align: center\">similar</th>\n",
       "        <th style=\"padding-left: 1em; padding-right: 1em; text-align: center\">score</th>\n",
       "        <th style=\"padding-left: 1em; padding-right: 1em; text-align: center\">rank</th>\n",
       "    </tr>\n",
       "    <tr>\n",
       "        <td style=\"padding-left: 1em; padding-right: 1em; text-align: center; vertical-align: top\">0971880107</td>\n",
       "        <td style=\"padding-left: 1em; padding-right: 1em; text-align: center; vertical-align: top\">0385504209</td>\n",
       "        <td style=\"padding-left: 1em; padding-right: 1em; text-align: center; vertical-align: top\">0.0217391252518</td>\n",
       "        <td style=\"padding-left: 1em; padding-right: 1em; text-align: center; vertical-align: top\">1</td>\n",
       "    </tr>\n",
       "    <tr>\n",
       "        <td style=\"padding-left: 1em; padding-right: 1em; text-align: center; vertical-align: top\">0971880107</td>\n",
       "        <td style=\"padding-left: 1em; padding-right: 1em; text-align: center; vertical-align: top\">0446605239</td>\n",
       "        <td style=\"padding-left: 1em; padding-right: 1em; text-align: center; vertical-align: top\">0.0178571343422</td>\n",
       "        <td style=\"padding-left: 1em; padding-right: 1em; text-align: center; vertical-align: top\">2</td>\n",
       "    </tr>\n",
       "    <tr>\n",
       "        <td style=\"padding-left: 1em; padding-right: 1em; text-align: center; vertical-align: top\">0971880107</td>\n",
       "        <td style=\"padding-left: 1em; padding-right: 1em; text-align: center; vertical-align: top\">0446310786</td>\n",
       "        <td style=\"padding-left: 1em; padding-right: 1em; text-align: center; vertical-align: top\">0.0176991224289</td>\n",
       "        <td style=\"padding-left: 1em; padding-right: 1em; text-align: center; vertical-align: top\">3</td>\n",
       "    </tr>\n",
       "    <tr>\n",
       "        <td style=\"padding-left: 1em; padding-right: 1em; text-align: center; vertical-align: top\">0971880107</td>\n",
       "        <td style=\"padding-left: 1em; padding-right: 1em; text-align: center; vertical-align: top\">0316666343</td>\n",
       "        <td style=\"padding-left: 1em; padding-right: 1em; text-align: center; vertical-align: top\">0.016274869442</td>\n",
       "        <td style=\"padding-left: 1em; padding-right: 1em; text-align: center; vertical-align: top\">4</td>\n",
       "    </tr>\n",
       "    <tr>\n",
       "        <td style=\"padding-left: 1em; padding-right: 1em; text-align: center; vertical-align: top\">0971880107</td>\n",
       "        <td style=\"padding-left: 1em; padding-right: 1em; text-align: center; vertical-align: top\">0345342968</td>\n",
       "        <td style=\"padding-left: 1em; padding-right: 1em; text-align: center; vertical-align: top\">0.01547986269</td>\n",
       "        <td style=\"padding-left: 1em; padding-right: 1em; text-align: center; vertical-align: top\">5</td>\n",
       "    </tr>\n",
       "    <tr>\n",
       "        <td style=\"padding-left: 1em; padding-right: 1em; text-align: center; vertical-align: top\">0971880107</td>\n",
       "        <td style=\"padding-left: 1em; padding-right: 1em; text-align: center; vertical-align: top\">1558745718</td>\n",
       "        <td style=\"padding-left: 1em; padding-right: 1em; text-align: center; vertical-align: top\">0.0143885016441</td>\n",
       "        <td style=\"padding-left: 1em; padding-right: 1em; text-align: center; vertical-align: top\">6</td>\n",
       "    </tr>\n",
       "    <tr>\n",
       "        <td style=\"padding-left: 1em; padding-right: 1em; text-align: center; vertical-align: top\">0971880107</td>\n",
       "        <td style=\"padding-left: 1em; padding-right: 1em; text-align: center; vertical-align: top\">0345339711</td>\n",
       "        <td style=\"padding-left: 1em; padding-right: 1em; text-align: center; vertical-align: top\">0.0138888955116</td>\n",
       "        <td style=\"padding-left: 1em; padding-right: 1em; text-align: center; vertical-align: top\">7</td>\n",
       "    </tr>\n",
       "    <tr>\n",
       "        <td style=\"padding-left: 1em; padding-right: 1em; text-align: center; vertical-align: top\">0971880107</td>\n",
       "        <td style=\"padding-left: 1em; padding-right: 1em; text-align: center; vertical-align: top\">0375702709</td>\n",
       "        <td style=\"padding-left: 1em; padding-right: 1em; text-align: center; vertical-align: top\">0.0137931108475</td>\n",
       "        <td style=\"padding-left: 1em; padding-right: 1em; text-align: center; vertical-align: top\">8</td>\n",
       "    </tr>\n",
       "    <tr>\n",
       "        <td style=\"padding-left: 1em; padding-right: 1em; text-align: center; vertical-align: top\">0971880107</td>\n",
       "        <td style=\"padding-left: 1em; padding-right: 1em; text-align: center; vertical-align: top\">0446672211</td>\n",
       "        <td style=\"padding-left: 1em; padding-right: 1em; text-align: center; vertical-align: top\">0.0134770870209</td>\n",
       "        <td style=\"padding-left: 1em; padding-right: 1em; text-align: center; vertical-align: top\">9</td>\n",
       "    </tr>\n",
       "    <tr>\n",
       "        <td style=\"padding-left: 1em; padding-right: 1em; text-align: center; vertical-align: top\">0971880107</td>\n",
       "        <td style=\"padding-left: 1em; padding-right: 1em; text-align: center; vertical-align: top\">0316601950</td>\n",
       "        <td style=\"padding-left: 1em; padding-right: 1em; text-align: center; vertical-align: top\">0.0132625699043</td>\n",
       "        <td style=\"padding-left: 1em; padding-right: 1em; text-align: center; vertical-align: top\">10</td>\n",
       "    </tr>\n",
       "</table>\n",
       "[200 rows x 4 columns]<br/>Note: Only the head of the SFrame is printed.<br/>You can use print_rows(num_rows=m, num_columns=n) to print more rows and columns.\n",
       "</div>"
      ],
      "text/plain": [
       "Columns:\n",
       "\tISBN\tstr\n",
       "\tsimilar\tstr\n",
       "\tscore\tfloat\n",
       "\trank\tint\n",
       "\n",
       "Rows: 200\n",
       "\n",
       "Data:\n",
       "+------------+------------+-----------------+------+\n",
       "|    ISBN    |  similar   |      score      | rank |\n",
       "+------------+------------+-----------------+------+\n",
       "| 0971880107 | 0385504209 | 0.0217391252518 |  1   |\n",
       "| 0971880107 | 0446605239 | 0.0178571343422 |  2   |\n",
       "| 0971880107 | 0446310786 | 0.0176991224289 |  3   |\n",
       "| 0971880107 | 0316666343 |  0.016274869442 |  4   |\n",
       "| 0971880107 | 0345342968 |  0.01547986269  |  5   |\n",
       "| 0971880107 | 1558745718 | 0.0143885016441 |  6   |\n",
       "| 0971880107 | 0345339711 | 0.0138888955116 |  7   |\n",
       "| 0971880107 | 0375702709 | 0.0137931108475 |  8   |\n",
       "| 0971880107 | 0446672211 | 0.0134770870209 |  9   |\n",
       "| 0971880107 | 0316601950 | 0.0132625699043 |  10  |\n",
       "+------------+------------+-----------------+------+\n",
       "[200 rows x 4 columns]\n",
       "Note: Only the head of the SFrame is printed.\n",
       "You can use print_rows(num_rows=m, num_columns=n) to print more rows and columns."
      ]
     },
     "execution_count": 18,
     "metadata": {},
     "output_type": "execute_result"
    }
   ],
   "source": [
    "similar_items"
   ]
  },
  {
   "cell_type": "code",
   "execution_count": 19,
   "metadata": {
    "collapsed": true
   },
   "outputs": [],
   "source": [
    "booksLookup = pd.read_csv('../BX-CSV-Dump/googleBooksLookup.csv')"
   ]
  },
  {
   "cell_type": "code",
   "execution_count": 20,
   "metadata": {
    "collapsed": false
   },
   "outputs": [
    {
     "name": "stdout",
     "output_type": "stream",
     "text": [
      "CPU times: user 9.44 ms, sys: 2.47 ms, total: 11.9 ms\n",
      "Wall time: 10.4 ms\n",
      "CPU times: user 4.48 ms, sys: 1.09 ms, total: 5.56 ms\n",
      "Wall time: 21.8 ms\n"
     ]
    }
   ],
   "source": [
    "%time dataset_handle_1 = pd.read_csv('../BX-CSV-Dump/googleBooksLookup.csv')\n",
    "%time dataset_handle_2 = pd.read_csv('../BX-CSV-Dump/googleBooksLookup2.csv')"
   ]
  },
  {
   "cell_type": "code",
   "execution_count": 21,
   "metadata": {
    "collapsed": true
   },
   "outputs": [],
   "source": [
    "dataset_handle_2 = dataset_handle_2[['isbn', 'title', 'authors', 'publishedDate', 'publisher',\\\n",
    "                                    'categories', 'pageCount', 'averageRating', 'ratingsCount',\\\n",
    "                                    'maturityRating', 'imageThumbnail', 'infoLink', 'textSnippet']]\n",
    " \n",
    "frames = [dataset_handle_1, dataset_handle_2]\n",
    "googleBooksLookupDF = pd.concat(frames)"
   ]
  },
  {
   "cell_type": "code",
   "execution_count": 22,
   "metadata": {
    "collapsed": false
   },
   "outputs": [
    {
     "data": {
      "text/plain": [
       "Index([u'isbn', u'title', u'authors', u'publishedDate', u'publisher',\n",
       "       u'categories', u'pageCount', u'averageRating', u'ratingsCount',\n",
       "       u'maturityRating', u'imageThumbnail', u'infoLink', u'textSnippet'],\n",
       "      dtype='object')"
      ]
     },
     "execution_count": 22,
     "metadata": {},
     "output_type": "execute_result"
    }
   ],
   "source": [
    "googleBooksLookupDF.head()\n",
    "googleBooksLookupDF.columns"
   ]
  },
  {
   "cell_type": "code",
   "execution_count": 23,
   "metadata": {
    "collapsed": false
   },
   "outputs": [],
   "source": [
    "def ISBNlookup(i):\n",
    "    return googleBooksLookupDF[googleBooksLookupDF['isbn']== i][['isbn','title','authors','publisher','imageThumbnail' ]]"
   ]
  },
  {
   "cell_type": "code",
   "execution_count": 24,
   "metadata": {
    "collapsed": false
   },
   "outputs": [
    {
     "data": {
      "text/plain": [
       "pandas.core.series.Series"
      ]
     },
     "execution_count": 24,
     "metadata": {},
     "output_type": "execute_result"
    }
   ],
   "source": [
    "type(googleBooksLookupDF['isbn'])"
   ]
  },
  {
   "cell_type": "code",
   "execution_count": 25,
   "metadata": {
    "collapsed": false
   },
   "outputs": [
    {
     "data": {
      "text/html": [
       "<div>\n",
       "<table border=\"1\" class=\"dataframe\">\n",
       "  <thead>\n",
       "    <tr style=\"text-align: right;\">\n",
       "      <th></th>\n",
       "      <th>isbn</th>\n",
       "      <th>title</th>\n",
       "      <th>authors</th>\n",
       "      <th>publisher</th>\n",
       "      <th>imageThumbnail</th>\n",
       "    </tr>\n",
       "  </thead>\n",
       "  <tbody>\n",
       "    <tr>\n",
       "      <th>0</th>\n",
       "      <td>0971880107</td>\n",
       "      <td>Wild Animus</td>\n",
       "      <td>Rich Shapero</td>\n",
       "      <td>Too Far Pub</td>\n",
       "      <td>http://books.google.com/books/content?id=cbGr5...</td>\n",
       "    </tr>\n",
       "  </tbody>\n",
       "</table>\n",
       "</div>"
      ],
      "text/plain": [
       "         isbn        title       authors    publisher  \\\n",
       "0  0971880107  Wild Animus  Rich Shapero  Too Far Pub   \n",
       "\n",
       "                                      imageThumbnail  \n",
       "0  http://books.google.com/books/content?id=cbGr5...  "
      ]
     },
     "execution_count": 25,
     "metadata": {},
     "output_type": "execute_result"
    }
   ],
   "source": [
    "ISBNlookup('0971880107')"
   ]
  },
  {
   "cell_type": "code",
   "execution_count": 26,
   "metadata": {
    "collapsed": true
   },
   "outputs": [],
   "source": [
    "model.save('my_model')"
   ]
  },
  {
   "cell_type": "code",
   "execution_count": 27,
   "metadata": {
    "collapsed": false
   },
   "outputs": [],
   "source": [
    "model = gl.load_model('my_model')"
   ]
  },
  {
   "cell_type": "code",
   "execution_count": 28,
   "metadata": {
    "collapsed": false
   },
   "outputs": [
    {
     "data": {
      "text/plain": [
       "<bound method ItemSimilarityRecommender.get of Class                            : ItemSimilarityRecommender\n",
       "\n",
       "Schema\n",
       "------\n",
       "User ID                          : UserID\n",
       "Item ID                          : ISBN\n",
       "Target                           : None\n",
       "Additional observation features  : 0\n",
       "User side features               : []\n",
       "Item side features               : []\n",
       "\n",
       "Statistics\n",
       "----------\n",
       "Number of observations           : 175064\n",
       "Number of users                  : 32965\n",
       "Number of items                  : 95438\n",
       "\n",
       "Training summary\n",
       "----------------\n",
       "Training time                    : 117.3833\n",
       "\n",
       "Model Parameters\n",
       "----------------\n",
       "Model class                      : ItemSimilarityRecommender\n",
       "threshold                        : 0.001\n",
       "similarity_type                  : jaccard\n",
       "training_method                  : auto\n",
       "\n",
       "Other Settings\n",
       "--------------\n",
       "degree_approximation_threshold   : 4096\n",
       "sparse_density_estimation_sample_size : 4096\n",
       "max_data_passes                  : 4096\n",
       "target_memory_usage              : 8589934592\n",
       "seed_item_set_size               : 50\n",
       "nearest_neighbors_interaction_proportion_threshold : 0.05\n",
       "max_item_neighborhood_size       : 64\n",
       ">"
      ]
     },
     "execution_count": 28,
     "metadata": {},
     "output_type": "execute_result"
    }
   ],
   "source": [
    "model.get"
   ]
  },
  {
   "cell_type": "markdown",
   "metadata": {},
   "source": [
    "## Visualization"
   ]
  },
  {
   "cell_type": "code",
   "execution_count": 29,
   "metadata": {
    "collapsed": true
   },
   "outputs": [],
   "source": [
    "items = googleBooksLookupDF"
   ]
  },
  {
   "cell_type": "code",
   "execution_count": 30,
   "metadata": {
    "collapsed": false
   },
   "outputs": [
    {
     "data": {
      "text/plain": [
       "pandas.core.frame.DataFrame"
      ]
     },
     "execution_count": 30,
     "metadata": {},
     "output_type": "execute_result"
    }
   ],
   "source": [
    "type(items)"
   ]
  },
  {
   "cell_type": "code",
   "execution_count": 31,
   "metadata": {
    "collapsed": false
   },
   "outputs": [
    {
     "data": {
      "text/plain": [
       "graphlab.data_structures.sframe.SFrame"
      ]
     },
     "execution_count": 31,
     "metadata": {},
     "output_type": "execute_result"
    }
   ],
   "source": [
    "validation_data.head()\n",
    "type(validation_data)"
   ]
  },
  {
   "cell_type": "code",
   "execution_count": 32,
   "metadata": {
    "collapsed": false
   },
   "outputs": [
    {
     "ename": "NameError",
     "evalue": "name 'user_data' is not defined",
     "output_type": "error",
     "traceback": [
      "\u001b[0;31m---------------------------------------------------------------------------\u001b[0m",
      "\u001b[0;31mNameError\u001b[0m                                 Traceback (most recent call last)",
      "\u001b[0;32m<ipython-input-32-28124d67ac6c>\u001b[0m in \u001b[0;36m<module>\u001b[0;34m()\u001b[0m\n\u001b[0;32m----> 1\u001b[0;31m \u001b[0muser_data\u001b[0m\u001b[0;34m\u001b[0m\u001b[0m\n\u001b[0m",
      "\u001b[0;31mNameError\u001b[0m: name 'user_data' is not defined"
     ]
    }
   ],
   "source": [
    "user_data"
   ]
  },
  {
   "cell_type": "code",
   "execution_count": null,
   "metadata": {
    "collapsed": true
   },
   "outputs": [],
   "source": [
    "user_name_column"
   ]
  },
  {
   "cell_type": "code",
   "execution_count": null,
   "metadata": {
    "collapsed": false
   },
   "outputs": [],
   "source": [
    "items.head()\n",
    "#type(items)\n"
   ]
  },
  {
   "cell_type": "code",
   "execution_count": null,
   "metadata": {
    "collapsed": true
   },
   "outputs": [],
   "source": [
    "item_name_column"
   ]
  },
  {
   "cell_type": "code",
   "execution_count": null,
   "metadata": {
    "collapsed": true
   },
   "outputs": [],
   "source": [
    "item_url_column"
   ]
  },
  {
   "cell_type": "code",
   "execution_count": null,
   "metadata": {
    "collapsed": false
   },
   "outputs": [],
   "source": [
    "user_data = gl.SFrame(validation_data['UserID'])\n",
    "user_data.rename({'X1':'UserID'})\n",
    "user_data.head()"
   ]
  },
  {
   "cell_type": "code",
   "execution_count": null,
   "metadata": {
    "collapsed": false
   },
   "outputs": [],
   "source": [
    "view = model.views.overview(validation_set = validation_data,\n",
    "                           user_data = user_data,\n",
    "                           user_name_column = 'UserID',\n",
    "                           item_data = items,\n",
    "                           item_name_column = 'ISBN',\n",
    "                           item_url_column = 'ImageUrlLarge')\n",
    "view.show()"
   ]
  },
  {
   "cell_type": "code",
   "execution_count": null,
   "metadata": {
    "collapsed": false
   },
   "outputs": [],
   "source": [
    "type(user_data)"
   ]
  },
  {
   "cell_type": "code",
   "execution_count": null,
   "metadata": {
    "collapsed": true
   },
   "outputs": [],
   "source": []
  }
 ],
 "metadata": {
  "anaconda-cloud": {},
  "kernelspec": {
   "display_name": "Python 2",
   "language": "python",
   "name": "python2"
  },
  "language_info": {
   "codemirror_mode": {
    "name": "ipython",
    "version": 2
   },
   "file_extension": ".py",
   "mimetype": "text/x-python",
   "name": "python",
   "nbconvert_exporter": "python",
   "pygments_lexer": "ipython2",
   "version": "2.7.11"
  }
 },
 "nbformat": 4,
 "nbformat_minor": 0
}
