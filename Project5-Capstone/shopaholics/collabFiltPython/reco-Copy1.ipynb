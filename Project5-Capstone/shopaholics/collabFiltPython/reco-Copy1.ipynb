{
 "cells": [
  {
   "cell_type": "code",
   "execution_count": 2,
   "metadata": {
    "collapsed": false
   },
   "outputs": [],
   "source": [
    "import graphlab as gl\n",
    "import pandas as pd\n",
    "import numpy as np"
   ]
  },
  {
   "cell_type": "code",
   "execution_count": 3,
   "metadata": {
    "collapsed": true
   },
   "outputs": [],
   "source": [
    "\n",
    "\n",
    "bookRatingsFile = \"../BX-CSV-Dump/ratingsCleanedWithoutZeroes.csv\""
   ]
  },
  {
   "cell_type": "code",
   "execution_count": null,
   "metadata": {
    "collapsed": true
   },
   "outputs": [],
   "source": [
    "#df[df['A'].isin([3, 6])]"
   ]
  },
  {
   "cell_type": "code",
   "execution_count": 4,
   "metadata": {
    "collapsed": false,
    "scrolled": true
   },
   "outputs": [
    {
     "name": "stdout",
     "output_type": "stream",
     "text": [
      "This non-commercial license of GraphLab Create for academic use is assigned to jhonasttan@gmail.com and will expire on December 17, 2017.\n"
     ]
    },
    {
     "name": "stderr",
     "output_type": "stream",
     "text": [
      "[INFO] graphlab.cython.cy_server: GraphLab Create v2.1 started. Logging: /tmp/graphlab_server_1481924574.log\n"
     ]
    },
    {
     "data": {
      "text/html": [
       "<pre>Unable to parse line \"72992;207038117X;0\"</pre>"
      ],
      "text/plain": [
       "Unable to parse line \"72992;207038117X;0\""
      ]
     },
     "metadata": {},
     "output_type": "display_data"
    },
    {
     "data": {
      "text/html": [
       "<pre>Unable to parse line \"72992;2070381269;0\"</pre>"
      ],
      "text/plain": [
       "Unable to parse line \"72992;2070381269;0\""
      ]
     },
     "metadata": {},
     "output_type": "display_data"
    },
    {
     "data": {
      "text/html": [
       "<pre>Unable to parse line \"72992;2070381285;0\"</pre>"
      ],
      "text/plain": [
       "Unable to parse line \"72992;2070381285;0\""
      ]
     },
     "metadata": {},
     "output_type": "display_data"
    },
    {
     "data": {
      "text/html": [
       "<pre>Unable to parse line \"141651;3426614561;0\"</pre>"
      ],
      "text/plain": [
       "Unable to parse line \"141651;3426614561;0\""
      ]
     },
     "metadata": {},
     "output_type": "display_data"
    },
    {
     "data": {
      "text/html": [
       "<pre>Unable to parse line \"72992;2070381439;0\"</pre>"
      ],
      "text/plain": [
       "Unable to parse line \"72992;2070381439;0\""
      ]
     },
     "metadata": {},
     "output_type": "display_data"
    },
    {
     "data": {
      "text/html": [
       "<pre>Unable to parse line \"141651;3426617307;0\"</pre>"
      ],
      "text/plain": [
       "Unable to parse line \"141651;3426617307;0\""
      ]
     },
     "metadata": {},
     "output_type": "display_data"
    },
    {
     "data": {
      "text/html": [
       "<pre>Unable to parse line \"72992;2070381498;0\"</pre>"
      ],
      "text/plain": [
       "Unable to parse line \"72992;2070381498;0\""
      ]
     },
     "metadata": {},
     "output_type": "display_data"
    },
    {
     "data": {
      "text/html": [
       "<pre>Unable to parse line \"141651;3442121930;4\"</pre>"
      ],
      "text/plain": [
       "Unable to parse line \"141651;3442121930;4\""
      ]
     },
     "metadata": {},
     "output_type": "display_data"
    },
    {
     "data": {
      "text/html": [
       "<pre>Unable to parse line \"72992;2070382095;0\"</pre>"
      ],
      "text/plain": [
       "Unable to parse line \"72992;2070382095;0\""
      ]
     },
     "metadata": {},
     "output_type": "display_data"
    },
    {
     "data": {
      "text/html": [
       "<pre>Unable to parse line \"141651;3442426642;10\"</pre>"
      ],
      "text/plain": [
       "Unable to parse line \"141651;3442426642;10\""
      ]
     },
     "metadata": {},
     "output_type": "display_data"
    },
    {
     "data": {
      "text/html": [
       "<pre>Unable to parse line \"72992;207038246X;0\"</pre>"
      ],
      "text/plain": [
       "Unable to parse line \"72992;207038246X;0\""
      ]
     },
     "metadata": {},
     "output_type": "display_data"
    },
    {
     "data": {
      "text/html": [
       "<pre>655971 lines failed to parse correctly</pre>"
      ],
      "text/plain": [
       "655971 lines failed to parse correctly"
      ]
     },
     "metadata": {},
     "output_type": "display_data"
    },
    {
     "data": {
      "text/html": [
       "<pre>Finished parsing file /Users/jhonasttanregalado/Documents/DataScience/bootcamp7/githubcrush/bootcamp007_project/Project5-Capstone/shopaholics/BX-CSV-Dump/ratingsCleanedWithoutZeroes.csv</pre>"
      ],
      "text/plain": [
       "Finished parsing file /Users/jhonasttanregalado/Documents/DataScience/bootcamp7/githubcrush/bootcamp007_project/Project5-Capstone/shopaholics/BX-CSV-Dump/ratingsCleanedWithoutZeroes.csv"
      ]
     },
     "metadata": {},
     "output_type": "display_data"
    },
    {
     "data": {
      "text/html": [
       "<pre>Parsing completed. Parsed 100 lines in 0.627129 secs.</pre>"
      ],
      "text/plain": [
       "Parsing completed. Parsed 100 lines in 0.627129 secs."
      ]
     },
     "metadata": {},
     "output_type": "display_data"
    },
    {
     "name": "stdout",
     "output_type": "stream",
     "text": [
      "------------------------------------------------------\n",
      "Inferred types from first 100 line(s) of file as \n",
      "column_type_hints=[int,str,int]\n",
      "If parsing fails due to incorrect types, you can correct\n",
      "the inferred type list above and pass it to read_csv in\n",
      "the column_type_hints argument\n",
      "------------------------------------------------------\n"
     ]
    },
    {
     "data": {
      "text/html": [
       "<pre>Unable to parse line \"72992;207038117X;0\"</pre>"
      ],
      "text/plain": [
       "Unable to parse line \"72992;207038117X;0\""
      ]
     },
     "metadata": {},
     "output_type": "display_data"
    },
    {
     "data": {
      "text/html": [
       "<pre>Unable to parse line \"141651;3426614561;0\"</pre>"
      ],
      "text/plain": [
       "Unable to parse line \"141651;3426614561;0\""
      ]
     },
     "metadata": {},
     "output_type": "display_data"
    },
    {
     "data": {
      "text/html": [
       "<pre>Unable to parse line \"72992;2070381269;0\"</pre>"
      ],
      "text/plain": [
       "Unable to parse line \"72992;2070381269;0\""
      ]
     },
     "metadata": {},
     "output_type": "display_data"
    },
    {
     "data": {
      "text/html": [
       "<pre>Unable to parse line \"141651;3426617307;0\"</pre>"
      ],
      "text/plain": [
       "Unable to parse line \"141651;3426617307;0\""
      ]
     },
     "metadata": {},
     "output_type": "display_data"
    },
    {
     "data": {
      "text/html": [
       "<pre>Unable to parse line \"72992;2070381285;0\"</pre>"
      ],
      "text/plain": [
       "Unable to parse line \"72992;2070381285;0\""
      ]
     },
     "metadata": {},
     "output_type": "display_data"
    },
    {
     "data": {
      "text/html": [
       "<pre>Unable to parse line \"141651;3442121930;4\"</pre>"
      ],
      "text/plain": [
       "Unable to parse line \"141651;3442121930;4\""
      ]
     },
     "metadata": {},
     "output_type": "display_data"
    },
    {
     "data": {
      "text/html": [
       "<pre>Unable to parse line \"141651;3442426642;10\"</pre>"
      ],
      "text/plain": [
       "Unable to parse line \"141651;3442426642;10\""
      ]
     },
     "metadata": {},
     "output_type": "display_data"
    },
    {
     "data": {
      "text/html": [
       "<pre>Unable to parse line \"141651;344243193X;10\"</pre>"
      ],
      "text/plain": [
       "Unable to parse line \"141651;344243193X;10\""
      ]
     },
     "metadata": {},
     "output_type": "display_data"
    },
    {
     "data": {
      "text/html": [
       "<pre>Unable to parse line \"72992;2070381439;0\"</pre>"
      ],
      "text/plain": [
       "Unable to parse line \"72992;2070381439;0\""
      ]
     },
     "metadata": {},
     "output_type": "display_data"
    },
    {
     "data": {
      "text/html": [
       "<pre>Unable to parse line \"141651;344243372X;0\"</pre>"
      ],
      "text/plain": [
       "Unable to parse line \"141651;344243372X;0\""
      ]
     },
     "metadata": {},
     "output_type": "display_data"
    },
    {
     "data": {
      "text/html": [
       "<pre>Unable to parse line \"72992;2070381498;0\"</pre>"
      ],
      "text/plain": [
       "Unable to parse line \"72992;2070381498;0\""
      ]
     },
     "metadata": {},
     "output_type": "display_data"
    },
    {
     "data": {
      "text/html": [
       "<pre>655971 lines failed to parse correctly</pre>"
      ],
      "text/plain": [
       "655971 lines failed to parse correctly"
      ]
     },
     "metadata": {},
     "output_type": "display_data"
    },
    {
     "data": {
      "text/html": [
       "<pre>Finished parsing file /Users/jhonasttanregalado/Documents/DataScience/bootcamp7/githubcrush/bootcamp007_project/Project5-Capstone/shopaholics/BX-CSV-Dump/ratingsCleanedWithoutZeroes.csv</pre>"
      ],
      "text/plain": [
       "Finished parsing file /Users/jhonasttanregalado/Documents/DataScience/bootcamp7/githubcrush/bootcamp007_project/Project5-Capstone/shopaholics/BX-CSV-Dump/ratingsCleanedWithoutZeroes.csv"
      ]
     },
     "metadata": {},
     "output_type": "display_data"
    },
    {
     "data": {
      "text/html": [
       "<pre>Parsing completed. Parsed 176015 lines in 0.413354 secs.</pre>"
      ],
      "text/plain": [
       "Parsing completed. Parsed 176015 lines in 0.413354 secs."
      ]
     },
     "metadata": {},
     "output_type": "display_data"
    }
   ],
   "source": [
    "dfRating = gl.SFrame.read_csv(bookRatingsFile)"
   ]
  },
  {
   "cell_type": "code",
   "execution_count": 5,
   "metadata": {
    "collapsed": false
   },
   "outputs": [
    {
     "data": {
      "text/plain": [
       "dtype: int\n",
       "Rows: 176015\n",
       "[276726, 276729, 276729, 276736, 276737, 276744, 276745, 276747, 276747, 276747, 276747, 276747, 276748, 276751, 276754, 276755, 276760, 276762, 276762, 276762, 276762, 276768, 276772, 276772, 276772, 276774, 276780, 276780, 276786, 276786, 276786, 276786, 276788, 276788, 276788, 276796, 276798, 276798, 276798, 276800, 276804, 276808, 276811, 276812, 276813, 276813, 276813, 276813, 276813, 276813, 276813, 276814, 276814, 276814, 276820, 276822, 276822, 276822, 276822, 276822, 276822, 276822, 276822, 276822, 276822, 276822, 276822, 276822, 276822, 276822, 276827, 276828, 276830, 276832, 276835, 276837, 276842, 276847, 276847, 276847, 276847, 276847, 276847, 276847, 276847, 276847, 276847, 276847, 276847, 276847, 276847, 276847, 276847, 276847, 276847, 276847, 276847, 276847, 276847, 276847, ... ]"
      ]
     },
     "execution_count": 5,
     "metadata": {},
     "output_type": "execute_result"
    }
   ],
   "source": [
    "dfRating['UserID']"
   ]
  },
  {
   "cell_type": "code",
   "execution_count": 29,
   "metadata": {
    "collapsed": true
   },
   "outputs": [],
   "source": [
    "items = \"../BX-CSV-Dump/bookRatingsWithGoogleFeatures.csv\""
   ]
  },
  {
   "cell_type": "code",
   "execution_count": 30,
   "metadata": {
    "collapsed": false
   },
   "outputs": [
    {
     "data": {
      "text/html": [
       "<pre>Unable to parse line \"4377,\"\\0210000010;8\"</pre>"
      ],
      "text/plain": [
       "Unable to parse line \"4377,\"\\0210000010;8\""
      ]
     },
     "metadata": {},
     "output_type": "display_data"
    },
    {
     "data": {
      "text/html": [
       "<pre>Unable to parse line \"4385;0061042331;0\"</pre>"
      ],
      "text/plain": [
       "Unable to parse line \"4385;0061042331;0\""
      ]
     },
     "metadata": {},
     "output_type": "display_data"
    },
    {
     "data": {
      "text/html": [
       "<pre>Unable to parse line \"4385;0061083402;10\"</pre>"
      ],
      "text/plain": [
       "Unable to parse line \"4385;0061083402;10\""
      ]
     },
     "metadata": {},
     "output_type": "display_data"
    },
    {
     "data": {
      "text/html": [
       "<pre>Unable to parse line \"4385;0061083577;0\"</pre>"
      ],
      "text/plain": [
       "Unable to parse line \"4385;0061083577;0\""
      ]
     },
     "metadata": {},
     "output_type": "display_data"
    },
    {
     "data": {
      "text/html": [
       "<pre>Unable to parse line \"4385;0061093343;9\"</pre>"
      ],
      "text/plain": [
       "Unable to parse line \"4385;0061093343;9\""
      ]
     },
     "metadata": {},
     "output_type": "display_data"
    },
    {
     "data": {
      "text/html": [
       "<pre>Unable to parse line \"4385;0061096156;10\"</pre>"
      ],
      "text/plain": [
       "Unable to parse line \"4385;0061096156;10\""
      ]
     },
     "metadata": {},
     "output_type": "display_data"
    },
    {
     "data": {
      "text/html": [
       "<pre>Unable to parse line \"4385;0312901925;0\"</pre>"
      ],
      "text/plain": [
       "Unable to parse line \"4385;0312901925;0\""
      ]
     },
     "metadata": {},
     "output_type": "display_data"
    },
    {
     "data": {
      "text/html": [
       "<pre>Unable to parse line \"4385;0312956762;10\"</pre>"
      ],
      "text/plain": [
       "Unable to parse line \"4385;0312956762;10\""
      ]
     },
     "metadata": {},
     "output_type": "display_data"
    },
    {
     "data": {
      "text/html": [
       "<pre>Unable to parse line \"4385;0312980353;10\"</pre>"
      ],
      "text/plain": [
       "Unable to parse line \"4385;0312980353;10\""
      ]
     },
     "metadata": {},
     "output_type": "display_data"
    },
    {
     "data": {
      "text/html": [
       "<pre>Unable to parse line \"4385;0345276353;0\"</pre>"
      ],
      "text/plain": [
       "Unable to parse line \"4385;0345276353;0\""
      ]
     },
     "metadata": {},
     "output_type": "display_data"
    },
    {
     "data": {
      "text/html": [
       "<pre>257654 lines failed to parse correctly</pre>"
      ],
      "text/plain": [
       "257654 lines failed to parse correctly"
      ]
     },
     "metadata": {},
     "output_type": "display_data"
    },
    {
     "data": {
      "text/html": [
       "<pre>Finished parsing file /Users/jhonasttanregalado/Documents/DataScience/bootcamp7/githubcrush/bootcamp007_project/Project5-Capstone/shopaholics/BX-CSV-Dump/bookRatingsWithGoogleFeatures.csv</pre>"
      ],
      "text/plain": [
       "Finished parsing file /Users/jhonasttanregalado/Documents/DataScience/bootcamp7/githubcrush/bootcamp007_project/Project5-Capstone/shopaholics/BX-CSV-Dump/bookRatingsWithGoogleFeatures.csv"
      ]
     },
     "metadata": {},
     "output_type": "display_data"
    },
    {
     "data": {
      "text/html": [
       "<pre>Parsing completed. Parsed 100 lines in 1.40026 secs.</pre>"
      ],
      "text/plain": [
       "Parsing completed. Parsed 100 lines in 1.40026 secs."
      ]
     },
     "metadata": {},
     "output_type": "display_data"
    },
    {
     "data": {
      "text/html": [
       "<pre>Unable to parse line \"4377,\"\\0210000010;8\"</pre>"
      ],
      "text/plain": [
       "Unable to parse line \"4377,\"\\0210000010;8\""
      ]
     },
     "metadata": {},
     "output_type": "display_data"
    },
    {
     "data": {
      "text/html": [
       "<pre>Unable to parse line \"4385;0061042331;0\"</pre>"
      ],
      "text/plain": [
       "Unable to parse line \"4385;0061042331;0\""
      ]
     },
     "metadata": {},
     "output_type": "display_data"
    },
    {
     "data": {
      "text/html": [
       "<pre>Unable to parse line \"4385;0061083402;10\"</pre>"
      ],
      "text/plain": [
       "Unable to parse line \"4385;0061083402;10\""
      ]
     },
     "metadata": {},
     "output_type": "display_data"
    },
    {
     "data": {
      "text/html": [
       "<pre>Unable to parse line \"4385;0061083577;0\"</pre>"
      ],
      "text/plain": [
       "Unable to parse line \"4385;0061083577;0\""
      ]
     },
     "metadata": {},
     "output_type": "display_data"
    },
    {
     "data": {
      "text/html": [
       "<pre>Unable to parse line \"4385;0061093343;9\"</pre>"
      ],
      "text/plain": [
       "Unable to parse line \"4385;0061093343;9\""
      ]
     },
     "metadata": {},
     "output_type": "display_data"
    },
    {
     "data": {
      "text/html": [
       "<pre>Unable to parse line \"4385;0061096156;10\"</pre>"
      ],
      "text/plain": [
       "Unable to parse line \"4385;0061096156;10\""
      ]
     },
     "metadata": {},
     "output_type": "display_data"
    },
    {
     "data": {
      "text/html": [
       "<pre>Unable to parse line \"4385;0312901925;0\"</pre>"
      ],
      "text/plain": [
       "Unable to parse line \"4385;0312901925;0\""
      ]
     },
     "metadata": {},
     "output_type": "display_data"
    },
    {
     "data": {
      "text/html": [
       "<pre>Unable to parse line \"4385;0312956762;10\"</pre>"
      ],
      "text/plain": [
       "Unable to parse line \"4385;0312956762;10\""
      ]
     },
     "metadata": {},
     "output_type": "display_data"
    },
    {
     "data": {
      "text/html": [
       "<pre>Unable to parse line \"4385;0312980353;10\"</pre>"
      ],
      "text/plain": [
       "Unable to parse line \"4385;0312980353;10\""
      ]
     },
     "metadata": {},
     "output_type": "display_data"
    },
    {
     "data": {
      "text/html": [
       "<pre>Unable to parse line \"4385;0345276353;0\"</pre>"
      ],
      "text/plain": [
       "Unable to parse line \"4385;0345276353;0\""
      ]
     },
     "metadata": {},
     "output_type": "display_data"
    },
    {
     "data": {
      "text/html": [
       "<pre>Read 498150 lines. Lines per second: 165278</pre>"
      ],
      "text/plain": [
       "Read 498150 lines. Lines per second: 165278"
      ]
     },
     "metadata": {},
     "output_type": "display_data"
    },
    {
     "data": {
      "text/html": [
       "<pre>655969 lines failed to parse correctly</pre>"
      ],
      "text/plain": [
       "655969 lines failed to parse correctly"
      ]
     },
     "metadata": {},
     "output_type": "display_data"
    },
    {
     "data": {
      "text/html": [
       "<pre>Finished parsing file /Users/jhonasttanregalado/Documents/DataScience/bootcamp7/githubcrush/bootcamp007_project/Project5-Capstone/shopaholics/BX-CSV-Dump/bookRatingsWithGoogleFeatures.csv</pre>"
      ],
      "text/plain": [
       "Finished parsing file /Users/jhonasttanregalado/Documents/DataScience/bootcamp7/githubcrush/bootcamp007_project/Project5-Capstone/shopaholics/BX-CSV-Dump/bookRatingsWithGoogleFeatures.csv"
      ]
     },
     "metadata": {},
     "output_type": "display_data"
    },
    {
     "data": {
      "text/html": [
       "<pre>Parsing completed. Parsed 498156 lines in 3.01409 secs.</pre>"
      ],
      "text/plain": [
       "Parsing completed. Parsed 498156 lines in 3.01409 secs."
      ]
     },
     "metadata": {},
     "output_type": "display_data"
    }
   ],
   "source": [
    "items = gl.SFrame.read_csv(items, column_type_hints={\"ISBN\":str, \"pageCount\":int})"
   ]
  },
  {
   "cell_type": "code",
   "execution_count": 32,
   "metadata": {
    "collapsed": false
   },
   "outputs": [
    {
     "data": {
      "text/plain": [
       "<bound method SFrame.column_names of Columns:\n",
       "\tUserID\tint\n",
       "\tISBN\tstr\n",
       "\tBookRating\tint\n",
       "\tisbn\tstr\n",
       "\ttitle\tstr\n",
       "\tauthors\tstr\n",
       "\tpublishedDate\tstr\n",
       "\tpublisher\tstr\n",
       "\tcategories\tstr\n",
       "\tpageCount\tint\n",
       "\taverageRating\tstr\n",
       "\tratingsCount\tstr\n",
       "\tmaturityRating\tstr\n",
       "\timageThumbnail\tstr\n",
       "\tinfoLink\tstr\n",
       "\ttextSnippet\tstr\n",
       "\t_merge\tstr\n",
       "\n",
       "Rows: 498156\n",
       "\n",
       "Data:\n",
       "+--------+---------------+------------+------+-------+---------+---------------+\n",
       "| UserID |      ISBN     | BookRating | isbn | title | authors | publishedDate |\n",
       "+--------+---------------+------------+------+-------+---------+---------------+\n",
       "| 181817 |   0330299891  |     6      |      |       |         |               |\n",
       "| 266865 |   0375404120  |     0      |      |       |         |               |\n",
       "| 199864 |    #6612432   |     5      |      |       |         |               |\n",
       "| 261539 |  '9607092856' |     0      |      |       |         |               |\n",
       "| 261539 |  '9607092910' |     10     |      |       |         |               |\n",
       "| 194500 | (THEWINDMILLP |     0      |      |       |         |               |\n",
       "| 238681 |   )440206529  |     0      |      |       |         |               |\n",
       "| 190925 |  *0515128325  |     0      |      |       |         |               |\n",
       "| 238557 |  +0451197399  |     0      |      |       |         |               |\n",
       "| 216444 | 0 00 612183 7 |     0      |      |       |         |               |\n",
       "+--------+---------------+------------+------+-------+---------+---------------+\n",
       "+-----------+------------+-----------+---------------+--------------+----------------+\n",
       "| publisher | categories | pageCount | averageRating | ratingsCount | maturityRating |\n",
       "+-----------+------------+-----------+---------------+--------------+----------------+\n",
       "|           |            |    None   |               |              |                |\n",
       "|           |            |    None   |               |              |                |\n",
       "|           |            |    None   |               |              |                |\n",
       "|           |            |    None   |               |              |                |\n",
       "|           |            |    None   |               |              |                |\n",
       "|           |            |    None   |               |              |                |\n",
       "|           |            |    None   |               |              |                |\n",
       "|           |            |    None   |               |              |                |\n",
       "|           |            |    None   |               |              |                |\n",
       "|           |            |    None   |               |              |                |\n",
       "+-----------+------------+-----------+---------------+--------------+----------------+\n",
       "+----------------+----------+-------------+-----------+\n",
       "| imageThumbnail | infoLink | textSnippet |   _merge  |\n",
       "+----------------+----------+-------------+-----------+\n",
       "|                |          |             | left_only |\n",
       "|                |          |             | left_only |\n",
       "|                |          |             | left_only |\n",
       "|                |          |             | left_only |\n",
       "|                |          |             | left_only |\n",
       "|                |          |             | left_only |\n",
       "|                |          |             | left_only |\n",
       "|                |          |             | left_only |\n",
       "|                |          |             | left_only |\n",
       "|                |          |             | left_only |\n",
       "+----------------+----------+-------------+-----------+\n",
       "[498156 rows x 17 columns]\n",
       "Note: Only the head of the SFrame is printed.\n",
       "You can use print_rows(num_rows=m, num_columns=n) to print more rows and columns.>"
      ]
     },
     "execution_count": 32,
     "metadata": {},
     "output_type": "execute_result"
    }
   ],
   "source": [
    "items.column_names"
   ]
  },
  {
   "cell_type": "code",
   "execution_count": 10,
   "metadata": {
    "collapsed": false,
    "scrolled": true
   },
   "outputs": [
    {
     "data": {
      "text/plain": [
       "dtype: str\n",
       "Rows: 498156\n",
       "['0330299891', '0375404120', '#6612432', \"'9607092856'\", \"'9607092910'\", '(THEWINDMILLP', ')440206529', '*0515128325', '+0451197399', '0 00 612183 7', '0 140362525', '0 586 05153 8', '0 671 74251 5', '0 7475 3274 5', '0 7525 1962 x', '0 85550 000 x', '0 907 062 008', '0 907 062 008', '0 907 062 008', '0*708880258', '0*708880258', '0.330241664', '0.380.50377.8', '0/330/25864/8', '00.55339', '00000000', '00000000', '000000000', '000000000', '000000000', '0000000000', '000000000000', '0000000000000', '0000000000000', '0000000008573', '0000000022057', '0000000029841', '0000000029841', '0000000029841', '0000000030670', '0000000033220', '0000000054690', '0000001042283', '0000001042283', '0000001077469', '0000001481', '000001246971', '000001246971', '000003827X', '000003827X', '0000094072', '0000121214523', '0000225820X', '00006512054', '00006750184', '00007167040', '0000722105029', '0000913154', '0001010565', '0001016237', '0001033085', '0001046713', '0001046934', '0001047647', '0001047663', '0001047868', '000104799X', '0001048759', '0001053736', '0001053744', '0001055666', '0001061615', '000123207X', '0001232088', '000123361', '0001251782', '0001374362', '0001604163', '000160418X', '0001604465', '0001643118', '0001700413', '000171306X', '000171306X', '0001713345', '0001713345', '0001717952', '0001718126', '0001821326', '0001837397', '0001839233', '000184251X', '0001845411', '0001846434', '0001848461', '0001855018', '0001856367', '0001857258', '0001857428', '0001900277', ... ]"
      ]
     },
     "execution_count": 10,
     "metadata": {},
     "output_type": "execute_result"
    }
   ],
   "source": [
    "items['ISBN']"
   ]
  },
  {
   "cell_type": "code",
   "execution_count": 11,
   "metadata": {
    "collapsed": true
   },
   "outputs": [],
   "source": [
    "actions = dfRating"
   ]
  },
  {
   "cell_type": "code",
   "execution_count": 12,
   "metadata": {
    "collapsed": false
   },
   "outputs": [
    {
     "data": {
      "text/plain": [
       "<bound method SFrame.column_names of Columns:\n",
       "\tUserID\tint\n",
       "\tISBN\tstr\n",
       "\tBookRating\tint\n",
       "\n",
       "Rows: 176015\n",
       "\n",
       "Data:\n",
       "+--------+------------+------------+\n",
       "| UserID |    ISBN    | BookRating |\n",
       "+--------+------------+------------+\n",
       "| 276726 | 0155061224 |     5      |\n",
       "| 276729 | 052165615X |     3      |\n",
       "| 276729 | 0521795028 |     6      |\n",
       "| 276736 | 3257224281 |     8      |\n",
       "| 276737 | 0600570967 |     6      |\n",
       "| 276744 | 038550120X |     7      |\n",
       "| 276745 | 342310538  |     10     |\n",
       "| 276747 | 0060517794 |     9      |\n",
       "| 276747 | 0671537458 |     9      |\n",
       "| 276747 | 0679776818 |     8      |\n",
       "+--------+------------+------------+\n",
       "[176015 rows x 3 columns]\n",
       "Note: Only the head of the SFrame is printed.\n",
       "You can use print_rows(num_rows=m, num_columns=n) to print more rows and columns.>"
      ]
     },
     "execution_count": 12,
     "metadata": {},
     "output_type": "execute_result"
    }
   ],
   "source": [
    "actions.column_names"
   ]
  },
  {
   "cell_type": "code",
   "execution_count": 13,
   "metadata": {
    "collapsed": false,
    "scrolled": true
   },
   "outputs": [
    {
     "data": {
      "text/html": [
       "<pre>Recsys training: model = item_similarity</pre>"
      ],
      "text/plain": [
       "Recsys training: model = item_similarity"
      ]
     },
     "metadata": {},
     "output_type": "display_data"
    },
    {
     "data": {
      "text/html": [
       "<pre>Warning: Column 'BookRating' ignored.</pre>"
      ],
      "text/plain": [
       "Warning: Column 'BookRating' ignored."
      ]
     },
     "metadata": {},
     "output_type": "display_data"
    },
    {
     "data": {
      "text/html": [
       "<pre>    To use this column as the target, set target = \"BookRating\" and use a method that allows the use of a target.</pre>"
      ],
      "text/plain": [
       "    To use this column as the target, set target = \"BookRating\" and use a method that allows the use of a target."
      ]
     },
     "metadata": {},
     "output_type": "display_data"
    },
    {
     "data": {
      "text/html": [
       "<pre>Preparing data set.</pre>"
      ],
      "text/plain": [
       "Preparing data set."
      ]
     },
     "metadata": {},
     "output_type": "display_data"
    },
    {
     "data": {
      "text/html": [
       "<pre>    Data has 175064 observations with 32965 users and 95438 items.</pre>"
      ],
      "text/plain": [
       "    Data has 175064 observations with 32965 users and 95438 items."
      ]
     },
     "metadata": {},
     "output_type": "display_data"
    },
    {
     "data": {
      "text/html": [
       "<pre>    Data prepared in: 0.284904s</pre>"
      ],
      "text/plain": [
       "    Data prepared in: 0.284904s"
      ]
     },
     "metadata": {},
     "output_type": "display_data"
    },
    {
     "data": {
      "text/html": [
       "<pre>Training model from provided data.</pre>"
      ],
      "text/plain": [
       "Training model from provided data."
      ]
     },
     "metadata": {},
     "output_type": "display_data"
    },
    {
     "data": {
      "text/html": [
       "<pre>Gathering per-item and per-user statistics.</pre>"
      ],
      "text/plain": [
       "Gathering per-item and per-user statistics."
      ]
     },
     "metadata": {},
     "output_type": "display_data"
    },
    {
     "data": {
      "text/html": [
       "<pre>+--------------------------------+------------+</pre>"
      ],
      "text/plain": [
       "+--------------------------------+------------+"
      ]
     },
     "metadata": {},
     "output_type": "display_data"
    },
    {
     "data": {
      "text/html": [
       "<pre>| Elapsed Time (Item Statistics) | % Complete |</pre>"
      ],
      "text/plain": [
       "| Elapsed Time (Item Statistics) | % Complete |"
      ]
     },
     "metadata": {},
     "output_type": "display_data"
    },
    {
     "data": {
      "text/html": [
       "<pre>+--------------------------------+------------+</pre>"
      ],
      "text/plain": [
       "+--------------------------------+------------+"
      ]
     },
     "metadata": {},
     "output_type": "display_data"
    },
    {
     "data": {
      "text/html": [
       "<pre>| 1.777ms                        | 21         |</pre>"
      ],
      "text/plain": [
       "| 1.777ms                        | 21         |"
      ]
     },
     "metadata": {},
     "output_type": "display_data"
    },
    {
     "data": {
      "text/html": [
       "<pre>| 14.48ms                        | 100        |</pre>"
      ],
      "text/plain": [
       "| 14.48ms                        | 100        |"
      ]
     },
     "metadata": {},
     "output_type": "display_data"
    },
    {
     "data": {
      "text/html": [
       "<pre>+--------------------------------+------------+</pre>"
      ],
      "text/plain": [
       "+--------------------------------+------------+"
      ]
     },
     "metadata": {},
     "output_type": "display_data"
    },
    {
     "data": {
      "text/html": [
       "<pre>Setting up lookup tables.</pre>"
      ],
      "text/plain": [
       "Setting up lookup tables."
      ]
     },
     "metadata": {},
     "output_type": "display_data"
    },
    {
     "data": {
      "text/html": [
       "<pre>Processing data in 5 passes using dense lookup tables.</pre>"
      ],
      "text/plain": [
       "Processing data in 5 passes using dense lookup tables."
      ]
     },
     "metadata": {},
     "output_type": "display_data"
    },
    {
     "data": {
      "text/html": [
       "<pre>+-------------------------------------+------------------+-----------------+</pre>"
      ],
      "text/plain": [
       "+-------------------------------------+------------------+-----------------+"
      ]
     },
     "metadata": {},
     "output_type": "display_data"
    },
    {
     "data": {
      "text/html": [
       "<pre>| Elapsed Time (Constructing Lookups) | Total % Complete | Items Processed |</pre>"
      ],
      "text/plain": [
       "| Elapsed Time (Constructing Lookups) | Total % Complete | Items Processed |"
      ]
     },
     "metadata": {},
     "output_type": "display_data"
    },
    {
     "data": {
      "text/html": [
       "<pre>+-------------------------------------+------------------+-----------------+</pre>"
      ],
      "text/plain": [
       "+-------------------------------------+------------------+-----------------+"
      ]
     },
     "metadata": {},
     "output_type": "display_data"
    },
    {
     "data": {
      "text/html": [
       "<pre>| 11.79s                              | 0                | 0               |</pre>"
      ],
      "text/plain": [
       "| 11.79s                              | 0                | 0               |"
      ]
     },
     "metadata": {},
     "output_type": "display_data"
    },
    {
     "data": {
      "text/html": [
       "<pre>| 12.79s                              | 14               | 13428           |</pre>"
      ],
      "text/plain": [
       "| 12.79s                              | 14               | 13428           |"
      ]
     },
     "metadata": {},
     "output_type": "display_data"
    },
    {
     "data": {
      "text/html": [
       "<pre>| 13.79s                              | 19.75            | 19071           |</pre>"
      ],
      "text/plain": [
       "| 13.79s                              | 19.75            | 19071           |"
      ]
     },
     "metadata": {},
     "output_type": "display_data"
    },
    {
     "data": {
      "text/html": [
       "<pre>| 1m 9s                               | 19.75            | 19087           |</pre>"
      ],
      "text/plain": [
       "| 1m 9s                               | 19.75            | 19087           |"
      ]
     },
     "metadata": {},
     "output_type": "display_data"
    },
    {
     "data": {
      "text/html": [
       "<pre>| 1m 58s                              | 39.75            | 38174           |</pre>"
      ],
      "text/plain": [
       "| 1m 58s                              | 39.75            | 38174           |"
      ]
     },
     "metadata": {},
     "output_type": "display_data"
    },
    {
     "data": {
      "text/html": [
       "<pre>| 2m 53s                              | 59.75            | 57262           |</pre>"
      ],
      "text/plain": [
       "| 2m 53s                              | 59.75            | 57262           |"
      ]
     },
     "metadata": {},
     "output_type": "display_data"
    },
    {
     "data": {
      "text/html": [
       "<pre>| 3m 27s                              | 79.75            | 76349           |</pre>"
      ],
      "text/plain": [
       "| 3m 27s                              | 79.75            | 76349           |"
      ]
     },
     "metadata": {},
     "output_type": "display_data"
    },
    {
     "data": {
      "text/html": [
       "<pre>| 3m 33s                              | 100              | 95438           |</pre>"
      ],
      "text/plain": [
       "| 3m 33s                              | 100              | 95438           |"
      ]
     },
     "metadata": {},
     "output_type": "display_data"
    },
    {
     "data": {
      "text/html": [
       "<pre>+-------------------------------------+------------------+-----------------+</pre>"
      ],
      "text/plain": [
       "+-------------------------------------+------------------+-----------------+"
      ]
     },
     "metadata": {},
     "output_type": "display_data"
    },
    {
     "data": {
      "text/html": [
       "<pre>Finalizing lookup tables.</pre>"
      ],
      "text/plain": [
       "Finalizing lookup tables."
      ]
     },
     "metadata": {},
     "output_type": "display_data"
    },
    {
     "data": {
      "text/html": [
       "<pre>Generating candidate set for working with new users.</pre>"
      ],
      "text/plain": [
       "Generating candidate set for working with new users."
      ]
     },
     "metadata": {},
     "output_type": "display_data"
    },
    {
     "data": {
      "text/html": [
       "<pre>Finished training in 215.089s</pre>"
      ],
      "text/plain": [
       "Finished training in 215.089s"
      ]
     },
     "metadata": {},
     "output_type": "display_data"
    }
   ],
   "source": [
    "training_data, validation_data = gl.recommender.util.random_split_by_user(actions, 'UserID', 'ISBN')\n",
    "model = gl.recommender.create(training_data, 'UserID', 'ISBN')"
   ]
  },
  {
   "cell_type": "code",
   "execution_count": 14,
   "metadata": {
    "collapsed": false
   },
   "outputs": [
    {
     "data": {
      "text/plain": [
       "<bound method SFrame.column_names of Columns:\n",
       "\tUserID\tint\n",
       "\tISBN\tstr\n",
       "\tBookRating\tint\n",
       "\tisbn\tstr\n",
       "\ttitle\tstr\n",
       "\tauthors\tstr\n",
       "\tpublishedDate\tstr\n",
       "\tpublisher\tstr\n",
       "\tcategories\tstr\n",
       "\tpageCount\tstr\n",
       "\taverageRating\tstr\n",
       "\tratingsCount\tstr\n",
       "\tmaturityRating\tstr\n",
       "\timageThumbnail\tstr\n",
       "\tinfoLink\tstr\n",
       "\ttextSnippet\tstr\n",
       "\t_merge\tstr\n",
       "\n",
       "Rows: 498156\n",
       "\n",
       "Data:\n",
       "+--------+---------------+------------+------+-------+---------+---------------+\n",
       "| UserID |      ISBN     | BookRating | isbn | title | authors | publishedDate |\n",
       "+--------+---------------+------------+------+-------+---------+---------------+\n",
       "| 181817 |   0330299891  |     6      |      |       |         |               |\n",
       "| 266865 |   0375404120  |     0      |      |       |         |               |\n",
       "| 199864 |    #6612432   |     5      |      |       |         |               |\n",
       "| 261539 |  '9607092856' |     0      |      |       |         |               |\n",
       "| 261539 |  '9607092910' |     10     |      |       |         |               |\n",
       "| 194500 | (THEWINDMILLP |     0      |      |       |         |               |\n",
       "| 238681 |   )440206529  |     0      |      |       |         |               |\n",
       "| 190925 |  *0515128325  |     0      |      |       |         |               |\n",
       "| 238557 |  +0451197399  |     0      |      |       |         |               |\n",
       "| 216444 | 0 00 612183 7 |     0      |      |       |         |               |\n",
       "+--------+---------------+------------+------+-------+---------+---------------+\n",
       "+-----------+------------+-----------+---------------+--------------+----------------+\n",
       "| publisher | categories | pageCount | averageRating | ratingsCount | maturityRating |\n",
       "+-----------+------------+-----------+---------------+--------------+----------------+\n",
       "|           |            |           |               |              |                |\n",
       "|           |            |           |               |              |                |\n",
       "|           |            |           |               |              |                |\n",
       "|           |            |           |               |              |                |\n",
       "|           |            |           |               |              |                |\n",
       "|           |            |           |               |              |                |\n",
       "|           |            |           |               |              |                |\n",
       "|           |            |           |               |              |                |\n",
       "|           |            |           |               |              |                |\n",
       "|           |            |           |               |              |                |\n",
       "+-----------+------------+-----------+---------------+--------------+----------------+\n",
       "+----------------+----------+-------------+-----------+\n",
       "| imageThumbnail | infoLink | textSnippet |   _merge  |\n",
       "+----------------+----------+-------------+-----------+\n",
       "|                |          |             | left_only |\n",
       "|                |          |             | left_only |\n",
       "|                |          |             | left_only |\n",
       "|                |          |             | left_only |\n",
       "|                |          |             | left_only |\n",
       "|                |          |             | left_only |\n",
       "|                |          |             | left_only |\n",
       "|                |          |             | left_only |\n",
       "|                |          |             | left_only |\n",
       "|                |          |             | left_only |\n",
       "+----------------+----------+-------------+-----------+\n",
       "[498156 rows x 17 columns]\n",
       "Note: Only the head of the SFrame is printed.\n",
       "You can use print_rows(num_rows=m, num_columns=n) to print more rows and columns.>"
      ]
     },
     "execution_count": 14,
     "metadata": {},
     "output_type": "execute_result"
    }
   ],
   "source": [
    "items.column_names"
   ]
  },
  {
   "cell_type": "code",
   "execution_count": 15,
   "metadata": {
    "collapsed": false
   },
   "outputs": [
    {
     "data": {
      "text/html": [
       "<pre>recommendations finished on 1000/32965 queries. users per second: 1268.98</pre>"
      ],
      "text/plain": [
       "recommendations finished on 1000/32965 queries. users per second: 1268.98"
      ]
     },
     "metadata": {},
     "output_type": "display_data"
    },
    {
     "data": {
      "text/html": [
       "<pre>recommendations finished on 2000/32965 queries. users per second: 1251.75</pre>"
      ],
      "text/plain": [
       "recommendations finished on 2000/32965 queries. users per second: 1251.75"
      ]
     },
     "metadata": {},
     "output_type": "display_data"
    },
    {
     "data": {
      "text/html": [
       "<pre>recommendations finished on 3000/32965 queries. users per second: 1236</pre>"
      ],
      "text/plain": [
       "recommendations finished on 3000/32965 queries. users per second: 1236"
      ]
     },
     "metadata": {},
     "output_type": "display_data"
    },
    {
     "data": {
      "text/html": [
       "<pre>recommendations finished on 4000/32965 queries. users per second: 1054.48</pre>"
      ],
      "text/plain": [
       "recommendations finished on 4000/32965 queries. users per second: 1054.48"
      ]
     },
     "metadata": {},
     "output_type": "display_data"
    },
    {
     "data": {
      "text/html": [
       "<pre>recommendations finished on 5000/32965 queries. users per second: 1066.16</pre>"
      ],
      "text/plain": [
       "recommendations finished on 5000/32965 queries. users per second: 1066.16"
      ]
     },
     "metadata": {},
     "output_type": "display_data"
    },
    {
     "data": {
      "text/html": [
       "<pre>recommendations finished on 6000/32965 queries. users per second: 1107.8</pre>"
      ],
      "text/plain": [
       "recommendations finished on 6000/32965 queries. users per second: 1107.8"
      ]
     },
     "metadata": {},
     "output_type": "display_data"
    },
    {
     "data": {
      "text/html": [
       "<pre>recommendations finished on 7000/32965 queries. users per second: 1145.64</pre>"
      ],
      "text/plain": [
       "recommendations finished on 7000/32965 queries. users per second: 1145.64"
      ]
     },
     "metadata": {},
     "output_type": "display_data"
    },
    {
     "data": {
      "text/html": [
       "<pre>recommendations finished on 8000/32965 queries. users per second: 1177.45</pre>"
      ],
      "text/plain": [
       "recommendations finished on 8000/32965 queries. users per second: 1177.45"
      ]
     },
     "metadata": {},
     "output_type": "display_data"
    },
    {
     "data": {
      "text/html": [
       "<pre>recommendations finished on 9000/32965 queries. users per second: 1201.93</pre>"
      ],
      "text/plain": [
       "recommendations finished on 9000/32965 queries. users per second: 1201.93"
      ]
     },
     "metadata": {},
     "output_type": "display_data"
    },
    {
     "data": {
      "text/html": [
       "<pre>recommendations finished on 10000/32965 queries. users per second: 1223.72</pre>"
      ],
      "text/plain": [
       "recommendations finished on 10000/32965 queries. users per second: 1223.72"
      ]
     },
     "metadata": {},
     "output_type": "display_data"
    },
    {
     "data": {
      "text/html": [
       "<pre>recommendations finished on 11000/32965 queries. users per second: 1240.96</pre>"
      ],
      "text/plain": [
       "recommendations finished on 11000/32965 queries. users per second: 1240.96"
      ]
     },
     "metadata": {},
     "output_type": "display_data"
    },
    {
     "data": {
      "text/html": [
       "<pre>recommendations finished on 12000/32965 queries. users per second: 1253.34</pre>"
      ],
      "text/plain": [
       "recommendations finished on 12000/32965 queries. users per second: 1253.34"
      ]
     },
     "metadata": {},
     "output_type": "display_data"
    },
    {
     "data": {
      "text/html": [
       "<pre>recommendations finished on 13000/32965 queries. users per second: 1262.42</pre>"
      ],
      "text/plain": [
       "recommendations finished on 13000/32965 queries. users per second: 1262.42"
      ]
     },
     "metadata": {},
     "output_type": "display_data"
    },
    {
     "data": {
      "text/html": [
       "<pre>recommendations finished on 14000/32965 queries. users per second: 1273.98</pre>"
      ],
      "text/plain": [
       "recommendations finished on 14000/32965 queries. users per second: 1273.98"
      ]
     },
     "metadata": {},
     "output_type": "display_data"
    },
    {
     "data": {
      "text/html": [
       "<pre>recommendations finished on 15000/32965 queries. users per second: 1279.1</pre>"
      ],
      "text/plain": [
       "recommendations finished on 15000/32965 queries. users per second: 1279.1"
      ]
     },
     "metadata": {},
     "output_type": "display_data"
    },
    {
     "data": {
      "text/html": [
       "<pre>recommendations finished on 16000/32965 queries. users per second: 1287.51</pre>"
      ],
      "text/plain": [
       "recommendations finished on 16000/32965 queries. users per second: 1287.51"
      ]
     },
     "metadata": {},
     "output_type": "display_data"
    },
    {
     "data": {
      "text/html": [
       "<pre>recommendations finished on 17000/32965 queries. users per second: 1295.87</pre>"
      ],
      "text/plain": [
       "recommendations finished on 17000/32965 queries. users per second: 1295.87"
      ]
     },
     "metadata": {},
     "output_type": "display_data"
    },
    {
     "data": {
      "text/html": [
       "<pre>recommendations finished on 18000/32965 queries. users per second: 1303.58</pre>"
      ],
      "text/plain": [
       "recommendations finished on 18000/32965 queries. users per second: 1303.58"
      ]
     },
     "metadata": {},
     "output_type": "display_data"
    },
    {
     "data": {
      "text/html": [
       "<pre>recommendations finished on 19000/32965 queries. users per second: 1310</pre>"
      ],
      "text/plain": [
       "recommendations finished on 19000/32965 queries. users per second: 1310"
      ]
     },
     "metadata": {},
     "output_type": "display_data"
    },
    {
     "data": {
      "text/html": [
       "<pre>recommendations finished on 20000/32965 queries. users per second: 1315.04</pre>"
      ],
      "text/plain": [
       "recommendations finished on 20000/32965 queries. users per second: 1315.04"
      ]
     },
     "metadata": {},
     "output_type": "display_data"
    },
    {
     "data": {
      "text/html": [
       "<pre>recommendations finished on 21000/32965 queries. users per second: 1320.16</pre>"
      ],
      "text/plain": [
       "recommendations finished on 21000/32965 queries. users per second: 1320.16"
      ]
     },
     "metadata": {},
     "output_type": "display_data"
    },
    {
     "data": {
      "text/html": [
       "<pre>recommendations finished on 22000/32965 queries. users per second: 1325.35</pre>"
      ],
      "text/plain": [
       "recommendations finished on 22000/32965 queries. users per second: 1325.35"
      ]
     },
     "metadata": {},
     "output_type": "display_data"
    },
    {
     "data": {
      "text/html": [
       "<pre>recommendations finished on 23000/32965 queries. users per second: 1327.78</pre>"
      ],
      "text/plain": [
       "recommendations finished on 23000/32965 queries. users per second: 1327.78"
      ]
     },
     "metadata": {},
     "output_type": "display_data"
    },
    {
     "data": {
      "text/html": [
       "<pre>recommendations finished on 24000/32965 queries. users per second: 1332.17</pre>"
      ],
      "text/plain": [
       "recommendations finished on 24000/32965 queries. users per second: 1332.17"
      ]
     },
     "metadata": {},
     "output_type": "display_data"
    },
    {
     "data": {
      "text/html": [
       "<pre>recommendations finished on 25000/32965 queries. users per second: 1336.55</pre>"
      ],
      "text/plain": [
       "recommendations finished on 25000/32965 queries. users per second: 1336.55"
      ]
     },
     "metadata": {},
     "output_type": "display_data"
    },
    {
     "data": {
      "text/html": [
       "<pre>recommendations finished on 26000/32965 queries. users per second: 1338.89</pre>"
      ],
      "text/plain": [
       "recommendations finished on 26000/32965 queries. users per second: 1338.89"
      ]
     },
     "metadata": {},
     "output_type": "display_data"
    },
    {
     "data": {
      "text/html": [
       "<pre>recommendations finished on 27000/32965 queries. users per second: 1341.82</pre>"
      ],
      "text/plain": [
       "recommendations finished on 27000/32965 queries. users per second: 1341.82"
      ]
     },
     "metadata": {},
     "output_type": "display_data"
    },
    {
     "data": {
      "text/html": [
       "<pre>recommendations finished on 28000/32965 queries. users per second: 1343.81</pre>"
      ],
      "text/plain": [
       "recommendations finished on 28000/32965 queries. users per second: 1343.81"
      ]
     },
     "metadata": {},
     "output_type": "display_data"
    },
    {
     "data": {
      "text/html": [
       "<pre>recommendations finished on 29000/32965 queries. users per second: 1346.2</pre>"
      ],
      "text/plain": [
       "recommendations finished on 29000/32965 queries. users per second: 1346.2"
      ]
     },
     "metadata": {},
     "output_type": "display_data"
    },
    {
     "data": {
      "text/html": [
       "<pre>recommendations finished on 30000/32965 queries. users per second: 1348.46</pre>"
      ],
      "text/plain": [
       "recommendations finished on 30000/32965 queries. users per second: 1348.46"
      ]
     },
     "metadata": {},
     "output_type": "display_data"
    },
    {
     "data": {
      "text/html": [
       "<pre>recommendations finished on 31000/32965 queries. users per second: 1351.95</pre>"
      ],
      "text/plain": [
       "recommendations finished on 31000/32965 queries. users per second: 1351.95"
      ]
     },
     "metadata": {},
     "output_type": "display_data"
    },
    {
     "data": {
      "text/html": [
       "<pre>recommendations finished on 32000/32965 queries. users per second: 1354.36</pre>"
      ],
      "text/plain": [
       "recommendations finished on 32000/32965 queries. users per second: 1354.36"
      ]
     },
     "metadata": {},
     "output_type": "display_data"
    }
   ],
   "source": [
    "results = model.recommend()"
   ]
  },
  {
   "cell_type": "code",
   "execution_count": 16,
   "metadata": {
    "collapsed": false
   },
   "outputs": [
    {
     "data": {
      "text/plain": [
       "u'/Users/jhonasttanregalado/Documents/DataScience/bootcamp7/githubcrush/bootcamp007_project/Project5-Capstone/shopaholics/collabFiltPython'"
      ]
     },
     "execution_count": 16,
     "metadata": {},
     "output_type": "execute_result"
    }
   ],
   "source": [
    "pwd"
   ]
  },
  {
   "cell_type": "code",
   "execution_count": 16,
   "metadata": {
    "collapsed": false
   },
   "outputs": [],
   "source": [
    "my_list_of_items = pd.read_csv('../BX-CSV-Dump/books1000.csv')"
   ]
  },
  {
   "cell_type": "code",
   "execution_count": 17,
   "metadata": {
    "collapsed": false
   },
   "outputs": [],
   "source": [
    "my_list_of_items = gl.SArray(my_list_of_items['ISBN'])"
   ]
  },
  {
   "cell_type": "code",
   "execution_count": 18,
   "metadata": {
    "collapsed": false
   },
   "outputs": [],
   "source": [
    "similar_items = model.get_similar_items(my_list_of_items[:10], k=20)\n"
   ]
  },
  {
   "cell_type": "code",
   "execution_count": 19,
   "metadata": {
    "collapsed": false
   },
   "outputs": [
    {
     "data": {
      "text/html": [
       "<div style=\"max-height:1000px;max-width:1500px;overflow:auto;\"><table frame=\"box\" rules=\"cols\">\n",
       "    <tr>\n",
       "        <th style=\"padding-left: 1em; padding-right: 1em; text-align: center\">ISBN</th>\n",
       "        <th style=\"padding-left: 1em; padding-right: 1em; text-align: center\">similar</th>\n",
       "        <th style=\"padding-left: 1em; padding-right: 1em; text-align: center\">score</th>\n",
       "        <th style=\"padding-left: 1em; padding-right: 1em; text-align: center\">rank</th>\n",
       "    </tr>\n",
       "    <tr>\n",
       "        <td style=\"padding-left: 1em; padding-right: 1em; text-align: center; vertical-align: top\">0971880107</td>\n",
       "        <td style=\"padding-left: 1em; padding-right: 1em; text-align: center; vertical-align: top\">0385504209</td>\n",
       "        <td style=\"padding-left: 1em; padding-right: 1em; text-align: center; vertical-align: top\">0.0217391252518</td>\n",
       "        <td style=\"padding-left: 1em; padding-right: 1em; text-align: center; vertical-align: top\">1</td>\n",
       "    </tr>\n",
       "    <tr>\n",
       "        <td style=\"padding-left: 1em; padding-right: 1em; text-align: center; vertical-align: top\">0971880107</td>\n",
       "        <td style=\"padding-left: 1em; padding-right: 1em; text-align: center; vertical-align: top\">0446605239</td>\n",
       "        <td style=\"padding-left: 1em; padding-right: 1em; text-align: center; vertical-align: top\">0.0178571343422</td>\n",
       "        <td style=\"padding-left: 1em; padding-right: 1em; text-align: center; vertical-align: top\">2</td>\n",
       "    </tr>\n",
       "    <tr>\n",
       "        <td style=\"padding-left: 1em; padding-right: 1em; text-align: center; vertical-align: top\">0971880107</td>\n",
       "        <td style=\"padding-left: 1em; padding-right: 1em; text-align: center; vertical-align: top\">0446310786</td>\n",
       "        <td style=\"padding-left: 1em; padding-right: 1em; text-align: center; vertical-align: top\">0.0176991224289</td>\n",
       "        <td style=\"padding-left: 1em; padding-right: 1em; text-align: center; vertical-align: top\">3</td>\n",
       "    </tr>\n",
       "    <tr>\n",
       "        <td style=\"padding-left: 1em; padding-right: 1em; text-align: center; vertical-align: top\">0971880107</td>\n",
       "        <td style=\"padding-left: 1em; padding-right: 1em; text-align: center; vertical-align: top\">0316666343</td>\n",
       "        <td style=\"padding-left: 1em; padding-right: 1em; text-align: center; vertical-align: top\">0.016274869442</td>\n",
       "        <td style=\"padding-left: 1em; padding-right: 1em; text-align: center; vertical-align: top\">4</td>\n",
       "    </tr>\n",
       "    <tr>\n",
       "        <td style=\"padding-left: 1em; padding-right: 1em; text-align: center; vertical-align: top\">0971880107</td>\n",
       "        <td style=\"padding-left: 1em; padding-right: 1em; text-align: center; vertical-align: top\">0345342968</td>\n",
       "        <td style=\"padding-left: 1em; padding-right: 1em; text-align: center; vertical-align: top\">0.01547986269</td>\n",
       "        <td style=\"padding-left: 1em; padding-right: 1em; text-align: center; vertical-align: top\">5</td>\n",
       "    </tr>\n",
       "    <tr>\n",
       "        <td style=\"padding-left: 1em; padding-right: 1em; text-align: center; vertical-align: top\">0971880107</td>\n",
       "        <td style=\"padding-left: 1em; padding-right: 1em; text-align: center; vertical-align: top\">1558745718</td>\n",
       "        <td style=\"padding-left: 1em; padding-right: 1em; text-align: center; vertical-align: top\">0.0143885016441</td>\n",
       "        <td style=\"padding-left: 1em; padding-right: 1em; text-align: center; vertical-align: top\">6</td>\n",
       "    </tr>\n",
       "    <tr>\n",
       "        <td style=\"padding-left: 1em; padding-right: 1em; text-align: center; vertical-align: top\">0971880107</td>\n",
       "        <td style=\"padding-left: 1em; padding-right: 1em; text-align: center; vertical-align: top\">0345339711</td>\n",
       "        <td style=\"padding-left: 1em; padding-right: 1em; text-align: center; vertical-align: top\">0.0138888955116</td>\n",
       "        <td style=\"padding-left: 1em; padding-right: 1em; text-align: center; vertical-align: top\">7</td>\n",
       "    </tr>\n",
       "    <tr>\n",
       "        <td style=\"padding-left: 1em; padding-right: 1em; text-align: center; vertical-align: top\">0971880107</td>\n",
       "        <td style=\"padding-left: 1em; padding-right: 1em; text-align: center; vertical-align: top\">0375702709</td>\n",
       "        <td style=\"padding-left: 1em; padding-right: 1em; text-align: center; vertical-align: top\">0.0137931108475</td>\n",
       "        <td style=\"padding-left: 1em; padding-right: 1em; text-align: center; vertical-align: top\">8</td>\n",
       "    </tr>\n",
       "    <tr>\n",
       "        <td style=\"padding-left: 1em; padding-right: 1em; text-align: center; vertical-align: top\">0971880107</td>\n",
       "        <td style=\"padding-left: 1em; padding-right: 1em; text-align: center; vertical-align: top\">0446672211</td>\n",
       "        <td style=\"padding-left: 1em; padding-right: 1em; text-align: center; vertical-align: top\">0.0134770870209</td>\n",
       "        <td style=\"padding-left: 1em; padding-right: 1em; text-align: center; vertical-align: top\">9</td>\n",
       "    </tr>\n",
       "    <tr>\n",
       "        <td style=\"padding-left: 1em; padding-right: 1em; text-align: center; vertical-align: top\">0971880107</td>\n",
       "        <td style=\"padding-left: 1em; padding-right: 1em; text-align: center; vertical-align: top\">0316601950</td>\n",
       "        <td style=\"padding-left: 1em; padding-right: 1em; text-align: center; vertical-align: top\">0.0132625699043</td>\n",
       "        <td style=\"padding-left: 1em; padding-right: 1em; text-align: center; vertical-align: top\">10</td>\n",
       "    </tr>\n",
       "</table>\n",
       "[200 rows x 4 columns]<br/>Note: Only the head of the SFrame is printed.<br/>You can use print_rows(num_rows=m, num_columns=n) to print more rows and columns.\n",
       "</div>"
      ],
      "text/plain": [
       "Columns:\n",
       "\tISBN\tstr\n",
       "\tsimilar\tstr\n",
       "\tscore\tfloat\n",
       "\trank\tint\n",
       "\n",
       "Rows: 200\n",
       "\n",
       "Data:\n",
       "+------------+------------+-----------------+------+\n",
       "|    ISBN    |  similar   |      score      | rank |\n",
       "+------------+------------+-----------------+------+\n",
       "| 0971880107 | 0385504209 | 0.0217391252518 |  1   |\n",
       "| 0971880107 | 0446605239 | 0.0178571343422 |  2   |\n",
       "| 0971880107 | 0446310786 | 0.0176991224289 |  3   |\n",
       "| 0971880107 | 0316666343 |  0.016274869442 |  4   |\n",
       "| 0971880107 | 0345342968 |  0.01547986269  |  5   |\n",
       "| 0971880107 | 1558745718 | 0.0143885016441 |  6   |\n",
       "| 0971880107 | 0345339711 | 0.0138888955116 |  7   |\n",
       "| 0971880107 | 0375702709 | 0.0137931108475 |  8   |\n",
       "| 0971880107 | 0446672211 | 0.0134770870209 |  9   |\n",
       "| 0971880107 | 0316601950 | 0.0132625699043 |  10  |\n",
       "+------------+------------+-----------------+------+\n",
       "[200 rows x 4 columns]\n",
       "Note: Only the head of the SFrame is printed.\n",
       "You can use print_rows(num_rows=m, num_columns=n) to print more rows and columns."
      ]
     },
     "execution_count": 19,
     "metadata": {},
     "output_type": "execute_result"
    }
   ],
   "source": [
    "similar_items"
   ]
  },
  {
   "cell_type": "code",
   "execution_count": 20,
   "metadata": {
    "collapsed": true
   },
   "outputs": [],
   "source": [
    "booksLookup = pd.read_csv('../BX-CSV-Dump/googleBooksLookup.csv')"
   ]
  },
  {
   "cell_type": "code",
   "execution_count": 22,
   "metadata": {
    "collapsed": false
   },
   "outputs": [
    {
     "name": "stdout",
     "output_type": "stream",
     "text": [
      "CPU times: user 6.66 ms, sys: 2.77 ms, total: 9.43 ms\n",
      "Wall time: 8.75 ms\n",
      "CPU times: user 3.25 ms, sys: 794 µs, total: 4.04 ms\n",
      "Wall time: 4.09 ms\n"
     ]
    }
   ],
   "source": [
    "%time dataset_handle_1 = pd.read_csv('../BX-CSV-Dump/googleBooksLookup.csv')\n",
    "%time dataset_handle_2 = pd.read_csv('../BX-CSV-Dump/googleBooksLookup2.csv')"
   ]
  },
  {
   "cell_type": "code",
   "execution_count": 23,
   "metadata": {
    "collapsed": true
   },
   "outputs": [],
   "source": [
    "dataset_handle_2 = dataset_handle_2[['isbn', 'title', 'authors', 'publishedDate', 'publisher',\\\n",
    "                                    'categories', 'pageCount', 'averageRating', 'ratingsCount',\\\n",
    "                                    'maturityRating', 'imageThumbnail', 'infoLink', 'textSnippet']]\n",
    " \n",
    "frames = [dataset_handle_1, dataset_handle_2]\n",
    "googleBooksLookupDF = pd.concat(frames)"
   ]
  },
  {
   "cell_type": "code",
   "execution_count": 24,
   "metadata": {
    "collapsed": false
   },
   "outputs": [
    {
     "data": {
      "text/plain": [
       "Index([u'isbn', u'title', u'authors', u'publishedDate', u'publisher',\n",
       "       u'categories', u'pageCount', u'averageRating', u'ratingsCount',\n",
       "       u'maturityRating', u'imageThumbnail', u'infoLink', u'textSnippet'],\n",
       "      dtype='object')"
      ]
     },
     "execution_count": 24,
     "metadata": {},
     "output_type": "execute_result"
    }
   ],
   "source": [
    "googleBooksLookupDF.head()\n",
    "googleBooksLookupDF.columns"
   ]
  },
  {
   "cell_type": "code",
   "execution_count": 25,
   "metadata": {
    "collapsed": false
   },
   "outputs": [],
   "source": [
    "def ISBNlookup(i):\n",
    "    return googleBooksLookupDF[googleBooksLookupDF['isbn']== i][['isbn','title','authors','publisher','imageThumbnail' ]]"
   ]
  },
  {
   "cell_type": "code",
   "execution_count": 26,
   "metadata": {
    "collapsed": false
   },
   "outputs": [
    {
     "data": {
      "text/plain": [
       "pandas.core.series.Series"
      ]
     },
     "execution_count": 26,
     "metadata": {},
     "output_type": "execute_result"
    }
   ],
   "source": [
    "type(googleBooksLookupDF['isbn'])"
   ]
  },
  {
   "cell_type": "code",
   "execution_count": 27,
   "metadata": {
    "collapsed": false
   },
   "outputs": [
    {
     "data": {
      "text/html": [
       "<div>\n",
       "<table border=\"1\" class=\"dataframe\">\n",
       "  <thead>\n",
       "    <tr style=\"text-align: right;\">\n",
       "      <th></th>\n",
       "      <th>isbn</th>\n",
       "      <th>title</th>\n",
       "      <th>authors</th>\n",
       "      <th>publisher</th>\n",
       "      <th>imageThumbnail</th>\n",
       "    </tr>\n",
       "  </thead>\n",
       "  <tbody>\n",
       "    <tr>\n",
       "      <th>0</th>\n",
       "      <td>0971880107</td>\n",
       "      <td>Wild Animus</td>\n",
       "      <td>Rich Shapero</td>\n",
       "      <td>Too Far Pub</td>\n",
       "      <td>http://books.google.com/books/content?id=cbGr5...</td>\n",
       "    </tr>\n",
       "  </tbody>\n",
       "</table>\n",
       "</div>"
      ],
      "text/plain": [
       "         isbn        title       authors    publisher  \\\n",
       "0  0971880107  Wild Animus  Rich Shapero  Too Far Pub   \n",
       "\n",
       "                                      imageThumbnail  \n",
       "0  http://books.google.com/books/content?id=cbGr5...  "
      ]
     },
     "execution_count": 27,
     "metadata": {},
     "output_type": "execute_result"
    }
   ],
   "source": [
    "ISBNlookup('0971880107')"
   ]
  },
  {
   "cell_type": "code",
   "execution_count": 28,
   "metadata": {
    "collapsed": true
   },
   "outputs": [],
   "source": [
    "model.save('my_model')"
   ]
  },
  {
   "cell_type": "code",
   "execution_count": 29,
   "metadata": {
    "collapsed": false
   },
   "outputs": [],
   "source": [
    "model = gl.load_model('my_model')"
   ]
  },
  {
   "cell_type": "code",
   "execution_count": 30,
   "metadata": {
    "collapsed": false
   },
   "outputs": [
    {
     "data": {
      "text/plain": [
       "<bound method ItemSimilarityRecommender.get of Class                            : ItemSimilarityRecommender\n",
       "\n",
       "Schema\n",
       "------\n",
       "User ID                          : UserID\n",
       "Item ID                          : ISBN\n",
       "Target                           : None\n",
       "Additional observation features  : 0\n",
       "User side features               : []\n",
       "Item side features               : []\n",
       "\n",
       "Statistics\n",
       "----------\n",
       "Number of observations           : 175064\n",
       "Number of users                  : 32965\n",
       "Number of items                  : 95438\n",
       "\n",
       "Training summary\n",
       "----------------\n",
       "Training time                    : 186.9251\n",
       "\n",
       "Model Parameters\n",
       "----------------\n",
       "Model class                      : ItemSimilarityRecommender\n",
       "threshold                        : 0.001\n",
       "similarity_type                  : jaccard\n",
       "training_method                  : auto\n",
       "\n",
       "Other Settings\n",
       "--------------\n",
       "degree_approximation_threshold   : 4096\n",
       "sparse_density_estimation_sample_size : 4096\n",
       "max_data_passes                  : 4096\n",
       "target_memory_usage              : 8589934592\n",
       "seed_item_set_size               : 50\n",
       "nearest_neighbors_interaction_proportion_threshold : 0.05\n",
       "max_item_neighborhood_size       : 64\n",
       ">"
      ]
     },
     "execution_count": 30,
     "metadata": {},
     "output_type": "execute_result"
    }
   ],
   "source": [
    "model.get"
   ]
  },
  {
   "cell_type": "markdown",
   "metadata": {},
   "source": [
    "## Visualization"
   ]
  },
  {
   "cell_type": "code",
   "execution_count": 31,
   "metadata": {
    "collapsed": true
   },
   "outputs": [],
   "source": [
    "#items = googleBooksLookupDF"
   ]
  },
  {
   "cell_type": "code",
   "execution_count": 29,
   "metadata": {
    "collapsed": false
   },
   "outputs": [
    {
     "data": {
      "text/plain": [
       "pandas.core.frame.DataFrame"
      ]
     },
     "execution_count": 29,
     "metadata": {},
     "output_type": "execute_result"
    }
   ],
   "source": [
    "type(items)"
   ]
  },
  {
   "cell_type": "code",
   "execution_count": 30,
   "metadata": {
    "collapsed": false
   },
   "outputs": [
    {
     "data": {
      "text/plain": [
       "graphlab.data_structures.sframe.SFrame"
      ]
     },
     "execution_count": 30,
     "metadata": {},
     "output_type": "execute_result"
    }
   ],
   "source": [
    "validation_data.head()\n",
    "type(validation_data)"
   ]
  },
  {
   "cell_type": "code",
   "execution_count": 31,
   "metadata": {
    "collapsed": false
   },
   "outputs": [
    {
     "ename": "NameError",
     "evalue": "name 'user_data' is not defined",
     "output_type": "error",
     "traceback": [
      "\u001b[0;31m---------------------------------------------------------------------------\u001b[0m",
      "\u001b[0;31mNameError\u001b[0m                                 Traceback (most recent call last)",
      "\u001b[0;32m<ipython-input-31-28124d67ac6c>\u001b[0m in \u001b[0;36m<module>\u001b[0;34m()\u001b[0m\n\u001b[0;32m----> 1\u001b[0;31m \u001b[0muser_data\u001b[0m\u001b[0;34m\u001b[0m\u001b[0m\n\u001b[0m",
      "\u001b[0;31mNameError\u001b[0m: name 'user_data' is not defined"
     ]
    }
   ],
   "source": [
    "user_data"
   ]
  },
  {
   "cell_type": "code",
   "execution_count": 32,
   "metadata": {
    "collapsed": false
   },
   "outputs": [
    {
     "ename": "NameError",
     "evalue": "name 'user_name_column' is not defined",
     "output_type": "error",
     "traceback": [
      "\u001b[0;31m---------------------------------------------------------------------------\u001b[0m",
      "\u001b[0;31mNameError\u001b[0m                                 Traceback (most recent call last)",
      "\u001b[0;32m<ipython-input-32-f2dfe450d639>\u001b[0m in \u001b[0;36m<module>\u001b[0;34m()\u001b[0m\n\u001b[0;32m----> 1\u001b[0;31m \u001b[0muser_name_column\u001b[0m\u001b[0;34m\u001b[0m\u001b[0m\n\u001b[0m",
      "\u001b[0;31mNameError\u001b[0m: name 'user_name_column' is not defined"
     ]
    }
   ],
   "source": [
    "user_name_column"
   ]
  },
  {
   "cell_type": "code",
   "execution_count": 35,
   "metadata": {
    "collapsed": false
   },
   "outputs": [
    {
     "data": {
      "text/html": [
       "<div style=\"max-height:1000px;max-width:1500px;overflow:auto;\"><table frame=\"box\" rules=\"cols\">\n",
       "    <tr>\n",
       "        <th style=\"padding-left: 1em; padding-right: 1em; text-align: center\">ISBN</th>\n",
       "        <th style=\"padding-left: 1em; padding-right: 1em; text-align: center\">BookTitle</th>\n",
       "        <th style=\"padding-left: 1em; padding-right: 1em; text-align: center\">BookAuthor</th>\n",
       "        <th style=\"padding-left: 1em; padding-right: 1em; text-align: center\">YearOfPublication</th>\n",
       "        <th style=\"padding-left: 1em; padding-right: 1em; text-align: center\">Publisher</th>\n",
       "    </tr>\n",
       "    <tr>\n",
       "        <td style=\"padding-left: 1em; padding-right: 1em; text-align: center; vertical-align: top\">195153448</td>\n",
       "        <td style=\"padding-left: 1em; padding-right: 1em; text-align: center; vertical-align: top\">Classical Mythology</td>\n",
       "        <td style=\"padding-left: 1em; padding-right: 1em; text-align: center; vertical-align: top\">Mark P. O. Morford</td>\n",
       "        <td style=\"padding-left: 1em; padding-right: 1em; text-align: center; vertical-align: top\">2002</td>\n",
       "        <td style=\"padding-left: 1em; padding-right: 1em; text-align: center; vertical-align: top\">Oxford University Press</td>\n",
       "    </tr>\n",
       "    <tr>\n",
       "        <td style=\"padding-left: 1em; padding-right: 1em; text-align: center; vertical-align: top\">2005018</td>\n",
       "        <td style=\"padding-left: 1em; padding-right: 1em; text-align: center; vertical-align: top\">Clara Callan</td>\n",
       "        <td style=\"padding-left: 1em; padding-right: 1em; text-align: center; vertical-align: top\">Richard Bruce Wright</td>\n",
       "        <td style=\"padding-left: 1em; padding-right: 1em; text-align: center; vertical-align: top\">2001</td>\n",
       "        <td style=\"padding-left: 1em; padding-right: 1em; text-align: center; vertical-align: top\">HarperFlamingo Canada</td>\n",
       "    </tr>\n",
       "    <tr>\n",
       "        <td style=\"padding-left: 1em; padding-right: 1em; text-align: center; vertical-align: top\">60973129</td>\n",
       "        <td style=\"padding-left: 1em; padding-right: 1em; text-align: center; vertical-align: top\">Decision in Normandy</td>\n",
       "        <td style=\"padding-left: 1em; padding-right: 1em; text-align: center; vertical-align: top\">Carlo D'Este</td>\n",
       "        <td style=\"padding-left: 1em; padding-right: 1em; text-align: center; vertical-align: top\">1991</td>\n",
       "        <td style=\"padding-left: 1em; padding-right: 1em; text-align: center; vertical-align: top\">HarperPerennial</td>\n",
       "    </tr>\n",
       "    <tr>\n",
       "        <td style=\"padding-left: 1em; padding-right: 1em; text-align: center; vertical-align: top\">374157065</td>\n",
       "        <td style=\"padding-left: 1em; padding-right: 1em; text-align: center; vertical-align: top\">Flu: The Story of the<br>Great Influenza Pandemic ...</td>\n",
       "        <td style=\"padding-left: 1em; padding-right: 1em; text-align: center; vertical-align: top\">Gina Bari Kolata</td>\n",
       "        <td style=\"padding-left: 1em; padding-right: 1em; text-align: center; vertical-align: top\">1999</td>\n",
       "        <td style=\"padding-left: 1em; padding-right: 1em; text-align: center; vertical-align: top\">Farrar Straus Giroux</td>\n",
       "    </tr>\n",
       "    <tr>\n",
       "        <td style=\"padding-left: 1em; padding-right: 1em; text-align: center; vertical-align: top\">393045218</td>\n",
       "        <td style=\"padding-left: 1em; padding-right: 1em; text-align: center; vertical-align: top\">The Mummies of Urumchi</td>\n",
       "        <td style=\"padding-left: 1em; padding-right: 1em; text-align: center; vertical-align: top\">E. J. W. Barber</td>\n",
       "        <td style=\"padding-left: 1em; padding-right: 1em; text-align: center; vertical-align: top\">1999</td>\n",
       "        <td style=\"padding-left: 1em; padding-right: 1em; text-align: center; vertical-align: top\">W. W. Norton &amp;amp;<br>Company ...</td>\n",
       "    </tr>\n",
       "    <tr>\n",
       "        <td style=\"padding-left: 1em; padding-right: 1em; text-align: center; vertical-align: top\">399135782</td>\n",
       "        <td style=\"padding-left: 1em; padding-right: 1em; text-align: center; vertical-align: top\">The Kitchen God's Wife</td>\n",
       "        <td style=\"padding-left: 1em; padding-right: 1em; text-align: center; vertical-align: top\">Amy Tan</td>\n",
       "        <td style=\"padding-left: 1em; padding-right: 1em; text-align: center; vertical-align: top\">1991</td>\n",
       "        <td style=\"padding-left: 1em; padding-right: 1em; text-align: center; vertical-align: top\">Putnam Pub Group</td>\n",
       "    </tr>\n",
       "    <tr>\n",
       "        <td style=\"padding-left: 1em; padding-right: 1em; text-align: center; vertical-align: top\">425176428</td>\n",
       "        <td style=\"padding-left: 1em; padding-right: 1em; text-align: center; vertical-align: top\">What If?: The World's<br>Foremost Military ...</td>\n",
       "        <td style=\"padding-left: 1em; padding-right: 1em; text-align: center; vertical-align: top\">Robert Cowley</td>\n",
       "        <td style=\"padding-left: 1em; padding-right: 1em; text-align: center; vertical-align: top\">2000</td>\n",
       "        <td style=\"padding-left: 1em; padding-right: 1em; text-align: center; vertical-align: top\">Berkley Publishing Group</td>\n",
       "    </tr>\n",
       "    <tr>\n",
       "        <td style=\"padding-left: 1em; padding-right: 1em; text-align: center; vertical-align: top\">671870432</td>\n",
       "        <td style=\"padding-left: 1em; padding-right: 1em; text-align: center; vertical-align: top\">PLEADING GUILTY</td>\n",
       "        <td style=\"padding-left: 1em; padding-right: 1em; text-align: center; vertical-align: top\">Scott Turow</td>\n",
       "        <td style=\"padding-left: 1em; padding-right: 1em; text-align: center; vertical-align: top\">1993</td>\n",
       "        <td style=\"padding-left: 1em; padding-right: 1em; text-align: center; vertical-align: top\">Audioworks</td>\n",
       "    </tr>\n",
       "    <tr>\n",
       "        <td style=\"padding-left: 1em; padding-right: 1em; text-align: center; vertical-align: top\">679425608</td>\n",
       "        <td style=\"padding-left: 1em; padding-right: 1em; text-align: center; vertical-align: top\">Under the Black Flag: The<br>Romance and the Reality ...</td>\n",
       "        <td style=\"padding-left: 1em; padding-right: 1em; text-align: center; vertical-align: top\">David Cordingly</td>\n",
       "        <td style=\"padding-left: 1em; padding-right: 1em; text-align: center; vertical-align: top\">1996</td>\n",
       "        <td style=\"padding-left: 1em; padding-right: 1em; text-align: center; vertical-align: top\">Random House</td>\n",
       "    </tr>\n",
       "    <tr>\n",
       "        <td style=\"padding-left: 1em; padding-right: 1em; text-align: center; vertical-align: top\">None</td>\n",
       "        <td style=\"padding-left: 1em; padding-right: 1em; text-align: center; vertical-align: top\">Where You'll Find Me: And<br>Other Stories ...</td>\n",
       "        <td style=\"padding-left: 1em; padding-right: 1em; text-align: center; vertical-align: top\">Ann Beattie</td>\n",
       "        <td style=\"padding-left: 1em; padding-right: 1em; text-align: center; vertical-align: top\">2002</td>\n",
       "        <td style=\"padding-left: 1em; padding-right: 1em; text-align: center; vertical-align: top\">Scribner</td>\n",
       "    </tr>\n",
       "</table>\n",
       "<table frame=\"box\" rules=\"cols\">\n",
       "    <tr>\n",
       "        <th style=\"padding-left: 1em; padding-right: 1em; text-align: center\">ImageUrlSmall</th>\n",
       "        <th style=\"padding-left: 1em; padding-right: 1em; text-align: center\">ImageUrlMedium</th>\n",
       "        <th style=\"padding-left: 1em; padding-right: 1em; text-align: center\">ImageUrlLarge</th>\n",
       "    </tr>\n",
       "    <tr>\n",
       "        <td style=\"padding-left: 1em; padding-right: 1em; text-align: center; vertical-align: top\">http://images.amazon.com/<br>images/P/0195153448.0 ...</td>\n",
       "        <td style=\"padding-left: 1em; padding-right: 1em; text-align: center; vertical-align: top\">http://images.amazon.com/<br>images/P/0195153448.0 ...</td>\n",
       "        <td style=\"padding-left: 1em; padding-right: 1em; text-align: center; vertical-align: top\">http://images.amazon.com/<br>images/P/0195153448.0 ...</td>\n",
       "    </tr>\n",
       "    <tr>\n",
       "        <td style=\"padding-left: 1em; padding-right: 1em; text-align: center; vertical-align: top\">http://images.amazon.com/<br>images/P/0002005018.0 ...</td>\n",
       "        <td style=\"padding-left: 1em; padding-right: 1em; text-align: center; vertical-align: top\">http://images.amazon.com/<br>images/P/0002005018.0 ...</td>\n",
       "        <td style=\"padding-left: 1em; padding-right: 1em; text-align: center; vertical-align: top\">http://images.amazon.com/<br>images/P/0002005018.0 ...</td>\n",
       "    </tr>\n",
       "    <tr>\n",
       "        <td style=\"padding-left: 1em; padding-right: 1em; text-align: center; vertical-align: top\">http://images.amazon.com/<br>images/P/0060973129.0 ...</td>\n",
       "        <td style=\"padding-left: 1em; padding-right: 1em; text-align: center; vertical-align: top\">http://images.amazon.com/<br>images/P/0060973129.0 ...</td>\n",
       "        <td style=\"padding-left: 1em; padding-right: 1em; text-align: center; vertical-align: top\">http://images.amazon.com/<br>images/P/0060973129.0 ...</td>\n",
       "    </tr>\n",
       "    <tr>\n",
       "        <td style=\"padding-left: 1em; padding-right: 1em; text-align: center; vertical-align: top\">http://images.amazon.com/<br>images/P/0374157065.0 ...</td>\n",
       "        <td style=\"padding-left: 1em; padding-right: 1em; text-align: center; vertical-align: top\">http://images.amazon.com/<br>images/P/0374157065.0 ...</td>\n",
       "        <td style=\"padding-left: 1em; padding-right: 1em; text-align: center; vertical-align: top\">http://images.amazon.com/<br>images/P/0374157065.0 ...</td>\n",
       "    </tr>\n",
       "    <tr>\n",
       "        <td style=\"padding-left: 1em; padding-right: 1em; text-align: center; vertical-align: top\">http://images.amazon.com/<br>images/P/0393045218.0 ...</td>\n",
       "        <td style=\"padding-left: 1em; padding-right: 1em; text-align: center; vertical-align: top\">http://images.amazon.com/<br>images/P/0393045218.0 ...</td>\n",
       "        <td style=\"padding-left: 1em; padding-right: 1em; text-align: center; vertical-align: top\">http://images.amazon.com/<br>images/P/0393045218.0 ...</td>\n",
       "    </tr>\n",
       "    <tr>\n",
       "        <td style=\"padding-left: 1em; padding-right: 1em; text-align: center; vertical-align: top\">http://images.amazon.com/<br>images/P/0399135782.0 ...</td>\n",
       "        <td style=\"padding-left: 1em; padding-right: 1em; text-align: center; vertical-align: top\">http://images.amazon.com/<br>images/P/0399135782.0 ...</td>\n",
       "        <td style=\"padding-left: 1em; padding-right: 1em; text-align: center; vertical-align: top\">http://images.amazon.com/<br>images/P/0399135782.0 ...</td>\n",
       "    </tr>\n",
       "    <tr>\n",
       "        <td style=\"padding-left: 1em; padding-right: 1em; text-align: center; vertical-align: top\">http://images.amazon.com/<br>images/P/0425176428.0 ...</td>\n",
       "        <td style=\"padding-left: 1em; padding-right: 1em; text-align: center; vertical-align: top\">http://images.amazon.com/<br>images/P/0425176428.0 ...</td>\n",
       "        <td style=\"padding-left: 1em; padding-right: 1em; text-align: center; vertical-align: top\">http://images.amazon.com/<br>images/P/0425176428.0 ...</td>\n",
       "    </tr>\n",
       "    <tr>\n",
       "        <td style=\"padding-left: 1em; padding-right: 1em; text-align: center; vertical-align: top\">http://images.amazon.com/<br>images/P/0671870432.0 ...</td>\n",
       "        <td style=\"padding-left: 1em; padding-right: 1em; text-align: center; vertical-align: top\">http://images.amazon.com/<br>images/P/0671870432.0 ...</td>\n",
       "        <td style=\"padding-left: 1em; padding-right: 1em; text-align: center; vertical-align: top\">http://images.amazon.com/<br>images/P/0671870432.0 ...</td>\n",
       "    </tr>\n",
       "    <tr>\n",
       "        <td style=\"padding-left: 1em; padding-right: 1em; text-align: center; vertical-align: top\">http://images.amazon.com/<br>images/P/0679425608.0 ...</td>\n",
       "        <td style=\"padding-left: 1em; padding-right: 1em; text-align: center; vertical-align: top\">http://images.amazon.com/<br>images/P/0679425608.0 ...</td>\n",
       "        <td style=\"padding-left: 1em; padding-right: 1em; text-align: center; vertical-align: top\">http://images.amazon.com/<br>images/P/0679425608.0 ...</td>\n",
       "    </tr>\n",
       "    <tr>\n",
       "        <td style=\"padding-left: 1em; padding-right: 1em; text-align: center; vertical-align: top\">http://images.amazon.com/<br>images/P/074322678X.0 ...</td>\n",
       "        <td style=\"padding-left: 1em; padding-right: 1em; text-align: center; vertical-align: top\">http://images.amazon.com/<br>images/P/074322678X.0 ...</td>\n",
       "        <td style=\"padding-left: 1em; padding-right: 1em; text-align: center; vertical-align: top\">http://images.amazon.com/<br>images/P/074322678X.0 ...</td>\n",
       "    </tr>\n",
       "</table>\n",
       "[10 rows x 8 columns]<br/>\n",
       "</div>"
      ],
      "text/plain": [
       "Columns:\n",
       "\tISBN\tstr\n",
       "\tBookTitle\tstr\n",
       "\tBookAuthor\tstr\n",
       "\tYearOfPublication\tint\n",
       "\tPublisher\tstr\n",
       "\tImageUrlSmall\tstr\n",
       "\tImageUrlMedium\tstr\n",
       "\tImageUrlLarge\tstr\n",
       "\n",
       "Rows: 10\n",
       "\n",
       "Data:\n",
       "+-----------+-------------------------------+----------------------+-------------------+\n",
       "|    ISBN   |           BookTitle           |      BookAuthor      | YearOfPublication |\n",
       "+-----------+-------------------------------+----------------------+-------------------+\n",
       "| 195153448 |      Classical Mythology      |  Mark P. O. Morford  |        2002       |\n",
       "|  2005018  |          Clara Callan         | Richard Bruce Wright |        2001       |\n",
       "|  60973129 |      Decision in Normandy     |     Carlo D'Este     |        1991       |\n",
       "| 374157065 | Flu: The Story of the Grea... |   Gina Bari Kolata   |        1999       |\n",
       "| 393045218 |     The Mummies of Urumchi    |   E. J. W. Barber    |        1999       |\n",
       "| 399135782 |     The Kitchen God's Wife    |       Amy Tan        |        1991       |\n",
       "| 425176428 | What If?: The World's Fore... |    Robert Cowley     |        2000       |\n",
       "| 671870432 |        PLEADING GUILTY        |     Scott Turow      |        1993       |\n",
       "| 679425608 | Under the Black Flag: The ... |   David Cordingly    |        1996       |\n",
       "|    None   | Where You'll Find Me: And ... |     Ann Beattie      |        2002       |\n",
       "+-----------+-------------------------------+----------------------+-------------------+\n",
       "+----------------------------+-------------------------------+\n",
       "|         Publisher          |         ImageUrlSmall         |\n",
       "+----------------------------+-------------------------------+\n",
       "|  Oxford University Press   | http://images.amazon.com/i... |\n",
       "|   HarperFlamingo Canada    | http://images.amazon.com/i... |\n",
       "|      HarperPerennial       | http://images.amazon.com/i... |\n",
       "|    Farrar Straus Giroux    | http://images.amazon.com/i... |\n",
       "| W. W. Norton &amp; Company | http://images.amazon.com/i... |\n",
       "|      Putnam Pub Group      | http://images.amazon.com/i... |\n",
       "|  Berkley Publishing Group  | http://images.amazon.com/i... |\n",
       "|         Audioworks         | http://images.amazon.com/i... |\n",
       "|        Random House        | http://images.amazon.com/i... |\n",
       "|          Scribner          | http://images.amazon.com/i... |\n",
       "+----------------------------+-------------------------------+\n",
       "+-------------------------------+-------------------------------+\n",
       "|         ImageUrlMedium        |         ImageUrlLarge         |\n",
       "+-------------------------------+-------------------------------+\n",
       "| http://images.amazon.com/i... | http://images.amazon.com/i... |\n",
       "| http://images.amazon.com/i... | http://images.amazon.com/i... |\n",
       "| http://images.amazon.com/i... | http://images.amazon.com/i... |\n",
       "| http://images.amazon.com/i... | http://images.amazon.com/i... |\n",
       "| http://images.amazon.com/i... | http://images.amazon.com/i... |\n",
       "| http://images.amazon.com/i... | http://images.amazon.com/i... |\n",
       "| http://images.amazon.com/i... | http://images.amazon.com/i... |\n",
       "| http://images.amazon.com/i... | http://images.amazon.com/i... |\n",
       "| http://images.amazon.com/i... | http://images.amazon.com/i... |\n",
       "| http://images.amazon.com/i... | http://images.amazon.com/i... |\n",
       "+-------------------------------+-------------------------------+\n",
       "[10 rows x 8 columns]"
      ]
     },
     "execution_count": 35,
     "metadata": {},
     "output_type": "execute_result"
    }
   ],
   "source": [
    "items.head()\n",
    "#type(items)\n"
   ]
  },
  {
   "cell_type": "code",
   "execution_count": null,
   "metadata": {
    "collapsed": true
   },
   "outputs": [],
   "source": [
    "item_name_column"
   ]
  },
  {
   "cell_type": "code",
   "execution_count": null,
   "metadata": {
    "collapsed": true
   },
   "outputs": [],
   "source": [
    "item_url_column"
   ]
  },
  {
   "cell_type": "code",
   "execution_count": 26,
   "metadata": {
    "collapsed": false
   },
   "outputs": [
    {
     "data": {
      "text/html": [
       "<pre>Unable to parse line \"1561380377;Women's Wit and Wisdom;Running Press;1991;Running Press Book Publishers;http://images.amazon.com/images/P/1561380377.01.THUMBZZZ.jpg;http://images.amazon.com/images/P/1561380377.01.MZZZZZZZ.jpg;http://images.amazon.com/images/P/1561380377.01.LZZ...\"</pre>"
      ],
      "text/plain": [
       "Unable to parse line \"1561380377;Women's Wit and Wisdom;Running Press;1991;Running Press Book Publishers;http://images.amazon.com/images/P/1561380377.01.THUMBZZZ.jpg;http://images.amazon.com/images/P/1561380377.01.MZZZZZZZ.jpg;http://images.amazon.com/images/P/1561380377.01.LZZ...\""
      ]
     },
     "metadata": {},
     "output_type": "display_data"
    },
    {
     "data": {
      "text/html": [
       "<pre>Unable to parse line \"0312983255;Killing Cousins (A Torie O'Shea Mystery);Rett MacPherson;2003;St. Martin's Minotaur;http://images.amazon.com/images/P/0312983255.01.THUMBZZZ.jpg;http://images.amazon.com/images/P/0312983255.01.MZZZZZZZ.jpg;http://images.amazon.com/images/P/03129...\"</pre>"
      ],
      "text/plain": [
       "Unable to parse line \"0312983255;Killing Cousins (A Torie O'Shea Mystery);Rett MacPherson;2003;St. Martin's Minotaur;http://images.amazon.com/images/P/0312983255.01.THUMBZZZ.jpg;http://images.amazon.com/images/P/0312983255.01.MZZZZZZZ.jpg;http://images.amazon.com/images/P/03129...\""
      ]
     },
     "metadata": {},
     "output_type": "display_data"
    },
    {
     "data": {
      "text/html": [
       "<pre>Unable to parse line \"1878424076;Seth Speaks: The Eternal Validity of the Soul (A Seth Book);Jane Roberts;1994;Amber-Allen Publishing;http://images.amazon.com/images/P/1878424076.01.THUMBZZZ.jpg;http://images.amazon.com/images/P/1878424076.01.MZZZZZZZ.jpg;http://images.amazon.c...\"</pre>"
      ],
      "text/plain": [
       "Unable to parse line \"1878424076;Seth Speaks: The Eternal Validity of the Soul (A Seth Book);Jane Roberts;1994;Amber-Allen Publishing;http://images.amazon.com/images/P/1878424076.01.THUMBZZZ.jpg;http://images.amazon.com/images/P/1878424076.01.MZZZZZZZ.jpg;http://images.amazon.c...\""
      ]
     },
     "metadata": {},
     "output_type": "display_data"
    },
    {
     "data": {
      "text/html": [
       "<pre>Unable to parse line \"0060565411;A Dark Champion (Avon Romantic Treasure);Kinley MacGregor;2004;Avon;http://images.amazon.com/images/P/0060565411.01.THUMBZZZ.jpg;http://images.amazon.com/images/P/0060565411.01.MZZZZZZZ.jpg;http://images.amazon.com/images/P/0060565411.01.LZZZZZZ...\"</pre>"
      ],
      "text/plain": [
       "Unable to parse line \"0060565411;A Dark Champion (Avon Romantic Treasure);Kinley MacGregor;2004;Avon;http://images.amazon.com/images/P/0060565411.01.THUMBZZZ.jpg;http://images.amazon.com/images/P/0060565411.01.MZZZZZZZ.jpg;http://images.amazon.com/images/P/0060565411.01.LZZZZZZ...\""
      ]
     },
     "metadata": {},
     "output_type": "display_data"
    },
    {
     "data": {
      "text/html": [
       "<pre>Unable to parse line \"0449912175;Trust Me: Short Stories;John Updike;1996;Ballantine Books;http://images.amazon.com/images/P/0449912175.01.THUMBZZZ.jpg;http://images.amazon.com/images/P/0449912175.01.MZZZZZZZ.jpg;http://images.amazon.com/images/P/0449912175.01.LZZZZZZZ.jpg\"</pre>"
      ],
      "text/plain": [
       "Unable to parse line \"0449912175;Trust Me: Short Stories;John Updike;1996;Ballantine Books;http://images.amazon.com/images/P/0449912175.01.THUMBZZZ.jpg;http://images.amazon.com/images/P/0449912175.01.MZZZZZZZ.jpg;http://images.amazon.com/images/P/0449912175.01.LZZZZZZZ.jpg\""
      ]
     },
     "metadata": {},
     "output_type": "display_data"
    },
    {
     "data": {
      "text/html": [
       "<pre>Unable to parse line \"0778320316;The Room-Mating Season (Mira);Rona Jaffe;2004;Mira;http://images.amazon.com/images/P/0778320316.01.THUMBZZZ.jpg;http://images.amazon.com/images/P/0778320316.01.MZZZZZZZ.jpg;http://images.amazon.com/images/P/0778320316.01.LZZZZZZZ.jpg\"</pre>"
      ],
      "text/plain": [
       "Unable to parse line \"0778320316;The Room-Mating Season (Mira);Rona Jaffe;2004;Mira;http://images.amazon.com/images/P/0778320316.01.THUMBZZZ.jpg;http://images.amazon.com/images/P/0778320316.01.MZZZZZZZ.jpg;http://images.amazon.com/images/P/0778320316.01.LZZZZZZZ.jpg\""
      ]
     },
     "metadata": {},
     "output_type": "display_data"
    },
    {
     "data": {
      "text/html": [
       "<pre>Unable to parse line \"0802448038;The Winter Rescue (Sugar Creek Gang Series);Paul Hutchins;1970;Moody Pr;http://images.amazon.com/images/P/0802448038.01.THUMBZZZ.jpg;http://images.amazon.com/images/P/0802448038.01.MZZZZZZZ.jpg;http://images.amazon.com/images/P/0802448038.01.LZZ...\"</pre>"
      ],
      "text/plain": [
       "Unable to parse line \"0802448038;The Winter Rescue (Sugar Creek Gang Series);Paul Hutchins;1970;Moody Pr;http://images.amazon.com/images/P/0802448038.01.THUMBZZZ.jpg;http://images.amazon.com/images/P/0802448038.01.MZZZZZZZ.jpg;http://images.amazon.com/images/P/0802448038.01.LZZ...\""
      ]
     },
     "metadata": {},
     "output_type": "display_data"
    },
    {
     "data": {
      "text/html": [
       "<pre>Unable to parse line \"0373650728;Maitland Maternity: The Toddler's Tale;Rebecca Winters;2001;Silhouette;http://images.amazon.com/images/P/0373650728.01.THUMBZZZ.jpg;http://images.amazon.com/images/P/0373650728.01.MZZZZZZZ.jpg;http://images.amazon.com/images/P/0373650728.01.LZZZ...\"</pre>"
      ],
      "text/plain": [
       "Unable to parse line \"0373650728;Maitland Maternity: The Toddler's Tale;Rebecca Winters;2001;Silhouette;http://images.amazon.com/images/P/0373650728.01.THUMBZZZ.jpg;http://images.amazon.com/images/P/0373650728.01.MZZZZZZZ.jpg;http://images.amazon.com/images/P/0373650728.01.LZZZ...\""
      ]
     },
     "metadata": {},
     "output_type": "display_data"
    },
    {
     "data": {
      "text/html": [
       "<pre>Unable to parse line \"1576737047;Stories for a Kindred Heart : Over 100 Treasures to Lift Your Soul (Stories For the Heart);Alice Gray;2000;Multnomah;http://images.amazon.com/images/P/1576737047.01.THUMBZZZ.jpg;http://images.amazon.com/images/P/1576737047.01.MZZZZZZZ.jpg;http:/...\"</pre>"
      ],
      "text/plain": [
       "Unable to parse line \"1576737047;Stories for a Kindred Heart : Over 100 Treasures to Lift Your Soul (Stories For the Heart);Alice Gray;2000;Multnomah;http://images.amazon.com/images/P/1576737047.01.THUMBZZZ.jpg;http://images.amazon.com/images/P/1576737047.01.MZZZZZZZ.jpg;http:/...\""
      ]
     },
     "metadata": {},
     "output_type": "display_data"
    },
    {
     "data": {
      "text/html": [
       "<pre>Unable to parse line \"0373194617;Lassoed! (Silhouette Romance, 1461);Martha Shields;2000;Silhouette;http://images.amazon.com/images/P/0373194617.01.THUMBZZZ.jpg;http://images.amazon.com/images/P/0373194617.01.MZZZZZZZ.jpg;http://images.amazon.com/images/P/0373194617.01.LZZZZZZZ...\"</pre>"
      ],
      "text/plain": [
       "Unable to parse line \"0373194617;Lassoed! (Silhouette Romance, 1461);Martha Shields;2000;Silhouette;http://images.amazon.com/images/P/0373194617.01.THUMBZZZ.jpg;http://images.amazon.com/images/P/0373194617.01.MZZZZZZZ.jpg;http://images.amazon.com/images/P/0373194617.01.LZZZZZZZ...\""
      ]
     },
     "metadata": {},
     "output_type": "display_data"
    },
    {
     "data": {
      "text/html": [
       "<pre>Unable to parse line \"0836200551;Women: A Celebration;Laura Gates Galvin;1995;Andrews McMeel Publishing;http://images.amazon.com/images/P/0836200551.01.THUMBZZZ.jpg;http://images.amazon.com/images/P/0836200551.01.MZZZZZZZ.jpg;http://images.amazon.com/images/P/0836200551.01.LZZZ...\"</pre>"
      ],
      "text/plain": [
       "Unable to parse line \"0836200551;Women: A Celebration;Laura Gates Galvin;1995;Andrews McMeel Publishing;http://images.amazon.com/images/P/0836200551.01.THUMBZZZ.jpg;http://images.amazon.com/images/P/0836200551.01.MZZZZZZZ.jpg;http://images.amazon.com/images/P/0836200551.01.LZZZ...\""
      ]
     },
     "metadata": {},
     "output_type": "display_data"
    },
    {
     "data": {
      "text/html": [
       "<pre>91335 lines failed to parse correctly</pre>"
      ],
      "text/plain": [
       "91335 lines failed to parse correctly"
      ]
     },
     "metadata": {},
     "output_type": "display_data"
    },
    {
     "data": {
      "text/html": [
       "<pre>Finished parsing file /Users/jhonasttanregalado/Documents/DataScience/bootcamp7/githubcrush/bootcamp007_project/Project5-Capstone/shopaholics/BX-CSV-Dump/booksCleanedWithNAs.csv</pre>"
      ],
      "text/plain": [
       "Finished parsing file /Users/jhonasttanregalado/Documents/DataScience/bootcamp7/githubcrush/bootcamp007_project/Project5-Capstone/shopaholics/BX-CSV-Dump/booksCleanedWithNAs.csv"
      ]
     },
     "metadata": {},
     "output_type": "display_data"
    },
    {
     "data": {
      "text/html": [
       "<pre>Parsing completed. Parsed 100 lines in 1.20992 secs.</pre>"
      ],
      "text/plain": [
       "Parsing completed. Parsed 100 lines in 1.20992 secs."
      ]
     },
     "metadata": {},
     "output_type": "display_data"
    },
    {
     "data": {
      "text/html": [
       "<pre>These column type hints were not used: pageCount</pre>"
      ],
      "text/plain": [
       "These column type hints were not used: pageCount"
      ]
     },
     "metadata": {},
     "output_type": "display_data"
    },
    {
     "data": {
      "text/html": [
       "<pre>Unable to parse line \"0312983255;Killing Cousins (A Torie O'Shea Mystery);Rett MacPherson;2003;St. Martin's Minotaur;http://images.amazon.com/images/P/0312983255.01.THUMBZZZ.jpg;http://images.amazon.com/images/P/0312983255.01.MZZZZZZZ.jpg;http://images.amazon.com/images/P/03129...\"</pre>"
      ],
      "text/plain": [
       "Unable to parse line \"0312983255;Killing Cousins (A Torie O'Shea Mystery);Rett MacPherson;2003;St. Martin's Minotaur;http://images.amazon.com/images/P/0312983255.01.THUMBZZZ.jpg;http://images.amazon.com/images/P/0312983255.01.MZZZZZZZ.jpg;http://images.amazon.com/images/P/03129...\""
      ]
     },
     "metadata": {},
     "output_type": "display_data"
    },
    {
     "data": {
      "text/html": [
       "<pre>Unable to parse line \"0060565411;A Dark Champion (Avon Romantic Treasure);Kinley MacGregor;2004;Avon;http://images.amazon.com/images/P/0060565411.01.THUMBZZZ.jpg;http://images.amazon.com/images/P/0060565411.01.MZZZZZZZ.jpg;http://images.amazon.com/images/P/0060565411.01.LZZZZZZ...\"</pre>"
      ],
      "text/plain": [
       "Unable to parse line \"0060565411;A Dark Champion (Avon Romantic Treasure);Kinley MacGregor;2004;Avon;http://images.amazon.com/images/P/0060565411.01.THUMBZZZ.jpg;http://images.amazon.com/images/P/0060565411.01.MZZZZZZZ.jpg;http://images.amazon.com/images/P/0060565411.01.LZZZZZZ...\""
      ]
     },
     "metadata": {},
     "output_type": "display_data"
    },
    {
     "data": {
      "text/html": [
       "<pre>Unable to parse line \"0449912175;Trust Me: Short Stories;John Updike;1996;Ballantine Books;http://images.amazon.com/images/P/0449912175.01.THUMBZZZ.jpg;http://images.amazon.com/images/P/0449912175.01.MZZZZZZZ.jpg;http://images.amazon.com/images/P/0449912175.01.LZZZZZZZ.jpg\"</pre>"
      ],
      "text/plain": [
       "Unable to parse line \"0449912175;Trust Me: Short Stories;John Updike;1996;Ballantine Books;http://images.amazon.com/images/P/0449912175.01.THUMBZZZ.jpg;http://images.amazon.com/images/P/0449912175.01.MZZZZZZZ.jpg;http://images.amazon.com/images/P/0449912175.01.LZZZZZZZ.jpg\""
      ]
     },
     "metadata": {},
     "output_type": "display_data"
    },
    {
     "data": {
      "text/html": [
       "<pre>Unable to parse line \"0778320316;The Room-Mating Season (Mira);Rona Jaffe;2004;Mira;http://images.amazon.com/images/P/0778320316.01.THUMBZZZ.jpg;http://images.amazon.com/images/P/0778320316.01.MZZZZZZZ.jpg;http://images.amazon.com/images/P/0778320316.01.LZZZZZZZ.jpg\"</pre>"
      ],
      "text/plain": [
       "Unable to parse line \"0778320316;The Room-Mating Season (Mira);Rona Jaffe;2004;Mira;http://images.amazon.com/images/P/0778320316.01.THUMBZZZ.jpg;http://images.amazon.com/images/P/0778320316.01.MZZZZZZZ.jpg;http://images.amazon.com/images/P/0778320316.01.LZZZZZZZ.jpg\""
      ]
     },
     "metadata": {},
     "output_type": "display_data"
    },
    {
     "data": {
      "text/html": [
       "<pre>Unable to parse line \"1561380377;Women's Wit and Wisdom;Running Press;1991;Running Press Book Publishers;http://images.amazon.com/images/P/1561380377.01.THUMBZZZ.jpg;http://images.amazon.com/images/P/1561380377.01.MZZZZZZZ.jpg;http://images.amazon.com/images/P/1561380377.01.LZZ...\"</pre>"
      ],
      "text/plain": [
       "Unable to parse line \"1561380377;Women's Wit and Wisdom;Running Press;1991;Running Press Book Publishers;http://images.amazon.com/images/P/1561380377.01.THUMBZZZ.jpg;http://images.amazon.com/images/P/1561380377.01.MZZZZZZZ.jpg;http://images.amazon.com/images/P/1561380377.01.LZZ...\""
      ]
     },
     "metadata": {},
     "output_type": "display_data"
    },
    {
     "data": {
      "text/html": [
       "<pre>Unable to parse line \"0802448038;The Winter Rescue (Sugar Creek Gang Series);Paul Hutchins;1970;Moody Pr;http://images.amazon.com/images/P/0802448038.01.THUMBZZZ.jpg;http://images.amazon.com/images/P/0802448038.01.MZZZZZZZ.jpg;http://images.amazon.com/images/P/0802448038.01.LZZ...\"</pre>"
      ],
      "text/plain": [
       "Unable to parse line \"0802448038;The Winter Rescue (Sugar Creek Gang Series);Paul Hutchins;1970;Moody Pr;http://images.amazon.com/images/P/0802448038.01.THUMBZZZ.jpg;http://images.amazon.com/images/P/0802448038.01.MZZZZZZZ.jpg;http://images.amazon.com/images/P/0802448038.01.LZZ...\""
      ]
     },
     "metadata": {},
     "output_type": "display_data"
    },
    {
     "data": {
      "text/html": [
       "<pre>Unable to parse line \"1878424076;Seth Speaks: The Eternal Validity of the Soul (A Seth Book);Jane Roberts;1994;Amber-Allen Publishing;http://images.amazon.com/images/P/1878424076.01.THUMBZZZ.jpg;http://images.amazon.com/images/P/1878424076.01.MZZZZZZZ.jpg;http://images.amazon.c...\"</pre>"
      ],
      "text/plain": [
       "Unable to parse line \"1878424076;Seth Speaks: The Eternal Validity of the Soul (A Seth Book);Jane Roberts;1994;Amber-Allen Publishing;http://images.amazon.com/images/P/1878424076.01.THUMBZZZ.jpg;http://images.amazon.com/images/P/1878424076.01.MZZZZZZZ.jpg;http://images.amazon.c...\""
      ]
     },
     "metadata": {},
     "output_type": "display_data"
    },
    {
     "data": {
      "text/html": [
       "<pre>Unable to parse line \"0373650728;Maitland Maternity: The Toddler's Tale;Rebecca Winters;2001;Silhouette;http://images.amazon.com/images/P/0373650728.01.THUMBZZZ.jpg;http://images.amazon.com/images/P/0373650728.01.MZZZZZZZ.jpg;http://images.amazon.com/images/P/0373650728.01.LZZZ...\"</pre>"
      ],
      "text/plain": [
       "Unable to parse line \"0373650728;Maitland Maternity: The Toddler's Tale;Rebecca Winters;2001;Silhouette;http://images.amazon.com/images/P/0373650728.01.THUMBZZZ.jpg;http://images.amazon.com/images/P/0373650728.01.MZZZZZZZ.jpg;http://images.amazon.com/images/P/0373650728.01.LZZZ...\""
      ]
     },
     "metadata": {},
     "output_type": "display_data"
    },
    {
     "data": {
      "text/html": [
       "<pre>Unable to parse line \"1576737047;Stories for a Kindred Heart : Over 100 Treasures to Lift Your Soul (Stories For the Heart);Alice Gray;2000;Multnomah;http://images.amazon.com/images/P/1576737047.01.THUMBZZZ.jpg;http://images.amazon.com/images/P/1576737047.01.MZZZZZZZ.jpg;http:/...\"</pre>"
      ],
      "text/plain": [
       "Unable to parse line \"1576737047;Stories for a Kindred Heart : Over 100 Treasures to Lift Your Soul (Stories For the Heart);Alice Gray;2000;Multnomah;http://images.amazon.com/images/P/1576737047.01.THUMBZZZ.jpg;http://images.amazon.com/images/P/1576737047.01.MZZZZZZZ.jpg;http:/...\""
      ]
     },
     "metadata": {},
     "output_type": "display_data"
    },
    {
     "data": {
      "text/html": [
       "<pre>Unable to parse line \"0373194617;Lassoed! (Silhouette Romance, 1461);Martha Shields;2000;Silhouette;http://images.amazon.com/images/P/0373194617.01.THUMBZZZ.jpg;http://images.amazon.com/images/P/0373194617.01.MZZZZZZZ.jpg;http://images.amazon.com/images/P/0373194617.01.LZZZZZZZ...\"</pre>"
      ],
      "text/plain": [
       "Unable to parse line \"0373194617;Lassoed! (Silhouette Romance, 1461);Martha Shields;2000;Silhouette;http://images.amazon.com/images/P/0373194617.01.THUMBZZZ.jpg;http://images.amazon.com/images/P/0373194617.01.MZZZZZZZ.jpg;http://images.amazon.com/images/P/0373194617.01.LZZZZZZZ...\""
      ]
     },
     "metadata": {},
     "output_type": "display_data"
    },
    {
     "data": {
      "text/html": [
       "<pre>Unable to parse line \"0836200551;Women: A Celebration;Laura Gates Galvin;1995;Andrews McMeel Publishing;http://images.amazon.com/images/P/0836200551.01.THUMBZZZ.jpg;http://images.amazon.com/images/P/0836200551.01.MZZZZZZZ.jpg;http://images.amazon.com/images/P/0836200551.01.LZZZ...\"</pre>"
      ],
      "text/plain": [
       "Unable to parse line \"0836200551;Women: A Celebration;Laura Gates Galvin;1995;Andrews McMeel Publishing;http://images.amazon.com/images/P/0836200551.01.THUMBZZZ.jpg;http://images.amazon.com/images/P/0836200551.01.MZZZZZZZ.jpg;http://images.amazon.com/images/P/0836200551.01.LZZZ...\""
      ]
     },
     "metadata": {},
     "output_type": "display_data"
    },
    {
     "data": {
      "text/html": [
       "<pre>Read 100278 lines. Lines per second: 89735.8</pre>"
      ],
      "text/plain": [
       "Read 100278 lines. Lines per second: 89735.8"
      ]
     },
     "metadata": {},
     "output_type": "display_data"
    },
    {
     "data": {
      "text/html": [
       "<pre>120820 lines failed to parse correctly</pre>"
      ],
      "text/plain": [
       "120820 lines failed to parse correctly"
      ]
     },
     "metadata": {},
     "output_type": "display_data"
    },
    {
     "data": {
      "text/html": [
       "<pre>Finished parsing file /Users/jhonasttanregalado/Documents/DataScience/bootcamp7/githubcrush/bootcamp007_project/Project5-Capstone/shopaholics/BX-CSV-Dump/booksCleanedWithNAs.csv</pre>"
      ],
      "text/plain": [
       "Finished parsing file /Users/jhonasttanregalado/Documents/DataScience/bootcamp7/githubcrush/bootcamp007_project/Project5-Capstone/shopaholics/BX-CSV-Dump/booksCleanedWithNAs.csv"
      ]
     },
     "metadata": {},
     "output_type": "display_data"
    },
    {
     "data": {
      "text/html": [
       "<pre>Parsing completed. Parsed 113487 lines in 1.17592 secs.</pre>"
      ],
      "text/plain": [
       "Parsing completed. Parsed 113487 lines in 1.17592 secs."
      ]
     },
     "metadata": {},
     "output_type": "display_data"
    }
   ],
   "source": [
    "#items = gl.SFrame(items[[\"isbn\",\"imageThumbnail\"]])\n",
    "#type(items)\n",
    "#items[[\"isbn\",\"imageThumbnail\"]]\n",
    "items = gl.SFrame.read_csv(\"../BX-CSV-Dump/booksCleanedWithNAs.csv\",\\\n",
    "                           column_type_hints={\"ISBN\":str, \"pageCount\":int})"
   ]
  },
  {
   "cell_type": "code",
   "execution_count": 21,
   "metadata": {
    "collapsed": false
   },
   "outputs": [
    {
     "data": {
      "text/html": [
       "<div style=\"max-height:1000px;max-width:1500px;overflow:auto;\"><table frame=\"box\" rules=\"cols\">\n",
       "    <tr>\n",
       "        <th style=\"padding-left: 1em; padding-right: 1em; text-align: center\">UserID</th>\n",
       "    </tr>\n",
       "    <tr>\n",
       "        <td style=\"padding-left: 1em; padding-right: 1em; text-align: center; vertical-align: top\">278137</td>\n",
       "    </tr>\n",
       "    <tr>\n",
       "        <td style=\"padding-left: 1em; padding-right: 1em; text-align: center; vertical-align: top\">278137</td>\n",
       "    </tr>\n",
       "    <tr>\n",
       "        <td style=\"padding-left: 1em; padding-right: 1em; text-align: center; vertical-align: top\">278137</td>\n",
       "    </tr>\n",
       "    <tr>\n",
       "        <td style=\"padding-left: 1em; padding-right: 1em; text-align: center; vertical-align: top\">278137</td>\n",
       "    </tr>\n",
       "    <tr>\n",
       "        <td style=\"padding-left: 1em; padding-right: 1em; text-align: center; vertical-align: top\">278137</td>\n",
       "    </tr>\n",
       "    <tr>\n",
       "        <td style=\"padding-left: 1em; padding-right: 1em; text-align: center; vertical-align: top\">278137</td>\n",
       "    </tr>\n",
       "    <tr>\n",
       "        <td style=\"padding-left: 1em; padding-right: 1em; text-align: center; vertical-align: top\">278137</td>\n",
       "    </tr>\n",
       "    <tr>\n",
       "        <td style=\"padding-left: 1em; padding-right: 1em; text-align: center; vertical-align: top\">278137</td>\n",
       "    </tr>\n",
       "    <tr>\n",
       "        <td style=\"padding-left: 1em; padding-right: 1em; text-align: center; vertical-align: top\">278137</td>\n",
       "    </tr>\n",
       "    <tr>\n",
       "        <td style=\"padding-left: 1em; padding-right: 1em; text-align: center; vertical-align: top\">278137</td>\n",
       "    </tr>\n",
       "</table>\n",
       "[10 rows x 1 columns]<br/>\n",
       "</div>"
      ],
      "text/plain": [
       "Columns:\n",
       "\tUserID\tint\n",
       "\n",
       "Rows: 10\n",
       "\n",
       "Data:\n",
       "+--------+\n",
       "| UserID |\n",
       "+--------+\n",
       "| 278137 |\n",
       "| 278137 |\n",
       "| 278137 |\n",
       "| 278137 |\n",
       "| 278137 |\n",
       "| 278137 |\n",
       "| 278137 |\n",
       "| 278137 |\n",
       "| 278137 |\n",
       "| 278137 |\n",
       "+--------+\n",
       "[10 rows x 1 columns]"
      ]
     },
     "execution_count": 21,
     "metadata": {},
     "output_type": "execute_result"
    }
   ],
   "source": [
    "user_data = gl.SFrame(validation_data['UserID'])\n",
    "user_data.rename({'X1':'UserID'})\n",
    "user_data.head()\n"
   ]
  },
  {
   "cell_type": "code",
   "execution_count": 37,
   "metadata": {
    "collapsed": false
   },
   "outputs": [
    {
     "data": {
      "text/plain": [
       "dtype: int\n",
       "Rows: 951\n",
       "[278137, 278137, 278137, 278137, 278137, 278137, 278137, 278137, 278137, 278137, 278137, 278279, 278444, 278449, 278449, 278832, 109, 508, 767, 827, 1427, 1467, 2090, 2358, 2358, 2358, 2358, 2358, 2665, 2935, 3063, 3538, 3538, 3538, 3538, 3538, 3538, 3538, 104960, 160899, 160943, 160943, 160943, 160943, 160943, 160955, 161101, 161101, 161391, 161434, 161577, 161577, 161577, 161577, 161577, 161744, 161744, 161752, 161752, 161881, 162001, 162001, 162001, 162001, 162001, 162846, 163072, 163322, 163382, 165232, 165232, 165232, 165232, 165232, 165232, 165232, 165232, 165232, 165232, 165232, 165503, 165503, 165503, 165503, 165503, 165503, 166815, 166860, 166860, 166860, 166860, 167198, 167272, 167349, 167349, 167349, 167597, 168530, 168841, 168841, ... ]"
      ]
     },
     "execution_count": 37,
     "metadata": {},
     "output_type": "execute_result"
    }
   ],
   "source": [
    "user_data['UserID']"
   ]
  },
  {
   "cell_type": "code",
   "execution_count": 39,
   "metadata": {
    "collapsed": false
   },
   "outputs": [
    {
     "name": "stdout",
     "output_type": "stream",
     "text": [
      "['0060002492', '0140350144', '0373115431', '0380429780', '0425065553', '055325698X', '0590434160', '0671525808', '0684846675', '0895774011', '1576739562', '1567184693', '0671723316', '0761519858', '1576904423', '1558745718', '0671521519', '0385335679', '0945397410', '0152013369', '0062502182', '0671001701', '0679770232', '0440220653', '0449212599', '0553262009', '059033560X', '0812509145', '0140620338', '1582430748', '0553106678', '0486414132', '8408022296', '843396738X', '8437603471', '8449503035', '8479533242', '848460246X', '488/1', '0440414806', '0006475043', '0060973080', '0671672347', '0966533356', '1902852400', '0451458672', '0373075960', '0373763255', '0380820447', '0345404793', '0330267388', '0850305128', '0850308186', '1852301694', '1870450353', '0312199430', '0446610038', '044990587X', '0515111317', '0671024183', '0020160909', '0070212570', '0312195516', '0425099245', '0449130703', '0312195516', '0312195141', '0679446699', '0380789035', '006108445X', '0312983131', '0373218443', '0373245017', '0451208293', '0515131806', '0515134007', '0843934131', '084394840X', '1551666944', '1551669056', '0714829919', '0822521296', '0892816333', '0941524841', '157859135X', '2431250854', '0805056637', '2264001445', '226403095X', '2730401172', '2730403654', '0671726536', '0743483014', '0441000916', '0449206688', '0553089226', '0440170370', '1580622712', '0394286448', '0676970745', ... ]\n"
     ]
    },
    {
     "data": {
      "text/plain": [
       "dtype: str\n",
       "Rows: 113487\n",
       "['195153448', '2005018', '60973129', '374157065', '393045218', '399135782', '425176428', '671870432', '679425608', None, '771074670', None, '887841740', '1552041778', '1558746218', '1567407781', '1575663937', '1881320189', '440234743', '452264464', '609804618', '1841721522', '1879384493', '61076031', '439095026', '689821166', '971880107', '345402871', '345417623', '684823802', '375759778', '425163091', None, None, None, None, '375406328', '446310786', '449005615', '60168013', None, None, None, '61099686', '553582909', '671888587', '553582747', '425182908', None, '440223571', '812523873', '842342702', '440225701', '60914068', '156047624', '245542957', '380715899', '553280333', '961769947', '964778319', '671623249', '679810307', '679865691', '2070423204', '345260317', '394743741', None, '804106304', '1853262404', '312970242', '1853260053', '1414035004', '60938412', '140067477', '345465083', '451625889', '1558531025', '441783589', '394895894', '1569871213', '375410538', '966986105', None, '340767936', '743403843', '60930365', '60177586', '71416331', '375509038', '553062042', '316769487', None, None, None, '679429220', '671867156', '312252617', '312261594', '316748641', '316973742', ... ]"
      ]
     },
     "execution_count": 39,
     "metadata": {},
     "output_type": "execute_result"
    }
   ],
   "source": [
    "print validation_data['ISBN']\n",
    "items['ISBN']"
   ]
  },
  {
   "cell_type": "code",
   "execution_count": 27,
   "metadata": {
    "collapsed": false
   },
   "outputs": [
    {
     "data": {
      "text/plain": [
       "<bound method SFrame.column_names of Columns:\n",
       "\tISBN\tstr\n",
       "\tBookTitle\tstr\n",
       "\tBookAuthor\tstr\n",
       "\tYearOfPublication\tint\n",
       "\tPublisher\tstr\n",
       "\tImageUrlSmall\tstr\n",
       "\tImageUrlMedium\tstr\n",
       "\tImageUrlLarge\tstr\n",
       "\n",
       "Rows: 113487\n",
       "\n",
       "Data:\n",
       "+-----------+-------------------------------+----------------------+-------------------+\n",
       "|    ISBN   |           BookTitle           |      BookAuthor      | YearOfPublication |\n",
       "+-----------+-------------------------------+----------------------+-------------------+\n",
       "| 195153448 |      Classical Mythology      |  Mark P. O. Morford  |        2002       |\n",
       "|  2005018  |          Clara Callan         | Richard Bruce Wright |        2001       |\n",
       "|  60973129 |      Decision in Normandy     |     Carlo D'Este     |        1991       |\n",
       "| 374157065 | Flu: The Story of the Grea... |   Gina Bari Kolata   |        1999       |\n",
       "| 393045218 |     The Mummies of Urumchi    |   E. J. W. Barber    |        1999       |\n",
       "| 399135782 |     The Kitchen God's Wife    |       Amy Tan        |        1991       |\n",
       "| 425176428 | What If?: The World's Fore... |    Robert Cowley     |        2000       |\n",
       "| 671870432 |        PLEADING GUILTY        |     Scott Turow      |        1993       |\n",
       "| 679425608 | Under the Black Flag: The ... |   David Cordingly    |        1996       |\n",
       "|    None   | Where You'll Find Me: And ... |     Ann Beattie      |        2002       |\n",
       "+-----------+-------------------------------+----------------------+-------------------+\n",
       "+----------------------------+-------------------------------+\n",
       "|         Publisher          |         ImageUrlSmall         |\n",
       "+----------------------------+-------------------------------+\n",
       "|  Oxford University Press   | http://images.amazon.com/i... |\n",
       "|   HarperFlamingo Canada    | http://images.amazon.com/i... |\n",
       "|      HarperPerennial       | http://images.amazon.com/i... |\n",
       "|    Farrar Straus Giroux    | http://images.amazon.com/i... |\n",
       "| W. W. Norton &amp; Company | http://images.amazon.com/i... |\n",
       "|      Putnam Pub Group      | http://images.amazon.com/i... |\n",
       "|  Berkley Publishing Group  | http://images.amazon.com/i... |\n",
       "|         Audioworks         | http://images.amazon.com/i... |\n",
       "|        Random House        | http://images.amazon.com/i... |\n",
       "|          Scribner          | http://images.amazon.com/i... |\n",
       "+----------------------------+-------------------------------+\n",
       "+-------------------------------+-------------------------------+\n",
       "|         ImageUrlMedium        |         ImageUrlLarge         |\n",
       "+-------------------------------+-------------------------------+\n",
       "| http://images.amazon.com/i... | http://images.amazon.com/i... |\n",
       "| http://images.amazon.com/i... | http://images.amazon.com/i... |\n",
       "| http://images.amazon.com/i... | http://images.amazon.com/i... |\n",
       "| http://images.amazon.com/i... | http://images.amazon.com/i... |\n",
       "| http://images.amazon.com/i... | http://images.amazon.com/i... |\n",
       "| http://images.amazon.com/i... | http://images.amazon.com/i... |\n",
       "| http://images.amazon.com/i... | http://images.amazon.com/i... |\n",
       "| http://images.amazon.com/i... | http://images.amazon.com/i... |\n",
       "| http://images.amazon.com/i... | http://images.amazon.com/i... |\n",
       "| http://images.amazon.com/i... | http://images.amazon.com/i... |\n",
       "+-------------------------------+-------------------------------+\n",
       "[113487 rows x 8 columns]\n",
       "Note: Only the head of the SFrame is printed.\n",
       "You can use print_rows(num_rows=m, num_columns=n) to print more rows and columns.>"
      ]
     },
     "execution_count": 27,
     "metadata": {},
     "output_type": "execute_result"
    }
   ],
   "source": [
    "items.column_names"
   ]
  },
  {
   "cell_type": "code",
   "execution_count": null,
   "metadata": {
    "collapsed": true
   },
   "outputs": [],
   "source": [
    "items = []"
   ]
  },
  {
   "cell_type": "code",
   "execution_count": 25,
   "metadata": {
    "collapsed": false
   },
   "outputs": [
    {
     "data": {
      "text/html": [
       "<pre>Warning: The model was fit with 2 feature columns but only 1 were present during transform(). Proceeding with transform by ignoring the missing columns.</pre>"
      ],
      "text/plain": [
       "Warning: The model was fit with 2 feature columns but only 1 were present during transform(). Proceeding with transform by ignoring the missing columns."
      ]
     },
     "metadata": {},
     "output_type": "display_data"
    },
    {
     "data": {
      "text/html": [
       "<pre>Warning: The model was fit with 2 feature columns but only 1 were present during transform(). Proceeding with transform by ignoring the missing columns.</pre>"
      ],
      "text/plain": [
       "Warning: The model was fit with 2 feature columns but only 1 were present during transform(). Proceeding with transform by ignoring the missing columns."
      ]
     },
     "metadata": {},
     "output_type": "display_data"
    }
   ],
   "source": [
    "view = model.views.overview(validation_set = validation_data,\n",
    "                           user_data = user_data,\n",
    "                           user_name_column = 'UserID',\n",
    "                           item_data = items,\n",
    "                           item_name_column = 'title',\n",
    "                           item_url_column = 'imageThumbnail')\n",
    "view.show()"
   ]
  },
  {
   "cell_type": "code",
   "execution_count": null,
   "metadata": {
    "collapsed": false
   },
   "outputs": [],
   "source": [
    "type(user_data)"
   ]
  },
  {
   "cell_type": "code",
   "execution_count": null,
   "metadata": {
    "collapsed": true
   },
   "outputs": [],
   "source": []
  }
 ],
 "metadata": {
  "anaconda-cloud": {},
  "kernelspec": {
   "display_name": "Python 2",
   "language": "python",
   "name": "python2"
  },
  "language_info": {
   "codemirror_mode": {
    "name": "ipython",
    "version": 2
   },
   "file_extension": ".py",
   "mimetype": "text/x-python",
   "name": "python",
   "nbconvert_exporter": "python",
   "pygments_lexer": "ipython2",
   "version": "2.7.11"
  }
 },
 "nbformat": 4,
 "nbformat_minor": 0
}
