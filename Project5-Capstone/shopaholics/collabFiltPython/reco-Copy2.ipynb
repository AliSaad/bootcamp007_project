{
 "cells": [
  {
   "cell_type": "code",
   "execution_count": 2,
   "metadata": {
    "collapsed": false
   },
   "outputs": [],
   "source": [
    "import graphlab as gl\n",
    "import pandas as pd\n",
    "import numpy as np"
   ]
  },
  {
   "cell_type": "code",
   "execution_count": 116,
   "metadata": {
    "collapsed": true
   },
   "outputs": [],
   "source": [
    "#File location\n",
    "items = \"../BX-CSV-Dump/bookRatingsWithGoogleFeatures.csv\"\n",
    "bookRatingsFile = \"../BX-CSV-Dump/BX-Book-Ratings.csv\"\n",
    "bookRatingsFileWithZeros = \"../BX-CSV-Dump/ratingsCleanedWithNAs.csv\"\n"
   ]
  },
  {
   "cell_type": "code",
   "execution_count": 43,
   "metadata": {
    "collapsed": false
   },
   "outputs": [],
   "source": [
    "dfRating = pd.read_csv(bookRatingsFile)\n",
    "items = pd.read_csv(items)\n",
    "\n"
   ]
  },
  {
   "cell_type": "code",
   "execution_count": 44,
   "metadata": {
    "collapsed": false
   },
   "outputs": [
    {
     "name": "stdout",
     "output_type": "stream",
     "text": [
      "<class 'pandas.core.frame.DataFrame'>\n",
      "Int64Index: 55655 entries, 1467 to 455357\n",
      "Data columns (total 17 columns):\n",
      "UserID            55655 non-null int64\n",
      "ISBN              55655 non-null object\n",
      "BookRating        55655 non-null int64\n",
      "isbn              55655 non-null object\n",
      "title             55655 non-null object\n",
      "authors           55026 non-null object\n",
      "publishedDate     55240 non-null object\n",
      "publisher         53853 non-null object\n",
      "categories        55627 non-null object\n",
      "pageCount         54839 non-null float64\n",
      "averageRating     55064 non-null float64\n",
      "ratingsCount      55064 non-null float64\n",
      "maturityRating    55655 non-null object\n",
      "imageThumbnail    54949 non-null object\n",
      "infoLink          55655 non-null object\n",
      "textSnippet       54379 non-null object\n",
      "_merge            55655 non-null object\n",
      "dtypes: float64(3), int64(2), object(12)\n",
      "memory usage: 7.6+ MB\n"
     ]
    }
   ],
   "source": [
    "#55655 total records with google book info\n",
    "items[items['_merge'] != 'left_only'].count()\n",
    "uniqueISBNs = items[items['_merge'] != 'left_only']['ISBN'].unique()\n",
    "items = items[items['_merge'] != 'left_only']\n",
    "items.info()"
   ]
  },
  {
   "cell_type": "code",
   "execution_count": 45,
   "metadata": {
    "collapsed": false
   },
   "outputs": [
    {
     "data": {
      "text/plain": [
       "847"
      ]
     },
     "execution_count": 45,
     "metadata": {},
     "output_type": "execute_result"
    }
   ],
   "source": [
    "len(uniqueISBNs)"
   ]
  },
  {
   "cell_type": "code",
   "execution_count": 46,
   "metadata": {
    "collapsed": false
   },
   "outputs": [
    {
     "name": "stdout",
     "output_type": "stream",
     "text": [
      "<class 'pandas.core.frame.DataFrame'>\n",
      "RangeIndex: 176019 entries, 0 to 176018\n",
      "Data columns (total 3 columns):\n",
      "UserID        176019 non-null int64\n",
      "ISBN          176019 non-null object\n",
      "BookRating    176019 non-null int64\n",
      "dtypes: int64(2), object(1)\n",
      "memory usage: 4.0+ MB\n",
      "None\n"
     ]
    },
    {
     "data": {
      "text/plain": [
       "UserID        21050\n",
       "ISBN          21050\n",
       "BookRating    21050\n",
       "dtype: int64"
      ]
     },
     "execution_count": 46,
     "metadata": {},
     "output_type": "execute_result"
    }
   ],
   "source": [
    "# 21050 = total count of ratings for the subset of ISBNs gathered from Google books lookup\n",
    "print dfRating.info()\n",
    "dfRating[dfRating['ISBN'].isin(uniqueISBNs)].count()"
   ]
  },
  {
   "cell_type": "code",
   "execution_count": 47,
   "metadata": {
    "collapsed": false
   },
   "outputs": [
    {
     "data": {
      "text/plain": [
       "UserID        21050\n",
       "ISBN          21050\n",
       "BookRating    21050\n",
       "dtype: int64"
      ]
     },
     "execution_count": 47,
     "metadata": {},
     "output_type": "execute_result"
    }
   ],
   "source": [
    "dfRating[dfRating['ISBN'].isin(uniqueISBNs)].count()"
   ]
  },
  {
   "cell_type": "code",
   "execution_count": 48,
   "metadata": {
    "collapsed": false
   },
   "outputs": [
    {
     "name": "stdout",
     "output_type": "stream",
     "text": [
      "<class 'pandas.core.frame.DataFrame'>\n",
      "RangeIndex: 176019 entries, 0 to 176018\n",
      "Data columns (total 3 columns):\n",
      "UserID        176019 non-null int64\n",
      "ISBN          176019 non-null object\n",
      "BookRating    176019 non-null int64\n",
      "dtypes: int64(2), object(1)\n",
      "memory usage: 4.0+ MB\n",
      "None\n",
      "\n",
      "\n",
      "<class 'pandas.core.frame.DataFrame'>\n",
      "Int64Index: 21050 entries, 14 to 175990\n",
      "Data columns (total 3 columns):\n",
      "UserID        21050 non-null int64\n",
      "ISBN          21050 non-null object\n",
      "BookRating    21050 non-null int64\n",
      "dtypes: int64(2), object(1)\n",
      "memory usage: 657.8+ KB\n"
     ]
    }
   ],
   "source": [
    "#Train recommendation system with ISBNs for which we were able to get Google lookups successfully\n",
    "print dfRating.info()\n",
    "dfRating = dfRating[dfRating['ISBN'].isin(uniqueISBNs)]\n",
    "print \"\\n\"\n",
    "dfRating.info()"
   ]
  },
  {
   "cell_type": "code",
   "execution_count": 118,
   "metadata": {
    "collapsed": false
   },
   "outputs": [
    {
     "name": "stdout",
     "output_type": "stream",
     "text": [
      "\n",
      "\n",
      "<class 'pandas.core.frame.DataFrame'>\n",
      "Int64Index: 51310 entries, 11 to 493801\n",
      "Data columns (total 3 columns):\n",
      "UserID        51310 non-null int64\n",
      "ISBN          51310 non-null object\n",
      "BookRating    51310 non-null int64\n",
      "dtypes: int64(2), object(1)\n",
      "memory usage: 1.6+ MB\n"
     ]
    }
   ],
   "source": [
    "dfRatingsWithZeroes = pd.read_csv(bookRatingsFileWithZeros)\n",
    "dfRatingsWithZeroes = dfRatingsWithZeroes[dfRatingsWithZeroes['ISBN'].isin(uniqueISBNs)]\n",
    "print \"\\n\"\n",
    "dfRatingsWithZeroes.info()"
   ]
  },
  {
   "cell_type": "code",
   "execution_count": 120,
   "metadata": {
    "collapsed": false
   },
   "outputs": [],
   "source": [
    "dfRatingsWithZeroes = dfRatingsWithZeroes[dfRatingsWithZeroes['BookRating'] == 0]"
   ]
  },
  {
   "cell_type": "code",
   "execution_count": 49,
   "metadata": {
    "collapsed": false,
    "scrolled": true
   },
   "outputs": [],
   "source": [
    "#convert subset ratings table to GraphLab SFrame\n",
    "dfRating = gl.SFrame(dfRating)"
   ]
  },
  {
   "cell_type": "code",
   "execution_count": 121,
   "metadata": {
    "collapsed": true
   },
   "outputs": [],
   "source": [
    "dfRatingsWithZeroes = gl.SFrame(dfRatingsWithZeroes)"
   ]
  },
  {
   "cell_type": "code",
   "execution_count": 50,
   "metadata": {
    "collapsed": false
   },
   "outputs": [
    {
     "data": {
      "text/plain": [
       "<bound method SFrame.column_types of Columns:\n",
       "\tUserID\tint\n",
       "\tISBN\tstr\n",
       "\tBookRating\tint\n",
       "\n",
       "Rows: 21050\n",
       "\n",
       "Data:\n",
       "+--------+------------+------------+\n",
       "| UserID |    ISBN    | BookRating |\n",
       "+--------+------------+------------+\n",
       "| 276754 | 0684867621 |     8      |\n",
       "| 276755 | 0451166892 |     5      |\n",
       "| 276788 | 043935806X |     7      |\n",
       "| 276804 | 0440498058 |     8      |\n",
       "| 276822 | 0060096195 |     10     |\n",
       "| 276822 | 0786817070 |     10     |\n",
       "| 276830 | 0440225825 |     9      |\n",
       "| 276832 | 0345446860 |     5      |\n",
       "| 276896 | 0440241537 |     10     |\n",
       "| 276925 | 002542730X |     10     |\n",
       "+--------+------------+------------+\n",
       "[21050 rows x 3 columns]\n",
       "Note: Only the head of the SFrame is printed.\n",
       "You can use print_rows(num_rows=m, num_columns=n) to print more rows and columns.>"
      ]
     },
     "execution_count": 50,
     "metadata": {},
     "output_type": "execute_result"
    }
   ],
   "source": [
    "dfRating.column_types"
   ]
  },
  {
   "cell_type": "code",
   "execution_count": 114,
   "metadata": {
    "collapsed": false
   },
   "outputs": [
    {
     "data": {
      "text/html": [
       "<div style=\"max-height:1000px;max-width:1500px;overflow:auto;\"><table frame=\"box\" rules=\"cols\">\n",
       "    <tr>\n",
       "        <th style=\"padding-left: 1em; padding-right: 1em; text-align: center\">UserID</th>\n",
       "        <th style=\"padding-left: 1em; padding-right: 1em; text-align: center\">ISBN</th>\n",
       "        <th style=\"padding-left: 1em; padding-right: 1em; text-align: center\">BookRating</th>\n",
       "    </tr>\n",
       "    <tr>\n",
       "        <td style=\"padding-left: 1em; padding-right: 1em; text-align: center; vertical-align: top\">276754</td>\n",
       "        <td style=\"padding-left: 1em; padding-right: 1em; text-align: center; vertical-align: top\">0684867621</td>\n",
       "        <td style=\"padding-left: 1em; padding-right: 1em; text-align: center; vertical-align: top\">8</td>\n",
       "    </tr>\n",
       "    <tr>\n",
       "        <td style=\"padding-left: 1em; padding-right: 1em; text-align: center; vertical-align: top\">276755</td>\n",
       "        <td style=\"padding-left: 1em; padding-right: 1em; text-align: center; vertical-align: top\">0451166892</td>\n",
       "        <td style=\"padding-left: 1em; padding-right: 1em; text-align: center; vertical-align: top\">5</td>\n",
       "    </tr>\n",
       "    <tr>\n",
       "        <td style=\"padding-left: 1em; padding-right: 1em; text-align: center; vertical-align: top\">276788</td>\n",
       "        <td style=\"padding-left: 1em; padding-right: 1em; text-align: center; vertical-align: top\">043935806X</td>\n",
       "        <td style=\"padding-left: 1em; padding-right: 1em; text-align: center; vertical-align: top\">7</td>\n",
       "    </tr>\n",
       "    <tr>\n",
       "        <td style=\"padding-left: 1em; padding-right: 1em; text-align: center; vertical-align: top\">276804</td>\n",
       "        <td style=\"padding-left: 1em; padding-right: 1em; text-align: center; vertical-align: top\">0440498058</td>\n",
       "        <td style=\"padding-left: 1em; padding-right: 1em; text-align: center; vertical-align: top\">8</td>\n",
       "    </tr>\n",
       "    <tr>\n",
       "        <td style=\"padding-left: 1em; padding-right: 1em; text-align: center; vertical-align: top\">276822</td>\n",
       "        <td style=\"padding-left: 1em; padding-right: 1em; text-align: center; vertical-align: top\">0060096195</td>\n",
       "        <td style=\"padding-left: 1em; padding-right: 1em; text-align: center; vertical-align: top\">10</td>\n",
       "    </tr>\n",
       "    <tr>\n",
       "        <td style=\"padding-left: 1em; padding-right: 1em; text-align: center; vertical-align: top\">276822</td>\n",
       "        <td style=\"padding-left: 1em; padding-right: 1em; text-align: center; vertical-align: top\">0786817070</td>\n",
       "        <td style=\"padding-left: 1em; padding-right: 1em; text-align: center; vertical-align: top\">10</td>\n",
       "    </tr>\n",
       "    <tr>\n",
       "        <td style=\"padding-left: 1em; padding-right: 1em; text-align: center; vertical-align: top\">276830</td>\n",
       "        <td style=\"padding-left: 1em; padding-right: 1em; text-align: center; vertical-align: top\">0440225825</td>\n",
       "        <td style=\"padding-left: 1em; padding-right: 1em; text-align: center; vertical-align: top\">9</td>\n",
       "    </tr>\n",
       "    <tr>\n",
       "        <td style=\"padding-left: 1em; padding-right: 1em; text-align: center; vertical-align: top\">276832</td>\n",
       "        <td style=\"padding-left: 1em; padding-right: 1em; text-align: center; vertical-align: top\">0345446860</td>\n",
       "        <td style=\"padding-left: 1em; padding-right: 1em; text-align: center; vertical-align: top\">5</td>\n",
       "    </tr>\n",
       "    <tr>\n",
       "        <td style=\"padding-left: 1em; padding-right: 1em; text-align: center; vertical-align: top\">276896</td>\n",
       "        <td style=\"padding-left: 1em; padding-right: 1em; text-align: center; vertical-align: top\">0440241537</td>\n",
       "        <td style=\"padding-left: 1em; padding-right: 1em; text-align: center; vertical-align: top\">10</td>\n",
       "    </tr>\n",
       "    <tr>\n",
       "        <td style=\"padding-left: 1em; padding-right: 1em; text-align: center; vertical-align: top\">276925</td>\n",
       "        <td style=\"padding-left: 1em; padding-right: 1em; text-align: center; vertical-align: top\">002542730X</td>\n",
       "        <td style=\"padding-left: 1em; padding-right: 1em; text-align: center; vertical-align: top\">10</td>\n",
       "    </tr>\n",
       "</table>\n",
       "[? rows x 3 columns]<br/>Note: Only the head of the SFrame is printed. This SFrame is lazily evaluated.<br/>You can use sf.materialize() to force materialization.\n",
       "</div>"
      ],
      "text/plain": [
       "Columns:\n",
       "\tUserID\tint\n",
       "\tISBN\tstr\n",
       "\tBookRating\tint\n",
       "\n",
       "Rows: Unknown\n",
       "\n",
       "Data:\n",
       "+--------+------------+------------+\n",
       "| UserID |    ISBN    | BookRating |\n",
       "+--------+------------+------------+\n",
       "| 276754 | 0684867621 |     8      |\n",
       "| 276755 | 0451166892 |     5      |\n",
       "| 276788 | 043935806X |     7      |\n",
       "| 276804 | 0440498058 |     8      |\n",
       "| 276822 | 0060096195 |     10     |\n",
       "| 276822 | 0786817070 |     10     |\n",
       "| 276830 | 0440225825 |     9      |\n",
       "| 276832 | 0345446860 |     5      |\n",
       "| 276896 | 0440241537 |     10     |\n",
       "| 276925 | 002542730X |     10     |\n",
       "+--------+------------+------------+\n",
       "[? rows x 3 columns]\n",
       "Note: Only the head of the SFrame is printed. This SFrame is lazily evaluated.\n",
       "You can use sf.materialize() to force materialization."
      ]
     },
     "execution_count": 114,
     "metadata": {},
     "output_type": "execute_result"
    }
   ],
   "source": [
    "dfRating[dfRating['BookRating'] != 0]"
   ]
  },
  {
   "cell_type": "code",
   "execution_count": 133,
   "metadata": {
    "collapsed": false
   },
   "outputs": [
    {
     "data": {
      "text/html": [
       "<pre>Finished parsing file /Users/jhonasttanregalado/Documents/DataScience/bootcamp7/githubcrush/bootcamp007_project/Project5-Capstone/shopaholics/BX-CSV-Dump/itemsSubsetForGraphLab.csv</pre>"
      ],
      "text/plain": [
       "Finished parsing file /Users/jhonasttanregalado/Documents/DataScience/bootcamp7/githubcrush/bootcamp007_project/Project5-Capstone/shopaholics/BX-CSV-Dump/itemsSubsetForGraphLab.csv"
      ]
     },
     "metadata": {},
     "output_type": "display_data"
    },
    {
     "data": {
      "text/html": [
       "<pre>Parsing completed. Parsed 100 lines in 0.44963 secs.</pre>"
      ],
      "text/plain": [
       "Parsing completed. Parsed 100 lines in 0.44963 secs."
      ]
     },
     "metadata": {},
     "output_type": "display_data"
    },
    {
     "data": {
      "text/html": [
       "<pre>These column type hints were not used: X1</pre>"
      ],
      "text/plain": [
       "These column type hints were not used: X1"
      ]
     },
     "metadata": {},
     "output_type": "display_data"
    },
    {
     "data": {
      "text/html": [
       "<pre>Finished parsing file /Users/jhonasttanregalado/Documents/DataScience/bootcamp7/githubcrush/bootcamp007_project/Project5-Capstone/shopaholics/BX-CSV-Dump/itemsSubsetForGraphLab.csv</pre>"
      ],
      "text/plain": [
       "Finished parsing file /Users/jhonasttanregalado/Documents/DataScience/bootcamp7/githubcrush/bootcamp007_project/Project5-Capstone/shopaholics/BX-CSV-Dump/itemsSubsetForGraphLab.csv"
      ]
     },
     "metadata": {},
     "output_type": "display_data"
    },
    {
     "data": {
      "text/html": [
       "<pre>Parsing completed. Parsed 55655 lines in 0.406617 secs.</pre>"
      ],
      "text/plain": [
       "Parsing completed. Parsed 55655 lines in 0.406617 secs."
      ]
     },
     "metadata": {},
     "output_type": "display_data"
    }
   ],
   "source": [
    "#Save items subset data to local file, for reloading as an SFrame\n",
    "#columnFields = ['UserID','ISBN','BookRating','title','authors','publishedDate',\\\n",
    "#                'publisher','categories','pageCount','imageThumbnail','textSnippet']\n",
    "#items = items[columnFields]\n",
    "#items.info()\n",
    "#items.to_csv(\"../BX-CSV-Dump/itemsSubsetForGraphLab.csv\")\n",
    "\n",
    "items = gl.SFrame.read_csv(\"../BX-CSV-Dump/itemsSubsetForGraphLab.csv\",\\\n",
    "                           column_type_hints={\"ISBN\":str, \"pageCount\":int})\n",
    "\n"
   ]
  },
  {
   "cell_type": "code",
   "execution_count": 134,
   "metadata": {
    "collapsed": false
   },
   "outputs": [
    {
     "data": {
      "text/plain": [
       "<bound method SFrame.column_types of Columns:\n",
       "\tISBN\tstr\n",
       "\tauthors\tstr\n",
       "\tcategories\tstr\n",
       "\timageThumbnail\tstr\n",
       "\tpageCount\tint\n",
       "\tpublishedDate\tstr\n",
       "\tpublisher\tstr\n",
       "\ttextSnippet\tstr\n",
       "\ttitle\tstr\n",
       "\n",
       "Rows: 883\n",
       "\n",
       "Data:\n",
       "+------------+-------------------------------+---------------------------+\n",
       "|    ISBN    |            authors            |         categories        |\n",
       "+------------+-------------------------------+---------------------------+\n",
       "| 051512317X |          Nora Roberts         |          Fiction          |\n",
       "| 0440204194 |          Maeve Binchy         |          Fiction          |\n",
       "| 1573229725 |          Sarah Waters         |          Fiction          |\n",
       "| 0689716958 |       Virginia Hamilton       |      Juvenile Fiction     |\n",
       "| 0449003795 |          Sue Grafton          |          Fiction          |\n",
       "| 0767902521 |          Bill Bryson          |           Travel          |\n",
       "| 044691200X | MAD Magazine, Sergio Aragonés |           Humor           |\n",
       "| 068484267X |         Frank McCourt         | Biography & Autobiography |\n",
       "| 0373484003 |          Nora Roberts         |          Fiction          |\n",
       "| 0515133302 |       Catherine Coulter       |          Fiction          |\n",
       "+------------+-------------------------------+---------------------------+\n",
       "+-------------------------------+-----------+---------------+\n",
       "|         imageThumbnail        | pageCount | publishedDate |\n",
       "+-------------------------------+-----------+---------------+\n",
       "| http://books.google.com/bo... |    339    |      1998     |\n",
       "| http://books.google.com/bo... |    672    |      1989     |\n",
       "| http://books.google.com/bo... |    582    |      2002     |\n",
       "| http://books.google.com/bo... |    128    |   1993-04-30  |\n",
       "| http://books.google.com/bo... |    370    |      2001     |\n",
       "| http://books.google.com/bo... |    276    |      1999     |\n",
       "| http://books.google.com/bo... |     85    |      1997     |\n",
       "| http://books.google.com/bo... |    363    |   1999-05-25  |\n",
       "| http://books.google.com/bo... |    506    |      2000     |\n",
       "| http://books.google.com/bo... |    337    |      2002     |\n",
       "+-------------------------------+-----------+---------------+\n",
       "+----------------------------+-------------------------------+\n",
       "|         publisher          |          textSnippet          |\n",
       "+----------------------------+-------------------------------+\n",
       "|          Penguin           | Ethan Quinn must rise abov... |\n",
       "|  Dell Publishing Company   |             Roman.            |\n",
       "|          Penguin           | Growing up as a foster chi... |\n",
       "|          Aladdin           | When Geeder finally meets ... |\n",
       "| Random House Digital, Inc. | Kinsey Millhone trusts her... |\n",
       "|          Broadway          | Bryson share his experienc... |\n",
       "|        Warner Books        | Presents a collection of q... |\n",
       "|     Simon and Schuster     | The author recounts his ch... |\n",
       "|      Harlequin Books       | And look for Irish Rebel, ... |\n",
       "|          Penguin           | Caught up in a challenging... |\n",
       "+----------------------------+-------------------------------+\n",
       "+--------------------------+\n",
       "|          title           |\n",
       "+--------------------------+\n",
       "|       Rising Tides       |\n",
       "|      Firefly Summer      |\n",
       "|       Fingersmith        |\n",
       "|          Zeely           |\n",
       "| Is for Peril : [romanas] |\n",
       "|   A Walk in the Woods    |\n",
       "|           MAD            |\n",
       "|      Angela's Ashes      |\n",
       "|       Irish Hearts       |\n",
       "|       Hemlock Bay        |\n",
       "+--------------------------+\n",
       "[883 rows x 9 columns]\n",
       "Note: Only the head of the SFrame is printed.\n",
       "You can use print_rows(num_rows=m, num_columns=n) to print more rows and columns.>"
      ]
     },
     "execution_count": 134,
     "metadata": {},
     "output_type": "execute_result"
    }
   ],
   "source": [
    "#prep dataframe for unique items only - original Rows: 55655\n",
    "\n",
    "items.remove_columns(['X1','UserID', 'BookRating'])\n",
    "items = items.unique()\n",
    "items.column_types"
   ]
  },
  {
   "cell_type": "code",
   "execution_count": 123,
   "metadata": {
    "collapsed": false
   },
   "outputs": [
    {
     "name": "stdout",
     "output_type": "stream",
     "text": [
      "[276754, 276755, 276788, 276804, 276822, 276822, 276830, 276832, 276896, 276925, 276925, 276957, 276964, 276964, 276986, 276986, 277042, 277042, 277042, 277051, 277072, 277096, 277107, 277124, 277124, 277124, 277143, 277157, 277171, 277179, 277195, 277195, 277197, 277212, 277229, 277235, 277235, 277237, 277246, 277261, 277315, 277358, 277364, 277378, 277378, 277378, 277427, 277427, 277427, 277427, 277427, 277427, 277427, 277427, 277427, 277427, 277427, 277427, 277439, 277439, 277462, 277466, 277466, 277469, 277517, 277523, 277523, 277523, 277523, 277523, 277523, 277523, 277527, 277527, 277527, 277529, 277533, 277533, 277535, 277554, 277554, 277575, 277575, 277589, 277598, 277601, 277623, 277623, 277623, 277629, 277629, 277629, 277629, 277639, 277639, 277639, 277639, 277639, 277647, 277651, ... ]\n",
      "\n",
      "\n"
     ]
    },
    {
     "data": {
      "text/plain": [
       "dtype: int\n",
       "Rows: 30260\n",
       "[276746, 276746, 276762, 276847, 276925, 276925, 276929, 276929, 276939, 276939, 276954, 276964, 276989, 277042, 277042, 277042, 277042, 277042, 277051, 277114, 277143, 277143, 277157, 277157, 277157, 277157, 277168, 277168, 277168, 277168, 277170, 277170, 277171, 277187, 277187, 277195, 277195, 277195, 277195, 277195, 277195, 277195, 277195, 277195, 277195, 277195, 277195, 277195, 277195, 277195, 277197, 277231, 277244, 277245, 277272, 277288, 277378, 277378, 277378, 277378, 277378, 277378, 277411, 277413, 277427, 277427, 277427, 277427, 277427, 277427, 277427, 277427, 277427, 277427, 277427, 277427, 277427, 277427, 277427, 277427, 277427, 277427, 277427, 277427, 277427, 277427, 277427, 277427, 277427, 277427, 277427, 277427, 277427, 277427, 277427, 277427, 277427, 277427, 277427, 277427, ... ]"
      ]
     },
     "execution_count": 123,
     "metadata": {},
     "output_type": "execute_result"
    }
   ],
   "source": [
    "print dfRating['UserID']\n",
    "print \"\\n\"\n",
    "dfRatingsWithZeroes['UserID']"
   ]
  },
  {
   "cell_type": "code",
   "execution_count": 10,
   "metadata": {
    "collapsed": false,
    "scrolled": true
   },
   "outputs": [
    {
     "data": {
      "text/plain": [
       "dtype: str\n",
       "Rows: 498156\n",
       "['0330299891', '0375404120', '#6612432', \"'9607092856'\", \"'9607092910'\", '(THEWINDMILLP', ')440206529', '*0515128325', '+0451197399', '0 00 612183 7', '0 140362525', '0 586 05153 8', '0 671 74251 5', '0 7475 3274 5', '0 7525 1962 x', '0 85550 000 x', '0 907 062 008', '0 907 062 008', '0 907 062 008', '0*708880258', '0*708880258', '0.330241664', '0.380.50377.8', '0/330/25864/8', '00.55339', '00000000', '00000000', '000000000', '000000000', '000000000', '0000000000', '000000000000', '0000000000000', '0000000000000', '0000000008573', '0000000022057', '0000000029841', '0000000029841', '0000000029841', '0000000030670', '0000000033220', '0000000054690', '0000001042283', '0000001042283', '0000001077469', '0000001481', '000001246971', '000001246971', '000003827X', '000003827X', '0000094072', '0000121214523', '0000225820X', '00006512054', '00006750184', '00007167040', '0000722105029', '0000913154', '0001010565', '0001016237', '0001033085', '0001046713', '0001046934', '0001047647', '0001047663', '0001047868', '000104799X', '0001048759', '0001053736', '0001053744', '0001055666', '0001061615', '000123207X', '0001232088', '000123361', '0001251782', '0001374362', '0001604163', '000160418X', '0001604465', '0001643118', '0001700413', '000171306X', '000171306X', '0001713345', '0001713345', '0001717952', '0001718126', '0001821326', '0001837397', '0001839233', '000184251X', '0001845411', '0001846434', '0001848461', '0001855018', '0001856367', '0001857258', '0001857428', '0001900277', ... ]"
      ]
     },
     "execution_count": 10,
     "metadata": {},
     "output_type": "execute_result"
    }
   ],
   "source": [
    "items['ISBN']"
   ]
  },
  {
   "cell_type": "code",
   "execution_count": 67,
   "metadata": {
    "collapsed": true
   },
   "outputs": [],
   "source": [
    "#variable to be referenced in training model section\n",
    "actions = dfRating"
   ]
  },
  {
   "cell_type": "code",
   "execution_count": 68,
   "metadata": {
    "collapsed": false
   },
   "outputs": [
    {
     "data": {
      "text/plain": [
       "<bound method SFrame.column_names of Columns:\n",
       "\tUserID\tint\n",
       "\tISBN\tstr\n",
       "\tBookRating\tint\n",
       "\n",
       "Rows: 21050\n",
       "\n",
       "Data:\n",
       "+--------+------------+------------+\n",
       "| UserID |    ISBN    | BookRating |\n",
       "+--------+------------+------------+\n",
       "| 276754 | 0684867621 |     8      |\n",
       "| 276755 | 0451166892 |     5      |\n",
       "| 276788 | 043935806X |     7      |\n",
       "| 276804 | 0440498058 |     8      |\n",
       "| 276822 | 0060096195 |     10     |\n",
       "| 276822 | 0786817070 |     10     |\n",
       "| 276830 | 0440225825 |     9      |\n",
       "| 276832 | 0345446860 |     5      |\n",
       "| 276896 | 0440241537 |     10     |\n",
       "| 276925 | 002542730X |     10     |\n",
       "+--------+------------+------------+\n",
       "[21050 rows x 3 columns]\n",
       "Note: Only the head of the SFrame is printed.\n",
       "You can use print_rows(num_rows=m, num_columns=n) to print more rows and columns.>"
      ]
     },
     "execution_count": 68,
     "metadata": {},
     "output_type": "execute_result"
    }
   ],
   "source": [
    "actions.column_names"
   ]
  },
  {
   "cell_type": "markdown",
   "metadata": {},
   "source": [
    "### Examples\n",
    "\n",
    "Basic usage\n",
    "\n",
    "Given basic user-item observation data, an ItemSimilarityRecommender is created:\n",
    "\n",
    ">>> sf = graphlab.SFrame({'user_id': ['0', '0', '0', '1', '1', '2', '2', '2'],\n",
    "...                       'item_id': ['a', 'b', 'c', 'a', 'b', 'b', 'c', 'd']})\n",
    ">>> m = graphlab.recommender.create(sf)\n",
    ">>> recs = m.recommend()\n",
    "Creating a model for ratings data\n",
    "\n",
    "This trains a FactorizationRecommender that can predict target ratings:\n",
    "\n",
    ">>> sf2 = graphlab.SFrame({'user_id': ['0', '0', '0', '1', '1', '2', '2', '2'],\n",
    "...                        'item_id': ['a', 'b', 'c', 'a', 'b', 'b', 'c', 'd'],\n",
    "...                        'rating': [1, 3, 2, 5, 4, 1, 4, 3]})\n",
    ">>> m2 = graphlab.recommender.create(sf2, target=\"rating\", ranking = False)\n"
   ]
  },
  {
   "cell_type": "code",
   "execution_count": 69,
   "metadata": {
    "collapsed": false,
    "scrolled": true
   },
   "outputs": [
    {
     "data": {
      "text/html": [
       "<pre>Recsys training: model = item_similarity</pre>"
      ],
      "text/plain": [
       "Recsys training: model = item_similarity"
      ]
     },
     "metadata": {},
     "output_type": "display_data"
    },
    {
     "data": {
      "text/html": [
       "<pre>Warning: Column 'BookRating' ignored.</pre>"
      ],
      "text/plain": [
       "Warning: Column 'BookRating' ignored."
      ]
     },
     "metadata": {},
     "output_type": "display_data"
    },
    {
     "data": {
      "text/html": [
       "<pre>    To use this column as the target, set target = \"BookRating\" and use a method that allows the use of a target.</pre>"
      ],
      "text/plain": [
       "    To use this column as the target, set target = \"BookRating\" and use a method that allows the use of a target."
      ]
     },
     "metadata": {},
     "output_type": "display_data"
    },
    {
     "data": {
      "text/html": [
       "<pre>Preparing data set.</pre>"
      ],
      "text/plain": [
       "Preparing data set."
      ]
     },
     "metadata": {},
     "output_type": "display_data"
    },
    {
     "data": {
      "text/html": [
       "<pre>    Data has 20557 observations with 8709 users and 826 items.</pre>"
      ],
      "text/plain": [
       "    Data has 20557 observations with 8709 users and 826 items."
      ]
     },
     "metadata": {},
     "output_type": "display_data"
    },
    {
     "data": {
      "text/html": [
       "<pre>    Data prepared in: 0.083285s</pre>"
      ],
      "text/plain": [
       "    Data prepared in: 0.083285s"
      ]
     },
     "metadata": {},
     "output_type": "display_data"
    },
    {
     "data": {
      "text/html": [
       "<pre>Training model from provided data.</pre>"
      ],
      "text/plain": [
       "Training model from provided data."
      ]
     },
     "metadata": {},
     "output_type": "display_data"
    },
    {
     "data": {
      "text/html": [
       "<pre>Gathering per-item and per-user statistics.</pre>"
      ],
      "text/plain": [
       "Gathering per-item and per-user statistics."
      ]
     },
     "metadata": {},
     "output_type": "display_data"
    },
    {
     "data": {
      "text/html": [
       "<pre>+--------------------------------+------------+</pre>"
      ],
      "text/plain": [
       "+--------------------------------+------------+"
      ]
     },
     "metadata": {},
     "output_type": "display_data"
    },
    {
     "data": {
      "text/html": [
       "<pre>| Elapsed Time (Item Statistics) | % Complete |</pre>"
      ],
      "text/plain": [
       "| Elapsed Time (Item Statistics) | % Complete |"
      ]
     },
     "metadata": {},
     "output_type": "display_data"
    },
    {
     "data": {
      "text/html": [
       "<pre>+--------------------------------+------------+</pre>"
      ],
      "text/plain": [
       "+--------------------------------+------------+"
      ]
     },
     "metadata": {},
     "output_type": "display_data"
    },
    {
     "data": {
      "text/html": [
       "<pre>| 2.672ms                        | 80.25      |</pre>"
      ],
      "text/plain": [
       "| 2.672ms                        | 80.25      |"
      ]
     },
     "metadata": {},
     "output_type": "display_data"
    },
    {
     "data": {
      "text/html": [
       "<pre>| 4.906ms                        | 100        |</pre>"
      ],
      "text/plain": [
       "| 4.906ms                        | 100        |"
      ]
     },
     "metadata": {},
     "output_type": "display_data"
    },
    {
     "data": {
      "text/html": [
       "<pre>+--------------------------------+------------+</pre>"
      ],
      "text/plain": [
       "+--------------------------------+------------+"
      ]
     },
     "metadata": {},
     "output_type": "display_data"
    },
    {
     "data": {
      "text/html": [
       "<pre>Setting up lookup tables.</pre>"
      ],
      "text/plain": [
       "Setting up lookup tables."
      ]
     },
     "metadata": {},
     "output_type": "display_data"
    },
    {
     "data": {
      "text/html": [
       "<pre>Processing data in one pass using dense lookup tables.</pre>"
      ],
      "text/plain": [
       "Processing data in one pass using dense lookup tables."
      ]
     },
     "metadata": {},
     "output_type": "display_data"
    },
    {
     "data": {
      "text/html": [
       "<pre>+-------------------------------------+------------------+-----------------+</pre>"
      ],
      "text/plain": [
       "+-------------------------------------+------------------+-----------------+"
      ]
     },
     "metadata": {},
     "output_type": "display_data"
    },
    {
     "data": {
      "text/html": [
       "<pre>| Elapsed Time (Constructing Lookups) | Total % Complete | Items Processed |</pre>"
      ],
      "text/plain": [
       "| Elapsed Time (Constructing Lookups) | Total % Complete | Items Processed |"
      ]
     },
     "metadata": {},
     "output_type": "display_data"
    },
    {
     "data": {
      "text/html": [
       "<pre>+-------------------------------------+------------------+-----------------+</pre>"
      ],
      "text/plain": [
       "+-------------------------------------+------------------+-----------------+"
      ]
     },
     "metadata": {},
     "output_type": "display_data"
    },
    {
     "data": {
      "text/html": [
       "<pre>| 12.797ms                            | 0                | 0               |</pre>"
      ],
      "text/plain": [
       "| 12.797ms                            | 0                | 0               |"
      ]
     },
     "metadata": {},
     "output_type": "display_data"
    },
    {
     "data": {
      "text/html": [
       "<pre>| 25.614ms                            | 100              | 826             |</pre>"
      ],
      "text/plain": [
       "| 25.614ms                            | 100              | 826             |"
      ]
     },
     "metadata": {},
     "output_type": "display_data"
    },
    {
     "data": {
      "text/html": [
       "<pre>+-------------------------------------+------------------+-----------------+</pre>"
      ],
      "text/plain": [
       "+-------------------------------------+------------------+-----------------+"
      ]
     },
     "metadata": {},
     "output_type": "display_data"
    },
    {
     "data": {
      "text/html": [
       "<pre>Finalizing lookup tables.</pre>"
      ],
      "text/plain": [
       "Finalizing lookup tables."
      ]
     },
     "metadata": {},
     "output_type": "display_data"
    },
    {
     "data": {
      "text/html": [
       "<pre>Generating candidate set for working with new users.</pre>"
      ],
      "text/plain": [
       "Generating candidate set for working with new users."
      ]
     },
     "metadata": {},
     "output_type": "display_data"
    },
    {
     "data": {
      "text/html": [
       "<pre>Finished training in 1.04602s</pre>"
      ],
      "text/plain": [
       "Finished training in 1.04602s"
      ]
     },
     "metadata": {},
     "output_type": "display_data"
    }
   ],
   "source": [
    "#build a model - defaults to jaccardian\n",
    "training_data, validation_data = gl.recommender.util.random_split_by_user(actions, 'UserID', 'ISBN')\n",
    "model = gl.recommender.create(training_data, 'UserID', 'ISBN')"
   ]
  },
  {
   "cell_type": "code",
   "execution_count": 70,
   "metadata": {
    "collapsed": false
   },
   "outputs": [
    {
     "data": {
      "text/html": [
       "<pre>recommendations finished on 1000/8709 queries. users per second: 71058.1</pre>"
      ],
      "text/plain": [
       "recommendations finished on 1000/8709 queries. users per second: 71058.1"
      ]
     },
     "metadata": {},
     "output_type": "display_data"
    },
    {
     "data": {
      "text/html": [
       "<pre>recommendations finished on 2000/8709 queries. users per second: 73730</pre>"
      ],
      "text/plain": [
       "recommendations finished on 2000/8709 queries. users per second: 73730"
      ]
     },
     "metadata": {},
     "output_type": "display_data"
    },
    {
     "data": {
      "text/html": [
       "<pre>recommendations finished on 3000/8709 queries. users per second: 69814.5</pre>"
      ],
      "text/plain": [
       "recommendations finished on 3000/8709 queries. users per second: 69814.5"
      ]
     },
     "metadata": {},
     "output_type": "display_data"
    },
    {
     "data": {
      "text/html": [
       "<pre>recommendations finished on 4000/8709 queries. users per second: 65284.8</pre>"
      ],
      "text/plain": [
       "recommendations finished on 4000/8709 queries. users per second: 65284.8"
      ]
     },
     "metadata": {},
     "output_type": "display_data"
    },
    {
     "data": {
      "text/html": [
       "<pre>recommendations finished on 5000/8709 queries. users per second: 71708.2</pre>"
      ],
      "text/plain": [
       "recommendations finished on 5000/8709 queries. users per second: 71708.2"
      ]
     },
     "metadata": {},
     "output_type": "display_data"
    },
    {
     "data": {
      "text/html": [
       "<pre>recommendations finished on 6000/8709 queries. users per second: 71108.6</pre>"
      ],
      "text/plain": [
       "recommendations finished on 6000/8709 queries. users per second: 71108.6"
      ]
     },
     "metadata": {},
     "output_type": "display_data"
    },
    {
     "data": {
      "text/html": [
       "<pre>recommendations finished on 7000/8709 queries. users per second: 77348.1</pre>"
      ],
      "text/plain": [
       "recommendations finished on 7000/8709 queries. users per second: 77348.1"
      ]
     },
     "metadata": {},
     "output_type": "display_data"
    },
    {
     "data": {
      "text/html": [
       "<pre>recommendations finished on 8000/8709 queries. users per second: 79399.7</pre>"
      ],
      "text/plain": [
       "recommendations finished on 8000/8709 queries. users per second: 79399.7"
      ]
     },
     "metadata": {},
     "output_type": "display_data"
    }
   ],
   "source": [
    "results = model.recommend()"
   ]
  },
  {
   "cell_type": "code",
   "execution_count": null,
   "metadata": {
    "collapsed": true
   },
   "outputs": [],
   "source": []
  },
  {
   "cell_type": "code",
   "execution_count": 71,
   "metadata": {
    "collapsed": false
   },
   "outputs": [
    {
     "data": {
      "text/plain": [
       "u'/Users/jhonasttanregalado/Documents/DataScience/bootcamp7/githubcrush/bootcamp007_project/Project5-Capstone/shopaholics/collabFiltPython'"
      ]
     },
     "execution_count": 71,
     "metadata": {},
     "output_type": "execute_result"
    }
   ],
   "source": [
    "pwd"
   ]
  },
  {
   "cell_type": "code",
   "execution_count": 72,
   "metadata": {
    "collapsed": false
   },
   "outputs": [],
   "source": [
    "my_list_of_items = pd.read_csv('../BX-CSV-Dump/books1000.csv')"
   ]
  },
  {
   "cell_type": "code",
   "execution_count": 73,
   "metadata": {
    "collapsed": false
   },
   "outputs": [],
   "source": [
    "my_list_of_items = gl.SArray(my_list_of_items['ISBN'])"
   ]
  },
  {
   "cell_type": "code",
   "execution_count": 74,
   "metadata": {
    "collapsed": false
   },
   "outputs": [],
   "source": [
    "similar_items = model.get_similar_items(my_list_of_items[:10], k=20)\n"
   ]
  },
  {
   "cell_type": "code",
   "execution_count": 75,
   "metadata": {
    "collapsed": false
   },
   "outputs": [
    {
     "data": {
      "text/html": [
       "<div style=\"max-height:1000px;max-width:1500px;overflow:auto;\"><table frame=\"box\" rules=\"cols\">\n",
       "    <tr>\n",
       "        <th style=\"padding-left: 1em; padding-right: 1em; text-align: center\">ISBN</th>\n",
       "        <th style=\"padding-left: 1em; padding-right: 1em; text-align: center\">similar</th>\n",
       "        <th style=\"padding-left: 1em; padding-right: 1em; text-align: center\">score</th>\n",
       "        <th style=\"padding-left: 1em; padding-right: 1em; text-align: center\">rank</th>\n",
       "    </tr>\n",
       "    <tr>\n",
       "        <td style=\"padding-left: 1em; padding-right: 1em; text-align: center; vertical-align: top\">0971880107</td>\n",
       "        <td style=\"padding-left: 1em; padding-right: 1em; text-align: center; vertical-align: top\">0385504209</td>\n",
       "        <td style=\"padding-left: 1em; padding-right: 1em; text-align: center; vertical-align: top\">0.0223214030266</td>\n",
       "        <td style=\"padding-left: 1em; padding-right: 1em; text-align: center; vertical-align: top\">1</td>\n",
       "    </tr>\n",
       "    <tr>\n",
       "        <td style=\"padding-left: 1em; padding-right: 1em; text-align: center; vertical-align: top\">0971880107</td>\n",
       "        <td style=\"padding-left: 1em; padding-right: 1em; text-align: center; vertical-align: top\">0446605239</td>\n",
       "        <td style=\"padding-left: 1em; padding-right: 1em; text-align: center; vertical-align: top\">0.0181818008423</td>\n",
       "        <td style=\"padding-left: 1em; padding-right: 1em; text-align: center; vertical-align: top\">2</td>\n",
       "    </tr>\n",
       "    <tr>\n",
       "        <td style=\"padding-left: 1em; padding-right: 1em; text-align: center; vertical-align: top\">0971880107</td>\n",
       "        <td style=\"padding-left: 1em; padding-right: 1em; text-align: center; vertical-align: top\">0316666343</td>\n",
       "        <td style=\"padding-left: 1em; padding-right: 1em; text-align: center; vertical-align: top\">0.0165441036224</td>\n",
       "        <td style=\"padding-left: 1em; padding-right: 1em; text-align: center; vertical-align: top\">3</td>\n",
       "    </tr>\n",
       "    <tr>\n",
       "        <td style=\"padding-left: 1em; padding-right: 1em; text-align: center; vertical-align: top\">0971880107</td>\n",
       "        <td style=\"padding-left: 1em; padding-right: 1em; text-align: center; vertical-align: top\">0345342968</td>\n",
       "        <td style=\"padding-left: 1em; padding-right: 1em; text-align: center; vertical-align: top\">0.0158730149269</td>\n",
       "        <td style=\"padding-left: 1em; padding-right: 1em; text-align: center; vertical-align: top\">4</td>\n",
       "    </tr>\n",
       "    <tr>\n",
       "        <td style=\"padding-left: 1em; padding-right: 1em; text-align: center; vertical-align: top\">0971880107</td>\n",
       "        <td style=\"padding-left: 1em; padding-right: 1em; text-align: center; vertical-align: top\">0375702709</td>\n",
       "        <td style=\"padding-left: 1em; padding-right: 1em; text-align: center; vertical-align: top\">0.0140845179558</td>\n",
       "        <td style=\"padding-left: 1em; padding-right: 1em; text-align: center; vertical-align: top\">5</td>\n",
       "    </tr>\n",
       "    <tr>\n",
       "        <td style=\"padding-left: 1em; padding-right: 1em; text-align: center; vertical-align: top\">0971880107</td>\n",
       "        <td style=\"padding-left: 1em; padding-right: 1em; text-align: center; vertical-align: top\">0316601950</td>\n",
       "        <td style=\"padding-left: 1em; padding-right: 1em; text-align: center; vertical-align: top\">0.0134048461914</td>\n",
       "        <td style=\"padding-left: 1em; padding-right: 1em; text-align: center; vertical-align: top\">6</td>\n",
       "    </tr>\n",
       "    <tr>\n",
       "        <td style=\"padding-left: 1em; padding-right: 1em; text-align: center; vertical-align: top\">0971880107</td>\n",
       "        <td style=\"padding-left: 1em; padding-right: 1em; text-align: center; vertical-align: top\">0142001740</td>\n",
       "        <td style=\"padding-left: 1em; padding-right: 1em; text-align: center; vertical-align: top\">0.0133333206177</td>\n",
       "        <td style=\"padding-left: 1em; padding-right: 1em; text-align: center; vertical-align: top\">7</td>\n",
       "    </tr>\n",
       "    <tr>\n",
       "        <td style=\"padding-left: 1em; padding-right: 1em; text-align: center; vertical-align: top\">0971880107</td>\n",
       "        <td style=\"padding-left: 1em; padding-right: 1em; text-align: center; vertical-align: top\">0439139600</td>\n",
       "        <td style=\"padding-left: 1em; padding-right: 1em; text-align: center; vertical-align: top\">0.0132012963295</td>\n",
       "        <td style=\"padding-left: 1em; padding-right: 1em; text-align: center; vertical-align: top\">8</td>\n",
       "    </tr>\n",
       "    <tr>\n",
       "        <td style=\"padding-left: 1em; padding-right: 1em; text-align: center; vertical-align: top\">0971880107</td>\n",
       "        <td style=\"padding-left: 1em; padding-right: 1em; text-align: center; vertical-align: top\">0425192733</td>\n",
       "        <td style=\"padding-left: 1em; padding-right: 1em; text-align: center; vertical-align: top\">0.011194050312</td>\n",
       "        <td style=\"padding-left: 1em; padding-right: 1em; text-align: center; vertical-align: top\">9</td>\n",
       "    </tr>\n",
       "    <tr>\n",
       "        <td style=\"padding-left: 1em; padding-right: 1em; text-align: center; vertical-align: top\">0971880107</td>\n",
       "        <td style=\"padding-left: 1em; padding-right: 1em; text-align: center; vertical-align: top\">0446610542</td>\n",
       "        <td style=\"padding-left: 1em; padding-right: 1em; text-align: center; vertical-align: top\">0.0110294222832</td>\n",
       "        <td style=\"padding-left: 1em; padding-right: 1em; text-align: center; vertical-align: top\">10</td>\n",
       "    </tr>\n",
       "</table>\n",
       "[180 rows x 4 columns]<br/>Note: Only the head of the SFrame is printed.<br/>You can use print_rows(num_rows=m, num_columns=n) to print more rows and columns.\n",
       "</div>"
      ],
      "text/plain": [
       "Columns:\n",
       "\tISBN\tstr\n",
       "\tsimilar\tstr\n",
       "\tscore\tfloat\n",
       "\trank\tint\n",
       "\n",
       "Rows: 180\n",
       "\n",
       "Data:\n",
       "+------------+------------+-----------------+------+\n",
       "|    ISBN    |  similar   |      score      | rank |\n",
       "+------------+------------+-----------------+------+\n",
       "| 0971880107 | 0385504209 | 0.0223214030266 |  1   |\n",
       "| 0971880107 | 0446605239 | 0.0181818008423 |  2   |\n",
       "| 0971880107 | 0316666343 | 0.0165441036224 |  3   |\n",
       "| 0971880107 | 0345342968 | 0.0158730149269 |  4   |\n",
       "| 0971880107 | 0375702709 | 0.0140845179558 |  5   |\n",
       "| 0971880107 | 0316601950 | 0.0134048461914 |  6   |\n",
       "| 0971880107 | 0142001740 | 0.0133333206177 |  7   |\n",
       "| 0971880107 | 0439139600 | 0.0132012963295 |  8   |\n",
       "| 0971880107 | 0425192733 |  0.011194050312 |  9   |\n",
       "| 0971880107 | 0446610542 | 0.0110294222832 |  10  |\n",
       "+------------+------------+-----------------+------+\n",
       "[180 rows x 4 columns]\n",
       "Note: Only the head of the SFrame is printed.\n",
       "You can use print_rows(num_rows=m, num_columns=n) to print more rows and columns."
      ]
     },
     "execution_count": 75,
     "metadata": {},
     "output_type": "execute_result"
    }
   ],
   "source": [
    "similar_items"
   ]
  },
  {
   "cell_type": "code",
   "execution_count": 139,
   "metadata": {
    "collapsed": false
   },
   "outputs": [],
   "source": [
    "def ISBNlookup(i):\n",
    "    return items[items['ISBN']==i]"
   ]
  },
  {
   "cell_type": "code",
   "execution_count": 140,
   "metadata": {
    "collapsed": false
   },
   "outputs": [
    {
     "data": {
      "text/html": [
       "<div style=\"max-height:1000px;max-width:1500px;overflow:auto;\"><table frame=\"box\" rules=\"cols\">\n",
       "    <tr>\n",
       "        <th style=\"padding-left: 1em; padding-right: 1em; text-align: center\">ISBN</th>\n",
       "        <th style=\"padding-left: 1em; padding-right: 1em; text-align: center\">authors</th>\n",
       "        <th style=\"padding-left: 1em; padding-right: 1em; text-align: center\">categories</th>\n",
       "        <th style=\"padding-left: 1em; padding-right: 1em; text-align: center\">imageThumbnail</th>\n",
       "        <th style=\"padding-left: 1em; padding-right: 1em; text-align: center\">pageCount</th>\n",
       "        <th style=\"padding-left: 1em; padding-right: 1em; text-align: center\">publishedDate</th>\n",
       "        <th style=\"padding-left: 1em; padding-right: 1em; text-align: center\">publisher</th>\n",
       "    </tr>\n",
       "    <tr>\n",
       "        <td style=\"padding-left: 1em; padding-right: 1em; text-align: center; vertical-align: top\">0971880107</td>\n",
       "        <td style=\"padding-left: 1em; padding-right: 1em; text-align: center; vertical-align: top\">Rich Shapero</td>\n",
       "        <td style=\"padding-left: 1em; padding-right: 1em; text-align: center; vertical-align: top\">Fiction</td>\n",
       "        <td style=\"padding-left: 1em; padding-right: 1em; text-align: center; vertical-align: top\">http://books.google.com/b<br>ooks/content?id=cbGr5 ...</td>\n",
       "        <td style=\"padding-left: 1em; padding-right: 1em; text-align: center; vertical-align: top\">315</td>\n",
       "        <td style=\"padding-left: 1em; padding-right: 1em; text-align: center; vertical-align: top\">2004</td>\n",
       "        <td style=\"padding-left: 1em; padding-right: 1em; text-align: center; vertical-align: top\">Too Far Pub</td>\n",
       "    </tr>\n",
       "</table>\n",
       "<table frame=\"box\" rules=\"cols\">\n",
       "    <tr>\n",
       "        <th style=\"padding-left: 1em; padding-right: 1em; text-align: center\">textSnippet</th>\n",
       "        <th style=\"padding-left: 1em; padding-right: 1em; text-align: center\">title</th>\n",
       "    </tr>\n",
       "    <tr>\n",
       "        <td style=\"padding-left: 1em; padding-right: 1em; text-align: center; vertical-align: top\">Newly graduated from<br>college, Sam Altman is ...</td>\n",
       "        <td style=\"padding-left: 1em; padding-right: 1em; text-align: center; vertical-align: top\">Wild Animus</td>\n",
       "    </tr>\n",
       "</table>\n",
       "[? rows x 9 columns]<br/>Note: Only the head of the SFrame is printed. This SFrame is lazily evaluated.<br/>You can use sf.materialize() to force materialization.\n",
       "</div>"
      ],
      "text/plain": [
       "Columns:\n",
       "\tISBN\tstr\n",
       "\tauthors\tstr\n",
       "\tcategories\tstr\n",
       "\timageThumbnail\tstr\n",
       "\tpageCount\tint\n",
       "\tpublishedDate\tstr\n",
       "\tpublisher\tstr\n",
       "\ttextSnippet\tstr\n",
       "\ttitle\tstr\n",
       "\n",
       "Rows: Unknown\n",
       "\n",
       "Data:\n",
       "+------------+--------------+------------+-------------------------------+-----------+\n",
       "|    ISBN    |   authors    | categories |         imageThumbnail        | pageCount |\n",
       "+------------+--------------+------------+-------------------------------+-----------+\n",
       "| 0971880107 | Rich Shapero |  Fiction   | http://books.google.com/bo... |    315    |\n",
       "+------------+--------------+------------+-------------------------------+-----------+\n",
       "+---------------+-------------+-------------------------------+-------------+\n",
       "| publishedDate |  publisher  |          textSnippet          |    title    |\n",
       "+---------------+-------------+-------------------------------+-------------+\n",
       "|      2004     | Too Far Pub | Newly graduated from colle... | Wild Animus |\n",
       "+---------------+-------------+-------------------------------+-------------+\n",
       "[? rows x 9 columns]\n",
       "Note: Only the head of the SFrame is printed. This SFrame is lazily evaluated.\n",
       "You can use sf.materialize() to force materialization."
      ]
     },
     "execution_count": 140,
     "metadata": {},
     "output_type": "execute_result"
    }
   ],
   "source": [
    "ISBNlookup('0971880107')"
   ]
  },
  {
   "cell_type": "code",
   "execution_count": 82,
   "metadata": {
    "collapsed": true
   },
   "outputs": [],
   "source": [
    "model.save('my_model')"
   ]
  },
  {
   "cell_type": "code",
   "execution_count": 83,
   "metadata": {
    "collapsed": false
   },
   "outputs": [],
   "source": [
    "model = gl.load_model('my_model')"
   ]
  },
  {
   "cell_type": "code",
   "execution_count": 84,
   "metadata": {
    "collapsed": false
   },
   "outputs": [
    {
     "data": {
      "text/plain": [
       "<bound method ItemSimilarityRecommender.get of Class                            : ItemSimilarityRecommender\n",
       "\n",
       "Schema\n",
       "------\n",
       "User ID                          : UserID\n",
       "Item ID                          : ISBN\n",
       "Target                           : None\n",
       "Additional observation features  : 0\n",
       "User side features               : []\n",
       "Item side features               : []\n",
       "\n",
       "Statistics\n",
       "----------\n",
       "Number of observations           : 20557\n",
       "Number of users                  : 8709\n",
       "Number of items                  : 826\n",
       "\n",
       "Training summary\n",
       "----------------\n",
       "Training time                    : 1.0461\n",
       "\n",
       "Model Parameters\n",
       "----------------\n",
       "Model class                      : ItemSimilarityRecommender\n",
       "threshold                        : 0.001\n",
       "similarity_type                  : jaccard\n",
       "training_method                  : auto\n",
       "\n",
       "Other Settings\n",
       "--------------\n",
       "degree_approximation_threshold   : 4096\n",
       "sparse_density_estimation_sample_size : 4096\n",
       "max_data_passes                  : 4096\n",
       "target_memory_usage              : 8589934592\n",
       "seed_item_set_size               : 50\n",
       "nearest_neighbors_interaction_proportion_threshold : 0.05\n",
       "max_item_neighborhood_size       : 64\n",
       ">"
      ]
     },
     "execution_count": 84,
     "metadata": {},
     "output_type": "execute_result"
    }
   ],
   "source": [
    "model.get"
   ]
  },
  {
   "cell_type": "markdown",
   "metadata": {},
   "source": [
    "## Visualization"
   ]
  },
  {
   "cell_type": "code",
   "execution_count": 85,
   "metadata": {
    "collapsed": false
   },
   "outputs": [
    {
     "data": {
      "text/plain": [
       "graphlab.data_structures.sframe.SFrame"
      ]
     },
     "execution_count": 85,
     "metadata": {},
     "output_type": "execute_result"
    }
   ],
   "source": [
    "type(items)"
   ]
  },
  {
   "cell_type": "code",
   "execution_count": 86,
   "metadata": {
    "collapsed": false
   },
   "outputs": [
    {
     "data": {
      "text/plain": [
       "graphlab.data_structures.sframe.SFrame"
      ]
     },
     "execution_count": 86,
     "metadata": {},
     "output_type": "execute_result"
    }
   ],
   "source": [
    "validation_data.head()\n",
    "type(validation_data)"
   ]
  },
  {
   "cell_type": "code",
   "execution_count": 104,
   "metadata": {
    "collapsed": false
   },
   "outputs": [
    {
     "data": {
      "text/html": [
       "<div style=\"max-height:1000px;max-width:1500px;overflow:auto;\"><table frame=\"box\" rules=\"cols\">\n",
       "    <tr>\n",
       "        <th style=\"padding-left: 1em; padding-right: 1em; text-align: center\">BookRating</th>\n",
       "        <th style=\"padding-left: 1em; padding-right: 1em; text-align: center\">ISBN</th>\n",
       "        <th style=\"padding-left: 1em; padding-right: 1em; text-align: center\">authors</th>\n",
       "        <th style=\"padding-left: 1em; padding-right: 1em; text-align: center\">categories</th>\n",
       "        <th style=\"padding-left: 1em; padding-right: 1em; text-align: center\">imageThumbnail</th>\n",
       "        <th style=\"padding-left: 1em; padding-right: 1em; text-align: center\">pageCount</th>\n",
       "    </tr>\n",
       "    <tr>\n",
       "        <td style=\"padding-left: 1em; padding-right: 1em; text-align: center; vertical-align: top\">0</td>\n",
       "        <td style=\"padding-left: 1em; padding-right: 1em; text-align: center; vertical-align: top\">0345348109</td>\n",
       "        <td style=\"padding-left: 1em; padding-right: 1em; text-align: center; vertical-align: top\">Michael Shaara</td>\n",
       "        <td style=\"padding-left: 1em; padding-right: 1em; text-align: center; vertical-align: top\">Fiction</td>\n",
       "        <td style=\"padding-left: 1em; padding-right: 1em; text-align: center; vertical-align: top\">http://books.google.com/b<br>ooks/content?id=rmyZj ...</td>\n",
       "        <td style=\"padding-left: 1em; padding-right: 1em; text-align: center; vertical-align: top\">355</td>\n",
       "    </tr>\n",
       "    <tr>\n",
       "        <td style=\"padding-left: 1em; padding-right: 1em; text-align: center; vertical-align: top\">8</td>\n",
       "        <td style=\"padding-left: 1em; padding-right: 1em; text-align: center; vertical-align: top\">089480829X</td>\n",
       "        <td style=\"padding-left: 1em; padding-right: 1em; text-align: center; vertical-align: top\">Arlene Eisenberg, Heidi<br>Eisenberg Murkoff, Sa ...</td>\n",
       "        <td style=\"padding-left: 1em; padding-right: 1em; text-align: center; vertical-align: top\">Family &amp; Relationships,<br>Health &amp; Fitness ...</td>\n",
       "        <td style=\"padding-left: 1em; padding-right: 1em; text-align: center; vertical-align: top\">http://books.google.com/b<br>ooks/content?id=rJhFd ...</td>\n",
       "        <td style=\"padding-left: 1em; padding-right: 1em; text-align: center; vertical-align: top\">454</td>\n",
       "    </tr>\n",
       "    <tr>\n",
       "        <td style=\"padding-left: 1em; padding-right: 1em; text-align: center; vertical-align: top\">9</td>\n",
       "        <td style=\"padding-left: 1em; padding-right: 1em; text-align: center; vertical-align: top\">0743224574</td>\n",
       "        <td style=\"padding-left: 1em; padding-right: 1em; text-align: center; vertical-align: top\">Sylvia Nasar</td>\n",
       "        <td style=\"padding-left: 1em; padding-right: 1em; text-align: center; vertical-align: top\">Biography &amp; Autobiography</td>\n",
       "        <td style=\"padding-left: 1em; padding-right: 1em; text-align: center; vertical-align: top\">http://books.google.com/b<br>ooks/content?id=NDcwL ...</td>\n",
       "        <td style=\"padding-left: 1em; padding-right: 1em; text-align: center; vertical-align: top\">461</td>\n",
       "    </tr>\n",
       "    <tr>\n",
       "        <td style=\"padding-left: 1em; padding-right: 1em; text-align: center; vertical-align: top\">7</td>\n",
       "        <td style=\"padding-left: 1em; padding-right: 1em; text-align: center; vertical-align: top\">0446604402</td>\n",
       "        <td style=\"padding-left: 1em; padding-right: 1em; text-align: center; vertical-align: top\">Scott Turow</td>\n",
       "        <td style=\"padding-left: 1em; padding-right: 1em; text-align: center; vertical-align: top\">Fiction</td>\n",
       "        <td style=\"padding-left: 1em; padding-right: 1em; text-align: center; vertical-align: top\">http://books.google.com/b<br>ooks/content?id=pojCB ...</td>\n",
       "        <td style=\"padding-left: 1em; padding-right: 1em; text-align: center; vertical-align: top\">832</td>\n",
       "    </tr>\n",
       "    <tr>\n",
       "        <td style=\"padding-left: 1em; padding-right: 1em; text-align: center; vertical-align: top\">9</td>\n",
       "        <td style=\"padding-left: 1em; padding-right: 1em; text-align: center; vertical-align: top\">0425143325</td>\n",
       "        <td style=\"padding-left: 1em; padding-right: 1em; text-align: center; vertical-align: top\">Tom Clancy</td>\n",
       "        <td style=\"padding-left: 1em; padding-right: 1em; text-align: center; vertical-align: top\">Fiction</td>\n",
       "        <td style=\"padding-left: 1em; padding-right: 1em; text-align: center; vertical-align: top\">http://books.google.com/b<br>ooks/content?id=Ag64j ...</td>\n",
       "        <td style=\"padding-left: 1em; padding-right: 1em; text-align: center; vertical-align: top\">750</td>\n",
       "    </tr>\n",
       "    <tr>\n",
       "        <td style=\"padding-left: 1em; padding-right: 1em; text-align: center; vertical-align: top\">9</td>\n",
       "        <td style=\"padding-left: 1em; padding-right: 1em; text-align: center; vertical-align: top\">000649840X</td>\n",
       "        <td style=\"padding-left: 1em; padding-right: 1em; text-align: center; vertical-align: top\">Frank McCourt</td>\n",
       "        <td style=\"padding-left: 1em; padding-right: 1em; text-align: center; vertical-align: top\">English fiction</td>\n",
       "        <td style=\"padding-left: 1em; padding-right: 1em; text-align: center; vertical-align: top\">http://books.google.com/b<br>ooks/content?id=P_17n ...</td>\n",
       "        <td style=\"padding-left: 1em; padding-right: 1em; text-align: center; vertical-align: top\">426</td>\n",
       "    </tr>\n",
       "    <tr>\n",
       "        <td style=\"padding-left: 1em; padding-right: 1em; text-align: center; vertical-align: top\">8</td>\n",
       "        <td style=\"padding-left: 1em; padding-right: 1em; text-align: center; vertical-align: top\">0345348109</td>\n",
       "        <td style=\"padding-left: 1em; padding-right: 1em; text-align: center; vertical-align: top\">Michael Shaara</td>\n",
       "        <td style=\"padding-left: 1em; padding-right: 1em; text-align: center; vertical-align: top\">Fiction</td>\n",
       "        <td style=\"padding-left: 1em; padding-right: 1em; text-align: center; vertical-align: top\">http://books.google.com/b<br>ooks/content?id=rmyZj ...</td>\n",
       "        <td style=\"padding-left: 1em; padding-right: 1em; text-align: center; vertical-align: top\">355</td>\n",
       "    </tr>\n",
       "    <tr>\n",
       "        <td style=\"padding-left: 1em; padding-right: 1em; text-align: center; vertical-align: top\">7</td>\n",
       "        <td style=\"padding-left: 1em; padding-right: 1em; text-align: center; vertical-align: top\">0671024094</td>\n",
       "        <td style=\"padding-left: 1em; padding-right: 1em; text-align: center; vertical-align: top\">Jeffery Deaver</td>\n",
       "        <td style=\"padding-left: 1em; padding-right: 1em; text-align: center; vertical-align: top\"></td>\n",
       "        <td style=\"padding-left: 1em; padding-right: 1em; text-align: center; vertical-align: top\">http://books.google.com/b<br>ooks/content?id=zEkvO ...</td>\n",
       "        <td style=\"padding-left: 1em; padding-right: 1em; text-align: center; vertical-align: top\">560</td>\n",
       "    </tr>\n",
       "    <tr>\n",
       "        <td style=\"padding-left: 1em; padding-right: 1em; text-align: center; vertical-align: top\">10</td>\n",
       "        <td style=\"padding-left: 1em; padding-right: 1em; text-align: center; vertical-align: top\">0345413350</td>\n",
       "        <td style=\"padding-left: 1em; padding-right: 1em; text-align: center; vertical-align: top\">Philip Pullman, Philip<br>Pullman ...</td>\n",
       "        <td style=\"padding-left: 1em; padding-right: 1em; text-align: center; vertical-align: top\">Juvenile Fiction,<br>Juvenile Fiction ...</td>\n",
       "        <td style=\"padding-left: 1em; padding-right: 1em; text-align: center; vertical-align: top\">http://books.google.com/b<br>ooks/content?id=cvbXm ...</td>\n",
       "        <td style=\"padding-left: 1em; padding-right: 1em; text-align: center; vertical-align: top\">351</td>\n",
       "    </tr>\n",
       "    <tr>\n",
       "        <td style=\"padding-left: 1em; padding-right: 1em; text-align: center; vertical-align: top\">9</td>\n",
       "        <td style=\"padding-left: 1em; padding-right: 1em; text-align: center; vertical-align: top\">1857029402</td>\n",
       "        <td style=\"padding-left: 1em; padding-right: 1em; text-align: center; vertical-align: top\">Annie Proulx</td>\n",
       "        <td style=\"padding-left: 1em; padding-right: 1em; text-align: center; vertical-align: top\">American literature</td>\n",
       "        <td style=\"padding-left: 1em; padding-right: 1em; text-align: center; vertical-align: top\">http://books.google.com/b<br>ooks/content?id=v0QgA ...</td>\n",
       "        <td style=\"padding-left: 1em; padding-right: 1em; text-align: center; vertical-align: top\">58</td>\n",
       "    </tr>\n",
       "</table>\n",
       "<table frame=\"box\" rules=\"cols\">\n",
       "    <tr>\n",
       "        <th style=\"padding-left: 1em; padding-right: 1em; text-align: center\">publishedDate</th>\n",
       "        <th style=\"padding-left: 1em; padding-right: 1em; text-align: center\">publisher</th>\n",
       "        <th style=\"padding-left: 1em; padding-right: 1em; text-align: center\">textSnippet</th>\n",
       "        <th style=\"padding-left: 1em; padding-right: 1em; text-align: center\">title</th>\n",
       "    </tr>\n",
       "    <tr>\n",
       "        <td style=\"padding-left: 1em; padding-right: 1em; text-align: center; vertical-align: top\">1975</td>\n",
       "        <td style=\"padding-left: 1em; padding-right: 1em; text-align: center; vertical-align: top\">Random House Digital,<br>Inc. ...</td>\n",
       "        <td style=\"padding-left: 1em; padding-right: 1em; text-align: center; vertical-align: top\">Portraits of Lee,<br>Longstreet, and other ...</td>\n",
       "        <td style=\"padding-left: 1em; padding-right: 1em; text-align: center; vertical-align: top\">The Killer Angels</td>\n",
       "    </tr>\n",
       "    <tr>\n",
       "        <td style=\"padding-left: 1em; padding-right: 1em; text-align: center; vertical-align: top\">1991</td>\n",
       "        <td style=\"padding-left: 1em; padding-right: 1em; text-align: center; vertical-align: top\">Workman Publishing</td>\n",
       "        <td style=\"padding-left: 1em; padding-right: 1em; text-align: center; vertical-align: top\">Includes information<br>about prenatal diagno ...</td>\n",
       "        <td style=\"padding-left: 1em; padding-right: 1em; text-align: center; vertical-align: top\">What to Expect when<br>You're Expecting ...</td>\n",
       "    </tr>\n",
       "    <tr>\n",
       "        <td style=\"padding-left: 1em; padding-right: 1em; text-align: center; vertical-align: top\">2001-12-04</td>\n",
       "        <td style=\"padding-left: 1em; padding-right: 1em; text-align: center; vertical-align: top\">Simon and Schuster</td>\n",
       "        <td style=\"padding-left: 1em; padding-right: 1em; text-align: center; vertical-align: top\">Relates how mathematical<br>genius John Forbes Nash, ...</td>\n",
       "        <td style=\"padding-left: 1em; padding-right: 1em; text-align: center; vertical-align: top\">A Beautiful Mind</td>\n",
       "    </tr>\n",
       "    <tr>\n",
       "        <td style=\"padding-left: 1em; padding-right: 1em; text-align: center; vertical-align: top\">1997-09-01</td>\n",
       "        <td style=\"padding-left: 1em; padding-right: 1em; text-align: center; vertical-align: top\">Grand Central Publishing</td>\n",
       "        <td style=\"padding-left: 1em; padding-right: 1em; text-align: center; vertical-align: top\">In Kindle County, a woman<br>is killed in an apparent ...</td>\n",
       "        <td style=\"padding-left: 1em; padding-right: 1em; text-align: center; vertical-align: top\">The Laws of Our Fathers</td>\n",
       "    </tr>\n",
       "    <tr>\n",
       "        <td style=\"padding-left: 1em; padding-right: 1em; text-align: center; vertical-align: top\">1993</td>\n",
       "        <td style=\"padding-left: 1em; padding-right: 1em; text-align: center; vertical-align: top\">Berkley Books</td>\n",
       "        <td style=\"padding-left: 1em; padding-right: 1em; text-align: center; vertical-align: top\">Without Remorse, however,<br>goes beyond anything he ...</td>\n",
       "        <td style=\"padding-left: 1em; padding-right: 1em; text-align: center; vertical-align: top\">Without Remorse</td>\n",
       "    </tr>\n",
       "    <tr>\n",
       "        <td style=\"padding-left: 1em; padding-right: 1em; text-align: center; vertical-align: top\">1997</td>\n",
       "        <td style=\"padding-left: 1em; padding-right: 1em; text-align: center; vertical-align: top\">HarperPerennial</td>\n",
       "        <td style=\"padding-left: 1em; padding-right: 1em; text-align: center; vertical-align: top\">Frank McCourt returned to<br>America when he was ...</td>\n",
       "        <td style=\"padding-left: 1em; padding-right: 1em; text-align: center; vertical-align: top\">Angela's Ashes</td>\n",
       "    </tr>\n",
       "    <tr>\n",
       "        <td style=\"padding-left: 1em; padding-right: 1em; text-align: center; vertical-align: top\">1975</td>\n",
       "        <td style=\"padding-left: 1em; padding-right: 1em; text-align: center; vertical-align: top\">Random House Digital,<br>Inc. ...</td>\n",
       "        <td style=\"padding-left: 1em; padding-right: 1em; text-align: center; vertical-align: top\">Portraits of Lee,<br>Longstreet, and other ...</td>\n",
       "        <td style=\"padding-left: 1em; padding-right: 1em; text-align: center; vertical-align: top\">The Killer Angels</td>\n",
       "    </tr>\n",
       "    <tr>\n",
       "        <td style=\"padding-left: 1em; padding-right: 1em; text-align: center; vertical-align: top\">1999-03-01</td>\n",
       "        <td style=\"padding-left: 1em; padding-right: 1em; text-align: center; vertical-align: top\">Pocket</td>\n",
       "        <td style=\"padding-left: 1em; padding-right: 1em; text-align: center; vertical-align: top\">New York Police<br>Department criminalist ...</td>\n",
       "        <td style=\"padding-left: 1em; padding-right: 1em; text-align: center; vertical-align: top\">The Coffin Dancer</td>\n",
       "    </tr>\n",
       "    <tr>\n",
       "        <td style=\"padding-left: 1em; padding-right: 1em; text-align: center; vertical-align: top\">1997</td>\n",
       "        <td style=\"padding-left: 1em; padding-right: 1em; text-align: center; vertical-align: top\">Del Rey Books</td>\n",
       "        <td style=\"padding-left: 1em; padding-right: 1em; text-align: center; vertical-align: top\"></td>\n",
       "        <td style=\"padding-left: 1em; padding-right: 1em; text-align: center; vertical-align: top\">The Golden Compass</td>\n",
       "    </tr>\n",
       "    <tr>\n",
       "        <td style=\"padding-left: 1em; padding-right: 1em; text-align: center; vertical-align: top\">1998</td>\n",
       "        <td style=\"padding-left: 1em; padding-right: 1em; text-align: center; vertical-align: top\">4th Estate, Limited</td>\n",
       "        <td style=\"padding-left: 1em; padding-right: 1em; text-align: center; vertical-align: top\">Short fiction by the<br>author of Shipping news. ...</td>\n",
       "        <td style=\"padding-left: 1em; padding-right: 1em; text-align: center; vertical-align: top\">Brokeback Mountain</td>\n",
       "    </tr>\n",
       "</table>\n",
       "[5614 rows x 10 columns]<br/>Note: Only the head of the SFrame is printed.<br/>You can use print_rows(num_rows=m, num_columns=n) to print more rows and columns.\n",
       "</div>"
      ],
      "text/plain": [
       "Columns:\n",
       "\tBookRating\tint\n",
       "\tISBN\tstr\n",
       "\tauthors\tstr\n",
       "\tcategories\tstr\n",
       "\timageThumbnail\tstr\n",
       "\tpageCount\tint\n",
       "\tpublishedDate\tstr\n",
       "\tpublisher\tstr\n",
       "\ttextSnippet\tstr\n",
       "\ttitle\tstr\n",
       "\n",
       "Rows: 5614\n",
       "\n",
       "Data:\n",
       "+------------+------------+--------------------------------+\n",
       "| BookRating |    ISBN    |            authors             |\n",
       "+------------+------------+--------------------------------+\n",
       "|     0      | 0345348109 |         Michael Shaara         |\n",
       "|     8      | 089480829X | Arlene Eisenberg, Heidi Ei...  |\n",
       "|     9      | 0743224574 |          Sylvia Nasar          |\n",
       "|     7      | 0446604402 |          Scott Turow           |\n",
       "|     9      | 0425143325 |           Tom Clancy           |\n",
       "|     9      | 000649840X |         Frank McCourt          |\n",
       "|     8      | 0345348109 |         Michael Shaara         |\n",
       "|     7      | 0671024094 |         Jeffery Deaver         |\n",
       "|     10     | 0345413350 | Philip Pullman, Philip Pullman |\n",
       "|     9      | 1857029402 |          Annie Proulx          |\n",
       "+------------+------------+--------------------------------+\n",
       "+-------------------------------+-------------------------------+-----------+\n",
       "|           categories          |         imageThumbnail        | pageCount |\n",
       "+-------------------------------+-------------------------------+-----------+\n",
       "|            Fiction            | http://books.google.com/bo... |    355    |\n",
       "| Family & Relationships, He... | http://books.google.com/bo... |    454    |\n",
       "|   Biography & Autobiography   | http://books.google.com/bo... |    461    |\n",
       "|            Fiction            | http://books.google.com/bo... |    832    |\n",
       "|            Fiction            | http://books.google.com/bo... |    750    |\n",
       "|        English fiction        | http://books.google.com/bo... |    426    |\n",
       "|            Fiction            | http://books.google.com/bo... |    355    |\n",
       "|                               | http://books.google.com/bo... |    560    |\n",
       "| Juvenile Fiction, Juvenile... | http://books.google.com/bo... |    351    |\n",
       "|      American literature      | http://books.google.com/bo... |     58    |\n",
       "+-------------------------------+-------------------------------+-----------+\n",
       "+---------------+----------------------------+-------------------------------+\n",
       "| publishedDate |         publisher          |          textSnippet          |\n",
       "+---------------+----------------------------+-------------------------------+\n",
       "|      1975     | Random House Digital, Inc. | Portraits of Lee, Longstre... |\n",
       "|      1991     |     Workman Publishing     | Includes information about... |\n",
       "|   2001-12-04  |     Simon and Schuster     | Relates how mathematical g... |\n",
       "|   1997-09-01  |  Grand Central Publishing  | In Kindle County, a woman ... |\n",
       "|      1993     |       Berkley Books        | Without Remorse, however, ... |\n",
       "|      1997     |      HarperPerennial       | Frank McCourt returned to ... |\n",
       "|      1975     | Random House Digital, Inc. | Portraits of Lee, Longstre... |\n",
       "|   1999-03-01  |           Pocket           | New York Police Department... |\n",
       "|      1997     |       Del Rey Books        |                               |\n",
       "|      1998     |    4th Estate, Limited     | Short fiction by the autho... |\n",
       "+---------------+----------------------------+-------------------------------+\n",
       "+-------------------------------+\n",
       "|             title             |\n",
       "+-------------------------------+\n",
       "|       The Killer Angels       |\n",
       "| What to Expect when You're... |\n",
       "|        A Beautiful Mind       |\n",
       "|    The Laws of Our Fathers    |\n",
       "|        Without Remorse        |\n",
       "|         Angela's Ashes        |\n",
       "|       The Killer Angels       |\n",
       "|       The Coffin Dancer       |\n",
       "|       The Golden Compass      |\n",
       "|       Brokeback Mountain      |\n",
       "+-------------------------------+\n",
       "[5614 rows x 10 columns]\n",
       "Note: Only the head of the SFrame is printed.\n",
       "You can use print_rows(num_rows=m, num_columns=n) to print more rows and columns."
      ]
     },
     "execution_count": 104,
     "metadata": {},
     "output_type": "execute_result"
    }
   ],
   "source": [
    "user_data\n",
    "items.unique()"
   ]
  },
  {
   "cell_type": "code",
   "execution_count": 111,
   "metadata": {
    "collapsed": false
   },
   "outputs": [
    {
     "data": {
      "text/plain": [
       "<bound method SFrame.unique of Columns:\n",
       "\tUserID\tint\n",
       "\n",
       "Rows: 8836\n",
       "\n",
       "Data:\n",
       "+--------+\n",
       "| UserID |\n",
       "+--------+\n",
       "| 262565 |\n",
       "| 241146 |\n",
       "| 184486 |\n",
       "| 162626 |\n",
       "| 193084 |\n",
       "| 180799 |\n",
       "| 256889 |\n",
       "| 250981 |\n",
       "| 261460 |\n",
       "| 235599 |\n",
       "+--------+\n",
       "[8836 rows x 1 columns]\n",
       "Note: Only the head of the SFrame is printed.\n",
       "You can use print_rows(num_rows=m, num_columns=n) to print more rows and columns.>"
      ]
     },
     "execution_count": 111,
     "metadata": {},
     "output_type": "execute_result"
    }
   ],
   "source": [
    "#grap user data from validation data set\n",
    "#user_data = gl.SFrame(validation_data['UserID'])\n",
    "user_data = gl.SFrame(dfRating['UserID'])\n",
    "user_data.rename({'X1':'UserID'})\n",
    "user_data = user_data.unique()\n",
    "user_data.head()\n",
    "user_data.unique\n"
   ]
  },
  {
   "cell_type": "code",
   "execution_count": 90,
   "metadata": {
    "collapsed": false
   },
   "outputs": [
    {
     "data": {
      "text/plain": [
       "dtype: int\n",
       "Rows: 493\n",
       "[276754, 277517, 277533, 277915, 278162, 278582, 278582, 388, 638, 638, 638, 638, 638, 638, 643, 882, 882, 1008, 1652, 2179, 2179, 3917, 3917, 161173, 161299, 161662, 161870, 161882, 161937, 161995, 162030, 162052, 162052, 162052, 162519, 162562, 162590, 162590, 162626, 162671, 162671, 162671, 162738, 162738, 162738, 162738, 162827, 162827, 163169, 163326, 163326, 163485, 163570, 163570, 163570, 163570, 163600, 163804, 163804, 163804, 164270, 164549, 164557, 164956, 167689, 167746, 167759, 167811, 168275, 168383, 169341, 169400, 169496, 169735, 169735, 169885, 170256, 170634, 172030, 172030, 172168, 172742, 172742, 172742, 172742, 173486, 173679, 173679, 174914, 174914, 174914, 175739, 176054, 176459, 177090, 177091, 177091, 178056, 178079, 179327, ... ]"
      ]
     },
     "execution_count": 90,
     "metadata": {},
     "output_type": "execute_result"
    }
   ],
   "source": [
    "user_data['UserID']"
   ]
  },
  {
   "cell_type": "code",
   "execution_count": 91,
   "metadata": {
    "collapsed": false
   },
   "outputs": [
    {
     "name": "stdout",
     "output_type": "stream",
     "text": [
      "['0684867621', '0452282152', '0452268060', '0452269571', '059035342X', '0312983298', '0312990456', '006101351X', '0316693006', '0316776963', '0316789089', '0385504209', '0446523569', '0670892963', '0552137030', '0515135062', '0679781587', '0312195516', '0385504209', '0385504209', '0451524934', '0156007754', '0688156819', '0553573403', '0515135062', '0515136530', '0440234743', '034540288X', '0316776963', '0767900383', '044023722X', '006101351X', '0375725784', '0553271636', '0743437640', '0440213525', '0064407667', '0312291639', '0345337662', '0385730586', '0671027344', '0689817851', '0345339711', '0345445848', '0375703764', '0385504209', '0385497466', '0515136379', '0446605239', '0312201656', '0440226430', '0440235596', '0451163524', '0451172817', '067102423X', '0743457358', '0446365386', '0142001740', '0316666343', '0452282195', '0515132020', '0385504209', '0671510053', '0786868716', '044021145X', '0446608815', '0394820371', '055356451X', '0380002930', '0553582135', '0671026011', '0451183665', '0385504209', '0060987103', '0385498802', '0679735771', '0316789089', '1558744150', '0425155404', '0451167317', '0385484518', '0345313860', '0380002930', '0385479565', '0440940001', '0449203794', '0060929871', '0684833395', '0061097314', '0375703055', '0375703861', '044023722X', '0345313860', '0061097314', '0449221482', '0060502258', '0671041789', '0385335482', '0312265859', '0140186476', ... ]\n"
     ]
    },
    {
     "data": {
      "text/plain": [
       "dtype: str\n",
       "Rows: 55655\n",
       "['000649840X', '000649840X', '000649840X', '000649840X', '000649840X', '000649840X', '000649840X', '000649840X', '000649840X', '000649840X', '000649840X', '000649840X', '000649840X', '000649840X', '000649840X', '000649840X', '000649840X', '000649840X', '000649840X', '000649840X', '000649840X', '000649840X', '000649840X', '000649840X', '000649840X', '000649840X', '000649840X', '000649840X', '000649840X', '000649840X', '000649840X', '000649840X', '000649840X', '000649840X', '000649840X', '0020418604', '0020418604', '002542730X', '002542730X', '002542730X', '002542730X', '002542730X', '002542730X', '002542730X', '002542730X', '002542730X', '002542730X', '002542730X', '002542730X', '002542730X', '002542730X', '002542730X', '002542730X', '002542730X', '002542730X', '002542730X', '002542730X', '002542730X', '002542730X', '002542730X', '002542730X', '002542730X', '002542730X', '002542730X', '002542730X', '002542730X', '002542730X', '002542730X', '002542730X', '002542730X', '002542730X', '002542730X', '002542730X', '002542730X', '002542730X', '002542730X', '002542730X', '002542730X', '002542730X', '002542730X', '002542730X', '002542730X', '002542730X', '002542730X', '002542730X', '002542730X', '002542730X', '002542730X', '002542730X', '002542730X', '002542730X', '002542730X', '002542730X', '002542730X', '002542730X', '002542730X', '002542730X', '002542730X', '002542730X', '002542730X', ... ]"
      ]
     },
     "execution_count": 91,
     "metadata": {},
     "output_type": "execute_result"
    }
   ],
   "source": [
    "print validation_data['ISBN']\n",
    "items['ISBN']"
   ]
  },
  {
   "cell_type": "code",
   "execution_count": 92,
   "metadata": {
    "collapsed": false
   },
   "outputs": [
    {
     "data": {
      "text/plain": [
       "<bound method SFrame.column_names of Columns:\n",
       "\tUserID\tint\n",
       "\tISBN\tstr\n",
       "\tBookRating\tint\n",
       "\ttitle\tstr\n",
       "\tauthors\tstr\n",
       "\tpublishedDate\tstr\n",
       "\tpublisher\tstr\n",
       "\tcategories\tstr\n",
       "\tpageCount\tint\n",
       "\timageThumbnail\tstr\n",
       "\ttextSnippet\tstr\n",
       "\n",
       "Rows: 55655\n",
       "\n",
       "Data:\n",
       "+--------+------------+------------+----------------+---------------+---------------+\n",
       "| UserID |    ISBN    | BookRating |     title      |    authors    | publishedDate |\n",
       "+--------+------------+------------+----------------+---------------+---------------+\n",
       "|  901   | 000649840X |     9      | Angela's Ashes | Frank McCourt |      1997     |\n",
       "| 164096 | 000649840X |     7      | Angela's Ashes | Frank McCourt |      1997     |\n",
       "| 168646 | 000649840X |     9      | Angela's Ashes | Frank McCourt |      1997     |\n",
       "| 168816 | 000649840X |     0      | Angela's Ashes | Frank McCourt |      1997     |\n",
       "| 170227 | 000649840X |     0      | Angela's Ashes | Frank McCourt |      1997     |\n",
       "| 173018 | 000649840X |     0      | Angela's Ashes | Frank McCourt |      1997     |\n",
       "| 174092 | 000649840X |     0      | Angela's Ashes | Frank McCourt |      1997     |\n",
       "| 174334 | 000649840X |     0      | Angela's Ashes | Frank McCourt |      1997     |\n",
       "| 176638 | 000649840X |     8      | Angela's Ashes | Frank McCourt |      1997     |\n",
       "| 179826 | 000649840X |     0      | Angela's Ashes | Frank McCourt |      1997     |\n",
       "+--------+------------+------------+----------------+---------------+---------------+\n",
       "+-----------------+-----------------+-----------+-------------------------------+\n",
       "|    publisher    |    categories   | pageCount |         imageThumbnail        |\n",
       "+-----------------+-----------------+-----------+-------------------------------+\n",
       "| HarperPerennial | English fiction |    426    | http://books.google.com/bo... |\n",
       "| HarperPerennial | English fiction |    426    | http://books.google.com/bo... |\n",
       "| HarperPerennial | English fiction |    426    | http://books.google.com/bo... |\n",
       "| HarperPerennial | English fiction |    426    | http://books.google.com/bo... |\n",
       "| HarperPerennial | English fiction |    426    | http://books.google.com/bo... |\n",
       "| HarperPerennial | English fiction |    426    | http://books.google.com/bo... |\n",
       "| HarperPerennial | English fiction |    426    | http://books.google.com/bo... |\n",
       "| HarperPerennial | English fiction |    426    | http://books.google.com/bo... |\n",
       "| HarperPerennial | English fiction |    426    | http://books.google.com/bo... |\n",
       "| HarperPerennial | English fiction |    426    | http://books.google.com/bo... |\n",
       "+-----------------+-----------------+-----------+-------------------------------+\n",
       "+-------------------------------+\n",
       "|          textSnippet          |\n",
       "+-------------------------------+\n",
       "| Frank McCourt returned to ... |\n",
       "| Frank McCourt returned to ... |\n",
       "| Frank McCourt returned to ... |\n",
       "| Frank McCourt returned to ... |\n",
       "| Frank McCourt returned to ... |\n",
       "| Frank McCourt returned to ... |\n",
       "| Frank McCourt returned to ... |\n",
       "| Frank McCourt returned to ... |\n",
       "| Frank McCourt returned to ... |\n",
       "| Frank McCourt returned to ... |\n",
       "+-------------------------------+\n",
       "[55655 rows x 11 columns]\n",
       "Note: Only the head of the SFrame is printed.\n",
       "You can use print_rows(num_rows=m, num_columns=n) to print more rows and columns.>"
      ]
     },
     "execution_count": 92,
     "metadata": {},
     "output_type": "execute_result"
    }
   ],
   "source": [
    "items.column_names"
   ]
  },
  {
   "cell_type": "code",
   "execution_count": 112,
   "metadata": {
    "collapsed": false
   },
   "outputs": [
    {
     "data": {
      "text/html": [
       "<pre>Warning: The model was fit with 2 feature columns but only 1 were present during transform(). Proceeding with transform by ignoring the missing columns.</pre>"
      ],
      "text/plain": [
       "Warning: The model was fit with 2 feature columns but only 1 were present during transform(). Proceeding with transform by ignoring the missing columns."
      ]
     },
     "metadata": {},
     "output_type": "display_data"
    },
    {
     "data": {
      "text/html": [
       "<pre>Warning: The model was fit with 2 feature columns but only 1 were present during transform(). Proceeding with transform by ignoring the missing columns.</pre>"
      ],
      "text/plain": [
       "Warning: The model was fit with 2 feature columns but only 1 were present during transform(). Proceeding with transform by ignoring the missing columns."
      ]
     },
     "metadata": {},
     "output_type": "display_data"
    }
   ],
   "source": [
    "view = model.views.overview(validation_set = validation_data,\n",
    "                           user_data = user_data,\n",
    "                           user_name_column = 'UserID',\n",
    "                           item_data = items,\n",
    "                           item_name_column = 'title',\n",
    "                           item_url_column = 'imageThumbnail')\n",
    "view.show()"
   ]
  },
  {
   "cell_type": "code",
   "execution_count": null,
   "metadata": {
    "collapsed": false
   },
   "outputs": [],
   "source": [
    "type(user_data)"
   ]
  },
  {
   "cell_type": "markdown",
   "metadata": {},
   "source": [
    "## Build a predictive model"
   ]
  },
  {
   "cell_type": "code",
   "execution_count": 124,
   "metadata": {
    "collapsed": false
   },
   "outputs": [
    {
     "data": {
      "text/html": [
       "<pre>Recsys training: model = ranking_factorization_recommender</pre>"
      ],
      "text/plain": [
       "Recsys training: model = ranking_factorization_recommender"
      ]
     },
     "metadata": {},
     "output_type": "display_data"
    },
    {
     "data": {
      "text/html": [
       "<pre>Preparing data set.</pre>"
      ],
      "text/plain": [
       "Preparing data set."
      ]
     },
     "metadata": {},
     "output_type": "display_data"
    },
    {
     "data": {
      "text/html": [
       "<pre>    Data has 20557 observations with 8709 users and 826 items.</pre>"
      ],
      "text/plain": [
       "    Data has 20557 observations with 8709 users and 826 items."
      ]
     },
     "metadata": {},
     "output_type": "display_data"
    },
    {
     "data": {
      "text/html": [
       "<pre>    Data prepared in: 0.069258s</pre>"
      ],
      "text/plain": [
       "    Data prepared in: 0.069258s"
      ]
     },
     "metadata": {},
     "output_type": "display_data"
    },
    {
     "data": {
      "text/html": [
       "<pre>Training ranking_factorization_recommender for recommendations.</pre>"
      ],
      "text/plain": [
       "Training ranking_factorization_recommender for recommendations."
      ]
     },
     "metadata": {},
     "output_type": "display_data"
    },
    {
     "data": {
      "text/html": [
       "<pre>+--------------------------------+--------------------------------------------------+----------+</pre>"
      ],
      "text/plain": [
       "+--------------------------------+--------------------------------------------------+----------+"
      ]
     },
     "metadata": {},
     "output_type": "display_data"
    },
    {
     "data": {
      "text/html": [
       "<pre>| Parameter                      | Description                                      | Value    |</pre>"
      ],
      "text/plain": [
       "| Parameter                      | Description                                      | Value    |"
      ]
     },
     "metadata": {},
     "output_type": "display_data"
    },
    {
     "data": {
      "text/html": [
       "<pre>+--------------------------------+--------------------------------------------------+----------+</pre>"
      ],
      "text/plain": [
       "+--------------------------------+--------------------------------------------------+----------+"
      ]
     },
     "metadata": {},
     "output_type": "display_data"
    },
    {
     "data": {
      "text/html": [
       "<pre>| num_factors                    | Factor Dimension                                 | 32       |</pre>"
      ],
      "text/plain": [
       "| num_factors                    | Factor Dimension                                 | 32       |"
      ]
     },
     "metadata": {},
     "output_type": "display_data"
    },
    {
     "data": {
      "text/html": [
       "<pre>| regularization                 | L2 Regularization on Factors                     | 1e-09    |</pre>"
      ],
      "text/plain": [
       "| regularization                 | L2 Regularization on Factors                     | 1e-09    |"
      ]
     },
     "metadata": {},
     "output_type": "display_data"
    },
    {
     "data": {
      "text/html": [
       "<pre>| solver                         | Solver used for training                         | sgd      |</pre>"
      ],
      "text/plain": [
       "| solver                         | Solver used for training                         | sgd      |"
      ]
     },
     "metadata": {},
     "output_type": "display_data"
    },
    {
     "data": {
      "text/html": [
       "<pre>| linear_regularization          | L2 Regularization on Linear Coefficients         | 1e-09    |</pre>"
      ],
      "text/plain": [
       "| linear_regularization          | L2 Regularization on Linear Coefficients         | 1e-09    |"
      ]
     },
     "metadata": {},
     "output_type": "display_data"
    },
    {
     "data": {
      "text/html": [
       "<pre>| ranking_regularization         | Rank-based Regularization Weight                 | 0.25     |</pre>"
      ],
      "text/plain": [
       "| ranking_regularization         | Rank-based Regularization Weight                 | 0.25     |"
      ]
     },
     "metadata": {},
     "output_type": "display_data"
    },
    {
     "data": {
      "text/html": [
       "<pre>| max_iterations                 | Maximum Number of Iterations                     | 25       |</pre>"
      ],
      "text/plain": [
       "| max_iterations                 | Maximum Number of Iterations                     | 25       |"
      ]
     },
     "metadata": {},
     "output_type": "display_data"
    },
    {
     "data": {
      "text/html": [
       "<pre>+--------------------------------+--------------------------------------------------+----------+</pre>"
      ],
      "text/plain": [
       "+--------------------------------+--------------------------------------------------+----------+"
      ]
     },
     "metadata": {},
     "output_type": "display_data"
    },
    {
     "data": {
      "text/html": [
       "<pre>  Optimizing model using SGD; tuning step size.</pre>"
      ],
      "text/plain": [
       "  Optimizing model using SGD; tuning step size."
      ]
     },
     "metadata": {},
     "output_type": "display_data"
    },
    {
     "data": {
      "text/html": [
       "<pre>  Using 10000 / 20557 points for tuning the step size.</pre>"
      ],
      "text/plain": [
       "  Using 10000 / 20557 points for tuning the step size."
      ]
     },
     "metadata": {},
     "output_type": "display_data"
    },
    {
     "data": {
      "text/html": [
       "<pre>+---------+-------------------+------------------------------------------+</pre>"
      ],
      "text/plain": [
       "+---------+-------------------+------------------------------------------+"
      ]
     },
     "metadata": {},
     "output_type": "display_data"
    },
    {
     "data": {
      "text/html": [
       "<pre>| Attempt | Initial Step Size | Estimated Objective Value                |</pre>"
      ],
      "text/plain": [
       "| Attempt | Initial Step Size | Estimated Objective Value                |"
      ]
     },
     "metadata": {},
     "output_type": "display_data"
    },
    {
     "data": {
      "text/html": [
       "<pre>+---------+-------------------+------------------------------------------+</pre>"
      ],
      "text/plain": [
       "+---------+-------------------+------------------------------------------+"
      ]
     },
     "metadata": {},
     "output_type": "display_data"
    },
    {
     "data": {
      "text/html": [
       "<pre>| 0       | 25                | Not Viable                               |</pre>"
      ],
      "text/plain": [
       "| 0       | 25                | Not Viable                               |"
      ]
     },
     "metadata": {},
     "output_type": "display_data"
    },
    {
     "data": {
      "text/html": [
       "<pre>| 1       | 6.25              | Not Viable                               |</pre>"
      ],
      "text/plain": [
       "| 1       | 6.25              | Not Viable                               |"
      ]
     },
     "metadata": {},
     "output_type": "display_data"
    },
    {
     "data": {
      "text/html": [
       "<pre>| 2       | 1.5625            | Not Viable                               |</pre>"
      ],
      "text/plain": [
       "| 2       | 1.5625            | Not Viable                               |"
      ]
     },
     "metadata": {},
     "output_type": "display_data"
    },
    {
     "data": {
      "text/html": [
       "<pre>| 3       | 0.390625          | Not Viable                               |</pre>"
      ],
      "text/plain": [
       "| 3       | 0.390625          | Not Viable                               |"
      ]
     },
     "metadata": {},
     "output_type": "display_data"
    },
    {
     "data": {
      "text/html": [
       "<pre>| 4       | 0.0976562         | 4.29819                                  |</pre>"
      ],
      "text/plain": [
       "| 4       | 0.0976562         | 4.29819                                  |"
      ]
     },
     "metadata": {},
     "output_type": "display_data"
    },
    {
     "data": {
      "text/html": [
       "<pre>| 5       | 0.0488281         | 4.5747                                   |</pre>"
      ],
      "text/plain": [
       "| 5       | 0.0488281         | 4.5747                                   |"
      ]
     },
     "metadata": {},
     "output_type": "display_data"
    },
    {
     "data": {
      "text/html": [
       "<pre>| 6       | 0.0244141         | 4.90017                                  |</pre>"
      ],
      "text/plain": [
       "| 6       | 0.0244141         | 4.90017                                  |"
      ]
     },
     "metadata": {},
     "output_type": "display_data"
    },
    {
     "data": {
      "text/html": [
       "<pre>| 7       | 0.012207          | 5.22728                                  |</pre>"
      ],
      "text/plain": [
       "| 7       | 0.012207          | 5.22728                                  |"
      ]
     },
     "metadata": {},
     "output_type": "display_data"
    },
    {
     "data": {
      "text/html": [
       "<pre>+---------+-------------------+------------------------------------------+</pre>"
      ],
      "text/plain": [
       "+---------+-------------------+------------------------------------------+"
      ]
     },
     "metadata": {},
     "output_type": "display_data"
    },
    {
     "data": {
      "text/html": [
       "<pre>| Final   | 0.0976562         | 4.29819                                  |</pre>"
      ],
      "text/plain": [
       "| Final   | 0.0976562         | 4.29819                                  |"
      ]
     },
     "metadata": {},
     "output_type": "display_data"
    },
    {
     "data": {
      "text/html": [
       "<pre>+---------+-------------------+------------------------------------------+</pre>"
      ],
      "text/plain": [
       "+---------+-------------------+------------------------------------------+"
      ]
     },
     "metadata": {},
     "output_type": "display_data"
    },
    {
     "data": {
      "text/html": [
       "<pre>Starting Optimization.</pre>"
      ],
      "text/plain": [
       "Starting Optimization."
      ]
     },
     "metadata": {},
     "output_type": "display_data"
    },
    {
     "data": {
      "text/html": [
       "<pre>+---------+--------------+-------------------+-----------------------+-------------+</pre>"
      ],
      "text/plain": [
       "+---------+--------------+-------------------+-----------------------+-------------+"
      ]
     },
     "metadata": {},
     "output_type": "display_data"
    },
    {
     "data": {
      "text/html": [
       "<pre>| Iter.   | Elapsed Time | Approx. Objective | Approx. Training RMSE | Step Size   |</pre>"
      ],
      "text/plain": [
       "| Iter.   | Elapsed Time | Approx. Objective | Approx. Training RMSE | Step Size   |"
      ]
     },
     "metadata": {},
     "output_type": "display_data"
    },
    {
     "data": {
      "text/html": [
       "<pre>+---------+--------------+-------------------+-----------------------+-------------+</pre>"
      ],
      "text/plain": [
       "+---------+--------------+-------------------+-----------------------+-------------+"
      ]
     },
     "metadata": {},
     "output_type": "display_data"
    },
    {
     "data": {
      "text/html": [
       "<pre>| Initial | 391us        | 6.43915           | 1.81225               |             |</pre>"
      ],
      "text/plain": [
       "| Initial | 391us        | 6.43915           | 1.81225               |             |"
      ]
     },
     "metadata": {},
     "output_type": "display_data"
    },
    {
     "data": {
      "text/html": [
       "<pre>+---------+--------------+-------------------+-----------------------+-------------+</pre>"
      ],
      "text/plain": [
       "+---------+--------------+-------------------+-----------------------+-------------+"
      ]
     },
     "metadata": {},
     "output_type": "display_data"
    },
    {
     "data": {
      "text/html": [
       "<pre>| 1       | 128.956ms    | 6.17375           | 1.85066               | 0.0976562   |</pre>"
      ],
      "text/plain": [
       "| 1       | 128.956ms    | 6.17375           | 1.85066               | 0.0976562   |"
      ]
     },
     "metadata": {},
     "output_type": "display_data"
    },
    {
     "data": {
      "text/html": [
       "<pre>| 2       | 225.602ms    | 5.29447           | 1.69103               | 0.0580668   |</pre>"
      ],
      "text/plain": [
       "| 2       | 225.602ms    | 5.29447           | 1.69103               | 0.0580668   |"
      ]
     },
     "metadata": {},
     "output_type": "display_data"
    },
    {
     "data": {
      "text/html": [
       "<pre>| 3       | 347.854ms    | 4.96469           | 1.5999                | 0.042841    |</pre>"
      ],
      "text/plain": [
       "| 3       | 347.854ms    | 4.96469           | 1.5999                | 0.042841    |"
      ]
     },
     "metadata": {},
     "output_type": "display_data"
    },
    {
     "data": {
      "text/html": [
       "<pre>| 4       | 444.685ms    | 4.81056           | 1.55964               | 0.0345267   |</pre>"
      ],
      "text/plain": [
       "| 4       | 444.685ms    | 4.81056           | 1.55964               | 0.0345267   |"
      ]
     },
     "metadata": {},
     "output_type": "display_data"
    },
    {
     "data": {
      "text/html": [
       "<pre>| 5       | 538.025ms    | 4.68388           | 1.52694               | 0.029206    |</pre>"
      ],
      "text/plain": [
       "| 5       | 538.025ms    | 4.68388           | 1.52694               | 0.029206    |"
      ]
     },
     "metadata": {},
     "output_type": "display_data"
    },
    {
     "data": {
      "text/html": [
       "<pre>| 6       | 619.465ms    | 4.54963           | 1.49102               | 0.0254734   |</pre>"
      ],
      "text/plain": [
       "| 6       | 619.465ms    | 4.54963           | 1.49102               | 0.0254734   |"
      ]
     },
     "metadata": {},
     "output_type": "display_data"
    },
    {
     "data": {
      "text/html": [
       "<pre>| 10      | 894.815ms    | 3.88915           | 1.2893                | 0.017366    |</pre>"
      ],
      "text/plain": [
       "| 10      | 894.815ms    | 3.88915           | 1.2893                | 0.017366    |"
      ]
     },
     "metadata": {},
     "output_type": "display_data"
    },
    {
     "data": {
      "text/html": [
       "<pre>| 11      | 974.54ms     | 3.70441           | 1.22532               | 0.016168    |</pre>"
      ],
      "text/plain": [
       "| 11      | 974.54ms     | 3.70441           | 1.22532               | 0.016168    |"
      ]
     },
     "metadata": {},
     "output_type": "display_data"
    },
    {
     "data": {
      "text/html": [
       "<pre>| 20      | 1.91s        | 2.47364           | 0.811077              | 0.0103259   |</pre>"
      ],
      "text/plain": [
       "| 20      | 1.91s        | 2.47364           | 0.811077              | 0.0103259   |"
      ]
     },
     "metadata": {},
     "output_type": "display_data"
    },
    {
     "data": {
      "text/html": [
       "<pre>+---------+--------------+-------------------+-----------------------+-------------+</pre>"
      ],
      "text/plain": [
       "+---------+--------------+-------------------+-----------------------+-------------+"
      ]
     },
     "metadata": {},
     "output_type": "display_data"
    },
    {
     "data": {
      "text/html": [
       "<pre>Optimization Complete: Maximum number of passes through the data reached.</pre>"
      ],
      "text/plain": [
       "Optimization Complete: Maximum number of passes through the data reached."
      ]
     },
     "metadata": {},
     "output_type": "display_data"
    },
    {
     "data": {
      "text/html": [
       "<pre>Computing final objective value and training RMSE.</pre>"
      ],
      "text/plain": [
       "Computing final objective value and training RMSE."
      ]
     },
     "metadata": {},
     "output_type": "display_data"
    },
    {
     "data": {
      "text/html": [
       "<pre>       Final objective value: 1.96212</pre>"
      ],
      "text/plain": [
       "       Final objective value: 1.96212"
      ]
     },
     "metadata": {},
     "output_type": "display_data"
    },
    {
     "data": {
      "text/html": [
       "<pre>       Final training RMSE: 0.626594</pre>"
      ],
      "text/plain": [
       "       Final training RMSE: 0.626594"
      ]
     },
     "metadata": {},
     "output_type": "display_data"
    }
   ],
   "source": [
    "#build a model that predicts using ratings\n",
    "\n",
    "training_data_2, validation_data_2 = gl.recommender.util.random_split_by_user(actions, 'UserID', 'ISBN')\n",
    "model_predict_rating = gl.recommender.create(training_data_2, 'UserID', 'ISBN', target= 'BookRating')"
   ]
  },
  {
   "cell_type": "code",
   "execution_count": 125,
   "metadata": {
    "collapsed": false
   },
   "outputs": [
    {
     "data": {
      "text/html": [
       "<pre>recommendations finished on 1000/8709 queries. users per second: 87581</pre>"
      ],
      "text/plain": [
       "recommendations finished on 1000/8709 queries. users per second: 87581"
      ]
     },
     "metadata": {},
     "output_type": "display_data"
    },
    {
     "data": {
      "text/html": [
       "<pre>recommendations finished on 2000/8709 queries. users per second: 100644</pre>"
      ],
      "text/plain": [
       "recommendations finished on 2000/8709 queries. users per second: 100644"
      ]
     },
     "metadata": {},
     "output_type": "display_data"
    },
    {
     "data": {
      "text/html": [
       "<pre>recommendations finished on 3000/8709 queries. users per second: 105141</pre>"
      ],
      "text/plain": [
       "recommendations finished on 3000/8709 queries. users per second: 105141"
      ]
     },
     "metadata": {},
     "output_type": "display_data"
    },
    {
     "data": {
      "text/html": [
       "<pre>recommendations finished on 4000/8709 queries. users per second: 105907</pre>"
      ],
      "text/plain": [
       "recommendations finished on 4000/8709 queries. users per second: 105907"
      ]
     },
     "metadata": {},
     "output_type": "display_data"
    },
    {
     "data": {
      "text/html": [
       "<pre>recommendations finished on 5000/8709 queries. users per second: 107717</pre>"
      ],
      "text/plain": [
       "recommendations finished on 5000/8709 queries. users per second: 107717"
      ]
     },
     "metadata": {},
     "output_type": "display_data"
    },
    {
     "data": {
      "text/html": [
       "<pre>recommendations finished on 6000/8709 queries. users per second: 104513</pre>"
      ],
      "text/plain": [
       "recommendations finished on 6000/8709 queries. users per second: 104513"
      ]
     },
     "metadata": {},
     "output_type": "display_data"
    },
    {
     "data": {
      "text/html": [
       "<pre>recommendations finished on 7000/8709 queries. users per second: 101184</pre>"
      ],
      "text/plain": [
       "recommendations finished on 7000/8709 queries. users per second: 101184"
      ]
     },
     "metadata": {},
     "output_type": "display_data"
    },
    {
     "data": {
      "text/html": [
       "<pre>recommendations finished on 8000/8709 queries. users per second: 98259.6</pre>"
      ],
      "text/plain": [
       "recommendations finished on 8000/8709 queries. users per second: 98259.6"
      ]
     },
     "metadata": {},
     "output_type": "display_data"
    }
   ],
   "source": [
    "results_predict_rating = model_predict_rating.recommend()"
   ]
  },
  {
   "cell_type": "code",
   "execution_count": 141,
   "metadata": {
    "collapsed": true
   },
   "outputs": [],
   "source": [
    "model_predict_rating.save('my_model_predict_rating')"
   ]
  },
  {
   "cell_type": "code",
   "execution_count": 142,
   "metadata": {
    "collapsed": true
   },
   "outputs": [],
   "source": [
    "similar_items_predict_rating = model_predict_rating.get_similar_items(my_list_of_items[:10], k=20)\n",
    "\n"
   ]
  },
  {
   "cell_type": "code",
   "execution_count": 143,
   "metadata": {
    "collapsed": false
   },
   "outputs": [
    {
     "name": "stdout",
     "output_type": "stream",
     "text": [
      "+------------+------------+-----------------+------+\n",
      "|    ISBN    |  similar   |      score      | rank |\n",
      "+------------+------------+-----------------+------+\n",
      "| 0971880107 | 0385504209 | 0.0223214030266 |  1   |\n",
      "| 0971880107 | 0446605239 | 0.0181818008423 |  2   |\n",
      "| 0971880107 | 0316666343 | 0.0165441036224 |  3   |\n",
      "| 0971880107 | 0345342968 | 0.0158730149269 |  4   |\n",
      "| 0971880107 | 0375702709 | 0.0140845179558 |  5   |\n",
      "| 0971880107 | 0316601950 | 0.0134048461914 |  6   |\n",
      "| 0971880107 | 0142001740 | 0.0133333206177 |  7   |\n",
      "| 0971880107 | 0439139600 | 0.0132012963295 |  8   |\n",
      "| 0971880107 | 0425192733 |  0.011194050312 |  9   |\n",
      "| 0971880107 | 0446610542 | 0.0110294222832 |  10  |\n",
      "+------------+------------+-----------------+------+\n",
      "[180 rows x 4 columns]\n",
      "Note: Only the head of the SFrame is printed.\n",
      "You can use print_rows(num_rows=m, num_columns=n) to print more rows and columns.\n"
     ]
    },
    {
     "data": {
      "text/html": [
       "<div style=\"max-height:1000px;max-width:1500px;overflow:auto;\"><table frame=\"box\" rules=\"cols\">\n",
       "    <tr>\n",
       "        <th style=\"padding-left: 1em; padding-right: 1em; text-align: center\">ISBN</th>\n",
       "        <th style=\"padding-left: 1em; padding-right: 1em; text-align: center\">similar</th>\n",
       "        <th style=\"padding-left: 1em; padding-right: 1em; text-align: center\">score</th>\n",
       "        <th style=\"padding-left: 1em; padding-right: 1em; text-align: center\">rank</th>\n",
       "    </tr>\n",
       "    <tr>\n",
       "        <td style=\"padding-left: 1em; padding-right: 1em; text-align: center; vertical-align: top\">0971880107</td>\n",
       "        <td style=\"padding-left: 1em; padding-right: 1em; text-align: center; vertical-align: top\">0452267455</td>\n",
       "        <td style=\"padding-left: 1em; padding-right: 1em; text-align: center; vertical-align: top\">0.730154633522</td>\n",
       "        <td style=\"padding-left: 1em; padding-right: 1em; text-align: center; vertical-align: top\">1</td>\n",
       "    </tr>\n",
       "    <tr>\n",
       "        <td style=\"padding-left: 1em; padding-right: 1em; text-align: center; vertical-align: top\">0971880107</td>\n",
       "        <td style=\"padding-left: 1em; padding-right: 1em; text-align: center; vertical-align: top\">042517736X</td>\n",
       "        <td style=\"padding-left: 1em; padding-right: 1em; text-align: center; vertical-align: top\">0.673560261726</td>\n",
       "        <td style=\"padding-left: 1em; padding-right: 1em; text-align: center; vertical-align: top\">2</td>\n",
       "    </tr>\n",
       "    <tr>\n",
       "        <td style=\"padding-left: 1em; padding-right: 1em; text-align: center; vertical-align: top\">0971880107</td>\n",
       "        <td style=\"padding-left: 1em; padding-right: 1em; text-align: center; vertical-align: top\">0688156819</td>\n",
       "        <td style=\"padding-left: 1em; padding-right: 1em; text-align: center; vertical-align: top\">0.670377969742</td>\n",
       "        <td style=\"padding-left: 1em; padding-right: 1em; text-align: center; vertical-align: top\">3</td>\n",
       "    </tr>\n",
       "    <tr>\n",
       "        <td style=\"padding-left: 1em; padding-right: 1em; text-align: center; vertical-align: top\">0971880107</td>\n",
       "        <td style=\"padding-left: 1em; padding-right: 1em; text-align: center; vertical-align: top\">1573221937</td>\n",
       "        <td style=\"padding-left: 1em; padding-right: 1em; text-align: center; vertical-align: top\">0.663085877895</td>\n",
       "        <td style=\"padding-left: 1em; padding-right: 1em; text-align: center; vertical-align: top\">4</td>\n",
       "    </tr>\n",
       "    <tr>\n",
       "        <td style=\"padding-left: 1em; padding-right: 1em; text-align: center; vertical-align: top\">0971880107</td>\n",
       "        <td style=\"padding-left: 1em; padding-right: 1em; text-align: center; vertical-align: top\">0316089699</td>\n",
       "        <td style=\"padding-left: 1em; padding-right: 1em; text-align: center; vertical-align: top\">0.657558619976</td>\n",
       "        <td style=\"padding-left: 1em; padding-right: 1em; text-align: center; vertical-align: top\">5</td>\n",
       "    </tr>\n",
       "    <tr>\n",
       "        <td style=\"padding-left: 1em; padding-right: 1em; text-align: center; vertical-align: top\">0971880107</td>\n",
       "        <td style=\"padding-left: 1em; padding-right: 1em; text-align: center; vertical-align: top\">0451526503</td>\n",
       "        <td style=\"padding-left: 1em; padding-right: 1em; text-align: center; vertical-align: top\">0.647027730942</td>\n",
       "        <td style=\"padding-left: 1em; padding-right: 1em; text-align: center; vertical-align: top\">6</td>\n",
       "    </tr>\n",
       "    <tr>\n",
       "        <td style=\"padding-left: 1em; padding-right: 1em; text-align: center; vertical-align: top\">0971880107</td>\n",
       "        <td style=\"padding-left: 1em; padding-right: 1em; text-align: center; vertical-align: top\">0425146413</td>\n",
       "        <td style=\"padding-left: 1em; padding-right: 1em; text-align: center; vertical-align: top\">0.635923624039</td>\n",
       "        <td style=\"padding-left: 1em; padding-right: 1em; text-align: center; vertical-align: top\">7</td>\n",
       "    </tr>\n",
       "    <tr>\n",
       "        <td style=\"padding-left: 1em; padding-right: 1em; text-align: center; vertical-align: top\">0971880107</td>\n",
       "        <td style=\"padding-left: 1em; padding-right: 1em; text-align: center; vertical-align: top\">0671004565</td>\n",
       "        <td style=\"padding-left: 1em; padding-right: 1em; text-align: center; vertical-align: top\">0.61257737875</td>\n",
       "        <td style=\"padding-left: 1em; padding-right: 1em; text-align: center; vertical-align: top\">8</td>\n",
       "    </tr>\n",
       "    <tr>\n",
       "        <td style=\"padding-left: 1em; padding-right: 1em; text-align: center; vertical-align: top\">0971880107</td>\n",
       "        <td style=\"padding-left: 1em; padding-right: 1em; text-align: center; vertical-align: top\">0553569031</td>\n",
       "        <td style=\"padding-left: 1em; padding-right: 1em; text-align: center; vertical-align: top\">0.599737167358</td>\n",
       "        <td style=\"padding-left: 1em; padding-right: 1em; text-align: center; vertical-align: top\">9</td>\n",
       "    </tr>\n",
       "    <tr>\n",
       "        <td style=\"padding-left: 1em; padding-right: 1em; text-align: center; vertical-align: top\">0971880107</td>\n",
       "        <td style=\"padding-left: 1em; padding-right: 1em; text-align: center; vertical-align: top\">0452272726</td>\n",
       "        <td style=\"padding-left: 1em; padding-right: 1em; text-align: center; vertical-align: top\">0.5822250247</td>\n",
       "        <td style=\"padding-left: 1em; padding-right: 1em; text-align: center; vertical-align: top\">10</td>\n",
       "    </tr>\n",
       "</table>\n",
       "[180 rows x 4 columns]<br/>Note: Only the head of the SFrame is printed.<br/>You can use print_rows(num_rows=m, num_columns=n) to print more rows and columns.\n",
       "</div>"
      ],
      "text/plain": [
       "Columns:\n",
       "\tISBN\tstr\n",
       "\tsimilar\tstr\n",
       "\tscore\tfloat\n",
       "\trank\tint\n",
       "\n",
       "Rows: 180\n",
       "\n",
       "Data:\n",
       "+------------+------------+----------------+------+\n",
       "|    ISBN    |  similar   |     score      | rank |\n",
       "+------------+------------+----------------+------+\n",
       "| 0971880107 | 0452267455 | 0.730154633522 |  1   |\n",
       "| 0971880107 | 042517736X | 0.673560261726 |  2   |\n",
       "| 0971880107 | 0688156819 | 0.670377969742 |  3   |\n",
       "| 0971880107 | 1573221937 | 0.663085877895 |  4   |\n",
       "| 0971880107 | 0316089699 | 0.657558619976 |  5   |\n",
       "| 0971880107 | 0451526503 | 0.647027730942 |  6   |\n",
       "| 0971880107 | 0425146413 | 0.635923624039 |  7   |\n",
       "| 0971880107 | 0671004565 | 0.61257737875  |  8   |\n",
       "| 0971880107 | 0553569031 | 0.599737167358 |  9   |\n",
       "| 0971880107 | 0452272726 |  0.5822250247  |  10  |\n",
       "+------------+------------+----------------+------+\n",
       "[180 rows x 4 columns]\n",
       "Note: Only the head of the SFrame is printed.\n",
       "You can use print_rows(num_rows=m, num_columns=n) to print more rows and columns."
      ]
     },
     "execution_count": 143,
     "metadata": {},
     "output_type": "execute_result"
    }
   ],
   "source": [
    "print similar_items\n",
    "similar_items_predict_rating"
   ]
  },
  {
   "cell_type": "code",
   "execution_count": 136,
   "metadata": {
    "collapsed": false
   },
   "outputs": [
    {
     "data": {
      "text/html": [
       "<div style=\"max-height:1000px;max-width:1500px;overflow:auto;\"><table frame=\"box\" rules=\"cols\">\n",
       "    <tr>\n",
       "        <th style=\"padding-left: 1em; padding-right: 1em; text-align: center\">ISBN</th>\n",
       "        <th style=\"padding-left: 1em; padding-right: 1em; text-align: center\">authors</th>\n",
       "        <th style=\"padding-left: 1em; padding-right: 1em; text-align: center\">categories</th>\n",
       "        <th style=\"padding-left: 1em; padding-right: 1em; text-align: center\">imageThumbnail</th>\n",
       "        <th style=\"padding-left: 1em; padding-right: 1em; text-align: center\">pageCount</th>\n",
       "        <th style=\"padding-left: 1em; padding-right: 1em; text-align: center\">publishedDate</th>\n",
       "        <th style=\"padding-left: 1em; padding-right: 1em; text-align: center\">publisher</th>\n",
       "    </tr>\n",
       "    <tr>\n",
       "        <td style=\"padding-left: 1em; padding-right: 1em; text-align: center; vertical-align: top\">0971880107</td>\n",
       "        <td style=\"padding-left: 1em; padding-right: 1em; text-align: center; vertical-align: top\">Rich Shapero</td>\n",
       "        <td style=\"padding-left: 1em; padding-right: 1em; text-align: center; vertical-align: top\">Fiction</td>\n",
       "        <td style=\"padding-left: 1em; padding-right: 1em; text-align: center; vertical-align: top\">http://books.google.com/b<br>ooks/content?id=cbGr5 ...</td>\n",
       "        <td style=\"padding-left: 1em; padding-right: 1em; text-align: center; vertical-align: top\">315</td>\n",
       "        <td style=\"padding-left: 1em; padding-right: 1em; text-align: center; vertical-align: top\">2004</td>\n",
       "        <td style=\"padding-left: 1em; padding-right: 1em; text-align: center; vertical-align: top\">Too Far Pub</td>\n",
       "    </tr>\n",
       "</table>\n",
       "<table frame=\"box\" rules=\"cols\">\n",
       "    <tr>\n",
       "        <th style=\"padding-left: 1em; padding-right: 1em; text-align: center\">textSnippet</th>\n",
       "        <th style=\"padding-left: 1em; padding-right: 1em; text-align: center\">title</th>\n",
       "    </tr>\n",
       "    <tr>\n",
       "        <td style=\"padding-left: 1em; padding-right: 1em; text-align: center; vertical-align: top\">Newly graduated from<br>college, Sam Altman is ...</td>\n",
       "        <td style=\"padding-left: 1em; padding-right: 1em; text-align: center; vertical-align: top\">Wild Animus</td>\n",
       "    </tr>\n",
       "</table>\n",
       "[? rows x 9 columns]<br/>Note: Only the head of the SFrame is printed. This SFrame is lazily evaluated.<br/>You can use sf.materialize() to force materialization.\n",
       "</div>"
      ],
      "text/plain": [
       "Columns:\n",
       "\tISBN\tstr\n",
       "\tauthors\tstr\n",
       "\tcategories\tstr\n",
       "\timageThumbnail\tstr\n",
       "\tpageCount\tint\n",
       "\tpublishedDate\tstr\n",
       "\tpublisher\tstr\n",
       "\ttextSnippet\tstr\n",
       "\ttitle\tstr\n",
       "\n",
       "Rows: Unknown\n",
       "\n",
       "Data:\n",
       "+------------+--------------+------------+-------------------------------+-----------+\n",
       "|    ISBN    |   authors    | categories |         imageThumbnail        | pageCount |\n",
       "+------------+--------------+------------+-------------------------------+-----------+\n",
       "| 0971880107 | Rich Shapero |  Fiction   | http://books.google.com/bo... |    315    |\n",
       "+------------+--------------+------------+-------------------------------+-----------+\n",
       "+---------------+-------------+-------------------------------+-------------+\n",
       "| publishedDate |  publisher  |          textSnippet          |    title    |\n",
       "+---------------+-------------+-------------------------------+-------------+\n",
       "|      2004     | Too Far Pub | Newly graduated from colle... | Wild Animus |\n",
       "+---------------+-------------+-------------------------------+-------------+\n",
       "[? rows x 9 columns]\n",
       "Note: Only the head of the SFrame is printed. This SFrame is lazily evaluated.\n",
       "You can use sf.materialize() to force materialization."
      ]
     },
     "execution_count": 136,
     "metadata": {},
     "output_type": "execute_result"
    }
   ],
   "source": [
    "ISBNlookup('0971880107')"
   ]
  },
  {
   "cell_type": "code",
   "execution_count": 145,
   "metadata": {
    "collapsed": false
   },
   "outputs": [
    {
     "data": {
      "text/plain": [
       "graphlab.data_structures.sframe.SFrame"
      ]
     },
     "execution_count": 145,
     "metadata": {},
     "output_type": "execute_result"
    }
   ],
   "source": [
    "type(validation_data_2)"
   ]
  },
  {
   "cell_type": "code",
   "execution_count": 146,
   "metadata": {
    "collapsed": false
   },
   "outputs": [
    {
     "data": {
      "text/html": [
       "<pre>Warning: The model was fit with 2 feature columns but only 1 were present during transform(). Proceeding with transform by ignoring the missing columns.</pre>"
      ],
      "text/plain": [
       "Warning: The model was fit with 2 feature columns but only 1 were present during transform(). Proceeding with transform by ignoring the missing columns."
      ]
     },
     "metadata": {},
     "output_type": "display_data"
    },
    {
     "data": {
      "text/html": [
       "<pre>Warning: The model was fit with 2 feature columns but only 1 were present during transform(). Proceeding with transform by ignoring the missing columns.</pre>"
      ],
      "text/plain": [
       "Warning: The model was fit with 2 feature columns but only 1 were present during transform(). Proceeding with transform by ignoring the missing columns."
      ]
     },
     "metadata": {},
     "output_type": "display_data"
    }
   ],
   "source": [
    "view_predicted_model = model_predict_rating.views.overview(validation_set = validation_data_2,\n",
    "                           user_data = user_data,\n",
    "                           user_name_column = 'UserID',\n",
    "                           item_data = items,\n",
    "                           item_name_column = 'title',\n",
    "                           item_url_column = 'imageThumbnail')\n",
    "view_predicted_model.show()"
   ]
  },
  {
   "cell_type": "code",
   "execution_count": null,
   "metadata": {
    "collapsed": true
   },
   "outputs": [],
   "source": []
  }
 ],
 "metadata": {
  "anaconda-cloud": {},
  "kernelspec": {
   "display_name": "Python 2",
   "language": "python",
   "name": "python2"
  },
  "language_info": {
   "codemirror_mode": {
    "name": "ipython",
    "version": 2
   },
   "file_extension": ".py",
   "mimetype": "text/x-python",
   "name": "python",
   "nbconvert_exporter": "python",
   "pygments_lexer": "ipython2",
   "version": "2.7.11"
  }
 },
 "nbformat": 4,
 "nbformat_minor": 0
}
