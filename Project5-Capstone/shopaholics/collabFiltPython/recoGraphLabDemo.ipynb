{
 "cells": [
  {
   "cell_type": "code",
   "execution_count": 1,
   "metadata": {
    "collapsed": false
   },
   "outputs": [],
   "source": [
    "import graphlab as gl\n",
    "import pandas as pd\n",
    "import numpy as np"
   ]
  },
  {
   "cell_type": "markdown",
   "metadata": {},
   "source": [
    "## Load Ratings Data for both explicit and implicit ratings"
   ]
  },
  {
   "cell_type": "code",
   "execution_count": 2,
   "metadata": {
    "collapsed": false,
    "scrolled": true
   },
   "outputs": [
    {
     "name": "stdout",
     "output_type": "stream",
     "text": [
      "This non-commercial license of GraphLab Create for academic use is assigned to jhonasttan@gmail.com and will expire on December 17, 2017.\n"
     ]
    },
    {
     "name": "stderr",
     "output_type": "stream",
     "text": [
      "[INFO] graphlab.cython.cy_server: GraphLab Create v2.1 started. Logging: /tmp/graphlab_server_1482163817.log\n"
     ]
    },
    {
     "data": {
      "text/html": [
       "<pre>Finished parsing file /Users/jhonasttanregalado/Documents/DataScience/bootcamp7/githubcrush/bootcamp007_project/Project5-Capstone/shopaholics/BX-CSV-Dump/GraphLabBookRatings.csv</pre>"
      ],
      "text/plain": [
       "Finished parsing file /Users/jhonasttanregalado/Documents/DataScience/bootcamp7/githubcrush/bootcamp007_project/Project5-Capstone/shopaholics/BX-CSV-Dump/GraphLabBookRatings.csv"
      ]
     },
     "metadata": {},
     "output_type": "display_data"
    },
    {
     "data": {
      "text/html": [
       "<pre>Parsing completed. Parsed 100 lines in 0.109044 secs.</pre>"
      ],
      "text/plain": [
       "Parsing completed. Parsed 100 lines in 0.109044 secs."
      ]
     },
     "metadata": {},
     "output_type": "display_data"
    },
    {
     "name": "stdout",
     "output_type": "stream",
     "text": [
      "------------------------------------------------------\n",
      "Inferred types from first 100 line(s) of file as \n",
      "column_type_hints=[int,int,str,int]\n",
      "If parsing fails due to incorrect types, you can correct\n",
      "the inferred type list above and pass it to read_csv in\n",
      "the column_type_hints argument\n",
      "------------------------------------------------------\n"
     ]
    },
    {
     "data": {
      "text/html": [
       "<pre>Finished parsing file /Users/jhonasttanregalado/Documents/DataScience/bootcamp7/githubcrush/bootcamp007_project/Project5-Capstone/shopaholics/BX-CSV-Dump/GraphLabBookRatings.csv</pre>"
      ],
      "text/plain": [
       "Finished parsing file /Users/jhonasttanregalado/Documents/DataScience/bootcamp7/githubcrush/bootcamp007_project/Project5-Capstone/shopaholics/BX-CSV-Dump/GraphLabBookRatings.csv"
      ]
     },
     "metadata": {},
     "output_type": "display_data"
    },
    {
     "data": {
      "text/html": [
       "<pre>Parsing completed. Parsed 121887 lines in 0.107725 secs.</pre>"
      ],
      "text/plain": [
       "Parsing completed. Parsed 121887 lines in 0.107725 secs."
      ]
     },
     "metadata": {},
     "output_type": "display_data"
    }
   ],
   "source": [
    "#Read ratings without ZEROS\n",
    "dfRating = gl.SFrame.read_csv(\"../BX-CSV-Dump/GraphLabBookRatings.csv\")"
   ]
  },
  {
   "cell_type": "code",
   "execution_count": 3,
   "metadata": {
    "collapsed": false
   },
   "outputs": [
    {
     "data": {
      "text/html": [
       "<pre>Finished parsing file /Users/jhonasttanregalado/Documents/DataScience/bootcamp7/githubcrush/bootcamp007_project/Project5-Capstone/shopaholics/BX-CSV-Dump/GraphLabBookRatingsWithZeroes.csv</pre>"
      ],
      "text/plain": [
       "Finished parsing file /Users/jhonasttanregalado/Documents/DataScience/bootcamp7/githubcrush/bootcamp007_project/Project5-Capstone/shopaholics/BX-CSV-Dump/GraphLabBookRatingsWithZeroes.csv"
      ]
     },
     "metadata": {},
     "output_type": "display_data"
    },
    {
     "data": {
      "text/html": [
       "<pre>Parsing completed. Parsed 100 lines in 0.034459 secs.</pre>"
      ],
      "text/plain": [
       "Parsing completed. Parsed 100 lines in 0.034459 secs."
      ]
     },
     "metadata": {},
     "output_type": "display_data"
    },
    {
     "name": "stdout",
     "output_type": "stream",
     "text": [
      "------------------------------------------------------\n",
      "Inferred types from first 100 line(s) of file as \n",
      "column_type_hints=[int,int,str,int]\n",
      "If parsing fails due to incorrect types, you can correct\n",
      "the inferred type list above and pass it to read_csv in\n",
      "the column_type_hints argument\n",
      "------------------------------------------------------\n"
     ]
    },
    {
     "data": {
      "text/html": [
       "<pre>Finished parsing file /Users/jhonasttanregalado/Documents/DataScience/bootcamp7/githubcrush/bootcamp007_project/Project5-Capstone/shopaholics/BX-CSV-Dump/GraphLabBookRatingsWithZeroes.csv</pre>"
      ],
      "text/plain": [
       "Finished parsing file /Users/jhonasttanregalado/Documents/DataScience/bootcamp7/githubcrush/bootcamp007_project/Project5-Capstone/shopaholics/BX-CSV-Dump/GraphLabBookRatingsWithZeroes.csv"
      ]
     },
     "metadata": {},
     "output_type": "display_data"
    },
    {
     "data": {
      "text/html": [
       "<pre>Parsing completed. Parsed 30260 lines in 0.036534 secs.</pre>"
      ],
      "text/plain": [
       "Parsing completed. Parsed 30260 lines in 0.036534 secs."
      ]
     },
     "metadata": {},
     "output_type": "display_data"
    }
   ],
   "source": [
    "#Read ratings with ZOROS\n",
    "dfRatingsWithZeroes = gl.SFrame.read_csv(\"../BX-CSV-Dump/GraphLabBookRatingsWithZeroes.csv\")"
   ]
  },
  {
   "cell_type": "code",
   "execution_count": 4,
   "metadata": {
    "collapsed": false
   },
   "outputs": [
    {
     "data": {
      "text/plain": [
       "<bound method SFrame.column_types of Columns:\n",
       "\tUserID\tint\n",
       "\tISBN\tstr\n",
       "\tBookRating\tint\n",
       "\n",
       "Rows: 121887\n",
       "\n",
       "Data:\n",
       "+--------+------------+------------+\n",
       "| UserID |    ISBN    | BookRating |\n",
       "+--------+------------+------------+\n",
       "| 276746 | 0449006522 |     0      |\n",
       "| 276746 | 055356451X |     0      |\n",
       "| 276754 | 0684867621 |     8      |\n",
       "| 276755 | 0451166892 |     5      |\n",
       "| 276762 | 0451167317 |     0      |\n",
       "| 276788 | 043935806X |     7      |\n",
       "| 276804 | 0440498058 |     8      |\n",
       "| 276822 | 0060096195 |     10     |\n",
       "| 276822 | 0786817070 |     10     |\n",
       "| 276830 | 0440225825 |     9      |\n",
       "+--------+------------+------------+\n",
       "[121887 rows x 3 columns]\n",
       "Note: Only the head of the SFrame is printed.\n",
       "You can use print_rows(num_rows=m, num_columns=n) to print more rows and columns.>"
      ]
     },
     "execution_count": 4,
     "metadata": {},
     "output_type": "execute_result"
    }
   ],
   "source": [
    "dfRating.remove_column('X1')\n",
    "dfRating.rename({'Book-Rating': 'BookRating', 'User-ID': 'UserID'})\n",
    "dfRating.column_types"
   ]
  },
  {
   "cell_type": "code",
   "execution_count": 5,
   "metadata": {
    "collapsed": false
   },
   "outputs": [
    {
     "data": {
      "text/html": [
       "<div style=\"max-height:1000px;max-width:1500px;overflow:auto;\"><table frame=\"box\" rules=\"cols\">\n",
       "    <tr>\n",
       "        <th style=\"padding-left: 1em; padding-right: 1em; text-align: center\">UserID</th>\n",
       "        <th style=\"padding-left: 1em; padding-right: 1em; text-align: center\">ISBN</th>\n",
       "        <th style=\"padding-left: 1em; padding-right: 1em; text-align: center\">BookRating</th>\n",
       "    </tr>\n",
       "    <tr>\n",
       "        <td style=\"padding-left: 1em; padding-right: 1em; text-align: center; vertical-align: top\">276746</td>\n",
       "        <td style=\"padding-left: 1em; padding-right: 1em; text-align: center; vertical-align: top\">0449006522</td>\n",
       "        <td style=\"padding-left: 1em; padding-right: 1em; text-align: center; vertical-align: top\">0</td>\n",
       "    </tr>\n",
       "    <tr>\n",
       "        <td style=\"padding-left: 1em; padding-right: 1em; text-align: center; vertical-align: top\">276746</td>\n",
       "        <td style=\"padding-left: 1em; padding-right: 1em; text-align: center; vertical-align: top\">055356451X</td>\n",
       "        <td style=\"padding-left: 1em; padding-right: 1em; text-align: center; vertical-align: top\">0</td>\n",
       "    </tr>\n",
       "    <tr>\n",
       "        <td style=\"padding-left: 1em; padding-right: 1em; text-align: center; vertical-align: top\">276762</td>\n",
       "        <td style=\"padding-left: 1em; padding-right: 1em; text-align: center; vertical-align: top\">0451167317</td>\n",
       "        <td style=\"padding-left: 1em; padding-right: 1em; text-align: center; vertical-align: top\">0</td>\n",
       "    </tr>\n",
       "    <tr>\n",
       "        <td style=\"padding-left: 1em; padding-right: 1em; text-align: center; vertical-align: top\">276847</td>\n",
       "        <td style=\"padding-left: 1em; padding-right: 1em; text-align: center; vertical-align: top\">0446364193</td>\n",
       "        <td style=\"padding-left: 1em; padding-right: 1em; text-align: center; vertical-align: top\">0</td>\n",
       "    </tr>\n",
       "    <tr>\n",
       "        <td style=\"padding-left: 1em; padding-right: 1em; text-align: center; vertical-align: top\">276925</td>\n",
       "        <td style=\"padding-left: 1em; padding-right: 1em; text-align: center; vertical-align: top\">0316666343</td>\n",
       "        <td style=\"padding-left: 1em; padding-right: 1em; text-align: center; vertical-align: top\">0</td>\n",
       "    </tr>\n",
       "    <tr>\n",
       "        <td style=\"padding-left: 1em; padding-right: 1em; text-align: center; vertical-align: top\">276925</td>\n",
       "        <td style=\"padding-left: 1em; padding-right: 1em; text-align: center; vertical-align: top\">0971880107</td>\n",
       "        <td style=\"padding-left: 1em; padding-right: 1em; text-align: center; vertical-align: top\">0</td>\n",
       "    </tr>\n",
       "    <tr>\n",
       "        <td style=\"padding-left: 1em; padding-right: 1em; text-align: center; vertical-align: top\">276929</td>\n",
       "        <td style=\"padding-left: 1em; padding-right: 1em; text-align: center; vertical-align: top\">0060964049</td>\n",
       "        <td style=\"padding-left: 1em; padding-right: 1em; text-align: center; vertical-align: top\">0</td>\n",
       "    </tr>\n",
       "    <tr>\n",
       "        <td style=\"padding-left: 1em; padding-right: 1em; text-align: center; vertical-align: top\">276929</td>\n",
       "        <td style=\"padding-left: 1em; padding-right: 1em; text-align: center; vertical-align: top\">0439064864</td>\n",
       "        <td style=\"padding-left: 1em; padding-right: 1em; text-align: center; vertical-align: top\">0</td>\n",
       "    </tr>\n",
       "    <tr>\n",
       "        <td style=\"padding-left: 1em; padding-right: 1em; text-align: center; vertical-align: top\">276939</td>\n",
       "        <td style=\"padding-left: 1em; padding-right: 1em; text-align: center; vertical-align: top\">059035342X</td>\n",
       "        <td style=\"padding-left: 1em; padding-right: 1em; text-align: center; vertical-align: top\">0</td>\n",
       "    </tr>\n",
       "    <tr>\n",
       "        <td style=\"padding-left: 1em; padding-right: 1em; text-align: center; vertical-align: top\">276939</td>\n",
       "        <td style=\"padding-left: 1em; padding-right: 1em; text-align: center; vertical-align: top\">0971880107</td>\n",
       "        <td style=\"padding-left: 1em; padding-right: 1em; text-align: center; vertical-align: top\">0</td>\n",
       "    </tr>\n",
       "</table>\n",
       "[? rows x 3 columns]<br/>Note: Only the head of the SFrame is printed. This SFrame is lazily evaluated.<br/>You can use sf.materialize() to force materialization.\n",
       "</div>"
      ],
      "text/plain": [
       "Columns:\n",
       "\tUserID\tint\n",
       "\tISBN\tstr\n",
       "\tBookRating\tint\n",
       "\n",
       "Rows: Unknown\n",
       "\n",
       "Data:\n",
       "+--------+------------+------------+\n",
       "| UserID |    ISBN    | BookRating |\n",
       "+--------+------------+------------+\n",
       "| 276746 | 0449006522 |     0      |\n",
       "| 276746 | 055356451X |     0      |\n",
       "| 276762 | 0451167317 |     0      |\n",
       "| 276847 | 0446364193 |     0      |\n",
       "| 276925 | 0316666343 |     0      |\n",
       "| 276925 | 0971880107 |     0      |\n",
       "| 276929 | 0060964049 |     0      |\n",
       "| 276929 | 0439064864 |     0      |\n",
       "| 276939 | 059035342X |     0      |\n",
       "| 276939 | 0971880107 |     0      |\n",
       "+--------+------------+------------+\n",
       "[? rows x 3 columns]\n",
       "Note: Only the head of the SFrame is printed. This SFrame is lazily evaluated.\n",
       "You can use sf.materialize() to force materialization."
      ]
     },
     "execution_count": 5,
     "metadata": {},
     "output_type": "execute_result"
    }
   ],
   "source": [
    "dfRating[dfRating['BookRating'] == 0]"
   ]
  },
  {
   "cell_type": "code",
   "execution_count": 6,
   "metadata": {
    "collapsed": false
   },
   "outputs": [
    {
     "data": {
      "text/plain": [
       "<bound method SFrame.column_types of Columns:\n",
       "\tUserID\tint\n",
       "\tISBN\tstr\n",
       "\tBookRating\tint\n",
       "\n",
       "Rows: 30260\n",
       "\n",
       "Data:\n",
       "+--------+------------+------------+\n",
       "| UserID |    ISBN    | BookRating |\n",
       "+--------+------------+------------+\n",
       "| 276746 | 0449006522 |     0      |\n",
       "| 276746 | 055356451X |     0      |\n",
       "| 276762 | 0451167317 |     0      |\n",
       "| 276847 | 0446364193 |     0      |\n",
       "| 276925 | 0316666343 |     0      |\n",
       "| 276925 | 0971880107 |     0      |\n",
       "| 276929 | 0060964049 |     0      |\n",
       "| 276929 | 0439064864 |     0      |\n",
       "| 276939 | 059035342X |     0      |\n",
       "| 276939 | 0971880107 |     0      |\n",
       "+--------+------------+------------+\n",
       "[30260 rows x 3 columns]\n",
       "Note: Only the head of the SFrame is printed.\n",
       "You can use print_rows(num_rows=m, num_columns=n) to print more rows and columns.>"
      ]
     },
     "execution_count": 6,
     "metadata": {},
     "output_type": "execute_result"
    }
   ],
   "source": [
    "dfRatingsWithZeroes.remove_column('X1')\n",
    "dfRatingsWithZeroes.column_types"
   ]
  },
  {
   "cell_type": "code",
   "execution_count": 9,
   "metadata": {
    "collapsed": false
   },
   "outputs": [
    {
     "data": {
      "text/html": [
       "<div style=\"max-height:1000px;max-width:1500px;overflow:auto;\"><table frame=\"box\" rules=\"cols\">\n",
       "    <tr>\n",
       "        <th style=\"padding-left: 1em; padding-right: 1em; text-align: center\">UserID</th>\n",
       "        <th style=\"padding-left: 1em; padding-right: 1em; text-align: center\">ISBN</th>\n",
       "        <th style=\"padding-left: 1em; padding-right: 1em; text-align: center\">BookRating</th>\n",
       "    </tr>\n",
       "</table>\n",
       "[? rows x 3 columns]<br/>Note: Only the head of the SFrame is printed. This SFrame is lazily evaluated.<br/>You can use sf.materialize() to force materialization.\n",
       "</div>"
      ],
      "text/plain": [
       "Columns:\n",
       "\tUserID\tint\n",
       "\tISBN\tstr\n",
       "\tBookRating\tint\n",
       "\n",
       "Rows: Unknown\n",
       "\n",
       "Data:\n",
       "\t[]"
      ]
     },
     "execution_count": 9,
     "metadata": {},
     "output_type": "execute_result"
    }
   ],
   "source": [
    "dfRatingsWithZeroes[dfRatingsWithZeroes['BookRating'] != 0]"
   ]
  },
  {
   "cell_type": "code",
   "execution_count": 10,
   "metadata": {
    "collapsed": false
   },
   "outputs": [
    {
     "data": {
      "text/html": [
       "<pre>Finished parsing file /Users/jhonasttanregalado/Documents/DataScience/bootcamp7/githubcrush/bootcamp007_project/Project5-Capstone/shopaholics/BX-CSV-Dump/itemsSubsetForGraphLab.csv</pre>"
      ],
      "text/plain": [
       "Finished parsing file /Users/jhonasttanregalado/Documents/DataScience/bootcamp7/githubcrush/bootcamp007_project/Project5-Capstone/shopaholics/BX-CSV-Dump/itemsSubsetForGraphLab.csv"
      ]
     },
     "metadata": {},
     "output_type": "display_data"
    },
    {
     "data": {
      "text/html": [
       "<pre>Parsing completed. Parsed 100 lines in 0.467088 secs.</pre>"
      ],
      "text/plain": [
       "Parsing completed. Parsed 100 lines in 0.467088 secs."
      ]
     },
     "metadata": {},
     "output_type": "display_data"
    },
    {
     "data": {
      "text/html": [
       "<pre>These column type hints were not used: X1</pre>"
      ],
      "text/plain": [
       "These column type hints were not used: X1"
      ]
     },
     "metadata": {},
     "output_type": "display_data"
    },
    {
     "data": {
      "text/html": [
       "<pre>Finished parsing file /Users/jhonasttanregalado/Documents/DataScience/bootcamp7/githubcrush/bootcamp007_project/Project5-Capstone/shopaholics/BX-CSV-Dump/itemsSubsetForGraphLab.csv</pre>"
      ],
      "text/plain": [
       "Finished parsing file /Users/jhonasttanregalado/Documents/DataScience/bootcamp7/githubcrush/bootcamp007_project/Project5-Capstone/shopaholics/BX-CSV-Dump/itemsSubsetForGraphLab.csv"
      ]
     },
     "metadata": {},
     "output_type": "display_data"
    },
    {
     "data": {
      "text/html": [
       "<pre>Parsing completed. Parsed 55655 lines in 0.402067 secs.</pre>"
      ],
      "text/plain": [
       "Parsing completed. Parsed 55655 lines in 0.402067 secs."
      ]
     },
     "metadata": {},
     "output_type": "display_data"
    }
   ],
   "source": [
    "#Save items subset data to local file, for reloading as an SFrame\n",
    "#columnFields = ['UserID','ISBN','BookRating','title','authors','publishedDate',\\\n",
    "#                'publisher','categories','pageCount','imageThumbnail','textSnippet']\n",
    "#items = items[columnFields]\n",
    "#items.info()\n",
    "#items.to_csv(\"../BX-CSV-Dump/itemsSubsetForGraphLab.csv\")\n",
    "\n",
    "items = gl.SFrame.read_csv(\"../BX-CSV-Dump/itemsSubsetForGraphLab.csv\",\\\n",
    "                           column_type_hints={\"ISBN\":str, \"pageCount\":int})\n",
    "\n"
   ]
  },
  {
   "cell_type": "code",
   "execution_count": 11,
   "metadata": {
    "collapsed": false
   },
   "outputs": [
    {
     "data": {
      "text/plain": [
       "<bound method SFrame.column_types of Columns:\n",
       "\tISBN\tstr\n",
       "\tauthors\tstr\n",
       "\tcategories\tstr\n",
       "\timageThumbnail\tstr\n",
       "\tpageCount\tint\n",
       "\tpublishedDate\tstr\n",
       "\tpublisher\tstr\n",
       "\ttextSnippet\tstr\n",
       "\ttitle\tstr\n",
       "\n",
       "Rows: 883\n",
       "\n",
       "Data:\n",
       "+------------+-------------------------------+---------------------------+\n",
       "|    ISBN    |            authors            |         categories        |\n",
       "+------------+-------------------------------+---------------------------+\n",
       "| 051512317X |          Nora Roberts         |          Fiction          |\n",
       "| 0440204194 |          Maeve Binchy         |          Fiction          |\n",
       "| 1573229725 |          Sarah Waters         |          Fiction          |\n",
       "| 0689716958 |       Virginia Hamilton       |      Juvenile Fiction     |\n",
       "| 0449003795 |          Sue Grafton          |          Fiction          |\n",
       "| 0767902521 |          Bill Bryson          |           Travel          |\n",
       "| 044691200X | MAD Magazine, Sergio Aragonés |           Humor           |\n",
       "| 068484267X |         Frank McCourt         | Biography & Autobiography |\n",
       "| 0373484003 |          Nora Roberts         |          Fiction          |\n",
       "| 0515133302 |       Catherine Coulter       |          Fiction          |\n",
       "+------------+-------------------------------+---------------------------+\n",
       "+-------------------------------+-----------+---------------+\n",
       "|         imageThumbnail        | pageCount | publishedDate |\n",
       "+-------------------------------+-----------+---------------+\n",
       "| http://books.google.com/bo... |    339    |      1998     |\n",
       "| http://books.google.com/bo... |    672    |      1989     |\n",
       "| http://books.google.com/bo... |    582    |      2002     |\n",
       "| http://books.google.com/bo... |    128    |   1993-04-30  |\n",
       "| http://books.google.com/bo... |    370    |      2001     |\n",
       "| http://books.google.com/bo... |    276    |      1999     |\n",
       "| http://books.google.com/bo... |     85    |      1997     |\n",
       "| http://books.google.com/bo... |    363    |   1999-05-25  |\n",
       "| http://books.google.com/bo... |    506    |      2000     |\n",
       "| http://books.google.com/bo... |    337    |      2002     |\n",
       "+-------------------------------+-----------+---------------+\n",
       "+----------------------------+-------------------------------+\n",
       "|         publisher          |          textSnippet          |\n",
       "+----------------------------+-------------------------------+\n",
       "|          Penguin           | Ethan Quinn must rise abov... |\n",
       "|  Dell Publishing Company   |             Roman.            |\n",
       "|          Penguin           | Growing up as a foster chi... |\n",
       "|          Aladdin           | When Geeder finally meets ... |\n",
       "| Random House Digital, Inc. | Kinsey Millhone trusts her... |\n",
       "|          Broadway          | Bryson share his experienc... |\n",
       "|        Warner Books        | Presents a collection of q... |\n",
       "|     Simon and Schuster     | The author recounts his ch... |\n",
       "|      Harlequin Books       | And look for Irish Rebel, ... |\n",
       "|          Penguin           | Caught up in a challenging... |\n",
       "+----------------------------+-------------------------------+\n",
       "+--------------------------+\n",
       "|          title           |\n",
       "+--------------------------+\n",
       "|       Rising Tides       |\n",
       "|      Firefly Summer      |\n",
       "|       Fingersmith        |\n",
       "|          Zeely           |\n",
       "| Is for Peril : [romanas] |\n",
       "|   A Walk in the Woods    |\n",
       "|           MAD            |\n",
       "|      Angela's Ashes      |\n",
       "|       Irish Hearts       |\n",
       "|       Hemlock Bay        |\n",
       "+--------------------------+\n",
       "[883 rows x 9 columns]\n",
       "Note: Only the head of the SFrame is printed.\n",
       "You can use print_rows(num_rows=m, num_columns=n) to print more rows and columns.>"
      ]
     },
     "execution_count": 11,
     "metadata": {},
     "output_type": "execute_result"
    }
   ],
   "source": [
    "#prep dataframe for unique items only - original Rows: 55655\n",
    "\n",
    "items.remove_columns(['X1','UserID', 'BookRating'])\n",
    "items = items.unique()\n",
    "items.column_types"
   ]
  },
  {
   "cell_type": "markdown",
   "metadata": {},
   "source": [
    "### Build a Jaccard based model - based on similarity without using rating values"
   ]
  },
  {
   "cell_type": "code",
   "execution_count": 12,
   "metadata": {
    "collapsed": true
   },
   "outputs": [],
   "source": [
    "#variable to be referenced in training model section\n",
    "actions = dfRatingsWithZeroes"
   ]
  },
  {
   "cell_type": "code",
   "execution_count": 13,
   "metadata": {
    "collapsed": false
   },
   "outputs": [
    {
     "data": {
      "text/plain": [
       "<bound method SFrame.column_names of Columns:\n",
       "\tUserID\tint\n",
       "\tISBN\tstr\n",
       "\tBookRating\tint\n",
       "\n",
       "Rows: 30260\n",
       "\n",
       "Data:\n",
       "+--------+------------+------------+\n",
       "| UserID |    ISBN    | BookRating |\n",
       "+--------+------------+------------+\n",
       "| 276746 | 0449006522 |     0      |\n",
       "| 276746 | 055356451X |     0      |\n",
       "| 276762 | 0451167317 |     0      |\n",
       "| 276847 | 0446364193 |     0      |\n",
       "| 276925 | 0316666343 |     0      |\n",
       "| 276925 | 0971880107 |     0      |\n",
       "| 276929 | 0060964049 |     0      |\n",
       "| 276929 | 0439064864 |     0      |\n",
       "| 276939 | 059035342X |     0      |\n",
       "| 276939 | 0971880107 |     0      |\n",
       "+--------+------------+------------+\n",
       "[30260 rows x 3 columns]\n",
       "Note: Only the head of the SFrame is printed.\n",
       "You can use print_rows(num_rows=m, num_columns=n) to print more rows and columns.>"
      ]
     },
     "execution_count": 13,
     "metadata": {},
     "output_type": "execute_result"
    }
   ],
   "source": [
    "actions.column_names"
   ]
  },
  {
   "cell_type": "markdown",
   "metadata": {},
   "source": [
    "### Examples\n",
    "\n",
    "Basic usage\n",
    "\n",
    "Given basic user-item observation data, an ItemSimilarityRecommender is created:\n",
    "\n",
    ">>> sf = graphlab.SFrame({'user_id': ['0', '0', '0', '1', '1', '2', '2', '2'],\n",
    "...                       'item_id': ['a', 'b', 'c', 'a', 'b', 'b', 'c', 'd']})\n",
    ">>> m = graphlab.recommender.create(sf)\n",
    ">>> recs = m.recommend()\n",
    "Creating a model for ratings data\n",
    "\n",
    "This trains a FactorizationRecommender that can predict target ratings:\n",
    "\n",
    ">>> sf2 = graphlab.SFrame({'user_id': ['0', '0', '0', '1', '1', '2', '2', '2'],\n",
    "...                        'item_id': ['a', 'b', 'c', 'a', 'b', 'b', 'c', 'd'],\n",
    "...                        'rating': [1, 3, 2, 5, 4, 1, 4, 3]})\n",
    ">>> m2 = graphlab.recommender.create(sf2, target=\"rating\", ranking = False)\n"
   ]
  },
  {
   "cell_type": "code",
   "execution_count": 14,
   "metadata": {
    "collapsed": false,
    "scrolled": true
   },
   "outputs": [
    {
     "data": {
      "text/html": [
       "<pre>Recsys training: model = item_similarity</pre>"
      ],
      "text/plain": [
       "Recsys training: model = item_similarity"
      ]
     },
     "metadata": {},
     "output_type": "display_data"
    },
    {
     "data": {
      "text/html": [
       "<pre>Warning: Column 'BookRating' ignored.</pre>"
      ],
      "text/plain": [
       "Warning: Column 'BookRating' ignored."
      ]
     },
     "metadata": {},
     "output_type": "display_data"
    },
    {
     "data": {
      "text/html": [
       "<pre>    To use this column as the target, set target = \"BookRating\" and use a method that allows the use of a target.</pre>"
      ],
      "text/plain": [
       "    To use this column as the target, set target = \"BookRating\" and use a method that allows the use of a target."
      ]
     },
     "metadata": {},
     "output_type": "display_data"
    },
    {
     "data": {
      "text/html": [
       "<pre>Preparing data set.</pre>"
      ],
      "text/plain": [
       "Preparing data set."
      ]
     },
     "metadata": {},
     "output_type": "display_data"
    },
    {
     "data": {
      "text/html": [
       "<pre>    Data has 29455 observations with 7143 users and 782 items.</pre>"
      ],
      "text/plain": [
       "    Data has 29455 observations with 7143 users and 782 items."
      ]
     },
     "metadata": {},
     "output_type": "display_data"
    },
    {
     "data": {
      "text/html": [
       "<pre>    Data prepared in: 0.0898s</pre>"
      ],
      "text/plain": [
       "    Data prepared in: 0.0898s"
      ]
     },
     "metadata": {},
     "output_type": "display_data"
    },
    {
     "data": {
      "text/html": [
       "<pre>Training model from provided data.</pre>"
      ],
      "text/plain": [
       "Training model from provided data."
      ]
     },
     "metadata": {},
     "output_type": "display_data"
    },
    {
     "data": {
      "text/html": [
       "<pre>Gathering per-item and per-user statistics.</pre>"
      ],
      "text/plain": [
       "Gathering per-item and per-user statistics."
      ]
     },
     "metadata": {},
     "output_type": "display_data"
    },
    {
     "data": {
      "text/html": [
       "<pre>+--------------------------------+------------+</pre>"
      ],
      "text/plain": [
       "+--------------------------------+------------+"
      ]
     },
     "metadata": {},
     "output_type": "display_data"
    },
    {
     "data": {
      "text/html": [
       "<pre>| Elapsed Time (Item Statistics) | % Complete |</pre>"
      ],
      "text/plain": [
       "| Elapsed Time (Item Statistics) | % Complete |"
      ]
     },
     "metadata": {},
     "output_type": "display_data"
    },
    {
     "data": {
      "text/html": [
       "<pre>+--------------------------------+------------+</pre>"
      ],
      "text/plain": [
       "+--------------------------------+------------+"
      ]
     },
     "metadata": {},
     "output_type": "display_data"
    },
    {
     "data": {
      "text/html": [
       "<pre>| 4.468ms                        | 83.75      |</pre>"
      ],
      "text/plain": [
       "| 4.468ms                        | 83.75      |"
      ]
     },
     "metadata": {},
     "output_type": "display_data"
    },
    {
     "data": {
      "text/html": [
       "<pre>| 6.013ms                        | 100        |</pre>"
      ],
      "text/plain": [
       "| 6.013ms                        | 100        |"
      ]
     },
     "metadata": {},
     "output_type": "display_data"
    },
    {
     "data": {
      "text/html": [
       "<pre>+--------------------------------+------------+</pre>"
      ],
      "text/plain": [
       "+--------------------------------+------------+"
      ]
     },
     "metadata": {},
     "output_type": "display_data"
    },
    {
     "data": {
      "text/html": [
       "<pre>Setting up lookup tables.</pre>"
      ],
      "text/plain": [
       "Setting up lookup tables."
      ]
     },
     "metadata": {},
     "output_type": "display_data"
    },
    {
     "data": {
      "text/html": [
       "<pre>Processing data in one pass using dense lookup tables.</pre>"
      ],
      "text/plain": [
       "Processing data in one pass using dense lookup tables."
      ]
     },
     "metadata": {},
     "output_type": "display_data"
    },
    {
     "data": {
      "text/html": [
       "<pre>+-------------------------------------+------------------+-----------------+</pre>"
      ],
      "text/plain": [
       "+-------------------------------------+------------------+-----------------+"
      ]
     },
     "metadata": {},
     "output_type": "display_data"
    },
    {
     "data": {
      "text/html": [
       "<pre>| Elapsed Time (Constructing Lookups) | Total % Complete | Items Processed |</pre>"
      ],
      "text/plain": [
       "| Elapsed Time (Constructing Lookups) | Total % Complete | Items Processed |"
      ]
     },
     "metadata": {},
     "output_type": "display_data"
    },
    {
     "data": {
      "text/html": [
       "<pre>+-------------------------------------+------------------+-----------------+</pre>"
      ],
      "text/plain": [
       "+-------------------------------------+------------------+-----------------+"
      ]
     },
     "metadata": {},
     "output_type": "display_data"
    },
    {
     "data": {
      "text/html": [
       "<pre>| 23.074ms                            | 0                | 0               |</pre>"
      ],
      "text/plain": [
       "| 23.074ms                            | 0                | 0               |"
      ]
     },
     "metadata": {},
     "output_type": "display_data"
    },
    {
     "data": {
      "text/html": [
       "<pre>| 58.551ms                            | 100              | 782             |</pre>"
      ],
      "text/plain": [
       "| 58.551ms                            | 100              | 782             |"
      ]
     },
     "metadata": {},
     "output_type": "display_data"
    },
    {
     "data": {
      "text/html": [
       "<pre>+-------------------------------------+------------------+-----------------+</pre>"
      ],
      "text/plain": [
       "+-------------------------------------+------------------+-----------------+"
      ]
     },
     "metadata": {},
     "output_type": "display_data"
    },
    {
     "data": {
      "text/html": [
       "<pre>Finalizing lookup tables.</pre>"
      ],
      "text/plain": [
       "Finalizing lookup tables."
      ]
     },
     "metadata": {},
     "output_type": "display_data"
    },
    {
     "data": {
      "text/html": [
       "<pre>Generating candidate set for working with new users.</pre>"
      ],
      "text/plain": [
       "Generating candidate set for working with new users."
      ]
     },
     "metadata": {},
     "output_type": "display_data"
    },
    {
     "data": {
      "text/html": [
       "<pre>Finished training in 1.08337s</pre>"
      ],
      "text/plain": [
       "Finished training in 1.08337s"
      ]
     },
     "metadata": {},
     "output_type": "display_data"
    }
   ],
   "source": [
    "#build a model - defaults to jaccardian\n",
    "training_data, validation_data = gl.recommender.util.random_split_by_user(actions, 'UserID', 'ISBN')\n",
    "model = gl.recommender.create(training_data, 'UserID', 'ISBN')"
   ]
  },
  {
   "cell_type": "code",
   "execution_count": 15,
   "metadata": {
    "collapsed": false
   },
   "outputs": [
    {
     "data": {
      "text/html": [
       "<pre>recommendations finished on 1000/7143 queries. users per second: 66640</pre>"
      ],
      "text/plain": [
       "recommendations finished on 1000/7143 queries. users per second: 66640"
      ]
     },
     "metadata": {},
     "output_type": "display_data"
    },
    {
     "data": {
      "text/html": [
       "<pre>recommendations finished on 2000/7143 queries. users per second: 68582.4</pre>"
      ],
      "text/plain": [
       "recommendations finished on 2000/7143 queries. users per second: 68582.4"
      ]
     },
     "metadata": {},
     "output_type": "display_data"
    },
    {
     "data": {
      "text/html": [
       "<pre>recommendations finished on 3000/7143 queries. users per second: 61376.1</pre>"
      ],
      "text/plain": [
       "recommendations finished on 3000/7143 queries. users per second: 61376.1"
      ]
     },
     "metadata": {},
     "output_type": "display_data"
    },
    {
     "data": {
      "text/html": [
       "<pre>recommendations finished on 4000/7143 queries. users per second: 56837.6</pre>"
      ],
      "text/plain": [
       "recommendations finished on 4000/7143 queries. users per second: 56837.6"
      ]
     },
     "metadata": {},
     "output_type": "display_data"
    },
    {
     "data": {
      "text/html": [
       "<pre>recommendations finished on 5000/7143 queries. users per second: 52729.3</pre>"
      ],
      "text/plain": [
       "recommendations finished on 5000/7143 queries. users per second: 52729.3"
      ]
     },
     "metadata": {},
     "output_type": "display_data"
    },
    {
     "data": {
      "text/html": [
       "<pre>recommendations finished on 6000/7143 queries. users per second: 53122.7</pre>"
      ],
      "text/plain": [
       "recommendations finished on 6000/7143 queries. users per second: 53122.7"
      ]
     },
     "metadata": {},
     "output_type": "display_data"
    },
    {
     "data": {
      "text/html": [
       "<pre>recommendations finished on 7000/7143 queries. users per second: 52171.5</pre>"
      ],
      "text/plain": [
       "recommendations finished on 7000/7143 queries. users per second: 52171.5"
      ]
     },
     "metadata": {},
     "output_type": "display_data"
    }
   ],
   "source": [
    "results = model.recommend()"
   ]
  },
  {
   "cell_type": "code",
   "execution_count": 16,
   "metadata": {
    "collapsed": false
   },
   "outputs": [],
   "source": [
    "my_list_of_items = pd.read_csv('../BX-CSV-Dump/books1000.csv')"
   ]
  },
  {
   "cell_type": "code",
   "execution_count": 17,
   "metadata": {
    "collapsed": false
   },
   "outputs": [],
   "source": [
    "my_list_of_items = gl.SArray(my_list_of_items['ISBN'])"
   ]
  },
  {
   "cell_type": "code",
   "execution_count": 18,
   "metadata": {
    "collapsed": false
   },
   "outputs": [],
   "source": [
    "similar_items = model.get_similar_items(my_list_of_items[:10], k=20)\n"
   ]
  },
  {
   "cell_type": "code",
   "execution_count": 19,
   "metadata": {
    "collapsed": false
   },
   "outputs": [
    {
     "data": {
      "text/html": [
       "<div style=\"max-height:1000px;max-width:1500px;overflow:auto;\"><table frame=\"box\" rules=\"cols\">\n",
       "    <tr>\n",
       "        <th style=\"padding-left: 1em; padding-right: 1em; text-align: center\">ISBN</th>\n",
       "        <th style=\"padding-left: 1em; padding-right: 1em; text-align: center\">similar</th>\n",
       "        <th style=\"padding-left: 1em; padding-right: 1em; text-align: center\">score</th>\n",
       "        <th style=\"padding-left: 1em; padding-right: 1em; text-align: center\">rank</th>\n",
       "    </tr>\n",
       "    <tr>\n",
       "        <td style=\"padding-left: 1em; padding-right: 1em; text-align: center; vertical-align: top\">0971880107</td>\n",
       "        <td style=\"padding-left: 1em; padding-right: 1em; text-align: center; vertical-align: top\">0316666343</td>\n",
       "        <td style=\"padding-left: 1em; padding-right: 1em; text-align: center; vertical-align: top\">0.0523138642311</td>\n",
       "        <td style=\"padding-left: 1em; padding-right: 1em; text-align: center; vertical-align: top\">1</td>\n",
       "    </tr>\n",
       "    <tr>\n",
       "        <td style=\"padding-left: 1em; padding-right: 1em; text-align: center; vertical-align: top\">0971880107</td>\n",
       "        <td style=\"padding-left: 1em; padding-right: 1em; text-align: center; vertical-align: top\">044023722X</td>\n",
       "        <td style=\"padding-left: 1em; padding-right: 1em; text-align: center; vertical-align: top\">0.0348584055901</td>\n",
       "        <td style=\"padding-left: 1em; padding-right: 1em; text-align: center; vertical-align: top\">2</td>\n",
       "    </tr>\n",
       "    <tr>\n",
       "        <td style=\"padding-left: 1em; padding-right: 1em; text-align: center; vertical-align: top\">0971880107</td>\n",
       "        <td style=\"padding-left: 1em; padding-right: 1em; text-align: center; vertical-align: top\">0446364193</td>\n",
       "        <td style=\"padding-left: 1em; padding-right: 1em; text-align: center; vertical-align: top\">0.0329024791718</td>\n",
       "        <td style=\"padding-left: 1em; padding-right: 1em; text-align: center; vertical-align: top\">3</td>\n",
       "    </tr>\n",
       "    <tr>\n",
       "        <td style=\"padding-left: 1em; padding-right: 1em; text-align: center; vertical-align: top\">0971880107</td>\n",
       "        <td style=\"padding-left: 1em; padding-right: 1em; text-align: center; vertical-align: top\">0142001740</td>\n",
       "        <td style=\"padding-left: 1em; padding-right: 1em; text-align: center; vertical-align: top\">0.0323660969734</td>\n",
       "        <td style=\"padding-left: 1em; padding-right: 1em; text-align: center; vertical-align: top\">4</td>\n",
       "    </tr>\n",
       "    <tr>\n",
       "        <td style=\"padding-left: 1em; padding-right: 1em; text-align: center; vertical-align: top\">0971880107</td>\n",
       "        <td style=\"padding-left: 1em; padding-right: 1em; text-align: center; vertical-align: top\">0380731851</td>\n",
       "        <td style=\"padding-left: 1em; padding-right: 1em; text-align: center; vertical-align: top\">0.0318396091461</td>\n",
       "        <td style=\"padding-left: 1em; padding-right: 1em; text-align: center; vertical-align: top\">5</td>\n",
       "    </tr>\n",
       "    <tr>\n",
       "        <td style=\"padding-left: 1em; padding-right: 1em; text-align: center; vertical-align: top\">0971880107</td>\n",
       "        <td style=\"padding-left: 1em; padding-right: 1em; text-align: center; vertical-align: top\">0316601950</td>\n",
       "        <td style=\"padding-left: 1em; padding-right: 1em; text-align: center; vertical-align: top\">0.0306122303009</td>\n",
       "        <td style=\"padding-left: 1em; padding-right: 1em; text-align: center; vertical-align: top\">6</td>\n",
       "    </tr>\n",
       "    <tr>\n",
       "        <td style=\"padding-left: 1em; padding-right: 1em; text-align: center; vertical-align: top\">0971880107</td>\n",
       "        <td style=\"padding-left: 1em; padding-right: 1em; text-align: center; vertical-align: top\">059035342X</td>\n",
       "        <td style=\"padding-left: 1em; padding-right: 1em; text-align: center; vertical-align: top\">0.0295790433884</td>\n",
       "        <td style=\"padding-left: 1em; padding-right: 1em; text-align: center; vertical-align: top\">7</td>\n",
       "    </tr>\n",
       "    <tr>\n",
       "        <td style=\"padding-left: 1em; padding-right: 1em; text-align: center; vertical-align: top\">0971880107</td>\n",
       "        <td style=\"padding-left: 1em; padding-right: 1em; text-align: center; vertical-align: top\">0553572997</td>\n",
       "        <td style=\"padding-left: 1em; padding-right: 1em; text-align: center; vertical-align: top\">0.0288350582123</td>\n",
       "        <td style=\"padding-left: 1em; padding-right: 1em; text-align: center; vertical-align: top\">8</td>\n",
       "    </tr>\n",
       "    <tr>\n",
       "        <td style=\"padding-left: 1em; padding-right: 1em; text-align: center; vertical-align: top\">0971880107</td>\n",
       "        <td style=\"padding-left: 1em; padding-right: 1em; text-align: center; vertical-align: top\">0671003755</td>\n",
       "        <td style=\"padding-left: 1em; padding-right: 1em; text-align: center; vertical-align: top\">0.0275545120239</td>\n",
       "        <td style=\"padding-left: 1em; padding-right: 1em; text-align: center; vertical-align: top\">9</td>\n",
       "    </tr>\n",
       "    <tr>\n",
       "        <td style=\"padding-left: 1em; padding-right: 1em; text-align: center; vertical-align: top\">0971880107</td>\n",
       "        <td style=\"padding-left: 1em; padding-right: 1em; text-align: center; vertical-align: top\">0446605484</td>\n",
       "        <td style=\"padding-left: 1em; padding-right: 1em; text-align: center; vertical-align: top\">0.0260047316551</td>\n",
       "        <td style=\"padding-left: 1em; padding-right: 1em; text-align: center; vertical-align: top\">10</td>\n",
       "    </tr>\n",
       "</table>\n",
       "[180 rows x 4 columns]<br/>Note: Only the head of the SFrame is printed.<br/>You can use print_rows(num_rows=m, num_columns=n) to print more rows and columns.\n",
       "</div>"
      ],
      "text/plain": [
       "Columns:\n",
       "\tISBN\tstr\n",
       "\tsimilar\tstr\n",
       "\tscore\tfloat\n",
       "\trank\tint\n",
       "\n",
       "Rows: 180\n",
       "\n",
       "Data:\n",
       "+------------+------------+-----------------+------+\n",
       "|    ISBN    |  similar   |      score      | rank |\n",
       "+------------+------------+-----------------+------+\n",
       "| 0971880107 | 0316666343 | 0.0523138642311 |  1   |\n",
       "| 0971880107 | 044023722X | 0.0348584055901 |  2   |\n",
       "| 0971880107 | 0446364193 | 0.0329024791718 |  3   |\n",
       "| 0971880107 | 0142001740 | 0.0323660969734 |  4   |\n",
       "| 0971880107 | 0380731851 | 0.0318396091461 |  5   |\n",
       "| 0971880107 | 0316601950 | 0.0306122303009 |  6   |\n",
       "| 0971880107 | 059035342X | 0.0295790433884 |  7   |\n",
       "| 0971880107 | 0553572997 | 0.0288350582123 |  8   |\n",
       "| 0971880107 | 0671003755 | 0.0275545120239 |  9   |\n",
       "| 0971880107 | 0446605484 | 0.0260047316551 |  10  |\n",
       "+------------+------------+-----------------+------+\n",
       "[180 rows x 4 columns]\n",
       "Note: Only the head of the SFrame is printed.\n",
       "You can use print_rows(num_rows=m, num_columns=n) to print more rows and columns."
      ]
     },
     "execution_count": 19,
     "metadata": {},
     "output_type": "execute_result"
    }
   ],
   "source": [
    "similar_items"
   ]
  },
  {
   "cell_type": "code",
   "execution_count": 20,
   "metadata": {
    "collapsed": false
   },
   "outputs": [],
   "source": [
    "def ISBNlookup(i):\n",
    "    return items[items['ISBN']==i]"
   ]
  },
  {
   "cell_type": "code",
   "execution_count": 21,
   "metadata": {
    "collapsed": false
   },
   "outputs": [
    {
     "name": "stdout",
     "output_type": "stream",
     "text": [
      "+------------+--------------+------------+-------------------------------+-----------+\n",
      "|    ISBN    |   authors    | categories |         imageThumbnail        | pageCount |\n",
      "+------------+--------------+------------+-------------------------------+-----------+\n",
      "| 0971880107 | Rich Shapero |  Fiction   | http://books.google.com/bo... |    315    |\n",
      "+------------+--------------+------------+-------------------------------+-----------+\n",
      "+---------------+-------------+-------------------------------+-------------+\n",
      "| publishedDate |  publisher  |          textSnippet          |    title    |\n",
      "+---------------+-------------+-------------------------------+-------------+\n",
      "|      2004     | Too Far Pub | Newly graduated from colle... | Wild Animus |\n",
      "+---------------+-------------+-------------------------------+-------------+\n",
      "[? rows x 9 columns]\n",
      "Note: Only the head of the SFrame is printed. This SFrame is lazily evaluated.\n",
      "You can use sf.materialize() to force materialization.\n"
     ]
    },
    {
     "data": {
      "text/html": [
       "<div style=\"max-height:1000px;max-width:1500px;overflow:auto;\"><table frame=\"box\" rules=\"cols\">\n",
       "    <tr>\n",
       "        <th style=\"padding-left: 1em; padding-right: 1em; text-align: center\">ISBN</th>\n",
       "        <th style=\"padding-left: 1em; padding-right: 1em; text-align: center\">authors</th>\n",
       "        <th style=\"padding-left: 1em; padding-right: 1em; text-align: center\">categories</th>\n",
       "        <th style=\"padding-left: 1em; padding-right: 1em; text-align: center\">imageThumbnail</th>\n",
       "        <th style=\"padding-left: 1em; padding-right: 1em; text-align: center\">pageCount</th>\n",
       "        <th style=\"padding-left: 1em; padding-right: 1em; text-align: center\">publishedDate</th>\n",
       "        <th style=\"padding-left: 1em; padding-right: 1em; text-align: center\">publisher</th>\n",
       "    </tr>\n",
       "    <tr>\n",
       "        <td style=\"padding-left: 1em; padding-right: 1em; text-align: center; vertical-align: top\">0316666343</td>\n",
       "        <td style=\"padding-left: 1em; padding-right: 1em; text-align: center; vertical-align: top\">Alice Sebold</td>\n",
       "        <td style=\"padding-left: 1em; padding-right: 1em; text-align: center; vertical-align: top\">Fiction</td>\n",
       "        <td style=\"padding-left: 1em; padding-right: 1em; text-align: center; vertical-align: top\">http://books.google.com/b<br>ooks/content?id=2lCbP ...</td>\n",
       "        <td style=\"padding-left: 1em; padding-right: 1em; text-align: center; vertical-align: top\">336</td>\n",
       "        <td style=\"padding-left: 1em; padding-right: 1em; text-align: center; vertical-align: top\">2002-07-03</td>\n",
       "        <td style=\"padding-left: 1em; padding-right: 1em; text-align: center; vertical-align: top\">Little, Brown</td>\n",
       "    </tr>\n",
       "</table>\n",
       "<table frame=\"box\" rules=\"cols\">\n",
       "    <tr>\n",
       "        <th style=\"padding-left: 1em; padding-right: 1em; text-align: center\">textSnippet</th>\n",
       "        <th style=\"padding-left: 1em; padding-right: 1em; text-align: center\">title</th>\n",
       "    </tr>\n",
       "    <tr>\n",
       "        <td style=\"padding-left: 1em; padding-right: 1em; text-align: center; vertical-align: top\">In the hands of a<br>brilliant novelist, this ...</td>\n",
       "        <td style=\"padding-left: 1em; padding-right: 1em; text-align: center; vertical-align: top\">The Lovely Bones</td>\n",
       "    </tr>\n",
       "</table>\n",
       "[? rows x 9 columns]<br/>Note: Only the head of the SFrame is printed. This SFrame is lazily evaluated.<br/>You can use sf.materialize() to force materialization.\n",
       "</div>"
      ],
      "text/plain": [
       "Columns:\n",
       "\tISBN\tstr\n",
       "\tauthors\tstr\n",
       "\tcategories\tstr\n",
       "\timageThumbnail\tstr\n",
       "\tpageCount\tint\n",
       "\tpublishedDate\tstr\n",
       "\tpublisher\tstr\n",
       "\ttextSnippet\tstr\n",
       "\ttitle\tstr\n",
       "\n",
       "Rows: Unknown\n",
       "\n",
       "Data:\n",
       "+------------+--------------+------------+-------------------------------+-----------+\n",
       "|    ISBN    |   authors    | categories |         imageThumbnail        | pageCount |\n",
       "+------------+--------------+------------+-------------------------------+-----------+\n",
       "| 0316666343 | Alice Sebold |  Fiction   | http://books.google.com/bo... |    336    |\n",
       "+------------+--------------+------------+-------------------------------+-----------+\n",
       "+---------------+---------------+-------------------------------+\n",
       "| publishedDate |   publisher   |          textSnippet          |\n",
       "+---------------+---------------+-------------------------------+\n",
       "|   2002-07-03  | Little, Brown | In the hands of a brillian... |\n",
       "+---------------+---------------+-------------------------------+\n",
       "+------------------+\n",
       "|      title       |\n",
       "+------------------+\n",
       "| The Lovely Bones |\n",
       "+------------------+\n",
       "[? rows x 9 columns]\n",
       "Note: Only the head of the SFrame is printed. This SFrame is lazily evaluated.\n",
       "You can use sf.materialize() to force materialization."
      ]
     },
     "execution_count": 21,
     "metadata": {},
     "output_type": "execute_result"
    }
   ],
   "source": [
    "print ISBNlookup('0971880107')\n",
    "ISBNlookup('0316666343')"
   ]
  },
  {
   "cell_type": "code",
   "execution_count": 23,
   "metadata": {
    "collapsed": true
   },
   "outputs": [],
   "source": [
    "model.save('my_model')"
   ]
  },
  {
   "cell_type": "code",
   "execution_count": 24,
   "metadata": {
    "collapsed": false
   },
   "outputs": [],
   "source": [
    "model = gl.load_model('my_model')"
   ]
  },
  {
   "cell_type": "code",
   "execution_count": 22,
   "metadata": {
    "collapsed": false
   },
   "outputs": [
    {
     "data": {
      "text/plain": [
       "<bound method ItemSimilarityRecommender.get of Class                            : ItemSimilarityRecommender\n",
       "\n",
       "Schema\n",
       "------\n",
       "User ID                          : UserID\n",
       "Item ID                          : ISBN\n",
       "Target                           : None\n",
       "Additional observation features  : 0\n",
       "User side features               : []\n",
       "Item side features               : []\n",
       "\n",
       "Statistics\n",
       "----------\n",
       "Number of observations           : 29455\n",
       "Number of users                  : 7143\n",
       "Number of items                  : 782\n",
       "\n",
       "Training summary\n",
       "----------------\n",
       "Training time                    : 1.0834\n",
       "\n",
       "Model Parameters\n",
       "----------------\n",
       "Model class                      : ItemSimilarityRecommender\n",
       "threshold                        : 0.001\n",
       "similarity_type                  : jaccard\n",
       "training_method                  : auto\n",
       "\n",
       "Other Settings\n",
       "--------------\n",
       "degree_approximation_threshold   : 4096\n",
       "sparse_density_estimation_sample_size : 4096\n",
       "max_data_passes                  : 4096\n",
       "target_memory_usage              : 8589934592\n",
       "seed_item_set_size               : 50\n",
       "nearest_neighbors_interaction_proportion_threshold : 0.05\n",
       "max_item_neighborhood_size       : 64\n",
       ">"
      ]
     },
     "execution_count": 22,
     "metadata": {},
     "output_type": "execute_result"
    }
   ],
   "source": [
    "model.get"
   ]
  },
  {
   "cell_type": "markdown",
   "metadata": {},
   "source": [
    "## Visualization"
   ]
  },
  {
   "cell_type": "code",
   "execution_count": 26,
   "metadata": {
    "collapsed": false
   },
   "outputs": [
    {
     "data": {
      "text/plain": [
       "graphlab.data_structures.sframe.SFrame"
      ]
     },
     "execution_count": 26,
     "metadata": {},
     "output_type": "execute_result"
    }
   ],
   "source": [
    "type(items)"
   ]
  },
  {
   "cell_type": "code",
   "execution_count": 27,
   "metadata": {
    "collapsed": false
   },
   "outputs": [
    {
     "data": {
      "text/plain": [
       "graphlab.data_structures.sframe.SFrame"
      ]
     },
     "execution_count": 27,
     "metadata": {},
     "output_type": "execute_result"
    }
   ],
   "source": [
    "validation_data.head()\n",
    "type(validation_data)"
   ]
  },
  {
   "cell_type": "code",
   "execution_count": 28,
   "metadata": {
    "collapsed": false
   },
   "outputs": [
    {
     "data": {
      "text/html": [
       "<div style=\"max-height:1000px;max-width:1500px;overflow:auto;\"><table frame=\"box\" rules=\"cols\">\n",
       "    <tr>\n",
       "        <th style=\"padding-left: 1em; padding-right: 1em; text-align: center\">ISBN</th>\n",
       "        <th style=\"padding-left: 1em; padding-right: 1em; text-align: center\">authors</th>\n",
       "        <th style=\"padding-left: 1em; padding-right: 1em; text-align: center\">categories</th>\n",
       "        <th style=\"padding-left: 1em; padding-right: 1em; text-align: center\">imageThumbnail</th>\n",
       "        <th style=\"padding-left: 1em; padding-right: 1em; text-align: center\">pageCount</th>\n",
       "        <th style=\"padding-left: 1em; padding-right: 1em; text-align: center\">publishedDate</th>\n",
       "    </tr>\n",
       "    <tr>\n",
       "        <td style=\"padding-left: 1em; padding-right: 1em; text-align: center; vertical-align: top\">051512317X</td>\n",
       "        <td style=\"padding-left: 1em; padding-right: 1em; text-align: center; vertical-align: top\">Nora Roberts</td>\n",
       "        <td style=\"padding-left: 1em; padding-right: 1em; text-align: center; vertical-align: top\">Fiction</td>\n",
       "        <td style=\"padding-left: 1em; padding-right: 1em; text-align: center; vertical-align: top\">http://books.google.com/b<br>ooks/content?id=gF7dN ...</td>\n",
       "        <td style=\"padding-left: 1em; padding-right: 1em; text-align: center; vertical-align: top\">339</td>\n",
       "        <td style=\"padding-left: 1em; padding-right: 1em; text-align: center; vertical-align: top\">1998</td>\n",
       "    </tr>\n",
       "    <tr>\n",
       "        <td style=\"padding-left: 1em; padding-right: 1em; text-align: center; vertical-align: top\">0440204194</td>\n",
       "        <td style=\"padding-left: 1em; padding-right: 1em; text-align: center; vertical-align: top\">Maeve Binchy</td>\n",
       "        <td style=\"padding-left: 1em; padding-right: 1em; text-align: center; vertical-align: top\">Fiction</td>\n",
       "        <td style=\"padding-left: 1em; padding-right: 1em; text-align: center; vertical-align: top\">http://books.google.com/b<br>ooks/content?id ...</td>\n",
       "        <td style=\"padding-left: 1em; padding-right: 1em; text-align: center; vertical-align: top\">672</td>\n",
       "        <td style=\"padding-left: 1em; padding-right: 1em; text-align: center; vertical-align: top\">1989</td>\n",
       "    </tr>\n",
       "    <tr>\n",
       "        <td style=\"padding-left: 1em; padding-right: 1em; text-align: center; vertical-align: top\">1573229725</td>\n",
       "        <td style=\"padding-left: 1em; padding-right: 1em; text-align: center; vertical-align: top\">Sarah Waters</td>\n",
       "        <td style=\"padding-left: 1em; padding-right: 1em; text-align: center; vertical-align: top\">Fiction</td>\n",
       "        <td style=\"padding-left: 1em; padding-right: 1em; text-align: center; vertical-align: top\">http://books.google.com/b<br>ooks/content?id=DXXtt ...</td>\n",
       "        <td style=\"padding-left: 1em; padding-right: 1em; text-align: center; vertical-align: top\">582</td>\n",
       "        <td style=\"padding-left: 1em; padding-right: 1em; text-align: center; vertical-align: top\">2002</td>\n",
       "    </tr>\n",
       "    <tr>\n",
       "        <td style=\"padding-left: 1em; padding-right: 1em; text-align: center; vertical-align: top\">0689716958</td>\n",
       "        <td style=\"padding-left: 1em; padding-right: 1em; text-align: center; vertical-align: top\">Virginia Hamilton</td>\n",
       "        <td style=\"padding-left: 1em; padding-right: 1em; text-align: center; vertical-align: top\">Juvenile Fiction</td>\n",
       "        <td style=\"padding-left: 1em; padding-right: 1em; text-align: center; vertical-align: top\">http://books.google.com/b<br>ooks/content?id=-fhqQ ...</td>\n",
       "        <td style=\"padding-left: 1em; padding-right: 1em; text-align: center; vertical-align: top\">128</td>\n",
       "        <td style=\"padding-left: 1em; padding-right: 1em; text-align: center; vertical-align: top\">1993-04-30</td>\n",
       "    </tr>\n",
       "    <tr>\n",
       "        <td style=\"padding-left: 1em; padding-right: 1em; text-align: center; vertical-align: top\">0449003795</td>\n",
       "        <td style=\"padding-left: 1em; padding-right: 1em; text-align: center; vertical-align: top\">Sue Grafton</td>\n",
       "        <td style=\"padding-left: 1em; padding-right: 1em; text-align: center; vertical-align: top\">Fiction</td>\n",
       "        <td style=\"padding-left: 1em; padding-right: 1em; text-align: center; vertical-align: top\">http://books.google.com/b<br>ooks/content?id=86DIQ ...</td>\n",
       "        <td style=\"padding-left: 1em; padding-right: 1em; text-align: center; vertical-align: top\">370</td>\n",
       "        <td style=\"padding-left: 1em; padding-right: 1em; text-align: center; vertical-align: top\">2001</td>\n",
       "    </tr>\n",
       "    <tr>\n",
       "        <td style=\"padding-left: 1em; padding-right: 1em; text-align: center; vertical-align: top\">0767902521</td>\n",
       "        <td style=\"padding-left: 1em; padding-right: 1em; text-align: center; vertical-align: top\">Bill Bryson</td>\n",
       "        <td style=\"padding-left: 1em; padding-right: 1em; text-align: center; vertical-align: top\">Travel</td>\n",
       "        <td style=\"padding-left: 1em; padding-right: 1em; text-align: center; vertical-align: top\">http://books.google.com/b<br>ooks/content?id=bE-4P ...</td>\n",
       "        <td style=\"padding-left: 1em; padding-right: 1em; text-align: center; vertical-align: top\">276</td>\n",
       "        <td style=\"padding-left: 1em; padding-right: 1em; text-align: center; vertical-align: top\">1999</td>\n",
       "    </tr>\n",
       "    <tr>\n",
       "        <td style=\"padding-left: 1em; padding-right: 1em; text-align: center; vertical-align: top\">044691200X</td>\n",
       "        <td style=\"padding-left: 1em; padding-right: 1em; text-align: center; vertical-align: top\">MAD Magazine, Sergio<br>Aragonés ...</td>\n",
       "        <td style=\"padding-left: 1em; padding-right: 1em; text-align: center; vertical-align: top\">Humor</td>\n",
       "        <td style=\"padding-left: 1em; padding-right: 1em; text-align: center; vertical-align: top\">http://books.google.com/b<br>ooks/content?id=r0H-V ...</td>\n",
       "        <td style=\"padding-left: 1em; padding-right: 1em; text-align: center; vertical-align: top\">85</td>\n",
       "        <td style=\"padding-left: 1em; padding-right: 1em; text-align: center; vertical-align: top\">1997</td>\n",
       "    </tr>\n",
       "    <tr>\n",
       "        <td style=\"padding-left: 1em; padding-right: 1em; text-align: center; vertical-align: top\">068484267X</td>\n",
       "        <td style=\"padding-left: 1em; padding-right: 1em; text-align: center; vertical-align: top\">Frank McCourt</td>\n",
       "        <td style=\"padding-left: 1em; padding-right: 1em; text-align: center; vertical-align: top\">Biography &amp; Autobiography</td>\n",
       "        <td style=\"padding-left: 1em; padding-right: 1em; text-align: center; vertical-align: top\">http://books.google.com/b<br>ooks/content?id=Ia5XB ...</td>\n",
       "        <td style=\"padding-left: 1em; padding-right: 1em; text-align: center; vertical-align: top\">363</td>\n",
       "        <td style=\"padding-left: 1em; padding-right: 1em; text-align: center; vertical-align: top\">1999-05-25</td>\n",
       "    </tr>\n",
       "    <tr>\n",
       "        <td style=\"padding-left: 1em; padding-right: 1em; text-align: center; vertical-align: top\">0373484003</td>\n",
       "        <td style=\"padding-left: 1em; padding-right: 1em; text-align: center; vertical-align: top\">Nora Roberts</td>\n",
       "        <td style=\"padding-left: 1em; padding-right: 1em; text-align: center; vertical-align: top\">Fiction</td>\n",
       "        <td style=\"padding-left: 1em; padding-right: 1em; text-align: center; vertical-align: top\">http://books.google.com/b<br>ooks/content?id=ymEiA ...</td>\n",
       "        <td style=\"padding-left: 1em; padding-right: 1em; text-align: center; vertical-align: top\">506</td>\n",
       "        <td style=\"padding-left: 1em; padding-right: 1em; text-align: center; vertical-align: top\">2000</td>\n",
       "    </tr>\n",
       "    <tr>\n",
       "        <td style=\"padding-left: 1em; padding-right: 1em; text-align: center; vertical-align: top\">0515133302</td>\n",
       "        <td style=\"padding-left: 1em; padding-right: 1em; text-align: center; vertical-align: top\">Catherine Coulter</td>\n",
       "        <td style=\"padding-left: 1em; padding-right: 1em; text-align: center; vertical-align: top\">Fiction</td>\n",
       "        <td style=\"padding-left: 1em; padding-right: 1em; text-align: center; vertical-align: top\">http://books.google.com/b<br>ooks/content?id=K8Y8t ...</td>\n",
       "        <td style=\"padding-left: 1em; padding-right: 1em; text-align: center; vertical-align: top\">337</td>\n",
       "        <td style=\"padding-left: 1em; padding-right: 1em; text-align: center; vertical-align: top\">2002</td>\n",
       "    </tr>\n",
       "</table>\n",
       "<table frame=\"box\" rules=\"cols\">\n",
       "    <tr>\n",
       "        <th style=\"padding-left: 1em; padding-right: 1em; text-align: center\">publisher</th>\n",
       "        <th style=\"padding-left: 1em; padding-right: 1em; text-align: center\">textSnippet</th>\n",
       "        <th style=\"padding-left: 1em; padding-right: 1em; text-align: center\">title</th>\n",
       "    </tr>\n",
       "    <tr>\n",
       "        <td style=\"padding-left: 1em; padding-right: 1em; text-align: center; vertical-align: top\">Penguin</td>\n",
       "        <td style=\"padding-left: 1em; padding-right: 1em; text-align: center; vertical-align: top\">Ethan Quinn must rise<br>above his dark and ...</td>\n",
       "        <td style=\"padding-left: 1em; padding-right: 1em; text-align: center; vertical-align: top\">Rising Tides</td>\n",
       "    </tr>\n",
       "    <tr>\n",
       "        <td style=\"padding-left: 1em; padding-right: 1em; text-align: center; vertical-align: top\">Dell Publishing Company</td>\n",
       "        <td style=\"padding-left: 1em; padding-right: 1em; text-align: center; vertical-align: top\">Roman.</td>\n",
       "        <td style=\"padding-left: 1em; padding-right: 1em; text-align: center; vertical-align: top\">Firefly Summer</td>\n",
       "    </tr>\n",
       "    <tr>\n",
       "        <td style=\"padding-left: 1em; padding-right: 1em; text-align: center; vertical-align: top\">Penguin</td>\n",
       "        <td style=\"padding-left: 1em; padding-right: 1em; text-align: center; vertical-align: top\">Growing up as a foster<br>child among a family of ...</td>\n",
       "        <td style=\"padding-left: 1em; padding-right: 1em; text-align: center; vertical-align: top\">Fingersmith</td>\n",
       "    </tr>\n",
       "    <tr>\n",
       "        <td style=\"padding-left: 1em; padding-right: 1em; text-align: center; vertical-align: top\">Aladdin</td>\n",
       "        <td style=\"padding-left: 1em; padding-right: 1em; text-align: center; vertical-align: top\">When Geeder finally meets<br>Zeely, she gains a new ...</td>\n",
       "        <td style=\"padding-left: 1em; padding-right: 1em; text-align: center; vertical-align: top\">Zeely</td>\n",
       "    </tr>\n",
       "    <tr>\n",
       "        <td style=\"padding-left: 1em; padding-right: 1em; text-align: center; vertical-align: top\">Random House Digital,<br>Inc. ...</td>\n",
       "        <td style=\"padding-left: 1em; padding-right: 1em; text-align: center; vertical-align: top\">Kinsey Millhone trusts<br>her life to her insti ...</td>\n",
       "        <td style=\"padding-left: 1em; padding-right: 1em; text-align: center; vertical-align: top\">Is for Peril : [romanas]</td>\n",
       "    </tr>\n",
       "    <tr>\n",
       "        <td style=\"padding-left: 1em; padding-right: 1em; text-align: center; vertical-align: top\">Broadway</td>\n",
       "        <td style=\"padding-left: 1em; padding-right: 1em; text-align: center; vertical-align: top\">Bryson share his<br>experiences hiking the ...</td>\n",
       "        <td style=\"padding-left: 1em; padding-right: 1em; text-align: center; vertical-align: top\">A Walk in the Woods</td>\n",
       "    </tr>\n",
       "    <tr>\n",
       "        <td style=\"padding-left: 1em; padding-right: 1em; text-align: center; vertical-align: top\">Warner Books</td>\n",
       "        <td style=\"padding-left: 1em; padding-right: 1em; text-align: center; vertical-align: top\">Presents a collection of<br>quotations by MAD ...</td>\n",
       "        <td style=\"padding-left: 1em; padding-right: 1em; text-align: center; vertical-align: top\">MAD</td>\n",
       "    </tr>\n",
       "    <tr>\n",
       "        <td style=\"padding-left: 1em; padding-right: 1em; text-align: center; vertical-align: top\">Simon and Schuster</td>\n",
       "        <td style=\"padding-left: 1em; padding-right: 1em; text-align: center; vertical-align: top\">The author recounts his<br>childhood in Depression- ...</td>\n",
       "        <td style=\"padding-left: 1em; padding-right: 1em; text-align: center; vertical-align: top\">Angela's Ashes</td>\n",
       "    </tr>\n",
       "    <tr>\n",
       "        <td style=\"padding-left: 1em; padding-right: 1em; text-align: center; vertical-align: top\">Harlequin Books</td>\n",
       "        <td style=\"padding-left: 1em; padding-right: 1em; text-align: center; vertical-align: top\">And look for Irish Rebel,<br>a brand-new book in this ...</td>\n",
       "        <td style=\"padding-left: 1em; padding-right: 1em; text-align: center; vertical-align: top\">Irish Hearts</td>\n",
       "    </tr>\n",
       "    <tr>\n",
       "        <td style=\"padding-left: 1em; padding-right: 1em; text-align: center; vertical-align: top\">Penguin</td>\n",
       "        <td style=\"padding-left: 1em; padding-right: 1em; text-align: center; vertical-align: top\">Caught up in a<br>challenging probe into ...</td>\n",
       "        <td style=\"padding-left: 1em; padding-right: 1em; text-align: center; vertical-align: top\">Hemlock Bay</td>\n",
       "    </tr>\n",
       "</table>\n",
       "[883 rows x 9 columns]<br/>Note: Only the head of the SFrame is printed.<br/>You can use print_rows(num_rows=m, num_columns=n) to print more rows and columns.\n",
       "</div>"
      ],
      "text/plain": [
       "Columns:\n",
       "\tISBN\tstr\n",
       "\tauthors\tstr\n",
       "\tcategories\tstr\n",
       "\timageThumbnail\tstr\n",
       "\tpageCount\tint\n",
       "\tpublishedDate\tstr\n",
       "\tpublisher\tstr\n",
       "\ttextSnippet\tstr\n",
       "\ttitle\tstr\n",
       "\n",
       "Rows: 883\n",
       "\n",
       "Data:\n",
       "+------------+-------------------------------+---------------------------+\n",
       "|    ISBN    |            authors            |         categories        |\n",
       "+------------+-------------------------------+---------------------------+\n",
       "| 051512317X |          Nora Roberts         |          Fiction          |\n",
       "| 0440204194 |          Maeve Binchy         |          Fiction          |\n",
       "| 1573229725 |          Sarah Waters         |          Fiction          |\n",
       "| 0689716958 |       Virginia Hamilton       |      Juvenile Fiction     |\n",
       "| 0449003795 |          Sue Grafton          |          Fiction          |\n",
       "| 0767902521 |          Bill Bryson          |           Travel          |\n",
       "| 044691200X | MAD Magazine, Sergio Aragonés |           Humor           |\n",
       "| 068484267X |         Frank McCourt         | Biography & Autobiography |\n",
       "| 0373484003 |          Nora Roberts         |          Fiction          |\n",
       "| 0515133302 |       Catherine Coulter       |          Fiction          |\n",
       "+------------+-------------------------------+---------------------------+\n",
       "+-------------------------------+-----------+---------------+\n",
       "|         imageThumbnail        | pageCount | publishedDate |\n",
       "+-------------------------------+-----------+---------------+\n",
       "| http://books.google.com/bo... |    339    |      1998     |\n",
       "| http://books.google.com/bo... |    672    |      1989     |\n",
       "| http://books.google.com/bo... |    582    |      2002     |\n",
       "| http://books.google.com/bo... |    128    |   1993-04-30  |\n",
       "| http://books.google.com/bo... |    370    |      2001     |\n",
       "| http://books.google.com/bo... |    276    |      1999     |\n",
       "| http://books.google.com/bo... |     85    |      1997     |\n",
       "| http://books.google.com/bo... |    363    |   1999-05-25  |\n",
       "| http://books.google.com/bo... |    506    |      2000     |\n",
       "| http://books.google.com/bo... |    337    |      2002     |\n",
       "+-------------------------------+-----------+---------------+\n",
       "+----------------------------+-------------------------------+\n",
       "|         publisher          |          textSnippet          |\n",
       "+----------------------------+-------------------------------+\n",
       "|          Penguin           | Ethan Quinn must rise abov... |\n",
       "|  Dell Publishing Company   |             Roman.            |\n",
       "|          Penguin           | Growing up as a foster chi... |\n",
       "|          Aladdin           | When Geeder finally meets ... |\n",
       "| Random House Digital, Inc. | Kinsey Millhone trusts her... |\n",
       "|          Broadway          | Bryson share his experienc... |\n",
       "|        Warner Books        | Presents a collection of q... |\n",
       "|     Simon and Schuster     | The author recounts his ch... |\n",
       "|      Harlequin Books       | And look for Irish Rebel, ... |\n",
       "|          Penguin           | Caught up in a challenging... |\n",
       "+----------------------------+-------------------------------+\n",
       "+--------------------------+\n",
       "|          title           |\n",
       "+--------------------------+\n",
       "|       Rising Tides       |\n",
       "|      Firefly Summer      |\n",
       "|       Fingersmith        |\n",
       "|          Zeely           |\n",
       "| Is for Peril : [romanas] |\n",
       "|   A Walk in the Woods    |\n",
       "|           MAD            |\n",
       "|      Angela's Ashes      |\n",
       "|       Irish Hearts       |\n",
       "|       Hemlock Bay        |\n",
       "+--------------------------+\n",
       "[883 rows x 9 columns]\n",
       "Note: Only the head of the SFrame is printed.\n",
       "You can use print_rows(num_rows=m, num_columns=n) to print more rows and columns."
      ]
     },
     "execution_count": 28,
     "metadata": {},
     "output_type": "execute_result"
    }
   ],
   "source": [
    "#user_data\n",
    "items.unique()"
   ]
  },
  {
   "cell_type": "code",
   "execution_count": 23,
   "metadata": {
    "collapsed": false
   },
   "outputs": [
    {
     "data": {
      "text/plain": [
       "<bound method SFrame.unique of Columns:\n",
       "\tUserID\tint\n",
       "\n",
       "Rows: 30274\n",
       "\n",
       "Data:\n",
       "+--------+\n",
       "| UserID |\n",
       "+--------+\n",
       "| 21855  |\n",
       "| 237313 |\n",
       "| 43116  |\n",
       "| 144280 |\n",
       "| 262565 |\n",
       "| 115341 |\n",
       "| 241146 |\n",
       "| 105395 |\n",
       "| 79674  |\n",
       "| 69188  |\n",
       "+--------+\n",
       "[30274 rows x 1 columns]\n",
       "Note: Only the head of the SFrame is printed.\n",
       "You can use print_rows(num_rows=m, num_columns=n) to print more rows and columns.>"
      ]
     },
     "execution_count": 23,
     "metadata": {},
     "output_type": "execute_result"
    }
   ],
   "source": [
    "#grap user data from validation data set\n",
    "#user_data = gl.SFrame(validation_data['UserID'])\n",
    "user_data = gl.SFrame(dfRating['UserID'])\n",
    "user_data.rename({'X1':'UserID'})\n",
    "user_data = user_data.unique()\n",
    "user_data.head()\n",
    "user_data.unique\n"
   ]
  },
  {
   "cell_type": "code",
   "execution_count": 24,
   "metadata": {
    "collapsed": false
   },
   "outputs": [
    {
     "data": {
      "text/html": [
       "<pre>Warning: The model was fit with 2 feature columns but only 1 were present during transform(). Proceeding with transform by ignoring the missing columns.</pre>"
      ],
      "text/plain": [
       "Warning: The model was fit with 2 feature columns but only 1 were present during transform(). Proceeding with transform by ignoring the missing columns."
      ]
     },
     "metadata": {},
     "output_type": "display_data"
    },
    {
     "data": {
      "text/html": [
       "<pre>Warning: The model was fit with 2 feature columns but only 1 were present during transform(). Proceeding with transform by ignoring the missing columns.</pre>"
      ],
      "text/plain": [
       "Warning: The model was fit with 2 feature columns but only 1 were present during transform(). Proceeding with transform by ignoring the missing columns."
      ]
     },
     "metadata": {},
     "output_type": "display_data"
    }
   ],
   "source": [
    "view = model.views.overview(validation_set = validation_data,\n",
    "                           user_data = user_data,\n",
    "                           user_name_column = 'UserID',\n",
    "                           item_data = items,\n",
    "                           item_name_column = 'title',\n",
    "                           item_url_column = 'imageThumbnail')\n",
    "view.show()"
   ]
  },
  {
   "cell_type": "code",
   "execution_count": 28,
   "metadata": {
    "collapsed": false
   },
   "outputs": [
    {
     "data": {
      "text/plain": [
       "graphlab.data_structures.sframe.SFrame"
      ]
     },
     "execution_count": 28,
     "metadata": {},
     "output_type": "execute_result"
    }
   ],
   "source": [
    "type(user_data)"
   ]
  },
  {
   "cell_type": "markdown",
   "metadata": {},
   "source": [
    "## Build a predictive model using ratings"
   ]
  },
  {
   "cell_type": "code",
   "execution_count": 25,
   "metadata": {
    "collapsed": false
   },
   "outputs": [
    {
     "data": {
      "text/html": [
       "<pre>Recsys training: model = ranking_factorization_recommender</pre>"
      ],
      "text/plain": [
       "Recsys training: model = ranking_factorization_recommender"
      ]
     },
     "metadata": {},
     "output_type": "display_data"
    },
    {
     "data": {
      "text/html": [
       "<pre>Preparing data set.</pre>"
      ],
      "text/plain": [
       "Preparing data set."
      ]
     },
     "metadata": {},
     "output_type": "display_data"
    },
    {
     "data": {
      "text/html": [
       "<pre>    Data has 121367 observations with 30188 users and 847 items.</pre>"
      ],
      "text/plain": [
       "    Data has 121367 observations with 30188 users and 847 items."
      ]
     },
     "metadata": {},
     "output_type": "display_data"
    },
    {
     "data": {
      "text/html": [
       "<pre>    Data prepared in: 0.175617s</pre>"
      ],
      "text/plain": [
       "    Data prepared in: 0.175617s"
      ]
     },
     "metadata": {},
     "output_type": "display_data"
    },
    {
     "data": {
      "text/html": [
       "<pre>Training ranking_factorization_recommender for recommendations.</pre>"
      ],
      "text/plain": [
       "Training ranking_factorization_recommender for recommendations."
      ]
     },
     "metadata": {},
     "output_type": "display_data"
    },
    {
     "data": {
      "text/html": [
       "<pre>+--------------------------------+--------------------------------------------------+----------+</pre>"
      ],
      "text/plain": [
       "+--------------------------------+--------------------------------------------------+----------+"
      ]
     },
     "metadata": {},
     "output_type": "display_data"
    },
    {
     "data": {
      "text/html": [
       "<pre>| Parameter                      | Description                                      | Value    |</pre>"
      ],
      "text/plain": [
       "| Parameter                      | Description                                      | Value    |"
      ]
     },
     "metadata": {},
     "output_type": "display_data"
    },
    {
     "data": {
      "text/html": [
       "<pre>+--------------------------------+--------------------------------------------------+----------+</pre>"
      ],
      "text/plain": [
       "+--------------------------------+--------------------------------------------------+----------+"
      ]
     },
     "metadata": {},
     "output_type": "display_data"
    },
    {
     "data": {
      "text/html": [
       "<pre>| num_factors                    | Factor Dimension                                 | 32       |</pre>"
      ],
      "text/plain": [
       "| num_factors                    | Factor Dimension                                 | 32       |"
      ]
     },
     "metadata": {},
     "output_type": "display_data"
    },
    {
     "data": {
      "text/html": [
       "<pre>| regularization                 | L2 Regularization on Factors                     | 1e-09    |</pre>"
      ],
      "text/plain": [
       "| regularization                 | L2 Regularization on Factors                     | 1e-09    |"
      ]
     },
     "metadata": {},
     "output_type": "display_data"
    },
    {
     "data": {
      "text/html": [
       "<pre>| solver                         | Solver used for training                         | sgd      |</pre>"
      ],
      "text/plain": [
       "| solver                         | Solver used for training                         | sgd      |"
      ]
     },
     "metadata": {},
     "output_type": "display_data"
    },
    {
     "data": {
      "text/html": [
       "<pre>| linear_regularization          | L2 Regularization on Linear Coefficients         | 1e-09    |</pre>"
      ],
      "text/plain": [
       "| linear_regularization          | L2 Regularization on Linear Coefficients         | 1e-09    |"
      ]
     },
     "metadata": {},
     "output_type": "display_data"
    },
    {
     "data": {
      "text/html": [
       "<pre>| ranking_regularization         | Rank-based Regularization Weight                 | 0.25     |</pre>"
      ],
      "text/plain": [
       "| ranking_regularization         | Rank-based Regularization Weight                 | 0.25     |"
      ]
     },
     "metadata": {},
     "output_type": "display_data"
    },
    {
     "data": {
      "text/html": [
       "<pre>| max_iterations                 | Maximum Number of Iterations                     | 25       |</pre>"
      ],
      "text/plain": [
       "| max_iterations                 | Maximum Number of Iterations                     | 25       |"
      ]
     },
     "metadata": {},
     "output_type": "display_data"
    },
    {
     "data": {
      "text/html": [
       "<pre>+--------------------------------+--------------------------------------------------+----------+</pre>"
      ],
      "text/plain": [
       "+--------------------------------+--------------------------------------------------+----------+"
      ]
     },
     "metadata": {},
     "output_type": "display_data"
    },
    {
     "data": {
      "text/html": [
       "<pre>  Optimizing model using SGD; tuning step size.</pre>"
      ],
      "text/plain": [
       "  Optimizing model using SGD; tuning step size."
      ]
     },
     "metadata": {},
     "output_type": "display_data"
    },
    {
     "data": {
      "text/html": [
       "<pre>  Using 15170 / 121367 points for tuning the step size.</pre>"
      ],
      "text/plain": [
       "  Using 15170 / 121367 points for tuning the step size."
      ]
     },
     "metadata": {},
     "output_type": "display_data"
    },
    {
     "data": {
      "text/html": [
       "<pre>+---------+-------------------+------------------------------------------+</pre>"
      ],
      "text/plain": [
       "+---------+-------------------+------------------------------------------+"
      ]
     },
     "metadata": {},
     "output_type": "display_data"
    },
    {
     "data": {
      "text/html": [
       "<pre>| Attempt | Initial Step Size | Estimated Objective Value                |</pre>"
      ],
      "text/plain": [
       "| Attempt | Initial Step Size | Estimated Objective Value                |"
      ]
     },
     "metadata": {},
     "output_type": "display_data"
    },
    {
     "data": {
      "text/html": [
       "<pre>+---------+-------------------+------------------------------------------+</pre>"
      ],
      "text/plain": [
       "+---------+-------------------+------------------------------------------+"
      ]
     },
     "metadata": {},
     "output_type": "display_data"
    },
    {
     "data": {
      "text/html": [
       "<pre>| 0       | 25                | Not Viable                               |</pre>"
      ],
      "text/plain": [
       "| 0       | 25                | Not Viable                               |"
      ]
     },
     "metadata": {},
     "output_type": "display_data"
    },
    {
     "data": {
      "text/html": [
       "<pre>| 1       | 6.25              | Not Viable                               |</pre>"
      ],
      "text/plain": [
       "| 1       | 6.25              | Not Viable                               |"
      ]
     },
     "metadata": {},
     "output_type": "display_data"
    },
    {
     "data": {
      "text/html": [
       "<pre>| 2       | 1.5625            | Not Viable                               |</pre>"
      ],
      "text/plain": [
       "| 2       | 1.5625            | Not Viable                               |"
      ]
     },
     "metadata": {},
     "output_type": "display_data"
    },
    {
     "data": {
      "text/html": [
       "<pre>| 3       | 0.390625          | Not Viable                               |</pre>"
      ],
      "text/plain": [
       "| 3       | 0.390625          | Not Viable                               |"
      ]
     },
     "metadata": {},
     "output_type": "display_data"
    },
    {
     "data": {
      "text/html": [
       "<pre>| 4       | 0.0976562         | 11.216                                   |</pre>"
      ],
      "text/plain": [
       "| 4       | 0.0976562         | 11.216                                   |"
      ]
     },
     "metadata": {},
     "output_type": "display_data"
    },
    {
     "data": {
      "text/html": [
       "<pre>| 5       | 0.0488281         | 22.4937                                  |</pre>"
      ],
      "text/plain": [
       "| 5       | 0.0488281         | 22.4937                                  |"
      ]
     },
     "metadata": {},
     "output_type": "display_data"
    },
    {
     "data": {
      "text/html": [
       "<pre>+---------+-------------------+------------------------------------------+</pre>"
      ],
      "text/plain": [
       "+---------+-------------------+------------------------------------------+"
      ]
     },
     "metadata": {},
     "output_type": "display_data"
    },
    {
     "data": {
      "text/html": [
       "<pre>| Final   | 0.0976562         | 11.216                                   |</pre>"
      ],
      "text/plain": [
       "| Final   | 0.0976562         | 11.216                                   |"
      ]
     },
     "metadata": {},
     "output_type": "display_data"
    },
    {
     "data": {
      "text/html": [
       "<pre>+---------+-------------------+------------------------------------------+</pre>"
      ],
      "text/plain": [
       "+---------+-------------------+------------------------------------------+"
      ]
     },
     "metadata": {},
     "output_type": "display_data"
    },
    {
     "data": {
      "text/html": [
       "<pre>Starting Optimization.</pre>"
      ],
      "text/plain": [
       "Starting Optimization."
      ]
     },
     "metadata": {},
     "output_type": "display_data"
    },
    {
     "data": {
      "text/html": [
       "<pre>+---------+--------------+-------------------+-----------------------+-------------+</pre>"
      ],
      "text/plain": [
       "+---------+--------------+-------------------+-----------------------+-------------+"
      ]
     },
     "metadata": {},
     "output_type": "display_data"
    },
    {
     "data": {
      "text/html": [
       "<pre>| Iter.   | Elapsed Time | Approx. Objective | Approx. Training RMSE | Step Size   |</pre>"
      ],
      "text/plain": [
       "| Iter.   | Elapsed Time | Approx. Objective | Approx. Training RMSE | Step Size   |"
      ]
     },
     "metadata": {},
     "output_type": "display_data"
    },
    {
     "data": {
      "text/html": [
       "<pre>+---------+--------------+-------------------+-----------------------+-------------+</pre>"
      ],
      "text/plain": [
       "+---------+--------------+-------------------+-----------------------+-------------+"
      ]
     },
     "metadata": {},
     "output_type": "display_data"
    },
    {
     "data": {
      "text/html": [
       "<pre>| Initial | 93us         | 31.4452           | 4.00494               |             |</pre>"
      ],
      "text/plain": [
       "| Initial | 93us         | 31.4452           | 4.00494               |             |"
      ]
     },
     "metadata": {},
     "output_type": "display_data"
    },
    {
     "data": {
      "text/html": [
       "<pre>+---------+--------------+-------------------+-----------------------+-------------+</pre>"
      ],
      "text/plain": [
       "+---------+--------------+-------------------+-----------------------+-------------+"
      ]
     },
     "metadata": {},
     "output_type": "display_data"
    },
    {
     "data": {
      "text/html": [
       "<pre>| 1       | 444.908ms    | DIVERGED          | DIVERGED              | 0.0976562   |</pre>"
      ],
      "text/plain": [
       "| 1       | 444.908ms    | DIVERGED          | DIVERGED              | 0.0976562   |"
      ]
     },
     "metadata": {},
     "output_type": "display_data"
    },
    {
     "data": {
      "text/html": [
       "<pre>| RESET   | 571.066ms    | 31.4452           | 4.00494               |             |</pre>"
      ],
      "text/plain": [
       "| RESET   | 571.066ms    | 31.4452           | 4.00494               |             |"
      ]
     },
     "metadata": {},
     "output_type": "display_data"
    },
    {
     "data": {
      "text/html": [
       "<pre>| 1       | 870.21ms     | DIVERGED          | DIVERGED              | 0.0488281   |</pre>"
      ],
      "text/plain": [
       "| 1       | 870.21ms     | DIVERGED          | DIVERGED              | 0.0488281   |"
      ]
     },
     "metadata": {},
     "output_type": "display_data"
    },
    {
     "data": {
      "text/html": [
       "<pre>| RESET   | 947.376ms    | 31.4452           | 4.00494               |             |</pre>"
      ],
      "text/plain": [
       "| RESET   | 947.376ms    | 31.4452           | 4.00494               |             |"
      ]
     },
     "metadata": {},
     "output_type": "display_data"
    },
    {
     "data": {
      "text/html": [
       "<pre>| 1       | 1.21s        | 27.5342           | 4.0581                | 0.0244141   |</pre>"
      ],
      "text/plain": [
       "| 1       | 1.21s        | 27.5342           | 4.0581                | 0.0244141   |"
      ]
     },
     "metadata": {},
     "output_type": "display_data"
    },
    {
     "data": {
      "text/html": [
       "<pre>| 2       | 1.38s        | 25.9026           | 3.95339               | 0.0145167   |</pre>"
      ],
      "text/plain": [
       "| 2       | 1.38s        | 25.9026           | 3.95339               | 0.0145167   |"
      ]
     },
     "metadata": {},
     "output_type": "display_data"
    },
    {
     "data": {
      "text/html": [
       "<pre>| 3       | 1.57s        | 25.0369           | 3.82763               | 0.0107102   |</pre>"
      ],
      "text/plain": [
       "| 3       | 1.57s        | 25.0369           | 3.82763               | 0.0107102   |"
      ]
     },
     "metadata": {},
     "output_type": "display_data"
    },
    {
     "data": {
      "text/html": [
       "<pre>| 4       | 1.91s        | 24.291            | 3.71112               | 0.00863167  |</pre>"
      ],
      "text/plain": [
       "| 4       | 1.91s        | 24.291            | 3.71112               | 0.00863167  |"
      ]
     },
     "metadata": {},
     "output_type": "display_data"
    },
    {
     "data": {
      "text/html": [
       "<pre>| 5       | 2.33s        | 23.37             | 3.61009               | 0.00730151  |</pre>"
      ],
      "text/plain": [
       "| 5       | 2.33s        | 23.37             | 3.61009               | 0.00730151  |"
      ]
     },
     "metadata": {},
     "output_type": "display_data"
    },
    {
     "data": {
      "text/html": [
       "<pre>| 6       | 2.56s        | 22.2794           | 3.44261               | 0.00636835  |</pre>"
      ],
      "text/plain": [
       "| 6       | 2.56s        | 22.2794           | 3.44261               | 0.00636835  |"
      ]
     },
     "metadata": {},
     "output_type": "display_data"
    },
    {
     "data": {
      "text/html": [
       "<pre>| 8       | 2.94s        | 19.929            | 3.13607               | 0.00513242  |</pre>"
      ],
      "text/plain": [
       "| 8       | 2.94s        | 19.929            | 3.13607               | 0.00513242  |"
      ]
     },
     "metadata": {},
     "output_type": "display_data"
    },
    {
     "data": {
      "text/html": [
       "<pre>| 11      | 3.61s        | 16.5856           | 2.64397               | 0.00404199  |</pre>"
      ],
      "text/plain": [
       "| 11      | 3.61s        | 16.5856           | 2.64397               | 0.00404199  |"
      ]
     },
     "metadata": {},
     "output_type": "display_data"
    },
    {
     "data": {
      "text/html": [
       "<pre>| 13      | 3.86s        | 14.8916           | 2.39688               | 0.00356601  |</pre>"
      ],
      "text/plain": [
       "| 13      | 3.86s        | 14.8916           | 2.39688               | 0.00356601  |"
      ]
     },
     "metadata": {},
     "output_type": "display_data"
    },
    {
     "data": {
      "text/html": [
       "<pre>| 18      | 4.50s        | 12.0914           | 2.01071               | 0.00279374  |</pre>"
      ],
      "text/plain": [
       "| 18      | 4.50s        | 12.0914           | 2.01071               | 0.00279374  |"
      ]
     },
     "metadata": {},
     "output_type": "display_data"
    },
    {
     "data": {
      "text/html": [
       "<pre>| 23      | 5.17s        | 10.6099           | 1.83637               | 0.00232458  |</pre>"
      ],
      "text/plain": [
       "| 23      | 5.17s        | 10.6099           | 1.83637               | 0.00232458  |"
      ]
     },
     "metadata": {},
     "output_type": "display_data"
    },
    {
     "data": {
      "text/html": [
       "<pre>+---------+--------------+-------------------+-----------------------+-------------+</pre>"
      ],
      "text/plain": [
       "+---------+--------------+-------------------+-----------------------+-------------+"
      ]
     },
     "metadata": {},
     "output_type": "display_data"
    },
    {
     "data": {
      "text/html": [
       "<pre>Optimization Complete: Maximum number of passes through the data reached.</pre>"
      ],
      "text/plain": [
       "Optimization Complete: Maximum number of passes through the data reached."
      ]
     },
     "metadata": {},
     "output_type": "display_data"
    },
    {
     "data": {
      "text/html": [
       "<pre>Computing final objective value and training RMSE.</pre>"
      ],
      "text/plain": [
       "Computing final objective value and training RMSE."
      ]
     },
     "metadata": {},
     "output_type": "display_data"
    },
    {
     "data": {
      "text/html": [
       "<pre>       Final objective value: 9.69268</pre>"
      ],
      "text/plain": [
       "       Final objective value: 9.69268"
      ]
     },
     "metadata": {},
     "output_type": "display_data"
    },
    {
     "data": {
      "text/html": [
       "<pre>       Final training RMSE: 1.60987</pre>"
      ],
      "text/plain": [
       "       Final training RMSE: 1.60987"
      ]
     },
     "metadata": {},
     "output_type": "display_data"
    }
   ],
   "source": [
    "#build a model that predicts using ratings\n",
    "actions = dfRating\n",
    "\n",
    "high_rated_data = actions[actions[\"BookRating\"] >= 5]\n",
    "low_rated_data = actions[actions[\"BookRating\"] < 5]\n",
    "\n",
    "#train_data_1, test_data = gl.recommender.random_split_by_user(\n",
    "#high_rated_data, user_id='user', item_id='movie')\n",
    "#train_data = train_data_1.append(low_rated_data)\n",
    "\n",
    "training_data_2, validation_data_2 = gl.recommender.util.random_split_by_user(high_rated_data, user_id='UserID', item_id='ISBN')\n",
    "train_data = training_data_2.append(low_rated_data)\n",
    "model_predict_rating = gl.recommender.create(train_data, user_id='UserID', item_id='ISBN', target= 'BookRating')"
   ]
  },
  {
   "cell_type": "code",
   "execution_count": 26,
   "metadata": {
    "collapsed": false
   },
   "outputs": [
    {
     "data": {
      "text/html": [
       "<pre>recommendations finished on 1000/30188 queries. users per second: 64766.8</pre>"
      ],
      "text/plain": [
       "recommendations finished on 1000/30188 queries. users per second: 64766.8"
      ]
     },
     "metadata": {},
     "output_type": "display_data"
    },
    {
     "data": {
      "text/html": [
       "<pre>recommendations finished on 2000/30188 queries. users per second: 78805.3</pre>"
      ],
      "text/plain": [
       "recommendations finished on 2000/30188 queries. users per second: 78805.3"
      ]
     },
     "metadata": {},
     "output_type": "display_data"
    },
    {
     "data": {
      "text/html": [
       "<pre>recommendations finished on 3000/30188 queries. users per second: 87176.4</pre>"
      ],
      "text/plain": [
       "recommendations finished on 3000/30188 queries. users per second: 87176.4"
      ]
     },
     "metadata": {},
     "output_type": "display_data"
    },
    {
     "data": {
      "text/html": [
       "<pre>recommendations finished on 4000/30188 queries. users per second: 89782.7</pre>"
      ],
      "text/plain": [
       "recommendations finished on 4000/30188 queries. users per second: 89782.7"
      ]
     },
     "metadata": {},
     "output_type": "display_data"
    },
    {
     "data": {
      "text/html": [
       "<pre>recommendations finished on 5000/30188 queries. users per second: 86428.9</pre>"
      ],
      "text/plain": [
       "recommendations finished on 5000/30188 queries. users per second: 86428.9"
      ]
     },
     "metadata": {},
     "output_type": "display_data"
    },
    {
     "data": {
      "text/html": [
       "<pre>recommendations finished on 6000/30188 queries. users per second: 80534.8</pre>"
      ],
      "text/plain": [
       "recommendations finished on 6000/30188 queries. users per second: 80534.8"
      ]
     },
     "metadata": {},
     "output_type": "display_data"
    },
    {
     "data": {
      "text/html": [
       "<pre>recommendations finished on 7000/30188 queries. users per second: 78921.3</pre>"
      ],
      "text/plain": [
       "recommendations finished on 7000/30188 queries. users per second: 78921.3"
      ]
     },
     "metadata": {},
     "output_type": "display_data"
    },
    {
     "data": {
      "text/html": [
       "<pre>recommendations finished on 8000/30188 queries. users per second: 74197.7</pre>"
      ],
      "text/plain": [
       "recommendations finished on 8000/30188 queries. users per second: 74197.7"
      ]
     },
     "metadata": {},
     "output_type": "display_data"
    },
    {
     "data": {
      "text/html": [
       "<pre>recommendations finished on 9000/30188 queries. users per second: 72956</pre>"
      ],
      "text/plain": [
       "recommendations finished on 9000/30188 queries. users per second: 72956"
      ]
     },
     "metadata": {},
     "output_type": "display_data"
    },
    {
     "data": {
      "text/html": [
       "<pre>recommendations finished on 10000/30188 queries. users per second: 70678.4</pre>"
      ],
      "text/plain": [
       "recommendations finished on 10000/30188 queries. users per second: 70678.4"
      ]
     },
     "metadata": {},
     "output_type": "display_data"
    },
    {
     "data": {
      "text/html": [
       "<pre>recommendations finished on 11000/30188 queries. users per second: 69789</pre>"
      ],
      "text/plain": [
       "recommendations finished on 11000/30188 queries. users per second: 69789"
      ]
     },
     "metadata": {},
     "output_type": "display_data"
    },
    {
     "data": {
      "text/html": [
       "<pre>recommendations finished on 12000/30188 queries. users per second: 68147.4</pre>"
      ],
      "text/plain": [
       "recommendations finished on 12000/30188 queries. users per second: 68147.4"
      ]
     },
     "metadata": {},
     "output_type": "display_data"
    },
    {
     "data": {
      "text/html": [
       "<pre>recommendations finished on 13000/30188 queries. users per second: 65488.2</pre>"
      ],
      "text/plain": [
       "recommendations finished on 13000/30188 queries. users per second: 65488.2"
      ]
     },
     "metadata": {},
     "output_type": "display_data"
    },
    {
     "data": {
      "text/html": [
       "<pre>recommendations finished on 14000/30188 queries. users per second: 60093.3</pre>"
      ],
      "text/plain": [
       "recommendations finished on 14000/30188 queries. users per second: 60093.3"
      ]
     },
     "metadata": {},
     "output_type": "display_data"
    },
    {
     "data": {
      "text/html": [
       "<pre>recommendations finished on 15000/30188 queries. users per second: 58236.8</pre>"
      ],
      "text/plain": [
       "recommendations finished on 15000/30188 queries. users per second: 58236.8"
      ]
     },
     "metadata": {},
     "output_type": "display_data"
    },
    {
     "data": {
      "text/html": [
       "<pre>recommendations finished on 16000/30188 queries. users per second: 55025.4</pre>"
      ],
      "text/plain": [
       "recommendations finished on 16000/30188 queries. users per second: 55025.4"
      ]
     },
     "metadata": {},
     "output_type": "display_data"
    },
    {
     "data": {
      "text/html": [
       "<pre>recommendations finished on 17000/30188 queries. users per second: 55976.1</pre>"
      ],
      "text/plain": [
       "recommendations finished on 17000/30188 queries. users per second: 55976.1"
      ]
     },
     "metadata": {},
     "output_type": "display_data"
    },
    {
     "data": {
      "text/html": [
       "<pre>recommendations finished on 18000/30188 queries. users per second: 57032.1</pre>"
      ],
      "text/plain": [
       "recommendations finished on 18000/30188 queries. users per second: 57032.1"
      ]
     },
     "metadata": {},
     "output_type": "display_data"
    },
    {
     "data": {
      "text/html": [
       "<pre>recommendations finished on 19000/30188 queries. users per second: 57836.9</pre>"
      ],
      "text/plain": [
       "recommendations finished on 19000/30188 queries. users per second: 57836.9"
      ]
     },
     "metadata": {},
     "output_type": "display_data"
    },
    {
     "data": {
      "text/html": [
       "<pre>recommendations finished on 20000/30188 queries. users per second: 57925.7</pre>"
      ],
      "text/plain": [
       "recommendations finished on 20000/30188 queries. users per second: 57925.7"
      ]
     },
     "metadata": {},
     "output_type": "display_data"
    },
    {
     "data": {
      "text/html": [
       "<pre>recommendations finished on 21000/30188 queries. users per second: 58341.4</pre>"
      ],
      "text/plain": [
       "recommendations finished on 21000/30188 queries. users per second: 58341.4"
      ]
     },
     "metadata": {},
     "output_type": "display_data"
    },
    {
     "data": {
      "text/html": [
       "<pre>recommendations finished on 22000/30188 queries. users per second: 58541</pre>"
      ],
      "text/plain": [
       "recommendations finished on 22000/30188 queries. users per second: 58541"
      ]
     },
     "metadata": {},
     "output_type": "display_data"
    },
    {
     "data": {
      "text/html": [
       "<pre>recommendations finished on 23000/30188 queries. users per second: 58899</pre>"
      ],
      "text/plain": [
       "recommendations finished on 23000/30188 queries. users per second: 58899"
      ]
     },
     "metadata": {},
     "output_type": "display_data"
    },
    {
     "data": {
      "text/html": [
       "<pre>recommendations finished on 24000/30188 queries. users per second: 59651.9</pre>"
      ],
      "text/plain": [
       "recommendations finished on 24000/30188 queries. users per second: 59651.9"
      ]
     },
     "metadata": {},
     "output_type": "display_data"
    },
    {
     "data": {
      "text/html": [
       "<pre>recommendations finished on 25000/30188 queries. users per second: 60129.3</pre>"
      ],
      "text/plain": [
       "recommendations finished on 25000/30188 queries. users per second: 60129.3"
      ]
     },
     "metadata": {},
     "output_type": "display_data"
    },
    {
     "data": {
      "text/html": [
       "<pre>recommendations finished on 26000/30188 queries. users per second: 59579.9</pre>"
      ],
      "text/plain": [
       "recommendations finished on 26000/30188 queries. users per second: 59579.9"
      ]
     },
     "metadata": {},
     "output_type": "display_data"
    },
    {
     "data": {
      "text/html": [
       "<pre>recommendations finished on 27000/30188 queries. users per second: 59535.2</pre>"
      ],
      "text/plain": [
       "recommendations finished on 27000/30188 queries. users per second: 59535.2"
      ]
     },
     "metadata": {},
     "output_type": "display_data"
    },
    {
     "data": {
      "text/html": [
       "<pre>recommendations finished on 28000/30188 queries. users per second: 59610</pre>"
      ],
      "text/plain": [
       "recommendations finished on 28000/30188 queries. users per second: 59610"
      ]
     },
     "metadata": {},
     "output_type": "display_data"
    },
    {
     "data": {
      "text/html": [
       "<pre>recommendations finished on 29000/30188 queries. users per second: 59726.1</pre>"
      ],
      "text/plain": [
       "recommendations finished on 29000/30188 queries. users per second: 59726.1"
      ]
     },
     "metadata": {},
     "output_type": "display_data"
    },
    {
     "data": {
      "text/html": [
       "<pre>recommendations finished on 30000/30188 queries. users per second: 58785</pre>"
      ],
      "text/plain": [
       "recommendations finished on 30000/30188 queries. users per second: 58785"
      ]
     },
     "metadata": {},
     "output_type": "display_data"
    }
   ],
   "source": [
    "results_predict_rating = model_predict_rating.recommend()"
   ]
  },
  {
   "cell_type": "code",
   "execution_count": 33,
   "metadata": {
    "collapsed": true
   },
   "outputs": [],
   "source": [
    "model_predict_rating.save('my_model_predict_rating')"
   ]
  },
  {
   "cell_type": "code",
   "execution_count": 34,
   "metadata": {
    "collapsed": true
   },
   "outputs": [],
   "source": [
    "model_predict_rating = gl.load_model('my_model_predict_rating')"
   ]
  },
  {
   "cell_type": "code",
   "execution_count": 27,
   "metadata": {
    "collapsed": false
   },
   "outputs": [
    {
     "data": {
      "text/plain": [
       "<bound method RankingFactorizationRecommender.get of Class                            : RankingFactorizationRecommender\n",
       "\n",
       "Schema\n",
       "------\n",
       "User ID                          : UserID\n",
       "Item ID                          : ISBN\n",
       "Target                           : BookRating\n",
       "Additional observation features  : 0\n",
       "User side features               : []\n",
       "Item side features               : []\n",
       "\n",
       "Statistics\n",
       "----------\n",
       "Number of observations           : 121367\n",
       "Number of users                  : 30188\n",
       "Number of items                  : 847\n",
       "\n",
       "Training summary\n",
       "----------------\n",
       "Training time                    : 7.1356\n",
       "\n",
       "Model Parameters\n",
       "----------------\n",
       "Model class                      : RankingFactorizationRecommender\n",
       "num_factors                      : 32\n",
       "binary_target                    : 0\n",
       "side_data_factorization          : 1\n",
       "solver                           : auto\n",
       "nmf                              : 0\n",
       "max_iterations                   : 25\n",
       "\n",
       "Regularization Settings\n",
       "-----------------------\n",
       "regularization                   : 0.0\n",
       "regularization_type              : normal\n",
       "linear_regularization            : 0.0\n",
       "ranking_regularization           : 0.25\n",
       "unobserved_rating_value          : -1.79769313486e+308\n",
       "num_sampled_negative_examples    : 4\n",
       "ials_confidence_scaling_type     : auto\n",
       "ials_confidence_scaling_factor   : 1\n",
       "\n",
       "Optimization Settings\n",
       "---------------------\n",
       "init_random_sigma                : 0.01\n",
       "sgd_convergence_interval         : 4\n",
       "sgd_convergence_threshold        : 0.0\n",
       "sgd_max_trial_iterations         : 5\n",
       "sgd_sampling_block_size          : 131072\n",
       "sgd_step_adjustment_interval     : 4\n",
       "sgd_step_size                    : 0.0\n",
       "sgd_trial_sample_minimum_size    : 10000\n",
       "sgd_trial_sample_proportion      : 0.125\n",
       "step_size_decrease_rate          : 0.75\n",
       "additional_iterations_if_unhealthy : 5\n",
       "adagrad_momentum_weighting       : 0.9\n",
       "num_tempering_iterations         : 4\n",
       "tempering_regularization_start_value : 0.0\n",
       "track_exact_loss                 : 0\n",
       ">"
      ]
     },
     "execution_count": 27,
     "metadata": {},
     "output_type": "execute_result"
    }
   ],
   "source": [
    "model_predict_rating.get"
   ]
  },
  {
   "cell_type": "code",
   "execution_count": 28,
   "metadata": {
    "collapsed": true
   },
   "outputs": [],
   "source": [
    "similar_items_predict_rating = model_predict_rating.get_similar_items(my_list_of_items[:10], k=20)\n"
   ]
  },
  {
   "cell_type": "code",
   "execution_count": 29,
   "metadata": {
    "collapsed": false
   },
   "outputs": [
    {
     "name": "stdout",
     "output_type": "stream",
     "text": [
      "+------------+------------+-----------------+------+\n",
      "|    ISBN    |  similar   |      score      | rank |\n",
      "+------------+------------+-----------------+------+\n",
      "| 0971880107 | 0316666343 | 0.0523138642311 |  1   |\n",
      "| 0971880107 | 044023722X | 0.0348584055901 |  2   |\n",
      "| 0971880107 | 0446364193 | 0.0329024791718 |  3   |\n",
      "| 0971880107 | 0142001740 | 0.0323660969734 |  4   |\n",
      "| 0971880107 | 0380731851 | 0.0318396091461 |  5   |\n",
      "| 0971880107 | 0316601950 | 0.0306122303009 |  6   |\n",
      "| 0971880107 | 059035342X | 0.0295790433884 |  7   |\n",
      "| 0971880107 | 0553572997 | 0.0288350582123 |  8   |\n",
      "| 0971880107 | 0671003755 | 0.0275545120239 |  9   |\n",
      "| 0971880107 | 0446605484 | 0.0260047316551 |  10  |\n",
      "+------------+------------+-----------------+------+\n",
      "[180 rows x 4 columns]\n",
      "Note: Only the head of the SFrame is printed.\n",
      "You can use print_rows(num_rows=m, num_columns=n) to print more rows and columns.\n"
     ]
    },
    {
     "data": {
      "text/html": [
       "<div style=\"max-height:1000px;max-width:1500px;overflow:auto;\"><table frame=\"box\" rules=\"cols\">\n",
       "    <tr>\n",
       "        <th style=\"padding-left: 1em; padding-right: 1em; text-align: center\">ISBN</th>\n",
       "        <th style=\"padding-left: 1em; padding-right: 1em; text-align: center\">similar</th>\n",
       "        <th style=\"padding-left: 1em; padding-right: 1em; text-align: center\">score</th>\n",
       "        <th style=\"padding-left: 1em; padding-right: 1em; text-align: center\">rank</th>\n",
       "    </tr>\n",
       "    <tr>\n",
       "        <td style=\"padding-left: 1em; padding-right: 1em; text-align: center; vertical-align: top\">0971880107</td>\n",
       "        <td style=\"padding-left: 1em; padding-right: 1em; text-align: center; vertical-align: top\">0060391626</td>\n",
       "        <td style=\"padding-left: 1em; padding-right: 1em; text-align: center; vertical-align: top\">0.498635023832</td>\n",
       "        <td style=\"padding-left: 1em; padding-right: 1em; text-align: center; vertical-align: top\">1</td>\n",
       "    </tr>\n",
       "    <tr>\n",
       "        <td style=\"padding-left: 1em; padding-right: 1em; text-align: center; vertical-align: top\">0971880107</td>\n",
       "        <td style=\"padding-left: 1em; padding-right: 1em; text-align: center; vertical-align: top\">0375707972</td>\n",
       "        <td style=\"padding-left: 1em; padding-right: 1em; text-align: center; vertical-align: top\">0.479666113853</td>\n",
       "        <td style=\"padding-left: 1em; padding-right: 1em; text-align: center; vertical-align: top\">2</td>\n",
       "    </tr>\n",
       "    <tr>\n",
       "        <td style=\"padding-left: 1em; padding-right: 1em; text-align: center; vertical-align: top\">0971880107</td>\n",
       "        <td style=\"padding-left: 1em; padding-right: 1em; text-align: center; vertical-align: top\">037570504X</td>\n",
       "        <td style=\"padding-left: 1em; padding-right: 1em; text-align: center; vertical-align: top\">0.46335247159</td>\n",
       "        <td style=\"padding-left: 1em; padding-right: 1em; text-align: center; vertical-align: top\">3</td>\n",
       "    </tr>\n",
       "    <tr>\n",
       "        <td style=\"padding-left: 1em; padding-right: 1em; text-align: center; vertical-align: top\">0971880107</td>\n",
       "        <td style=\"padding-left: 1em; padding-right: 1em; text-align: center; vertical-align: top\">0425147584</td>\n",
       "        <td style=\"padding-left: 1em; padding-right: 1em; text-align: center; vertical-align: top\">0.453137546778</td>\n",
       "        <td style=\"padding-left: 1em; padding-right: 1em; text-align: center; vertical-align: top\">4</td>\n",
       "    </tr>\n",
       "    <tr>\n",
       "        <td style=\"padding-left: 1em; padding-right: 1em; text-align: center; vertical-align: top\">0971880107</td>\n",
       "        <td style=\"padding-left: 1em; padding-right: 1em; text-align: center; vertical-align: top\">0679744398</td>\n",
       "        <td style=\"padding-left: 1em; padding-right: 1em; text-align: center; vertical-align: top\">0.448082059622</td>\n",
       "        <td style=\"padding-left: 1em; padding-right: 1em; text-align: center; vertical-align: top\">5</td>\n",
       "    </tr>\n",
       "    <tr>\n",
       "        <td style=\"padding-left: 1em; padding-right: 1em; text-align: center; vertical-align: top\">0971880107</td>\n",
       "        <td style=\"padding-left: 1em; padding-right: 1em; text-align: center; vertical-align: top\">1400031044</td>\n",
       "        <td style=\"padding-left: 1em; padding-right: 1em; text-align: center; vertical-align: top\">0.44700551033</td>\n",
       "        <td style=\"padding-left: 1em; padding-right: 1em; text-align: center; vertical-align: top\">6</td>\n",
       "    </tr>\n",
       "    <tr>\n",
       "        <td style=\"padding-left: 1em; padding-right: 1em; text-align: center; vertical-align: top\">0971880107</td>\n",
       "        <td style=\"padding-left: 1em; padding-right: 1em; text-align: center; vertical-align: top\">067940712X</td>\n",
       "        <td style=\"padding-left: 1em; padding-right: 1em; text-align: center; vertical-align: top\">0.429978340864</td>\n",
       "        <td style=\"padding-left: 1em; padding-right: 1em; text-align: center; vertical-align: top\">7</td>\n",
       "    </tr>\n",
       "    <tr>\n",
       "        <td style=\"padding-left: 1em; padding-right: 1em; text-align: center; vertical-align: top\">0971880107</td>\n",
       "        <td style=\"padding-left: 1em; padding-right: 1em; text-align: center; vertical-align: top\">0446604844</td>\n",
       "        <td style=\"padding-left: 1em; padding-right: 1em; text-align: center; vertical-align: top\">0.417849600315</td>\n",
       "        <td style=\"padding-left: 1em; padding-right: 1em; text-align: center; vertical-align: top\">8</td>\n",
       "    </tr>\n",
       "    <tr>\n",
       "        <td style=\"padding-left: 1em; padding-right: 1em; text-align: center; vertical-align: top\">0971880107</td>\n",
       "        <td style=\"padding-left: 1em; padding-right: 1em; text-align: center; vertical-align: top\">0375706771</td>\n",
       "        <td style=\"padding-left: 1em; padding-right: 1em; text-align: center; vertical-align: top\">0.376031905413</td>\n",
       "        <td style=\"padding-left: 1em; padding-right: 1em; text-align: center; vertical-align: top\">9</td>\n",
       "    </tr>\n",
       "    <tr>\n",
       "        <td style=\"padding-left: 1em; padding-right: 1em; text-align: center; vertical-align: top\">0971880107</td>\n",
       "        <td style=\"padding-left: 1em; padding-right: 1em; text-align: center; vertical-align: top\">1573225789</td>\n",
       "        <td style=\"padding-left: 1em; padding-right: 1em; text-align: center; vertical-align: top\">0.373333930969</td>\n",
       "        <td style=\"padding-left: 1em; padding-right: 1em; text-align: center; vertical-align: top\">10</td>\n",
       "    </tr>\n",
       "</table>\n",
       "[180 rows x 4 columns]<br/>Note: Only the head of the SFrame is printed.<br/>You can use print_rows(num_rows=m, num_columns=n) to print more rows and columns.\n",
       "</div>"
      ],
      "text/plain": [
       "Columns:\n",
       "\tISBN\tstr\n",
       "\tsimilar\tstr\n",
       "\tscore\tfloat\n",
       "\trank\tint\n",
       "\n",
       "Rows: 180\n",
       "\n",
       "Data:\n",
       "+------------+------------+----------------+------+\n",
       "|    ISBN    |  similar   |     score      | rank |\n",
       "+------------+------------+----------------+------+\n",
       "| 0971880107 | 0060391626 | 0.498635023832 |  1   |\n",
       "| 0971880107 | 0375707972 | 0.479666113853 |  2   |\n",
       "| 0971880107 | 037570504X | 0.46335247159  |  3   |\n",
       "| 0971880107 | 0425147584 | 0.453137546778 |  4   |\n",
       "| 0971880107 | 0679744398 | 0.448082059622 |  5   |\n",
       "| 0971880107 | 1400031044 | 0.44700551033  |  6   |\n",
       "| 0971880107 | 067940712X | 0.429978340864 |  7   |\n",
       "| 0971880107 | 0446604844 | 0.417849600315 |  8   |\n",
       "| 0971880107 | 0375706771 | 0.376031905413 |  9   |\n",
       "| 0971880107 | 1573225789 | 0.373333930969 |  10  |\n",
       "+------------+------------+----------------+------+\n",
       "[180 rows x 4 columns]\n",
       "Note: Only the head of the SFrame is printed.\n",
       "You can use print_rows(num_rows=m, num_columns=n) to print more rows and columns."
      ]
     },
     "execution_count": 29,
     "metadata": {},
     "output_type": "execute_result"
    }
   ],
   "source": [
    "print similar_items\n",
    "similar_items_predict_rating"
   ]
  },
  {
   "cell_type": "code",
   "execution_count": 30,
   "metadata": {
    "collapsed": false
   },
   "outputs": [
    {
     "name": "stdout",
     "output_type": "stream",
     "text": [
      "+------------+--------------+------------+-------------------------------+-----------+\n",
      "|    ISBN    |   authors    | categories |         imageThumbnail        | pageCount |\n",
      "+------------+--------------+------------+-------------------------------+-----------+\n",
      "| 0971880107 | Rich Shapero |  Fiction   | http://books.google.com/bo... |    315    |\n",
      "+------------+--------------+------------+-------------------------------+-----------+\n",
      "+---------------+-------------+-------------------------------+-------------+\n",
      "| publishedDate |  publisher  |          textSnippet          |    title    |\n",
      "+---------------+-------------+-------------------------------+-------------+\n",
      "|      2004     | Too Far Pub | Newly graduated from colle... | Wild Animus |\n",
      "+---------------+-------------+-------------------------------+-------------+\n",
      "[? rows x 9 columns]\n",
      "Note: Only the head of the SFrame is printed. This SFrame is lazily evaluated.\n",
      "You can use sf.materialize() to force materialization.\n"
     ]
    },
    {
     "data": {
      "text/html": [
       "<div style=\"max-height:1000px;max-width:1500px;overflow:auto;\"><table frame=\"box\" rules=\"cols\">\n",
       "    <tr>\n",
       "        <th style=\"padding-left: 1em; padding-right: 1em; text-align: center\">ISBN</th>\n",
       "        <th style=\"padding-left: 1em; padding-right: 1em; text-align: center\">authors</th>\n",
       "        <th style=\"padding-left: 1em; padding-right: 1em; text-align: center\">categories</th>\n",
       "        <th style=\"padding-left: 1em; padding-right: 1em; text-align: center\">imageThumbnail</th>\n",
       "        <th style=\"padding-left: 1em; padding-right: 1em; text-align: center\">pageCount</th>\n",
       "        <th style=\"padding-left: 1em; padding-right: 1em; text-align: center\">publishedDate</th>\n",
       "    </tr>\n",
       "    <tr>\n",
       "        <td style=\"padding-left: 1em; padding-right: 1em; text-align: center; vertical-align: top\">0060391626</td>\n",
       "        <td style=\"padding-left: 1em; padding-right: 1em; text-align: center; vertical-align: top\">Wally Lamb</td>\n",
       "        <td style=\"padding-left: 1em; padding-right: 1em; text-align: center; vertical-align: top\">Fiction</td>\n",
       "        <td style=\"padding-left: 1em; padding-right: 1em; text-align: center; vertical-align: top\">http://books.google.com/b<br>ooks/content?id=gXk5w ...</td>\n",
       "        <td style=\"padding-left: 1em; padding-right: 1em; text-align: center; vertical-align: top\">901</td>\n",
       "        <td style=\"padding-left: 1em; padding-right: 1em; text-align: center; vertical-align: top\">1998-06-03</td>\n",
       "    </tr>\n",
       "</table>\n",
       "<table frame=\"box\" rules=\"cols\">\n",
       "    <tr>\n",
       "        <th style=\"padding-left: 1em; padding-right: 1em; text-align: center\">publisher</th>\n",
       "        <th style=\"padding-left: 1em; padding-right: 1em; text-align: center\">textSnippet</th>\n",
       "        <th style=\"padding-left: 1em; padding-right: 1em; text-align: center\">title</th>\n",
       "    </tr>\n",
       "    <tr>\n",
       "        <td style=\"padding-left: 1em; padding-right: 1em; text-align: center; vertical-align: top\">Cambridge University<br>Press ...</td>\n",
       "        <td style=\"padding-left: 1em; padding-right: 1em; text-align: center; vertical-align: top\">Dominick Birdsey, a<br>forty-year-old ...</td>\n",
       "        <td style=\"padding-left: 1em; padding-right: 1em; text-align: center; vertical-align: top\">I Know This Much Is True</td>\n",
       "    </tr>\n",
       "</table>\n",
       "[? rows x 9 columns]<br/>Note: Only the head of the SFrame is printed. This SFrame is lazily evaluated.<br/>You can use sf.materialize() to force materialization.\n",
       "</div>"
      ],
      "text/plain": [
       "Columns:\n",
       "\tISBN\tstr\n",
       "\tauthors\tstr\n",
       "\tcategories\tstr\n",
       "\timageThumbnail\tstr\n",
       "\tpageCount\tint\n",
       "\tpublishedDate\tstr\n",
       "\tpublisher\tstr\n",
       "\ttextSnippet\tstr\n",
       "\ttitle\tstr\n",
       "\n",
       "Rows: Unknown\n",
       "\n",
       "Data:\n",
       "+------------+------------+------------+-------------------------------+-----------+\n",
       "|    ISBN    |  authors   | categories |         imageThumbnail        | pageCount |\n",
       "+------------+------------+------------+-------------------------------+-----------+\n",
       "| 0060391626 | Wally Lamb |  Fiction   | http://books.google.com/bo... |    901    |\n",
       "+------------+------------+------------+-------------------------------+-----------+\n",
       "+---------------+----------------------------+-------------------------------+\n",
       "| publishedDate |         publisher          |          textSnippet          |\n",
       "+---------------+----------------------------+-------------------------------+\n",
       "|   1998-06-03  | Cambridge University Press | Dominick Birdsey, a forty-... |\n",
       "+---------------+----------------------------+-------------------------------+\n",
       "+--------------------------+\n",
       "|          title           |\n",
       "+--------------------------+\n",
       "| I Know This Much Is True |\n",
       "+--------------------------+\n",
       "[? rows x 9 columns]\n",
       "Note: Only the head of the SFrame is printed. This SFrame is lazily evaluated.\n",
       "You can use sf.materialize() to force materialization."
      ]
     },
     "execution_count": 30,
     "metadata": {},
     "output_type": "execute_result"
    }
   ],
   "source": [
    "print ISBNlookup('0971880107')\n",
    "ISBNlookup('0060391626')\n"
   ]
  },
  {
   "cell_type": "code",
   "execution_count": 39,
   "metadata": {
    "collapsed": false
   },
   "outputs": [
    {
     "data": {
      "text/plain": [
       "graphlab.data_structures.sframe.SFrame"
      ]
     },
     "execution_count": 39,
     "metadata": {},
     "output_type": "execute_result"
    }
   ],
   "source": [
    "type(validation_data_2)"
   ]
  },
  {
   "cell_type": "code",
   "execution_count": 31,
   "metadata": {
    "collapsed": false
   },
   "outputs": [
    {
     "data": {
      "text/html": [
       "<pre>Warning: The model was fit with 2 feature columns but only 1 were present during transform(). Proceeding with transform by ignoring the missing columns.</pre>"
      ],
      "text/plain": [
       "Warning: The model was fit with 2 feature columns but only 1 were present during transform(). Proceeding with transform by ignoring the missing columns."
      ]
     },
     "metadata": {},
     "output_type": "display_data"
    },
    {
     "data": {
      "text/html": [
       "<pre>Warning: The model was fit with 2 feature columns but only 1 were present during transform(). Proceeding with transform by ignoring the missing columns.</pre>"
      ],
      "text/plain": [
       "Warning: The model was fit with 2 feature columns but only 1 were present during transform(). Proceeding with transform by ignoring the missing columns."
      ]
     },
     "metadata": {},
     "output_type": "display_data"
    }
   ],
   "source": [
    "view_predicted_model = model_predict_rating.views.overview(validation_set = validation_data_2,\n",
    "                           user_data = user_data,\n",
    "                           user_name_column = 'UserID',\n",
    "                           item_data = items,\n",
    "                           item_name_column = 'title',\n",
    "                           item_url_column = 'imageThumbnail')\n",
    "view_predicted_model.show()"
   ]
  },
  {
   "cell_type": "markdown",
   "metadata": {
    "collapsed": true
   },
   "source": [
    "### Build a Jaccard model supplemented with item info"
   ]
  },
  {
   "cell_type": "code",
   "execution_count": 38,
   "metadata": {
    "collapsed": false
   },
   "outputs": [
    {
     "data": {
      "text/html": [
       "<pre>Recsys training: model = ranking_factorization_recommender</pre>"
      ],
      "text/plain": [
       "Recsys training: model = ranking_factorization_recommender"
      ]
     },
     "metadata": {},
     "output_type": "display_data"
    },
    {
     "data": {
      "text/html": [
       "<pre>Preparing data set.</pre>"
      ],
      "text/plain": [
       "Preparing data set."
      ]
     },
     "metadata": {},
     "output_type": "display_data"
    },
    {
     "data": {
      "text/html": [
       "<pre>    Data has 29455 observations with 7143 users and 847 items.</pre>"
      ],
      "text/plain": [
       "    Data has 29455 observations with 7143 users and 847 items."
      ]
     },
     "metadata": {},
     "output_type": "display_data"
    },
    {
     "data": {
      "text/html": [
       "<pre>    Data prepared in: 0.093721s</pre>"
      ],
      "text/plain": [
       "    Data prepared in: 0.093721s"
      ]
     },
     "metadata": {},
     "output_type": "display_data"
    },
    {
     "data": {
      "text/html": [
       "<pre>Training ranking_factorization_recommender for recommendations.</pre>"
      ],
      "text/plain": [
       "Training ranking_factorization_recommender for recommendations."
      ]
     },
     "metadata": {},
     "output_type": "display_data"
    },
    {
     "data": {
      "text/html": [
       "<pre>+--------------------------------+--------------------------------------------------+----------+</pre>"
      ],
      "text/plain": [
       "+--------------------------------+--------------------------------------------------+----------+"
      ]
     },
     "metadata": {},
     "output_type": "display_data"
    },
    {
     "data": {
      "text/html": [
       "<pre>| Parameter                      | Description                                      | Value    |</pre>"
      ],
      "text/plain": [
       "| Parameter                      | Description                                      | Value    |"
      ]
     },
     "metadata": {},
     "output_type": "display_data"
    },
    {
     "data": {
      "text/html": [
       "<pre>+--------------------------------+--------------------------------------------------+----------+</pre>"
      ],
      "text/plain": [
       "+--------------------------------+--------------------------------------------------+----------+"
      ]
     },
     "metadata": {},
     "output_type": "display_data"
    },
    {
     "data": {
      "text/html": [
       "<pre>| num_factors                    | Factor Dimension                                 | 32       |</pre>"
      ],
      "text/plain": [
       "| num_factors                    | Factor Dimension                                 | 32       |"
      ]
     },
     "metadata": {},
     "output_type": "display_data"
    },
    {
     "data": {
      "text/html": [
       "<pre>| regularization                 | L2 Regularization on Factors                     | 1e-09    |</pre>"
      ],
      "text/plain": [
       "| regularization                 | L2 Regularization on Factors                     | 1e-09    |"
      ]
     },
     "metadata": {},
     "output_type": "display_data"
    },
    {
     "data": {
      "text/html": [
       "<pre>| solver                         | Solver used for training                         | adagrad  |</pre>"
      ],
      "text/plain": [
       "| solver                         | Solver used for training                         | adagrad  |"
      ]
     },
     "metadata": {},
     "output_type": "display_data"
    },
    {
     "data": {
      "text/html": [
       "<pre>| linear_regularization          | L2 Regularization on Linear Coefficients         | 1e-09    |</pre>"
      ],
      "text/plain": [
       "| linear_regularization          | L2 Regularization on Linear Coefficients         | 1e-09    |"
      ]
     },
     "metadata": {},
     "output_type": "display_data"
    },
    {
     "data": {
      "text/html": [
       "<pre>| binary_target                  | Assume Binary Targets                            | True     |</pre>"
      ],
      "text/plain": [
       "| binary_target                  | Assume Binary Targets                            | True     |"
      ]
     },
     "metadata": {},
     "output_type": "display_data"
    },
    {
     "data": {
      "text/html": [
       "<pre>| side_data_factorization        | Assign Factors for Side Data                     | True     |</pre>"
      ],
      "text/plain": [
       "| side_data_factorization        | Assign Factors for Side Data                     | True     |"
      ]
     },
     "metadata": {},
     "output_type": "display_data"
    },
    {
     "data": {
      "text/html": [
       "<pre>| max_iterations                 | Maximum Number of Iterations                     | 25       |</pre>"
      ],
      "text/plain": [
       "| max_iterations                 | Maximum Number of Iterations                     | 25       |"
      ]
     },
     "metadata": {},
     "output_type": "display_data"
    },
    {
     "data": {
      "text/html": [
       "<pre>+--------------------------------+--------------------------------------------------+----------+</pre>"
      ],
      "text/plain": [
       "+--------------------------------+--------------------------------------------------+----------+"
      ]
     },
     "metadata": {},
     "output_type": "display_data"
    },
    {
     "data": {
      "text/html": [
       "<pre>  Optimizing model using SGD; tuning step size.</pre>"
      ],
      "text/plain": [
       "  Optimizing model using SGD; tuning step size."
      ]
     },
     "metadata": {},
     "output_type": "display_data"
    },
    {
     "data": {
      "text/html": [
       "<pre>  Using 10000 / 29455 points for tuning the step size.</pre>"
      ],
      "text/plain": [
       "  Using 10000 / 29455 points for tuning the step size."
      ]
     },
     "metadata": {},
     "output_type": "display_data"
    },
    {
     "data": {
      "text/html": [
       "<pre>+---------+-------------------+------------------------------------------+</pre>"
      ],
      "text/plain": [
       "+---------+-------------------+------------------------------------------+"
      ]
     },
     "metadata": {},
     "output_type": "display_data"
    },
    {
     "data": {
      "text/html": [
       "<pre>| Attempt | Initial Step Size | Estimated Objective Value                |</pre>"
      ],
      "text/plain": [
       "| Attempt | Initial Step Size | Estimated Objective Value                |"
      ]
     },
     "metadata": {},
     "output_type": "display_data"
    },
    {
     "data": {
      "text/html": [
       "<pre>+---------+-------------------+------------------------------------------+</pre>"
      ],
      "text/plain": [
       "+---------+-------------------+------------------------------------------+"
      ]
     },
     "metadata": {},
     "output_type": "display_data"
    },
    {
     "data": {
      "text/html": [
       "<pre>| 0       | 5                 | Not Viable                               |</pre>"
      ],
      "text/plain": [
       "| 0       | 5                 | Not Viable                               |"
      ]
     },
     "metadata": {},
     "output_type": "display_data"
    },
    {
     "data": {
      "text/html": [
       "<pre>| 1       | 1.25              | Not Viable                               |</pre>"
      ],
      "text/plain": [
       "| 1       | 1.25              | Not Viable                               |"
      ]
     },
     "metadata": {},
     "output_type": "display_data"
    },
    {
     "data": {
      "text/html": [
       "<pre>| 2       | 0.3125            | 1.25775                                  |</pre>"
      ],
      "text/plain": [
       "| 2       | 0.3125            | 1.25775                                  |"
      ]
     },
     "metadata": {},
     "output_type": "display_data"
    },
    {
     "data": {
      "text/html": [
       "<pre>| 3       | 0.15625           | 1.10784                                  |</pre>"
      ],
      "text/plain": [
       "| 3       | 0.15625           | 1.10784                                  |"
      ]
     },
     "metadata": {},
     "output_type": "display_data"
    },
    {
     "data": {
      "text/html": [
       "<pre>| 4       | 0.078125          | 1.18965                                  |</pre>"
      ],
      "text/plain": [
       "| 4       | 0.078125          | 1.18965                                  |"
      ]
     },
     "metadata": {},
     "output_type": "display_data"
    },
    {
     "data": {
      "text/html": [
       "<pre>| 5       | 0.0390625         | 1.33673                                  |</pre>"
      ],
      "text/plain": [
       "| 5       | 0.0390625         | 1.33673                                  |"
      ]
     },
     "metadata": {},
     "output_type": "display_data"
    },
    {
     "data": {
      "text/html": [
       "<pre>| 6       | 0.0195312         | 1.35241                                  |</pre>"
      ],
      "text/plain": [
       "| 6       | 0.0195312         | 1.35241                                  |"
      ]
     },
     "metadata": {},
     "output_type": "display_data"
    },
    {
     "data": {
      "text/html": [
       "<pre>+---------+-------------------+------------------------------------------+</pre>"
      ],
      "text/plain": [
       "+---------+-------------------+------------------------------------------+"
      ]
     },
     "metadata": {},
     "output_type": "display_data"
    },
    {
     "data": {
      "text/html": [
       "<pre>| Final   | 0.15625           | 1.10784                                  |</pre>"
      ],
      "text/plain": [
       "| Final   | 0.15625           | 1.10784                                  |"
      ]
     },
     "metadata": {},
     "output_type": "display_data"
    },
    {
     "data": {
      "text/html": [
       "<pre>+---------+-------------------+------------------------------------------+</pre>"
      ],
      "text/plain": [
       "+---------+-------------------+------------------------------------------+"
      ]
     },
     "metadata": {},
     "output_type": "display_data"
    },
    {
     "data": {
      "text/html": [
       "<pre>Starting Optimization.</pre>"
      ],
      "text/plain": [
       "Starting Optimization."
      ]
     },
     "metadata": {},
     "output_type": "display_data"
    },
    {
     "data": {
      "text/html": [
       "<pre>+---------+--------------+-------------------+-----------------------------------+-------------+</pre>"
      ],
      "text/plain": [
       "+---------+--------------+-------------------+-----------------------------------+-------------+"
      ]
     },
     "metadata": {},
     "output_type": "display_data"
    },
    {
     "data": {
      "text/html": [
       "<pre>| Iter.   | Elapsed Time | Approx. Objective | Approx. Training Predictive Error | Step Size   |</pre>"
      ],
      "text/plain": [
       "| Iter.   | Elapsed Time | Approx. Objective | Approx. Training Predictive Error | Step Size   |"
      ]
     },
     "metadata": {},
     "output_type": "display_data"
    },
    {
     "data": {
      "text/html": [
       "<pre>+---------+--------------+-------------------+-----------------------------------+-------------+</pre>"
      ],
      "text/plain": [
       "+---------+--------------+-------------------+-----------------------------------+-------------+"
      ]
     },
     "metadata": {},
     "output_type": "display_data"
    },
    {
     "data": {
      "text/html": [
       "<pre>| Initial | 137us        | 1.38664           | 0.693058                          |             |</pre>"
      ],
      "text/plain": [
       "| Initial | 137us        | 1.38664           | 0.693058                          |             |"
      ]
     },
     "metadata": {},
     "output_type": "display_data"
    },
    {
     "data": {
      "text/html": [
       "<pre>+---------+--------------+-------------------+-----------------------------------+-------------+</pre>"
      ],
      "text/plain": [
       "+---------+--------------+-------------------+-----------------------------------+-------------+"
      ]
     },
     "metadata": {},
     "output_type": "display_data"
    },
    {
     "data": {
      "text/html": [
       "<pre>| 1       | 184.139ms    | 1.90664           | 0.852982                          | 0.15625     |</pre>"
      ],
      "text/plain": [
       "| 1       | 184.139ms    | 1.90664           | 0.852982                          | 0.15625     |"
      ]
     },
     "metadata": {},
     "output_type": "display_data"
    },
    {
     "data": {
      "text/html": [
       "<pre>| 2       | 330.189ms    | 1.47799           | 0.730001                          | 0.15625     |</pre>"
      ],
      "text/plain": [
       "| 2       | 330.189ms    | 1.47799           | 0.730001                          | 0.15625     |"
      ]
     },
     "metadata": {},
     "output_type": "display_data"
    },
    {
     "data": {
      "text/html": [
       "<pre>| 3       | 465.777ms    | 1.36031           | 0.672561                          | 0.15625     |</pre>"
      ],
      "text/plain": [
       "| 3       | 465.777ms    | 1.36031           | 0.672561                          | 0.15625     |"
      ]
     },
     "metadata": {},
     "output_type": "display_data"
    },
    {
     "data": {
      "text/html": [
       "<pre>| 4       | 622.157ms    | 1.285             | 0.632926                          | 0.15625     |</pre>"
      ],
      "text/plain": [
       "| 4       | 622.157ms    | 1.285             | 0.632926                          | 0.15625     |"
      ]
     },
     "metadata": {},
     "output_type": "display_data"
    },
    {
     "data": {
      "text/html": [
       "<pre>| 5       | 764.611ms    | 1.225             | 0.601787                          | 0.15625     |</pre>"
      ],
      "text/plain": [
       "| 5       | 764.611ms    | 1.225             | 0.601787                          | 0.15625     |"
      ]
     },
     "metadata": {},
     "output_type": "display_data"
    },
    {
     "data": {
      "text/html": [
       "<pre>| 6       | 914.517ms    | 1.16546           | 0.569346                          | 0.15625     |</pre>"
      ],
      "text/plain": [
       "| 6       | 914.517ms    | 1.16546           | 0.569346                          | 0.15625     |"
      ]
     },
     "metadata": {},
     "output_type": "display_data"
    },
    {
     "data": {
      "text/html": [
       "<pre>| 10      | 1.45s        | 1.00015           | 0.485434                          | 0.15625     |</pre>"
      ],
      "text/plain": [
       "| 10      | 1.45s        | 1.00015           | 0.485434                          | 0.15625     |"
      ]
     },
     "metadata": {},
     "output_type": "display_data"
    },
    {
     "data": {
      "text/html": [
       "<pre>| 11      | 1.66s        | 0.970488          | 0.470619                          | 0.15625     |</pre>"
      ],
      "text/plain": [
       "| 11      | 1.66s        | 0.970488          | 0.470619                          | 0.15625     |"
      ]
     },
     "metadata": {},
     "output_type": "display_data"
    },
    {
     "data": {
      "text/html": [
       "<pre>| 20      | 2.89s        | 0.785155          | 0.372452                          | 0.15625     |</pre>"
      ],
      "text/plain": [
       "| 20      | 2.89s        | 0.785155          | 0.372452                          | 0.15625     |"
      ]
     },
     "metadata": {},
     "output_type": "display_data"
    },
    {
     "data": {
      "text/html": [
       "<pre>+---------+--------------+-------------------+-----------------------------------+-------------+</pre>"
      ],
      "text/plain": [
       "+---------+--------------+-------------------+-----------------------------------+-------------+"
      ]
     },
     "metadata": {},
     "output_type": "display_data"
    },
    {
     "data": {
      "text/html": [
       "<pre>Optimization Complete: Maximum number of passes through the data reached.</pre>"
      ],
      "text/plain": [
       "Optimization Complete: Maximum number of passes through the data reached."
      ]
     },
     "metadata": {},
     "output_type": "display_data"
    },
    {
     "data": {
      "text/html": [
       "<pre>Computing final objective value and training Predictive Error.</pre>"
      ],
      "text/plain": [
       "Computing final objective value and training Predictive Error."
      ]
     },
     "metadata": {},
     "output_type": "display_data"
    },
    {
     "data": {
      "text/html": [
       "<pre>       Final objective value: 0.695178</pre>"
      ],
      "text/plain": [
       "       Final objective value: 0.695178"
      ]
     },
     "metadata": {},
     "output_type": "display_data"
    },
    {
     "data": {
      "text/html": [
       "<pre>       Final training Predictive Error: 0.288627</pre>"
      ],
      "text/plain": [
       "       Final training Predictive Error: 0.288627"
      ]
     },
     "metadata": {},
     "output_type": "display_data"
    }
   ],
   "source": [
    "actions = dfRatingsWithZeroes\n",
    "#drop NAs (Nones) in items dataFrame\n",
    "side_features = ['ISBN', 'authors', 'categories', 'pageCount', 'publishedDate', 'publisher', 'textSnippet', 'title']\n",
    "#side_features = ['ISBN', 'categories', 'pageCount', 'publisher']\n",
    "\n",
    "\n",
    "items_for_model = items[side_features]\n",
    "items_for_model = items_for_model.dropna()\n",
    "\n",
    "high_rated_data = actions[actions[\"BookRating\"] >= 5]\n",
    "low_rated_data = actions[actions[\"BookRating\"] < 5]\n",
    "\n",
    "#train_data_1, test_data = gl.recommender.random_split_by_user(\n",
    "#high_rated_data, user_id='user', item_id='movie')\n",
    "#train_data = train_data_1.append(low_rated_data)\n",
    "\n",
    "training_data_3, validation_data_3 = gl.recommender.util.random_split_by_user(actions, user_id='UserID', item_id='ISBN')\n",
    "model_items_data = gl.recommender.create(training_data_3, user_id='UserID', item_id='ISBN', item_data=items_for_model)"
   ]
  },
  {
   "cell_type": "code",
   "execution_count": 49,
   "metadata": {
    "collapsed": true
   },
   "outputs": [],
   "source": [
    "model_items_data.save('model_items_data')"
   ]
  },
  {
   "cell_type": "code",
   "execution_count": 50,
   "metadata": {
    "collapsed": true
   },
   "outputs": [],
   "source": [
    "model_items_data = gl.load_model('model_items_data')"
   ]
  },
  {
   "cell_type": "code",
   "execution_count": 39,
   "metadata": {
    "collapsed": false
   },
   "outputs": [
    {
     "data": {
      "text/plain": [
       "<bound method RankingFactorizationRecommender.get of Class                            : RankingFactorizationRecommender\n",
       "\n",
       "Schema\n",
       "------\n",
       "User ID                          : UserID\n",
       "Item ID                          : ISBN\n",
       "Target                           : None\n",
       "Additional observation features  : 1\n",
       "User side features               : []\n",
       "Item side features               : ['ISBN', 'authors', 'categories', 'pageCount', 'publishedDate', 'publisher', 'textSnippet', 'title']\n",
       "\n",
       "Statistics\n",
       "----------\n",
       "Number of observations           : 29455\n",
       "Number of users                  : 7143\n",
       "Number of items                  : 847\n",
       "\n",
       "Training summary\n",
       "----------------\n",
       "Training time                    : 5.585\n",
       "\n",
       "Model Parameters\n",
       "----------------\n",
       "Model class                      : RankingFactorizationRecommender\n",
       "num_factors                      : 32\n",
       "binary_target                    : 1\n",
       "side_data_factorization          : 1\n",
       "solver                           : auto\n",
       "nmf                              : 0\n",
       "max_iterations                   : 25\n",
       "\n",
       "Regularization Settings\n",
       "-----------------------\n",
       "regularization                   : 0.0\n",
       "regularization_type              : normal\n",
       "linear_regularization            : 0.0\n",
       "ranking_regularization           : 0.25\n",
       "unobserved_rating_value          : -1.79769313486e+308\n",
       "num_sampled_negative_examples    : 4\n",
       "ials_confidence_scaling_type     : auto\n",
       "ials_confidence_scaling_factor   : 1\n",
       "\n",
       "Optimization Settings\n",
       "---------------------\n",
       "init_random_sigma                : 0.01\n",
       "sgd_convergence_interval         : 4\n",
       "sgd_convergence_threshold        : 0.0\n",
       "sgd_max_trial_iterations         : 5\n",
       "sgd_sampling_block_size          : 131072\n",
       "sgd_step_adjustment_interval     : 4\n",
       "sgd_step_size                    : 0.0\n",
       "sgd_trial_sample_minimum_size    : 10000\n",
       "sgd_trial_sample_proportion      : 0.125\n",
       "step_size_decrease_rate          : 0.75\n",
       "additional_iterations_if_unhealthy : 5\n",
       "adagrad_momentum_weighting       : 0.9\n",
       "num_tempering_iterations         : 4\n",
       "tempering_regularization_start_value : 0.0\n",
       "track_exact_loss                 : 0\n",
       ">"
      ]
     },
     "execution_count": 39,
     "metadata": {},
     "output_type": "execute_result"
    }
   ],
   "source": [
    "model_items_data.get"
   ]
  },
  {
   "cell_type": "code",
   "execution_count": 40,
   "metadata": {
    "collapsed": true
   },
   "outputs": [],
   "source": [
    "similar_items_predict_rating = model_items_data.get_similar_items(my_list_of_items[:10], k=20)\n"
   ]
  },
  {
   "cell_type": "code",
   "execution_count": 41,
   "metadata": {
    "collapsed": false
   },
   "outputs": [
    {
     "name": "stdout",
     "output_type": "stream",
     "text": [
      "+------------+------------+-----------------+------+\n",
      "|    ISBN    |  similar   |      score      | rank |\n",
      "+------------+------------+-----------------+------+\n",
      "| 0971880107 | 0316666343 | 0.0523138642311 |  1   |\n",
      "| 0971880107 | 044023722X | 0.0348584055901 |  2   |\n",
      "| 0971880107 | 0446364193 | 0.0329024791718 |  3   |\n",
      "| 0971880107 | 0142001740 | 0.0323660969734 |  4   |\n",
      "| 0971880107 | 0380731851 | 0.0318396091461 |  5   |\n",
      "| 0971880107 | 0316601950 | 0.0306122303009 |  6   |\n",
      "| 0971880107 | 059035342X | 0.0295790433884 |  7   |\n",
      "| 0971880107 | 0553572997 | 0.0288350582123 |  8   |\n",
      "| 0971880107 | 0671003755 | 0.0275545120239 |  9   |\n",
      "| 0971880107 | 0446605484 | 0.0260047316551 |  10  |\n",
      "+------------+------------+-----------------+------+\n",
      "[180 rows x 4 columns]\n",
      "Note: Only the head of the SFrame is printed.\n",
      "You can use print_rows(num_rows=m, num_columns=n) to print more rows and columns.\n"
     ]
    },
    {
     "data": {
      "text/html": [
       "<div style=\"max-height:1000px;max-width:1500px;overflow:auto;\"><table frame=\"box\" rules=\"cols\">\n",
       "    <tr>\n",
       "        <th style=\"padding-left: 1em; padding-right: 1em; text-align: center\">ISBN</th>\n",
       "        <th style=\"padding-left: 1em; padding-right: 1em; text-align: center\">similar</th>\n",
       "        <th style=\"padding-left: 1em; padding-right: 1em; text-align: center\">score</th>\n",
       "        <th style=\"padding-left: 1em; padding-right: 1em; text-align: center\">rank</th>\n",
       "    </tr>\n",
       "    <tr>\n",
       "        <td style=\"padding-left: 1em; padding-right: 1em; text-align: center; vertical-align: top\">0971880107</td>\n",
       "        <td style=\"padding-left: 1em; padding-right: 1em; text-align: center; vertical-align: top\">0671027344</td>\n",
       "        <td style=\"padding-left: 1em; padding-right: 1em; text-align: center; vertical-align: top\">0.663615345955</td>\n",
       "        <td style=\"padding-left: 1em; padding-right: 1em; text-align: center; vertical-align: top\">1</td>\n",
       "    </tr>\n",
       "    <tr>\n",
       "        <td style=\"padding-left: 1em; padding-right: 1em; text-align: center; vertical-align: top\">0971880107</td>\n",
       "        <td style=\"padding-left: 1em; padding-right: 1em; text-align: center; vertical-align: top\">1582430543</td>\n",
       "        <td style=\"padding-left: 1em; padding-right: 1em; text-align: center; vertical-align: top\">0.597544968128</td>\n",
       "        <td style=\"padding-left: 1em; padding-right: 1em; text-align: center; vertical-align: top\">2</td>\n",
       "    </tr>\n",
       "    <tr>\n",
       "        <td style=\"padding-left: 1em; padding-right: 1em; text-align: center; vertical-align: top\">0971880107</td>\n",
       "        <td style=\"padding-left: 1em; padding-right: 1em; text-align: center; vertical-align: top\">0802133878</td>\n",
       "        <td style=\"padding-left: 1em; padding-right: 1em; text-align: center; vertical-align: top\">0.585147023201</td>\n",
       "        <td style=\"padding-left: 1em; padding-right: 1em; text-align: center; vertical-align: top\">3</td>\n",
       "    </tr>\n",
       "    <tr>\n",
       "        <td style=\"padding-left: 1em; padding-right: 1em; text-align: center; vertical-align: top\">0971880107</td>\n",
       "        <td style=\"padding-left: 1em; padding-right: 1em; text-align: center; vertical-align: top\">0060964049</td>\n",
       "        <td style=\"padding-left: 1em; padding-right: 1em; text-align: center; vertical-align: top\">0.548890113831</td>\n",
       "        <td style=\"padding-left: 1em; padding-right: 1em; text-align: center; vertical-align: top\">4</td>\n",
       "    </tr>\n",
       "    <tr>\n",
       "        <td style=\"padding-left: 1em; padding-right: 1em; text-align: center; vertical-align: top\">0971880107</td>\n",
       "        <td style=\"padding-left: 1em; padding-right: 1em; text-align: center; vertical-align: top\">0440241162</td>\n",
       "        <td style=\"padding-left: 1em; padding-right: 1em; text-align: center; vertical-align: top\">0.546421349049</td>\n",
       "        <td style=\"padding-left: 1em; padding-right: 1em; text-align: center; vertical-align: top\">5</td>\n",
       "    </tr>\n",
       "    <tr>\n",
       "        <td style=\"padding-left: 1em; padding-right: 1em; text-align: center; vertical-align: top\">0971880107</td>\n",
       "        <td style=\"padding-left: 1em; padding-right: 1em; text-align: center; vertical-align: top\">1592400876</td>\n",
       "        <td style=\"padding-left: 1em; padding-right: 1em; text-align: center; vertical-align: top\">0.545202851295</td>\n",
       "        <td style=\"padding-left: 1em; padding-right: 1em; text-align: center; vertical-align: top\">6</td>\n",
       "    </tr>\n",
       "    <tr>\n",
       "        <td style=\"padding-left: 1em; padding-right: 1em; text-align: center; vertical-align: top\">0971880107</td>\n",
       "        <td style=\"padding-left: 1em; padding-right: 1em; text-align: center; vertical-align: top\">1576737330</td>\n",
       "        <td style=\"padding-left: 1em; padding-right: 1em; text-align: center; vertical-align: top\">0.525522649288</td>\n",
       "        <td style=\"padding-left: 1em; padding-right: 1em; text-align: center; vertical-align: top\">7</td>\n",
       "    </tr>\n",
       "    <tr>\n",
       "        <td style=\"padding-left: 1em; padding-right: 1em; text-align: center; vertical-align: top\">0971880107</td>\n",
       "        <td style=\"padding-left: 1em; padding-right: 1em; text-align: center; vertical-align: top\">0451524934</td>\n",
       "        <td style=\"padding-left: 1em; padding-right: 1em; text-align: center; vertical-align: top\">0.524658918381</td>\n",
       "        <td style=\"padding-left: 1em; padding-right: 1em; text-align: center; vertical-align: top\">8</td>\n",
       "    </tr>\n",
       "    <tr>\n",
       "        <td style=\"padding-left: 1em; padding-right: 1em; text-align: center; vertical-align: top\">0971880107</td>\n",
       "        <td style=\"padding-left: 1em; padding-right: 1em; text-align: center; vertical-align: top\">0192839357</td>\n",
       "        <td style=\"padding-left: 1em; padding-right: 1em; text-align: center; vertical-align: top\">0.511480093002</td>\n",
       "        <td style=\"padding-left: 1em; padding-right: 1em; text-align: center; vertical-align: top\">9</td>\n",
       "    </tr>\n",
       "    <tr>\n",
       "        <td style=\"padding-left: 1em; padding-right: 1em; text-align: center; vertical-align: top\">0971880107</td>\n",
       "        <td style=\"padding-left: 1em; padding-right: 1em; text-align: center; vertical-align: top\">0061094161</td>\n",
       "        <td style=\"padding-left: 1em; padding-right: 1em; text-align: center; vertical-align: top\">0.511020123959</td>\n",
       "        <td style=\"padding-left: 1em; padding-right: 1em; text-align: center; vertical-align: top\">10</td>\n",
       "    </tr>\n",
       "</table>\n",
       "[180 rows x 4 columns]<br/>Note: Only the head of the SFrame is printed.<br/>You can use print_rows(num_rows=m, num_columns=n) to print more rows and columns.\n",
       "</div>"
      ],
      "text/plain": [
       "Columns:\n",
       "\tISBN\tstr\n",
       "\tsimilar\tstr\n",
       "\tscore\tfloat\n",
       "\trank\tint\n",
       "\n",
       "Rows: 180\n",
       "\n",
       "Data:\n",
       "+------------+------------+----------------+------+\n",
       "|    ISBN    |  similar   |     score      | rank |\n",
       "+------------+------------+----------------+------+\n",
       "| 0971880107 | 0671027344 | 0.663615345955 |  1   |\n",
       "| 0971880107 | 1582430543 | 0.597544968128 |  2   |\n",
       "| 0971880107 | 0802133878 | 0.585147023201 |  3   |\n",
       "| 0971880107 | 0060964049 | 0.548890113831 |  4   |\n",
       "| 0971880107 | 0440241162 | 0.546421349049 |  5   |\n",
       "| 0971880107 | 1592400876 | 0.545202851295 |  6   |\n",
       "| 0971880107 | 1576737330 | 0.525522649288 |  7   |\n",
       "| 0971880107 | 0451524934 | 0.524658918381 |  8   |\n",
       "| 0971880107 | 0192839357 | 0.511480093002 |  9   |\n",
       "| 0971880107 | 0061094161 | 0.511020123959 |  10  |\n",
       "+------------+------------+----------------+------+\n",
       "[180 rows x 4 columns]\n",
       "Note: Only the head of the SFrame is printed.\n",
       "You can use print_rows(num_rows=m, num_columns=n) to print more rows and columns."
      ]
     },
     "execution_count": 41,
     "metadata": {},
     "output_type": "execute_result"
    }
   ],
   "source": [
    "print similar_items\n",
    "similar_items_predict_rating"
   ]
  },
  {
   "cell_type": "code",
   "execution_count": 42,
   "metadata": {
    "collapsed": false
   },
   "outputs": [
    {
     "name": "stdout",
     "output_type": "stream",
     "text": [
      "+------------+--------------+------------+-------------------------------+-----------+\n",
      "|    ISBN    |   authors    | categories |         imageThumbnail        | pageCount |\n",
      "+------------+--------------+------------+-------------------------------+-----------+\n",
      "| 0971880107 | Rich Shapero |  Fiction   | http://books.google.com/bo... |    315    |\n",
      "+------------+--------------+------------+-------------------------------+-----------+\n",
      "+---------------+-------------+-------------------------------+-------------+\n",
      "| publishedDate |  publisher  |          textSnippet          |    title    |\n",
      "+---------------+-------------+-------------------------------+-------------+\n",
      "|      2004     | Too Far Pub | Newly graduated from colle... | Wild Animus |\n",
      "+---------------+-------------+-------------------------------+-------------+\n",
      "[? rows x 9 columns]\n",
      "Note: Only the head of the SFrame is printed. This SFrame is lazily evaluated.\n",
      "You can use sf.materialize() to force materialization.\n"
     ]
    },
    {
     "data": {
      "text/html": [
       "<div style=\"max-height:1000px;max-width:1500px;overflow:auto;\"><table frame=\"box\" rules=\"cols\">\n",
       "    <tr>\n",
       "        <th style=\"padding-left: 1em; padding-right: 1em; text-align: center\">ISBN</th>\n",
       "        <th style=\"padding-left: 1em; padding-right: 1em; text-align: center\">authors</th>\n",
       "        <th style=\"padding-left: 1em; padding-right: 1em; text-align: center\">categories</th>\n",
       "        <th style=\"padding-left: 1em; padding-right: 1em; text-align: center\">imageThumbnail</th>\n",
       "        <th style=\"padding-left: 1em; padding-right: 1em; text-align: center\">pageCount</th>\n",
       "        <th style=\"padding-left: 1em; padding-right: 1em; text-align: center\">publishedDate</th>\n",
       "        <th style=\"padding-left: 1em; padding-right: 1em; text-align: center\">publisher</th>\n",
       "    </tr>\n",
       "    <tr>\n",
       "        <td style=\"padding-left: 1em; padding-right: 1em; text-align: center; vertical-align: top\">0671027344</td>\n",
       "        <td style=\"padding-left: 1em; padding-right: 1em; text-align: center; vertical-align: top\">Stephen Chbosky</td>\n",
       "        <td style=\"padding-left: 1em; padding-right: 1em; text-align: center; vertical-align: top\">Fiction</td>\n",
       "        <td style=\"padding-left: 1em; padding-right: 1em; text-align: center; vertical-align: top\">http://books.google.com/b<br>ooks/content?id=y3pJA ...</td>\n",
       "        <td style=\"padding-left: 1em; padding-right: 1em; text-align: center; vertical-align: top\">224</td>\n",
       "        <td style=\"padding-left: 1em; padding-right: 1em; text-align: center; vertical-align: top\">1999-02-01</td>\n",
       "        <td style=\"padding-left: 1em; padding-right: 1em; text-align: center; vertical-align: top\">MTV Books</td>\n",
       "    </tr>\n",
       "</table>\n",
       "<table frame=\"box\" rules=\"cols\">\n",
       "    <tr>\n",
       "        <th style=\"padding-left: 1em; padding-right: 1em; text-align: center\">textSnippet</th>\n",
       "        <th style=\"padding-left: 1em; padding-right: 1em; text-align: center\">title</th>\n",
       "    </tr>\n",
       "    <tr>\n",
       "        <td style=\"padding-left: 1em; padding-right: 1em; text-align: center; vertical-align: top\">A #1 New York Times best<br>seller for more than a ...</td>\n",
       "        <td style=\"padding-left: 1em; padding-right: 1em; text-align: center; vertical-align: top\">The Perks of Being a<br>Wallflower ...</td>\n",
       "    </tr>\n",
       "</table>\n",
       "[? rows x 9 columns]<br/>Note: Only the head of the SFrame is printed. This SFrame is lazily evaluated.<br/>You can use sf.materialize() to force materialization.\n",
       "</div>"
      ],
      "text/plain": [
       "Columns:\n",
       "\tISBN\tstr\n",
       "\tauthors\tstr\n",
       "\tcategories\tstr\n",
       "\timageThumbnail\tstr\n",
       "\tpageCount\tint\n",
       "\tpublishedDate\tstr\n",
       "\tpublisher\tstr\n",
       "\ttextSnippet\tstr\n",
       "\ttitle\tstr\n",
       "\n",
       "Rows: Unknown\n",
       "\n",
       "Data:\n",
       "+------------+-----------------+------------+-------------------------------+\n",
       "|    ISBN    |     authors     | categories |         imageThumbnail        |\n",
       "+------------+-----------------+------------+-------------------------------+\n",
       "| 0671027344 | Stephen Chbosky |  Fiction   | http://books.google.com/bo... |\n",
       "+------------+-----------------+------------+-------------------------------+\n",
       "+-----------+---------------+-----------+-------------------------------+\n",
       "| pageCount | publishedDate | publisher |          textSnippet          |\n",
       "+-----------+---------------+-----------+-------------------------------+\n",
       "|    224    |   1999-02-01  | MTV Books | A #1 New York Times best s... |\n",
       "+-----------+---------------+-----------+-------------------------------+\n",
       "+-------------------------------+\n",
       "|             title             |\n",
       "+-------------------------------+\n",
       "| The Perks of Being a Wallf... |\n",
       "+-------------------------------+\n",
       "[? rows x 9 columns]\n",
       "Note: Only the head of the SFrame is printed. This SFrame is lazily evaluated.\n",
       "You can use sf.materialize() to force materialization."
      ]
     },
     "execution_count": 42,
     "metadata": {},
     "output_type": "execute_result"
    }
   ],
   "source": [
    "print ISBNlookup('0971880107')\n",
    "ISBNlookup('0671027344')"
   ]
  },
  {
   "cell_type": "code",
   "execution_count": 43,
   "metadata": {
    "collapsed": false
   },
   "outputs": [
    {
     "data": {
      "text/html": [
       "<pre>Warning: The model was fit with 2 feature columns but only 1 were present during transform(). Proceeding with transform by ignoring the missing columns.</pre>"
      ],
      "text/plain": [
       "Warning: The model was fit with 2 feature columns but only 1 were present during transform(). Proceeding with transform by ignoring the missing columns."
      ]
     },
     "metadata": {},
     "output_type": "display_data"
    },
    {
     "data": {
      "text/html": [
       "<pre>Warning: The model was fit with 2 feature columns but only 1 were present during transform(). Proceeding with transform by ignoring the missing columns.</pre>"
      ],
      "text/plain": [
       "Warning: The model was fit with 2 feature columns but only 1 were present during transform(). Proceeding with transform by ignoring the missing columns."
      ]
     },
     "metadata": {},
     "output_type": "display_data"
    }
   ],
   "source": [
    "view_model_items_data = model_items_data.views.overview(validation_set = validation_data_3,\n",
    "                           user_data = user_data,\n",
    "                           user_name_column = 'UserID',\n",
    "                           item_data = items,\n",
    "                           item_name_column = 'title',\n",
    "                           item_url_column = 'imageThumbnail')\n",
    "view_model_items_data.show()"
   ]
  },
  {
   "cell_type": "code",
   "execution_count": null,
   "metadata": {
    "collapsed": true
   },
   "outputs": [],
   "source": []
  }
 ],
 "metadata": {
  "anaconda-cloud": {},
  "kernelspec": {
   "display_name": "Python 2",
   "language": "python",
   "name": "python2"
  },
  "language_info": {
   "codemirror_mode": {
    "name": "ipython",
    "version": 2
   },
   "file_extension": ".py",
   "mimetype": "text/x-python",
   "name": "python",
   "nbconvert_exporter": "python",
   "pygments_lexer": "ipython2",
   "version": "2.7.11"
  }
 },
 "nbformat": 4,
 "nbformat_minor": 0
}
