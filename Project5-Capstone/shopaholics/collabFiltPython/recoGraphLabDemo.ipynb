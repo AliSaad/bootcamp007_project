{
 "cells": [
  {
   "cell_type": "code",
   "execution_count": 1,
   "metadata": {
    "collapsed": false
   },
   "outputs": [],
   "source": [
    "import graphlab as gl\n",
    "import pandas as pd\n",
    "import numpy as np"
   ]
  },
  {
   "cell_type": "markdown",
   "metadata": {},
   "source": [
    "## Load Ratings Data for both explicit and implicit ratings"
   ]
  },
  {
   "cell_type": "code",
   "execution_count": 2,
   "metadata": {
    "collapsed": false,
    "scrolled": true
   },
   "outputs": [
    {
     "name": "stderr",
     "output_type": "stream",
     "text": [
      "[INFO] graphlab.cython.cy_server: GraphLab Create v2.1 started. Logging: /tmp/graphlab_server_1482008402.log\n"
     ]
    },
    {
     "name": "stdout",
     "output_type": "stream",
     "text": [
      "This non-commercial license of GraphLab Create for academic use is assigned to jhonasttan@gmail.com and will expire on December 17, 2017.\n"
     ]
    },
    {
     "data": {
      "text/html": [
       "<pre>Finished parsing file /Users/jhonasttanregalado/Documents/DataScience/bootcamp7/githubcrush/bootcamp007_project/Project5-Capstone/shopaholics/BX-CSV-Dump/GraphLabBookRatings.csv</pre>"
      ],
      "text/plain": [
       "Finished parsing file /Users/jhonasttanregalado/Documents/DataScience/bootcamp7/githubcrush/bootcamp007_project/Project5-Capstone/shopaholics/BX-CSV-Dump/GraphLabBookRatings.csv"
      ]
     },
     "metadata": {},
     "output_type": "display_data"
    },
    {
     "data": {
      "text/html": [
       "<pre>Parsing completed. Parsed 100 lines in 0.105546 secs.</pre>"
      ],
      "text/plain": [
       "Parsing completed. Parsed 100 lines in 0.105546 secs."
      ]
     },
     "metadata": {},
     "output_type": "display_data"
    },
    {
     "name": "stdout",
     "output_type": "stream",
     "text": [
      "------------------------------------------------------\n",
      "Inferred types from first 100 line(s) of file as \n",
      "column_type_hints=[int,int,str,int]\n",
      "If parsing fails due to incorrect types, you can correct\n",
      "the inferred type list above and pass it to read_csv in\n",
      "the column_type_hints argument\n",
      "------------------------------------------------------\n"
     ]
    },
    {
     "data": {
      "text/html": [
       "<pre>Finished parsing file /Users/jhonasttanregalado/Documents/DataScience/bootcamp7/githubcrush/bootcamp007_project/Project5-Capstone/shopaholics/BX-CSV-Dump/GraphLabBookRatings.csv</pre>"
      ],
      "text/plain": [
       "Finished parsing file /Users/jhonasttanregalado/Documents/DataScience/bootcamp7/githubcrush/bootcamp007_project/Project5-Capstone/shopaholics/BX-CSV-Dump/GraphLabBookRatings.csv"
      ]
     },
     "metadata": {},
     "output_type": "display_data"
    },
    {
     "data": {
      "text/html": [
       "<pre>Parsing completed. Parsed 121887 lines in 0.104644 secs.</pre>"
      ],
      "text/plain": [
       "Parsing completed. Parsed 121887 lines in 0.104644 secs."
      ]
     },
     "metadata": {},
     "output_type": "display_data"
    }
   ],
   "source": [
    "#Read ratings without ZEROS\n",
    "dfRating = gl.SFrame.read_csv(\"../BX-CSV-Dump/GraphLabBookRatings.csv\")"
   ]
  },
  {
   "cell_type": "code",
   "execution_count": 3,
   "metadata": {
    "collapsed": false
   },
   "outputs": [
    {
     "data": {
      "text/html": [
       "<pre>Finished parsing file /Users/jhonasttanregalado/Documents/DataScience/bootcamp7/githubcrush/bootcamp007_project/Project5-Capstone/shopaholics/BX-CSV-Dump/GraphLabBookRatingsWithZeroes.csv</pre>"
      ],
      "text/plain": [
       "Finished parsing file /Users/jhonasttanregalado/Documents/DataScience/bootcamp7/githubcrush/bootcamp007_project/Project5-Capstone/shopaholics/BX-CSV-Dump/GraphLabBookRatingsWithZeroes.csv"
      ]
     },
     "metadata": {},
     "output_type": "display_data"
    },
    {
     "data": {
      "text/html": [
       "<pre>Parsing completed. Parsed 100 lines in 0.03516 secs.</pre>"
      ],
      "text/plain": [
       "Parsing completed. Parsed 100 lines in 0.03516 secs."
      ]
     },
     "metadata": {},
     "output_type": "display_data"
    },
    {
     "name": "stdout",
     "output_type": "stream",
     "text": [
      "------------------------------------------------------\n",
      "Inferred types from first 100 line(s) of file as \n",
      "column_type_hints=[int,int,str,int]\n",
      "If parsing fails due to incorrect types, you can correct\n",
      "the inferred type list above and pass it to read_csv in\n",
      "the column_type_hints argument\n",
      "------------------------------------------------------\n"
     ]
    },
    {
     "data": {
      "text/html": [
       "<pre>Finished parsing file /Users/jhonasttanregalado/Documents/DataScience/bootcamp7/githubcrush/bootcamp007_project/Project5-Capstone/shopaholics/BX-CSV-Dump/GraphLabBookRatingsWithZeroes.csv</pre>"
      ],
      "text/plain": [
       "Finished parsing file /Users/jhonasttanregalado/Documents/DataScience/bootcamp7/githubcrush/bootcamp007_project/Project5-Capstone/shopaholics/BX-CSV-Dump/GraphLabBookRatingsWithZeroes.csv"
      ]
     },
     "metadata": {},
     "output_type": "display_data"
    },
    {
     "data": {
      "text/html": [
       "<pre>Parsing completed. Parsed 30260 lines in 0.075074 secs.</pre>"
      ],
      "text/plain": [
       "Parsing completed. Parsed 30260 lines in 0.075074 secs."
      ]
     },
     "metadata": {},
     "output_type": "display_data"
    }
   ],
   "source": [
    "#Read ratings with ZOROS\n",
    "dfRatingsWithZeroes = gl.SFrame.read_csv(\"../BX-CSV-Dump/GraphLabBookRatingsWithZeroes.csv\")"
   ]
  },
  {
   "cell_type": "code",
   "execution_count": 4,
   "metadata": {
    "collapsed": false
   },
   "outputs": [
    {
     "data": {
      "text/plain": [
       "<bound method SFrame.column_types of Columns:\n",
       "\tUserID\tint\n",
       "\tISBN\tstr\n",
       "\tBookRating\tint\n",
       "\n",
       "Rows: 121887\n",
       "\n",
       "Data:\n",
       "+--------+------------+------------+\n",
       "| UserID |    ISBN    | BookRating |\n",
       "+--------+------------+------------+\n",
       "| 276746 | 0449006522 |     0      |\n",
       "| 276746 | 055356451X |     0      |\n",
       "| 276754 | 0684867621 |     8      |\n",
       "| 276755 | 0451166892 |     5      |\n",
       "| 276762 | 0451167317 |     0      |\n",
       "| 276788 | 043935806X |     7      |\n",
       "| 276804 | 0440498058 |     8      |\n",
       "| 276822 | 0060096195 |     10     |\n",
       "| 276822 | 0786817070 |     10     |\n",
       "| 276830 | 0440225825 |     9      |\n",
       "+--------+------------+------------+\n",
       "[121887 rows x 3 columns]\n",
       "Note: Only the head of the SFrame is printed.\n",
       "You can use print_rows(num_rows=m, num_columns=n) to print more rows and columns.>"
      ]
     },
     "execution_count": 4,
     "metadata": {},
     "output_type": "execute_result"
    }
   ],
   "source": [
    "dfRating.remove_column('X1')\n",
    "dfRating.rename({'Book-Rating': 'BookRating', 'User-ID': 'UserID'})\n",
    "dfRating.column_types"
   ]
  },
  {
   "cell_type": "code",
   "execution_count": 5,
   "metadata": {
    "collapsed": false
   },
   "outputs": [
    {
     "data": {
      "text/html": [
       "<div style=\"max-height:1000px;max-width:1500px;overflow:auto;\"><table frame=\"box\" rules=\"cols\">\n",
       "    <tr>\n",
       "        <th style=\"padding-left: 1em; padding-right: 1em; text-align: center\">UserID</th>\n",
       "        <th style=\"padding-left: 1em; padding-right: 1em; text-align: center\">ISBN</th>\n",
       "        <th style=\"padding-left: 1em; padding-right: 1em; text-align: center\">BookRating</th>\n",
       "    </tr>\n",
       "    <tr>\n",
       "        <td style=\"padding-left: 1em; padding-right: 1em; text-align: center; vertical-align: top\">276746</td>\n",
       "        <td style=\"padding-left: 1em; padding-right: 1em; text-align: center; vertical-align: top\">0449006522</td>\n",
       "        <td style=\"padding-left: 1em; padding-right: 1em; text-align: center; vertical-align: top\">0</td>\n",
       "    </tr>\n",
       "    <tr>\n",
       "        <td style=\"padding-left: 1em; padding-right: 1em; text-align: center; vertical-align: top\">276746</td>\n",
       "        <td style=\"padding-left: 1em; padding-right: 1em; text-align: center; vertical-align: top\">055356451X</td>\n",
       "        <td style=\"padding-left: 1em; padding-right: 1em; text-align: center; vertical-align: top\">0</td>\n",
       "    </tr>\n",
       "    <tr>\n",
       "        <td style=\"padding-left: 1em; padding-right: 1em; text-align: center; vertical-align: top\">276762</td>\n",
       "        <td style=\"padding-left: 1em; padding-right: 1em; text-align: center; vertical-align: top\">0451167317</td>\n",
       "        <td style=\"padding-left: 1em; padding-right: 1em; text-align: center; vertical-align: top\">0</td>\n",
       "    </tr>\n",
       "    <tr>\n",
       "        <td style=\"padding-left: 1em; padding-right: 1em; text-align: center; vertical-align: top\">276847</td>\n",
       "        <td style=\"padding-left: 1em; padding-right: 1em; text-align: center; vertical-align: top\">0446364193</td>\n",
       "        <td style=\"padding-left: 1em; padding-right: 1em; text-align: center; vertical-align: top\">0</td>\n",
       "    </tr>\n",
       "    <tr>\n",
       "        <td style=\"padding-left: 1em; padding-right: 1em; text-align: center; vertical-align: top\">276925</td>\n",
       "        <td style=\"padding-left: 1em; padding-right: 1em; text-align: center; vertical-align: top\">0316666343</td>\n",
       "        <td style=\"padding-left: 1em; padding-right: 1em; text-align: center; vertical-align: top\">0</td>\n",
       "    </tr>\n",
       "    <tr>\n",
       "        <td style=\"padding-left: 1em; padding-right: 1em; text-align: center; vertical-align: top\">276925</td>\n",
       "        <td style=\"padding-left: 1em; padding-right: 1em; text-align: center; vertical-align: top\">0971880107</td>\n",
       "        <td style=\"padding-left: 1em; padding-right: 1em; text-align: center; vertical-align: top\">0</td>\n",
       "    </tr>\n",
       "    <tr>\n",
       "        <td style=\"padding-left: 1em; padding-right: 1em; text-align: center; vertical-align: top\">276929</td>\n",
       "        <td style=\"padding-left: 1em; padding-right: 1em; text-align: center; vertical-align: top\">0060964049</td>\n",
       "        <td style=\"padding-left: 1em; padding-right: 1em; text-align: center; vertical-align: top\">0</td>\n",
       "    </tr>\n",
       "    <tr>\n",
       "        <td style=\"padding-left: 1em; padding-right: 1em; text-align: center; vertical-align: top\">276929</td>\n",
       "        <td style=\"padding-left: 1em; padding-right: 1em; text-align: center; vertical-align: top\">0439064864</td>\n",
       "        <td style=\"padding-left: 1em; padding-right: 1em; text-align: center; vertical-align: top\">0</td>\n",
       "    </tr>\n",
       "    <tr>\n",
       "        <td style=\"padding-left: 1em; padding-right: 1em; text-align: center; vertical-align: top\">276939</td>\n",
       "        <td style=\"padding-left: 1em; padding-right: 1em; text-align: center; vertical-align: top\">059035342X</td>\n",
       "        <td style=\"padding-left: 1em; padding-right: 1em; text-align: center; vertical-align: top\">0</td>\n",
       "    </tr>\n",
       "    <tr>\n",
       "        <td style=\"padding-left: 1em; padding-right: 1em; text-align: center; vertical-align: top\">276939</td>\n",
       "        <td style=\"padding-left: 1em; padding-right: 1em; text-align: center; vertical-align: top\">0971880107</td>\n",
       "        <td style=\"padding-left: 1em; padding-right: 1em; text-align: center; vertical-align: top\">0</td>\n",
       "    </tr>\n",
       "</table>\n",
       "[? rows x 3 columns]<br/>Note: Only the head of the SFrame is printed. This SFrame is lazily evaluated.<br/>You can use sf.materialize() to force materialization.\n",
       "</div>"
      ],
      "text/plain": [
       "Columns:\n",
       "\tUserID\tint\n",
       "\tISBN\tstr\n",
       "\tBookRating\tint\n",
       "\n",
       "Rows: Unknown\n",
       "\n",
       "Data:\n",
       "+--------+------------+------------+\n",
       "| UserID |    ISBN    | BookRating |\n",
       "+--------+------------+------------+\n",
       "| 276746 | 0449006522 |     0      |\n",
       "| 276746 | 055356451X |     0      |\n",
       "| 276762 | 0451167317 |     0      |\n",
       "| 276847 | 0446364193 |     0      |\n",
       "| 276925 | 0316666343 |     0      |\n",
       "| 276925 | 0971880107 |     0      |\n",
       "| 276929 | 0060964049 |     0      |\n",
       "| 276929 | 0439064864 |     0      |\n",
       "| 276939 | 059035342X |     0      |\n",
       "| 276939 | 0971880107 |     0      |\n",
       "+--------+------------+------------+\n",
       "[? rows x 3 columns]\n",
       "Note: Only the head of the SFrame is printed. This SFrame is lazily evaluated.\n",
       "You can use sf.materialize() to force materialization."
      ]
     },
     "execution_count": 5,
     "metadata": {},
     "output_type": "execute_result"
    }
   ],
   "source": [
    "dfRating[dfRating['BookRating'] == 0]"
   ]
  },
  {
   "cell_type": "code",
   "execution_count": 6,
   "metadata": {
    "collapsed": false
   },
   "outputs": [
    {
     "data": {
      "text/plain": [
       "<bound method SFrame.column_types of Columns:\n",
       "\tUserID\tint\n",
       "\tISBN\tstr\n",
       "\tBookRating\tint\n",
       "\n",
       "Rows: 30260\n",
       "\n",
       "Data:\n",
       "+--------+------------+------------+\n",
       "| UserID |    ISBN    | BookRating |\n",
       "+--------+------------+------------+\n",
       "| 276746 | 0449006522 |     0      |\n",
       "| 276746 | 055356451X |     0      |\n",
       "| 276762 | 0451167317 |     0      |\n",
       "| 276847 | 0446364193 |     0      |\n",
       "| 276925 | 0316666343 |     0      |\n",
       "| 276925 | 0971880107 |     0      |\n",
       "| 276929 | 0060964049 |     0      |\n",
       "| 276929 | 0439064864 |     0      |\n",
       "| 276939 | 059035342X |     0      |\n",
       "| 276939 | 0971880107 |     0      |\n",
       "+--------+------------+------------+\n",
       "[30260 rows x 3 columns]\n",
       "Note: Only the head of the SFrame is printed.\n",
       "You can use print_rows(num_rows=m, num_columns=n) to print more rows and columns.>"
      ]
     },
     "execution_count": 6,
     "metadata": {},
     "output_type": "execute_result"
    }
   ],
   "source": [
    "dfRatingsWithZeroes.remove_column('X1')\n",
    "dfRatingsWithZeroes.column_types"
   ]
  },
  {
   "cell_type": "code",
   "execution_count": 7,
   "metadata": {
    "collapsed": false
   },
   "outputs": [
    {
     "data": {
      "text/html": [
       "<div style=\"max-height:1000px;max-width:1500px;overflow:auto;\"><table frame=\"box\" rules=\"cols\">\n",
       "    <tr>\n",
       "        <th style=\"padding-left: 1em; padding-right: 1em; text-align: center\">UserID</th>\n",
       "        <th style=\"padding-left: 1em; padding-right: 1em; text-align: center\">ISBN</th>\n",
       "        <th style=\"padding-left: 1em; padding-right: 1em; text-align: center\">BookRating</th>\n",
       "    </tr>\n",
       "</table>\n",
       "[? rows x 3 columns]<br/>Note: Only the head of the SFrame is printed. This SFrame is lazily evaluated.<br/>You can use sf.materialize() to force materialization.\n",
       "</div>"
      ],
      "text/plain": [
       "Columns:\n",
       "\tUserID\tint\n",
       "\tISBN\tstr\n",
       "\tBookRating\tint\n",
       "\n",
       "Rows: Unknown\n",
       "\n",
       "Data:\n",
       "\t[]"
      ]
     },
     "execution_count": 7,
     "metadata": {},
     "output_type": "execute_result"
    }
   ],
   "source": [
    "dfRatingsWithZeroes[dfRatingsWithZeroes['BookRating'] != 0]"
   ]
  },
  {
   "cell_type": "code",
   "execution_count": 8,
   "metadata": {
    "collapsed": false
   },
   "outputs": [
    {
     "data": {
      "text/html": [
       "<pre>Finished parsing file /Users/jhonasttanregalado/Documents/DataScience/bootcamp7/githubcrush/bootcamp007_project/Project5-Capstone/shopaholics/BX-CSV-Dump/itemsSubsetForGraphLab.csv</pre>"
      ],
      "text/plain": [
       "Finished parsing file /Users/jhonasttanregalado/Documents/DataScience/bootcamp7/githubcrush/bootcamp007_project/Project5-Capstone/shopaholics/BX-CSV-Dump/itemsSubsetForGraphLab.csv"
      ]
     },
     "metadata": {},
     "output_type": "display_data"
    },
    {
     "data": {
      "text/html": [
       "<pre>Parsing completed. Parsed 100 lines in 0.502839 secs.</pre>"
      ],
      "text/plain": [
       "Parsing completed. Parsed 100 lines in 0.502839 secs."
      ]
     },
     "metadata": {},
     "output_type": "display_data"
    },
    {
     "data": {
      "text/html": [
       "<pre>These column type hints were not used: X1</pre>"
      ],
      "text/plain": [
       "These column type hints were not used: X1"
      ]
     },
     "metadata": {},
     "output_type": "display_data"
    },
    {
     "data": {
      "text/html": [
       "<pre>Finished parsing file /Users/jhonasttanregalado/Documents/DataScience/bootcamp7/githubcrush/bootcamp007_project/Project5-Capstone/shopaholics/BX-CSV-Dump/itemsSubsetForGraphLab.csv</pre>"
      ],
      "text/plain": [
       "Finished parsing file /Users/jhonasttanregalado/Documents/DataScience/bootcamp7/githubcrush/bootcamp007_project/Project5-Capstone/shopaholics/BX-CSV-Dump/itemsSubsetForGraphLab.csv"
      ]
     },
     "metadata": {},
     "output_type": "display_data"
    },
    {
     "data": {
      "text/html": [
       "<pre>Parsing completed. Parsed 55655 lines in 0.400324 secs.</pre>"
      ],
      "text/plain": [
       "Parsing completed. Parsed 55655 lines in 0.400324 secs."
      ]
     },
     "metadata": {},
     "output_type": "display_data"
    }
   ],
   "source": [
    "#Save items subset data to local file, for reloading as an SFrame\n",
    "#columnFields = ['UserID','ISBN','BookRating','title','authors','publishedDate',\\\n",
    "#                'publisher','categories','pageCount','imageThumbnail','textSnippet']\n",
    "#items = items[columnFields]\n",
    "#items.info()\n",
    "#items.to_csv(\"../BX-CSV-Dump/itemsSubsetForGraphLab.csv\")\n",
    "\n",
    "items = gl.SFrame.read_csv(\"../BX-CSV-Dump/itemsSubsetForGraphLab.csv\",\\\n",
    "                           column_type_hints={\"ISBN\":str, \"pageCount\":int})\n",
    "\n"
   ]
  },
  {
   "cell_type": "code",
   "execution_count": 9,
   "metadata": {
    "collapsed": false
   },
   "outputs": [
    {
     "data": {
      "text/plain": [
       "<bound method SFrame.column_types of Columns:\n",
       "\tISBN\tstr\n",
       "\tauthors\tstr\n",
       "\tcategories\tstr\n",
       "\timageThumbnail\tstr\n",
       "\tpageCount\tint\n",
       "\tpublishedDate\tstr\n",
       "\tpublisher\tstr\n",
       "\ttextSnippet\tstr\n",
       "\ttitle\tstr\n",
       "\n",
       "Rows: 883\n",
       "\n",
       "Data:\n",
       "+------------+-------------------------------+---------------------------+\n",
       "|    ISBN    |            authors            |         categories        |\n",
       "+------------+-------------------------------+---------------------------+\n",
       "| 051512317X |          Nora Roberts         |          Fiction          |\n",
       "| 0440204194 |          Maeve Binchy         |          Fiction          |\n",
       "| 1573229725 |          Sarah Waters         |          Fiction          |\n",
       "| 0689716958 |       Virginia Hamilton       |      Juvenile Fiction     |\n",
       "| 0449003795 |          Sue Grafton          |          Fiction          |\n",
       "| 0767902521 |          Bill Bryson          |           Travel          |\n",
       "| 044691200X | MAD Magazine, Sergio Aragonés |           Humor           |\n",
       "| 068484267X |         Frank McCourt         | Biography & Autobiography |\n",
       "| 0373484003 |          Nora Roberts         |          Fiction          |\n",
       "| 0515133302 |       Catherine Coulter       |          Fiction          |\n",
       "+------------+-------------------------------+---------------------------+\n",
       "+-------------------------------+-----------+---------------+\n",
       "|         imageThumbnail        | pageCount | publishedDate |\n",
       "+-------------------------------+-----------+---------------+\n",
       "| http://books.google.com/bo... |    339    |      1998     |\n",
       "| http://books.google.com/bo... |    672    |      1989     |\n",
       "| http://books.google.com/bo... |    582    |      2002     |\n",
       "| http://books.google.com/bo... |    128    |   1993-04-30  |\n",
       "| http://books.google.com/bo... |    370    |      2001     |\n",
       "| http://books.google.com/bo... |    276    |      1999     |\n",
       "| http://books.google.com/bo... |     85    |      1997     |\n",
       "| http://books.google.com/bo... |    363    |   1999-05-25  |\n",
       "| http://books.google.com/bo... |    506    |      2000     |\n",
       "| http://books.google.com/bo... |    337    |      2002     |\n",
       "+-------------------------------+-----------+---------------+\n",
       "+----------------------------+-------------------------------+\n",
       "|         publisher          |          textSnippet          |\n",
       "+----------------------------+-------------------------------+\n",
       "|          Penguin           | Ethan Quinn must rise abov... |\n",
       "|  Dell Publishing Company   |             Roman.            |\n",
       "|          Penguin           | Growing up as a foster chi... |\n",
       "|          Aladdin           | When Geeder finally meets ... |\n",
       "| Random House Digital, Inc. | Kinsey Millhone trusts her... |\n",
       "|          Broadway          | Bryson share his experienc... |\n",
       "|        Warner Books        | Presents a collection of q... |\n",
       "|     Simon and Schuster     | The author recounts his ch... |\n",
       "|      Harlequin Books       | And look for Irish Rebel, ... |\n",
       "|          Penguin           | Caught up in a challenging... |\n",
       "+----------------------------+-------------------------------+\n",
       "+--------------------------+\n",
       "|          title           |\n",
       "+--------------------------+\n",
       "|       Rising Tides       |\n",
       "|      Firefly Summer      |\n",
       "|       Fingersmith        |\n",
       "|          Zeely           |\n",
       "| Is for Peril : [romanas] |\n",
       "|   A Walk in the Woods    |\n",
       "|           MAD            |\n",
       "|      Angela's Ashes      |\n",
       "|       Irish Hearts       |\n",
       "|       Hemlock Bay        |\n",
       "+--------------------------+\n",
       "[883 rows x 9 columns]\n",
       "Note: Only the head of the SFrame is printed.\n",
       "You can use print_rows(num_rows=m, num_columns=n) to print more rows and columns.>"
      ]
     },
     "execution_count": 9,
     "metadata": {},
     "output_type": "execute_result"
    }
   ],
   "source": [
    "#prep dataframe for unique items only - original Rows: 55655\n",
    "\n",
    "items.remove_columns(['X1','UserID', 'BookRating'])\n",
    "items = items.unique()\n",
    "items.column_types"
   ]
  },
  {
   "cell_type": "markdown",
   "metadata": {},
   "source": [
    "### Build a Jaccard based model - based on similarity without using rating values"
   ]
  },
  {
   "cell_type": "code",
   "execution_count": 10,
   "metadata": {
    "collapsed": true
   },
   "outputs": [],
   "source": [
    "#variable to be referenced in training model section\n",
    "actions = dfRating"
   ]
  },
  {
   "cell_type": "code",
   "execution_count": 11,
   "metadata": {
    "collapsed": false
   },
   "outputs": [
    {
     "data": {
      "text/plain": [
       "<bound method SFrame.column_names of Columns:\n",
       "\tUserID\tint\n",
       "\tISBN\tstr\n",
       "\tBookRating\tint\n",
       "\n",
       "Rows: 121887\n",
       "\n",
       "Data:\n",
       "+--------+------------+------------+\n",
       "| UserID |    ISBN    | BookRating |\n",
       "+--------+------------+------------+\n",
       "| 276746 | 0449006522 |     0      |\n",
       "| 276746 | 055356451X |     0      |\n",
       "| 276754 | 0684867621 |     8      |\n",
       "| 276755 | 0451166892 |     5      |\n",
       "| 276762 | 0451167317 |     0      |\n",
       "| 276788 | 043935806X |     7      |\n",
       "| 276804 | 0440498058 |     8      |\n",
       "| 276822 | 0060096195 |     10     |\n",
       "| 276822 | 0786817070 |     10     |\n",
       "| 276830 | 0440225825 |     9      |\n",
       "+--------+------------+------------+\n",
       "[121887 rows x 3 columns]\n",
       "Note: Only the head of the SFrame is printed.\n",
       "You can use print_rows(num_rows=m, num_columns=n) to print more rows and columns.>"
      ]
     },
     "execution_count": 11,
     "metadata": {},
     "output_type": "execute_result"
    }
   ],
   "source": [
    "actions.column_names"
   ]
  },
  {
   "cell_type": "markdown",
   "metadata": {},
   "source": [
    "### Examples\n",
    "\n",
    "Basic usage\n",
    "\n",
    "Given basic user-item observation data, an ItemSimilarityRecommender is created:\n",
    "\n",
    ">>> sf = graphlab.SFrame({'user_id': ['0', '0', '0', '1', '1', '2', '2', '2'],\n",
    "...                       'item_id': ['a', 'b', 'c', 'a', 'b', 'b', 'c', 'd']})\n",
    ">>> m = graphlab.recommender.create(sf)\n",
    ">>> recs = m.recommend()\n",
    "Creating a model for ratings data\n",
    "\n",
    "This trains a FactorizationRecommender that can predict target ratings:\n",
    "\n",
    ">>> sf2 = graphlab.SFrame({'user_id': ['0', '0', '0', '1', '1', '2', '2', '2'],\n",
    "...                        'item_id': ['a', 'b', 'c', 'a', 'b', 'b', 'c', 'd'],\n",
    "...                        'rating': [1, 3, 2, 5, 4, 1, 4, 3]})\n",
    ">>> m2 = graphlab.recommender.create(sf2, target=\"rating\", ranking = False)\n"
   ]
  },
  {
   "cell_type": "code",
   "execution_count": 12,
   "metadata": {
    "collapsed": false,
    "scrolled": true
   },
   "outputs": [
    {
     "data": {
      "text/html": [
       "<pre>Recsys training: model = item_similarity</pre>"
      ],
      "text/plain": [
       "Recsys training: model = item_similarity"
      ]
     },
     "metadata": {},
     "output_type": "display_data"
    },
    {
     "data": {
      "text/html": [
       "<pre>Warning: Column 'BookRating' ignored.</pre>"
      ],
      "text/plain": [
       "Warning: Column 'BookRating' ignored."
      ]
     },
     "metadata": {},
     "output_type": "display_data"
    },
    {
     "data": {
      "text/html": [
       "<pre>    To use this column as the target, set target = \"BookRating\" and use a method that allows the use of a target.</pre>"
      ],
      "text/plain": [
       "    To use this column as the target, set target = \"BookRating\" and use a method that allows the use of a target."
      ]
     },
     "metadata": {},
     "output_type": "display_data"
    },
    {
     "data": {
      "text/html": [
       "<pre>Preparing data set.</pre>"
      ],
      "text/plain": [
       "Preparing data set."
      ]
     },
     "metadata": {},
     "output_type": "display_data"
    },
    {
     "data": {
      "text/html": [
       "<pre>    Data has 121025 observations with 30161 users and 847 items.</pre>"
      ],
      "text/plain": [
       "    Data has 121025 observations with 30161 users and 847 items."
      ]
     },
     "metadata": {},
     "output_type": "display_data"
    },
    {
     "data": {
      "text/html": [
       "<pre>    Data prepared in: 0.216179s</pre>"
      ],
      "text/plain": [
       "    Data prepared in: 0.216179s"
      ]
     },
     "metadata": {},
     "output_type": "display_data"
    },
    {
     "data": {
      "text/html": [
       "<pre>Training model from provided data.</pre>"
      ],
      "text/plain": [
       "Training model from provided data."
      ]
     },
     "metadata": {},
     "output_type": "display_data"
    },
    {
     "data": {
      "text/html": [
       "<pre>Gathering per-item and per-user statistics.</pre>"
      ],
      "text/plain": [
       "Gathering per-item and per-user statistics."
      ]
     },
     "metadata": {},
     "output_type": "display_data"
    },
    {
     "data": {
      "text/html": [
       "<pre>+--------------------------------+------------+</pre>"
      ],
      "text/plain": [
       "+--------------------------------+------------+"
      ]
     },
     "metadata": {},
     "output_type": "display_data"
    },
    {
     "data": {
      "text/html": [
       "<pre>| Elapsed Time (Item Statistics) | % Complete |</pre>"
      ],
      "text/plain": [
       "| Elapsed Time (Item Statistics) | % Complete |"
      ]
     },
     "metadata": {},
     "output_type": "display_data"
    },
    {
     "data": {
      "text/html": [
       "<pre>+--------------------------------+------------+</pre>"
      ],
      "text/plain": [
       "+--------------------------------+------------+"
      ]
     },
     "metadata": {},
     "output_type": "display_data"
    },
    {
     "data": {
      "text/html": [
       "<pre>| 3.524ms                        | 26.5       |</pre>"
      ],
      "text/plain": [
       "| 3.524ms                        | 26.5       |"
      ]
     },
     "metadata": {},
     "output_type": "display_data"
    },
    {
     "data": {
      "text/html": [
       "<pre>| 34.482ms                       | 100        |</pre>"
      ],
      "text/plain": [
       "| 34.482ms                       | 100        |"
      ]
     },
     "metadata": {},
     "output_type": "display_data"
    },
    {
     "data": {
      "text/html": [
       "<pre>+--------------------------------+------------+</pre>"
      ],
      "text/plain": [
       "+--------------------------------+------------+"
      ]
     },
     "metadata": {},
     "output_type": "display_data"
    },
    {
     "data": {
      "text/html": [
       "<pre>Setting up lookup tables.</pre>"
      ],
      "text/plain": [
       "Setting up lookup tables."
      ]
     },
     "metadata": {},
     "output_type": "display_data"
    },
    {
     "data": {
      "text/html": [
       "<pre>Processing data in one pass using dense lookup tables.</pre>"
      ],
      "text/plain": [
       "Processing data in one pass using dense lookup tables."
      ]
     },
     "metadata": {},
     "output_type": "display_data"
    },
    {
     "data": {
      "text/html": [
       "<pre>+-------------------------------------+------------------+-----------------+</pre>"
      ],
      "text/plain": [
       "+-------------------------------------+------------------+-----------------+"
      ]
     },
     "metadata": {},
     "output_type": "display_data"
    },
    {
     "data": {
      "text/html": [
       "<pre>| Elapsed Time (Constructing Lookups) | Total % Complete | Items Processed |</pre>"
      ],
      "text/plain": [
       "| Elapsed Time (Constructing Lookups) | Total % Complete | Items Processed |"
      ]
     },
     "metadata": {},
     "output_type": "display_data"
    },
    {
     "data": {
      "text/html": [
       "<pre>+-------------------------------------+------------------+-----------------+</pre>"
      ],
      "text/plain": [
       "+-------------------------------------+------------------+-----------------+"
      ]
     },
     "metadata": {},
     "output_type": "display_data"
    },
    {
     "data": {
      "text/html": [
       "<pre>| 44.038ms                            | 0                | 0               |</pre>"
      ],
      "text/plain": [
       "| 44.038ms                            | 0                | 0               |"
      ]
     },
     "metadata": {},
     "output_type": "display_data"
    },
    {
     "data": {
      "text/html": [
       "<pre>| 311.469ms                           | 100              | 847             |</pre>"
      ],
      "text/plain": [
       "| 311.469ms                           | 100              | 847             |"
      ]
     },
     "metadata": {},
     "output_type": "display_data"
    },
    {
     "data": {
      "text/html": [
       "<pre>+-------------------------------------+------------------+-----------------+</pre>"
      ],
      "text/plain": [
       "+-------------------------------------+------------------+-----------------+"
      ]
     },
     "metadata": {},
     "output_type": "display_data"
    },
    {
     "data": {
      "text/html": [
       "<pre>Finalizing lookup tables.</pre>"
      ],
      "text/plain": [
       "Finalizing lookup tables."
      ]
     },
     "metadata": {},
     "output_type": "display_data"
    },
    {
     "data": {
      "text/html": [
       "<pre>Generating candidate set for working with new users.</pre>"
      ],
      "text/plain": [
       "Generating candidate set for working with new users."
      ]
     },
     "metadata": {},
     "output_type": "display_data"
    },
    {
     "data": {
      "text/html": [
       "<pre>Finished training in 1.33539s</pre>"
      ],
      "text/plain": [
       "Finished training in 1.33539s"
      ]
     },
     "metadata": {},
     "output_type": "display_data"
    }
   ],
   "source": [
    "#build a model - defaults to jaccardian\n",
    "training_data, validation_data = gl.recommender.util.random_split_by_user(actions, 'UserID', 'ISBN')\n",
    "model = gl.recommender.create(training_data, 'UserID', 'ISBN')"
   ]
  },
  {
   "cell_type": "code",
   "execution_count": 13,
   "metadata": {
    "collapsed": false
   },
   "outputs": [
    {
     "data": {
      "text/html": [
       "<pre>recommendations finished on 1000/30161 queries. users per second: 107538</pre>"
      ],
      "text/plain": [
       "recommendations finished on 1000/30161 queries. users per second: 107538"
      ]
     },
     "metadata": {},
     "output_type": "display_data"
    },
    {
     "data": {
      "text/html": [
       "<pre>recommendations finished on 2000/30161 queries. users per second: 108073</pre>"
      ],
      "text/plain": [
       "recommendations finished on 2000/30161 queries. users per second: 108073"
      ]
     },
     "metadata": {},
     "output_type": "display_data"
    },
    {
     "data": {
      "text/html": [
       "<pre>recommendations finished on 3000/30161 queries. users per second: 94067.5</pre>"
      ],
      "text/plain": [
       "recommendations finished on 3000/30161 queries. users per second: 94067.5"
      ]
     },
     "metadata": {},
     "output_type": "display_data"
    },
    {
     "data": {
      "text/html": [
       "<pre>recommendations finished on 4000/30161 queries. users per second: 75100.4</pre>"
      ],
      "text/plain": [
       "recommendations finished on 4000/30161 queries. users per second: 75100.4"
      ]
     },
     "metadata": {},
     "output_type": "display_data"
    },
    {
     "data": {
      "text/html": [
       "<pre>recommendations finished on 5000/30161 queries. users per second: 69786.6</pre>"
      ],
      "text/plain": [
       "recommendations finished on 5000/30161 queries. users per second: 69786.6"
      ]
     },
     "metadata": {},
     "output_type": "display_data"
    },
    {
     "data": {
      "text/html": [
       "<pre>recommendations finished on 6000/30161 queries. users per second: 73198.4</pre>"
      ],
      "text/plain": [
       "recommendations finished on 6000/30161 queries. users per second: 73198.4"
      ]
     },
     "metadata": {},
     "output_type": "display_data"
    },
    {
     "data": {
      "text/html": [
       "<pre>recommendations finished on 7000/30161 queries. users per second: 69280.2</pre>"
      ],
      "text/plain": [
       "recommendations finished on 7000/30161 queries. users per second: 69280.2"
      ]
     },
     "metadata": {},
     "output_type": "display_data"
    },
    {
     "data": {
      "text/html": [
       "<pre>recommendations finished on 8000/30161 queries. users per second: 67893.8</pre>"
      ],
      "text/plain": [
       "recommendations finished on 8000/30161 queries. users per second: 67893.8"
      ]
     },
     "metadata": {},
     "output_type": "display_data"
    },
    {
     "data": {
      "text/html": [
       "<pre>recommendations finished on 9000/30161 queries. users per second: 68364.1</pre>"
      ],
      "text/plain": [
       "recommendations finished on 9000/30161 queries. users per second: 68364.1"
      ]
     },
     "metadata": {},
     "output_type": "display_data"
    },
    {
     "data": {
      "text/html": [
       "<pre>recommendations finished on 10000/30161 queries. users per second: 69862.7</pre>"
      ],
      "text/plain": [
       "recommendations finished on 10000/30161 queries. users per second: 69862.7"
      ]
     },
     "metadata": {},
     "output_type": "display_data"
    },
    {
     "data": {
      "text/html": [
       "<pre>recommendations finished on 11000/30161 queries. users per second: 70491.1</pre>"
      ],
      "text/plain": [
       "recommendations finished on 11000/30161 queries. users per second: 70491.1"
      ]
     },
     "metadata": {},
     "output_type": "display_data"
    },
    {
     "data": {
      "text/html": [
       "<pre>recommendations finished on 12000/30161 queries. users per second: 70426.7</pre>"
      ],
      "text/plain": [
       "recommendations finished on 12000/30161 queries. users per second: 70426.7"
      ]
     },
     "metadata": {},
     "output_type": "display_data"
    },
    {
     "data": {
      "text/html": [
       "<pre>recommendations finished on 13000/30161 queries. users per second: 70865.2</pre>"
      ],
      "text/plain": [
       "recommendations finished on 13000/30161 queries. users per second: 70865.2"
      ]
     },
     "metadata": {},
     "output_type": "display_data"
    },
    {
     "data": {
      "text/html": [
       "<pre>recommendations finished on 14000/30161 queries. users per second: 71200.1</pre>"
      ],
      "text/plain": [
       "recommendations finished on 14000/30161 queries. users per second: 71200.1"
      ]
     },
     "metadata": {},
     "output_type": "display_data"
    },
    {
     "data": {
      "text/html": [
       "<pre>recommendations finished on 15000/30161 queries. users per second: 69864.3</pre>"
      ],
      "text/plain": [
       "recommendations finished on 15000/30161 queries. users per second: 69864.3"
      ]
     },
     "metadata": {},
     "output_type": "display_data"
    },
    {
     "data": {
      "text/html": [
       "<pre>recommendations finished on 16000/30161 queries. users per second: 70276.8</pre>"
      ],
      "text/plain": [
       "recommendations finished on 16000/30161 queries. users per second: 70276.8"
      ]
     },
     "metadata": {},
     "output_type": "display_data"
    },
    {
     "data": {
      "text/html": [
       "<pre>recommendations finished on 17000/30161 queries. users per second: 70578.1</pre>"
      ],
      "text/plain": [
       "recommendations finished on 17000/30161 queries. users per second: 70578.1"
      ]
     },
     "metadata": {},
     "output_type": "display_data"
    },
    {
     "data": {
      "text/html": [
       "<pre>recommendations finished on 18000/30161 queries. users per second: 71259.8</pre>"
      ],
      "text/plain": [
       "recommendations finished on 18000/30161 queries. users per second: 71259.8"
      ]
     },
     "metadata": {},
     "output_type": "display_data"
    },
    {
     "data": {
      "text/html": [
       "<pre>recommendations finished on 19000/30161 queries. users per second: 72660</pre>"
      ],
      "text/plain": [
       "recommendations finished on 19000/30161 queries. users per second: 72660"
      ]
     },
     "metadata": {},
     "output_type": "display_data"
    },
    {
     "data": {
      "text/html": [
       "<pre>recommendations finished on 20000/30161 queries. users per second: 73750.9</pre>"
      ],
      "text/plain": [
       "recommendations finished on 20000/30161 queries. users per second: 73750.9"
      ]
     },
     "metadata": {},
     "output_type": "display_data"
    },
    {
     "data": {
      "text/html": [
       "<pre>recommendations finished on 21000/30161 queries. users per second: 73240.1</pre>"
      ],
      "text/plain": [
       "recommendations finished on 21000/30161 queries. users per second: 73240.1"
      ]
     },
     "metadata": {},
     "output_type": "display_data"
    },
    {
     "data": {
      "text/html": [
       "<pre>recommendations finished on 22000/30161 queries. users per second: 73119.8</pre>"
      ],
      "text/plain": [
       "recommendations finished on 22000/30161 queries. users per second: 73119.8"
      ]
     },
     "metadata": {},
     "output_type": "display_data"
    },
    {
     "data": {
      "text/html": [
       "<pre>recommendations finished on 23000/30161 queries. users per second: 74241.7</pre>"
      ],
      "text/plain": [
       "recommendations finished on 23000/30161 queries. users per second: 74241.7"
      ]
     },
     "metadata": {},
     "output_type": "display_data"
    },
    {
     "data": {
      "text/html": [
       "<pre>recommendations finished on 24000/30161 queries. users per second: 73908.5</pre>"
      ],
      "text/plain": [
       "recommendations finished on 24000/30161 queries. users per second: 73908.5"
      ]
     },
     "metadata": {},
     "output_type": "display_data"
    },
    {
     "data": {
      "text/html": [
       "<pre>recommendations finished on 25000/30161 queries. users per second: 74196.7</pre>"
      ],
      "text/plain": [
       "recommendations finished on 25000/30161 queries. users per second: 74196.7"
      ]
     },
     "metadata": {},
     "output_type": "display_data"
    },
    {
     "data": {
      "text/html": [
       "<pre>recommendations finished on 26000/30161 queries. users per second: 73776.2</pre>"
      ],
      "text/plain": [
       "recommendations finished on 26000/30161 queries. users per second: 73776.2"
      ]
     },
     "metadata": {},
     "output_type": "display_data"
    },
    {
     "data": {
      "text/html": [
       "<pre>recommendations finished on 27000/30161 queries. users per second: 74237.6</pre>"
      ],
      "text/plain": [
       "recommendations finished on 27000/30161 queries. users per second: 74237.6"
      ]
     },
     "metadata": {},
     "output_type": "display_data"
    },
    {
     "data": {
      "text/html": [
       "<pre>recommendations finished on 28000/30161 queries. users per second: 74743.4</pre>"
      ],
      "text/plain": [
       "recommendations finished on 28000/30161 queries. users per second: 74743.4"
      ]
     },
     "metadata": {},
     "output_type": "display_data"
    },
    {
     "data": {
      "text/html": [
       "<pre>recommendations finished on 29000/30161 queries. users per second: 75003.6</pre>"
      ],
      "text/plain": [
       "recommendations finished on 29000/30161 queries. users per second: 75003.6"
      ]
     },
     "metadata": {},
     "output_type": "display_data"
    },
    {
     "data": {
      "text/html": [
       "<pre>recommendations finished on 30000/30161 queries. users per second: 74244.9</pre>"
      ],
      "text/plain": [
       "recommendations finished on 30000/30161 queries. users per second: 74244.9"
      ]
     },
     "metadata": {},
     "output_type": "display_data"
    }
   ],
   "source": [
    "results = model.recommend()"
   ]
  },
  {
   "cell_type": "code",
   "execution_count": 14,
   "metadata": {
    "collapsed": false
   },
   "outputs": [],
   "source": [
    "my_list_of_items = pd.read_csv('../BX-CSV-Dump/books1000.csv')"
   ]
  },
  {
   "cell_type": "code",
   "execution_count": 15,
   "metadata": {
    "collapsed": false
   },
   "outputs": [],
   "source": [
    "my_list_of_items = gl.SArray(my_list_of_items['ISBN'])"
   ]
  },
  {
   "cell_type": "code",
   "execution_count": 16,
   "metadata": {
    "collapsed": false
   },
   "outputs": [],
   "source": [
    "similar_items = model.get_similar_items(my_list_of_items[:10], k=20)\n"
   ]
  },
  {
   "cell_type": "code",
   "execution_count": 17,
   "metadata": {
    "collapsed": false
   },
   "outputs": [
    {
     "data": {
      "text/html": [
       "<div style=\"max-height:1000px;max-width:1500px;overflow:auto;\"><table frame=\"box\" rules=\"cols\">\n",
       "    <tr>\n",
       "        <th style=\"padding-left: 1em; padding-right: 1em; text-align: center\">ISBN</th>\n",
       "        <th style=\"padding-left: 1em; padding-right: 1em; text-align: center\">similar</th>\n",
       "        <th style=\"padding-left: 1em; padding-right: 1em; text-align: center\">score</th>\n",
       "        <th style=\"padding-left: 1em; padding-right: 1em; text-align: center\">rank</th>\n",
       "    </tr>\n",
       "    <tr>\n",
       "        <td style=\"padding-left: 1em; padding-right: 1em; text-align: center; vertical-align: top\">0971880107</td>\n",
       "        <td style=\"padding-left: 1em; padding-right: 1em; text-align: center; vertical-align: top\">0316666343</td>\n",
       "        <td style=\"padding-left: 1em; padding-right: 1em; text-align: center; vertical-align: top\">0.0657224059105</td>\n",
       "        <td style=\"padding-left: 1em; padding-right: 1em; text-align: center; vertical-align: top\">1</td>\n",
       "    </tr>\n",
       "    <tr>\n",
       "        <td style=\"padding-left: 1em; padding-right: 1em; text-align: center; vertical-align: top\">0971880107</td>\n",
       "        <td style=\"padding-left: 1em; padding-right: 1em; text-align: center; vertical-align: top\">0385504209</td>\n",
       "        <td style=\"padding-left: 1em; padding-right: 1em; text-align: center; vertical-align: top\">0.0597723126411</td>\n",
       "        <td style=\"padding-left: 1em; padding-right: 1em; text-align: center; vertical-align: top\">2</td>\n",
       "    </tr>\n",
       "    <tr>\n",
       "        <td style=\"padding-left: 1em; padding-right: 1em; text-align: center; vertical-align: top\">0971880107</td>\n",
       "        <td style=\"padding-left: 1em; padding-right: 1em; text-align: center; vertical-align: top\">0671027360</td>\n",
       "        <td style=\"padding-left: 1em; padding-right: 1em; text-align: center; vertical-align: top\">0.0454390048981</td>\n",
       "        <td style=\"padding-left: 1em; padding-right: 1em; text-align: center; vertical-align: top\">3</td>\n",
       "    </tr>\n",
       "    <tr>\n",
       "        <td style=\"padding-left: 1em; padding-right: 1em; text-align: center; vertical-align: top\">0971880107</td>\n",
       "        <td style=\"padding-left: 1em; padding-right: 1em; text-align: center; vertical-align: top\">0679781587</td>\n",
       "        <td style=\"padding-left: 1em; padding-right: 1em; text-align: center; vertical-align: top\">0.0439302325249</td>\n",
       "        <td style=\"padding-left: 1em; padding-right: 1em; text-align: center; vertical-align: top\">4</td>\n",
       "    </tr>\n",
       "    <tr>\n",
       "        <td style=\"padding-left: 1em; padding-right: 1em; text-align: center; vertical-align: top\">0971880107</td>\n",
       "        <td style=\"padding-left: 1em; padding-right: 1em; text-align: center; vertical-align: top\">044021145X</td>\n",
       "        <td style=\"padding-left: 1em; padding-right: 1em; text-align: center; vertical-align: top\">0.0438413619995</td>\n",
       "        <td style=\"padding-left: 1em; padding-right: 1em; text-align: center; vertical-align: top\">5</td>\n",
       "    </tr>\n",
       "    <tr>\n",
       "        <td style=\"padding-left: 1em; padding-right: 1em; text-align: center; vertical-align: top\">0971880107</td>\n",
       "        <td style=\"padding-left: 1em; padding-right: 1em; text-align: center; vertical-align: top\">067976402X</td>\n",
       "        <td style=\"padding-left: 1em; padding-right: 1em; text-align: center; vertical-align: top\">0.0436105728149</td>\n",
       "        <td style=\"padding-left: 1em; padding-right: 1em; text-align: center; vertical-align: top\">6</td>\n",
       "    </tr>\n",
       "    <tr>\n",
       "        <td style=\"padding-left: 1em; padding-right: 1em; text-align: center; vertical-align: top\">0971880107</td>\n",
       "        <td style=\"padding-left: 1em; padding-right: 1em; text-align: center; vertical-align: top\">0142001740</td>\n",
       "        <td style=\"padding-left: 1em; padding-right: 1em; text-align: center; vertical-align: top\">0.0432724952698</td>\n",
       "        <td style=\"padding-left: 1em; padding-right: 1em; text-align: center; vertical-align: top\">7</td>\n",
       "    </tr>\n",
       "    <tr>\n",
       "        <td style=\"padding-left: 1em; padding-right: 1em; text-align: center; vertical-align: top\">0971880107</td>\n",
       "        <td style=\"padding-left: 1em; padding-right: 1em; text-align: center; vertical-align: top\">0312195516</td>\n",
       "        <td style=\"padding-left: 1em; padding-right: 1em; text-align: center; vertical-align: top\">0.0417482256889</td>\n",
       "        <td style=\"padding-left: 1em; padding-right: 1em; text-align: center; vertical-align: top\">8</td>\n",
       "    </tr>\n",
       "    <tr>\n",
       "        <td style=\"padding-left: 1em; padding-right: 1em; text-align: center; vertical-align: top\">0971880107</td>\n",
       "        <td style=\"padding-left: 1em; padding-right: 1em; text-align: center; vertical-align: top\">0375727345</td>\n",
       "        <td style=\"padding-left: 1em; padding-right: 1em; text-align: center; vertical-align: top\">0.0417097806931</td>\n",
       "        <td style=\"padding-left: 1em; padding-right: 1em; text-align: center; vertical-align: top\">9</td>\n",
       "    </tr>\n",
       "    <tr>\n",
       "        <td style=\"padding-left: 1em; padding-right: 1em; text-align: center; vertical-align: top\">0971880107</td>\n",
       "        <td style=\"padding-left: 1em; padding-right: 1em; text-align: center; vertical-align: top\">0345337662</td>\n",
       "        <td style=\"padding-left: 1em; padding-right: 1em; text-align: center; vertical-align: top\">0.0401116013527</td>\n",
       "        <td style=\"padding-left: 1em; padding-right: 1em; text-align: center; vertical-align: top\">10</td>\n",
       "    </tr>\n",
       "</table>\n",
       "[180 rows x 4 columns]<br/>Note: Only the head of the SFrame is printed.<br/>You can use print_rows(num_rows=m, num_columns=n) to print more rows and columns.\n",
       "</div>"
      ],
      "text/plain": [
       "Columns:\n",
       "\tISBN\tstr\n",
       "\tsimilar\tstr\n",
       "\tscore\tfloat\n",
       "\trank\tint\n",
       "\n",
       "Rows: 180\n",
       "\n",
       "Data:\n",
       "+------------+------------+-----------------+------+\n",
       "|    ISBN    |  similar   |      score      | rank |\n",
       "+------------+------------+-----------------+------+\n",
       "| 0971880107 | 0316666343 | 0.0657224059105 |  1   |\n",
       "| 0971880107 | 0385504209 | 0.0597723126411 |  2   |\n",
       "| 0971880107 | 0671027360 | 0.0454390048981 |  3   |\n",
       "| 0971880107 | 0679781587 | 0.0439302325249 |  4   |\n",
       "| 0971880107 | 044021145X | 0.0438413619995 |  5   |\n",
       "| 0971880107 | 067976402X | 0.0436105728149 |  6   |\n",
       "| 0971880107 | 0142001740 | 0.0432724952698 |  7   |\n",
       "| 0971880107 | 0312195516 | 0.0417482256889 |  8   |\n",
       "| 0971880107 | 0375727345 | 0.0417097806931 |  9   |\n",
       "| 0971880107 | 0345337662 | 0.0401116013527 |  10  |\n",
       "+------------+------------+-----------------+------+\n",
       "[180 rows x 4 columns]\n",
       "Note: Only the head of the SFrame is printed.\n",
       "You can use print_rows(num_rows=m, num_columns=n) to print more rows and columns."
      ]
     },
     "execution_count": 17,
     "metadata": {},
     "output_type": "execute_result"
    }
   ],
   "source": [
    "similar_items"
   ]
  },
  {
   "cell_type": "code",
   "execution_count": 18,
   "metadata": {
    "collapsed": false
   },
   "outputs": [],
   "source": [
    "def ISBNlookup(i):\n",
    "    return items[items['ISBN']==i]"
   ]
  },
  {
   "cell_type": "code",
   "execution_count": 19,
   "metadata": {
    "collapsed": false
   },
   "outputs": [
    {
     "data": {
      "text/html": [
       "<div style=\"max-height:1000px;max-width:1500px;overflow:auto;\"><table frame=\"box\" rules=\"cols\">\n",
       "    <tr>\n",
       "        <th style=\"padding-left: 1em; padding-right: 1em; text-align: center\">ISBN</th>\n",
       "        <th style=\"padding-left: 1em; padding-right: 1em; text-align: center\">authors</th>\n",
       "        <th style=\"padding-left: 1em; padding-right: 1em; text-align: center\">categories</th>\n",
       "        <th style=\"padding-left: 1em; padding-right: 1em; text-align: center\">imageThumbnail</th>\n",
       "        <th style=\"padding-left: 1em; padding-right: 1em; text-align: center\">pageCount</th>\n",
       "        <th style=\"padding-left: 1em; padding-right: 1em; text-align: center\">publishedDate</th>\n",
       "        <th style=\"padding-left: 1em; padding-right: 1em; text-align: center\">publisher</th>\n",
       "    </tr>\n",
       "    <tr>\n",
       "        <td style=\"padding-left: 1em; padding-right: 1em; text-align: center; vertical-align: top\">0971880107</td>\n",
       "        <td style=\"padding-left: 1em; padding-right: 1em; text-align: center; vertical-align: top\">Rich Shapero</td>\n",
       "        <td style=\"padding-left: 1em; padding-right: 1em; text-align: center; vertical-align: top\">Fiction</td>\n",
       "        <td style=\"padding-left: 1em; padding-right: 1em; text-align: center; vertical-align: top\">http://books.google.com/b<br>ooks/content?id=cbGr5 ...</td>\n",
       "        <td style=\"padding-left: 1em; padding-right: 1em; text-align: center; vertical-align: top\">315</td>\n",
       "        <td style=\"padding-left: 1em; padding-right: 1em; text-align: center; vertical-align: top\">2004</td>\n",
       "        <td style=\"padding-left: 1em; padding-right: 1em; text-align: center; vertical-align: top\">Too Far Pub</td>\n",
       "    </tr>\n",
       "</table>\n",
       "<table frame=\"box\" rules=\"cols\">\n",
       "    <tr>\n",
       "        <th style=\"padding-left: 1em; padding-right: 1em; text-align: center\">textSnippet</th>\n",
       "        <th style=\"padding-left: 1em; padding-right: 1em; text-align: center\">title</th>\n",
       "    </tr>\n",
       "    <tr>\n",
       "        <td style=\"padding-left: 1em; padding-right: 1em; text-align: center; vertical-align: top\">Newly graduated from<br>college, Sam Altman is ...</td>\n",
       "        <td style=\"padding-left: 1em; padding-right: 1em; text-align: center; vertical-align: top\">Wild Animus</td>\n",
       "    </tr>\n",
       "</table>\n",
       "[? rows x 9 columns]<br/>Note: Only the head of the SFrame is printed. This SFrame is lazily evaluated.<br/>You can use sf.materialize() to force materialization.\n",
       "</div>"
      ],
      "text/plain": [
       "Columns:\n",
       "\tISBN\tstr\n",
       "\tauthors\tstr\n",
       "\tcategories\tstr\n",
       "\timageThumbnail\tstr\n",
       "\tpageCount\tint\n",
       "\tpublishedDate\tstr\n",
       "\tpublisher\tstr\n",
       "\ttextSnippet\tstr\n",
       "\ttitle\tstr\n",
       "\n",
       "Rows: Unknown\n",
       "\n",
       "Data:\n",
       "+------------+--------------+------------+-------------------------------+-----------+\n",
       "|    ISBN    |   authors    | categories |         imageThumbnail        | pageCount |\n",
       "+------------+--------------+------------+-------------------------------+-----------+\n",
       "| 0971880107 | Rich Shapero |  Fiction   | http://books.google.com/bo... |    315    |\n",
       "+------------+--------------+------------+-------------------------------+-----------+\n",
       "+---------------+-------------+-------------------------------+-------------+\n",
       "| publishedDate |  publisher  |          textSnippet          |    title    |\n",
       "+---------------+-------------+-------------------------------+-------------+\n",
       "|      2004     | Too Far Pub | Newly graduated from colle... | Wild Animus |\n",
       "+---------------+-------------+-------------------------------+-------------+\n",
       "[? rows x 9 columns]\n",
       "Note: Only the head of the SFrame is printed. This SFrame is lazily evaluated.\n",
       "You can use sf.materialize() to force materialization."
      ]
     },
     "execution_count": 19,
     "metadata": {},
     "output_type": "execute_result"
    }
   ],
   "source": [
    "ISBNlookup('0971880107')"
   ]
  },
  {
   "cell_type": "code",
   "execution_count": 20,
   "metadata": {
    "collapsed": true
   },
   "outputs": [],
   "source": [
    "model.save('my_model')"
   ]
  },
  {
   "cell_type": "code",
   "execution_count": 21,
   "metadata": {
    "collapsed": false
   },
   "outputs": [],
   "source": [
    "model = gl.load_model('my_model')"
   ]
  },
  {
   "cell_type": "code",
   "execution_count": 22,
   "metadata": {
    "collapsed": false
   },
   "outputs": [
    {
     "data": {
      "text/plain": [
       "<bound method ItemSimilarityRecommender.get of Class                            : ItemSimilarityRecommender\n",
       "\n",
       "Schema\n",
       "------\n",
       "User ID                          : UserID\n",
       "Item ID                          : ISBN\n",
       "Target                           : None\n",
       "Additional observation features  : 0\n",
       "User side features               : []\n",
       "Item side features               : []\n",
       "\n",
       "Statistics\n",
       "----------\n",
       "Number of observations           : 121025\n",
       "Number of users                  : 30161\n",
       "Number of items                  : 847\n",
       "\n",
       "Training summary\n",
       "----------------\n",
       "Training time                    : 1.3355\n",
       "\n",
       "Model Parameters\n",
       "----------------\n",
       "Model class                      : ItemSimilarityRecommender\n",
       "threshold                        : 0.001\n",
       "similarity_type                  : jaccard\n",
       "training_method                  : auto\n",
       "\n",
       "Other Settings\n",
       "--------------\n",
       "degree_approximation_threshold   : 4096\n",
       "sparse_density_estimation_sample_size : 4096\n",
       "max_data_passes                  : 4096\n",
       "target_memory_usage              : 8589934592\n",
       "seed_item_set_size               : 50\n",
       "nearest_neighbors_interaction_proportion_threshold : 0.05\n",
       "max_item_neighborhood_size       : 64\n",
       ">"
      ]
     },
     "execution_count": 22,
     "metadata": {},
     "output_type": "execute_result"
    }
   ],
   "source": [
    "model.get"
   ]
  },
  {
   "cell_type": "markdown",
   "metadata": {},
   "source": [
    "## Visualization"
   ]
  },
  {
   "cell_type": "code",
   "execution_count": 23,
   "metadata": {
    "collapsed": false
   },
   "outputs": [
    {
     "data": {
      "text/plain": [
       "graphlab.data_structures.sframe.SFrame"
      ]
     },
     "execution_count": 23,
     "metadata": {},
     "output_type": "execute_result"
    }
   ],
   "source": [
    "type(items)"
   ]
  },
  {
   "cell_type": "code",
   "execution_count": 24,
   "metadata": {
    "collapsed": false
   },
   "outputs": [
    {
     "data": {
      "text/plain": [
       "graphlab.data_structures.sframe.SFrame"
      ]
     },
     "execution_count": 24,
     "metadata": {},
     "output_type": "execute_result"
    }
   ],
   "source": [
    "validation_data.head()\n",
    "type(validation_data)"
   ]
  },
  {
   "cell_type": "code",
   "execution_count": 25,
   "metadata": {
    "collapsed": false
   },
   "outputs": [
    {
     "data": {
      "text/html": [
       "<div style=\"max-height:1000px;max-width:1500px;overflow:auto;\"><table frame=\"box\" rules=\"cols\">\n",
       "    <tr>\n",
       "        <th style=\"padding-left: 1em; padding-right: 1em; text-align: center\">ISBN</th>\n",
       "        <th style=\"padding-left: 1em; padding-right: 1em; text-align: center\">authors</th>\n",
       "        <th style=\"padding-left: 1em; padding-right: 1em; text-align: center\">categories</th>\n",
       "        <th style=\"padding-left: 1em; padding-right: 1em; text-align: center\">imageThumbnail</th>\n",
       "        <th style=\"padding-left: 1em; padding-right: 1em; text-align: center\">pageCount</th>\n",
       "        <th style=\"padding-left: 1em; padding-right: 1em; text-align: center\">publishedDate</th>\n",
       "    </tr>\n",
       "    <tr>\n",
       "        <td style=\"padding-left: 1em; padding-right: 1em; text-align: center; vertical-align: top\">051512317X</td>\n",
       "        <td style=\"padding-left: 1em; padding-right: 1em; text-align: center; vertical-align: top\">Nora Roberts</td>\n",
       "        <td style=\"padding-left: 1em; padding-right: 1em; text-align: center; vertical-align: top\">Fiction</td>\n",
       "        <td style=\"padding-left: 1em; padding-right: 1em; text-align: center; vertical-align: top\">http://books.google.com/b<br>ooks/content?id=gF7dN ...</td>\n",
       "        <td style=\"padding-left: 1em; padding-right: 1em; text-align: center; vertical-align: top\">339</td>\n",
       "        <td style=\"padding-left: 1em; padding-right: 1em; text-align: center; vertical-align: top\">1998</td>\n",
       "    </tr>\n",
       "    <tr>\n",
       "        <td style=\"padding-left: 1em; padding-right: 1em; text-align: center; vertical-align: top\">0440204194</td>\n",
       "        <td style=\"padding-left: 1em; padding-right: 1em; text-align: center; vertical-align: top\">Maeve Binchy</td>\n",
       "        <td style=\"padding-left: 1em; padding-right: 1em; text-align: center; vertical-align: top\">Fiction</td>\n",
       "        <td style=\"padding-left: 1em; padding-right: 1em; text-align: center; vertical-align: top\">http://books.google.com/b<br>ooks/content?id ...</td>\n",
       "        <td style=\"padding-left: 1em; padding-right: 1em; text-align: center; vertical-align: top\">672</td>\n",
       "        <td style=\"padding-left: 1em; padding-right: 1em; text-align: center; vertical-align: top\">1989</td>\n",
       "    </tr>\n",
       "    <tr>\n",
       "        <td style=\"padding-left: 1em; padding-right: 1em; text-align: center; vertical-align: top\">1573229725</td>\n",
       "        <td style=\"padding-left: 1em; padding-right: 1em; text-align: center; vertical-align: top\">Sarah Waters</td>\n",
       "        <td style=\"padding-left: 1em; padding-right: 1em; text-align: center; vertical-align: top\">Fiction</td>\n",
       "        <td style=\"padding-left: 1em; padding-right: 1em; text-align: center; vertical-align: top\">http://books.google.com/b<br>ooks/content?id=DXXtt ...</td>\n",
       "        <td style=\"padding-left: 1em; padding-right: 1em; text-align: center; vertical-align: top\">582</td>\n",
       "        <td style=\"padding-left: 1em; padding-right: 1em; text-align: center; vertical-align: top\">2002</td>\n",
       "    </tr>\n",
       "    <tr>\n",
       "        <td style=\"padding-left: 1em; padding-right: 1em; text-align: center; vertical-align: top\">0689716958</td>\n",
       "        <td style=\"padding-left: 1em; padding-right: 1em; text-align: center; vertical-align: top\">Virginia Hamilton</td>\n",
       "        <td style=\"padding-left: 1em; padding-right: 1em; text-align: center; vertical-align: top\">Juvenile Fiction</td>\n",
       "        <td style=\"padding-left: 1em; padding-right: 1em; text-align: center; vertical-align: top\">http://books.google.com/b<br>ooks/content?id=-fhqQ ...</td>\n",
       "        <td style=\"padding-left: 1em; padding-right: 1em; text-align: center; vertical-align: top\">128</td>\n",
       "        <td style=\"padding-left: 1em; padding-right: 1em; text-align: center; vertical-align: top\">1993-04-30</td>\n",
       "    </tr>\n",
       "    <tr>\n",
       "        <td style=\"padding-left: 1em; padding-right: 1em; text-align: center; vertical-align: top\">0449003795</td>\n",
       "        <td style=\"padding-left: 1em; padding-right: 1em; text-align: center; vertical-align: top\">Sue Grafton</td>\n",
       "        <td style=\"padding-left: 1em; padding-right: 1em; text-align: center; vertical-align: top\">Fiction</td>\n",
       "        <td style=\"padding-left: 1em; padding-right: 1em; text-align: center; vertical-align: top\">http://books.google.com/b<br>ooks/content?id=86DIQ ...</td>\n",
       "        <td style=\"padding-left: 1em; padding-right: 1em; text-align: center; vertical-align: top\">370</td>\n",
       "        <td style=\"padding-left: 1em; padding-right: 1em; text-align: center; vertical-align: top\">2001</td>\n",
       "    </tr>\n",
       "    <tr>\n",
       "        <td style=\"padding-left: 1em; padding-right: 1em; text-align: center; vertical-align: top\">0767902521</td>\n",
       "        <td style=\"padding-left: 1em; padding-right: 1em; text-align: center; vertical-align: top\">Bill Bryson</td>\n",
       "        <td style=\"padding-left: 1em; padding-right: 1em; text-align: center; vertical-align: top\">Travel</td>\n",
       "        <td style=\"padding-left: 1em; padding-right: 1em; text-align: center; vertical-align: top\">http://books.google.com/b<br>ooks/content?id=bE-4P ...</td>\n",
       "        <td style=\"padding-left: 1em; padding-right: 1em; text-align: center; vertical-align: top\">276</td>\n",
       "        <td style=\"padding-left: 1em; padding-right: 1em; text-align: center; vertical-align: top\">1999</td>\n",
       "    </tr>\n",
       "    <tr>\n",
       "        <td style=\"padding-left: 1em; padding-right: 1em; text-align: center; vertical-align: top\">044691200X</td>\n",
       "        <td style=\"padding-left: 1em; padding-right: 1em; text-align: center; vertical-align: top\">MAD Magazine, Sergio<br>Aragonés ...</td>\n",
       "        <td style=\"padding-left: 1em; padding-right: 1em; text-align: center; vertical-align: top\">Humor</td>\n",
       "        <td style=\"padding-left: 1em; padding-right: 1em; text-align: center; vertical-align: top\">http://books.google.com/b<br>ooks/content?id=r0H-V ...</td>\n",
       "        <td style=\"padding-left: 1em; padding-right: 1em; text-align: center; vertical-align: top\">85</td>\n",
       "        <td style=\"padding-left: 1em; padding-right: 1em; text-align: center; vertical-align: top\">1997</td>\n",
       "    </tr>\n",
       "    <tr>\n",
       "        <td style=\"padding-left: 1em; padding-right: 1em; text-align: center; vertical-align: top\">068484267X</td>\n",
       "        <td style=\"padding-left: 1em; padding-right: 1em; text-align: center; vertical-align: top\">Frank McCourt</td>\n",
       "        <td style=\"padding-left: 1em; padding-right: 1em; text-align: center; vertical-align: top\">Biography &amp; Autobiography</td>\n",
       "        <td style=\"padding-left: 1em; padding-right: 1em; text-align: center; vertical-align: top\">http://books.google.com/b<br>ooks/content?id=Ia5XB ...</td>\n",
       "        <td style=\"padding-left: 1em; padding-right: 1em; text-align: center; vertical-align: top\">363</td>\n",
       "        <td style=\"padding-left: 1em; padding-right: 1em; text-align: center; vertical-align: top\">1999-05-25</td>\n",
       "    </tr>\n",
       "    <tr>\n",
       "        <td style=\"padding-left: 1em; padding-right: 1em; text-align: center; vertical-align: top\">0373484003</td>\n",
       "        <td style=\"padding-left: 1em; padding-right: 1em; text-align: center; vertical-align: top\">Nora Roberts</td>\n",
       "        <td style=\"padding-left: 1em; padding-right: 1em; text-align: center; vertical-align: top\">Fiction</td>\n",
       "        <td style=\"padding-left: 1em; padding-right: 1em; text-align: center; vertical-align: top\">http://books.google.com/b<br>ooks/content?id=ymEiA ...</td>\n",
       "        <td style=\"padding-left: 1em; padding-right: 1em; text-align: center; vertical-align: top\">506</td>\n",
       "        <td style=\"padding-left: 1em; padding-right: 1em; text-align: center; vertical-align: top\">2000</td>\n",
       "    </tr>\n",
       "    <tr>\n",
       "        <td style=\"padding-left: 1em; padding-right: 1em; text-align: center; vertical-align: top\">0515133302</td>\n",
       "        <td style=\"padding-left: 1em; padding-right: 1em; text-align: center; vertical-align: top\">Catherine Coulter</td>\n",
       "        <td style=\"padding-left: 1em; padding-right: 1em; text-align: center; vertical-align: top\">Fiction</td>\n",
       "        <td style=\"padding-left: 1em; padding-right: 1em; text-align: center; vertical-align: top\">http://books.google.com/b<br>ooks/content?id=K8Y8t ...</td>\n",
       "        <td style=\"padding-left: 1em; padding-right: 1em; text-align: center; vertical-align: top\">337</td>\n",
       "        <td style=\"padding-left: 1em; padding-right: 1em; text-align: center; vertical-align: top\">2002</td>\n",
       "    </tr>\n",
       "</table>\n",
       "<table frame=\"box\" rules=\"cols\">\n",
       "    <tr>\n",
       "        <th style=\"padding-left: 1em; padding-right: 1em; text-align: center\">publisher</th>\n",
       "        <th style=\"padding-left: 1em; padding-right: 1em; text-align: center\">textSnippet</th>\n",
       "        <th style=\"padding-left: 1em; padding-right: 1em; text-align: center\">title</th>\n",
       "    </tr>\n",
       "    <tr>\n",
       "        <td style=\"padding-left: 1em; padding-right: 1em; text-align: center; vertical-align: top\">Penguin</td>\n",
       "        <td style=\"padding-left: 1em; padding-right: 1em; text-align: center; vertical-align: top\">Ethan Quinn must rise<br>above his dark and ...</td>\n",
       "        <td style=\"padding-left: 1em; padding-right: 1em; text-align: center; vertical-align: top\">Rising Tides</td>\n",
       "    </tr>\n",
       "    <tr>\n",
       "        <td style=\"padding-left: 1em; padding-right: 1em; text-align: center; vertical-align: top\">Dell Publishing Company</td>\n",
       "        <td style=\"padding-left: 1em; padding-right: 1em; text-align: center; vertical-align: top\">Roman.</td>\n",
       "        <td style=\"padding-left: 1em; padding-right: 1em; text-align: center; vertical-align: top\">Firefly Summer</td>\n",
       "    </tr>\n",
       "    <tr>\n",
       "        <td style=\"padding-left: 1em; padding-right: 1em; text-align: center; vertical-align: top\">Penguin</td>\n",
       "        <td style=\"padding-left: 1em; padding-right: 1em; text-align: center; vertical-align: top\">Growing up as a foster<br>child among a family of ...</td>\n",
       "        <td style=\"padding-left: 1em; padding-right: 1em; text-align: center; vertical-align: top\">Fingersmith</td>\n",
       "    </tr>\n",
       "    <tr>\n",
       "        <td style=\"padding-left: 1em; padding-right: 1em; text-align: center; vertical-align: top\">Aladdin</td>\n",
       "        <td style=\"padding-left: 1em; padding-right: 1em; text-align: center; vertical-align: top\">When Geeder finally meets<br>Zeely, she gains a new ...</td>\n",
       "        <td style=\"padding-left: 1em; padding-right: 1em; text-align: center; vertical-align: top\">Zeely</td>\n",
       "    </tr>\n",
       "    <tr>\n",
       "        <td style=\"padding-left: 1em; padding-right: 1em; text-align: center; vertical-align: top\">Random House Digital,<br>Inc. ...</td>\n",
       "        <td style=\"padding-left: 1em; padding-right: 1em; text-align: center; vertical-align: top\">Kinsey Millhone trusts<br>her life to her insti ...</td>\n",
       "        <td style=\"padding-left: 1em; padding-right: 1em; text-align: center; vertical-align: top\">Is for Peril : [romanas]</td>\n",
       "    </tr>\n",
       "    <tr>\n",
       "        <td style=\"padding-left: 1em; padding-right: 1em; text-align: center; vertical-align: top\">Broadway</td>\n",
       "        <td style=\"padding-left: 1em; padding-right: 1em; text-align: center; vertical-align: top\">Bryson share his<br>experiences hiking the ...</td>\n",
       "        <td style=\"padding-left: 1em; padding-right: 1em; text-align: center; vertical-align: top\">A Walk in the Woods</td>\n",
       "    </tr>\n",
       "    <tr>\n",
       "        <td style=\"padding-left: 1em; padding-right: 1em; text-align: center; vertical-align: top\">Warner Books</td>\n",
       "        <td style=\"padding-left: 1em; padding-right: 1em; text-align: center; vertical-align: top\">Presents a collection of<br>quotations by MAD ...</td>\n",
       "        <td style=\"padding-left: 1em; padding-right: 1em; text-align: center; vertical-align: top\">MAD</td>\n",
       "    </tr>\n",
       "    <tr>\n",
       "        <td style=\"padding-left: 1em; padding-right: 1em; text-align: center; vertical-align: top\">Simon and Schuster</td>\n",
       "        <td style=\"padding-left: 1em; padding-right: 1em; text-align: center; vertical-align: top\">The author recounts his<br>childhood in Depression- ...</td>\n",
       "        <td style=\"padding-left: 1em; padding-right: 1em; text-align: center; vertical-align: top\">Angela's Ashes</td>\n",
       "    </tr>\n",
       "    <tr>\n",
       "        <td style=\"padding-left: 1em; padding-right: 1em; text-align: center; vertical-align: top\">Harlequin Books</td>\n",
       "        <td style=\"padding-left: 1em; padding-right: 1em; text-align: center; vertical-align: top\">And look for Irish Rebel,<br>a brand-new book in this ...</td>\n",
       "        <td style=\"padding-left: 1em; padding-right: 1em; text-align: center; vertical-align: top\">Irish Hearts</td>\n",
       "    </tr>\n",
       "    <tr>\n",
       "        <td style=\"padding-left: 1em; padding-right: 1em; text-align: center; vertical-align: top\">Penguin</td>\n",
       "        <td style=\"padding-left: 1em; padding-right: 1em; text-align: center; vertical-align: top\">Caught up in a<br>challenging probe into ...</td>\n",
       "        <td style=\"padding-left: 1em; padding-right: 1em; text-align: center; vertical-align: top\">Hemlock Bay</td>\n",
       "    </tr>\n",
       "</table>\n",
       "[883 rows x 9 columns]<br/>Note: Only the head of the SFrame is printed.<br/>You can use print_rows(num_rows=m, num_columns=n) to print more rows and columns.\n",
       "</div>"
      ],
      "text/plain": [
       "Columns:\n",
       "\tISBN\tstr\n",
       "\tauthors\tstr\n",
       "\tcategories\tstr\n",
       "\timageThumbnail\tstr\n",
       "\tpageCount\tint\n",
       "\tpublishedDate\tstr\n",
       "\tpublisher\tstr\n",
       "\ttextSnippet\tstr\n",
       "\ttitle\tstr\n",
       "\n",
       "Rows: 883\n",
       "\n",
       "Data:\n",
       "+------------+-------------------------------+---------------------------+\n",
       "|    ISBN    |            authors            |         categories        |\n",
       "+------------+-------------------------------+---------------------------+\n",
       "| 051512317X |          Nora Roberts         |          Fiction          |\n",
       "| 0440204194 |          Maeve Binchy         |          Fiction          |\n",
       "| 1573229725 |          Sarah Waters         |          Fiction          |\n",
       "| 0689716958 |       Virginia Hamilton       |      Juvenile Fiction     |\n",
       "| 0449003795 |          Sue Grafton          |          Fiction          |\n",
       "| 0767902521 |          Bill Bryson          |           Travel          |\n",
       "| 044691200X | MAD Magazine, Sergio Aragonés |           Humor           |\n",
       "| 068484267X |         Frank McCourt         | Biography & Autobiography |\n",
       "| 0373484003 |          Nora Roberts         |          Fiction          |\n",
       "| 0515133302 |       Catherine Coulter       |          Fiction          |\n",
       "+------------+-------------------------------+---------------------------+\n",
       "+-------------------------------+-----------+---------------+\n",
       "|         imageThumbnail        | pageCount | publishedDate |\n",
       "+-------------------------------+-----------+---------------+\n",
       "| http://books.google.com/bo... |    339    |      1998     |\n",
       "| http://books.google.com/bo... |    672    |      1989     |\n",
       "| http://books.google.com/bo... |    582    |      2002     |\n",
       "| http://books.google.com/bo... |    128    |   1993-04-30  |\n",
       "| http://books.google.com/bo... |    370    |      2001     |\n",
       "| http://books.google.com/bo... |    276    |      1999     |\n",
       "| http://books.google.com/bo... |     85    |      1997     |\n",
       "| http://books.google.com/bo... |    363    |   1999-05-25  |\n",
       "| http://books.google.com/bo... |    506    |      2000     |\n",
       "| http://books.google.com/bo... |    337    |      2002     |\n",
       "+-------------------------------+-----------+---------------+\n",
       "+----------------------------+-------------------------------+\n",
       "|         publisher          |          textSnippet          |\n",
       "+----------------------------+-------------------------------+\n",
       "|          Penguin           | Ethan Quinn must rise abov... |\n",
       "|  Dell Publishing Company   |             Roman.            |\n",
       "|          Penguin           | Growing up as a foster chi... |\n",
       "|          Aladdin           | When Geeder finally meets ... |\n",
       "| Random House Digital, Inc. | Kinsey Millhone trusts her... |\n",
       "|          Broadway          | Bryson share his experienc... |\n",
       "|        Warner Books        | Presents a collection of q... |\n",
       "|     Simon and Schuster     | The author recounts his ch... |\n",
       "|      Harlequin Books       | And look for Irish Rebel, ... |\n",
       "|          Penguin           | Caught up in a challenging... |\n",
       "+----------------------------+-------------------------------+\n",
       "+--------------------------+\n",
       "|          title           |\n",
       "+--------------------------+\n",
       "|       Rising Tides       |\n",
       "|      Firefly Summer      |\n",
       "|       Fingersmith        |\n",
       "|          Zeely           |\n",
       "| Is for Peril : [romanas] |\n",
       "|   A Walk in the Woods    |\n",
       "|           MAD            |\n",
       "|      Angela's Ashes      |\n",
       "|       Irish Hearts       |\n",
       "|       Hemlock Bay        |\n",
       "+--------------------------+\n",
       "[883 rows x 9 columns]\n",
       "Note: Only the head of the SFrame is printed.\n",
       "You can use print_rows(num_rows=m, num_columns=n) to print more rows and columns."
      ]
     },
     "execution_count": 25,
     "metadata": {},
     "output_type": "execute_result"
    }
   ],
   "source": [
    "#user_data\n",
    "items.unique()"
   ]
  },
  {
   "cell_type": "code",
   "execution_count": 26,
   "metadata": {
    "collapsed": false
   },
   "outputs": [
    {
     "data": {
      "text/plain": [
       "<bound method SFrame.unique of Columns:\n",
       "\tUserID\tint\n",
       "\n",
       "Rows: 30274\n",
       "\n",
       "Data:\n",
       "+--------+\n",
       "| UserID |\n",
       "+--------+\n",
       "| 21855  |\n",
       "| 237313 |\n",
       "| 43116  |\n",
       "| 144280 |\n",
       "| 262565 |\n",
       "| 115341 |\n",
       "| 241146 |\n",
       "| 105395 |\n",
       "| 79674  |\n",
       "| 69188  |\n",
       "+--------+\n",
       "[30274 rows x 1 columns]\n",
       "Note: Only the head of the SFrame is printed.\n",
       "You can use print_rows(num_rows=m, num_columns=n) to print more rows and columns.>"
      ]
     },
     "execution_count": 26,
     "metadata": {},
     "output_type": "execute_result"
    }
   ],
   "source": [
    "#grap user data from validation data set\n",
    "#user_data = gl.SFrame(validation_data['UserID'])\n",
    "user_data = gl.SFrame(dfRating['UserID'])\n",
    "user_data.rename({'X1':'UserID'})\n",
    "user_data = user_data.unique()\n",
    "user_data.head()\n",
    "user_data.unique\n"
   ]
  },
  {
   "cell_type": "code",
   "execution_count": 27,
   "metadata": {
    "collapsed": false
   },
   "outputs": [
    {
     "data": {
      "text/html": [
       "<pre>Warning: The model was fit with 2 feature columns but only 1 were present during transform(). Proceeding with transform by ignoring the missing columns.</pre>"
      ],
      "text/plain": [
       "Warning: The model was fit with 2 feature columns but only 1 were present during transform(). Proceeding with transform by ignoring the missing columns."
      ]
     },
     "metadata": {},
     "output_type": "display_data"
    },
    {
     "data": {
      "text/html": [
       "<pre>Warning: The model was fit with 2 feature columns but only 1 were present during transform(). Proceeding with transform by ignoring the missing columns.</pre>"
      ],
      "text/plain": [
       "Warning: The model was fit with 2 feature columns but only 1 were present during transform(). Proceeding with transform by ignoring the missing columns."
      ]
     },
     "metadata": {},
     "output_type": "display_data"
    }
   ],
   "source": [
    "view = model.views.overview(validation_set = validation_data,\n",
    "                           user_data = user_data,\n",
    "                           user_name_column = 'UserID',\n",
    "                           item_data = items,\n",
    "                           item_name_column = 'title',\n",
    "                           item_url_column = 'imageThumbnail')\n",
    "view.show()"
   ]
  },
  {
   "cell_type": "code",
   "execution_count": 28,
   "metadata": {
    "collapsed": false
   },
   "outputs": [
    {
     "data": {
      "text/plain": [
       "graphlab.data_structures.sframe.SFrame"
      ]
     },
     "execution_count": 28,
     "metadata": {},
     "output_type": "execute_result"
    }
   ],
   "source": [
    "type(user_data)"
   ]
  },
  {
   "cell_type": "markdown",
   "metadata": {},
   "source": [
    "## Build a predictive model"
   ]
  },
  {
   "cell_type": "code",
   "execution_count": null,
   "metadata": {
    "collapsed": false
   },
   "outputs": [
    {
     "data": {
      "text/html": [
       "<pre>Recsys training: model = ranking_factorization_recommender</pre>"
      ],
      "text/plain": [
       "Recsys training: model = ranking_factorization_recommender"
      ]
     },
     "metadata": {},
     "output_type": "display_data"
    },
    {
     "data": {
      "text/html": [
       "<pre>Preparing data set.</pre>"
      ],
      "text/plain": [
       "Preparing data set."
      ]
     },
     "metadata": {},
     "output_type": "display_data"
    },
    {
     "data": {
      "text/html": [
       "<pre>    Data has 121025 observations with 30161 users and 847 items.</pre>"
      ],
      "text/plain": [
       "    Data has 121025 observations with 30161 users and 847 items."
      ]
     },
     "metadata": {},
     "output_type": "display_data"
    },
    {
     "data": {
      "text/html": [
       "<pre>    Data prepared in: 0.206437s</pre>"
      ],
      "text/plain": [
       "    Data prepared in: 0.206437s"
      ]
     },
     "metadata": {},
     "output_type": "display_data"
    },
    {
     "data": {
      "text/html": [
       "<pre>Training ranking_factorization_recommender for recommendations.</pre>"
      ],
      "text/plain": [
       "Training ranking_factorization_recommender for recommendations."
      ]
     },
     "metadata": {},
     "output_type": "display_data"
    },
    {
     "data": {
      "text/html": [
       "<pre>+--------------------------------+--------------------------------------------------+----------+</pre>"
      ],
      "text/plain": [
       "+--------------------------------+--------------------------------------------------+----------+"
      ]
     },
     "metadata": {},
     "output_type": "display_data"
    },
    {
     "data": {
      "text/html": [
       "<pre>| Parameter                      | Description                                      | Value    |</pre>"
      ],
      "text/plain": [
       "| Parameter                      | Description                                      | Value    |"
      ]
     },
     "metadata": {},
     "output_type": "display_data"
    },
    {
     "data": {
      "text/html": [
       "<pre>+--------------------------------+--------------------------------------------------+----------+</pre>"
      ],
      "text/plain": [
       "+--------------------------------+--------------------------------------------------+----------+"
      ]
     },
     "metadata": {},
     "output_type": "display_data"
    },
    {
     "data": {
      "text/html": [
       "<pre>| num_factors                    | Factor Dimension                                 | 32       |</pre>"
      ],
      "text/plain": [
       "| num_factors                    | Factor Dimension                                 | 32       |"
      ]
     },
     "metadata": {},
     "output_type": "display_data"
    },
    {
     "data": {
      "text/html": [
       "<pre>| regularization                 | L2 Regularization on Factors                     | 1e-09    |</pre>"
      ],
      "text/plain": [
       "| regularization                 | L2 Regularization on Factors                     | 1e-09    |"
      ]
     },
     "metadata": {},
     "output_type": "display_data"
    },
    {
     "data": {
      "text/html": [
       "<pre>| solver                         | Solver used for training                         | sgd      |</pre>"
      ],
      "text/plain": [
       "| solver                         | Solver used for training                         | sgd      |"
      ]
     },
     "metadata": {},
     "output_type": "display_data"
    },
    {
     "data": {
      "text/html": [
       "<pre>| linear_regularization          | L2 Regularization on Linear Coefficients         | 1e-09    |</pre>"
      ],
      "text/plain": [
       "| linear_regularization          | L2 Regularization on Linear Coefficients         | 1e-09    |"
      ]
     },
     "metadata": {},
     "output_type": "display_data"
    },
    {
     "data": {
      "text/html": [
       "<pre>| ranking_regularization         | Rank-based Regularization Weight                 | 0.25     |</pre>"
      ],
      "text/plain": [
       "| ranking_regularization         | Rank-based Regularization Weight                 | 0.25     |"
      ]
     },
     "metadata": {},
     "output_type": "display_data"
    },
    {
     "data": {
      "text/html": [
       "<pre>| max_iterations                 | Maximum Number of Iterations                     | 25       |</pre>"
      ],
      "text/plain": [
       "| max_iterations                 | Maximum Number of Iterations                     | 25       |"
      ]
     },
     "metadata": {},
     "output_type": "display_data"
    },
    {
     "data": {
      "text/html": [
       "<pre>+--------------------------------+--------------------------------------------------+----------+</pre>"
      ],
      "text/plain": [
       "+--------------------------------+--------------------------------------------------+----------+"
      ]
     },
     "metadata": {},
     "output_type": "display_data"
    },
    {
     "data": {
      "text/html": [
       "<pre>  Optimizing model using SGD; tuning step size.</pre>"
      ],
      "text/plain": [
       "  Optimizing model using SGD; tuning step size."
      ]
     },
     "metadata": {},
     "output_type": "display_data"
    },
    {
     "data": {
      "text/html": [
       "<pre>  Using 15128 / 121025 points for tuning the step size.</pre>"
      ],
      "text/plain": [
       "  Using 15128 / 121025 points for tuning the step size."
      ]
     },
     "metadata": {},
     "output_type": "display_data"
    },
    {
     "data": {
      "text/html": [
       "<pre>+---------+-------------------+------------------------------------------+</pre>"
      ],
      "text/plain": [
       "+---------+-------------------+------------------------------------------+"
      ]
     },
     "metadata": {},
     "output_type": "display_data"
    },
    {
     "data": {
      "text/html": [
       "<pre>| Attempt | Initial Step Size | Estimated Objective Value                |</pre>"
      ],
      "text/plain": [
       "| Attempt | Initial Step Size | Estimated Objective Value                |"
      ]
     },
     "metadata": {},
     "output_type": "display_data"
    },
    {
     "data": {
      "text/html": [
       "<pre>+---------+-------------------+------------------------------------------+</pre>"
      ],
      "text/plain": [
       "+---------+-------------------+------------------------------------------+"
      ]
     },
     "metadata": {},
     "output_type": "display_data"
    },
    {
     "data": {
      "text/html": [
       "<pre>| 0       | 25                | Not Viable                               |</pre>"
      ],
      "text/plain": [
       "| 0       | 25                | Not Viable                               |"
      ]
     },
     "metadata": {},
     "output_type": "display_data"
    },
    {
     "data": {
      "text/html": [
       "<pre>| 1       | 6.25              | Not Viable                               |</pre>"
      ],
      "text/plain": [
       "| 1       | 6.25              | Not Viable                               |"
      ]
     },
     "metadata": {},
     "output_type": "display_data"
    },
    {
     "data": {
      "text/html": [
       "<pre>| 2       | 1.5625            | Not Viable                               |</pre>"
      ],
      "text/plain": [
       "| 2       | 1.5625            | Not Viable                               |"
      ]
     },
     "metadata": {},
     "output_type": "display_data"
    },
    {
     "data": {
      "text/html": [
       "<pre>| 3       | 0.390625          | Not Viable                               |</pre>"
      ],
      "text/plain": [
       "| 3       | 0.390625          | Not Viable                               |"
      ]
     },
     "metadata": {},
     "output_type": "display_data"
    },
    {
     "data": {
      "text/html": [
       "<pre>| 4       | 0.0976562         | 26.8765                                  |</pre>"
      ],
      "text/plain": [
       "| 4       | 0.0976562         | 26.8765                                  |"
      ]
     },
     "metadata": {},
     "output_type": "display_data"
    },
    {
     "data": {
      "text/html": [
       "<pre>| 5       | 0.0488281         | 23.0692                                  |</pre>"
      ],
      "text/plain": [
       "| 5       | 0.0488281         | 23.0692                                  |"
      ]
     },
     "metadata": {},
     "output_type": "display_data"
    },
    {
     "data": {
      "text/html": [
       "<pre>| 6       | 0.0244141         | 24.4817                                  |</pre>"
      ],
      "text/plain": [
       "| 6       | 0.0244141         | 24.4817                                  |"
      ]
     },
     "metadata": {},
     "output_type": "display_data"
    },
    {
     "data": {
      "text/html": [
       "<pre>| 7       | 0.012207          | 25.7594                                  |</pre>"
      ],
      "text/plain": [
       "| 7       | 0.012207          | 25.7594                                  |"
      ]
     },
     "metadata": {},
     "output_type": "display_data"
    },
    {
     "data": {
      "text/html": [
       "<pre>| 8       | 0.00610352        | 27.0379                                  |</pre>"
      ],
      "text/plain": [
       "| 8       | 0.00610352        | 27.0379                                  |"
      ]
     },
     "metadata": {},
     "output_type": "display_data"
    },
    {
     "data": {
      "text/html": [
       "<pre>+---------+-------------------+------------------------------------------+</pre>"
      ],
      "text/plain": [
       "+---------+-------------------+------------------------------------------+"
      ]
     },
     "metadata": {},
     "output_type": "display_data"
    },
    {
     "data": {
      "text/html": [
       "<pre>| Final   | 0.0488281         | 23.0692                                  |</pre>"
      ],
      "text/plain": [
       "| Final   | 0.0488281         | 23.0692                                  |"
      ]
     },
     "metadata": {},
     "output_type": "display_data"
    },
    {
     "data": {
      "text/html": [
       "<pre>+---------+-------------------+------------------------------------------+</pre>"
      ],
      "text/plain": [
       "+---------+-------------------+------------------------------------------+"
      ]
     },
     "metadata": {},
     "output_type": "display_data"
    },
    {
     "data": {
      "text/html": [
       "<pre>Starting Optimization.</pre>"
      ],
      "text/plain": [
       "Starting Optimization."
      ]
     },
     "metadata": {},
     "output_type": "display_data"
    },
    {
     "data": {
      "text/html": [
       "<pre>+---------+--------------+-------------------+-----------------------+-------------+</pre>"
      ],
      "text/plain": [
       "+---------+--------------+-------------------+-----------------------+-------------+"
      ]
     },
     "metadata": {},
     "output_type": "display_data"
    },
    {
     "data": {
      "text/html": [
       "<pre>| Iter.   | Elapsed Time | Approx. Objective | Approx. Training RMSE | Step Size   |</pre>"
      ],
      "text/plain": [
       "| Iter.   | Elapsed Time | Approx. Objective | Approx. Training RMSE | Step Size   |"
      ]
     },
     "metadata": {},
     "output_type": "display_data"
    },
    {
     "data": {
      "text/html": [
       "<pre>+---------+--------------+-------------------+-----------------------+-------------+</pre>"
      ],
      "text/plain": [
       "+---------+--------------+-------------------+-----------------------+-------------+"
      ]
     },
     "metadata": {},
     "output_type": "display_data"
    },
    {
     "data": {
      "text/html": [
       "<pre>| Initial | 162us        | 31.5218           | 4.00981               |             |</pre>"
      ],
      "text/plain": [
       "| Initial | 162us        | 31.5218           | 4.00981               |             |"
      ]
     },
     "metadata": {},
     "output_type": "display_data"
    },
    {
     "data": {
      "text/html": [
       "<pre>+---------+--------------+-------------------+-----------------------+-------------+</pre>"
      ],
      "text/plain": [
       "+---------+--------------+-------------------+-----------------------+-------------+"
      ]
     },
     "metadata": {},
     "output_type": "display_data"
    },
    {
     "data": {
      "text/html": [
       "<pre>| 1       | 290.908ms    | DIVERGED          | DIVERGED              | 0.0488281   |</pre>"
      ],
      "text/plain": [
       "| 1       | 290.908ms    | DIVERGED          | DIVERGED              | 0.0488281   |"
      ]
     },
     "metadata": {},
     "output_type": "display_data"
    },
    {
     "data": {
      "text/html": [
       "<pre>| RESET   | 367.034ms    | 31.5218           | 4.00981               |             |</pre>"
      ],
      "text/plain": [
       "| RESET   | 367.034ms    | 31.5218           | 4.00981               |             |"
      ]
     },
     "metadata": {},
     "output_type": "display_data"
    },
    {
     "data": {
      "text/html": [
       "<pre>| 1       | 496.25ms     | 27.5572           | 4.07287               | 0.0244141   |</pre>"
      ],
      "text/plain": [
       "| 1       | 496.25ms     | 27.5572           | 4.07287               | 0.0244141   |"
      ]
     },
     "metadata": {},
     "output_type": "display_data"
    },
    {
     "data": {
      "text/html": [
       "<pre>| 2       | 619.017ms    | 25.9801           | 3.94721               | 0.0145167   |</pre>"
      ],
      "text/plain": [
       "| 2       | 619.017ms    | 25.9801           | 3.94721               | 0.0145167   |"
      ]
     },
     "metadata": {},
     "output_type": "display_data"
    },
    {
     "data": {
      "text/html": [
       "<pre>| 3       | 749.957ms    | 25.1662           | 3.83157               | 0.0107102   |</pre>"
      ],
      "text/plain": [
       "| 3       | 749.957ms    | 25.1662           | 3.83157               | 0.0107102   |"
      ]
     },
     "metadata": {},
     "output_type": "display_data"
    },
    {
     "data": {
      "text/html": [
       "<pre>| 4       | 866.399ms    | 24.3473           | 3.72929               | 0.00863167  |</pre>"
      ],
      "text/plain": [
       "| 4       | 866.399ms    | 24.3473           | 3.72929               | 0.00863167  |"
      ]
     },
     "metadata": {},
     "output_type": "display_data"
    },
    {
     "data": {
      "text/html": [
       "<pre>| 5       | 984.87ms     | 23.3805           | 3.60389               | 0.00730151  |</pre>"
      ],
      "text/plain": [
       "| 5       | 984.87ms     | 23.3805           | 3.60389               | 0.00730151  |"
      ]
     },
     "metadata": {},
     "output_type": "display_data"
    },
    {
     "data": {
      "text/html": [
       "<pre>| 6       | 1.10s        | 22.2912           | 3.45305               | 0.00636835  |</pre>"
      ],
      "text/plain": [
       "| 6       | 1.10s        | 22.2912           | 3.45305               | 0.00636835  |"
      ]
     },
     "metadata": {},
     "output_type": "display_data"
    },
    {
     "data": {
      "text/html": [
       "<pre>| 9       | 2.07s        | 18.836            | 2.97103               | 0.00469849  |</pre>"
      ],
      "text/plain": [
       "| 9       | 2.07s        | 18.836            | 2.97103               | 0.00469849  |"
      ]
     },
     "metadata": {},
     "output_type": "display_data"
    },
    {
     "data": {
      "text/html": [
       "<pre>| 11      | 2.58s        | 16.6896           | 2.65678               | 0.00404199  |</pre>"
      ],
      "text/plain": [
       "| 11      | 2.58s        | 16.6896           | 2.65678               | 0.00404199  |"
      ]
     },
     "metadata": {},
     "output_type": "display_data"
    },
    {
     "data": {
      "text/html": [
       "<pre>| 19      | 3.80s        | 11.7866           | 1.96951               | 0.00268272  |</pre>"
      ],
      "text/plain": [
       "| 19      | 3.80s        | 11.7866           | 1.96951               | 0.00268272  |"
      ]
     },
     "metadata": {},
     "output_type": "display_data"
    }
   ],
   "source": [
    "#build a model that predicts using ratings\n",
    "\n",
    "training_data_2, validation_data_2 = gl.recommender.util.random_split_by_user(actions, 'UserID', 'ISBN')\n",
    "model_predict_rating = gl.recommender.create(training_data_2, 'UserID', 'ISBN', target= 'BookRating')"
   ]
  },
  {
   "cell_type": "code",
   "execution_count": null,
   "metadata": {
    "collapsed": false
   },
   "outputs": [],
   "source": [
    "results_predict_rating = model_predict_rating.recommend()"
   ]
  },
  {
   "cell_type": "code",
   "execution_count": 109,
   "metadata": {
    "collapsed": true
   },
   "outputs": [],
   "source": [
    "model_predict_rating.save('my_model_predict_rating')"
   ]
  },
  {
   "cell_type": "code",
   "execution_count": 110,
   "metadata": {
    "collapsed": true
   },
   "outputs": [],
   "source": [
    "model_predict_rating = gl.load_model('my_model_predict_rating')"
   ]
  },
  {
   "cell_type": "code",
   "execution_count": 111,
   "metadata": {
    "collapsed": false
   },
   "outputs": [
    {
     "data": {
      "text/plain": [
       "<bound method RankingFactorizationRecommender.get of Class                            : RankingFactorizationRecommender\n",
       "\n",
       "Schema\n",
       "------\n",
       "User ID                          : UserID\n",
       "Item ID                          : ISBN\n",
       "Target                           : BookRating\n",
       "Additional observation features  : 0\n",
       "User side features               : []\n",
       "Item side features               : []\n",
       "\n",
       "Statistics\n",
       "----------\n",
       "Number of observations           : 121025\n",
       "Number of users                  : 30161\n",
       "Number of items                  : 847\n",
       "\n",
       "Training summary\n",
       "----------------\n",
       "Training time                    : 7.6666\n",
       "\n",
       "Model Parameters\n",
       "----------------\n",
       "Model class                      : RankingFactorizationRecommender\n",
       "num_factors                      : 32\n",
       "binary_target                    : 0\n",
       "side_data_factorization          : 1\n",
       "solver                           : auto\n",
       "nmf                              : 0\n",
       "max_iterations                   : 25\n",
       "\n",
       "Regularization Settings\n",
       "-----------------------\n",
       "regularization                   : 0.0\n",
       "regularization_type              : normal\n",
       "linear_regularization            : 0.0\n",
       "ranking_regularization           : 0.25\n",
       "unobserved_rating_value          : -1.79769313486e+308\n",
       "num_sampled_negative_examples    : 4\n",
       "ials_confidence_scaling_type     : auto\n",
       "ials_confidence_scaling_factor   : 1\n",
       "\n",
       "Optimization Settings\n",
       "---------------------\n",
       "init_random_sigma                : 0.01\n",
       "sgd_convergence_interval         : 4\n",
       "sgd_convergence_threshold        : 0.0\n",
       "sgd_max_trial_iterations         : 5\n",
       "sgd_sampling_block_size          : 131072\n",
       "sgd_step_adjustment_interval     : 4\n",
       "sgd_step_size                    : 0.0\n",
       "sgd_trial_sample_minimum_size    : 10000\n",
       "sgd_trial_sample_proportion      : 0.125\n",
       "step_size_decrease_rate          : 0.75\n",
       "additional_iterations_if_unhealthy : 5\n",
       "adagrad_momentum_weighting       : 0.9\n",
       "num_tempering_iterations         : 4\n",
       "tempering_regularization_start_value : 0.0\n",
       "track_exact_loss                 : 0\n",
       ">"
      ]
     },
     "execution_count": 111,
     "metadata": {},
     "output_type": "execute_result"
    }
   ],
   "source": [
    "model_predict_rating.get"
   ]
  },
  {
   "cell_type": "code",
   "execution_count": 112,
   "metadata": {
    "collapsed": true
   },
   "outputs": [],
   "source": [
    "similar_items_predict_rating = model_predict_rating.get_similar_items(my_list_of_items[:10], k=20)\n"
   ]
  },
  {
   "cell_type": "code",
   "execution_count": 113,
   "metadata": {
    "collapsed": false
   },
   "outputs": [
    {
     "name": "stdout",
     "output_type": "stream",
     "text": [
      "+------------+------------+-----------------+------+\n",
      "|    ISBN    |  similar   |      score      | rank |\n",
      "+------------+------------+-----------------+------+\n",
      "| 0971880107 | 0316666343 | 0.0657224059105 |  1   |\n",
      "| 0971880107 | 0385504209 | 0.0597723126411 |  2   |\n",
      "| 0971880107 | 0671027360 | 0.0454390048981 |  3   |\n",
      "| 0971880107 | 0679781587 | 0.0439302325249 |  4   |\n",
      "| 0971880107 | 044021145X | 0.0438413619995 |  5   |\n",
      "| 0971880107 | 067976402X | 0.0436105728149 |  6   |\n",
      "| 0971880107 | 0142001740 | 0.0432724952698 |  7   |\n",
      "| 0971880107 | 0312195516 | 0.0417482256889 |  8   |\n",
      "| 0971880107 | 0375727345 | 0.0417097806931 |  9   |\n",
      "| 0971880107 | 0345337662 | 0.0401116013527 |  10  |\n",
      "+------------+------------+-----------------+------+\n",
      "[180 rows x 4 columns]\n",
      "Note: Only the head of the SFrame is printed.\n",
      "You can use print_rows(num_rows=m, num_columns=n) to print more rows and columns.\n"
     ]
    },
    {
     "data": {
      "text/html": [
       "<div style=\"max-height:1000px;max-width:1500px;overflow:auto;\"><table frame=\"box\" rules=\"cols\">\n",
       "    <tr>\n",
       "        <th style=\"padding-left: 1em; padding-right: 1em; text-align: center\">ISBN</th>\n",
       "        <th style=\"padding-left: 1em; padding-right: 1em; text-align: center\">similar</th>\n",
       "        <th style=\"padding-left: 1em; padding-right: 1em; text-align: center\">score</th>\n",
       "        <th style=\"padding-left: 1em; padding-right: 1em; text-align: center\">rank</th>\n",
       "    </tr>\n",
       "    <tr>\n",
       "        <td style=\"padding-left: 1em; padding-right: 1em; text-align: center; vertical-align: top\">0971880107</td>\n",
       "        <td style=\"padding-left: 1em; padding-right: 1em; text-align: center; vertical-align: top\">0385720106</td>\n",
       "        <td style=\"padding-left: 1em; padding-right: 1em; text-align: center; vertical-align: top\">0.526107192039</td>\n",
       "        <td style=\"padding-left: 1em; padding-right: 1em; text-align: center; vertical-align: top\">1</td>\n",
       "    </tr>\n",
       "    <tr>\n",
       "        <td style=\"padding-left: 1em; padding-right: 1em; text-align: center; vertical-align: top\">0971880107</td>\n",
       "        <td style=\"padding-left: 1em; padding-right: 1em; text-align: center; vertical-align: top\">0140244824</td>\n",
       "        <td style=\"padding-left: 1em; padding-right: 1em; text-align: center; vertical-align: top\">0.489759117365</td>\n",
       "        <td style=\"padding-left: 1em; padding-right: 1em; text-align: center; vertical-align: top\">2</td>\n",
       "    </tr>\n",
       "    <tr>\n",
       "        <td style=\"padding-left: 1em; padding-right: 1em; text-align: center; vertical-align: top\">0971880107</td>\n",
       "        <td style=\"padding-left: 1em; padding-right: 1em; text-align: center; vertical-align: top\">037570504X</td>\n",
       "        <td style=\"padding-left: 1em; padding-right: 1em; text-align: center; vertical-align: top\">0.486959457397</td>\n",
       "        <td style=\"padding-left: 1em; padding-right: 1em; text-align: center; vertical-align: top\">3</td>\n",
       "    </tr>\n",
       "    <tr>\n",
       "        <td style=\"padding-left: 1em; padding-right: 1em; text-align: center; vertical-align: top\">0971880107</td>\n",
       "        <td style=\"padding-left: 1em; padding-right: 1em; text-align: center; vertical-align: top\">0671038184</td>\n",
       "        <td style=\"padding-left: 1em; padding-right: 1em; text-align: center; vertical-align: top\">0.486038267612</td>\n",
       "        <td style=\"padding-left: 1em; padding-right: 1em; text-align: center; vertical-align: top\">4</td>\n",
       "    </tr>\n",
       "    <tr>\n",
       "        <td style=\"padding-left: 1em; padding-right: 1em; text-align: center; vertical-align: top\">0971880107</td>\n",
       "        <td style=\"padding-left: 1em; padding-right: 1em; text-align: center; vertical-align: top\">042516098X</td>\n",
       "        <td style=\"padding-left: 1em; padding-right: 1em; text-align: center; vertical-align: top\">0.443839877844</td>\n",
       "        <td style=\"padding-left: 1em; padding-right: 1em; text-align: center; vertical-align: top\">5</td>\n",
       "    </tr>\n",
       "    <tr>\n",
       "        <td style=\"padding-left: 1em; padding-right: 1em; text-align: center; vertical-align: top\">0971880107</td>\n",
       "        <td style=\"padding-left: 1em; padding-right: 1em; text-align: center; vertical-align: top\">0385486804</td>\n",
       "        <td style=\"padding-left: 1em; padding-right: 1em; text-align: center; vertical-align: top\">0.424113184214</td>\n",
       "        <td style=\"padding-left: 1em; padding-right: 1em; text-align: center; vertical-align: top\">6</td>\n",
       "    </tr>\n",
       "    <tr>\n",
       "        <td style=\"padding-left: 1em; padding-right: 1em; text-align: center; vertical-align: top\">0971880107</td>\n",
       "        <td style=\"padding-left: 1em; padding-right: 1em; text-align: center; vertical-align: top\">0425167313</td>\n",
       "        <td style=\"padding-left: 1em; padding-right: 1em; text-align: center; vertical-align: top\">0.40408962965</td>\n",
       "        <td style=\"padding-left: 1em; padding-right: 1em; text-align: center; vertical-align: top\">7</td>\n",
       "    </tr>\n",
       "    <tr>\n",
       "        <td style=\"padding-left: 1em; padding-right: 1em; text-align: center; vertical-align: top\">0971880107</td>\n",
       "        <td style=\"padding-left: 1em; padding-right: 1em; text-align: center; vertical-align: top\">0373484003</td>\n",
       "        <td style=\"padding-left: 1em; padding-right: 1em; text-align: center; vertical-align: top\">0.403573065996</td>\n",
       "        <td style=\"padding-left: 1em; padding-right: 1em; text-align: center; vertical-align: top\">8</td>\n",
       "    </tr>\n",
       "    <tr>\n",
       "        <td style=\"padding-left: 1em; padding-right: 1em; text-align: center; vertical-align: top\">0971880107</td>\n",
       "        <td style=\"padding-left: 1em; padding-right: 1em; text-align: center; vertical-align: top\">0385503857</td>\n",
       "        <td style=\"padding-left: 1em; padding-right: 1em; text-align: center; vertical-align: top\">0.385707557201</td>\n",
       "        <td style=\"padding-left: 1em; padding-right: 1em; text-align: center; vertical-align: top\">9</td>\n",
       "    </tr>\n",
       "    <tr>\n",
       "        <td style=\"padding-left: 1em; padding-right: 1em; text-align: center; vertical-align: top\">0971880107</td>\n",
       "        <td style=\"padding-left: 1em; padding-right: 1em; text-align: center; vertical-align: top\">0446611778</td>\n",
       "        <td style=\"padding-left: 1em; padding-right: 1em; text-align: center; vertical-align: top\">0.376048028469</td>\n",
       "        <td style=\"padding-left: 1em; padding-right: 1em; text-align: center; vertical-align: top\">10</td>\n",
       "    </tr>\n",
       "</table>\n",
       "[180 rows x 4 columns]<br/>Note: Only the head of the SFrame is printed.<br/>You can use print_rows(num_rows=m, num_columns=n) to print more rows and columns.\n",
       "</div>"
      ],
      "text/plain": [
       "Columns:\n",
       "\tISBN\tstr\n",
       "\tsimilar\tstr\n",
       "\tscore\tfloat\n",
       "\trank\tint\n",
       "\n",
       "Rows: 180\n",
       "\n",
       "Data:\n",
       "+------------+------------+----------------+------+\n",
       "|    ISBN    |  similar   |     score      | rank |\n",
       "+------------+------------+----------------+------+\n",
       "| 0971880107 | 0385720106 | 0.526107192039 |  1   |\n",
       "| 0971880107 | 0140244824 | 0.489759117365 |  2   |\n",
       "| 0971880107 | 037570504X | 0.486959457397 |  3   |\n",
       "| 0971880107 | 0671038184 | 0.486038267612 |  4   |\n",
       "| 0971880107 | 042516098X | 0.443839877844 |  5   |\n",
       "| 0971880107 | 0385486804 | 0.424113184214 |  6   |\n",
       "| 0971880107 | 0425167313 | 0.40408962965  |  7   |\n",
       "| 0971880107 | 0373484003 | 0.403573065996 |  8   |\n",
       "| 0971880107 | 0385503857 | 0.385707557201 |  9   |\n",
       "| 0971880107 | 0446611778 | 0.376048028469 |  10  |\n",
       "+------------+------------+----------------+------+\n",
       "[180 rows x 4 columns]\n",
       "Note: Only the head of the SFrame is printed.\n",
       "You can use print_rows(num_rows=m, num_columns=n) to print more rows and columns."
      ]
     },
     "execution_count": 113,
     "metadata": {},
     "output_type": "execute_result"
    }
   ],
   "source": [
    "print similar_items\n",
    "similar_items_predict_rating"
   ]
  },
  {
   "cell_type": "code",
   "execution_count": 114,
   "metadata": {
    "collapsed": false
   },
   "outputs": [
    {
     "data": {
      "text/html": [
       "<div style=\"max-height:1000px;max-width:1500px;overflow:auto;\"><table frame=\"box\" rules=\"cols\">\n",
       "    <tr>\n",
       "        <th style=\"padding-left: 1em; padding-right: 1em; text-align: center\">ISBN</th>\n",
       "        <th style=\"padding-left: 1em; padding-right: 1em; text-align: center\">authors</th>\n",
       "        <th style=\"padding-left: 1em; padding-right: 1em; text-align: center\">categories</th>\n",
       "        <th style=\"padding-left: 1em; padding-right: 1em; text-align: center\">imageThumbnail</th>\n",
       "        <th style=\"padding-left: 1em; padding-right: 1em; text-align: center\">pageCount</th>\n",
       "        <th style=\"padding-left: 1em; padding-right: 1em; text-align: center\">publishedDate</th>\n",
       "        <th style=\"padding-left: 1em; padding-right: 1em; text-align: center\">publisher</th>\n",
       "    </tr>\n",
       "    <tr>\n",
       "        <td style=\"padding-left: 1em; padding-right: 1em; text-align: center; vertical-align: top\">0971880107</td>\n",
       "        <td style=\"padding-left: 1em; padding-right: 1em; text-align: center; vertical-align: top\">Rich Shapero</td>\n",
       "        <td style=\"padding-left: 1em; padding-right: 1em; text-align: center; vertical-align: top\">Fiction</td>\n",
       "        <td style=\"padding-left: 1em; padding-right: 1em; text-align: center; vertical-align: top\">http://books.google.com/b<br>ooks/content?id=cbGr5 ...</td>\n",
       "        <td style=\"padding-left: 1em; padding-right: 1em; text-align: center; vertical-align: top\">315</td>\n",
       "        <td style=\"padding-left: 1em; padding-right: 1em; text-align: center; vertical-align: top\">2004</td>\n",
       "        <td style=\"padding-left: 1em; padding-right: 1em; text-align: center; vertical-align: top\">Too Far Pub</td>\n",
       "    </tr>\n",
       "</table>\n",
       "<table frame=\"box\" rules=\"cols\">\n",
       "    <tr>\n",
       "        <th style=\"padding-left: 1em; padding-right: 1em; text-align: center\">textSnippet</th>\n",
       "        <th style=\"padding-left: 1em; padding-right: 1em; text-align: center\">title</th>\n",
       "    </tr>\n",
       "    <tr>\n",
       "        <td style=\"padding-left: 1em; padding-right: 1em; text-align: center; vertical-align: top\">Newly graduated from<br>college, Sam Altman is ...</td>\n",
       "        <td style=\"padding-left: 1em; padding-right: 1em; text-align: center; vertical-align: top\">Wild Animus</td>\n",
       "    </tr>\n",
       "</table>\n",
       "[? rows x 9 columns]<br/>Note: Only the head of the SFrame is printed. This SFrame is lazily evaluated.<br/>You can use sf.materialize() to force materialization.\n",
       "</div>"
      ],
      "text/plain": [
       "Columns:\n",
       "\tISBN\tstr\n",
       "\tauthors\tstr\n",
       "\tcategories\tstr\n",
       "\timageThumbnail\tstr\n",
       "\tpageCount\tint\n",
       "\tpublishedDate\tstr\n",
       "\tpublisher\tstr\n",
       "\ttextSnippet\tstr\n",
       "\ttitle\tstr\n",
       "\n",
       "Rows: Unknown\n",
       "\n",
       "Data:\n",
       "+------------+--------------+------------+-------------------------------+-----------+\n",
       "|    ISBN    |   authors    | categories |         imageThumbnail        | pageCount |\n",
       "+------------+--------------+------------+-------------------------------+-----------+\n",
       "| 0971880107 | Rich Shapero |  Fiction   | http://books.google.com/bo... |    315    |\n",
       "+------------+--------------+------------+-------------------------------+-----------+\n",
       "+---------------+-------------+-------------------------------+-------------+\n",
       "| publishedDate |  publisher  |          textSnippet          |    title    |\n",
       "+---------------+-------------+-------------------------------+-------------+\n",
       "|      2004     | Too Far Pub | Newly graduated from colle... | Wild Animus |\n",
       "+---------------+-------------+-------------------------------+-------------+\n",
       "[? rows x 9 columns]\n",
       "Note: Only the head of the SFrame is printed. This SFrame is lazily evaluated.\n",
       "You can use sf.materialize() to force materialization."
      ]
     },
     "execution_count": 114,
     "metadata": {},
     "output_type": "execute_result"
    }
   ],
   "source": [
    "ISBNlookup('0971880107')"
   ]
  },
  {
   "cell_type": "code",
   "execution_count": 115,
   "metadata": {
    "collapsed": false
   },
   "outputs": [
    {
     "data": {
      "text/plain": [
       "graphlab.data_structures.sframe.SFrame"
      ]
     },
     "execution_count": 115,
     "metadata": {},
     "output_type": "execute_result"
    }
   ],
   "source": [
    "type(validation_data_2)"
   ]
  },
  {
   "cell_type": "code",
   "execution_count": 116,
   "metadata": {
    "collapsed": false
   },
   "outputs": [
    {
     "data": {
      "text/html": [
       "<pre>Warning: The model was fit with 2 feature columns but only 1 were present during transform(). Proceeding with transform by ignoring the missing columns.</pre>"
      ],
      "text/plain": [
       "Warning: The model was fit with 2 feature columns but only 1 were present during transform(). Proceeding with transform by ignoring the missing columns."
      ]
     },
     "metadata": {},
     "output_type": "display_data"
    },
    {
     "data": {
      "text/html": [
       "<pre>Warning: The model was fit with 2 feature columns but only 1 were present during transform(). Proceeding with transform by ignoring the missing columns.</pre>"
      ],
      "text/plain": [
       "Warning: The model was fit with 2 feature columns but only 1 were present during transform(). Proceeding with transform by ignoring the missing columns."
      ]
     },
     "metadata": {},
     "output_type": "display_data"
    }
   ],
   "source": [
    "view_predicted_model = model_predict_rating.views.overview(validation_set = validation_data_2,\n",
    "                           user_data = user_data,\n",
    "                           user_name_column = 'UserID',\n",
    "                           item_data = items,\n",
    "                           item_name_column = 'title',\n",
    "                           item_url_column = 'imageThumbnail')\n",
    "view_predicted_model.show()"
   ]
  },
  {
   "cell_type": "code",
   "execution_count": null,
   "metadata": {
    "collapsed": true
   },
   "outputs": [],
   "source": []
  }
 ],
 "metadata": {
  "anaconda-cloud": {},
  "kernelspec": {
   "display_name": "Python 2",
   "language": "python",
   "name": "python2"
  },
  "language_info": {
   "codemirror_mode": {
    "name": "ipython",
    "version": 2
   },
   "file_extension": ".py",
   "mimetype": "text/x-python",
   "name": "python",
   "nbconvert_exporter": "python",
   "pygments_lexer": "ipython2",
   "version": "2.7.11"
  }
 },
 "nbformat": 4,
 "nbformat_minor": 0
}
