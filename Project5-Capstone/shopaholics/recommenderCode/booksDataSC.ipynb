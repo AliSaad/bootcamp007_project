{
 "cells": [
  {
   "cell_type": "code",
   "execution_count": 2,
   "metadata": {
    "collapsed": false
   },
   "outputs": [],
   "source": [
    "!cd ../BX-CSV-Dump"
   ]
  },
  {
   "cell_type": "code",
   "execution_count": 3,
   "metadata": {
    "collapsed": false
   },
   "outputs": [
    {
     "name": "stdout",
     "output_type": "stream",
     "text": [
      "Untitled.ipynb     recommendations.py\r\n"
     ]
    }
   ],
   "source": [
    "!ls"
   ]
  },
  {
   "cell_type": "code",
   "execution_count": 4,
   "metadata": {
    "collapsed": false
   },
   "outputs": [
    {
     "data": {
      "text/plain": [
       "1149781"
      ]
     },
     "execution_count": 4,
     "metadata": {},
     "output_type": "execute_result"
    }
   ],
   "source": [
    "ratings = sc.textFile(\"../BX-CSV-Dump/BX-Book-Ratings.csv\")\n",
    "ratings.count()"
   ]
  },
  {
   "cell_type": "code",
   "execution_count": 10,
   "metadata": {
    "collapsed": false
   },
   "outputs": [
    {
     "data": {
      "text/plain": [
       "PythonRDD[5] at RDD at PythonRDD.scala:48"
      ]
     },
     "execution_count": 10,
     "metadata": {},
     "output_type": "execute_result"
    }
   ],
   "source": [
    "ratings.values()"
   ]
  },
  {
   "cell_type": "code",
   "execution_count": 14,
   "metadata": {
    "collapsed": false
   },
   "outputs": [
    {
     "data": {
      "text/plain": [
       "[u'\"User-ID\";\"ISBN\";\"Book-Rating\"',\n",
       " u'\"276725\";\"034545104X\";\"0\"',\n",
       " u'\"276726\";\"0155061224\";\"5\"',\n",
       " u'\"276727\";\"0446520802\";\"0\"',\n",
       " u'\"276729\";\"052165615X\";\"3\"',\n",
       " u'\"276729\";\"0521795028\";\"6\"',\n",
       " u'\"276733\";\"2080674722\";\"0\"',\n",
       " u'\"276736\";\"3257224281\";\"8\"',\n",
       " u'\"276737\";\"0600570967\";\"6\"',\n",
       " u'\"276744\";\"038550120X\";\"7\"',\n",
       " u'\"276745\";\"342310538\";\"10\"',\n",
       " u'\"276746\";\"0425115801\";\"0\"',\n",
       " u'\"276746\";\"0449006522\";\"0\"',\n",
       " u'\"276746\";\"0553561618\";\"0\"',\n",
       " u'\"276746\";\"055356451X\";\"0\"']"
      ]
     },
     "execution_count": 14,
     "metadata": {},
     "output_type": "execute_result"
    }
   ],
   "source": [
    "ratings.take(15)"
   ]
  },
  {
   "cell_type": "code",
   "execution_count": null,
   "metadata": {
    "collapsed": true
   },
   "outputs": [],
   "source": []
  }
 ],
 "metadata": {
  "anaconda-cloud": {},
  "kernelspec": {
   "display_name": "Python [default]",
   "language": "python",
   "name": "python2"
  },
  "language_info": {
   "codemirror_mode": {
    "name": "ipython",
    "version": 2
   },
   "file_extension": ".py",
   "mimetype": "text/x-python",
   "name": "python",
   "nbconvert_exporter": "python",
   "pygments_lexer": "ipython2",
   "version": "2.7.12"
  }
 },
 "nbformat": 4,
 "nbformat_minor": 1
}
