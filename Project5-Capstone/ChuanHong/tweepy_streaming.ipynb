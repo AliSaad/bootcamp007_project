{
 "cells": [
  {
   "cell_type": "code",
   "execution_count": 18,
   "metadata": {
    "collapsed": false
   },
   "outputs": [
    {
     "data": {
      "text/plain": [
       "'CREATE TABLE IF NOT EXISTS tweetTable (created_at TEXT, geo TEXT, id_str TEXT, place TEXT, retweet_count TEXT, favorite_count TEXT, source TEXT, text TEXT, user_description TEXT, user_followers_count TEXT, user_friends_count TEXT, user_id_str TEXT, user_location TEXT, user_name TEXT, user_time_zone TEXT)'"
      ]
     },
     "execution_count": 18,
     "metadata": {},
     "output_type": "execute_result"
    }
   ],
   "source": [
    "column_string = ', '.join(map(lambda x: x + ' TEXT', tableSchema))\n",
    "'CREATE TABLE IF NOT EXISTS {0} ({1})'.format(tableName, column_string)"
   ]
  },
  {
   "cell_type": "code",
   "execution_count": 14,
   "metadata": {
    "collapsed": false
   },
   "outputs": [],
   "source": [
    "dbName = 'test.db'\n",
    "tableName = 'tweetTable'\n",
    "tableSchema = ['created_at',\n",
    "               'geo',\n",
    "               'id_str',\n",
    "               'place',\n",
    "               'retweet_count',\n",
    "               'favorite_count',\n",
    "               'source',\n",
    "               'text',\n",
    "               'user_description',\n",
    "               'user_followers_count',\n",
    "               'user_friends_count',\n",
    "               'user_id_str',\n",
    "               'user_location',\n",
    "               'user_name',\n",
    "               'user_time_zone']\n",
    "# tableSchema = {'created_at': 'TEXT',\n",
    "#                'geo': 'TEXT',\n",
    "#                'id_str': 'TEXT',\n",
    "#                'place': 'TEXT',\n",
    "#                'retweet_count': 'INTEGER',\n",
    "#                'favorite_count': 'INTEGER',\n",
    "#                'source': 'TEXT',\n",
    "#                'text': 'TEXT',\n",
    "#                'user_description': 'TEXT',\n",
    "#                'user_followers_count': 'INTEGER',\n",
    "#                'user_friends_count': 'INTEGER',\n",
    "#                'user_id_str': 'TEXT',\n",
    "#                'user_location': 'TEXT',\n",
    "#                'user_name': 'TEXT',\n",
    "#                'user_time_zone': 'TEXT'}"
   ]
  },
  {
   "cell_type": "code",
   "execution_count": null,
   "metadata": {
    "collapsed": false
   },
   "outputs": [],
   "source": [
    "import sqlite3\n",
    "\n",
    "\n",
    "class MyStreamWriter(object):\n",
    "\n",
    "    def __init__(self, dbName, tableName, tableSchema):\n",
    "#         if not isinstance(tableSchema, dict):\n",
    "#             raise ValueError('tableSchema type must be Python dict')\n",
    "        self.tableName = tableName\n",
    "        self.tableSchema = tableSchema\n",
    "        self.insert_values = []\n",
    "        ## Create database connection\n",
    "        self.con = sqlite3.connect(dbName)\n",
    "        self.cur = self.con.cursor()\n",
    "        ## Construct create table query\n",
    "        column_string = ', '.join(map(lambda x: x + ' TEXT', tableSchema))\n",
    "        create_table = 'CREATE TABLE IF NOT EXISTS {0} ({1})'.format(self.tableName, \n",
    "                                                                     column_string)\n",
    "        ## Create table\n",
    "        self.cur.execute(create_table)\n",
    "        self.con.commit()\n",
    "\n",
    "    def stream_in(self, tableValue):\n",
    "#         if not isinstance(tableValue, dict):\n",
    "#             raise ValueError('tableValue type must be Python dict')\n",
    "        ## Construct insert value query\n",
    "        value_string = '(\"' + '\",\"'.join(tableValue) + '\")'\n",
    "       \n",
    "        self.insert_values.append(value_string)\n",
    "        ## Insert into table\n",
    "        if len(self.insert_values) > 99:\n",
    "            insert_values = 'INSERT INTO {0} VALUES {1};'.format(self.tableName,\n",
    "                                                                 ', '.join(self.insert_values))\n",
    "            self.cur.execute(''.join(insert_values))\n",
    "            self.con.commit()\n",
    "            self.insert_values = []\n",
    "\n",
    "    def read_table(self):\n",
    "        self.cur.execute('SELECT * FROM {0}'.format(self.tableName))\n",
    "        return [tableSchema.keys()] + self.cur.fetchall()\n",
    "\n",
    "    def disconnect(self):\n",
    "        self.con.close()\n"
   ]
  },
  {
   "cell_type": "code",
   "execution_count": 10,
   "metadata": {
    "collapsed": false
   },
   "outputs": [],
   "source": [
    "import tweepy\n",
    "\n",
    "\n",
    "class MyStreamListener(tweepy.StreamListener):\n",
    "\n",
    "    def on_connect(self):\n",
    "        self.writer = MyStreamWriter(dbName, tableName, tableSchema)\n",
    "\n",
    "    def on_status(self, status):\n",
    "        ## Create tableValue\n",
    "        tableValue = list()\n",
    "        for key in tableSchema:\n",
    "            if key.find('user_') == 0:\n",
    "                k1, k2 = key.split('_', 1)\n",
    "                tableValue[key] = unicode(status.__dict__[k1].__dict__[k2]).encode('ascii', 'ignore').replace('\"', '').strip()\n",
    "            else:\n",
    "                tableValue[key] = unicode(status.__dict__[key]).encode('ascii', 'ignore').replace('\"', '').strip()\n",
    "        ## Insert values into table\n",
    "        print(tableValue)\n",
    "        self.writer.stream_in(tableValue)\n",
    "\n",
    "    def on_error(self, status_code):\n",
    "        if status_code == 420:\n",
    "            print('error code: 420')\n",
    "            self.db.disconnect()\n",
    "            # returning False in on_data disconnects the stream\n",
    "            return False"
   ]
  },
  {
   "cell_type": "code",
   "execution_count": 11,
   "metadata": {
    "collapsed": false
   },
   "outputs": [],
   "source": [
    "consumer_token = '0ec7PKFpXR57cCEFWYarQkToE'\n",
    "consumer_secret = 'yeDFsy7Wpaadxp2eoUWMlrlGWDGItzNRk0nKhBJtVZ29enxxzf'\n",
    "access_token = '2604803370-v8QJYcbcuJGs0ugZHnUXM7bcYygutgdxawQn3ZL'\n",
    "access_token_secret = 'aA04xPHJX1QBdqMMUSn9Ji1c6fubTXbOB2ojqz6rlLVis'\n",
    "auth = tweepy.OAuthHandler(consumer_token, consumer_secret)\n",
    "auth.set_access_token(access_token, access_token_secret)"
   ]
  },
  {
   "cell_type": "code",
   "execution_count": null,
   "metadata": {
    "collapsed": false
   },
   "outputs": [],
   "source": [
    "with open('FoodList_cleaned.txt', 'rb') as f:\n",
    "    food_list = [line.strip() for line in f]"
   ]
  },
  {
   "cell_type": "code",
   "execution_count": null,
   "metadata": {
    "collapsed": false
   },
   "outputs": [],
   "source": [
    "myStream = tweepy.Stream(auth=auth, listener=MyStreamListener())"
   ]
  },
  {
   "cell_type": "code",
   "execution_count": null,
   "metadata": {
    "collapsed": false
   },
   "outputs": [],
   "source": [
    "myStream.filter(track=food_list, languages=['en']) #, filter_level='medium') #, async=False)"
   ]
  },
  {
   "cell_type": "code",
   "execution_count": null,
   "metadata": {
    "collapsed": false
   },
   "outputs": [],
   "source": [
    "myStream.disconnect()"
   ]
  },
  {
   "cell_type": "code",
   "execution_count": null,
   "metadata": {
    "collapsed": false
   },
   "outputs": [],
   "source": [
    "api = tweepy.API(auth_handler=auth)"
   ]
  },
  {
   "cell_type": "code",
   "execution_count": 12,
   "metadata": {
    "collapsed": false
   },
   "outputs": [],
   "source": [
    "from twython import Twython\n",
    "\n",
    "twitter = Twython(consumer_token, consumer_secret, access_token, access_token_secret)"
   ]
  },
  {
   "cell_type": "code",
   "execution_count": 13,
   "metadata": {
    "collapsed": false
   },
   "outputs": [
    {
     "data": {
      "text/plain": [
       "{u'contributors': None,\n",
       " u'coordinates': None,\n",
       " u'created_at': u'Sun Dec 04 17:47:28 +0000 2016',\n",
       " u'entities': {u'hashtags': [],\n",
       "  u'symbols': [],\n",
       "  u'urls': [],\n",
       "  u'user_mentions': []},\n",
       " u'favorite_count': 3,\n",
       " u'favorited': False,\n",
       " u'geo': None,\n",
       " u'id': 805468578745122817,\n",
       " u'id_str': u'805468578745122817',\n",
       " u'in_reply_to_screen_name': None,\n",
       " u'in_reply_to_status_id': None,\n",
       " u'in_reply_to_status_id_str': None,\n",
       " u'in_reply_to_user_id': None,\n",
       " u'in_reply_to_user_id_str': None,\n",
       " u'is_quote_status': False,\n",
       " u'lang': u'en',\n",
       " u'place': None,\n",
       " u'retweet_count': 0,\n",
       " u'retweeted': False,\n",
       " u'source': u'<a href=\"http://twitter.com/download/iphone\" rel=\"nofollow\">Twitter for iPhone</a>',\n",
       " u'text': u'\"I gave up getting laid last night to eat a burrito!?!!\"- my lovely teammate',\n",
       " u'truncated': False,\n",
       " u'user': {u'contributors_enabled': False,\n",
       "  u'created_at': u'Mon May 25 20:35:28 +0000 2009',\n",
       "  u'default_profile': False,\n",
       "  u'default_profile_image': False,\n",
       "  u'description': u\"Potatoes,banana suits and Gator rugby. Allegheny College '18\",\n",
       "  u'entities': {u'description': {u'urls': []},\n",
       "   u'url': {u'urls': [{u'display_url': u'psychedeliczen.tumblr.com',\n",
       "      u'expanded_url': u'http://psychedeliczen.tumblr.com/',\n",
       "      u'indices': [0, 23],\n",
       "      u'url': u'https://t.co/BNoPIpXxqH'}]}},\n",
       "  u'favourites_count': 4073,\n",
       "  u'follow_request_sent': False,\n",
       "  u'followers_count': 443,\n",
       "  u'following': False,\n",
       "  u'friends_count': 380,\n",
       "  u'geo_enabled': False,\n",
       "  u'has_extended_profile': True,\n",
       "  u'id': 42481592,\n",
       "  u'id_str': u'42481592',\n",
       "  u'is_translation_enabled': False,\n",
       "  u'is_translator': False,\n",
       "  u'lang': u'en',\n",
       "  u'listed_count': 3,\n",
       "  u'location': u'Pittsburgh, PA',\n",
       "  u'name': u'Tachelle Johnson',\n",
       "  u'notifications': False,\n",
       "  u'profile_background_color': u'FFFFFF',\n",
       "  u'profile_background_image_url': u'http://pbs.twimg.com/profile_background_images/673289456/a27bb3f95aba8e6aab4e3e456178470b.jpeg',\n",
       "  u'profile_background_image_url_https': u'https://pbs.twimg.com/profile_background_images/673289456/a27bb3f95aba8e6aab4e3e456178470b.jpeg',\n",
       "  u'profile_background_tile': True,\n",
       "  u'profile_banner_url': u'https://pbs.twimg.com/profile_banners/42481592/1478105256',\n",
       "  u'profile_image_url': u'http://pbs.twimg.com/profile_images/785293929210077185/mezbrWc7_normal.jpg',\n",
       "  u'profile_image_url_https': u'https://pbs.twimg.com/profile_images/785293929210077185/mezbrWc7_normal.jpg',\n",
       "  u'profile_link_color': u'981CEB',\n",
       "  u'profile_sidebar_border_color': u'FFFFFF',\n",
       "  u'profile_sidebar_fill_color': u'FCFCFC',\n",
       "  u'profile_text_color': u'8F0E8F',\n",
       "  u'profile_use_background_image': True,\n",
       "  u'protected': False,\n",
       "  u'screen_name': u'tmariej_',\n",
       "  u'statuses_count': 5868,\n",
       "  u'time_zone': u'Eastern Time (US & Canada)',\n",
       "  u'translator_type': u'none',\n",
       "  u'url': u'https://t.co/BNoPIpXxqH',\n",
       "  u'utc_offset': -18000,\n",
       "  u'verified': False}}"
      ]
     },
     "execution_count": 13,
     "metadata": {},
     "output_type": "execute_result"
    }
   ],
   "source": [
    "tweet = twitter.show_status(id=805468578745122817)\n",
    "tweet"
   ]
  },
  {
   "cell_type": "code",
   "execution_count": null,
   "metadata": {
    "collapsed": false
   },
   "outputs": [],
   "source": [
    "u = api.get_user(42481592)\n",
    "print u.screen_name"
   ]
  },
  {
   "cell_type": "code",
   "execution_count": null,
   "metadata": {
    "collapsed": false
   },
   "outputs": [],
   "source": [
    "'CREATE TABLE {0} IF NOT EXIST ({1})'.format('mytable')"
   ]
  },
  {
   "cell_type": "code",
   "execution_count": null,
   "metadata": {
    "collapsed": true
   },
   "outputs": [],
   "source": [
    "tableSchema = {'a':'INTEGER', 'b':'TEXT'}\n",
    "tableValue = {'a':'3', 'b':'txt'}"
   ]
  },
  {
   "cell_type": "code",
   "execution_count": null,
   "metadata": {
    "collapsed": false
   },
   "outputs": [],
   "source": [
    "', '.join(map(lambda x: ' '.join(x), tableSchema.items()))"
   ]
  },
  {
   "cell_type": "code",
   "execution_count": 34,
   "metadata": {
    "collapsed": false
   },
   "outputs": [],
   "source": []
  },
  {
   "cell_type": "code",
   "execution_count": 35,
   "metadata": {
    "collapsed": false
   },
   "outputs": [],
   "source": []
  },
  {
   "cell_type": "code",
   "execution_count": 3,
   "metadata": {
    "collapsed": false
   },
   "outputs": [
    {
     "data": {
      "text/plain": [
       "15515"
      ]
     },
     "execution_count": 3,
     "metadata": {},
     "output_type": "execute_result"
    }
   ],
   "source": [
    "len(filter(lambda x: x != (u'None',), geos))"
   ]
  },
  {
   "cell_type": "code",
   "execution_count": 5,
   "metadata": {
    "collapsed": false
   },
   "outputs": [
    {
     "data": {
      "text/plain": [
       "(u\"{u'type': u'Point', u'coordinates': [40.78712093, -111.98129839]}\",)"
      ]
     },
     "execution_count": 5,
     "metadata": {},
     "output_type": "execute_result"
    }
   ],
   "source": []
  },
  {
   "cell_type": "code",
   "execution_count": 6,
   "metadata": {
    "collapsed": true
   },
   "outputs": [],
   "source": [
    "import json"
   ]
  },
  {
   "cell_type": "code",
   "execution_count": 21,
   "metadata": {
    "collapsed": false
   },
   "outputs": [
    {
     "data": {
      "text/plain": [
       "u'{u\"type\": u\"Point\", u\"coordinates\": [40.78712093, -111.98129839]}'"
      ]
     },
     "execution_count": 21,
     "metadata": {},
     "output_type": "execute_result"
    }
   ],
   "source": [
    "u\"{u'type': u'Point', u'coordinates': [40.78712093, -111.98129839]}\".replace(\"'\", \"\\\"\")"
   ]
  },
  {
   "cell_type": "code",
   "execution_count": 33,
   "metadata": {
    "collapsed": false
   },
   "outputs": [
    {
     "data": {
      "text/plain": [
       "{u'coordinates': [40.78712093, -111.98129839], u'type': u'Point'}"
      ]
     },
     "execution_count": 33,
     "metadata": {},
     "output_type": "execute_result"
    }
   ],
   "source": [
    "json.loads(u'{u\"type\": u\"Point\", u\"coordinates\": [40.78712093, -111.98129839]}'.replace('u\"', '\"'))"
   ]
  },
  {
   "cell_type": "code",
   "execution_count": 32,
   "metadata": {
    "collapsed": false
   },
   "outputs": [
    {
     "data": {
      "text/plain": [
       "{u'bar': [u'baz', None, 1.0, 2]}"
      ]
     },
     "execution_count": 32,
     "metadata": {},
     "output_type": "execute_result"
    }
   ],
   "source": [
    "json.loads(u'{u\"bar\":[u\"baz\", null, 1.0, 2]}'.replace('u\"', '\"'))"
   ]
  },
  {
   "cell_type": "code",
   "execution_count": null,
   "metadata": {
    "collapsed": true
   },
   "outputs": [],
   "source": []
  }
 ],
 "metadata": {
  "anaconda-cloud": {},
  "kernelspec": {
   "display_name": "Python [default]",
   "language": "python",
   "name": "python2"
  },
  "language_info": {
   "codemirror_mode": {
    "name": "ipython",
    "version": 2
   },
   "file_extension": ".py",
   "mimetype": "text/x-python",
   "name": "python",
   "nbconvert_exporter": "python",
   "pygments_lexer": "ipython2",
   "version": "2.7.12"
  }
 },
 "nbformat": 4,
 "nbformat_minor": 1
}
