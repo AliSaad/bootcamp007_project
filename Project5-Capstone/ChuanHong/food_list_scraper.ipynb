{
 "cells": [
  {
   "cell_type": "code",
   "execution_count": 1,
   "metadata": {
    "collapsed": false
   },
   "outputs": [],
   "source": [
    "from bs4 import BeautifulSoup\n",
    "import requests\n",
    "\n",
    "## get webpage\n",
    "url = 'http://www.enchantedlearning.com/wordlist/food.shtml'\n",
    "r = requests.get(url)\n",
    "soup = BeautifulSoup(r.text, 'html.parser')\n",
    "\n",
    "## parse food word vocabulary tables\n",
    "food_list = list()\n",
    "for word_table in soup.find(\"p\").find_all(\"table\")[:25]:\n",
    "    food_list.extend(filter(lambda x: len(x), \n",
    "                            [x.strip() for x in word_table.strings]))"
   ]
  },
  {
   "cell_type": "code",
   "execution_count": 2,
   "metadata": {
    "collapsed": false
   },
   "outputs": [],
   "source": [
    "import csv\n",
    "\n",
    "## get word list from SR28\n",
    "food_set = set()\n",
    "with open('ABBREV.csv', 'rb') as csvfile:\n",
    "    abbrev = csv.reader(csvfile, delimiter=',', quotechar='\"')\n",
    "    ## skip the header\n",
    "    abbrev.next()\n",
    "    ## get word list from the second column\n",
    "    for row in abbrev:\n",
    "        food_set = food_set.union(map(lambda x: x.strip().lower(), \n",
    "                                      row[1].split(',')))"
   ]
  },
  {
   "cell_type": "code",
   "execution_count": 3,
   "metadata": {
    "collapsed": false
   },
   "outputs": [],
   "source": [
    "## find the intersection\n",
    "food_word = sorted(list(food_set.intersection(food_list)))\n",
    "food_word_diff = sorted(list(food_set.difference(food_list)))"
   ]
  },
  {
   "cell_type": "code",
   "execution_count": 4,
   "metadata": {
    "collapsed": false
   },
   "outputs": [],
   "source": [
    "## write to file\n",
    "\n",
    "with open('foodWord.txt', 'wb') as f:\n",
    "    for word in food_word:\n",
    "        f.write(word + '\\n')\n",
    "        \n",
    "with open('foodWordDiff.txt', 'wb') as f:\n",
    "    for word in food_word_diff:\n",
    "        f.write(word + '\\n')"
   ]
  },
  {
   "cell_type": "code",
   "execution_count": 2,
   "metadata": {
    "collapsed": false
   },
   "outputs": [],
   "source": [
    "import pandas as pd\n",
    "abbrev = pd.read_csv('ABBREV.csv')"
   ]
  },
  {
   "cell_type": "code",
   "execution_count": null,
   "metadata": {
    "collapsed": true
   },
   "outputs": [],
   "source": [
    "nutrition = abbrev.loc[:, ]"
   ]
  },
  {
   "cell_type": "code",
   "execution_count": 4,
   "metadata": {
    "collapsed": false
   },
   "outputs": [
    {
     "data": {
      "text/plain": [
       "0                   BUTTER\n",
       "1                   BUTTER\n",
       "2               BUTTER OIL\n",
       "3                   CHEESE\n",
       "4                   CHEESE\n",
       "5                   CHEESE\n",
       "6                   CHEESE\n",
       "7                   CHEESE\n",
       "8                   CHEESE\n",
       "9                   CHEESE\n",
       "10                  CHEESE\n",
       "11                  CHEESE\n",
       "12                  CHEESE\n",
       "13                  CHEESE\n",
       "14                  CHEESE\n",
       "15                  CHEESE\n",
       "16                  CHEESE\n",
       "17                  CHEESE\n",
       "18                  CHEESE\n",
       "19                  CHEESE\n",
       "20                  CHEESE\n",
       "21                  CHEESE\n",
       "22                  CHEESE\n",
       "23                  CHEESE\n",
       "24                  CHEESE\n",
       "25                  CHEESE\n",
       "26                  CHEESE\n",
       "27                  CHEESE\n",
       "28                  CHEESE\n",
       "29                  CHEESE\n",
       "               ...        \n",
       "8760              BABYFOOD\n",
       "8761              BABYFOOD\n",
       "8762              BABYFOOD\n",
       "8763                SNACKS\n",
       "8764           CEREALS RTE\n",
       "8765               POPCORN\n",
       "8766              BABYFOOD\n",
       "8767                CHEESE\n",
       "8768         BREAKFAST BAR\n",
       "8769                CHEESE\n",
       "8770      MAYONNAISE DRSNG\n",
       "8771                   OIL\n",
       "8772            SWEETENERS\n",
       "8773           CHEESE FOOD\n",
       "8774         CELERY FLAKES\n",
       "8775              PUDDINGS\n",
       "8776              BABYFOOD\n",
       "8777               JELLIES\n",
       "8778          PIE FILLINGS\n",
       "8779             BEVERAGES\n",
       "8780              PUDDINGS\n",
       "8781              PUDDINGS\n",
       "8782              PUDDINGS\n",
       "8783    VITAL WHEAT GLUTEN\n",
       "8784             FROG LEGS\n",
       "8785              MACKEREL\n",
       "8786               SCALLOP\n",
       "8787                 SYRUP\n",
       "8788                 SNAIL\n",
       "8789                TURTLE\n",
       "Name: Shrt_Desc, dtype: object"
      ]
     },
     "execution_count": 4,
     "metadata": {},
     "output_type": "execute_result"
    }
   ],
   "source": [
    "abbrev['Shrt_Desc'].map(lambda x: x.split(',')[0])"
   ]
  },
  {
   "cell_type": "code",
   "execution_count": null,
   "metadata": {
    "collapsed": true
   },
   "outputs": [],
   "source": []
  }
 ],
 "metadata": {
  "anaconda-cloud": {},
  "kernelspec": {
   "display_name": "Python [default]",
   "language": "python",
   "name": "python2"
  },
  "language_info": {
   "codemirror_mode": {
    "name": "ipython",
    "version": 2
   },
   "file_extension": ".py",
   "mimetype": "text/x-python",
   "name": "python",
   "nbconvert_exporter": "python",
   "pygments_lexer": "ipython2",
   "version": "2.7.12"
  }
 },
 "nbformat": 4,
 "nbformat_minor": 1
}
