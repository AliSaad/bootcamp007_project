{
 "cells": [
  {
   "cell_type": "code",
   "execution_count": 15,
   "metadata": {
    "collapsed": false
   },
   "outputs": [],
   "source": [
    "# import the necessary packages\n",
    "from sklearn.neighbors import KNeighborsClassifier\n",
    "from sklearn import cross_validation\n",
    "from imutils import paths\n",
    "import numpy as np\n",
    "import pandas as pd\n",
    "import argparse\n",
    "import imutils\n",
    "import cv2\n",
    "import os\n",
    "import math\n",
    "from sklearn.decomposition import PCA\n",
    "\n",
    "from sklearn.metrics import confusion_matrix\n",
    "import matplotlib.pyplot as plt\n",
    "import itertools\n",
    "%matplotlib inline\n",
    "import seaborn as sns\n",
    "sns.set_style(\"whitegrid\", {'axes.grid' : False})"
   ]
  },
  {
   "cell_type": "code",
   "execution_count": 16,
   "metadata": {
    "collapsed": true
   },
   "outputs": [],
   "source": [
    "def image_to_feature_vector(image, size=(64, 64)):\n",
    "\t# resize the image to a fixed size, then flatten the image into\n",
    "\t# a list of raw pixel intensities\n",
    "\treturn cv2.resize(image, size).flatten()"
   ]
  },
  {
   "cell_type": "code",
   "execution_count": 17,
   "metadata": {
    "collapsed": true
   },
   "outputs": [],
   "source": [
    "def extract_color_histogram(image, bins=(8, 8, 8)):\n",
    "\t# extract a 3D color histogram from the HSV color space using\n",
    "\t# the supplied number of `bins` per channel\n",
    "\thsv = cv2.cvtColor(image, cv2.COLOR_BGR2HSV)\n",
    "\thist = cv2.calcHist([hsv], [0, 1, 2], None, bins,\n",
    "\t\t[0, 180, 0, 256, 0, 256])\n",
    "\n",
    "\t# handle normalizing the histogram if we are using OpenCV 2.4.X\n",
    "\tif imutils.is_cv2():\n",
    "\t\thist = cv2.normalize(hist)\n",
    "\n",
    "\t# otherwise, perform \"in place\" normalization in OpenCV 3 (I\n",
    "\t# personally hate the way this is done\n",
    "\telse:\n",
    "\t\tcv2.normalize(hist, hist)\n",
    "\n",
    "\t# return the flattened histogram as the feature vector\n",
    "\treturn hist.flatten()"
   ]
  },
  {
   "cell_type": "markdown",
   "metadata": {},
   "source": [
    "======================================================================================================\n",
    "# Load and Cleanup Data\n",
    "======================================================================================================"
   ]
  },
  {
   "cell_type": "code",
   "execution_count": 18,
   "metadata": {
    "collapsed": false
   },
   "outputs": [
    {
     "name": "stdout",
     "output_type": "stream",
     "text": [
      "[INFO] describing images...\n",
      "[INFO] 6000 images found!\n"
     ]
    }
   ],
   "source": [
    "dataset = \"./classes/kNN_data/\"\n",
    "# grab the list of images that we'll be describing\n",
    "print(\"[INFO] describing images...\")\n",
    "imagePaths = list(paths.list_images(dataset))\n",
    "print \"[INFO] \" + str(len(list(paths.list_images(dataset)))) + \" images found!\""
   ]
  },
  {
   "cell_type": "code",
   "execution_count": 19,
   "metadata": {
    "collapsed": false,
    "scrolled": true
   },
   "outputs": [
    {
     "name": "stdout",
     "output_type": "stream",
     "text": [
      "[INFO] processed 1000/6000\n",
      "[INFO] processed 2000/6000\n",
      "[INFO] processed 3000/6000\n",
      "[INFO] processed 4000/6000\n",
      "[INFO] processed 5000/6000\n"
     ]
    }
   ],
   "source": [
    "# initialize the raw pixel intensities matrix, the features matrix,\n",
    "# and labels list\n",
    "rawImages = []\n",
    "features = []\n",
    "labels = []\n",
    "\n",
    "# loop over the input images\n",
    "for (i, imagePath) in enumerate(imagePaths):\n",
    "\t# load the image and extract the class label (assuming that our\n",
    "\t# path as the format: /path/to/dataset/{class}.{image_num}.jpg\n",
    "\timage = cv2.imread(imagePath)\n",
    "\tlabel = imagePath.split(os.path.sep)[-1].split(\".\")[0]\n",
    "\n",
    "\t# extract raw pixel intensity \"features\", followed by a color\n",
    "\t# histogram to characterize the color distribution of the pixels\n",
    "\t# in the image\n",
    "\tpixels = image_to_feature_vector(image)\n",
    "\thist = extract_color_histogram(image)\n",
    "\n",
    "\t# update the raw images, features, and labels matricies,\n",
    "\t# respectively\n",
    "\trawImages.append(pixels)\n",
    "\tfeatures.append(hist)\n",
    "\tlabels.append(label)\n",
    "\n",
    "\t# show an update every 1,000 images\n",
    "\tif i > 0 and i % 1000 == 0:\n",
    "\t\tprint(\"[INFO] processed {}/{}\".format(i, len(imagePaths)))"
   ]
  },
  {
   "cell_type": "code",
   "execution_count": 20,
   "metadata": {
    "collapsed": false
   },
   "outputs": [
    {
     "data": {
      "text/plain": [
       "Counter({'adidas': 1500, 'jordan': 1500, 'newbalance': 1500, 'nike': 1500})"
      ]
     },
     "execution_count": 20,
     "metadata": {},
     "output_type": "execute_result"
    }
   ],
   "source": [
    "from collections import Counter\n",
    "Counter(labels)"
   ]
  },
  {
   "cell_type": "markdown",
   "metadata": {},
   "source": [
    "======================================================================================================\n",
    "# PCA on Dataset\n",
    "======================================================================================================"
   ]
  },
  {
   "cell_type": "code",
   "execution_count": 21,
   "metadata": {
    "collapsed": false
   },
   "outputs": [],
   "source": [
    "## Get 10 principal components\n",
    "pca = PCA(n_components=10)\n",
    "pca.fit(rawImages)\n",
    "images_transformed = pca.transform(rawImages)"
   ]
  },
  {
   "cell_type": "code",
   "execution_count": 22,
   "metadata": {
    "collapsed": false
   },
   "outputs": [
    {
     "data": {
      "text/plain": [
       "0.63199319735947546"
      ]
     },
     "execution_count": 22,
     "metadata": {},
     "output_type": "execute_result"
    },
    {
     "data": {
      "image/png": "[encoded data removed]",
      "text/plain": [
       "<matplotlib.figure.Figure at 0x11abd8290>"
      ]
     },
     "metadata": {},
     "output_type": "display_data"
    }
   ],
   "source": [
    "plt.plot(pca.explained_variance_ratio_)\n",
    "plt.title(\"Scree Plot: 10 Principal Components\")\n",
    "plt.xlabel(\"Number of Components\")\n",
    "plt.ylabel(\"% of Explained Variance\")\n",
    "sum(pca.explained_variance_ratio_)"
   ]
  },
  {
   "cell_type": "markdown",
   "metadata": {},
   "source": [
    "======================================================================================================\n",
    "# Train the kNN Model\n",
    "======================================================================================================"
   ]
  },
  {
   "cell_type": "code",
   "execution_count": 23,
   "metadata": {
    "collapsed": false
   },
   "outputs": [
    {
     "name": "stdout",
     "output_type": "stream",
     "text": [
      "Length of Validation Set:600\n",
      "Length of Train Set:5400\n",
      "Ratio: 0.111111111111\n"
     ]
    }
   ],
   "source": [
    "#64*64*3 colors\n",
    "# rawImages: Images flattened to a single list\n",
    "# labels: Brands for the given images\n",
    "# features: Color histogram\n",
    "\n",
    "X_train, X_val, Y_train, Y_val = cross_validation.train_test_split(images_transformed,\n",
    "                                                                   labels, \n",
    "                                                                   test_size=.1, \n",
    "                                                                   random_state=1337)\n",
    "print \"Length of Validation Set:\" + str(len(Y_val))\n",
    "print \"Length of Train Set:\" + str(len(Y_train))\n",
    "print \"Ratio: \" + str(len(Y_val) / float(len(Y_train)))"
   ]
  },
  {
   "cell_type": "code",
   "execution_count": 24,
   "metadata": {
    "collapsed": false
   },
   "outputs": [
    {
     "name": "stdout",
     "output_type": "stream",
     "text": [
      "Training KNN Model...\n"
     ]
    },
    {
     "data": {
      "text/plain": [
       "KNeighborsClassifier(algorithm='auto', leaf_size=30, metric='minkowski',\n",
       "           metric_params=None, n_jobs=-1, n_neighbors=78.0, p=2,\n",
       "           weights='distance')"
      ]
     },
     "execution_count": 24,
     "metadata": {},
     "output_type": "execute_result"
    }
   ],
   "source": [
    "## Train the KNN model\n",
    "print \"Training KNN Model...\"\n",
    "## n_jobs=-1: Use all cores\n",
    "## n_neighbors = Number of Neighbors\n",
    "n_neighbors = math.ceil(math.sqrt(len(images_transformed)))\n",
    "\n",
    "model = KNeighborsClassifier(n_neighbors=n_neighbors,\n",
    "                             weights = 'distance',\n",
    "                             n_jobs=-1)\n",
    "model.fit(X_train, Y_train)"
   ]
  },
  {
   "cell_type": "code",
   "execution_count": 25,
   "metadata": {
    "collapsed": false
   },
   "outputs": [
    {
     "data": {
      "text/plain": [
       "KNeighborsClassifier(algorithm='auto', leaf_size=30, metric='minkowski',\n",
       "           metric_params=None, n_jobs=-1, n_neighbors=78.0, p=2,\n",
       "           weights='uniform')"
      ]
     },
     "execution_count": 25,
     "metadata": {},
     "output_type": "execute_result"
    }
   ],
   "source": [
    "model2 = KNeighborsClassifier(n_neighbors=n_neighbors,\n",
    "                             n_jobs=-1)\n",
    "model2.fit(X_train, Y_train)"
   ]
  },
  {
   "cell_type": "code",
   "execution_count": 26,
   "metadata": {
    "collapsed": false
   },
   "outputs": [
    {
     "name": "stdout",
     "output_type": "stream",
     "text": [
      "['nike' 'nike' 'jordan' 'jordan' 'newbalance' 'newbalance' 'nike'\n",
      " 'newbalance' 'adidas' 'newbalance' 'nike' 'jordan' 'jordan' 'adidas'\n",
      " 'newbalance' 'adidas' 'adidas' 'nike' 'jordan' 'nike' 'jordan' 'nike'\n",
      " 'adidas' 'newbalance' 'jordan' 'nike' 'adidas' 'jordan' 'nike'\n",
      " 'newbalance' 'newbalance' 'newbalance' 'newbalance' 'nike' 'newbalance'\n",
      " 'jordan' 'jordan' 'adidas' 'adidas' 'jordan' 'newbalance' 'newbalance'\n",
      " 'newbalance' 'adidas' 'jordan' 'newbalance' 'newbalance' 'nike' 'jordan'\n",
      " 'newbalance' 'jordan' 'jordan' 'newbalance' 'newbalance' 'newbalance'\n",
      " 'newbalance' 'newbalance' 'jordan' 'newbalance' 'newbalance' 'adidas'\n",
      " 'jordan' 'jordan' 'nike' 'jordan' 'jordan' 'jordan' 'newbalance'\n",
      " 'newbalance' 'newbalance' 'adidas' 'newbalance' 'nike' 'newbalance'\n",
      " 'newbalance' 'jordan' 'newbalance' 'jordan' 'newbalance' 'newbalance'\n",
      " 'adidas' 'newbalance' 'jordan' 'newbalance' 'newbalance' 'nike'\n",
      " 'newbalance' 'jordan' 'nike' 'adidas' 'newbalance' 'newbalance' 'nike'\n",
      " 'jordan' 'jordan' 'nike' 'newbalance' 'jordan' 'jordan' 'newbalance'\n",
      " 'adidas' 'jordan' 'jordan' 'newbalance' 'newbalance' 'jordan' 'newbalance'\n",
      " 'jordan' 'newbalance' 'nike' 'adidas' 'nike' 'newbalance' 'adidas'\n",
      " 'newbalance' 'nike' 'nike' 'newbalance' 'newbalance' 'adidas' 'newbalance'\n",
      " 'adidas' 'adidas' 'jordan' 'adidas' 'newbalance' 'nike' 'jordan' 'jordan'\n",
      " 'newbalance' 'jordan' 'adidas' 'jordan' 'newbalance' 'adidas' 'newbalance'\n",
      " 'nike' 'nike' 'newbalance' 'newbalance' 'newbalance' 'newbalance'\n",
      " 'newbalance' 'newbalance' 'newbalance' 'nike' 'newbalance' 'newbalance'\n",
      " 'newbalance' 'nike' 'jordan' 'nike' 'nike' 'nike' 'adidas' 'nike'\n",
      " 'newbalance' 'newbalance' 'newbalance' 'jordan' 'newbalance' 'newbalance'\n",
      " 'nike' 'newbalance' 'adidas' 'newbalance' 'newbalance' 'jordan'\n",
      " 'newbalance' 'newbalance' 'jordan' 'adidas' 'newbalance' 'nike'\n",
      " 'newbalance' 'adidas' 'adidas' 'jordan' 'nike' 'newbalance' 'nike'\n",
      " 'jordan' 'nike' 'adidas' 'newbalance' 'newbalance' 'jordan' 'newbalance'\n",
      " 'jordan' 'newbalance' 'newbalance' 'adidas' 'newbalance' 'adidas' 'nike'\n",
      " 'jordan' 'newbalance' 'newbalance' 'newbalance' 'jordan' 'adidas'\n",
      " 'newbalance' 'newbalance' 'newbalance' 'newbalance' 'newbalance'\n",
      " 'newbalance' 'adidas' 'newbalance' 'jordan' 'jordan' 'adidas' 'newbalance'\n",
      " 'jordan' 'nike' 'nike' 'newbalance' 'nike' 'adidas' 'adidas' 'adidas'\n",
      " 'adidas' 'newbalance' 'newbalance' 'nike' 'newbalance' 'adidas'\n",
      " 'newbalance' 'nike' 'jordan' 'newbalance' 'adidas' 'nike' 'adidas' 'nike'\n",
      " 'nike' 'jordan' 'adidas' 'jordan' 'adidas' 'newbalance' 'newbalance'\n",
      " 'jordan' 'adidas' 'jordan' 'newbalance' 'newbalance' 'adidas' 'nike'\n",
      " 'nike' 'newbalance' 'adidas' 'newbalance' 'nike' 'newbalance' 'nike'\n",
      " 'jordan' 'adidas' 'newbalance' 'nike' 'adidas' 'adidas' 'jordan' 'jordan'\n",
      " 'nike' 'jordan' 'nike' 'adidas' 'jordan' 'newbalance' 'adidas' 'adidas'\n",
      " 'jordan' 'nike' 'jordan' 'nike' 'jordan' 'newbalance' 'newbalance'\n",
      " 'newbalance' 'nike' 'newbalance' 'jordan' 'jordan' 'jordan' 'jordan'\n",
      " 'jordan' 'nike' 'jordan' 'newbalance' 'nike' 'jordan' 'jordan' 'nike'\n",
      " 'jordan' 'adidas' 'newbalance' 'adidas' 'nike' 'jordan' 'nike' 'jordan'\n",
      " 'newbalance' 'jordan' 'jordan' 'adidas' 'jordan' 'newbalance' 'jordan'\n",
      " 'newbalance' 'jordan' 'jordan' 'jordan' 'jordan' 'jordan' 'newbalance'\n",
      " 'jordan' 'nike' 'newbalance' 'nike' 'jordan' 'newbalance' 'nike' 'adidas'\n",
      " 'adidas' 'jordan' 'jordan' 'newbalance' 'newbalance' 'jordan' 'newbalance'\n",
      " 'newbalance' 'adidas' 'newbalance' 'adidas' 'newbalance' 'jordan' 'jordan'\n",
      " 'jordan' 'jordan' 'nike' 'nike' 'nike' 'adidas' 'adidas' 'jordan' 'jordan'\n",
      " 'nike' 'newbalance' 'newbalance' 'adidas' 'adidas' 'nike' 'nike' 'nike'\n",
      " 'nike' 'adidas' 'jordan' 'adidas' 'jordan' 'jordan' 'jordan' 'newbalance'\n",
      " 'newbalance' 'adidas' 'newbalance' 'newbalance' 'newbalance' 'jordan'\n",
      " 'newbalance' 'newbalance' 'nike' 'jordan' 'adidas' 'jordan' 'jordan'\n",
      " 'nike' 'newbalance' 'newbalance' 'newbalance' 'nike' 'newbalance' 'adidas'\n",
      " 'newbalance' 'newbalance' 'newbalance' 'newbalance' 'adidas' 'newbalance'\n",
      " 'newbalance' 'jordan' 'adidas' 'jordan' 'newbalance' 'newbalance'\n",
      " 'newbalance' 'jordan' 'newbalance' 'nike' 'nike' 'jordan' 'newbalance'\n",
      " 'jordan' 'newbalance' 'newbalance' 'newbalance' 'adidas' 'adidas'\n",
      " 'newbalance' 'newbalance' 'jordan' 'newbalance' 'newbalance' 'jordan'\n",
      " 'nike' 'jordan' 'adidas' 'adidas' 'newbalance' 'jordan' 'nike' 'nike'\n",
      " 'jordan' 'adidas' 'jordan' 'newbalance' 'newbalance' 'nike' 'newbalance'\n",
      " 'nike' 'nike' 'jordan' 'newbalance' 'jordan' 'adidas' 'newbalance'\n",
      " 'jordan' 'jordan' 'jordan' 'adidas' 'newbalance' 'nike' 'newbalance'\n",
      " 'newbalance' 'newbalance' 'newbalance' 'newbalance' 'jordan' 'nike' 'nike'\n",
      " 'newbalance' 'newbalance' 'jordan' 'newbalance' 'nike' 'nike' 'adidas'\n",
      " 'newbalance' 'nike' 'adidas' 'adidas' 'newbalance' 'newbalance'\n",
      " 'newbalance' 'newbalance' 'jordan' 'jordan' 'newbalance' 'jordan'\n",
      " 'newbalance' 'nike' 'jordan' 'jordan' 'newbalance' 'jordan' 'nike'\n",
      " 'jordan' 'nike' 'jordan' 'adidas' 'nike' 'jordan' 'newbalance' 'jordan'\n",
      " 'newbalance' 'newbalance' 'jordan' 'jordan' 'newbalance' 'jordan' 'nike'\n",
      " 'adidas' 'nike' 'adidas' 'adidas' 'jordan' 'newbalance' 'jordan' 'adidas'\n",
      " 'jordan' 'nike' 'adidas' 'nike' 'jordan' 'jordan' 'jordan' 'newbalance'\n",
      " 'jordan' 'newbalance' 'newbalance' 'newbalance' 'newbalance' 'newbalance'\n",
      " 'adidas' 'adidas' 'jordan' 'newbalance' 'adidas' 'jordan' 'newbalance'\n",
      " 'newbalance' 'jordan' 'jordan' 'newbalance' 'jordan' 'newbalance' 'nike'\n",
      " 'jordan' 'jordan' 'newbalance' 'newbalance' 'jordan' 'adidas' 'adidas'\n",
      " 'adidas' 'adidas' 'jordan' 'nike' 'newbalance' 'newbalance' 'nike'\n",
      " 'jordan' 'newbalance' 'jordan' 'newbalance' 'newbalance' 'newbalance'\n",
      " 'newbalance' 'newbalance' 'adidas' 'nike' 'nike' 'newbalance' 'newbalance'\n",
      " 'adidas' 'adidas' 'newbalance' 'adidas' 'newbalance' 'newbalance'\n",
      " 'newbalance' 'newbalance' 'jordan' 'newbalance' 'newbalance' 'jordan'\n",
      " 'jordan' 'jordan' 'jordan' 'newbalance' 'nike' 'newbalance' 'nike' 'nike'\n",
      " 'newbalance' 'adidas' 'adidas' 'adidas' 'jordan' 'newbalance' 'adidas'\n",
      " 'newbalance' 'jordan' 'newbalance' 'jordan' 'jordan' 'newbalance' 'jordan'\n",
      " 'newbalance' 'adidas' 'jordan' 'nike' 'adidas' 'newbalance' 'adidas'\n",
      " 'newbalance' 'adidas' 'newbalance' 'adidas' 'adidas']\n"
     ]
    },
    {
     "name": "stderr",
     "output_type": "stream",
     "text": [
      "/Users/waihamyee/anaconda/lib/python2.7/site-packages/sklearn/externals/joblib/parallel.py:72: VisibleDeprecationWarning: using a non-integer number instead of an integer will result in an error in the future\n",
      "  return [func(*args, **kwargs) for func, args, kwargs in self.items]\n"
     ]
    }
   ],
   "source": [
    "## Predict on the validation set using the KNN model.\n",
    "validations_predictions = model.predict(X_val)\n",
    "print validations_predictions"
   ]
  },
  {
   "cell_type": "code",
   "execution_count": 27,
   "metadata": {
    "collapsed": false
   },
   "outputs": [
    {
     "data": {
      "text/plain": [
       "0.43666666666666665"
      ]
     },
     "execution_count": 27,
     "metadata": {},
     "output_type": "execute_result"
    }
   ],
   "source": [
    "## Can be used for visualizing misclassifications!\n",
    "results = pd.DataFrame()\n",
    "\n",
    "results.insert(0,'actual',Y_val)\n",
    "results.insert(1,'predictions',validations_predictions)\n",
    "\n",
    "misclassified = results[results['actual'] != results['predictions']].count()[0] / float(len(X_val))\n",
    "misclassified"
   ]
  },
  {
   "cell_type": "code",
   "execution_count": 46,
   "metadata": {
    "collapsed": false
   },
   "outputs": [
    {
     "data": {
      "text/plain": [
       "<matplotlib.text.Text at 0x122bd0310>"
      ]
     },
     "execution_count": 46,
     "metadata": {},
     "output_type": "execute_result"
    },
    {
     "data": {
      "image/png": "[encoded data removed]",
      "text/plain": [
       "<matplotlib.figure.Figure at 0x126721a50>"
      ]
     },
     "metadata": {},
     "output_type": "display_data"
    }
   ],
   "source": [
    "## Plot the confusion matrix for the new data predictions\n",
    "classes = list(set(labels))\n",
    "classes.sort()\n",
    "\n",
    "cm = confusion_matrix(Y_val, validations_predictions)\n",
    "cm = cm.astype('float') / cm.sum(axis=1)[:, np.newaxis]\n",
    "plt.imshow(cm, interpolation='nearest', cmap=plt.cm.Blues)\n",
    "plt.title(\"Normalized Confusion Matrix of Predictions for Training Set\")\n",
    "plt.colorbar()\n",
    "tick_marks = np.arange(len(classes))\n",
    "plt.xticks(tick_marks, classes, rotation=45)\n",
    "plt.yticks(tick_marks, classes)\n",
    "plt.tight_layout()\n",
    "thresh = cm.max() / 2.\n",
    "for i, j in itertools.product(range(cm.shape[0]), range(cm.shape[1])):\n",
    "    plt.text(j, i, round(cm[i, j],2),\n",
    "             horizontalalignment=\"center\",\n",
    "             color=\"white\" if round(cm[i, j]) > thresh else \"black\")\n",
    "plt.ylabel('True label')\n",
    "plt.xlabel('Predicted label')"
   ]
  },
  {
   "cell_type": "code",
   "execution_count": 29,
   "metadata": {
    "collapsed": false
   },
   "outputs": [
    {
     "data": {
      "text/html": [
       "<div>\n",
       "<table border=\"1\" class=\"dataframe\">\n",
       "  <thead>\n",
       "    <tr style=\"text-align: right;\">\n",
       "      <th></th>\n",
       "      <th>0</th>\n",
       "      <th>1</th>\n",
       "      <th>2</th>\n",
       "      <th>3</th>\n",
       "      <th>4</th>\n",
       "    </tr>\n",
       "  </thead>\n",
       "  <tbody>\n",
       "    <tr>\n",
       "      <th>0</th>\n",
       "      <td>741</td>\n",
       "      <td>1611</td>\n",
       "      <td>467</td>\n",
       "      <td>4836</td>\n",
       "      <td>93</td>\n",
       "    </tr>\n",
       "    <tr>\n",
       "      <th>1</th>\n",
       "      <td>991</td>\n",
       "      <td>1360</td>\n",
       "      <td>210</td>\n",
       "      <td>155</td>\n",
       "      <td>34</td>\n",
       "    </tr>\n",
       "    <tr>\n",
       "      <th>2</th>\n",
       "      <td>4884</td>\n",
       "      <td>1861</td>\n",
       "      <td>1964</td>\n",
       "      <td>105</td>\n",
       "      <td>2536</td>\n",
       "    </tr>\n",
       "    <tr>\n",
       "      <th>3</th>\n",
       "      <td>4100</td>\n",
       "      <td>2733</td>\n",
       "      <td>827</td>\n",
       "      <td>331</td>\n",
       "      <td>1201</td>\n",
       "    </tr>\n",
       "    <tr>\n",
       "      <th>4</th>\n",
       "      <td>4038</td>\n",
       "      <td>1986</td>\n",
       "      <td>4710</td>\n",
       "      <td>4064</td>\n",
       "      <td>4022</td>\n",
       "    </tr>\n",
       "  </tbody>\n",
       "</table>\n",
       "</div>"
      ],
      "text/plain": [
       "      0     1     2     3     4\n",
       "0   741  1611   467  4836    93\n",
       "1   991  1360   210   155    34\n",
       "2  4884  1861  1964   105  2536\n",
       "3  4100  2733   827   331  1201\n",
       "4  4038  1986  4710  4064  4022"
      ]
     },
     "execution_count": 29,
     "metadata": {},
     "output_type": "execute_result"
    }
   ],
   "source": [
    "## Give me the 5 nearest neighbors of the first two items in the validation set\n",
    "pd.DataFrame(model.kneighbors(X_val[0:5], n_neighbors=5, return_distance=False))"
   ]
  },
  {
   "cell_type": "code",
   "execution_count": 30,
   "metadata": {
    "collapsed": false
   },
   "outputs": [
    {
     "name": "stdout",
     "output_type": "stream",
     "text": [
      "./classes/kNN_data/adidas.10.png\n",
      "./classes/kNN_data/adidas.2647.png\n",
      "./classes/kNN_data/jordan.11093.png\n",
      "./classes/kNN_data/adidas.14580.png\n",
      "./classes/kNN_data/nike.10842.png\n",
      "./classes/kNN_data/adidas.10975.png\n"
     ]
    }
   ],
   "source": [
    "## Look at the nearest neighbors for the data\n",
    "dataset = \"./classes/kNN_data/\"\n",
    "imagePaths = list(paths.list_images(dataset))\n",
    "imagePaths.sort()\n",
    "\n",
    "print imagePaths[0]\n",
    "\n",
    "print imagePaths[741]\n",
    "print imagePaths[1611]\n",
    "print imagePaths[467]\n",
    "print imagePaths[4836]\n",
    "print imagePaths[93]\n",
    "\n",
    "#8699\n",
    "# imagePaths.index('./classes/kNN_data/adidas.12.png')\n",
    "# model.kneighbors(new_images_test[1], n_neighbors=107, return_distance=False)"
   ]
  },
  {
   "cell_type": "code",
   "execution_count": 31,
   "metadata": {
    "collapsed": false
   },
   "outputs": [
    {
     "data": {
      "text/plain": [
       "0.56333333333333335"
      ]
     },
     "execution_count": 31,
     "metadata": {},
     "output_type": "execute_result"
    }
   ],
   "source": [
    "model.score(X_val,Y_val)"
   ]
  },
  {
   "cell_type": "code",
   "execution_count": 32,
   "metadata": {
    "collapsed": false
   },
   "outputs": [
    {
     "data": {
      "text/plain": [
       "1.0"
      ]
     },
     "execution_count": 32,
     "metadata": {},
     "output_type": "execute_result"
    }
   ],
   "source": [
    "model.score(X_train,Y_train)"
   ]
  },
  {
   "cell_type": "code",
   "execution_count": 33,
   "metadata": {
    "collapsed": false
   },
   "outputs": [
    {
     "data": {
      "text/plain": [
       "0.53166666666666662"
      ]
     },
     "execution_count": 33,
     "metadata": {},
     "output_type": "execute_result"
    }
   ],
   "source": [
    "model2.score(X_val,Y_val)"
   ]
  },
  {
   "cell_type": "code",
   "execution_count": 34,
   "metadata": {
    "collapsed": false
   },
   "outputs": [
    {
     "data": {
      "text/plain": [
       "0.55351851851851852"
      ]
     },
     "execution_count": 34,
     "metadata": {},
     "output_type": "execute_result"
    }
   ],
   "source": [
    "model2.score(X_train,Y_train)"
   ]
  },
  {
   "cell_type": "markdown",
   "metadata": {},
   "source": [
    "======================================================================================================\n",
    "# Testing on New Data\n",
    "======================================================================================================"
   ]
  },
  {
   "cell_type": "code",
   "execution_count": 35,
   "metadata": {
    "collapsed": false
   },
   "outputs": [],
   "source": [
    "new_images_test = []\n",
    "new_labels = []\n",
    "newDataPath = list(paths.list_images(\"./classes/kNN_new_data/\"))\n",
    "newDataPath.sort()\n",
    "\n",
    "for (i, newDataPath) in enumerate(newDataPath):    \n",
    "    image = cv2.imread(newDataPath)\n",
    "    new_images = image_to_feature_vector(image)\n",
    "    \n",
    "    nlabels = newDataPath.split(os.path.sep)[-1].split(\".\")[0]\n",
    "    new_images_test.append(new_images)\n",
    "    new_labels.append(nlabels)"
   ]
  },
  {
   "cell_type": "code",
   "execution_count": 36,
   "metadata": {
    "collapsed": false
   },
   "outputs": [
    {
     "data": {
      "text/plain": [
       "Counter({'adidas': 8, 'jordan': 8, 'newbalance': 18, 'nike': 9})"
      ]
     },
     "execution_count": 36,
     "metadata": {},
     "output_type": "execute_result"
    }
   ],
   "source": [
    "from collections import Counter\n",
    "Counter(new_labels)"
   ]
  },
  {
   "cell_type": "code",
   "execution_count": 37,
   "metadata": {
    "collapsed": true
   },
   "outputs": [],
   "source": [
    "new_images_transformed = pca.transform(new_images_test)"
   ]
  },
  {
   "cell_type": "code",
   "execution_count": 38,
   "metadata": {
    "collapsed": false
   },
   "outputs": [
    {
     "data": {
      "text/plain": [
       "0.63199319735947546"
      ]
     },
     "execution_count": 38,
     "metadata": {},
     "output_type": "execute_result"
    },
    {
     "data": {
      "image/png": "[encoded data removed]",
      "text/plain": [
       "<matplotlib.figure.Figure at 0x12687b310>"
      ]
     },
     "metadata": {},
     "output_type": "display_data"
    }
   ],
   "source": [
    "plt.plot(pca.explained_variance_ratio_)\n",
    "plt.title(\"10 PCA\")\n",
    "sum(pca.explained_variance_ratio_)"
   ]
  },
  {
   "cell_type": "code",
   "execution_count": 39,
   "metadata": {
    "collapsed": false
   },
   "outputs": [
    {
     "name": "stdout",
     "output_type": "stream",
     "text": [
      "Accuracy of the Model:0.511627906977\n"
     ]
    },
    {
     "data": {
      "text/html": [
       "<div>\n",
       "<table border=\"1\" class=\"dataframe\">\n",
       "  <thead>\n",
       "    <tr style=\"text-align: right;\">\n",
       "      <th></th>\n",
       "      <th>actual</th>\n",
       "      <th>predictions</th>\n",
       "      <th>results</th>\n",
       "    </tr>\n",
       "  </thead>\n",
       "  <tbody>\n",
       "    <tr>\n",
       "      <th>0</th>\n",
       "      <td>adidas</td>\n",
       "      <td>jordan</td>\n",
       "      <td>False</td>\n",
       "    </tr>\n",
       "    <tr>\n",
       "      <th>1</th>\n",
       "      <td>adidas</td>\n",
       "      <td>jordan</td>\n",
       "      <td>False</td>\n",
       "    </tr>\n",
       "    <tr>\n",
       "      <th>2</th>\n",
       "      <td>adidas</td>\n",
       "      <td>adidas</td>\n",
       "      <td>True</td>\n",
       "    </tr>\n",
       "    <tr>\n",
       "      <th>3</th>\n",
       "      <td>adidas</td>\n",
       "      <td>jordan</td>\n",
       "      <td>False</td>\n",
       "    </tr>\n",
       "    <tr>\n",
       "      <th>4</th>\n",
       "      <td>adidas</td>\n",
       "      <td>jordan</td>\n",
       "      <td>False</td>\n",
       "    </tr>\n",
       "    <tr>\n",
       "      <th>5</th>\n",
       "      <td>adidas</td>\n",
       "      <td>jordan</td>\n",
       "      <td>False</td>\n",
       "    </tr>\n",
       "    <tr>\n",
       "      <th>6</th>\n",
       "      <td>adidas</td>\n",
       "      <td>adidas</td>\n",
       "      <td>True</td>\n",
       "    </tr>\n",
       "    <tr>\n",
       "      <th>7</th>\n",
       "      <td>adidas</td>\n",
       "      <td>jordan</td>\n",
       "      <td>False</td>\n",
       "    </tr>\n",
       "    <tr>\n",
       "      <th>8</th>\n",
       "      <td>jordan</td>\n",
       "      <td>jordan</td>\n",
       "      <td>True</td>\n",
       "    </tr>\n",
       "    <tr>\n",
       "      <th>9</th>\n",
       "      <td>jordan</td>\n",
       "      <td>newbalance</td>\n",
       "      <td>False</td>\n",
       "    </tr>\n",
       "    <tr>\n",
       "      <th>10</th>\n",
       "      <td>jordan</td>\n",
       "      <td>jordan</td>\n",
       "      <td>True</td>\n",
       "    </tr>\n",
       "    <tr>\n",
       "      <th>11</th>\n",
       "      <td>jordan</td>\n",
       "      <td>jordan</td>\n",
       "      <td>True</td>\n",
       "    </tr>\n",
       "    <tr>\n",
       "      <th>12</th>\n",
       "      <td>jordan</td>\n",
       "      <td>jordan</td>\n",
       "      <td>True</td>\n",
       "    </tr>\n",
       "    <tr>\n",
       "      <th>13</th>\n",
       "      <td>jordan</td>\n",
       "      <td>jordan</td>\n",
       "      <td>True</td>\n",
       "    </tr>\n",
       "    <tr>\n",
       "      <th>14</th>\n",
       "      <td>jordan</td>\n",
       "      <td>jordan</td>\n",
       "      <td>True</td>\n",
       "    </tr>\n",
       "    <tr>\n",
       "      <th>15</th>\n",
       "      <td>jordan</td>\n",
       "      <td>jordan</td>\n",
       "      <td>True</td>\n",
       "    </tr>\n",
       "    <tr>\n",
       "      <th>16</th>\n",
       "      <td>newbalance</td>\n",
       "      <td>adidas</td>\n",
       "      <td>False</td>\n",
       "    </tr>\n",
       "    <tr>\n",
       "      <th>17</th>\n",
       "      <td>newbalance</td>\n",
       "      <td>newbalance</td>\n",
       "      <td>True</td>\n",
       "    </tr>\n",
       "    <tr>\n",
       "      <th>18</th>\n",
       "      <td>newbalance</td>\n",
       "      <td>newbalance</td>\n",
       "      <td>True</td>\n",
       "    </tr>\n",
       "    <tr>\n",
       "      <th>19</th>\n",
       "      <td>newbalance</td>\n",
       "      <td>jordan</td>\n",
       "      <td>False</td>\n",
       "    </tr>\n",
       "    <tr>\n",
       "      <th>20</th>\n",
       "      <td>newbalance</td>\n",
       "      <td>jordan</td>\n",
       "      <td>False</td>\n",
       "    </tr>\n",
       "    <tr>\n",
       "      <th>21</th>\n",
       "      <td>newbalance</td>\n",
       "      <td>newbalance</td>\n",
       "      <td>True</td>\n",
       "    </tr>\n",
       "    <tr>\n",
       "      <th>22</th>\n",
       "      <td>newbalance</td>\n",
       "      <td>newbalance</td>\n",
       "      <td>True</td>\n",
       "    </tr>\n",
       "    <tr>\n",
       "      <th>23</th>\n",
       "      <td>newbalance</td>\n",
       "      <td>newbalance</td>\n",
       "      <td>True</td>\n",
       "    </tr>\n",
       "    <tr>\n",
       "      <th>24</th>\n",
       "      <td>newbalance</td>\n",
       "      <td>jordan</td>\n",
       "      <td>False</td>\n",
       "    </tr>\n",
       "    <tr>\n",
       "      <th>25</th>\n",
       "      <td>newbalance</td>\n",
       "      <td>newbalance</td>\n",
       "      <td>True</td>\n",
       "    </tr>\n",
       "    <tr>\n",
       "      <th>26</th>\n",
       "      <td>newbalance</td>\n",
       "      <td>jordan</td>\n",
       "      <td>False</td>\n",
       "    </tr>\n",
       "    <tr>\n",
       "      <th>27</th>\n",
       "      <td>newbalance</td>\n",
       "      <td>newbalance</td>\n",
       "      <td>True</td>\n",
       "    </tr>\n",
       "    <tr>\n",
       "      <th>28</th>\n",
       "      <td>newbalance</td>\n",
       "      <td>newbalance</td>\n",
       "      <td>True</td>\n",
       "    </tr>\n",
       "    <tr>\n",
       "      <th>29</th>\n",
       "      <td>newbalance</td>\n",
       "      <td>newbalance</td>\n",
       "      <td>True</td>\n",
       "    </tr>\n",
       "    <tr>\n",
       "      <th>30</th>\n",
       "      <td>newbalance</td>\n",
       "      <td>newbalance</td>\n",
       "      <td>True</td>\n",
       "    </tr>\n",
       "    <tr>\n",
       "      <th>31</th>\n",
       "      <td>newbalance</td>\n",
       "      <td>newbalance</td>\n",
       "      <td>True</td>\n",
       "    </tr>\n",
       "    <tr>\n",
       "      <th>32</th>\n",
       "      <td>newbalance</td>\n",
       "      <td>newbalance</td>\n",
       "      <td>True</td>\n",
       "    </tr>\n",
       "    <tr>\n",
       "      <th>33</th>\n",
       "      <td>newbalance</td>\n",
       "      <td>jordan</td>\n",
       "      <td>False</td>\n",
       "    </tr>\n",
       "    <tr>\n",
       "      <th>34</th>\n",
       "      <td>nike</td>\n",
       "      <td>adidas</td>\n",
       "      <td>False</td>\n",
       "    </tr>\n",
       "    <tr>\n",
       "      <th>35</th>\n",
       "      <td>nike</td>\n",
       "      <td>jordan</td>\n",
       "      <td>False</td>\n",
       "    </tr>\n",
       "    <tr>\n",
       "      <th>36</th>\n",
       "      <td>nike</td>\n",
       "      <td>jordan</td>\n",
       "      <td>False</td>\n",
       "    </tr>\n",
       "    <tr>\n",
       "      <th>37</th>\n",
       "      <td>nike</td>\n",
       "      <td>newbalance</td>\n",
       "      <td>False</td>\n",
       "    </tr>\n",
       "    <tr>\n",
       "      <th>38</th>\n",
       "      <td>nike</td>\n",
       "      <td>jordan</td>\n",
       "      <td>False</td>\n",
       "    </tr>\n",
       "    <tr>\n",
       "      <th>39</th>\n",
       "      <td>nike</td>\n",
       "      <td>jordan</td>\n",
       "      <td>False</td>\n",
       "    </tr>\n",
       "    <tr>\n",
       "      <th>40</th>\n",
       "      <td>nike</td>\n",
       "      <td>jordan</td>\n",
       "      <td>False</td>\n",
       "    </tr>\n",
       "    <tr>\n",
       "      <th>41</th>\n",
       "      <td>nike</td>\n",
       "      <td>newbalance</td>\n",
       "      <td>False</td>\n",
       "    </tr>\n",
       "    <tr>\n",
       "      <th>42</th>\n",
       "      <td>nike</td>\n",
       "      <td>nike</td>\n",
       "      <td>True</td>\n",
       "    </tr>\n",
       "  </tbody>\n",
       "</table>\n",
       "</div>"
      ],
      "text/plain": [
       "        actual predictions results\n",
       "0       adidas      jordan   False\n",
       "1       adidas      jordan   False\n",
       "2       adidas      adidas    True\n",
       "3       adidas      jordan   False\n",
       "4       adidas      jordan   False\n",
       "5       adidas      jordan   False\n",
       "6       adidas      adidas    True\n",
       "7       adidas      jordan   False\n",
       "8       jordan      jordan    True\n",
       "9       jordan  newbalance   False\n",
       "10      jordan      jordan    True\n",
       "11      jordan      jordan    True\n",
       "12      jordan      jordan    True\n",
       "13      jordan      jordan    True\n",
       "14      jordan      jordan    True\n",
       "15      jordan      jordan    True\n",
       "16  newbalance      adidas   False\n",
       "17  newbalance  newbalance    True\n",
       "18  newbalance  newbalance    True\n",
       "19  newbalance      jordan   False\n",
       "20  newbalance      jordan   False\n",
       "21  newbalance  newbalance    True\n",
       "22  newbalance  newbalance    True\n",
       "23  newbalance  newbalance    True\n",
       "24  newbalance      jordan   False\n",
       "25  newbalance  newbalance    True\n",
       "26  newbalance      jordan   False\n",
       "27  newbalance  newbalance    True\n",
       "28  newbalance  newbalance    True\n",
       "29  newbalance  newbalance    True\n",
       "30  newbalance  newbalance    True\n",
       "31  newbalance  newbalance    True\n",
       "32  newbalance  newbalance    True\n",
       "33  newbalance      jordan   False\n",
       "34        nike      adidas   False\n",
       "35        nike      jordan   False\n",
       "36        nike      jordan   False\n",
       "37        nike  newbalance   False\n",
       "38        nike      jordan   False\n",
       "39        nike      jordan   False\n",
       "40        nike      jordan   False\n",
       "41        nike  newbalance   False\n",
       "42        nike        nike    True"
      ]
     },
     "execution_count": 39,
     "metadata": {},
     "output_type": "execute_result"
    }
   ],
   "source": [
    "new_data_predictions = model.predict(new_images_transformed)\n",
    "rslt = new_labels == new_data_predictions\n",
    "new_data_df = pd.DataFrame()\n",
    "\n",
    "new_data_df.insert(0,'actual',new_labels)\n",
    "# new_data_df.insert(1, 'image_name', map(lambda x: x.split(os.path.sep)[-1], newDataPath[0:len(new_labels)]))\n",
    "new_data_df.insert(1,'predictions',new_data_predictions)\n",
    "new_data_df.insert(2,'results',rslt)\n",
    "\n",
    "\n",
    "print \"Accuracy of the Model:\" + str(model.score(new_images_transformed, new_labels))\n",
    "\n",
    "new_data_df"
   ]
  },
  {
   "cell_type": "code",
   "execution_count": 48,
   "metadata": {
    "collapsed": false
   },
   "outputs": [
    {
     "data": {
      "text/plain": [
       "<matplotlib.text.Text at 0x11c7c4510>"
      ]
     },
     "execution_count": 48,
     "metadata": {},
     "output_type": "execute_result"
    },
    {
     "data": {
      "image/png": "[encoded data removed]",
      "text/plain": [
       "<matplotlib.figure.Figure at 0x11d005150>"
      ]
     },
     "metadata": {},
     "output_type": "display_data"
    }
   ],
   "source": [
    "## Plot the confusion matrix for the new data predictions\n",
    "classes = list(set(new_labels))\n",
    "classes.sort()\n",
    "\n",
    "cm = confusion_matrix(new_labels, new_data_predictions)\n",
    "plt.imshow(cm, interpolation='nearest', cmap=plt.cm.Blues)\n",
    "plt.title(\"Normalized Confusion Matrix of Predictions on New Data\")\n",
    "plt.colorbar()\n",
    "tick_marks = np.arange(len(classes))\n",
    "plt.xticks(tick_marks, classes, rotation=45)\n",
    "plt.yticks(tick_marks, classes)\n",
    "plt.tight_layout()\n",
    "thresh = cm.max() / 2.\n",
    "cm = cm.astype('float') / cm.sum(axis=1)[:, np.newaxis]\n",
    "for i, j in itertools.product(range(cm.shape[0]), range(cm.shape[1])):\n",
    "    plt.text(j, i, round(cm[i, j],2),\n",
    "             horizontalalignment=\"center\",\n",
    "             color=\"white\" if cm[i, j] > thresh else \"black\")\n",
    "plt.ylabel('True label')\n",
    "plt.xlabel('Predicted label')"
   ]
  },
  {
   "cell_type": "code",
   "execution_count": 41,
   "metadata": {
    "collapsed": false
   },
   "outputs": [
    {
     "name": "stderr",
     "output_type": "stream",
     "text": [
      "/Users/waihamyee/anaconda/lib/python2.7/site-packages/sklearn/utils/validation.py:386: DeprecationWarning: Passing 1d arrays as data is deprecated in 0.17 and willraise ValueError in 0.19. Reshape your data either using X.reshape(-1, 1) if your data has a single feature or X.reshape(1, -1) if it contains a single sample.\n",
      "  DeprecationWarning)\n"
     ]
    },
    {
     "data": {
      "text/html": [
       "<div>\n",
       "<table border=\"1\" class=\"dataframe\">\n",
       "  <thead>\n",
       "    <tr style=\"text-align: right;\">\n",
       "      <th></th>\n",
       "      <th>0</th>\n",
       "      <th>1</th>\n",
       "      <th>2</th>\n",
       "      <th>3</th>\n",
       "      <th>4</th>\n",
       "    </tr>\n",
       "  </thead>\n",
       "  <tbody>\n",
       "    <tr>\n",
       "      <th>0</th>\n",
       "      <td>3965</td>\n",
       "      <td>2127</td>\n",
       "      <td>4657</td>\n",
       "      <td>2215</td>\n",
       "      <td>4062</td>\n",
       "    </tr>\n",
       "  </tbody>\n",
       "</table>\n",
       "</div>"
      ],
      "text/plain": [
       "      0     1     2     3     4\n",
       "0  3965  2127  4657  2215  4062"
      ]
     },
     "execution_count": 41,
     "metadata": {},
     "output_type": "execute_result"
    }
   ],
   "source": [
    "prediction_nearest_neighbors = pd.DataFrame(model.kneighbors(new_images_transformed[1], n_neighbors=5, return_distance=False))\n",
    "prediction_nearest_neighbors"
   ]
  },
  {
   "cell_type": "code",
   "execution_count": 42,
   "metadata": {
    "collapsed": false
   },
   "outputs": [
    {
     "name": "stdout",
     "output_type": "stream",
     "text": [
      "./classes/kNN_new_data/adidas.1.png\n",
      "./classes/kNN_data/newbalance.720.png\n",
      "./classes/kNN_data/jordan.15453.png\n",
      "./classes/kNN_data/nike.10388.png\n",
      "./classes/kNN_data/jordan.15790.png\n",
      "./classes/kNN_data/newbalance.7658.png\n"
     ]
    }
   ],
   "source": [
    "## Translate the predicted nearest neighbors\n",
    "newDataPath = list(paths.list_images(\"./classes/kNN_new_data/\"))\n",
    "newDataPath.sort()\n",
    "\n",
    "print newDataPath[0]\n",
    "\n",
    "print imagePaths[3965]\n",
    "print imagePaths[2127]\n",
    "print imagePaths[4657]\n",
    "print imagePaths[2215]\n",
    "print imagePaths[4062]"
   ]
  },
  {
   "cell_type": "code",
   "execution_count": 43,
   "metadata": {
    "collapsed": false
   },
   "outputs": [
    {
     "data": {
      "text/plain": [
       "['./classes/kNN_new_data/adidas.1.png',\n",
       " './classes/kNN_new_data/adidas.2.png',\n",
       " './classes/kNN_new_data/adidas.3.png',\n",
       " './classes/kNN_new_data/adidas.4.png',\n",
       " './classes/kNN_new_data/adidas.5.png',\n",
       " './classes/kNN_new_data/adidas.6.png',\n",
       " './classes/kNN_new_data/adidas.7.png',\n",
       " './classes/kNN_new_data/adidas.8.png',\n",
       " './classes/kNN_new_data/jordan.1.png',\n",
       " './classes/kNN_new_data/jordan.2.png',\n",
       " './classes/kNN_new_data/jordan.3.png',\n",
       " './classes/kNN_new_data/jordan.4.png',\n",
       " './classes/kNN_new_data/jordan.5.png',\n",
       " './classes/kNN_new_data/jordan.6.png',\n",
       " './classes/kNN_new_data/jordan.7.png',\n",
       " './classes/kNN_new_data/jordan.8.png',\n",
       " './classes/kNN_new_data/newbalance.10.png',\n",
       " './classes/kNN_new_data/newbalance.13.png',\n",
       " './classes/kNN_new_data/newbalance.14.png',\n",
       " './classes/kNN_new_data/newbalance.16.png',\n",
       " './classes/kNN_new_data/newbalance.18.png',\n",
       " './classes/kNN_new_data/newbalance.2.png',\n",
       " './classes/kNN_new_data/newbalance.20.png',\n",
       " './classes/kNN_new_data/newbalance.23.png',\n",
       " './classes/kNN_new_data/newbalance.25.png',\n",
       " './classes/kNN_new_data/newbalance.4.png',\n",
       " './classes/kNN_new_data/newbalance.6.png',\n",
       " './classes/kNN_new_data/newbalance.6463.png',\n",
       " './classes/kNN_new_data/newbalance.6475.png',\n",
       " './classes/kNN_new_data/newbalance.6479.png',\n",
       " './classes/kNN_new_data/newbalance.6481.png',\n",
       " './classes/kNN_new_data/newbalance.6484.png',\n",
       " './classes/kNN_new_data/newbalance.6487.png',\n",
       " './classes/kNN_new_data/newbalance.8.png',\n",
       " './classes/kNN_new_data/nike.1.png',\n",
       " './classes/kNN_new_data/nike.2.png',\n",
       " './classes/kNN_new_data/nike.3.png',\n",
       " './classes/kNN_new_data/nike.4.png',\n",
       " './classes/kNN_new_data/nike.5.png',\n",
       " './classes/kNN_new_data/nike.6.png',\n",
       " './classes/kNN_new_data/nike.7.png',\n",
       " './classes/kNN_new_data/nike.8.png',\n",
       " './classes/kNN_new_data/nike.9.png']"
      ]
     },
     "execution_count": 43,
     "metadata": {},
     "output_type": "execute_result"
    }
   ],
   "source": [
    "newDataPath = list(paths.list_images(\"./classes/kNN_new_data/\"))\n",
    "newDataPath"
   ]
  },
  {
   "cell_type": "code",
   "execution_count": 44,
   "metadata": {
    "collapsed": false
   },
   "outputs": [
    {
     "name": "stderr",
     "output_type": "stream",
     "text": [
      "/Users/waihamyee/anaconda/lib/python2.7/site-packages/sklearn/utils/validation.py:386: DeprecationWarning: Passing 1d arrays as data is deprecated in 0.17 and willraise ValueError in 0.19. Reshape your data either using X.reshape(-1, 1) if your data has a single feature or X.reshape(1, -1) if it contains a single sample.\n",
      "  DeprecationWarning)\n"
     ]
    },
    {
     "data": {
      "text/plain": [
       "[('newbalance', 28), ('jordan', 17), ('adidas', 17), ('nike', 14)]"
      ]
     },
     "execution_count": 44,
     "metadata": {},
     "output_type": "execute_result"
    }
   ],
   "source": [
    "nearest_neighbors = list(model.kneighbors(new_images_transformed[2], n_neighbors=76, return_distance=False)[0])\n",
    "NN_images = [imagePaths[x] for x in nearest_neighbors]\n",
    "\n",
    "processNN = map(lambda x: x.split(os.path.sep)[-1].split(\".\")[0], NN_images)\n",
    "[ (i,processNN.count(i)) for i in set(processNN) ]\n"
   ]
  }
 ],
 "metadata": {
  "anaconda-cloud": {},
  "kernelspec": {
   "display_name": "Python [Root]",
   "language": "python",
   "name": "Python [Root]"
  },
  "language_info": {
   "codemirror_mode": {
    "name": "ipython",
    "version": 2
   },
   "file_extension": ".py",
   "mimetype": "text/x-python",
   "name": "python",
   "nbconvert_exporter": "python",
   "pygments_lexer": "ipython2",
   "version": "2.7.12"
  }
 },
 "nbformat": 4,
 "nbformat_minor": 0
}
