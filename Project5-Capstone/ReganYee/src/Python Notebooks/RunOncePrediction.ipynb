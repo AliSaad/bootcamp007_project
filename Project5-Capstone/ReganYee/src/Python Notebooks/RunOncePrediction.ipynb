{
 "cells": [
  {
   "cell_type": "code",
   "execution_count": 36,
   "metadata": {
    "collapsed": false
   },
   "outputs": [],
   "source": [
    "import numpy as np\n",
    "np.random.seed(2016)\n",
    "\n",
    "import os\n",
    "import glob\n",
    "import cv2\n",
    "import math\n",
    "import datetime\n",
    "import pandas as pd\n",
    "import time\n",
    "from shutil import copy2\n",
    "import warnings\n",
    "import random\n",
    "from PIL import Image\n",
    "import matplotlib.pyplot as plt\n",
    "import matplotlib.image as mpimg\n",
    "%matplotlib inline\n",
    "\n",
    "warnings.filterwarnings(\"ignore\")  # this is weird\n",
    "\n",
    "from keras.utils import np_utils\n",
    "from keras.models import model_from_json\n",
    "from scipy.misc import imread, imresize, imshow"
   ]
  },
  {
   "cell_type": "code",
   "execution_count": 37,
   "metadata": {
    "collapsed": true
   },
   "outputs": [],
   "source": [
    "def read_model(arch_path, weights_path):\n",
    "    model = model_from_json(open(arch_path).read())\n",
    "    model.load_weights(weights_path)\n",
    "    return model"
   ]
  },
  {
   "cell_type": "code",
   "execution_count": 38,
   "metadata": {
    "collapsed": true
   },
   "outputs": [],
   "source": [
    "def get_im_cv2_mod(path, img_rows, img_cols, color_type=1):\n",
    "    # Load as grayscale\n",
    "    if color_type == 1:\n",
    "        img = cv2.imread(path, 0)\n",
    "    else:\n",
    "        img = cv2.imread(path)\n",
    "    resized = cv2.resize(img, (img_cols, img_rows), interpolation = cv2.INTER_LINEAR) \n",
    "    return resized"
   ]
  },
  {
   "cell_type": "code",
   "execution_count": 41,
   "metadata": {
    "collapsed": false
   },
   "outputs": [
    {
     "name": "stdout",
     "output_type": "stream",
     "text": [
      "No files to process!\n"
     ]
    }
   ],
   "source": [
    "def run_single():\n",
    "    # input image dimensions\n",
    "    img_rows, img_cols = 64, 64\n",
    "    color_type_global = 1\n",
    "    \n",
    "    path = os.path.join('.', 'ad_hoc_data', 'preprocessing', '*')\n",
    "    files = glob.glob(path)\n",
    "    \n",
    "    if len(files) == 0:\n",
    "        print \"No files to process!\"\n",
    "        return\n",
    " \n",
    "    for fl in files:\n",
    "        flbase = os.path.basename(fl)\n",
    "        im = Image.open(fl)\n",
    "        im.save('./ad_hoc_data/' + str(flbase)[:-4]+'.png', \"PNG\")\n",
    "        os.rename(fl,'../'+ str(flbase))\n",
    "    \n",
    "    \n",
    "    path = os.path.join('.', 'ad_hoc_data', '*.png')\n",
    "    files = glob.glob(path)\n",
    "\n",
    "    to_predict = []\n",
    "    \n",
    "    for fl in files:\n",
    "        flbase = os.path.basename(fl)\n",
    "        img = get_im_cv2_mod(fl, img_rows, img_cols, color_type_global)\n",
    "        to_predict.append(img)\n",
    "        \n",
    "    \n",
    "    print str(len(to_predict)) + ' files to be predicted'\n",
    "    to_predict = np.array(to_predict, dtype=np.uint8)\n",
    "    \n",
    "    \n",
    "    \n",
    "    arch_path = os.path.join('.', 's_loss_0.531153076115_r_64_c_64_folds_10_ep_50_2016-12-18-18-21_model.json')\n",
    "    weights_path = os.path.join('.', 'weights_kfold_9.h5')\n",
    "\n",
    "    model = read_model(arch_path, weights_path)\n",
    "    \n",
    "    \n",
    "    path = fl\n",
    "\n",
    "    img = Image.open(path)\n",
    "    plt.imshow(img)\n",
    "    \n",
    "    i=0\n",
    "    \n",
    "    a = to_predict[i].reshape(1,1,64,64)\n",
    "    a = a.astype('float32')\n",
    "    a /= 255\n",
    "    predictions = model.predict(a)\n",
    "    df = pd.DataFrame(predictions, columns=['adidas', 'jordan', 'newbalance', 'nike'])\n",
    "    print df\n",
    "    os.rename(fl,'./ad_hoc_data/predicted/'+ str(flbase))\n",
    "\n",
    "\n",
    "\n",
    "if __name__ == '__main__':\n",
    "     run_single()\n"
   ]
  }
 ],
 "metadata": {
  "anaconda-cloud": {},
  "kernelspec": {
   "display_name": "Python [Root]",
   "language": "python",
   "name": "Python [Root]"
  },
  "language_info": {
   "codemirror_mode": {
    "name": "ipython",
    "version": 2
   },
   "file_extension": ".py",
   "mimetype": "text/x-python",
   "name": "python",
   "nbconvert_exporter": "python",
   "pygments_lexer": "ipython2",
   "version": "2.7.12"
  }
 },
 "nbformat": 4,
 "nbformat_minor": 1
}
