{
 "cells": [
  {
   "cell_type": "code",
   "execution_count": 7,
   "metadata": {
    "collapsed": false
   },
   "outputs": [],
   "source": [
    "# import the necessary packages\n",
    "from sklearn.neighbors import KNeighborsClassifier\n",
    "from sklearn import cross_validation\n",
    "from imutils import paths\n",
    "import numpy as np\n",
    "import pandas as pd\n",
    "import argparse\n",
    "import imutils\n",
    "import cv2\n",
    "import os\n",
    "import math\n",
    "\n",
    "from sklearn.metrics import confusion_matrix\n",
    "import matplotlib.pyplot as plt\n",
    "import itertools\n",
    "%matplotlib inline\n",
    "import seaborn as sns\n",
    "sns.set_style(\"whitegrid\", {'axes.grid' : False})"
   ]
  },
  {
   "cell_type": "code",
   "execution_count": 8,
   "metadata": {
    "collapsed": true
   },
   "outputs": [],
   "source": [
    "def image_to_feature_vector(image, size=(64, 64)):\n",
    "\t# resize the image to a fixed size, then flatten the image into\n",
    "\t# a list of raw pixel intensities\n",
    "\treturn cv2.resize(image, size).flatten()"
   ]
  },
  {
   "cell_type": "code",
   "execution_count": 9,
   "metadata": {
    "collapsed": true
   },
   "outputs": [],
   "source": [
    "def extract_color_histogram(image, bins=(8, 8, 8)):\n",
    "\t# extract a 3D color histogram from the HSV color space using\n",
    "\t# the supplied number of `bins` per channel\n",
    "\thsv = cv2.cvtColor(image, cv2.COLOR_BGR2HSV)\n",
    "\thist = cv2.calcHist([hsv], [0, 1, 2], None, bins,\n",
    "\t\t[0, 180, 0, 256, 0, 256])\n",
    "\n",
    "\t# handle normalizing the histogram if we are using OpenCV 2.4.X\n",
    "\tif imutils.is_cv2():\n",
    "\t\thist = cv2.normalize(hist)\n",
    "\n",
    "\t# otherwise, perform \"in place\" normalization in OpenCV 3 (I\n",
    "\t# personally hate the way this is done\n",
    "\telse:\n",
    "\t\tcv2.normalize(hist, hist)\n",
    "\n",
    "\t# return the flattened histogram as the feature vector\n",
    "\treturn hist.flatten()"
   ]
  },
  {
   "cell_type": "markdown",
   "metadata": {},
   "source": [
    "======================================================================================================\n",
    "# Load and Cleanup Data\n",
    "======================================================================================================"
   ]
  },
  {
   "cell_type": "code",
   "execution_count": 10,
   "metadata": {
    "collapsed": false
   },
   "outputs": [
    {
     "name": "stdout",
     "output_type": "stream",
     "text": [
      "[INFO] describing images...\n",
      "[INFO] 6000 images found!\n"
     ]
    }
   ],
   "source": [
    "dataset = \"./classes/kNN_data/\"\n",
    "# grab the list of images that we'll be describing\n",
    "print(\"[INFO] describing images...\")\n",
    "imagePaths = list(paths.list_images(dataset))\n",
    "print \"[INFO] \" + str(len(list(paths.list_images(dataset)))) + \" images found!\""
   ]
  },
  {
   "cell_type": "code",
   "execution_count": 5,
   "metadata": {
    "collapsed": false,
    "scrolled": true
   },
   "outputs": [
    {
     "name": "stdout",
     "output_type": "stream",
     "text": [
      "[INFO] processed 1000/6000\n",
      "[INFO] processed 2000/6000\n",
      "[INFO] processed 3000/6000\n",
      "[INFO] processed 4000/6000\n",
      "[INFO] processed 5000/6000\n"
     ]
    }
   ],
   "source": [
    "# initialize the raw pixel intensities matrix, the features matrix,\n",
    "# and labels list\n",
    "rawImages = []\n",
    "features = []\n",
    "labels = []\n",
    "\n",
    "# loop over the input images\n",
    "for (i, imagePath) in enumerate(imagePaths):\n",
    "\t# load the image and extract the class label (assuming that our\n",
    "\t# path as the format: /path/to/dataset/{class}.{image_num}.jpg\n",
    "\timage = cv2.imread(imagePath)\n",
    "\tlabel = imagePath.split(os.path.sep)[-1].split(\".\")[0]\n",
    "\n",
    "\t# extract raw pixel intensity \"features\", followed by a color\n",
    "\t# histogram to characterize the color distribution of the pixels\n",
    "\t# in the image\n",
    "\tpixels = image_to_feature_vector(image)\n",
    "\thist = extract_color_histogram(image)\n",
    "\n",
    "\t# update the raw images, features, and labels matricies,\n",
    "\t# respectively\n",
    "\trawImages.append(pixels)\n",
    "\tfeatures.append(hist)\n",
    "\tlabels.append(label)\n",
    "\n",
    "\t# show an update every 1,000 images\n",
    "\tif i > 0 and i % 1000 == 0:\n",
    "\t\tprint(\"[INFO] processed {}/{}\".format(i, len(imagePaths)))"
   ]
  },
  {
   "cell_type": "code",
   "execution_count": 11,
   "metadata": {
    "collapsed": false
   },
   "outputs": [
    {
     "data": {
      "text/plain": [
       "Counter({'adidas': 1500, 'jordan': 1500, 'newbalance': 1500, 'nike': 1500})"
      ]
     },
     "execution_count": 11,
     "metadata": {},
     "output_type": "execute_result"
    }
   ],
   "source": [
    "from collections import Counter\n",
    "Counter(labels)"
   ]
  },
  {
   "cell_type": "markdown",
   "metadata": {},
   "source": [
    "======================================================================================================\n",
    "# Train the kNN Model\n",
    "======================================================================================================"
   ]
  },
  {
   "cell_type": "code",
   "execution_count": 12,
   "metadata": {
    "collapsed": false
   },
   "outputs": [
    {
     "name": "stdout",
     "output_type": "stream",
     "text": [
      "Length of Validation Set:600\n",
      "Length of Train Set:5400\n",
      "Ratio: 0.111111111111\n"
     ]
    }
   ],
   "source": [
    "#64*64*3 colors\n",
    "# rawImages: Images flattened to a single list\n",
    "# labels: Brands for the given images\n",
    "# features: Color histogram\n",
    "\n",
    "X_train, X_val, Y_train, Y_val = cross_validation.train_test_split(features,\n",
    "                                                                   labels, \n",
    "                                                                   test_size=.1, \n",
    "                                                                   random_state=1337)\n",
    "print \"Length of Validation Set:\" + str(len(Y_val))\n",
    "print \"Length of Train Set:\" + str(len(Y_train))\n",
    "print \"Ratio: \" + str(len(Y_val) / float(len(Y_train)))"
   ]
  },
  {
   "cell_type": "code",
   "execution_count": 41,
   "metadata": {
    "collapsed": false
   },
   "outputs": [
    {
     "ename": "TypeError",
     "evalue": "only integer arrays with one element can be converted to an index",
     "output_type": "error",
     "traceback": [
      "\u001b[0;31m---------------------------------------------------------------------------\u001b[0m",
      "\u001b[0;31mTypeError\u001b[0m                                 Traceback (most recent call last)",
      "\u001b[0;32m<ipython-input-41-ece929f3c280>\u001b[0m in \u001b[0;36m<module>\u001b[0;34m()\u001b[0m\n\u001b[0;32m----> 1\u001b[0;31m \u001b[0mimagePaths\u001b[0m\u001b[0;34m[\u001b[0m\u001b[0mX_val\u001b[0m\u001b[0;34m[\u001b[0m\u001b[0;36m0\u001b[0m\u001b[0;34m]\u001b[0m\u001b[0;34m]\u001b[0m\u001b[0;34m\u001b[0m\u001b[0m\n\u001b[0m",
      "\u001b[0;31mTypeError\u001b[0m: only integer arrays with one element can be converted to an index"
     ]
    }
   ],
   "source": [
    "imagePaths[X_val[0]]"
   ]
  },
  {
   "cell_type": "code",
   "execution_count": 15,
   "metadata": {
    "collapsed": false
   },
   "outputs": [
    {
     "name": "stdout",
     "output_type": "stream",
     "text": [
      "Training KNN Model...\n"
     ]
    },
    {
     "data": {
      "text/plain": [
       "KNeighborsClassifier(algorithm='auto', leaf_size=30, metric='minkowski',\n",
       "           metric_params=None, n_jobs=-1, n_neighbors=78.0, p=2,\n",
       "           weights='distance')"
      ]
     },
     "execution_count": 15,
     "metadata": {},
     "output_type": "execute_result"
    }
   ],
   "source": [
    "## Train the KNN model\n",
    "print \"Training KNN Model...\"\n",
    "## n_jobs=-1: Use all cores\n",
    "## n_neighbors = Number of Neighbors\n",
    "n_neighbors = math.ceil(math.sqrt(len(rawImages)))\n",
    "\n",
    "model = KNeighborsClassifier(n_neighbors=n_neighbors,\n",
    "                             weights = 'distance',\n",
    "                             n_jobs=-1)\n",
    "model.fit(X_train, Y_train)"
   ]
  },
  {
   "cell_type": "code",
   "execution_count": 16,
   "metadata": {
    "collapsed": false
   },
   "outputs": [
    {
     "data": {
      "text/plain": [
       "KNeighborsClassifier(algorithm='auto', leaf_size=30, metric='minkowski',\n",
       "           metric_params=None, n_jobs=-1, n_neighbors=78.0, p=2,\n",
       "           weights='uniform')"
      ]
     },
     "execution_count": 16,
     "metadata": {},
     "output_type": "execute_result"
    }
   ],
   "source": [
    "## Model with no weights\n",
    "model2 = KNeighborsClassifier(n_neighbors=n_neighbors,\n",
    "                             n_jobs=-1)\n",
    "model2.fit(X_train, Y_train)"
   ]
  },
  {
   "cell_type": "code",
   "execution_count": 17,
   "metadata": {
    "collapsed": false
   },
   "outputs": [
    {
     "name": "stderr",
     "output_type": "stream",
     "text": [
      "/Users/waihamyee/anaconda/lib/python2.7/site-packages/sklearn/externals/joblib/parallel.py:72: VisibleDeprecationWarning: using a non-integer number instead of an integer will result in an error in the future\n",
      "  return [func(*args, **kwargs) for func, args, kwargs in self.items]\n"
     ]
    },
    {
     "name": "stdout",
     "output_type": "stream",
     "text": [
      "['nike' 'nike' 'jordan' 'nike' 'newbalance' 'newbalance' 'nike'\n",
      " 'newbalance' 'newbalance' 'adidas' 'adidas' 'nike' 'adidas' 'nike' 'nike'\n",
      " 'adidas' 'nike' 'adidas' 'nike' 'newbalance' 'adidas' 'nike' 'adidas'\n",
      " 'adidas' 'nike' 'nike' 'adidas' 'adidas' 'nike' 'newbalance' 'jordan'\n",
      " 'newbalance' 'adidas' 'nike' 'newbalance' 'adidas' 'newbalance' 'adidas'\n",
      " 'adidas' 'adidas' 'newbalance' 'nike' 'adidas' 'jordan' 'jordan' 'jordan'\n",
      " 'adidas' 'nike' 'jordan' 'newbalance' 'newbalance' 'jordan' 'jordan'\n",
      " 'newbalance' 'newbalance' 'adidas' 'nike' 'adidas' 'nike' 'newbalance'\n",
      " 'nike' 'newbalance' 'newbalance' 'adidas' 'adidas' 'jordan' 'nike'\n",
      " 'adidas' 'nike' 'nike' 'adidas' 'newbalance' 'nike' 'adidas' 'nike'\n",
      " 'jordan' 'adidas' 'nike' 'adidas' 'jordan' 'newbalance' 'nike' 'adidas'\n",
      " 'nike' 'newbalance' 'newbalance' 'nike' 'nike' 'jordan' 'jordan' 'nike'\n",
      " 'adidas' 'nike' 'jordan' 'jordan' 'nike' 'nike' 'nike' 'jordan'\n",
      " 'newbalance' 'nike' 'nike' 'nike' 'adidas' 'newbalance' 'newbalance'\n",
      " 'newbalance' 'jordan' 'newbalance' 'nike' 'jordan' 'nike' 'nike' 'adidas'\n",
      " 'newbalance' 'adidas' 'nike' 'newbalance' 'newbalance' 'nike' 'newbalance'\n",
      " 'adidas' 'jordan' 'nike' 'nike' 'newbalance' 'nike' 'jordan' 'jordan'\n",
      " 'newbalance' 'nike' 'jordan' 'jordan' 'newbalance' 'nike' 'newbalance'\n",
      " 'newbalance' 'adidas' 'nike' 'newbalance' 'adidas' 'nike' 'newbalance'\n",
      " 'nike' 'newbalance' 'jordan' 'newbalance' 'newbalance' 'nike' 'nike'\n",
      " 'nike' 'nike' 'nike' 'nike' 'adidas' 'nike' 'adidas' 'newbalance' 'nike'\n",
      " 'nike' 'newbalance' 'adidas' 'nike' 'adidas' 'adidas' 'newbalance'\n",
      " 'newbalance' 'jordan' 'newbalance' 'adidas' 'nike' 'adidas' 'newbalance'\n",
      " 'nike' 'newbalance' 'nike' 'adidas' 'nike' 'adidas' 'newbalance' 'nike'\n",
      " 'adidas' 'nike' 'adidas' 'newbalance' 'adidas' 'adidas' 'adidas'\n",
      " 'newbalance' 'adidas' 'nike' 'adidas' 'newbalance' 'nike' 'adidas'\n",
      " 'adidas' 'adidas' 'nike' 'adidas' 'adidas' 'adidas' 'nike' 'adidas'\n",
      " 'newbalance' 'nike' 'adidas' 'newbalance' 'adidas' 'adidas' 'adidas'\n",
      " 'adidas' 'jordan' 'newbalance' 'adidas' 'adidas' 'nike' 'nike' 'nike'\n",
      " 'jordan' 'adidas' 'adidas' 'adidas' 'newbalance' 'newbalance' 'nike'\n",
      " 'newbalance' 'adidas' 'newbalance' 'adidas' 'jordan' 'adidas' 'adidas'\n",
      " 'adidas' 'adidas' 'nike' 'nike' 'adidas' 'adidas' 'newbalance'\n",
      " 'newbalance' 'newbalance' 'jordan' 'nike' 'adidas' 'nike' 'adidas' 'nike'\n",
      " 'jordan' 'jordan' 'nike' 'nike' 'adidas' 'nike' 'nike' 'newbalance' 'nike'\n",
      " 'adidas' 'newbalance' 'newbalance' 'newbalance' 'nike' 'adidas' 'adidas'\n",
      " 'adidas' 'nike' 'jordan' 'nike' 'nike' 'nike' 'nike' 'nike' 'nike'\n",
      " 'jordan' 'nike' 'nike' 'nike' 'nike' 'newbalance' 'newbalance' 'nike'\n",
      " 'newbalance' 'adidas' 'adidas' 'newbalance' 'adidas' 'jordan' 'jordan'\n",
      " 'adidas' 'newbalance' 'newbalance' 'nike' 'nike' 'jordan' 'nike' 'nike'\n",
      " 'nike' 'nike' 'adidas' 'nike' 'adidas' 'adidas' 'adidas' 'adidas'\n",
      " 'newbalance' 'jordan' 'adidas' 'nike' 'newbalance' 'nike' 'newbalance'\n",
      " 'adidas' 'nike' 'jordan' 'jordan' 'newbalance' 'newbalance' 'nike'\n",
      " 'adidas' 'nike' 'adidas' 'adidas' 'newbalance' 'adidas' 'adidas' 'adidas'\n",
      " 'adidas' 'adidas' 'newbalance' 'adidas' 'nike' 'newbalance' 'newbalance'\n",
      " 'adidas' 'newbalance' 'nike' 'jordan' 'adidas' 'adidas' 'adidas' 'nike'\n",
      " 'nike' 'newbalance' 'nike' 'adidas' 'nike' 'jordan' 'newbalance' 'nike'\n",
      " 'newbalance' 'newbalance' 'adidas' 'adidas' 'nike' 'adidas' 'newbalance'\n",
      " 'nike' 'adidas' 'nike' 'adidas' 'adidas' 'nike' 'nike' 'nike' 'newbalance'\n",
      " 'newbalance' 'adidas' 'adidas' 'newbalance' 'newbalance' 'adidas'\n",
      " 'newbalance' 'adidas' 'newbalance' 'adidas' 'jordan' 'nike' 'nike' 'nike'\n",
      " 'adidas' 'newbalance' 'nike' 'newbalance' 'newbalance' 'nike' 'newbalance'\n",
      " 'adidas' 'adidas' 'nike' 'adidas' 'nike' 'jordan' 'newbalance' 'jordan'\n",
      " 'newbalance' 'adidas' 'nike' 'adidas' 'newbalance' 'nike' 'nike' 'nike'\n",
      " 'adidas' 'adidas' 'newbalance' 'newbalance' 'newbalance' 'nike' 'nike'\n",
      " 'newbalance' 'adidas' 'newbalance' 'newbalance' 'jordan' 'jordan' 'jordan'\n",
      " 'newbalance' 'adidas' 'jordan' 'nike' 'newbalance' 'nike' 'nike' 'nike'\n",
      " 'adidas' 'nike' 'nike' 'adidas' 'nike' 'nike' 'adidas' 'nike' 'nike'\n",
      " 'newbalance' 'adidas' 'nike' 'newbalance' 'nike' 'adidas' 'nike'\n",
      " 'newbalance' 'newbalance' 'nike' 'newbalance' 'newbalance' 'adidas'\n",
      " 'newbalance' 'newbalance' 'nike' 'nike' 'nike' 'newbalance' 'adidas'\n",
      " 'jordan' 'adidas' 'nike' 'nike' 'newbalance' 'newbalance' 'nike' 'adidas'\n",
      " 'jordan' 'nike' 'newbalance' 'adidas' 'newbalance' 'jordan' 'jordan'\n",
      " 'adidas' 'newbalance' 'nike' 'adidas' 'nike' 'nike' 'newbalance' 'nike'\n",
      " 'newbalance' 'adidas' 'adidas' 'jordan' 'nike' 'nike' 'adidas'\n",
      " 'newbalance' 'nike' 'newbalance' 'jordan' 'newbalance' 'adidas'\n",
      " 'newbalance' 'adidas' 'adidas' 'adidas' 'nike' 'jordan' 'nike' 'nike'\n",
      " 'nike' 'newbalance' 'adidas' 'adidas' 'newbalance' 'adidas' 'adidas'\n",
      " 'newbalance' 'newbalance' 'newbalance' 'adidas' 'adidas' 'nike' 'adidas'\n",
      " 'jordan' 'adidas' 'newbalance' 'nike' 'adidas' 'nike' 'newbalance' 'nike'\n",
      " 'jordan' 'newbalance' 'newbalance' 'nike' 'jordan' 'adidas' 'jordan'\n",
      " 'nike' 'adidas' 'adidas' 'newbalance' 'adidas' 'newbalance' 'newbalance'\n",
      " 'nike' 'adidas' 'adidas' 'nike' 'jordan' 'nike' 'adidas' 'nike' 'nike'\n",
      " 'newbalance' 'newbalance' 'jordan' 'newbalance' 'adidas' 'nike' 'adidas'\n",
      " 'newbalance' 'nike' 'nike' 'nike' 'adidas' 'newbalance' 'adidas' 'nike'\n",
      " 'newbalance' 'adidas' 'nike' 'adidas' 'nike' 'adidas' 'nike' 'nike'\n",
      " 'newbalance' 'jordan' 'newbalance' 'nike' 'jordan' 'newbalance' 'nike'\n",
      " 'nike' 'adidas' 'adidas' 'newbalance' 'adidas' 'nike' 'adidas' 'jordan'\n",
      " 'newbalance' 'adidas' 'newbalance' 'nike' 'nike' 'adidas' 'nike' 'adidas'\n",
      " 'jordan' 'newbalance' 'adidas' 'nike' 'nike' 'jordan' 'newbalance'\n",
      " 'jordan' 'nike' 'adidas' 'newbalance' 'adidas' 'nike']\n"
     ]
    }
   ],
   "source": [
    "## Predict on the validation set using the KNN model.\n",
    "validations_predictions = model.predict(X_val)\n",
    "print validations_predictions"
   ]
  },
  {
   "cell_type": "code",
   "execution_count": 18,
   "metadata": {
    "collapsed": false
   },
   "outputs": [
    {
     "data": {
      "text/plain": [
       "0.505"
      ]
     },
     "execution_count": 18,
     "metadata": {},
     "output_type": "execute_result"
    }
   ],
   "source": [
    "## Can be used for visualizing misclassifications!\n",
    "results = pd.DataFrame()\n",
    "\n",
    "results.insert(0,'actual',Y_val)\n",
    "results.insert(1,'predictions',validations_predictions)\n",
    "\n",
    "misclassified = results[results['actual'] != results['predictions']].count()[0] / float(len(X_val))\n",
    "misclassified"
   ]
  },
  {
   "cell_type": "code",
   "execution_count": 90,
   "metadata": {
    "collapsed": false
   },
   "outputs": [
    {
     "data": {
      "text/plain": [
       "<matplotlib.text.Text at 0x1307999d0>"
      ]
     },
     "execution_count": 90,
     "metadata": {},
     "output_type": "execute_result"
    },
    {
     "data": {
      "image/png": "[encoded data removed]",
      "text/plain": [
       "<matplotlib.figure.Figure at 0x1304b4750>"
      ]
     },
     "metadata": {},
     "output_type": "display_data"
    }
   ],
   "source": [
    "## Plot the confusion matrix for the new data predictions\n",
    "classes = list(set(labels))\n",
    "classes.sort()\n",
    "\n",
    "cm = confusion_matrix(Y_val, validations_predictions)\n",
    "plt.imshow(cm, interpolation='nearest', cmap=plt.cm.Blues)\n",
    "plt.title(\"Normalized Confusion Matrix of Predictions for Training Set\")\n",
    "plt.colorbar()\n",
    "tick_marks = np.arange(len(classes))\n",
    "plt.xticks(tick_marks, classes, rotation=45)\n",
    "plt.yticks(tick_marks, classes)\n",
    "plt.tight_layout()\n",
    "cm = cm.astype('float') / cm.sum(axis=1)[:, np.newaxis]\n",
    "thresh = cm.max() / 2.\n",
    "for i, j in itertools.product(range(cm.shape[0]), range(cm.shape[1])):\n",
    "    plt.text(j, i, round(cm[i, j],2),\n",
    "             horizontalalignment=\"center\",\n",
    "             color=\"white\" if cm[i, j] > thresh else \"black\")\n",
    "plt.ylabel('True label')\n",
    "plt.xlabel('Predicted label')"
   ]
  },
  {
   "cell_type": "code",
   "execution_count": 20,
   "metadata": {
    "collapsed": false
   },
   "outputs": [
    {
     "data": {
      "text/html": [
       "<div>\n",
       "<table border=\"1\" class=\"dataframe\">\n",
       "  <thead>\n",
       "    <tr style=\"text-align: right;\">\n",
       "      <th></th>\n",
       "      <th>0</th>\n",
       "      <th>1</th>\n",
       "      <th>2</th>\n",
       "      <th>3</th>\n",
       "      <th>4</th>\n",
       "    </tr>\n",
       "  </thead>\n",
       "  <tbody>\n",
       "    <tr>\n",
       "      <th>0</th>\n",
       "      <td>144</td>\n",
       "      <td>4991</td>\n",
       "      <td>1742</td>\n",
       "      <td>23</td>\n",
       "      <td>4613</td>\n",
       "    </tr>\n",
       "    <tr>\n",
       "      <th>1</th>\n",
       "      <td>1238</td>\n",
       "      <td>1160</td>\n",
       "      <td>333</td>\n",
       "      <td>2757</td>\n",
       "      <td>5072</td>\n",
       "    </tr>\n",
       "    <tr>\n",
       "      <th>2</th>\n",
       "      <td>4771</td>\n",
       "      <td>4936</td>\n",
       "      <td>569</td>\n",
       "      <td>3711</td>\n",
       "      <td>4650</td>\n",
       "    </tr>\n",
       "    <tr>\n",
       "      <th>3</th>\n",
       "      <td>877</td>\n",
       "      <td>996</td>\n",
       "      <td>4819</td>\n",
       "      <td>4362</td>\n",
       "      <td>4213</td>\n",
       "    </tr>\n",
       "    <tr>\n",
       "      <th>4</th>\n",
       "      <td>2705</td>\n",
       "      <td>558</td>\n",
       "      <td>2682</td>\n",
       "      <td>1195</td>\n",
       "      <td>314</td>\n",
       "    </tr>\n",
       "  </tbody>\n",
       "</table>\n",
       "</div>"
      ],
      "text/plain": [
       "      0     1     2     3     4\n",
       "0   144  4991  1742    23  4613\n",
       "1  1238  1160   333  2757  5072\n",
       "2  4771  4936   569  3711  4650\n",
       "3   877   996  4819  4362  4213\n",
       "4  2705   558  2682  1195   314"
      ]
     },
     "execution_count": 20,
     "metadata": {},
     "output_type": "execute_result"
    }
   ],
   "source": [
    "## Give me the 5 nearest neighbors of the first two items in the validation set\n",
    "pd.DataFrame(model.kneighbors(X_val[0:5], n_neighbors=5, return_distance=False))"
   ]
  },
  {
   "cell_type": "code",
   "execution_count": 34,
   "metadata": {
    "collapsed": false
   },
   "outputs": [
    {
     "name": "stdout",
     "output_type": "stream",
     "text": [
      "<built-in method index of list object at 0x103e9de18>\n",
      "./classes/kNN_data/adidas.10.png\n",
      "./classes/kNN_data/adidas.11523.png\n",
      "./classes/kNN_data/nike.11220.png\n",
      "./classes/kNN_data/jordan.12936.png\n",
      "./classes/kNN_data/adidas.10334.png\n",
      "./classes/kNN_data/nike.10276.png\n"
     ]
    }
   ],
   "source": [
    "## Translation:\n",
    "print train_test_split\n",
    "print imagePaths[0]\n",
    "print imagePaths[144]\n",
    "print imagePaths[4991]\n",
    "print imagePaths[1742]\n",
    "print imagePaths[23]\n",
    "print imagePaths[4613]"
   ]
  },
  {
   "cell_type": "code",
   "execution_count": 21,
   "metadata": {
    "collapsed": false
   },
   "outputs": [
    {
     "data": {
      "text/plain": [
       "0.495"
      ]
     },
     "execution_count": 21,
     "metadata": {},
     "output_type": "execute_result"
    }
   ],
   "source": [
    "model.score(X_val,Y_val)"
   ]
  },
  {
   "cell_type": "code",
   "execution_count": 22,
   "metadata": {
    "collapsed": false
   },
   "outputs": [
    {
     "data": {
      "text/plain": [
       "1.0"
      ]
     },
     "execution_count": 22,
     "metadata": {},
     "output_type": "execute_result"
    }
   ],
   "source": [
    "model.score(X_train,Y_train)"
   ]
  },
  {
   "cell_type": "code",
   "execution_count": 23,
   "metadata": {
    "collapsed": false
   },
   "outputs": [
    {
     "data": {
      "text/plain": [
       "0.45166666666666666"
      ]
     },
     "execution_count": 23,
     "metadata": {},
     "output_type": "execute_result"
    }
   ],
   "source": [
    "model2.score(X_val,Y_val)"
   ]
  },
  {
   "cell_type": "code",
   "execution_count": 24,
   "metadata": {
    "collapsed": false
   },
   "outputs": [
    {
     "data": {
      "text/plain": [
       "0.4601851851851852"
      ]
     },
     "execution_count": 24,
     "metadata": {},
     "output_type": "execute_result"
    }
   ],
   "source": [
    "model2.score(X_train,Y_train)"
   ]
  },
  {
   "cell_type": "markdown",
   "metadata": {},
   "source": [
    "======================================================================================================\n",
    "# Testing on New Data\n",
    "======================================================================================================"
   ]
  },
  {
   "cell_type": "code",
   "execution_count": 79,
   "metadata": {
    "collapsed": false
   },
   "outputs": [],
   "source": [
    "new_images_test = []\n",
    "new_labels = []\n",
    "newDataPath = list(paths.list_images(\"./classes/kNN_new_data/\"))\n",
    "newDataPath.sort()\n",
    "\n",
    "for (i, newDataPath) in enumerate(newDataPath):    \n",
    "    image = cv2.imread(newDataPath)\n",
    "    new_images = extract_color_histogram(image)\n",
    "    \n",
    "    nlabels = newDataPath.split(os.path.sep)[-1].split(\".\")[0]\n",
    "    new_images_test.append(new_images)\n",
    "    new_labels.append(nlabels)"
   ]
  },
  {
   "cell_type": "code",
   "execution_count": 80,
   "metadata": {
    "collapsed": false
   },
   "outputs": [
    {
     "data": {
      "text/plain": [
       "Counter({'adidas': 8, 'jordan': 8, 'newbalance': 18, 'nike': 9})"
      ]
     },
     "execution_count": 80,
     "metadata": {},
     "output_type": "execute_result"
    }
   ],
   "source": [
    "from collections import Counter\n",
    "Counter(new_labels)"
   ]
  },
  {
   "cell_type": "code",
   "execution_count": 81,
   "metadata": {
    "collapsed": false
   },
   "outputs": [
    {
     "name": "stdout",
     "output_type": "stream",
     "text": [
      "Accuracy of the Model:0.302325581395\n"
     ]
    },
    {
     "data": {
      "text/html": [
       "<div>\n",
       "<table border=\"1\" class=\"dataframe\">\n",
       "  <thead>\n",
       "    <tr style=\"text-align: right;\">\n",
       "      <th></th>\n",
       "      <th>actual</th>\n",
       "      <th>predictions</th>\n",
       "      <th>results</th>\n",
       "    </tr>\n",
       "  </thead>\n",
       "  <tbody>\n",
       "    <tr>\n",
       "      <th>0</th>\n",
       "      <td>adidas</td>\n",
       "      <td>jordan</td>\n",
       "      <td>False</td>\n",
       "    </tr>\n",
       "    <tr>\n",
       "      <th>1</th>\n",
       "      <td>adidas</td>\n",
       "      <td>adidas</td>\n",
       "      <td>True</td>\n",
       "    </tr>\n",
       "    <tr>\n",
       "      <th>2</th>\n",
       "      <td>adidas</td>\n",
       "      <td>nike</td>\n",
       "      <td>False</td>\n",
       "    </tr>\n",
       "    <tr>\n",
       "      <th>3</th>\n",
       "      <td>adidas</td>\n",
       "      <td>adidas</td>\n",
       "      <td>True</td>\n",
       "    </tr>\n",
       "    <tr>\n",
       "      <th>4</th>\n",
       "      <td>adidas</td>\n",
       "      <td>adidas</td>\n",
       "      <td>True</td>\n",
       "    </tr>\n",
       "    <tr>\n",
       "      <th>5</th>\n",
       "      <td>adidas</td>\n",
       "      <td>adidas</td>\n",
       "      <td>True</td>\n",
       "    </tr>\n",
       "    <tr>\n",
       "      <th>6</th>\n",
       "      <td>adidas</td>\n",
       "      <td>nike</td>\n",
       "      <td>False</td>\n",
       "    </tr>\n",
       "    <tr>\n",
       "      <th>7</th>\n",
       "      <td>adidas</td>\n",
       "      <td>jordan</td>\n",
       "      <td>False</td>\n",
       "    </tr>\n",
       "    <tr>\n",
       "      <th>8</th>\n",
       "      <td>jordan</td>\n",
       "      <td>newbalance</td>\n",
       "      <td>False</td>\n",
       "    </tr>\n",
       "    <tr>\n",
       "      <th>9</th>\n",
       "      <td>jordan</td>\n",
       "      <td>jordan</td>\n",
       "      <td>True</td>\n",
       "    </tr>\n",
       "    <tr>\n",
       "      <th>10</th>\n",
       "      <td>jordan</td>\n",
       "      <td>nike</td>\n",
       "      <td>False</td>\n",
       "    </tr>\n",
       "    <tr>\n",
       "      <th>11</th>\n",
       "      <td>jordan</td>\n",
       "      <td>jordan</td>\n",
       "      <td>True</td>\n",
       "    </tr>\n",
       "    <tr>\n",
       "      <th>12</th>\n",
       "      <td>jordan</td>\n",
       "      <td>newbalance</td>\n",
       "      <td>False</td>\n",
       "    </tr>\n",
       "    <tr>\n",
       "      <th>13</th>\n",
       "      <td>jordan</td>\n",
       "      <td>newbalance</td>\n",
       "      <td>False</td>\n",
       "    </tr>\n",
       "    <tr>\n",
       "      <th>14</th>\n",
       "      <td>jordan</td>\n",
       "      <td>jordan</td>\n",
       "      <td>True</td>\n",
       "    </tr>\n",
       "    <tr>\n",
       "      <th>15</th>\n",
       "      <td>jordan</td>\n",
       "      <td>adidas</td>\n",
       "      <td>False</td>\n",
       "    </tr>\n",
       "    <tr>\n",
       "      <th>16</th>\n",
       "      <td>newbalance</td>\n",
       "      <td>jordan</td>\n",
       "      <td>False</td>\n",
       "    </tr>\n",
       "    <tr>\n",
       "      <th>17</th>\n",
       "      <td>newbalance</td>\n",
       "      <td>adidas</td>\n",
       "      <td>False</td>\n",
       "    </tr>\n",
       "    <tr>\n",
       "      <th>18</th>\n",
       "      <td>newbalance</td>\n",
       "      <td>nike</td>\n",
       "      <td>False</td>\n",
       "    </tr>\n",
       "    <tr>\n",
       "      <th>19</th>\n",
       "      <td>newbalance</td>\n",
       "      <td>newbalance</td>\n",
       "      <td>True</td>\n",
       "    </tr>\n",
       "    <tr>\n",
       "      <th>20</th>\n",
       "      <td>newbalance</td>\n",
       "      <td>nike</td>\n",
       "      <td>False</td>\n",
       "    </tr>\n",
       "    <tr>\n",
       "      <th>21</th>\n",
       "      <td>newbalance</td>\n",
       "      <td>adidas</td>\n",
       "      <td>False</td>\n",
       "    </tr>\n",
       "    <tr>\n",
       "      <th>22</th>\n",
       "      <td>newbalance</td>\n",
       "      <td>nike</td>\n",
       "      <td>False</td>\n",
       "    </tr>\n",
       "    <tr>\n",
       "      <th>23</th>\n",
       "      <td>newbalance</td>\n",
       "      <td>nike</td>\n",
       "      <td>False</td>\n",
       "    </tr>\n",
       "    <tr>\n",
       "      <th>24</th>\n",
       "      <td>newbalance</td>\n",
       "      <td>adidas</td>\n",
       "      <td>False</td>\n",
       "    </tr>\n",
       "    <tr>\n",
       "      <th>25</th>\n",
       "      <td>newbalance</td>\n",
       "      <td>jordan</td>\n",
       "      <td>False</td>\n",
       "    </tr>\n",
       "    <tr>\n",
       "      <th>26</th>\n",
       "      <td>newbalance</td>\n",
       "      <td>jordan</td>\n",
       "      <td>False</td>\n",
       "    </tr>\n",
       "    <tr>\n",
       "      <th>27</th>\n",
       "      <td>newbalance</td>\n",
       "      <td>newbalance</td>\n",
       "      <td>True</td>\n",
       "    </tr>\n",
       "    <tr>\n",
       "      <th>28</th>\n",
       "      <td>newbalance</td>\n",
       "      <td>newbalance</td>\n",
       "      <td>True</td>\n",
       "    </tr>\n",
       "    <tr>\n",
       "      <th>29</th>\n",
       "      <td>newbalance</td>\n",
       "      <td>adidas</td>\n",
       "      <td>False</td>\n",
       "    </tr>\n",
       "    <tr>\n",
       "      <th>30</th>\n",
       "      <td>newbalance</td>\n",
       "      <td>nike</td>\n",
       "      <td>False</td>\n",
       "    </tr>\n",
       "    <tr>\n",
       "      <th>31</th>\n",
       "      <td>newbalance</td>\n",
       "      <td>nike</td>\n",
       "      <td>False</td>\n",
       "    </tr>\n",
       "    <tr>\n",
       "      <th>32</th>\n",
       "      <td>newbalance</td>\n",
       "      <td>newbalance</td>\n",
       "      <td>True</td>\n",
       "    </tr>\n",
       "    <tr>\n",
       "      <th>33</th>\n",
       "      <td>newbalance</td>\n",
       "      <td>adidas</td>\n",
       "      <td>False</td>\n",
       "    </tr>\n",
       "    <tr>\n",
       "      <th>34</th>\n",
       "      <td>nike</td>\n",
       "      <td>nike</td>\n",
       "      <td>True</td>\n",
       "    </tr>\n",
       "    <tr>\n",
       "      <th>35</th>\n",
       "      <td>nike</td>\n",
       "      <td>adidas</td>\n",
       "      <td>False</td>\n",
       "    </tr>\n",
       "    <tr>\n",
       "      <th>36</th>\n",
       "      <td>nike</td>\n",
       "      <td>adidas</td>\n",
       "      <td>False</td>\n",
       "    </tr>\n",
       "    <tr>\n",
       "      <th>37</th>\n",
       "      <td>nike</td>\n",
       "      <td>jordan</td>\n",
       "      <td>False</td>\n",
       "    </tr>\n",
       "    <tr>\n",
       "      <th>38</th>\n",
       "      <td>nike</td>\n",
       "      <td>newbalance</td>\n",
       "      <td>False</td>\n",
       "    </tr>\n",
       "    <tr>\n",
       "      <th>39</th>\n",
       "      <td>nike</td>\n",
       "      <td>newbalance</td>\n",
       "      <td>False</td>\n",
       "    </tr>\n",
       "    <tr>\n",
       "      <th>40</th>\n",
       "      <td>nike</td>\n",
       "      <td>jordan</td>\n",
       "      <td>False</td>\n",
       "    </tr>\n",
       "    <tr>\n",
       "      <th>41</th>\n",
       "      <td>nike</td>\n",
       "      <td>adidas</td>\n",
       "      <td>False</td>\n",
       "    </tr>\n",
       "    <tr>\n",
       "      <th>42</th>\n",
       "      <td>nike</td>\n",
       "      <td>nike</td>\n",
       "      <td>True</td>\n",
       "    </tr>\n",
       "  </tbody>\n",
       "</table>\n",
       "</div>"
      ],
      "text/plain": [
       "        actual predictions results\n",
       "0       adidas      jordan   False\n",
       "1       adidas      adidas    True\n",
       "2       adidas        nike   False\n",
       "3       adidas      adidas    True\n",
       "4       adidas      adidas    True\n",
       "5       adidas      adidas    True\n",
       "6       adidas        nike   False\n",
       "7       adidas      jordan   False\n",
       "8       jordan  newbalance   False\n",
       "9       jordan      jordan    True\n",
       "10      jordan        nike   False\n",
       "11      jordan      jordan    True\n",
       "12      jordan  newbalance   False\n",
       "13      jordan  newbalance   False\n",
       "14      jordan      jordan    True\n",
       "15      jordan      adidas   False\n",
       "16  newbalance      jordan   False\n",
       "17  newbalance      adidas   False\n",
       "18  newbalance        nike   False\n",
       "19  newbalance  newbalance    True\n",
       "20  newbalance        nike   False\n",
       "21  newbalance      adidas   False\n",
       "22  newbalance        nike   False\n",
       "23  newbalance        nike   False\n",
       "24  newbalance      adidas   False\n",
       "25  newbalance      jordan   False\n",
       "26  newbalance      jordan   False\n",
       "27  newbalance  newbalance    True\n",
       "28  newbalance  newbalance    True\n",
       "29  newbalance      adidas   False\n",
       "30  newbalance        nike   False\n",
       "31  newbalance        nike   False\n",
       "32  newbalance  newbalance    True\n",
       "33  newbalance      adidas   False\n",
       "34        nike        nike    True\n",
       "35        nike      adidas   False\n",
       "36        nike      adidas   False\n",
       "37        nike      jordan   False\n",
       "38        nike  newbalance   False\n",
       "39        nike  newbalance   False\n",
       "40        nike      jordan   False\n",
       "41        nike      adidas   False\n",
       "42        nike        nike    True"
      ]
     },
     "execution_count": 81,
     "metadata": {},
     "output_type": "execute_result"
    }
   ],
   "source": [
    "new_data_predictions = model.predict(new_images_test)\n",
    "rslt = new_labels == new_data_predictions\n",
    "new_data_df = pd.DataFrame()\n",
    "\n",
    "new_data_df.insert(0,'actual',new_labels)\n",
    "# new_data_df.insert(1, 'image_name', map(lambda x: x.split(os.path.sep)[-1], newDataPath[0:len(new_labels)]))\n",
    "new_data_df.insert(1,'predictions',new_data_predictions)\n",
    "new_data_df.insert(2,'results',rslt)\n",
    "\n",
    "\n",
    "print \"Accuracy of the Model:\" + str(model.score(new_images_test, new_labels))\n",
    "\n",
    "new_data_df"
   ]
  },
  {
   "cell_type": "code",
   "execution_count": 91,
   "metadata": {
    "collapsed": false
   },
   "outputs": [
    {
     "data": {
      "text/plain": [
       "<matplotlib.text.Text at 0x12f6559d0>"
      ]
     },
     "execution_count": 91,
     "metadata": {},
     "output_type": "execute_result"
    },
    {
     "data": {
      "image/png": "[encoded data removed]",
      "text/plain": [
       "<matplotlib.figure.Figure at 0x12bef8450>"
      ]
     },
     "metadata": {},
     "output_type": "display_data"
    }
   ],
   "source": [
    "## Plot the confusion matrix for the new data predictions\n",
    "classes = list(set(new_labels))\n",
    "classes.sort()\n",
    "\n",
    "cm = confusion_matrix(new_labels, new_data_predictions)\n",
    "cm = cm.astype('float') / cm.sum(axis=1)[:, np.newaxis]\n",
    "plt.imshow(cm, interpolation='nearest', cmap=plt.cm.Blues)\n",
    "plt.title(\"Normalized Confusion Matrix of Predictions on New Data\")\n",
    "plt.colorbar()\n",
    "tick_marks = np.arange(len(classes))\n",
    "plt.xticks(tick_marks, classes, rotation=45)\n",
    "plt.yticks(tick_marks, classes)\n",
    "plt.tight_layout()\n",
    "thresh = cm.max() / 2.\n",
    "for i, j in itertools.product(range(cm.shape[0]), range(cm.shape[1])):\n",
    "    plt.text(j, i, round(cm[i, j],2),\n",
    "             horizontalalignment=\"center\",\n",
    "             color=\"white\" if cm[i, j] > thresh else \"black\")\n",
    "    \n",
    "\n",
    "np.set_printoptions(precision=2)\n",
    "plt.ylabel('True label')\n",
    "plt.xlabel('Predicted label')"
   ]
  },
  {
   "cell_type": "code",
   "execution_count": 59,
   "metadata": {
    "collapsed": true
   },
   "outputs": [],
   "source": []
  },
  {
   "cell_type": "code",
   "execution_count": 51,
   "metadata": {
    "collapsed": false
   },
   "outputs": [
    {
     "name": "stderr",
     "output_type": "stream",
     "text": [
      "/Users/waihamyee/anaconda/lib/python2.7/site-packages/sklearn/utils/validation.py:386: DeprecationWarning: Passing 1d arrays as data is deprecated in 0.17 and willraise ValueError in 0.19. Reshape your data either using X.reshape(-1, 1) if your data has a single feature or X.reshape(1, -1) if it contains a single sample.\n",
      "  DeprecationWarning)\n"
     ]
    },
    {
     "data": {
      "text/html": [
       "<div>\n",
       "<table border=\"1\" class=\"dataframe\">\n",
       "  <thead>\n",
       "    <tr style=\"text-align: right;\">\n",
       "      <th></th>\n",
       "      <th>0</th>\n",
       "      <th>1</th>\n",
       "      <th>2</th>\n",
       "      <th>3</th>\n",
       "      <th>4</th>\n",
       "      <th>5</th>\n",
       "      <th>6</th>\n",
       "      <th>7</th>\n",
       "      <th>8</th>\n",
       "      <th>9</th>\n",
       "      <th>...</th>\n",
       "      <th>97</th>\n",
       "      <th>98</th>\n",
       "      <th>99</th>\n",
       "      <th>100</th>\n",
       "      <th>101</th>\n",
       "      <th>102</th>\n",
       "      <th>103</th>\n",
       "      <th>104</th>\n",
       "      <th>105</th>\n",
       "      <th>106</th>\n",
       "    </tr>\n",
       "  </thead>\n",
       "  <tbody>\n",
       "    <tr>\n",
       "      <th>0</th>\n",
       "      <td>3702</td>\n",
       "      <td>1589</td>\n",
       "      <td>5237</td>\n",
       "      <td>3902</td>\n",
       "      <td>2667</td>\n",
       "      <td>2967</td>\n",
       "      <td>2381</td>\n",
       "      <td>3391</td>\n",
       "      <td>618</td>\n",
       "      <td>997</td>\n",
       "      <td>...</td>\n",
       "      <td>1069</td>\n",
       "      <td>867</td>\n",
       "      <td>5117</td>\n",
       "      <td>2643</td>\n",
       "      <td>1526</td>\n",
       "      <td>1269</td>\n",
       "      <td>1475</td>\n",
       "      <td>1886</td>\n",
       "      <td>5069</td>\n",
       "      <td>3476</td>\n",
       "    </tr>\n",
       "  </tbody>\n",
       "</table>\n",
       "<p>1 rows × 107 columns</p>\n",
       "</div>"
      ],
      "text/plain": [
       "    0     1     2     3     4     5     6     7    8    9    ...    97   98   \\\n",
       "0  3702  1589  5237  3902  2667  2967  2381  3391  618  997  ...   1069  867   \n",
       "\n",
       "    99    100   101   102   103   104   105   106  \n",
       "0  5117  2643  1526  1269  1475  1886  5069  3476  \n",
       "\n",
       "[1 rows x 107 columns]"
      ]
     },
     "execution_count": 51,
     "metadata": {},
     "output_type": "execute_result"
    }
   ],
   "source": [
    "prediction_nearest_neighbors = pd.DataFrame(model.kneighbors(new_images_test[1], n_neighbors=107, return_distance=False))\n",
    "prediction_nearest_neighbors"
   ]
  },
  {
   "cell_type": "code",
   "execution_count": 58,
   "metadata": {
    "collapsed": false
   },
   "outputs": [],
   "source": [
    "## Translate the predicted nearest neighbors\n",
    "newDataPath = list(paths.list_images(\"./classes/kNN_new_data/\"))\n",
    "newDataPath.sort()\n",
    "\n",
    "# print newDataPath[0]\n",
    "\n",
    "# extract_color_histogram(imagePaths[3702])\n",
    "\n",
    "# plt.imshow(imagePaths[1589])\n",
    "# plt.imshow(imagePaths[5237])\n",
    "# plt.imshow(imagePaths[3902])\n",
    "# plt.imshow(imagePaths[2667])"
   ]
  },
  {
   "cell_type": "code",
   "execution_count": null,
   "metadata": {
    "collapsed": false
   },
   "outputs": [],
   "source": [
    "newDataPath = list(paths.list_images(\"./classes/kNN_new_data/\"))\n",
    "newDataPath"
   ]
  },
  {
   "cell_type": "code",
   "execution_count": null,
   "metadata": {
    "collapsed": false
   },
   "outputs": [],
   "source": [
    "nearest_neighbors = list(model.kneighbors(new_images_test[8], n_neighbors=107, return_distance=False)[0])\n",
    "NN_images = [imagePaths[x] for x in nearest_neighbors]\n",
    "\n",
    "processNN = map(lambda x: x.split(os.path.sep)[-1].split(\".\")[0], NN_images)\n",
    "[ (i,processNN.count(i)) for i in set(processNN) ]\n"
   ]
  }
 ],
 "metadata": {
  "anaconda-cloud": {},
  "kernelspec": {
   "display_name": "Python [Root]",
   "language": "python",
   "name": "Python [Root]"
  },
  "language_info": {
   "codemirror_mode": {
    "name": "ipython",
    "version": 2
   },
   "file_extension": ".py",
   "mimetype": "text/x-python",
   "name": "python",
   "nbconvert_exporter": "python",
   "pygments_lexer": "ipython2",
   "version": "2.7.12"
  }
 },
 "nbformat": 4,
 "nbformat_minor": 0
}
