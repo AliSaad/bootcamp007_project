{
 "cells": [
  {
   "cell_type": "code",
   "execution_count": 1,
   "metadata": {
    "collapsed": false
   },
   "outputs": [
    {
     "data": {
      "text/plain": [
       "(41188, 21)"
      ]
     },
     "execution_count": 1,
     "metadata": {},
     "output_type": "execute_result"
    }
   ],
   "source": [
    "import pandas as pd\n",
    "Bmarket = pd.read_csv('C:\\Users\\shiyan\\Documents\\Bank-additional-full.csv', sep=';')\n",
    "Bmarket.shape"
   ]
  },
  {
   "cell_type": "code",
   "execution_count": 2,
   "metadata": {
    "collapsed": false
   },
   "outputs": [
    {
     "data": {
      "text/html": [
       "<div>\n",
       "<table border=\"1\" class=\"dataframe\">\n",
       "  <thead>\n",
       "    <tr style=\"text-align: right;\">\n",
       "      <th></th>\n",
       "      <th>age</th>\n",
       "      <th>job</th>\n",
       "      <th>marital</th>\n",
       "      <th>education</th>\n",
       "      <th>default</th>\n",
       "      <th>housing</th>\n",
       "      <th>loan</th>\n",
       "      <th>contact</th>\n",
       "      <th>month</th>\n",
       "      <th>day_of_week</th>\n",
       "      <th>campaign</th>\n",
       "      <th>pdays</th>\n",
       "      <th>previous</th>\n",
       "      <th>poutcome</th>\n",
       "      <th>emp.var.rate</th>\n",
       "      <th>cons.price.idx</th>\n",
       "      <th>cons.conf.idx</th>\n",
       "      <th>euribor3m</th>\n",
       "      <th>nr.employed</th>\n",
       "      <th>y</th>\n",
       "    </tr>\n",
       "  </thead>\n",
       "  <tbody>\n",
       "    <tr>\n",
       "      <th>0</th>\n",
       "      <td>56</td>\n",
       "      <td>housemaid</td>\n",
       "      <td>married</td>\n",
       "      <td>basic.4y</td>\n",
       "      <td>no</td>\n",
       "      <td>no</td>\n",
       "      <td>no</td>\n",
       "      <td>telephone</td>\n",
       "      <td>may</td>\n",
       "      <td>mon</td>\n",
       "      <td>1</td>\n",
       "      <td>999</td>\n",
       "      <td>0</td>\n",
       "      <td>nonexistent</td>\n",
       "      <td>1.1</td>\n",
       "      <td>93.994</td>\n",
       "      <td>-36.4</td>\n",
       "      <td>4.857</td>\n",
       "      <td>5191.0</td>\n",
       "      <td>no</td>\n",
       "    </tr>\n",
       "  </tbody>\n",
       "</table>\n",
       "</div>"
      ],
      "text/plain": [
       "   age        job  marital education default housing loan    contact month  \\\n",
       "0   56  housemaid  married  basic.4y      no      no   no  telephone   may   \n",
       "\n",
       "  day_of_week  campaign  pdays  previous     poutcome  emp.var.rate  \\\n",
       "0         mon         1    999         0  nonexistent           1.1   \n",
       "\n",
       "   cons.price.idx  cons.conf.idx  euribor3m  nr.employed   y  \n",
       "0          93.994          -36.4      4.857       5191.0  no  "
      ]
     },
     "execution_count": 2,
     "metadata": {},
     "output_type": "execute_result"
    }
   ],
   "source": [
    "# backup first  this cell just run one time\n",
    "BK_Bmarket= Bmarket.copy()\n",
    "# drop the highly correlate column 'duration'\n",
    "\n",
    "import numpy as np\n",
    "# drop the column duration for all the study\n",
    "Bmarket.drop('duration', axis = 1, inplace = True)\n",
    "# change the response variable \n",
    "Bmarket.head(1)"
   ]
  },
  {
   "cell_type": "code",
   "execution_count": 3,
   "metadata": {
    "collapsed": false
   },
   "outputs": [
    {
     "data": {
      "text/html": [
       "<div>\n",
       "<table border=\"1\" class=\"dataframe\">\n",
       "  <thead>\n",
       "    <tr style=\"text-align: right;\">\n",
       "      <th></th>\n",
       "      <th>age</th>\n",
       "      <th>job</th>\n",
       "      <th>marital</th>\n",
       "      <th>education</th>\n",
       "      <th>default</th>\n",
       "      <th>housing</th>\n",
       "      <th>loan</th>\n",
       "      <th>contact</th>\n",
       "      <th>month</th>\n",
       "      <th>day_of_week</th>\n",
       "      <th>campaign</th>\n",
       "      <th>pdays</th>\n",
       "      <th>previous</th>\n",
       "      <th>poutcome</th>\n",
       "      <th>emp.var.rate</th>\n",
       "      <th>cons.price.idx</th>\n",
       "      <th>cons.conf.idx</th>\n",
       "      <th>euribor3m</th>\n",
       "      <th>nr.employed</th>\n",
       "      <th>y</th>\n",
       "    </tr>\n",
       "  </thead>\n",
       "  <tbody>\n",
       "    <tr>\n",
       "      <th>0</th>\n",
       "      <td>56</td>\n",
       "      <td>housemaid</td>\n",
       "      <td>married</td>\n",
       "      <td>basic.4y</td>\n",
       "      <td>no</td>\n",
       "      <td>no</td>\n",
       "      <td>no</td>\n",
       "      <td>telephone</td>\n",
       "      <td>may</td>\n",
       "      <td>mon</td>\n",
       "      <td>1</td>\n",
       "      <td>999</td>\n",
       "      <td>0</td>\n",
       "      <td>nonexistent</td>\n",
       "      <td>1.1</td>\n",
       "      <td>93.994</td>\n",
       "      <td>-36.4</td>\n",
       "      <td>4.857</td>\n",
       "      <td>5191.0</td>\n",
       "      <td>no</td>\n",
       "    </tr>\n",
       "    <tr>\n",
       "      <th>1</th>\n",
       "      <td>57</td>\n",
       "      <td>services</td>\n",
       "      <td>married</td>\n",
       "      <td>high.school</td>\n",
       "      <td>unknown</td>\n",
       "      <td>no</td>\n",
       "      <td>no</td>\n",
       "      <td>telephone</td>\n",
       "      <td>may</td>\n",
       "      <td>mon</td>\n",
       "      <td>1</td>\n",
       "      <td>999</td>\n",
       "      <td>0</td>\n",
       "      <td>nonexistent</td>\n",
       "      <td>1.1</td>\n",
       "      <td>93.994</td>\n",
       "      <td>-36.4</td>\n",
       "      <td>4.857</td>\n",
       "      <td>5191.0</td>\n",
       "      <td>no</td>\n",
       "    </tr>\n",
       "  </tbody>\n",
       "</table>\n",
       "</div>"
      ],
      "text/plain": [
       "   age        job  marital    education  default housing loan    contact  \\\n",
       "0   56  housemaid  married     basic.4y       no      no   no  telephone   \n",
       "1   57   services  married  high.school  unknown      no   no  telephone   \n",
       "\n",
       "  month day_of_week  campaign  pdays  previous     poutcome  emp.var.rate  \\\n",
       "0   may         mon         1    999         0  nonexistent           1.1   \n",
       "1   may         mon         1    999         0  nonexistent           1.1   \n",
       "\n",
       "   cons.price.idx  cons.conf.idx  euribor3m  nr.employed   y  \n",
       "0          93.994          -36.4      4.857       5191.0  no  \n",
       "1          93.994          -36.4      4.857       5191.0  no  "
      ]
     },
     "execution_count": 3,
     "metadata": {},
     "output_type": "execute_result"
    }
   ],
   "source": [
    "Bmarket.head(2)"
   ]
  },
  {
   "cell_type": "code",
   "execution_count": 4,
   "metadata": {
    "collapsed": false
   },
   "outputs": [
    {
     "name": "stdout",
     "output_type": "stream",
     "text": [
      "0\n",
      "1\n",
      "1\n",
      "2\n",
      "2\n",
      "3\n",
      "3\n",
      "4\n",
      "4\n",
      "5\n",
      "5\n",
      "6\n",
      "6\n",
      "7\n",
      "7\n",
      "8\n",
      "8\n",
      "9\n",
      "9\n",
      "10\n",
      "10\n",
      "11\n"
     ]
    },
    {
     "data": {
      "text/html": [
       "<div>\n",
       "<table border=\"1\" class=\"dataframe\">\n",
       "  <thead>\n",
       "    <tr style=\"text-align: right;\">\n",
       "      <th></th>\n",
       "      <th>age</th>\n",
       "      <th>job</th>\n",
       "      <th>marital</th>\n",
       "      <th>education</th>\n",
       "      <th>default</th>\n",
       "      <th>housing</th>\n",
       "      <th>loan</th>\n",
       "      <th>contact</th>\n",
       "      <th>month</th>\n",
       "      <th>day_of_week</th>\n",
       "      <th>...</th>\n",
       "      <th>marital1</th>\n",
       "      <th>education2</th>\n",
       "      <th>default3</th>\n",
       "      <th>housing4</th>\n",
       "      <th>loan5</th>\n",
       "      <th>contact6</th>\n",
       "      <th>month7</th>\n",
       "      <th>day_of_week8</th>\n",
       "      <th>poutcome9</th>\n",
       "      <th>y10</th>\n",
       "    </tr>\n",
       "  </thead>\n",
       "  <tbody>\n",
       "    <tr>\n",
       "      <th>0</th>\n",
       "      <td>56</td>\n",
       "      <td>housemaid</td>\n",
       "      <td>married</td>\n",
       "      <td>basic.4y</td>\n",
       "      <td>no</td>\n",
       "      <td>no</td>\n",
       "      <td>no</td>\n",
       "      <td>telephone</td>\n",
       "      <td>may</td>\n",
       "      <td>mon</td>\n",
       "      <td>...</td>\n",
       "      <td>1</td>\n",
       "      <td>0</td>\n",
       "      <td>0</td>\n",
       "      <td>0</td>\n",
       "      <td>0</td>\n",
       "      <td>1</td>\n",
       "      <td>6</td>\n",
       "      <td>1</td>\n",
       "      <td>1</td>\n",
       "      <td>0</td>\n",
       "    </tr>\n",
       "    <tr>\n",
       "      <th>1</th>\n",
       "      <td>57</td>\n",
       "      <td>services</td>\n",
       "      <td>married</td>\n",
       "      <td>high.school</td>\n",
       "      <td>unknown</td>\n",
       "      <td>no</td>\n",
       "      <td>no</td>\n",
       "      <td>telephone</td>\n",
       "      <td>may</td>\n",
       "      <td>mon</td>\n",
       "      <td>...</td>\n",
       "      <td>1</td>\n",
       "      <td>3</td>\n",
       "      <td>1</td>\n",
       "      <td>0</td>\n",
       "      <td>0</td>\n",
       "      <td>1</td>\n",
       "      <td>6</td>\n",
       "      <td>1</td>\n",
       "      <td>1</td>\n",
       "      <td>0</td>\n",
       "    </tr>\n",
       "  </tbody>\n",
       "</table>\n",
       "<p>2 rows × 31 columns</p>\n",
       "</div>"
      ],
      "text/plain": [
       "   age        job  marital    education  default housing loan    contact  \\\n",
       "0   56  housemaid  married     basic.4y       no      no   no  telephone   \n",
       "1   57   services  married  high.school  unknown      no   no  telephone   \n",
       "\n",
       "  month day_of_week ...  marital1  education2  default3 housing4  loan5  \\\n",
       "0   may         mon ...         1           0         0        0      0   \n",
       "1   may         mon ...         1           3         1        0      0   \n",
       "\n",
       "   contact6  month7  day_of_week8  poutcome9 y10  \n",
       "0         1       6             1          1   0  \n",
       "1         1       6             1          1   0  \n",
       "\n",
       "[2 rows x 31 columns]"
      ]
     },
     "execution_count": 4,
     "metadata": {},
     "output_type": "execute_result"
    }
   ],
   "source": [
    "# tree_based methods need to encoding categorical variables\n",
    "from sklearn import preprocessing\n",
    "le = preprocessing.LabelEncoder()\n",
    "#job encode\n",
    "#le.fit(Bmarket['job'])\n",
    "#jobcode = le.transform(Bmarket['job']) \n",
    "\n",
    "i = 0\n",
    "for col in ['job','marital','education','default','housing','loan','contact','month','day_of_week','poutcome','y']:\n",
    "        le.fit(Bmarket[col])\n",
    "        print (i)\n",
    "        Bmarket.ix[:,col+str(i)] =le.transform(Bmarket[col])\n",
    "        i = i + 1\n",
    "        print (i)\n",
    "#maritalcode = le.transform(Bmarket['marital']) \n",
    "# education encode\n",
    "#le.fit(Bmarket[''])\n",
    "#jobcode = le.transform(Bmarket['job']) \n",
    "#print (i)\n",
    "Bmarket.head(2)\n"
   ]
  },
  {
   "cell_type": "code",
   "execution_count": 7,
   "metadata": {
    "collapsed": false
   },
   "outputs": [
    {
     "data": {
      "text/plain": [
       "Index([u'age', u'job', u'marital', u'education', u'default', u'housing',\n",
       "       u'loan', u'contact', u'month', u'day_of_week', u'campaign', u'pdays',\n",
       "       u'previous', u'poutcome', u'emp.var.rate', u'cons.price.idx',\n",
       "       u'cons.conf.idx', u'euribor3m', u'nr.employed', u'y', u'job0',\n",
       "       u'marital1', u'education2', u'default3', u'housing4', u'loan5',\n",
       "       u'contact6', u'month7', u'day_of_week8', u'poutcome9', u'y10'],\n",
       "      dtype='object')"
      ]
     },
     "execution_count": 7,
     "metadata": {},
     "output_type": "execute_result"
    }
   ],
   "source": [
    "Bmarket.columns"
   ]
  },
  {
   "cell_type": "code",
   "execution_count": 8,
   "metadata": {
    "collapsed": false
   },
   "outputs": [
    {
     "data": {
      "text/html": [
       "<div>\n",
       "<table border=\"1\" class=\"dataframe\">\n",
       "  <thead>\n",
       "    <tr style=\"text-align: right;\">\n",
       "      <th></th>\n",
       "      <th>age</th>\n",
       "      <th>campaign</th>\n",
       "      <th>pdays</th>\n",
       "      <th>previous</th>\n",
       "      <th>emp.var.rate</th>\n",
       "      <th>cons.price.idx</th>\n",
       "      <th>cons.conf.idx</th>\n",
       "      <th>euribor3m</th>\n",
       "      <th>nr.employed</th>\n",
       "      <th>job0</th>\n",
       "      <th>marital1</th>\n",
       "      <th>education2</th>\n",
       "      <th>default3</th>\n",
       "      <th>housing4</th>\n",
       "      <th>loan5</th>\n",
       "      <th>contact6</th>\n",
       "      <th>month7</th>\n",
       "      <th>day_of_week8</th>\n",
       "      <th>poutcome9</th>\n",
       "      <th>y10</th>\n",
       "    </tr>\n",
       "  </thead>\n",
       "  <tbody>\n",
       "    <tr>\n",
       "      <th>0</th>\n",
       "      <td>56</td>\n",
       "      <td>1</td>\n",
       "      <td>999</td>\n",
       "      <td>0</td>\n",
       "      <td>1.1</td>\n",
       "      <td>93.994</td>\n",
       "      <td>-36.4</td>\n",
       "      <td>4.857</td>\n",
       "      <td>5191.0</td>\n",
       "      <td>3</td>\n",
       "      <td>1</td>\n",
       "      <td>0</td>\n",
       "      <td>0</td>\n",
       "      <td>0</td>\n",
       "      <td>0</td>\n",
       "      <td>1</td>\n",
       "      <td>6</td>\n",
       "      <td>1</td>\n",
       "      <td>1</td>\n",
       "      <td>0</td>\n",
       "    </tr>\n",
       "    <tr>\n",
       "      <th>1</th>\n",
       "      <td>57</td>\n",
       "      <td>1</td>\n",
       "      <td>999</td>\n",
       "      <td>0</td>\n",
       "      <td>1.1</td>\n",
       "      <td>93.994</td>\n",
       "      <td>-36.4</td>\n",
       "      <td>4.857</td>\n",
       "      <td>5191.0</td>\n",
       "      <td>7</td>\n",
       "      <td>1</td>\n",
       "      <td>3</td>\n",
       "      <td>1</td>\n",
       "      <td>0</td>\n",
       "      <td>0</td>\n",
       "      <td>1</td>\n",
       "      <td>6</td>\n",
       "      <td>1</td>\n",
       "      <td>1</td>\n",
       "      <td>0</td>\n",
       "    </tr>\n",
       "  </tbody>\n",
       "</table>\n",
       "</div>"
      ],
      "text/plain": [
       "   age  campaign  pdays  previous  emp.var.rate  cons.price.idx  \\\n",
       "0   56         1    999         0           1.1          93.994   \n",
       "1   57         1    999         0           1.1          93.994   \n",
       "\n",
       "   cons.conf.idx  euribor3m  nr.employed  job0  marital1  education2  \\\n",
       "0          -36.4      4.857       5191.0     3         1           0   \n",
       "1          -36.4      4.857       5191.0     7         1           3   \n",
       "\n",
       "   default3  housing4  loan5  contact6  month7  day_of_week8  poutcome9  y10  \n",
       "0         0         0      0         1       6             1          1    0  \n",
       "1         1         0      0         1       6             1          1    0  "
      ]
     },
     "execution_count": 8,
     "metadata": {},
     "output_type": "execute_result"
    }
   ],
   "source": [
    "## reformat the data frame just run once\n",
    "Bmarket.drop(Bmarket.columns[[1,2,3,4,5,6,7,8,9,13,19]], axis = 1, inplace = True)\n",
    "Bmarket.head(2)"
   ]
  },
  {
   "cell_type": "code",
   "execution_count": 9,
   "metadata": {
    "collapsed": false
   },
   "outputs": [
    {
     "name": "stdout",
     "output_type": "stream",
     "text": [
      "32950\n",
      "8238\n"
     ]
    }
   ],
   "source": [
    "# spliting the dataset to train and test\n",
    "#split the data set into train and test at 80/20\n",
    "import sklearn\n",
    "import sklearn.cross_validation\n",
    "train, test = sklearn.cross_validation.train_test_split(Bmarket, train_size = 0.8)\n",
    "# varify the train and test\n",
    "print (len(train.index))\n",
    "print (len(test.index))\n",
    "x_train = train.ix[:, train.columns != 'y10']\n",
    "x_test = test.ix[:, test.columns != 'y10']\n",
    "y_test = test['y10']\n",
    "y_train = train['y10']"
   ]
  },
  {
   "cell_type": "code",
   "execution_count": 10,
   "metadata": {
    "collapsed": false
   },
   "outputs": [],
   "source": [
    "# building decision tree model\n",
    "from sklearn import tree\n",
    "DT = tree.DecisionTreeClassifier()\n",
    "DT1 = DT.fit(x_train, y_train)"
   ]
  },
  {
   "cell_type": "code",
   "execution_count": 11,
   "metadata": {
    "collapsed": false
   },
   "outputs": [
    {
     "name": "stdout",
     "output_type": "stream",
     "text": [
      "0.995265553869\n",
      "0.838674435543\n"
     ]
    }
   ],
   "source": [
    "print (DT1.score(x_train,y_train))  # score is 0.99344\n",
    "print (DT1.score(x_test, y_test))   # score is 0.8377  over fitting"
   ]
  },
  {
   "cell_type": "code",
   "execution_count": 104,
   "metadata": {
    "collapsed": false
   },
   "outputs": [],
   "source": [
    "# Since DecisionTreeClassifier does not support prune in python\n",
    "#output the data for R:\n",
    "Bmarket.to_csv('BmarketForR.csv', index = False)"
   ]
  },
  {
   "cell_type": "code",
   "execution_count": 13,
   "metadata": {
    "collapsed": true
   },
   "outputs": [],
   "source": [
    "# starting RandomForest model\n",
    "from sklearn.ensemble import RandomForestClassifier\n",
    "rf = RandomForestClassifier(n_estimators=100, max_depth=20, n_jobs=7, )"
   ]
  },
  {
   "cell_type": "code",
   "execution_count": 14,
   "metadata": {
    "collapsed": true
   },
   "outputs": [],
   "source": [
    "# perform model evaluation\n",
    "# build model evaluation function\n",
    "from __future__ import print_function\n",
    "import sklearn.metrics\n",
    "import time\n",
    "\n",
    "def evaluate_model(clf):\n",
    "    \"\"\"Scores a model using log loss with the created train and test sets.\"\"\"\n",
    "    start = time.time()\n",
    "    clf.fit(x_train, y_train)\n",
    "    train_loss = sklearn.metrics.log_loss(y_train, clf.predict_proba(x_train))\n",
    "    test_loss = sklearn.metrics.log_loss(y_test, clf.predict_proba(x_test))\n",
    "    print(\"Train score:\", train_loss)\n",
    "    print(\"Test score:\", test_loss)\n",
    "    print(\"Total time:\", time.time() - start)\n",
    "    print()\n",
    "    return test_loss"
   ]
  },
  {
   "cell_type": "code",
   "execution_count": 15,
   "metadata": {
    "collapsed": false
   },
   "outputs": [
    {
     "name": "stdout",
     "output_type": "stream",
     "text": [
      "Train score: 0.104902500819\n",
      "Test score: 0.287045190667\n",
      "Total time: 3.1289999485\n",
      "\n"
     ]
    },
    {
     "data": {
      "text/plain": [
       "0.28704519066729123"
      ]
     },
     "execution_count": 15,
     "metadata": {},
     "output_type": "execute_result"
    }
   ],
   "source": [
    "# test run on evaluation the model\n",
    "evaluate_model(rf)"
   ]
  },
  {
   "cell_type": "code",
   "execution_count": 74,
   "metadata": {
    "collapsed": false
   },
   "outputs": [
    {
     "name": "stdout",
     "output_type": "stream",
     "text": [
      "32950\n",
      "32950\n"
     ]
    }
   ],
   "source": [
    "print(len(x_train.index))\n",
    "print(len(y_train))"
   ]
  },
  {
   "cell_type": "code",
   "execution_count": 16,
   "metadata": {
    "collapsed": false
   },
   "outputs": [
    {
     "data": {
      "text/plain": [
       "[<matplotlib.lines.Line2D at 0xc39b748>]"
      ]
     },
     "execution_count": 16,
     "metadata": {},
     "output_type": "execute_result"
    },
    {
     "data": {
      "image/png": "[encoded data removed]",
      "text/plain": [
       "<matplotlib.figure.Figure at 0x103ff630>"
      ]
     },
     "metadata": {},
     "output_type": "display_data"
    }
   ],
   "source": [
    "import sklearn.cross_validation\n",
    "import numpy as np\n",
    "import sklearn.learning_curve\n",
    "import matplotlib.pyplot as plt\n",
    "%matplotlib inline\n",
    "max_depths = [1,2,3,4,5,6,7,8] # FILL ME IN\n",
    "train_scores, test_scores = sklearn.learning_curve.validation_curve(\n",
    "    RandomForestClassifier(), x_train, y_train, 'max_depth', max_depths)\n",
    "plt.plot(np.mean(train_scores, axis=1), label='Train')\n",
    "plt.plot(np.mean(test_scores, axis=1), label='Test')\n",
    "# based on the plot the max_depth = 2 or 3"
   ]
  },
  {
   "cell_type": "code",
   "execution_count": null,
   "metadata": {
    "collapsed": true
   },
   "outputs": [],
   "source": []
  },
  {
   "cell_type": "code",
   "execution_count": 23,
   "metadata": {
    "collapsed": false
   },
   "outputs": [
    {
     "name": "stdout",
     "output_type": "stream",
     "text": [
      "Train score: 0.299543551654\n",
      "Test score: 0.299561308708\n",
      "Total time: 241.877999783\n",
      "\n"
     ]
    },
    {
     "data": {
      "text/plain": [
       "0.29956130870835507"
      ]
     },
     "execution_count": 23,
     "metadata": {},
     "output_type": "execute_result"
    }
   ],
   "source": [
    "# grid search for the best params\n",
    "from sklearn.grid_search import GridSearchCV\n",
    "params = {'class_weight' : [{1:4},{1:3},{1:2}]}\n",
    "grid = GridSearchCV(RandomForestClassifier(max_depth=4, n_estimators = 1000,max_features = 'log2'), \n",
    "                    params, scoring='log_loss')\n",
    "evaluate_model(grid)"
   ]
  },
  {
   "cell_type": "code",
   "execution_count": 24,
   "metadata": {
    "collapsed": false
   },
   "outputs": [
    {
     "data": {
      "text/plain": [
       "RandomForestClassifier(bootstrap=True, class_weight={1: 2}, criterion='gini',\n",
       "            max_depth=4, max_features='log2', max_leaf_nodes=None,\n",
       "            min_samples_leaf=1, min_samples_split=2,\n",
       "            min_weight_fraction_leaf=0.0, n_estimators=1000, n_jobs=1,\n",
       "            oob_score=False, random_state=None, verbose=0,\n",
       "            warm_start=False)"
      ]
     },
     "execution_count": 24,
     "metadata": {},
     "output_type": "execute_result"
    }
   ],
   "source": [
    "grid.best_estimator_"
   ]
  },
  {
   "cell_type": "code",
   "execution_count": 35,
   "metadata": {
    "collapsed": true
   },
   "outputs": [],
   "source": [
    "rf_MD = RandomForestClassifier(n_estimators=1000, max_depth=4, n_jobs=1,max_features='log2',class_weight={1:6} )"
   ]
  },
  {
   "cell_type": "code",
   "execution_count": 36,
   "metadata": {
    "collapsed": false
   },
   "outputs": [
    {
     "data": {
      "text/plain": [
       "RandomForestClassifier(bootstrap=True, class_weight={1: 6}, criterion='gini',\n",
       "            max_depth=4, max_features='log2', max_leaf_nodes=None,\n",
       "            min_samples_leaf=1, min_samples_split=2,\n",
       "            min_weight_fraction_leaf=0.0, n_estimators=1000, n_jobs=1,\n",
       "            oob_score=False, random_state=None, verbose=0,\n",
       "            warm_start=False)"
      ]
     },
     "execution_count": 36,
     "metadata": {},
     "output_type": "execute_result"
    }
   ],
   "source": [
    "rf_MD.fit(x_train,y_train)"
   ]
  },
  {
   "cell_type": "code",
   "execution_count": 37,
   "metadata": {
    "collapsed": false
   },
   "outputs": [
    {
     "data": {
      "text/plain": [
       "0.84003034901365703"
      ]
     },
     "execution_count": 37,
     "metadata": {},
     "output_type": "execute_result"
    }
   ],
   "source": [
    "from  sklearn.metrics import classification_report\n",
    "rf_MD.score(x_train,y_train)  # 10000 trees: 0.89885  100 trees: 0.89875, 100000: 0.89970\n"
   ]
  },
  {
   "cell_type": "code",
   "execution_count": 38,
   "metadata": {
    "collapsed": false
   },
   "outputs": [
    {
     "name": "stdout",
     "output_type": "stream",
     "text": [
      "             precision    recall  f1-score   support\n",
      "\n",
      "    class 0       0.95      0.87      0.91     29224\n",
      "    class 1       0.37      0.62      0.47      3726\n",
      "\n",
      "avg / total       0.88      0.84      0.86     32950\n",
      "\n"
     ]
    }
   ],
   "source": [
    "rf.Predict = rf_MD.predict(x_train)\n",
    "target_names = ['class 0','class 1']\n",
    "print (classification_report(y_train,rf.Predict, target_names = target_names))\n"
   ]
  },
  {
   "cell_type": "code",
   "execution_count": 39,
   "metadata": {
    "collapsed": false
   },
   "outputs": [
    {
     "name": "stdout",
     "output_type": "stream",
     "text": [
      "             precision    recall  f1-score   support\n",
      "\n",
      "    class 0       0.95      0.87      0.91      7324\n",
      "    class 1       0.37      0.61      0.46       914\n",
      "\n",
      "avg / total       0.88      0.84      0.86      8238\n",
      "\n"
     ]
    }
   ],
   "source": [
    "rf.PredictTest = rf_MD.predict(x_test)\n",
    "target_names = ['class 0','class 1']\n",
    "print (classification_report(y_test,rf.PredictTest, target_names = target_names))\n",
    "# conclusion: \n",
    "#the best parameter:n_estimators=1000, max_depth=4, n_jobs=1,max_features='log2',class_weight={1:6} "
   ]
  },
  {
   "cell_type": "code",
   "execution_count": 48,
   "metadata": {
    "collapsed": false
   },
   "outputs": [
    {
     "data": {
      "image/png": "[encoded data removed]",
      "text/plain": [
       "<matplotlib.figure.Figure at 0x71e21d68>"
      ]
     },
     "metadata": {},
     "output_type": "display_data"
    }
   ],
   "source": [
    "feature_importance = rf.feature_importances_\n",
    "#make importances relative to max importance\n",
    "feature_importance = 100.0*(feature_importance / feature_importance.max())\n",
    "sorted_idx =np.argsort(feature_importance)\n",
    "pos = np.arange(sorted_idx.shape[0]) + 0.5\n",
    "plt.barh(pos, feature_importance[sorted_idx], align='center')\n",
    "plt.yticks(pos,Bmarket.columns[sorted_idx])\n",
    "plt.xlabel('Relative Importance')\n",
    "plt.title('Variable Importance')\n",
    "plt.show()"
   ]
  },
  {
   "cell_type": "code",
   "execution_count": 49,
   "metadata": {
    "collapsed": false
   },
   "outputs": [
    {
     "data": {
      "text/html": [
       "<div>\n",
       "<table border=\"1\" class=\"dataframe\">\n",
       "  <thead>\n",
       "    <tr style=\"text-align: right;\">\n",
       "      <th></th>\n",
       "      <th>age</th>\n",
       "      <th>campaign</th>\n",
       "      <th>pdays</th>\n",
       "      <th>previous</th>\n",
       "      <th>emp.var.rate</th>\n",
       "      <th>cons.price.idx</th>\n",
       "      <th>cons.conf.idx</th>\n",
       "      <th>euribor3m</th>\n",
       "      <th>nr.employed</th>\n",
       "      <th>job0</th>\n",
       "      <th>marital1</th>\n",
       "      <th>education2</th>\n",
       "      <th>default3</th>\n",
       "      <th>housing4</th>\n",
       "      <th>loan5</th>\n",
       "      <th>contact6</th>\n",
       "      <th>month7</th>\n",
       "      <th>day_of_week8</th>\n",
       "      <th>poutcome9</th>\n",
       "      <th>y10</th>\n",
       "    </tr>\n",
       "  </thead>\n",
       "  <tbody>\n",
       "    <tr>\n",
       "      <th>0</th>\n",
       "      <td>56</td>\n",
       "      <td>1</td>\n",
       "      <td>999</td>\n",
       "      <td>0</td>\n",
       "      <td>1.1</td>\n",
       "      <td>93.994</td>\n",
       "      <td>-36.4</td>\n",
       "      <td>4.857</td>\n",
       "      <td>5191.0</td>\n",
       "      <td>3</td>\n",
       "      <td>1</td>\n",
       "      <td>0</td>\n",
       "      <td>0</td>\n",
       "      <td>0</td>\n",
       "      <td>0</td>\n",
       "      <td>1</td>\n",
       "      <td>6</td>\n",
       "      <td>1</td>\n",
       "      <td>1</td>\n",
       "      <td>0</td>\n",
       "    </tr>\n",
       "    <tr>\n",
       "      <th>1</th>\n",
       "      <td>57</td>\n",
       "      <td>1</td>\n",
       "      <td>999</td>\n",
       "      <td>0</td>\n",
       "      <td>1.1</td>\n",
       "      <td>93.994</td>\n",
       "      <td>-36.4</td>\n",
       "      <td>4.857</td>\n",
       "      <td>5191.0</td>\n",
       "      <td>7</td>\n",
       "      <td>1</td>\n",
       "      <td>3</td>\n",
       "      <td>1</td>\n",
       "      <td>0</td>\n",
       "      <td>0</td>\n",
       "      <td>1</td>\n",
       "      <td>6</td>\n",
       "      <td>1</td>\n",
       "      <td>1</td>\n",
       "      <td>0</td>\n",
       "    </tr>\n",
       "  </tbody>\n",
       "</table>\n",
       "</div>"
      ],
      "text/plain": [
       "   age  campaign  pdays  previous  emp.var.rate  cons.price.idx  \\\n",
       "0   56         1    999         0           1.1          93.994   \n",
       "1   57         1    999         0           1.1          93.994   \n",
       "\n",
       "   cons.conf.idx  euribor3m  nr.employed  job0  marital1  education2  \\\n",
       "0          -36.4      4.857       5191.0     3         1           0   \n",
       "1          -36.4      4.857       5191.0     7         1           3   \n",
       "\n",
       "   default3  housing4  loan5  contact6  month7  day_of_week8  poutcome9  y10  \n",
       "0         0         0      0         1       6             1          1    0  \n",
       "1         1         0      0         1       6             1          1    0  "
      ]
     },
     "execution_count": 49,
     "metadata": {},
     "output_type": "execute_result"
    }
   ],
   "source": [
    "Bmarket.head(2)"
   ]
  },
  {
   "cell_type": "code",
   "execution_count": 40,
   "metadata": {
    "collapsed": false
   },
   "outputs": [
    {
     "name": "stdout",
     "output_type": "stream",
     "text": [
      "Train score: 0.266638472454\n",
      "Test score: 0.270037136845\n",
      "Total time: 4.37699985504\n",
      "\n"
     ]
    },
    {
     "data": {
      "text/plain": [
       "0.27003713684498165"
      ]
     },
     "execution_count": 40,
     "metadata": {},
     "output_type": "execute_result"
    }
   ],
   "source": [
    "# building grading boosting model default n_estimatoers = 100\n",
    "from sklearn.ensemble import GradientBoostingClassifier\n",
    "\n",
    "gbt = GradientBoostingClassifier()\n",
    "evaluate_model(gbt)"
   ]
  },
  {
   "cell_type": "code",
   "execution_count": 44,
   "metadata": {
    "collapsed": false
   },
   "outputs": [
    {
     "data": {
      "text/plain": [
       "100"
      ]
     },
     "execution_count": 44,
     "metadata": {},
     "output_type": "execute_result"
    }
   ],
   "source": [
    "gbt.n_estimators  # default number"
   ]
  },
  {
   "cell_type": "code",
   "execution_count": 45,
   "metadata": {
    "collapsed": true
   },
   "outputs": [],
   "source": [
    "def plot_gbt_learning(gbt):\n",
    "    test_score = np.empty(len(gbt.estimators_))\n",
    "    train_score = np.empty(len(gbt.estimators_))\n",
    "    for i, pred in enumerate(gbt.staged_predict_proba(x_test)):\n",
    "        test_score[i] = sklearn.metrics.log_loss(y_test, pred)\n",
    "    for i, pred in enumerate(gbt.staged_predict_proba(x_train)):\n",
    "        train_score[i] = sklearn.metrics.log_loss(y_train, pred)\n",
    "    plt.figure(figsize=(8,6))\n",
    "    plt.plot(np.arange(gbt.n_estimators) + 1, test_score, label='Test') \n",
    "    plt.plot(np.arange(gbt.n_estimators) + 1, train_score, label='Train')"
   ]
  },
  {
   "cell_type": "code",
   "execution_count": 46,
   "metadata": {
    "collapsed": false
   },
   "outputs": [
    {
     "data": {
      "image/png": "[encoded data removed]",
      "text/plain": [
       "<matplotlib.figure.Figure at 0x14aa6a20>"
      ]
     },
     "metadata": {},
     "output_type": "display_data"
    }
   ],
   "source": [
    "plot_gbt_learning(gbt)"
   ]
  },
  {
   "cell_type": "code",
   "execution_count": 47,
   "metadata": {
    "collapsed": false
   },
   "outputs": [
    {
     "name": "stdout",
     "output_type": "stream",
     "text": [
      "Train score: 0.256413371071\n",
      "Test score: 0.267923209087\n",
      "Total time: 5.55900001526\n",
      "\n"
     ]
    },
    {
     "data": {
      "image/png": "[encoded data removed]",
      "text/plain": [
       "<matplotlib.figure.Figure at 0x19188f28>"
      ]
     },
     "metadata": {},
     "output_type": "display_data"
    }
   ],
   "source": [
    "# This shows overfittin\n",
    "gbt = GradientBoostingClassifier(n_estimators=150, learning_rate=0.2)\n",
    "evaluate_model(gbt)     # 500 estimators: 0.253 for Train, 0.27608 for test\n",
    "plot_gbt_learning(gbt)"
   ]
  },
  {
   "cell_type": "code",
   "execution_count": 52,
   "metadata": {
    "collapsed": false
   },
   "outputs": [
    {
     "name": "stdout",
     "output_type": "stream",
     "text": [
      "Train score: 0.263757424092\n",
      "Test score: 0.268916021614\n",
      "Total time: 245.854000092\n",
      "\n"
     ]
    },
    {
     "data": {
      "text/plain": [
       "[mean: -0.27367, std: 0.00192, params: {'n_estimators': 60, 'subsample': 0.5, 'learning_rate': 0.1, 'max_depth': 4},\n",
       " mean: -0.27243, std: 0.00158, params: {'n_estimators': 60, 'subsample': 1.0, 'learning_rate': 0.1, 'max_depth': 4},\n",
       " mean: -0.27422, std: 0.00152, params: {'n_estimators': 80, 'subsample': 0.5, 'learning_rate': 0.1, 'max_depth': 4},\n",
       " mean: -0.27258, std: 0.00173, params: {'n_estimators': 80, 'subsample': 1.0, 'learning_rate': 0.1, 'max_depth': 4},\n",
       " mean: -0.27386, std: 0.00200, params: {'n_estimators': 100, 'subsample': 0.5, 'learning_rate': 0.1, 'max_depth': 4},\n",
       " mean: -0.27285, std: 0.00186, params: {'n_estimators': 100, 'subsample': 1.0, 'learning_rate': 0.1, 'max_depth': 4},\n",
       " mean: -0.27383, std: 0.00129, params: {'n_estimators': 60, 'subsample': 0.5, 'learning_rate': 0.1, 'max_depth': 5},\n",
       " mean: -0.27267, std: 0.00136, params: {'n_estimators': 60, 'subsample': 1.0, 'learning_rate': 0.1, 'max_depth': 5},\n",
       " mean: -0.27428, std: 0.00202, params: {'n_estimators': 80, 'subsample': 0.5, 'learning_rate': 0.1, 'max_depth': 5},\n",
       " mean: -0.27302, std: 0.00176, params: {'n_estimators': 80, 'subsample': 1.0, 'learning_rate': 0.1, 'max_depth': 5},\n",
       " mean: -0.27508, std: 0.00156, params: {'n_estimators': 100, 'subsample': 0.5, 'learning_rate': 0.1, 'max_depth': 5},\n",
       " mean: -0.27361, std: 0.00187, params: {'n_estimators': 100, 'subsample': 1.0, 'learning_rate': 0.1, 'max_depth': 5},\n",
       " mean: -0.27550, std: 0.00169, params: {'n_estimators': 60, 'subsample': 0.5, 'learning_rate': 0.15, 'max_depth': 4},\n",
       " mean: -0.27270, std: 0.00163, params: {'n_estimators': 60, 'subsample': 1.0, 'learning_rate': 0.15, 'max_depth': 4},\n",
       " mean: -0.27555, std: 0.00250, params: {'n_estimators': 80, 'subsample': 0.5, 'learning_rate': 0.15, 'max_depth': 4},\n",
       " mean: -0.27296, std: 0.00163, params: {'n_estimators': 80, 'subsample': 1.0, 'learning_rate': 0.15, 'max_depth': 4},\n",
       " mean: -0.27561, std: 0.00236, params: {'n_estimators': 100, 'subsample': 0.5, 'learning_rate': 0.15, 'max_depth': 4},\n",
       " mean: -0.27330, std: 0.00186, params: {'n_estimators': 100, 'subsample': 1.0, 'learning_rate': 0.15, 'max_depth': 4},\n",
       " mean: -0.27704, std: 0.00070, params: {'n_estimators': 60, 'subsample': 0.5, 'learning_rate': 0.15, 'max_depth': 5},\n",
       " mean: -0.27403, std: 0.00161, params: {'n_estimators': 60, 'subsample': 1.0, 'learning_rate': 0.15, 'max_depth': 5},\n",
       " mean: -0.27910, std: 0.00165, params: {'n_estimators': 80, 'subsample': 0.5, 'learning_rate': 0.15, 'max_depth': 5},\n",
       " mean: -0.27524, std: 0.00214, params: {'n_estimators': 80, 'subsample': 1.0, 'learning_rate': 0.15, 'max_depth': 5},\n",
       " mean: -0.28093, std: 0.00262, params: {'n_estimators': 100, 'subsample': 0.5, 'learning_rate': 0.15, 'max_depth': 5},\n",
       " mean: -0.27677, std: 0.00267, params: {'n_estimators': 100, 'subsample': 1.0, 'learning_rate': 0.15, 'max_depth': 5}]"
      ]
     },
     "execution_count": 52,
     "metadata": {},
     "output_type": "execute_result"
    }
   ],
   "source": [
    "# grid search for the best parameters\n",
    "params = {'max_depth' : [4,5], 'n_estimators':[60,80, 100],'learning_rate': [0.1,0.15], \n",
    "          'subsample': [0.5,1.0]}\n",
    "grid = GridSearchCV(GradientBoostingClassifier(), params, scoring='log_loss')\n",
    "evaluate_model(grid)\n",
    "grid.grid_scores_"
   ]
  },
  {
   "cell_type": "code",
   "execution_count": 54,
   "metadata": {
    "collapsed": false
   },
   "outputs": [
    {
     "data": {
      "text/plain": [
       "GradientBoostingClassifier(init=None, learning_rate=0.1, loss='deviance',\n",
       "              max_depth=4, max_features=None, max_leaf_nodes=None,\n",
       "              min_samples_leaf=1, min_samples_split=2,\n",
       "              min_weight_fraction_leaf=0.0, n_estimators=60,\n",
       "              presort='auto', random_state=None, subsample=1.0, verbose=0,\n",
       "              warm_start=False)"
      ]
     },
     "execution_count": 54,
     "metadata": {},
     "output_type": "execute_result"
    }
   ],
   "source": [
    "grid.best_estimator_"
   ]
  },
  {
   "cell_type": "code",
   "execution_count": 85,
   "metadata": {
    "collapsed": false
   },
   "outputs": [
    {
     "data": {
      "text/plain": [
       "0.85271623672230656"
      ]
     },
     "execution_count": 85,
     "metadata": {},
     "output_type": "execute_result"
    }
   ],
   "source": [
    "params = {'max_depth' : 4, 'n_estimators': 60,'learning_rate': 0.1}\n",
    "gbt = GradientBoostingClassifier(**params)\n",
    "sample_weight = map(lambda x: 1 if x == 0 else 7, y_train)\n",
    "#gbt.fit(x_train,y_train)\n",
    "gbt.fit(x_train,y_train, sample_weight = sample_weight)\n",
    "gbt.score(x_train,y_train)\n",
    "\n"
   ]
  },
  {
   "cell_type": "code",
   "execution_count": 86,
   "metadata": {
    "collapsed": false
   },
   "outputs": [
    {
     "name": "stdout",
     "output_type": "stream",
     "text": [
      "             precision    recall  f1-score   support\n",
      "\n",
      "    class 0       0.95      0.88      0.91     29224\n",
      "    class 1       0.40      0.63      0.49      3726\n",
      "\n",
      "avg / total       0.89      0.85      0.87     32950\n",
      "\n"
     ]
    }
   ],
   "source": [
    "gbt.Predict = gbt.predict(x_train)\n",
    "target_names = ['class 0','class 1']\n",
    "print (classification_report(y_train,gbt.Predict, target_names = target_names))"
   ]
  },
  {
   "cell_type": "code",
   "execution_count": 87,
   "metadata": {
    "collapsed": false
   },
   "outputs": [
    {
     "name": "stdout",
     "output_type": "stream",
     "text": [
      "             precision    recall  f1-score   support\n",
      "\n",
      "    class 0       0.95      0.88      0.91      7324\n",
      "    class 1       0.39      0.63      0.48       914\n",
      "\n",
      "avg / total       0.89      0.85      0.86      8238\n",
      "\n"
     ]
    }
   ],
   "source": [
    "gbt.Predict = gbt.predict(x_test)\n",
    "target_names = ['class 0','class 1']\n",
    "print (classification_report(y_test,gbt.Predict, target_names = target_names))"
   ]
  },
  {
   "cell_type": "code",
   "execution_count": 88,
   "metadata": {
    "collapsed": false
   },
   "outputs": [
    {
     "data": {
      "image/png": "[encoded data removed]",
      "text/plain": [
       "<matplotlib.figure.Figure at 0x16ffd0b8>"
      ]
     },
     "metadata": {},
     "output_type": "display_data"
    }
   ],
   "source": [
    "feature_importance = gbt.feature_importances_\n",
    "#make importances relative to max importance\n",
    "feature_importance = 100.0*(feature_importance / feature_importance.max())\n",
    "sorted_idx =np.argsort(feature_importance)\n",
    "pos = np.arange(sorted_idx.shape[0]) + 0.5\n",
    "plt.barh(pos, feature_importance[sorted_idx], align='center')\n",
    "plt.yticks(pos,Bmarket.columns[sorted_idx])\n",
    "plt.xlabel('Relative Importance')\n",
    "plt.title('Variable Importance')\n",
    "plt.show()"
   ]
  },
  {
   "cell_type": "code",
   "execution_count": 93,
   "metadata": {
    "collapsed": false
   },
   "outputs": [
    {
     "data": {
      "text/plain": [
       "SVC(C=1.0, cache_size=200, class_weight={1: 9}, coef0=0.0,\n",
       "  decision_function_shape=None, degree=3, gamma='auto', kernel='sigmoid',\n",
       "  max_iter=-1, probability=True, random_state=None, shrinking=True,\n",
       "  tol=0.01, verbose=False)"
      ]
     },
     "execution_count": 93,
     "metadata": {},
     "output_type": "execute_result"
    }
   ],
   "source": [
    "# Support Vector Classification\n",
    "from sklearn.svm import SVC\n",
    "clf=SVC()\n",
    "clf.fit(x_train,y_train)\n",
    "\n",
    "\n"
   ]
  },
  {
   "cell_type": "code",
   "execution_count": 99,
   "metadata": {
    "collapsed": false
   },
   "outputs": [
    {
     "data": {
      "text/plain": [
       "SVC(C=1.0, cache_size=200, class_weight={1: 8}, coef0=0.0,\n",
       "  decision_function_shape=None, degree=3, gamma='auto', kernel='poly',\n",
       "  max_iter=-1, probability=True, random_state=None, shrinking=True,\n",
       "  tol=0.01, verbose=False)"
      ]
     },
     "execution_count": 99,
     "metadata": {},
     "output_type": "execute_result"
    }
   ],
   "source": [
    "SVC(C=1.0, class_weight = {1:8}, coef0=0.0,\n",
    "   decision_function_shape = None,degree = 3, gamma = 'auto', kernel = 'poly',\n",
    "   max_iter = -1, probability = True, random_state= None, shrinking=True,\n",
    "   tol = 0.01, verbose = False)"
   ]
  },
  {
   "cell_type": "code",
   "execution_count": 100,
   "metadata": {
    "collapsed": false
   },
   "outputs": [],
   "source": [
    "# predcit on train set\n",
    "PredictFromSVC = clf.predict(x_train)\n",
    "PredictOnTest = clf.predict(x_test)\n"
   ]
  },
  {
   "cell_type": "code",
   "execution_count": 101,
   "metadata": {
    "collapsed": false
   },
   "outputs": [
    {
     "name": "stdout",
     "output_type": "stream",
     "text": [
      "             precision    recall  f1-score   support\n",
      "\n",
      "    class 0       0.93      1.00      0.96     29224\n",
      "    class 1       0.94      0.37      0.53      3726\n",
      "\n",
      "avg / total       0.93      0.93      0.91     32950\n",
      "\n",
      "             precision    recall  f1-score   support\n",
      "\n",
      "    class 0       0.91      0.98      0.94      7324\n",
      "    class 1       0.57      0.18      0.27       914\n",
      "\n",
      "avg / total       0.87      0.89      0.87      8238\n",
      "\n"
     ]
    }
   ],
   "source": [
    "target_names = ['class 0','class 1']\n",
    "print (classification_report(y_train,PredictFromSVC, target_names = target_names))\n",
    "print (classification_report(y_test,PredictOnTest, target_names = target_names))"
   ]
  },
  {
   "cell_type": "code",
   "execution_count": null,
   "metadata": {
    "collapsed": false
   },
   "outputs": [],
   "source": [
    "# the above results seems overfitting\n",
    "params = {'C' : [0.5, 1.0, 1.5], 'kernel':['linear','poly','rbf','sigmoid'],'degree': [2,3], \n",
    "          'coef0': [0,1.0], 'class_weight' :[{1:9},{1:8}]}\n",
    "grid = GridSearchCV(SVC(probability = True), params, scoring='log_loss')\n",
    "evaluate_model(grid)\n",
    "grid.grid_scores_"
   ]
  },
  {
   "cell_type": "code",
   "execution_count": null,
   "metadata": {
    "collapsed": true
   },
   "outputs": [],
   "source": []
  }
 ],
 "metadata": {
  "kernelspec": {
   "display_name": "Python [Root]",
   "language": "python",
   "name": "Python [Root]"
  },
  "language_info": {
   "codemirror_mode": {
    "name": "ipython",
    "version": 2
   },
   "file_extension": ".py",
   "mimetype": "text/x-python",
   "name": "python",
   "nbconvert_exporter": "python",
   "pygments_lexer": "ipython2",
   "version": "2.7.12"
  }
 },
 "nbformat": 4,
 "nbformat_minor": 0
}
