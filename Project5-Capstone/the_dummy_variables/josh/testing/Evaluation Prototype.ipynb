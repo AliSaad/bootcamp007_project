{
 "cells": [
  {
   "cell_type": "code",
   "execution_count": 87,
   "metadata": {
    "collapsed": false
   },
   "outputs": [
    {
     "name": "stdout",
     "output_type": "stream",
     "text": [
      "mAP: 0.0235048054948\n"
     ]
    }
   ],
   "source": [
    "import os\n",
    "\n",
    "# Get paths to solution and submission file\n",
    "path_to_data = '/Users/alexanderlitven/Courses/' \\\n",
    "    + 'nyc_data_science_academy/projects/capstone/kaggle/data'\n",
    "path_to_solution = os.path.join(path_to_data, 'submission_solution.txt')\n",
    "\n",
    "path_to_submissions = '/Users/alexanderlitven/Courses/' \\\n",
    "    + 'nyc_data_science_academy/projects/capstone/kaggle/submissions'\n",
    "path_to_submission = os.path.join(path_to_submissions, 'popular_submission.txt')\n",
    "\n",
    "mAP = compute_mAP(path_to_solution, path_to_submission)\n",
    "print \"mAP: {}\".format(mAP)"
   ]
  },
  {
   "cell_type": "code",
   "execution_count": 86,
   "metadata": {
    "collapsed": true
   },
   "outputs": [],
   "source": [
    "from __future__ import division\n",
    "\n",
    "def precision_at_k(user_songs, predicted_songs, k):\n",
    "    '''\n",
    "    Compute the precision-at-k, the proportion of correct \n",
    "    recommendations within the top-k of the predicted ranking.\n",
    "    '''\n",
    "    \n",
    "    num_correct = 0\n",
    "    for j in range(k):\n",
    "        i = predicted_songs[j]\n",
    "        if i in user_songs:\n",
    "            num_correct += 1\n",
    "    return num_correct / k\n",
    "\n",
    "def average_precision(user_songs, predicted_songs, tau):\n",
    "    '''\n",
    "    Compute the average precision at each recall point.\n",
    "    '''\n",
    "    n = min(len(user_songs), tau)\n",
    "    total_precision = 0\n",
    "    for k in range(1, tau + 1):\n",
    "        i = predicted_songs[k - 1]\n",
    "        if i in user_songs:\n",
    "            precision = precision_at_k(user_songs, predicted_songs, k)\n",
    "            total_precision += precision\n",
    "    return total_precision / n\n",
    "\n",
    "def compute_mAP(path_to_solution, path_to_submission, tau=500):\n",
    "    '''\n",
    "    Compute the mean average precision of a Kaggle submission file.\n",
    "    '''\n",
    "    true_songs_by_user = open(path_to_solution, 'r').readlines()\n",
    "    predicted_songs_by_user = open(path_to_submission, 'r').readlines()\n",
    "    \n",
    "    mAP = 0\n",
    "    for i in range(len(true_songs_by_user)):\n",
    "        predicted_songs = [int(u) for u in predicted_songs_by_user[i].split()]\n",
    "        user_songs = [int(u) for u in true_songs_by_user[i].split()]\n",
    "        avg_prec = average_precision(user_songs, predicted_songs, tau)\n",
    "        mAP += avg_prec\n",
    "    m = len(true_songs_by_user)\n",
    "    mAP = mAP / m\n",
    "    return mAP"
   ]
  },
  {
   "cell_type": "code",
   "execution_count": null,
   "metadata": {
    "collapsed": true
   },
   "outputs": [],
   "source": [
    "# Get indices corresponding to validation set of users\n",
    "valid_triplets = '/Users/alexanderlitven/Courses/nyc_data_science_academy/projects/capstone/kaggle/data/year1_valid_triplets_visible.txt'\n",
    "triplets = open(valid_triplets, 'r').readlines()\n",
    "valid_users = set([line.split('\\t')[0] for line in triplets])\n",
    "\n",
    "kaggle_users = '/Users/alexanderlitven/Courses/nyc_data_science_academy/projects/capstone/kaggle/data/kaggle_users.txt'\n",
    "users = [l.strip() for l in open(kaggle_users, 'r').readlines()]\n",
    "\n",
    "indices = [users.index(u) for u in valid_users]\n",
    "\n",
    "valid_indices = '/Users/alexanderlitven/Courses/nyc_data_science_academy/projects/capstone/kaggle/data/year1_valid_triplets_visible_indices.txt'\n",
    "with open(valid_indices, 'w') as f:\n",
    "    f.writelines([str(i) + '\\n' for i in indices])"
   ]
  },
  {
   "cell_type": "code",
   "execution_count": 133,
   "metadata": {
    "collapsed": false
   },
   "outputs": [
    {
     "data": {
      "text/plain": [
       "10000"
      ]
     },
     "execution_count": 133,
     "metadata": {},
     "output_type": "execute_result"
    }
   ],
   "source": [
    "len(indices)"
   ]
  },
  {
   "cell_type": "code",
   "execution_count": 1,
   "metadata": {
    "collapsed": false
   },
   "outputs": [
    {
     "ename": "NameError",
     "evalue": "name '__file__' is not defined",
     "output_type": "error",
     "traceback": [
      "\u001b[0;31m---------------------------------------------------------------------------\u001b[0m",
      "\u001b[0;31mNameError\u001b[0m                                 Traceback (most recent call last)",
      "\u001b[0;32m<ipython-input-1-11b758e0f963>\u001b[0m in \u001b[0;36m<module>\u001b[0;34m()\u001b[0m\n\u001b[1;32m      1\u001b[0m \u001b[0;32mimport\u001b[0m \u001b[0mos\u001b[0m\u001b[0;34m\u001b[0m\u001b[0m\n\u001b[0;32m----> 2\u001b[0;31m \u001b[0mfile_dir\u001b[0m \u001b[0;34m=\u001b[0m \u001b[0mos\u001b[0m\u001b[0;34m.\u001b[0m\u001b[0mpath\u001b[0m\u001b[0;34m.\u001b[0m\u001b[0mdirname\u001b[0m\u001b[0;34m(\u001b[0m\u001b[0m__file__\u001b[0m\u001b[0;34m)\u001b[0m\u001b[0;34m\u001b[0m\u001b[0m\n\u001b[0m\u001b[1;32m      3\u001b[0m \u001b[0mproject_dir\u001b[0m \u001b[0;34m=\u001b[0m \u001b[0mos\u001b[0m\u001b[0;34m.\u001b[0m\u001b[0mpath\u001b[0m\u001b[0;34m.\u001b[0m\u001b[0mjoin\u001b[0m\u001b[0;34m(\u001b[0m\u001b[0mfile_dir\u001b[0m\u001b[0;34m,\u001b[0m \u001b[0;34m'../'\u001b[0m\u001b[0;34m)\u001b[0m\u001b[0;34m\u001b[0m\u001b[0m\n",
      "\u001b[0;31mNameError\u001b[0m: name '__file__' is not defined"
     ]
    }
   ],
   "source": [
    "import os\n",
    "file_dir = os.path.dirname(__file__)\n",
    "project_dir = os.path.join(file_dir, '../')"
   ]
  },
  {
   "cell_type": "code",
   "execution_count": null,
   "metadata": {
    "collapsed": true
   },
   "outputs": [],
   "source": []
  }
 ],
 "metadata": {
  "kernelspec": {
   "display_name": "Python 2",
   "language": "python",
   "name": "python2"
  },
  "language_info": {
   "codemirror_mode": {
    "name": "ipython",
    "version": 2
   },
   "file_extension": ".py",
   "mimetype": "text/x-python",
   "name": "python",
   "nbconvert_exporter": "python",
   "pygments_lexer": "ipython2",
   "version": "2.7.12"
  }
 },
 "nbformat": 4,
 "nbformat_minor": 0
}
