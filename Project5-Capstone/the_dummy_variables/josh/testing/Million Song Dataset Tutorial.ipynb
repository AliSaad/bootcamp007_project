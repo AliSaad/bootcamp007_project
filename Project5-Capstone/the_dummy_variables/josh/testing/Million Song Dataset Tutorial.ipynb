{
 "cells": [
  {
   "cell_type": "code",
   "execution_count": null,
   "metadata": {
    "collapsed": false
   },
   "outputs": [],
   "source": [
    "\"\"\"\n",
    "Tutorial for the Million Song Dataset\n",
    "\n",
    "by Thierry Bertin-Mahieux (2011) Columbia University\n",
    "   tb2332@columbia.edu\n",
    "   Copyright 2011 T. Bertin-Mahieux, All Rights Reserved\n",
    "\n",
    "This tutorial will walk you through a quick experiment\n",
    "using the Million Song Dataset (MSD). We will actually be working\n",
    "on the 10K songs subset for speed issues, but the code should\n",
    "transpose seamlessly.\n",
    "\n",
    "In this tutorial, we do simple metadata analysis. We look at\n",
    "which artist has the most songs by iterating over the whole\n",
    "dataset and using an SQLite database.\n",
    "\n",
    "You need to have the MSD code downloaded from GITHUB.\n",
    "See the MSD website for details:\n",
    "http://labrosa.ee.columbia.edu/millionsong/\n",
    "\n",
    "If you have any questions regarding the dataset or this tutorial,\n",
    "please first take a look at the website. Send us an email\n",
    "if you haven't found the answer.\n",
    "\n",
    "Note: this tutorial is developed using Python 2.6\n",
    "      on an Ubuntu machine. PDF created using 'pyreport'.\n",
    "\"\"\"\n",
    "\n",
    "# usual imports\n",
    "import os\n",
    "import sys\n",
    "import time\n",
    "import glob\n",
    "import datetime\n",
    "import sqlite3\n",
    "import numpy as np # get it at: http://numpy.scipy.org/\n",
    "# path to the Million Song Dataset subset (uncompressed)\n",
    "# CHANGE IT TO YOUR LOCAL CONFIGURATION\n",
    "msd_subset_path='data/MillionSongSubset/'\n",
    "msd_subset_data_path=os.path.join(msd_subset_path,'data')\n",
    "msd_subset_addf_path=os.path.join(msd_subset_path,'AdditionalFiles')\n",
    "assert os.path.isdir(msd_subset_path),'wrong path' # sanity check\n",
    "# path to the Million Song Dataset code\n",
    "# CHANGE IT TO YOUR LOCAL CONFIGURATION\n",
    "msd_code_path='data/MSongsDB-master'\n",
    "assert os.path.isdir(msd_code_path),'wrong path' # sanity check\n",
    "# we add some paths to python so we can import MSD code\n",
    "# Ubuntu: you can change the environment variable PYTHONPATH\n",
    "# in your .bashrc file so you do not have to type these lines\n",
    "sys.path.append( os.path.join(msd_code_path,'PythonSrc') )\n",
    "\n",
    "# imports specific to the MSD\n",
    "import hdf5_getters as GETTERS\n",
    "\n",
    "# the following function simply gives us a nice string for\n",
    "# a time lag in seconds\n",
    "def strtimedelta(starttime,stoptime):\n",
    "    return str(datetime.timedelta(seconds=stoptime-starttime))\n",
    "\n",
    "# we define this very useful function to iterate the files\n",
    "def apply_to_all_files(basedir,func=lambda x: x,ext='.h5'):\n",
    "    \"\"\"\n",
    "    From a base directory, go through all subdirectories,\n",
    "    find all files with the given extension, apply the\n",
    "    given function 'func' to all of them.\n",
    "    If no 'func' is passed, we do nothing except counting.\n",
    "    INPUT\n",
    "       basedir  - base directory of the dataset\n",
    "       func     - function to apply to all filenames\n",
    "       ext      - extension, .h5 by default\n",
    "    RETURN\n",
    "       number of files\n",
    "    \"\"\"\n",
    "    cnt = 0\n",
    "    # iterate over all files in all subdirectories\n",
    "    for root, dirs, files in os.walk(basedir):\n",
    "        files = glob.glob(os.path.join(root,'*'+ext))\n",
    "        # count files\n",
    "        cnt += len(files)\n",
    "        # apply function to all files\n",
    "        for f in files :\n",
    "            func(f)       \n",
    "    return cnt\n",
    "\n",
    "# we can now easily count the number of files in the dataset\n",
    "print 'number of song files:',apply_to_all_files(msd_subset_data_path)"
   ]
  },
  {
   "cell_type": "code",
   "execution_count": null,
   "metadata": {
    "collapsed": false
   },
   "outputs": [],
   "source": [
    "# let's now get all artist names in a set(). One nice property:\n",
    "# if we enter many times the same artist, only one will be kept.\n",
    "all_artist_names = set()\n",
    "\n",
    "# we define the function to apply to all files\n",
    "def func_to_get_artist_name(filename):\n",
    "    \"\"\"\n",
    "    This function does 3 simple things:\n",
    "    - open the song file\n",
    "    - get artist ID and put it\n",
    "    - close the file\n",
    "    \"\"\"\n",
    "    h5 = GETTERS.open_h5_file_read(filename)\n",
    "    artist_name = GETTERS.get_artist_name(h5)\n",
    "    all_artist_names.add( artist_name )\n",
    "    h5.close()\n",
    "    \n",
    "# let's apply the previous function to all files\n",
    "# we'll also measure how long it takes\n",
    "t1 = time.time()\n",
    "apply_to_all_files(msd_subset_data_path,func=func_to_get_artist_name)\n",
    "t2 = time.time()\n",
    "print 'all artist names extracted in:',strtimedelta(t1,t2)"
   ]
  },
  {
   "cell_type": "code",
   "execution_count": 99,
   "metadata": {
    "collapsed": false
   },
   "outputs": [
    {
     "name": "stdout",
     "output_type": "stream",
     "text": [
      "all energies extracted in: 0:06:01.161484\n"
     ]
    }
   ],
   "source": [
    "# let's now get all energies in a list. One nice property:\n",
    "# if we enter many times the same artist, only one will be kept.\n",
    "all_energies = list()\n",
    "\n",
    "# we define the function to apply to all files\n",
    "def func_to_get_energy(filename):\n",
    "    \"\"\"\n",
    "    This function does 3 simple things:\n",
    "    - open the song file\n",
    "    - get artist ID and put it\n",
    "    - close the file\n",
    "    \"\"\"\n",
    "    h5 = GETTERS.open_h5_file_read(filename)\n",
    "    energy = GETTERS.get_energy(h5)\n",
    "    all_energies.append(energy)\n",
    "    h5.close()\n",
    "    \n",
    "# let's apply the previous function to all files\n",
    "# we'll also measure how long it takes\n",
    "t1 = time.time()\n",
    "apply_to_all_files(msd_subset_data_path,func=func_to_get_energy)\n",
    "t2 = time.time()\n",
    "print 'all energies extracted in:',strtimedelta(t1,t2)"
   ]
  },
  {
   "cell_type": "code",
   "execution_count": 100,
   "metadata": {
    "collapsed": false
   },
   "outputs": [
    {
     "data": {
      "text/plain": [
       "0.0"
      ]
     },
     "execution_count": 100,
     "metadata": {},
     "output_type": "execute_result"
    }
   ],
   "source": [
    "sum(all_energies)"
   ]
  },
  {
   "cell_type": "code",
   "execution_count": null,
   "metadata": {
    "collapsed": false
   },
   "outputs": [],
   "source": [
    "# let's see some of the content of 'all_artist_names'\n",
    "print 'found',len(all_artist_names),'unique artist names'\n",
    "for k in range(5):\n",
    "    print list(all_artist_names)[k]\n",
    "    "
   ]
  },
  {
   "cell_type": "code",
   "execution_count": null,
   "metadata": {
    "collapsed": false
   },
   "outputs": [],
   "source": [
    "# this is too long, and the work of listing artist names has already\n",
    "# been done. Let's redo the same task using an SQLite database.\n",
    "# We connect to the provided database: track_metadata.db\n",
    "conn = sqlite3.connect(os.path.join(msd_subset_addf_path,\n",
    "                                    'subset_track_metadata.db'))\n",
    "# we build the SQL query\n",
    "q = \"SELECT DISTINCT artist_name FROM songs\"\n",
    "# we query the database\n",
    "t1 = time.time()\n",
    "res = conn.execute(q)\n",
    "all_artist_names_sqlite = res.fetchall()\n",
    "t2 = time.time()\n",
    "print 'all artist names extracted (SQLite) in:',strtimedelta(t1,t2)\n",
    "# we close the connection to the database\n",
    "conn.close()\n",
    "# let's see some of the content\n",
    "for k in range(5):\n",
    "    print all_artist_names_sqlite[k][0]"
   ]
  },
  {
   "cell_type": "code",
   "execution_count": null,
   "metadata": {
    "collapsed": false
   },
   "outputs": [],
   "source": [
    "# now, let's find the artist that has the most songs in the dataset\n",
    "# what we want to work with is artist ID, not artist names. Some artists\n",
    "# have many names, usually because the song is \"featuring someone else\"\n",
    "conn = sqlite3.connect(os.path.join(msd_subset_addf_path,\n",
    "                                    'subset_track_metadata.db'))\n",
    "q = \"SELECT DISTINCT artist_id FROM songs\"\n",
    "res = conn.execute(q)\n",
    "all_artist_ids = map(lambda x: x[0], res.fetchall())\n",
    "conn.close()\n",
    "\n",
    "# The Echo Nest artist id look like:\n",
    "for k in range(4):\n",
    "    print all_artist_ids[k]"
   ]
  },
  {
   "cell_type": "code",
   "execution_count": 65,
   "metadata": {
    "collapsed": false
   },
   "outputs": [
    {
     "data": {
      "text/plain": [
       "['track_id',\n",
       " 'title',\n",
       " 'song_id',\n",
       " 'release',\n",
       " 'artist_id',\n",
       " 'artist_mbid',\n",
       " 'artist_name',\n",
       " 'duration',\n",
       " 'artist_familiarity',\n",
       " 'artist_hotttnesss',\n",
       " 'year']"
      ]
     },
     "execution_count": 65,
     "metadata": {},
     "output_type": "execute_result"
    }
   ],
   "source": [
    "conn = sqlite3.connect(os.path.join(msd_subset_addf_path,\n",
    "                                    'subset_track_metadata.db'))\n",
    "cursor = conn.execute('select * from songs')\n",
    "names = list(map(lambda x: x[0], cursor.description))\n",
    "names"
   ]
  },
  {
   "cell_type": "code",
   "execution_count": null,
   "metadata": {
    "collapsed": false
   },
   "outputs": [],
   "source": [
    "# let's count the songs from each of these artists.\n",
    "# We will do it first by iterating over the dataset.\n",
    "# we prepare a dictionary to count files\n",
    "files_per_artist = {}\n",
    "for aid in all_artist_ids:\n",
    "    files_per_artist[aid] = 0\n",
    "\n",
    "# we prepare the function to check artist id in each file\n",
    "def func_to_count_artist_id(filename):\n",
    "    \"\"\"\n",
    "    This function does 3 simple things:\n",
    "    - open the song file\n",
    "    - get artist ID and put it\n",
    "    - close the file\n",
    "    \"\"\"\n",
    "    h5 = GETTERS.open_h5_file_read(filename)\n",
    "    artist_id = GETTERS.get_artist_id(h5)\n",
    "    files_per_artist[artist_id] += 1\n",
    "    h5.close()\n",
    "\n",
    "# we apply this function to all files\n",
    "apply_to_all_files(msd_subset_data_path,func=func_to_count_artist_id)\n",
    "\n",
    "# the most popular artist (with the most songs) is:\n",
    "most_pop_aid = sorted(files_per_artist,\n",
    "                      key=files_per_artist.__getitem__,\n",
    "                      reverse=True)[0]\n",
    "print most_pop_aid,'has',files_per_artist[most_pop_aid],'songs.'"
   ]
  },
  {
   "cell_type": "code",
   "execution_count": null,
   "metadata": {
    "collapsed": false
   },
   "outputs": [],
   "source": [
    "# of course, it is more fun to have the name(s) of this artist\n",
    "# let's get it using SQLite\n",
    "conn = sqlite3.connect(os.path.join(msd_subset_addf_path,\n",
    "                                    'subset_track_metadata.db'))\n",
    "q = \"SELECT DISTINCT artist_name FROM songs\"\n",
    "q += \" WHERE artist_id='\"+most_pop_aid+\"'\"\n",
    "res = conn.execute(q)\n",
    "pop_artist_names = map(lambda x: x[0], res.fetchall())\n",
    "conn.close()\n",
    "print 'SQL query:',q\n",
    "print 'name(s) of the most popular artist:',pop_artist_names\n",
    "\n",
    "# let's redo all this work in SQLite in a few seconds\n",
    "t1 = time.time()\n",
    "conn = sqlite3.connect(os.path.join(msd_subset_addf_path,\n",
    "                                    'subset_track_metadata.db'))\n",
    "q = \"SELECT DISTINCT artist_id,artist_name,Count(track_id) FROM songs\"\n",
    "q += \" GROUP BY artist_id\"\n",
    "res = conn.execute(q)\n",
    "pop_artists = res.fetchall()\n",
    "conn.close()\n",
    "t2 = time.time()\n",
    "print 'found most popular artist in',strtimedelta(t1,t2)\n",
    "print sorted(pop_artists,key=lambda x:x[2],reverse=True)"
   ]
  },
  {
   "cell_type": "code",
   "execution_count": null,
   "metadata": {
    "collapsed": false
   },
   "outputs": [],
   "source": [
    "h5 = GETTERS.open_h5_file_read('data/MillionSongSubset/AdditionalFiles/subset_msd_summary_file.h5')"
   ]
  },
  {
   "cell_type": "code",
   "execution_count": 51,
   "metadata": {
    "collapsed": false
   },
   "outputs": [
    {
     "name": "stderr",
     "output_type": "stream",
     "text": [
      "/anaconda/lib/python2.7/site-packages/ipykernel/__main__.py:1: DeprecationWarning: getWhereList() is pending deprecation, use get_where_list() instead. You may use the pt2to3 tool to update your source code.\n",
      "  if __name__ == '__main__':\n"
     ]
    },
    {
     "data": {
      "text/plain": [
       "array([ 199, 1282, 1808, 2286, 5882, 6593, 6812, 8275, 8514, 8824, 9709])"
      ]
     },
     "execution_count": 51,
     "metadata": {},
     "output_type": "execute_result"
    }
   ],
   "source": [
    "idxs = h5.root.metadata.songs.getWhereList('artist_name==\"Radiohead\"')\n",
    "idxs"
   ]
  },
  {
   "cell_type": "code",
   "execution_count": 71,
   "metadata": {
    "collapsed": false
   },
   "outputs": [],
   "source": [
    "for energy in h5.root.analysis.songs.cols.danceability:\n",
    "    if energy > 0.0:\n",
    "        print energy"
   ]
  },
  {
   "cell_type": "code",
   "execution_count": 72,
   "metadata": {
    "collapsed": false
   },
   "outputs": [
    {
     "data": {
      "text/plain": [
       "['get_danceability',\n",
       " 'get_song_id',\n",
       " 'get_release',\n",
       " 'get_artist_hotttnesss',\n",
       " 'get_title',\n",
       " 'get_segments_timbre',\n",
       " 'get_artist_longitude',\n",
       " 'get_beats_confidence',\n",
       " 'get_end_of_fade_in',\n",
       " 'get_time_signature',\n",
       " 'get_artist_id',\n",
       " 'get_sections_start',\n",
       " 'get_mode',\n",
       " 'get_loudness',\n",
       " 'get_artist_7digitalid',\n",
       " 'get_artist_terms_freq',\n",
       " 'get_similar_artists',\n",
       " 'get_artist_terms_weight',\n",
       " 'get_mode_confidence',\n",
       " 'get_segments_loudness_max_time',\n",
       " 'get_artist_familiarity',\n",
       " 'get_song_hotttnesss',\n",
       " 'get_time_signature_confidence',\n",
       " 'get_artist_name',\n",
       " 'get_key',\n",
       " 'get_artist_playmeid',\n",
       " 'get_artist_mbtags',\n",
       " 'get_analysis_sample_rate',\n",
       " 'get_year',\n",
       " 'get_key_confidence',\n",
       " 'get_artist_location',\n",
       " 'get_tatums_start',\n",
       " 'get_audio_md5',\n",
       " 'get_bars_start',\n",
       " 'get_bars_confidence',\n",
       " 'get_artist_mbid',\n",
       " 'get_track_7digitalid',\n",
       " 'get_artist_terms',\n",
       " 'get_segments_pitches',\n",
       " 'get_segments_confidence',\n",
       " 'get_segments_loudness_start',\n",
       " 'get_energy',\n",
       " 'get_segments_start',\n",
       " 'get_segments_loudness_max',\n",
       " 'get_duration',\n",
       " 'get_artist_mbtags_count',\n",
       " 'get_release_7digitalid',\n",
       " 'get_tatums_confidence',\n",
       " 'get_track_id',\n",
       " 'get_tempo',\n",
       " 'get_start_of_fade_out',\n",
       " 'get_beats_start',\n",
       " 'get_num_songs',\n",
       " 'get_sections_confidence',\n",
       " 'get_artist_latitude']"
      ]
     },
     "execution_count": 72,
     "metadata": {},
     "output_type": "execute_result"
    }
   ],
   "source": [
    "filter(lambda x: x[:3] == 'get',GETTERS.__dict__.keys())"
   ]
  },
  {
   "cell_type": "code",
   "execution_count": 93,
   "metadata": {
    "collapsed": false
   },
   "outputs": [],
   "source": [
    "h5 = GETTERS.open_h5_file_read('data/MillionSongSubset/data/B/C/B/TRBCBAM128F92E3044.h5')"
   ]
  },
  {
   "cell_type": "code",
   "execution_count": 108,
   "metadata": {
    "collapsed": false
   },
   "outputs": [
    {
     "name": "stdout",
     "output_type": "stream",
     "text": [
      "tempo: 148.363\n",
      "loudness: -4.935\n",
      "mode: 1\n"
     ]
    }
   ],
   "source": [
    "# What metrics can we use?\n",
    "h5 = GETTERS.open_h5_file_read('data/MillionSongSubset/data/B/C/B/TRBCBAM128F92E3044.h5')\n",
    "\n",
    "# We have tempo \n",
    "print \"tempo: {}\".format(GETTERS.get_tempo(h5))\n",
    "\n",
    "# We have loudness\n",
    "print \"loudness: {}\".format(GETTERS.get_loudness(h5))\n",
    "\n",
    "# We have mode\n",
    "print \"mode: {}\".format(GETTERS.get_mode(h5))"
   ]
  },
  {
   "cell_type": "code",
   "execution_count": null,
   "metadata": {
    "collapsed": true
   },
   "outputs": [],
   "source": []
  }
 ],
 "metadata": {
  "kernelspec": {
   "display_name": "Python 2",
   "language": "python",
   "name": "python2"
  },
  "language_info": {
   "codemirror_mode": {
    "name": "ipython",
    "version": 2
   },
   "file_extension": ".py",
   "mimetype": "text/x-python",
   "name": "python",
   "nbconvert_exporter": "python",
   "pygments_lexer": "ipython2",
   "version": "2.7.12"
  }
 },
 "nbformat": 4,
 "nbformat_minor": 0
}
