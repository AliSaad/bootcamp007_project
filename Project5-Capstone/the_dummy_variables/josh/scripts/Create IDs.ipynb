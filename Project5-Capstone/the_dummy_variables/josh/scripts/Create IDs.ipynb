{
 "cells": [
  {
   "cell_type": "code",
   "execution_count": 12,
   "metadata": {
    "collapsed": false
   },
   "outputs": [],
   "source": [
    "# Read kaggle songs\n",
    "songs_to_index = {}\n",
    "with open('data/kaggle_songs.txt', 'r') as f:\n",
    "    for line in f.readlines():\n",
    "        key, val = line.strip().split(' ')\n",
    "        songs_to_index[key] = val"
   ]
  },
  {
   "cell_type": "code",
   "execution_count": 13,
   "metadata": {
    "collapsed": true
   },
   "outputs": [],
   "source": [
    "# Read kaggle users\n",
    "users_to_index = {}\n",
    "with open('data/kaggle_users.txt', 'r') as f:\n",
    "    for i, line in enumerate(f.readlines()):\n",
    "        val = line.strip()\n",
    "        users_to_index[val] = str(i + 1)"
   ]
  },
  {
   "cell_type": "code",
   "execution_count": 17,
   "metadata": {
    "collapsed": false
   },
   "outputs": [],
   "source": [
    "# Load triplets\n",
    "# Convert user and songs ids to their corresponding integer indices\n",
    "with open('data/year1_valid_triplets_visible.txt', 'r') as f:\n",
    "    with open('data/valid_triplets_ratings.txt', 'w') as f2:\n",
    "        for line in f.readlines():\n",
    "            user_id, song_id, play_count = line.strip().split('\\t')\n",
    "            f2.write(users_to_index[user_id] + ',' + songs_to_index[song_id] + ',' + play_count + '\\n')"
   ]
  },
  {
   "cell_type": "code",
   "execution_count": 21,
   "metadata": {
    "collapsed": false
   },
   "outputs": [],
   "source": [
    "songs = [s.split('\\t')[1] for s in open('data/year1_valid_triplets_visible.txt', 'r').readlines()]"
   ]
  },
  {
   "cell_type": "code",
   "execution_count": 22,
   "metadata": {
    "collapsed": false
   },
   "outputs": [
    {
     "data": {
      "text/plain": [
       "49028"
      ]
     },
     "execution_count": 22,
     "metadata": {},
     "output_type": "execute_result"
    }
   ],
   "source": [
    "len(set(songs))"
   ]
  },
  {
   "cell_type": "code",
   "execution_count": null,
   "metadata": {
    "collapsed": true
   },
   "outputs": [],
   "source": []
  }
 ],
 "metadata": {
  "kernelspec": {
   "display_name": "Python 2",
   "language": "python",
   "name": "python2"
  },
  "language_info": {
   "codemirror_mode": {
    "name": "ipython",
    "version": 2
   },
   "file_extension": ".py",
   "mimetype": "text/x-python",
   "name": "python",
   "nbconvert_exporter": "python",
   "pygments_lexer": "ipython2",
   "version": "2.7.12"
  }
 },
 "nbformat": 4,
 "nbformat_minor": 0
}
